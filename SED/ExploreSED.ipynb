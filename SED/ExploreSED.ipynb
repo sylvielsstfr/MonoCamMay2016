{
 "cells": [
  {
   "cell_type": "markdown",
   "metadata": {},
   "source": [
    "## Explore fits spectra from Calspec\n",
    "============================================\n",
    "\n",
    "- author : Sylvie Dagoret-Campagne\n",
    "- creation date June 16th 2016\n",
    "\n",
    "The purpose is to view the spectrum of the stars measured in Monocam \n",
    "\n",
    "ftp://ftp.stsci.edu/cdbs/current_calspec/\n"
   ]
  },
  {
   "cell_type": "code",
   "execution_count": 200,
   "metadata": {
    "collapsed": true
   },
   "outputs": [],
   "source": [
    "import numpy as np\n",
    "import matplotlib.pyplot as plt\n",
    "%matplotlib inline"
   ]
  },
  {
   "cell_type": "code",
   "execution_count": 201,
   "metadata": {
    "collapsed": true
   },
   "outputs": [],
   "source": [
    "from astropy.io import fits"
   ]
  },
  {
   "cell_type": "code",
   "execution_count": 202,
   "metadata": {
    "collapsed": true
   },
   "outputs": [],
   "source": [
    "import os"
   ]
  },
  {
   "cell_type": "code",
   "execution_count": 203,
   "metadata": {
    "collapsed": true
   },
   "outputs": [],
   "source": [
    "path='/Users/dagoret-campagnesylvie/iraf/hdstar_images'"
   ]
  },
  {
   "cell_type": "markdown",
   "metadata": {},
   "source": [
    "/Users/dagoret-campagnesylvie/iraf/hdstar_images>ls\n",
    "- hd158485_stis_001.fits\t\n",
    "- hd158485_stis_002.fits\t\n",
    "- hd158485_stis_003.fits\n",
    "- hd159222_stis_001.fits\n",
    "- hd159222_stis_002.fits\n",
    "- hd159222_stis_003.fits\n",
    "- hd163466_stis_001.fits\n",
    "- hd163466_stis_002.fits\n",
    "- hd163466_stis_003.fits"
   ]
  },
  {
   "cell_type": "code",
   "execution_count": 204,
   "metadata": {
    "collapsed": true
   },
   "outputs": [],
   "source": [
    "#basefilename='hd158485_stis_003.fits'\n",
    "#basefilename='hd159222_stis_003.fits'\n",
    "basefilename='hd163466_stis_002.fits'"
   ]
  },
  {
   "cell_type": "code",
   "execution_count": 205,
   "metadata": {
    "collapsed": true
   },
   "outputs": [],
   "source": [
    "file=os.path.join(path,basefilename)"
   ]
  },
  {
   "cell_type": "code",
   "execution_count": 206,
   "metadata": {
    "collapsed": false
   },
   "outputs": [],
   "source": [
    "#fits.tabledump(file) # Not working"
   ]
  },
  {
   "cell_type": "code",
   "execution_count": 207,
   "metadata": {
    "collapsed": true
   },
   "outputs": [],
   "source": [
    "hdulist=fits.open(file)"
   ]
  },
  {
   "cell_type": "code",
   "execution_count": 208,
   "metadata": {
    "collapsed": false
   },
   "outputs": [
    {
     "name": "stdout",
     "output_type": "stream",
     "text": [
      "Filename: /Users/dagoret-campagnesylvie/iraf/hdstar_images/hd163466_stis_002.fits\n",
      "No.    Name         Type      Cards   Dimensions   Format\n",
      "0    PRIMARY     PrimaryHDU      71   ()              \n",
      "1    SCI         BinTableHDU     39   4685R x 7C   [1E, 1E, 1E, 1E, 1E, 1I, 1E]   \n"
     ]
    }
   ],
   "source": [
    "hdulist.info()"
   ]
  },
  {
   "cell_type": "markdown",
   "metadata": {},
   "source": [
    "## Primary extension"
   ]
  },
  {
   "cell_type": "code",
   "execution_count": 209,
   "metadata": {
    "collapsed": false
   },
   "outputs": [
    {
     "data": {
      "text/plain": [
       "SIMPLE  =                    T / Fits standard                                  \n",
       "BITPIX  =                   16 / Bits per pixel                                 \n",
       "NAXIS   =                    0 / Number of axes                                 \n",
       "EXTEND  =                    T / File may contain extensions                    \n",
       "ORIGIN  = 'NOAO-IRAF FITS Image Kernel July 2003' / FITS file originator        \n",
       "DATE    = '2015-01-06T17:00:20' / Date FITS file was generated                  \n",
       "IRAF-TLM= '2015-01-06T17:00:24' / Time of last modification                     \n",
       "TARGETID= 'HD163466'           /                                                \n",
       "DBTABLE = 'CRSPECTRUM'         /                                                \n",
       "AIRMASS =              0.00000 /mean airmass of the observation                 \n",
       "DESCRIP = 'Standard star flux with a new STIS calibration-------' /             \n",
       "SOURCE  = 'Flux scale of Bohlin & Gordon Review, in prep.' /                    \n",
       "SOURCE2 = 'Bohlin 2010, AJ, 139, 1515' /                                        \n",
       "USEAFTER= 'Jan 01 2000 00:00:00' /                                              \n",
       "COMMENT = 'HST Flux scale is based on Rauch WD NLTE MODELS' /                   \n",
       "PEDIGREE= 'INFLIGHT 18/05/1997 31/12/2014' /                                    \n",
       "HISTORY FILE WRITTEN BY stismrg.PRO ON 18-Feb-2014 14:11:09.00                  \n",
       "HISTORY FILE WRITTEN BY STISREDUCE.PRO ON 18-Feb-2014 14:11:08.00               \n",
       "HISTORY coadd lst for G140L:                                                    \n",
       "HISTORY  obto04010                                                              \n",
       "HISTORY EPOCH: 2012.245:04:38:35-2012.245:04:38:35                              \n",
       "HISTORY SYS-ERROR is the broadband 1% INTERNAL repeatability of STIS fluxes.    \n",
       "HISTORY IN ADDITION, THERE IS A SYSTEMATIC UNCERTAINTY IN THE ABS CALIB OF ~2-4%\n",
       "HISTORY     Bohlin (2000,AJ,120,437). BOTH THE STAT-ERR AND SYS-ERR ARE 1-SIGMA.\n",
       "HISTORY G140L Net & Flux corr. for time,temp effects(Stys,etal. STIS ISR 2004-04\n",
       "HISTORY coadd lst for G230LB:                                                   \n",
       "HISTORY  obto04020                                                              \n",
       "HISTORY EPOCH: 2012.245:04:50:51-2012.245:04:50:51                              \n",
       "HISTORY G230LB Net & Flux corr. for time & CTE loss (STIS ISRs 04-04 & 06-03).  \n",
       "HISTORY MERGE POINT = 1678.0                                                    \n",
       "HISTORY coadd lst for G430L:                                                    \n",
       "HISTORY  obto04030 obto04040                                                    \n",
       "HISTORY EPOCH: 2012.245:04:59:53-2012.245:05:08:52                              \n",
       "HISTORY G430L Net and Flux corr. for time & CTE loss (STIS ISRs 04-04 & 06-03). \n",
       "HISTORY MERGE POINT = 3065.0                                                    \n",
       "HISTORY coadd lst for G750L:                                                    \n",
       "HISTORY  obto04050                                                              \n",
       "HISTORY EPOCH: 2012.245:05:12:21-2012.245:05:12:21                              \n",
       "HISTORY G750L Net and Flux corr. for time & CTE loss (STIS ISRs 04-04 & 06-03). \n",
       "HISTORY MERGE POINT = 5450.0                                                    \n",
       "HISTORY                                                                         \n",
       "HISTORY Units: Angstroms(A) and erg s-1 cm-2 A-1                                \n",
       "HISTORY  All wavelengths are in vacuum.                                         \n",
       "HISTORY  Written by MAKE_STIS_CALSPEC.pro  25-Feb-2014                          \n",
       "HISTORY  Sources for this spectrum:                                             \n",
       "HISTORY ----------------   ----------------------   ----------                  \n",
       "HISTORY WAVELENGTH RANGE         SOURCE                FILE                     \n",
       "HISTORY ----------------   ----------------------   ----------                  \n",
       "HISTORY  1140   10120       STIS                    hd163466.mrg                \n",
       "HISTORY 10120  400000       CK04 Model              CK04 grid                   \n",
       "HISTORY Model with Teff,log g,log z,E(B-V)= 7880  3.60 -0.56 0.030              \n",
       "HISTORY Normalized to Obs. Flux at 6000-9000A                                   \n",
       "HISTORY CHANGES from previous version:                                          \n",
       "HISTORY   The HST flux scale is now ~0.6% fainter because of                    \n",
       "HISTORY   the reconciliation of absolute visible and IR fluxes                  \n",
       "HISTORY   (Bohlin 2014, AJ, in press)                                           \n",
       "HISTORY For details see:                                                        \n",
       "HISTORY   http://www.stsci.edu/hst/observatory/cdbs/calspec.html                \n",
       "FILENAME= 'hd163466_stis_002.fits' /                                            \n",
       "WMIN    =              1140.15 /Minumum Wavelength                              \n",
       "WMAX    =              400000. /Maximum Wavelength                              \n",
       "                                                                                \n",
       "                                                                                \n",
       "                                                                                \n",
       "                                                                                \n",
       "                                                                                \n",
       "                                                                                \n",
       "                                                                                \n",
       "                                                                                \n",
       "                                                                                \n",
       "                                                                                "
      ]
     },
     "execution_count": 209,
     "metadata": {},
     "output_type": "execute_result"
    }
   ],
   "source": [
    "hdulist[0].header"
   ]
  },
  {
   "cell_type": "code",
   "execution_count": 210,
   "metadata": {
    "collapsed": false
   },
   "outputs": [
    {
     "name": "stdout",
     "output_type": "stream",
     "text": [
      "['SIMPLE', 'BITPIX', 'NAXIS', 'EXTEND', 'ORIGIN', 'DATE', 'IRAF-TLM', 'TARGETID', 'DBTABLE', 'AIRMASS', 'DESCRIP', 'SOURCE', 'SOURCE2', 'USEAFTER', 'COMMENT', 'PEDIGREE', 'HISTORY', 'HISTORY', 'HISTORY', 'HISTORY', 'HISTORY', 'HISTORY', 'HISTORY', 'HISTORY', 'HISTORY', 'HISTORY', 'HISTORY', 'HISTORY', 'HISTORY', 'HISTORY', 'HISTORY', 'HISTORY', 'HISTORY', 'HISTORY', 'HISTORY', 'HISTORY', 'HISTORY', 'HISTORY', 'HISTORY', 'HISTORY', 'HISTORY', 'HISTORY', 'HISTORY', 'HISTORY', 'HISTORY', 'HISTORY', 'HISTORY', 'HISTORY', 'HISTORY', 'HISTORY', 'HISTORY', 'HISTORY', 'HISTORY', 'HISTORY', 'HISTORY', 'HISTORY', 'HISTORY', 'HISTORY', 'FILENAME', 'WMIN', 'WMAX', '', '', '', '', '', '', '', '', '', '']\n"
     ]
    }
   ],
   "source": [
    "print hdulist[0].header.keys()"
   ]
  },
  {
   "cell_type": "markdown",
   "metadata": {},
   "source": [
    "## Secondary extension"
   ]
  },
  {
   "cell_type": "code",
   "execution_count": 211,
   "metadata": {
    "collapsed": false
   },
   "outputs": [
    {
     "data": {
      "text/plain": [
       "XTENSION= 'BINTABLE'           /Written by IDL:  Tue Feb 25 10:45:19 2014       \n",
       "BITPIX  =                    8 /                                                \n",
       "NAXIS   =                    2 /Binary table                                    \n",
       "NAXIS1  =                   26 /Number of bytes per row                         \n",
       "NAXIS2  =                 4685 /Number of rows                                  \n",
       "PCOUNT  =                    0 /Random parameter count                          \n",
       "GCOUNT  =                    1 /Group count                                     \n",
       "TFIELDS =                    7 /Number of columns                               \n",
       "EXTNAME = 'SCI     '           /                                                \n",
       "EXTVER  =                    1 /                                                \n",
       "INHERIT =                    T /                                                \n",
       "TFORM1  = '1E      '           /Real*4 (floating point)                         \n",
       "TTYPE1  = 'WAVELENGTH'         /Label for column 1                              \n",
       "TUNIT1  = 'ANGSTROMS'          /Units of column 1                               \n",
       "TDISP1  = 'G10.4   '           /Display format for column 1                     \n",
       "TFORM2  = '1E      '           /Real*4 (floating point)                         \n",
       "TTYPE2  = 'FLUX    '           /Absolutely calibrated net spectrum              \n",
       "TUNIT2  = 'FLAM    '           /Units of column 2                               \n",
       "TDISP2  = 'E12.4   '           /Display format for column 2                     \n",
       "TFORM3  = '1E      '           /Real*4 (floating point)                         \n",
       "TTYPE3  = 'STATERROR'          /Statistical flux error                          \n",
       "TUNIT3  = 'FLAM    '           /Units of column 3                               \n",
       "TDISP3  = 'E12.4   '           /Display format for column 3                     \n",
       "TFORM4  = '1E      '           /Real*4 (floating point)                         \n",
       "TTYPE4  = 'SYSERROR'           /Systematic flux error=0.01*FLAM                 \n",
       "TUNIT4  = 'FLAM    '           /Units of column 4                               \n",
       "TDISP4  = 'E12.4   '           /Display format for column 4                     \n",
       "TFORM5  = '1E      '           /Real*4 (floating point)                         \n",
       "TTYPE5  = 'FWHM    '           /FWHM spectral resolution                        \n",
       "TUNIT5  = 'ANGSTROMS'          /Units of column 5                               \n",
       "TDISP5  = 'G6.2    '           /Display format for column 5                     \n",
       "TFORM6  = '1I      '           /Integer*2 (short integer)                       \n",
       "TTYPE6  = 'DATAQUAL'           /Data quality: 1=good, 0=bad                     \n",
       "TUNIT6  = 'NONE    '           /Units of column 6                               \n",
       "TDISP6  = 'I2      '           /Display format for column 6                     \n",
       "TFORM7  = '1E      '           /Real*4 (floating point)                         \n",
       "TTYPE7  = 'TOTEXP  '           /Total exposure time                             \n",
       "TUNIT7  = 'SEC     '           /Units of column 7                               \n",
       "TDISP7  = 'G10.2   '           /Display format for column 7                     "
      ]
     },
     "execution_count": 211,
     "metadata": {},
     "output_type": "execute_result"
    }
   ],
   "source": [
    "hdulist[1].header"
   ]
  },
  {
   "cell_type": "code",
   "execution_count": 212,
   "metadata": {
    "collapsed": false
   },
   "outputs": [],
   "source": [
    "table_data=hdulist[1].data"
   ]
  },
  {
   "cell_type": "code",
   "execution_count": 213,
   "metadata": {
    "collapsed": false
   },
   "outputs": [],
   "source": [
    "wavelength=table_data['WAVELENGTH'] # in Angstrom"
   ]
  },
  {
   "cell_type": "code",
   "execution_count": 214,
   "metadata": {
    "collapsed": false
   },
   "outputs": [
    {
     "data": {
      "text/plain": [
       "ColDefs(\n",
       "    name = 'WAVELENGTH'; format = '1E'; unit = 'ANGSTROMS'; disp = 'G10.4'\n",
       "    name = 'FLUX'; format = '1E'; unit = 'FLAM'; disp = 'E12.4'\n",
       "    name = 'STATERROR'; format = '1E'; unit = 'FLAM'; disp = 'E12.4'\n",
       "    name = 'SYSERROR'; format = '1E'; unit = 'FLAM'; disp = 'E12.4'\n",
       "    name = 'FWHM'; format = '1E'; unit = 'ANGSTROMS'; disp = 'G6.2'\n",
       "    name = 'DATAQUAL'; format = '1I'; unit = 'NONE'; disp = 'I2'\n",
       "    name = 'TOTEXP'; format = '1E'; unit = 'SEC'; disp = 'G10.2'\n",
       ")"
      ]
     },
     "execution_count": 214,
     "metadata": {},
     "output_type": "execute_result"
    }
   ],
   "source": [
    "table_data.columns  # shows the columns names of the table"
   ]
  },
  {
   "cell_type": "code",
   "execution_count": 215,
   "metadata": {
    "collapsed": false
   },
   "outputs": [],
   "source": [
    "wavelengths=table_data.field('WAVELENGTH')"
   ]
  },
  {
   "cell_type": "code",
   "execution_count": 216,
   "metadata": {
    "collapsed": true
   },
   "outputs": [],
   "source": [
    "fluxes=table_data.field('FLUX')"
   ]
  },
  {
   "cell_type": "code",
   "execution_count": 217,
   "metadata": {
    "collapsed": false
   },
   "outputs": [
    {
     "name": "stdout",
     "output_type": "stream",
     "text": [
      "SED_hd163466_stis_002.pdf\n"
     ]
    },
    {
     "data": {
      "image/png": "[encoded data removed]",
      "text/plain": [
       "<matplotlib.figure.Figure at 0x10f587cd0>"
      ]
     },
     "metadata": {},
     "output_type": "display_data"
    }
   ],
   "source": [
    "plt.figure(figsize=(8.,6.))\n",
    "plt.plot(wavelengths,fluxes)\n",
    "title='SED for {}'.format(basefilename)\n",
    "figfilename='SED_{}'.format(basefilename.split('.')[0])+'.pdf'\n",
    "print figfilename\n",
    "plt.xlabel('$\\lambda$ (A)')\n",
    "plt.ylabel('Flux in FLAM')\n",
    "plt.title(title)\n",
    "plt.xlim(0.,15000.)\n",
    "plt.savefig(figfilename)"
   ]
  },
  {
   "cell_type": "code",
   "execution_count": null,
   "metadata": {
    "collapsed": true
   },
   "outputs": [],
   "source": []
  }
 ],
 "metadata": {
  "kernelspec": {
   "display_name": "Python 2",
   "language": "python",
   "name": "python2"
  },
  "language_info": {
   "codemirror_mode": {
    "name": "ipython",
    "version": 2
   },
   "file_extension": ".py",
   "mimetype": "text/x-python",
   "name": "python",
   "nbconvert_exporter": "python",
   "pygments_lexer": "ipython2",
   "version": "2.7.11"
  }
 },
 "nbformat": 4,
 "nbformat_minor": 0
}
