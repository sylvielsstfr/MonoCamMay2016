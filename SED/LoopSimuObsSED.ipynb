{
 "cells": [
  {
   "cell_type": "markdown",
   "metadata": {},
   "source": [
    "# Generate  simulations of a SED including atmospheric effect and detector effect\n",
    "\n",
    "\n",
    "- Author : Sylvie Dagoret-Campagne\n",
    "- Date of creation :  July 4th 2016\n",
    "\n",
    "\n",
    "- Original SED can be found here :\n",
    "\n",
    "ftp://ftp.stsci.edu/cdbs/current_calspec/\n",
    "\n"
   ]
  },
  {
   "cell_type": "code",
   "execution_count": 1,
   "metadata": {
    "collapsed": false
   },
   "outputs": [
    {
     "name": "stderr",
     "output_type": "stream",
     "text": [
      "/Users/dagoret-campagnesylvie/anaconda/envs/pyastrophys/lib/python2.7/site-packages/matplotlib/__init__.py:872: UserWarning: axes.color_cycle is deprecated and replaced with axes.prop_cycle; please use the latter.\n",
      "  warnings.warn(self.msg_depr % (key, alt_key))\n"
     ]
    }
   ],
   "source": [
    "import numpy as np\n",
    "\n",
    "%config InlineBackend.rc = {}\n",
    "import matplotlib\n",
    "matplotlib.rc_file(\"../templates/matplotlibrc\")\n",
    "\n",
    "import matplotlib.pyplot as plt\n",
    "%matplotlib inline\n",
    "\n",
    "import pandas as pd\n"
   ]
  },
  {
   "cell_type": "code",
   "execution_count": 2,
   "metadata": {
    "collapsed": true
   },
   "outputs": [],
   "source": [
    "from astropy.io import fits"
   ]
  },
  {
   "cell_type": "code",
   "execution_count": 3,
   "metadata": {
    "collapsed": true
   },
   "outputs": [],
   "source": [
    "import os"
   ]
  },
  {
   "cell_type": "code",
   "execution_count": 4,
   "metadata": {
    "collapsed": true
   },
   "outputs": [],
   "source": [
    "from scipy.interpolate import UnivariateSpline"
   ]
  },
  {
   "cell_type": "markdown",
   "metadata": {},
   "source": [
    "## Calspec SED"
   ]
  },
  {
   "cell_type": "code",
   "execution_count": 5,
   "metadata": {
    "collapsed": true
   },
   "outputs": [],
   "source": [
    "path_sed='calspec'\n",
    "basefile_sed='hd158485_stis_003.fits'\n",
    "obj_name='hd158485'\n",
    "night_name='20160510'"
   ]
  },
  {
   "cell_type": "code",
   "execution_count": 6,
   "metadata": {
    "collapsed": false
   },
   "outputs": [],
   "source": [
    "file_sed=os.path.join(path_sed,basefile_sed)"
   ]
  },
  {
   "cell_type": "code",
   "execution_count": 7,
   "metadata": {
    "collapsed": true
   },
   "outputs": [],
   "source": [
    "hdulist=fits.open(file_sed)\n",
    "#hdulist.info()"
   ]
  },
  {
   "cell_type": "code",
   "execution_count": 8,
   "metadata": {
    "collapsed": true
   },
   "outputs": [],
   "source": [
    "table_data=hdulist[1].data"
   ]
  },
  {
   "cell_type": "code",
   "execution_count": 9,
   "metadata": {
    "collapsed": true
   },
   "outputs": [],
   "source": [
    "wavelength_sed=(table_data.field('WAVELENGTH'))/10.   # convert the wavelength into nm\n",
    "flux_sed=table_data.field('FLUX')"
   ]
  },
  {
   "cell_type": "code",
   "execution_count": 10,
   "metadata": {
    "collapsed": true
   },
   "outputs": [],
   "source": [
    "selected_indexes=np.where(np.logical_and(wavelength_sed>=0, wavelength_sed<1000.))"
   ]
  },
  {
   "cell_type": "code",
   "execution_count": 11,
   "metadata": {
    "collapsed": true
   },
   "outputs": [],
   "source": [
    "wavelength_sed=wavelength_sed[selected_indexes]\n",
    "flux_sed=flux_sed[selected_indexes]"
   ]
  },
  {
   "cell_type": "markdown",
   "metadata": {},
   "source": [
    "## Detector"
   ]
  },
  {
   "cell_type": "code",
   "execution_count": 12,
   "metadata": {
    "collapsed": true
   },
   "outputs": [],
   "source": [
    "path_ccd='detectoreffect'\n",
    "basefile_ccd='transmissions-LSST.dat'"
   ]
  },
  {
   "cell_type": "code",
   "execution_count": 13,
   "metadata": {
    "collapsed": true
   },
   "outputs": [],
   "source": [
    "file_ccd=os.path.join(path_ccd,basefile_ccd)"
   ]
  },
  {
   "cell_type": "code",
   "execution_count": 14,
   "metadata": {
    "collapsed": true
   },
   "outputs": [],
   "source": [
    "df=pd.read_csv(file_ccd,names=['wl','Topt','Tccd','U','G','R','I','Z','Y4','atm'],sep='\\t')"
   ]
  },
  {
   "cell_type": "code",
   "execution_count": 15,
   "metadata": {
    "collapsed": true
   },
   "outputs": [],
   "source": [
    "wavelength_ccd=df['wl']\n",
    "efficiency_ccd=df['Tccd']/100.\n",
    "transmission_opt=df['Topt']/100."
   ]
  },
  {
   "cell_type": "code",
   "execution_count": 16,
   "metadata": {
    "collapsed": true
   },
   "outputs": [],
   "source": [
    "TOPT=np.interp(wavelength_sed,wavelength_ccd,transmission_opt)\n",
    "TCCD=np.interp(wavelength_sed,wavelength_ccd,efficiency_ccd)"
   ]
  },
  {
   "cell_type": "markdown",
   "metadata": {
    "collapsed": false
   },
   "source": [
    "## Loop on atmospheric files"
   ]
  },
  {
   "cell_type": "code",
   "execution_count": 17,
   "metadata": {
    "collapsed": false
   },
   "outputs": [],
   "source": [
    "path_atm='libradtran/monocam_2016-05-10/afglus'\n",
    "root_file='UVSPEC_REPTRAN_SOLAR_ALT22_COARSE_'\n",
    "ext_file='.out'"
   ]
  },
  {
   "cell_type": "code",
   "execution_count": 18,
   "metadata": {
    "collapsed": true
   },
   "outputs": [],
   "source": [
    "numstart=1\n",
    "numstop=13"
   ]
  },
  {
   "cell_type": "code",
   "execution_count": 19,
   "metadata": {
    "collapsed": true
   },
   "outputs": [],
   "source": [
    "file_indexes=np.arange(numstart,numstop+1)"
   ]
  },
  {
   "cell_type": "code",
   "execution_count": 20,
   "metadata": {
    "collapsed": false
   },
   "outputs": [
    {
     "data": {
      "image/png": "[encoded data removed]",
      "text/plain": [
       "<matplotlib.figure.Figure at 0x10ac435d0>"
      ]
     },
     "metadata": {},
     "output_type": "display_data"
    }
   ],
   "source": [
    "plt.figure(figsize=(20,10))\n",
    "\n",
    "for idx,fileindex in np.ndenumerate(file_indexes):\n",
    "    \n",
    "    if fileindex != 102:\n",
    "        basefile_atm=root_file+str(fileindex)+ext_file     # input file\n",
    "\n",
    "        #print basefile_atm\n",
    "    \n",
    "        file_atm=os.path.join(path_atm,basefile_atm)\n",
    "\n",
    "        atm_array=np.loadtxt(file_atm)\n",
    "        wavelength_atm=atm_array[:,0] # in nm\n",
    "        transmission_atm=atm_array[:,1]\n",
    "    \n",
    "        selected_wlindexes=np.where(np.logical_and(wavelength_atm>=0, wavelength_atm<1000.))\n",
    "        wavelength_atm=wavelength_atm[selected_wlindexes]\n",
    "        transmission_atm=transmission_atm[selected_wlindexes]\n",
    "    \n",
    "        TATM=np.interp(wavelength_sed,wavelength_atm,transmission_atm)\n",
    "    \n",
    "        SED1=flux_sed\n",
    "        SED2=flux_sed*TCCD\n",
    "        SED3=flux_sed*TCCD*TATM\n",
    "        SED4=flux_sed*TCCD*TATM*TOPT\n",
    "        #save the file\n",
    "\n",
    "        tablefitsfile='SEDPred_'+obj_name+'_'+night_name+'_'+str(fileindex)+'.fits'  # output file\n",
    "    \n",
    "        prim_hdr=fits.Header()\n",
    "        prim_hdr['OBJ_NAME']=obj_name\n",
    "        prim_hdr['UNITS']='wavelength in nm'\n",
    "        prim_hdr['COMMENT']=\"Prediction of observable SED\"\n",
    "        primhdu=fits.PrimaryHDU(header=prim_hdr)\n",
    "    \n",
    "        col1 = fits.Column(name='WAVELENGTH', format='E', array=wavelength_sed)\n",
    "        col2 = fits.Column(name='SEDcalspec', format='E', array=SED1)\n",
    "        col3 = fits.Column(name='SEDxQE', format='E', array=SED2)\n",
    "        col4 = fits.Column(name='SEDxQExATM', format='E', array=SED3)\n",
    "        col5 = fits.Column(name='SEDxQExATMxTopt', format='E', array=SED4)\n",
    "    \n",
    "        cols = fits.ColDefs([col1, col2,col3,col4,col5])     # definition of the column\n",
    "        tbhdu = fits.BinTableHDU.from_columns(cols)     # new binary table HDU\n",
    "    \n",
    "        thdulist = fits.HDUList([primhdu, tbhdu])\n",
    "        thdulist.writeto(tablefitsfile,clobber=True)\n",
    "        \n",
    "        plt.plot(wavelength_sed,SED4,color='b')\n",
    "        \n",
    "        "
   ]
  },
  {
   "cell_type": "code",
   "execution_count": null,
   "metadata": {
    "collapsed": true
   },
   "outputs": [],
   "source": []
  }
 ],
 "metadata": {
  "kernelspec": {
   "display_name": "Python 2",
   "language": "python",
   "name": "python2"
  },
  "language_info": {
   "codemirror_mode": {
    "name": "ipython",
    "version": 2
   },
   "file_extension": ".py",
   "mimetype": "text/x-python",
   "name": "python",
   "nbconvert_exporter": "python",
   "pygments_lexer": "ipython2",
   "version": "2.7.12"
  }
 },
 "nbformat": 4,
 "nbformat_minor": 0
}
