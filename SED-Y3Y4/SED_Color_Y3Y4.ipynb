{
 "cells": [
  {
   "cell_type": "markdown",
   "metadata": {},
   "source": [
    "# Calculate the color Y3-Y4 for different conditions of PWV\n",
    "\n",
    "\n",
    "Author : Sylvie Dagoret-Campagne\n",
    "- Date of creation :  July 10th 2016\n",
    "\n",
    "\n",
    "- Original SED can be found here :\n",
    "\n",
    "ftp://ftp.stsci.edu/cdbs/current_calspec/\n",
    "\n"
   ]
  },
  {
   "cell_type": "code",
   "execution_count": 215,
   "metadata": {
    "collapsed": false
   },
   "outputs": [],
   "source": [
    "import numpy as np\n",
    "\n",
    "%config InlineBackend.rc = {}\n",
    "import matplotlib\n",
    "matplotlib.rc_file(\"../templates/matplotlibrc\")\n",
    "\n",
    "import matplotlib.pyplot as plt\n",
    "%matplotlib inline\n",
    "\n",
    "import pandas as pd\n",
    "\n",
    "from astropy.io import fits\n"
   ]
  },
  {
   "cell_type": "code",
   "execution_count": 216,
   "metadata": {
    "collapsed": true
   },
   "outputs": [],
   "source": [
    "pwv_name=['pwv00_','pwv01_','pwv02_','pwv03_','pwv04_',\n",
    "          'pwv05_','pwv10_','pwv15_','pwv20_','pwv25_','pwv30_','pwv35_','pwv40_',\n",
    "          'pwv45_','pwv50_','pwv55_','pwv60_','pwv65_','pwv70_','pwv75_','pwv80_']"
   ]
  },
  {
   "cell_type": "code",
   "execution_count": 217,
   "metadata": {
    "collapsed": false
   },
   "outputs": [],
   "source": [
    "pwv_values=np.array([0.,0.1,0.2,0.3,0.4,0.5,1.,1.5,2.,2.5,3.,3.5,4.,4.5,5.,5.5,6.0,6.5,7.,7.5,8.])"
   ]
  },
  {
   "cell_type": "code",
   "execution_count": 218,
   "metadata": {
    "collapsed": true
   },
   "outputs": [],
   "source": [
    "NBPWV=pwv_values.shape[0]"
   ]
  },
  {
   "cell_type": "code",
   "execution_count": 219,
   "metadata": {
    "collapsed": true
   },
   "outputs": [],
   "source": [
    "obj_name='hd163466'"
   ]
  },
  {
   "cell_type": "markdown",
   "metadata": {},
   "source": [
    "# Y3"
   ]
  },
  {
   "cell_type": "code",
   "execution_count": 220,
   "metadata": {
    "collapsed": true
   },
   "outputs": [],
   "source": [
    "night_name='20160509-y3'"
   ]
  },
  {
   "cell_type": "code",
   "execution_count": 221,
   "metadata": {
    "collapsed": true
   },
   "outputs": [],
   "source": [
    "numstart=1\n",
    "numstop=10"
   ]
  },
  {
   "cell_type": "code",
   "execution_count": 222,
   "metadata": {
    "collapsed": true
   },
   "outputs": [],
   "source": [
    "indexes_y3=np.arange(numstart,numstop+1)"
   ]
  },
  {
   "cell_type": "code",
   "execution_count": 223,
   "metadata": {
    "collapsed": true
   },
   "outputs": [],
   "source": [
    "NBFILES_Y3=indexes_y3.shape[0]"
   ]
  },
  {
   "cell_type": "code",
   "execution_count": 224,
   "metadata": {
    "collapsed": false
   },
   "outputs": [],
   "source": [
    "all_file_list_y3= []\n",
    "for idx,pwvname in enumerate(pwv_name):\n",
    "    filelist=['SEDPred_'+obj_name+'_'+night_name+'_'+pwvname+str(fileindex)+'.fits' for fileindex in indexes_y3 ]\n",
    "    all_file_list_y3.append(filelist)"
   ]
  },
  {
   "cell_type": "markdown",
   "metadata": {},
   "source": [
    "# Y4\n"
   ]
  },
  {
   "cell_type": "code",
   "execution_count": 225,
   "metadata": {
    "collapsed": true
   },
   "outputs": [],
   "source": [
    "night_name='20160509-y4'"
   ]
  },
  {
   "cell_type": "code",
   "execution_count": 226,
   "metadata": {
    "collapsed": true
   },
   "outputs": [],
   "source": [
    "numstart=1\n",
    "numstop=8"
   ]
  },
  {
   "cell_type": "code",
   "execution_count": 227,
   "metadata": {
    "collapsed": true
   },
   "outputs": [],
   "source": [
    "indexes_y4=np.arange(numstart,numstop+1)"
   ]
  },
  {
   "cell_type": "code",
   "execution_count": 228,
   "metadata": {
    "collapsed": true
   },
   "outputs": [],
   "source": [
    "NBFILES_Y4=indexes_y4.shape[0]"
   ]
  },
  {
   "cell_type": "code",
   "execution_count": 229,
   "metadata": {
    "collapsed": true
   },
   "outputs": [],
   "source": [
    "all_file_list_y4= []\n",
    "for idx,pwvname in enumerate(pwv_name):\n",
    "    filelist=['SEDPred_'+obj_name+'_'+night_name+'_'+pwvname+str(fileindex)+'.fits' for fileindex in indexes_y4 ]\n",
    "    all_file_list_y4.append(filelist)"
   ]
  },
  {
   "cell_type": "code",
   "execution_count": 230,
   "metadata": {
    "collapsed": false
   },
   "outputs": [
    {
     "data": {
      "text/plain": [
       "['SEDPred_hd163466_20160509-y4_pwv00_1.fits',\n",
       " 'SEDPred_hd163466_20160509-y4_pwv00_2.fits',\n",
       " 'SEDPred_hd163466_20160509-y4_pwv00_3.fits',\n",
       " 'SEDPred_hd163466_20160509-y4_pwv00_4.fits',\n",
       " 'SEDPred_hd163466_20160509-y4_pwv00_5.fits',\n",
       " 'SEDPred_hd163466_20160509-y4_pwv00_6.fits',\n",
       " 'SEDPred_hd163466_20160509-y4_pwv00_7.fits',\n",
       " 'SEDPred_hd163466_20160509-y4_pwv00_8.fits']"
      ]
     },
     "execution_count": 230,
     "metadata": {},
     "output_type": "execute_result"
    }
   ],
   "source": [
    "all_file_list_y4[0]"
   ]
  },
  {
   "cell_type": "markdown",
   "metadata": {},
   "source": [
    "# Calculation of Flux and colors for each pwv"
   ]
  },
  {
   "cell_type": "code",
   "execution_count": 231,
   "metadata": {
    "collapsed": true
   },
   "outputs": [],
   "source": [
    "All_Fluxes_Y3=np.zeros(NBPWV)\n",
    "All_Fluxes_Y4=np.zeros(NBPWV)\n",
    "All_Colors_Y3Y4=np.zeros(NBPWV)"
   ]
  },
  {
   "cell_type": "markdown",
   "metadata": {},
   "source": [
    "## Flux for Y3"
   ]
  },
  {
   "cell_type": "code",
   "execution_count": 232,
   "metadata": {
    "collapsed": true
   },
   "outputs": [],
   "source": [
    "fluxes_y3=np.zeros((NBPWV,NBFILES_Y3))"
   ]
  },
  {
   "cell_type": "code",
   "execution_count": 233,
   "metadata": {
    "collapsed": false
   },
   "outputs": [],
   "source": [
    "for idx1 in np.arange(NBPWV):\n",
    "    for idx2 in  np.arange(NBFILES_Y3):\n",
    "        filename = all_file_list_y3[idx1][idx2]\n",
    "        hdulist = fits.open(filename)\n",
    "        t=hdulist[1].data\n",
    "        wl=t['WAVELENGTH']\n",
    "        selected_bins=np.where(np.logical_and(wl>900.,wl<1080.))\n",
    "        flx_array=t['SEDxQExATMxToptxY3']  # get the predicted experimental fluxes in all wl bin\n",
    "        flx_array=flx_array[selected_bins]\n",
    "        flx_sum=flx_array.sum()    # sum over all wavelength\n",
    "        fluxes_y3[idx1,idx2]=flx_sum\n",
    "        hdulist.close()"
   ]
  },
  {
   "cell_type": "code",
   "execution_count": 234,
   "metadata": {
    "collapsed": false
   },
   "outputs": [],
   "source": [
    "All_Fluxes_Y3=np.average(fluxes_y3,axis=1)"
   ]
  },
  {
   "cell_type": "code",
   "execution_count": null,
   "metadata": {
    "collapsed": false
   },
   "outputs": [],
   "source": []
  },
  {
   "cell_type": "markdown",
   "metadata": {},
   "source": [
    "## Flux for Y4"
   ]
  },
  {
   "cell_type": "code",
   "execution_count": 235,
   "metadata": {
    "collapsed": true
   },
   "outputs": [],
   "source": [
    "fluxes_y4=np.zeros((NBPWV,NBFILES_Y4))"
   ]
  },
  {
   "cell_type": "code",
   "execution_count": 236,
   "metadata": {
    "collapsed": false
   },
   "outputs": [],
   "source": [
    "for idx1 in np.arange(NBPWV):\n",
    "    for idx2 in  np.arange(NBFILES_Y4):\n",
    "        filename = all_file_list_y4[idx1][idx2]\n",
    "        hdulist = fits.open(filename)\n",
    "        #print hdulist[1].columns\n",
    "        t=hdulist[1].data\n",
    "        wl=t['WAVELENGTH']\n",
    "        selected_bins=np.where(np.logical_and(wl>900.,wl<1080.))\n",
    "        flx_array=t['SEDxQExATMxToptxY4']  # get the predicted experimental fluxes in all wl bin\n",
    "        flx_array=flx_array[selected_bins]\n",
    "        flx_sum=flx_array.sum()    # sum over all wavelength\n",
    "        fluxes_y4[idx1,idx2]=flx_sum\n",
    "        hdulist.close()"
   ]
  },
  {
   "cell_type": "code",
   "execution_count": 237,
   "metadata": {
    "collapsed": true
   },
   "outputs": [],
   "source": [
    "All_Fluxes_Y4=np.average(fluxes_y4,axis=1)"
   ]
  },
  {
   "cell_type": "code",
   "execution_count": 238,
   "metadata": {
    "collapsed": false
   },
   "outputs": [
    {
     "data": {
      "text/plain": [
       "<matplotlib.legend.Legend at 0x11036f150>"
      ]
     },
     "execution_count": 238,
     "metadata": {},
     "output_type": "execute_result"
    },
    {
     "data": {
      "image/png": "[encoded data removed]",
      "text/plain": [
       "<matplotlib.figure.Figure at 0x10efc3bd0>"
      ]
     },
     "metadata": {},
     "output_type": "display_data"
    }
   ],
   "source": [
    "plt.plot(pwv_values,All_Fluxes_Y3,label='Y3',color='r')\n",
    "plt.plot(pwv_values,All_Fluxes_Y4,label='Y4',color='b')\n",
    "plt.title('Prediction of Flux in Y3 and Y4 vs PWV')\n",
    "plt.xlabel('pwv in mm')\n",
    "plt.ylabel('flux in a.u')\n",
    "plt.legend()"
   ]
  },
  {
   "cell_type": "code",
   "execution_count": 239,
   "metadata": {
    "collapsed": false
   },
   "outputs": [],
   "source": [
    "Color=-2.5*np.log10(All_Fluxes_Y3/All_Fluxes_Y4)"
   ]
  },
  {
   "cell_type": "code",
   "execution_count": 240,
   "metadata": {
    "collapsed": false
   },
   "outputs": [
    {
     "data": {
      "text/plain": [
       "<matplotlib.text.Text at 0x11066b290>"
      ]
     },
     "execution_count": 240,
     "metadata": {},
     "output_type": "execute_result"
    },
    {
     "data": {
      "image/png": "[encoded data removed]",
      "text/plain": [
       "<matplotlib.figure.Figure at 0x11029e150>"
      ]
     },
     "metadata": {},
     "output_type": "display_data"
    }
   ],
   "source": [
    "plt.plot(pwv_values,Color)\n",
    "plt.xlabel('pwv (mm)')\n",
    "plt.ylabel('Y3-Y4 (mag)')\n",
    "plt.title('Y3-Y4 color versus pwv')"
   ]
  },
  {
   "cell_type": "code",
   "execution_count": null,
   "metadata": {
    "collapsed": true
   },
   "outputs": [],
   "source": []
  }
 ],
 "metadata": {
  "kernelspec": {
   "display_name": "Python 2",
   "language": "python",
   "name": "python2"
  },
  "language_info": {
   "codemirror_mode": {
    "name": "ipython",
    "version": 2
   },
   "file_extension": ".py",
   "mimetype": "text/x-python",
   "name": "python",
   "nbconvert_exporter": "python",
   "pygments_lexer": "ipython2",
   "version": "2.7.12"
  }
 },
 "nbformat": 4,
 "nbformat_minor": 0
}
