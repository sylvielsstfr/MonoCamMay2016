{
 "cells": [
  {
   "cell_type": "markdown",
   "metadata": {},
   "source": [
    "# Read Astropy tables on PSF\n",
    "\n",
    "- creation June 30th 2016\n",
    "- author Sylvie Dagoret-Campagne"
   ]
  },
  {
   "cell_type": "code",
   "execution_count": 21,
   "metadata": {
    "collapsed": true
   },
   "outputs": [],
   "source": [
    "%matplotlib inline\n",
    "import matplotlib.pyplot as plt\n",
    "import numpy as np\n",
    "\n",
    "from astropy.modeling import models\n",
    "from astropy import units as u\n",
    "from astropy import nddata\n",
    "from astropy.io import fits\n",
    "\n",
    "from astropy.table import Table\n",
    "from astropy.table import Column\n",
    "\n",
    "import pandas as pd"
   ]
  },
  {
   "cell_type": "code",
   "execution_count": 41,
   "metadata": {
    "collapsed": true
   },
   "outputs": [],
   "source": [
    "intputtablefile1='HD163466_grating_1-25_TablePSF.fits'"
   ]
  },
  {
   "cell_type": "code",
   "execution_count": 42,
   "metadata": {
    "collapsed": false
   },
   "outputs": [],
   "source": [
    " t1 = Table.read(intputtablefile1)"
   ]
  },
  {
   "cell_type": "code",
   "execution_count": 43,
   "metadata": {
    "collapsed": false
   },
   "outputs": [
    {
     "data": {
      "text/html": [
       "&lt;Table length=25&gt;\n",
       "<table id=\"table4497349136\">\n",
       "<thead><tr><th>num</th><th>file</th><th>time</th><th>exposure</th><th>nbstars</th><th>prfx</th><th>pfry</th><th>sig_prfx</th><th>sig_prfy</th></tr></thead>\n",
       "<thead><tr><th>int32</th><th>str31</th><th>str23</th><th>float64</th><th>int32</th><th>float64</th><th>float64</th><th>float64</th><th>float64</th></tr></thead>\n",
       "<tr><td>0</td><td>AssScImHD163466_grating_1.fits</td><td>2016-05-12T07:44:43.031</td><td>5.0</td><td>64</td><td>3.27269668874</td><td>3.88553341132</td><td>0.255804340104</td><td>0.630429467266</td></tr>\n",
       "<tr><td>1</td><td>AssScImHD163466_grating_2.fits</td><td>2016-05-12T07:45:25.729</td><td>5.0</td><td>77</td><td>3.23553358593</td><td>3.68556328674</td><td>0.257597799449</td><td>0.710772994991</td></tr>\n",
       "<tr><td>2</td><td>AssScImHD163466_grating_3.fits</td><td>2016-05-12T07:45:39.969</td><td>5.0</td><td>62</td><td>3.32012000341</td><td>3.75058997275</td><td>0.349992606517</td><td>0.639362413853</td></tr>\n",
       "<tr><td>3</td><td>AssScImHD163466_grating_4.fits</td><td>2016-05-12T07:45:53.737</td><td>5.0</td><td>52</td><td>3.40832433709</td><td>3.94203727252</td><td>0.278009048375</td><td>0.638777321358</td></tr>\n",
       "<tr><td>4</td><td>AssScImHD163466_grating_5.fits</td><td>2016-05-12T07:46:08.135</td><td>5.0</td><td>58</td><td>3.31063509983</td><td>3.74642615098</td><td>0.223678199732</td><td>0.655809560281</td></tr>\n",
       "<tr><td>5</td><td>AssScImHD163466_grating_6.fits</td><td>2016-05-12T07:46:21.770</td><td>5.0</td><td>37</td><td>3.41812953386</td><td>3.80001190974</td><td>0.122160814787</td><td>0.498240852554</td></tr>\n",
       "<tr><td>6</td><td>AssScImHD163466_grating_7.fits</td><td>2016-05-12T07:47:45.901</td><td>5.0</td><td>27</td><td>3.26659530388</td><td>3.90464523342</td><td>0.127364793996</td><td>0.506540068331</td></tr>\n",
       "<tr><td>7</td><td>AssScImHD163466_grating_8.fits</td><td>2016-05-12T07:47:54.975</td><td>5.0</td><td>35</td><td>3.39261307653</td><td>3.96786115165</td><td>0.274179753652</td><td>0.516360179579</td></tr>\n",
       "<tr><td>8</td><td>AssScImHD163466_grating_9.fits</td><td>2016-05-12T07:48:04.034</td><td>5.0</td><td>44</td><td>3.19352421633</td><td>3.71210090293</td><td>0.207016221129</td><td>0.591840708818</td></tr>\n",
       "<tr><td>9</td><td>AssScImHD163466_grating_10.fits</td><td>2016-05-12T07:48:13.067</td><td>5.0</td><td>38</td><td>3.47207426459</td><td>3.78640324169</td><td>0.13276341903</td><td>0.64522318954</td></tr>\n",
       "<tr><td>...</td><td>...</td><td>...</td><td>...</td><td>...</td><td>...</td><td>...</td><td>...</td><td>...</td></tr>\n",
       "<tr><td>15</td><td>AssScImHD163466_grating_16.fits</td><td>2016-05-12T07:49:25.997</td><td>1.0</td><td>11</td><td>3.50223068915</td><td>3.76611710299</td><td>0.0683551645014</td><td>0.141654403087</td></tr>\n",
       "<tr><td>16</td><td>AssScImHD163466_grating_17.fits</td><td>2016-05-12T07:49:30.918</td><td>1.0</td><td>11</td><td>3.46845153719</td><td>3.85960201854</td><td>0.0675518144884</td><td>0.13110483557</td></tr>\n",
       "<tr><td>17</td><td>AssScImHD163466_grating_18.fits</td><td>2016-05-12T07:49:36.925</td><td>1.0</td><td>12</td><td>3.36581726168</td><td>3.64298594419</td><td>0.0733089910799</td><td>0.155049871969</td></tr>\n",
       "<tr><td>18</td><td>AssScImHD163466_grating_19.fits</td><td>2016-05-12T07:49:41.361</td><td>1.0</td><td>12</td><td>3.29108626669</td><td>3.65058468637</td><td>0.0713965024931</td><td>0.145402607915</td></tr>\n",
       "<tr><td>19</td><td>AssScImHD163466_grating_20.fits</td><td>2016-05-12T07:49:46.295</td><td>1.0</td><td>14</td><td>3.20201675545</td><td>3.81456484341</td><td>0.0542567326778</td><td>0.130630204114</td></tr>\n",
       "<tr><td>20</td><td>AssScImHD163466_grating_21.fits</td><td>2016-05-12T07:50:02.396</td><td>5.0</td><td>38</td><td>3.55186308539</td><td>3.88819994306</td><td>0.246770791261</td><td>0.562926513191</td></tr>\n",
       "<tr><td>21</td><td>AssScImHD163466_grating_22.fits</td><td>2016-05-12T07:50:20.792</td><td>5.0</td><td>42</td><td>3.38725110621</td><td>3.90734085855</td><td>0.258173895527</td><td>0.56605948511</td></tr>\n",
       "<tr><td>22</td><td>AssScImHD163466_grating_23.fits</td><td>2016-05-12T07:50:30.047</td><td>5.0</td><td>37</td><td>3.32056143725</td><td>3.81311045197</td><td>0.344560464482</td><td>0.501952093217</td></tr>\n",
       "<tr><td>23</td><td>AssScImHD163466_grating_24.fits</td><td>2016-05-12T07:50:38.658</td><td>5.0</td><td>35</td><td>3.39179717954</td><td>3.91734985146</td><td>0.153495476419</td><td>0.512636931139</td></tr>\n",
       "<tr><td>24</td><td>AssScImHD163466_grating_25.fits</td><td>2016-05-12T07:50:47.678</td><td>5.0</td><td>40</td><td>3.2985938811</td><td>3.70109309658</td><td>0.137716151188</td><td>0.596839730932</td></tr>\n",
       "</table>"
      ],
      "text/plain": [
       "<Table length=25>\n",
       " num                file              ...     sig_prfx       sig_prfy   \n",
       "int32              str31              ...     float64        float64    \n",
       "----- ------------------------------- ... --------------- --------------\n",
       "    0  AssScImHD163466_grating_1.fits ...  0.255804340104 0.630429467266\n",
       "    1  AssScImHD163466_grating_2.fits ...  0.257597799449 0.710772994991\n",
       "    2  AssScImHD163466_grating_3.fits ...  0.349992606517 0.639362413853\n",
       "    3  AssScImHD163466_grating_4.fits ...  0.278009048375 0.638777321358\n",
       "    4  AssScImHD163466_grating_5.fits ...  0.223678199732 0.655809560281\n",
       "    5  AssScImHD163466_grating_6.fits ...  0.122160814787 0.498240852554\n",
       "    6  AssScImHD163466_grating_7.fits ...  0.127364793996 0.506540068331\n",
       "    7  AssScImHD163466_grating_8.fits ...  0.274179753652 0.516360179579\n",
       "    8  AssScImHD163466_grating_9.fits ...  0.207016221129 0.591840708818\n",
       "    9 AssScImHD163466_grating_10.fits ...   0.13276341903  0.64522318954\n",
       "  ...                             ... ...             ...            ...\n",
       "   15 AssScImHD163466_grating_16.fits ... 0.0683551645014 0.141654403087\n",
       "   16 AssScImHD163466_grating_17.fits ... 0.0675518144884  0.13110483557\n",
       "   17 AssScImHD163466_grating_18.fits ... 0.0733089910799 0.155049871969\n",
       "   18 AssScImHD163466_grating_19.fits ... 0.0713965024931 0.145402607915\n",
       "   19 AssScImHD163466_grating_20.fits ... 0.0542567326778 0.130630204114\n",
       "   20 AssScImHD163466_grating_21.fits ...  0.246770791261 0.562926513191\n",
       "   21 AssScImHD163466_grating_22.fits ...  0.258173895527  0.56605948511\n",
       "   22 AssScImHD163466_grating_23.fits ...  0.344560464482 0.501952093217\n",
       "   23 AssScImHD163466_grating_24.fits ...  0.153495476419 0.512636931139\n",
       "   24 AssScImHD163466_grating_25.fits ...  0.137716151188 0.596839730932"
      ]
     },
     "execution_count": 43,
     "metadata": {},
     "output_type": "execute_result"
    }
   ],
   "source": [
    "t1"
   ]
  },
  {
   "cell_type": "code",
   "execution_count": 44,
   "metadata": {
    "collapsed": false
   },
   "outputs": [],
   "source": [
    "df1=t1.to_pandas()"
   ]
  },
  {
   "cell_type": "code",
   "execution_count": 45,
   "metadata": {
    "collapsed": false
   },
   "outputs": [
    {
     "data": {
      "text/html": [
       "<div>\n",
       "<table border=\"1\" class=\"dataframe\">\n",
       "  <thead>\n",
       "    <tr style=\"text-align: right;\">\n",
       "      <th></th>\n",
       "      <th>num</th>\n",
       "      <th>exposure</th>\n",
       "      <th>nbstars</th>\n",
       "      <th>prfx</th>\n",
       "      <th>pfry</th>\n",
       "      <th>sig_prfx</th>\n",
       "      <th>sig_prfy</th>\n",
       "    </tr>\n",
       "  </thead>\n",
       "  <tbody>\n",
       "    <tr>\n",
       "      <th>count</th>\n",
       "      <td>25.000000</td>\n",
       "      <td>25.0</td>\n",
       "      <td>25.000000</td>\n",
       "      <td>25.000000</td>\n",
       "      <td>25.000000</td>\n",
       "      <td>25.000000</td>\n",
       "      <td>25.000000</td>\n",
       "    </tr>\n",
       "    <tr>\n",
       "      <th>mean</th>\n",
       "      <td>12.000000</td>\n",
       "      <td>3.4</td>\n",
       "      <td>31.960000</td>\n",
       "      <td>3.380461</td>\n",
       "      <td>3.818436</td>\n",
       "      <td>0.162651</td>\n",
       "      <td>0.408679</td>\n",
       "    </tr>\n",
       "    <tr>\n",
       "      <th>std</th>\n",
       "      <td>7.359801</td>\n",
       "      <td>2.0</td>\n",
       "      <td>20.210311</td>\n",
       "      <td>0.113820</td>\n",
       "      <td>0.103179</td>\n",
       "      <td>0.096924</td>\n",
       "      <td>0.226536</td>\n",
       "    </tr>\n",
       "    <tr>\n",
       "      <th>min</th>\n",
       "      <td>0.000000</td>\n",
       "      <td>1.0</td>\n",
       "      <td>9.000000</td>\n",
       "      <td>3.193524</td>\n",
       "      <td>3.642986</td>\n",
       "      <td>0.048746</td>\n",
       "      <td>0.109130</td>\n",
       "    </tr>\n",
       "    <tr>\n",
       "      <th>25%</th>\n",
       "      <td>6.000000</td>\n",
       "      <td>1.0</td>\n",
       "      <td>12.000000</td>\n",
       "      <td>3.298594</td>\n",
       "      <td>3.746426</td>\n",
       "      <td>0.073465</td>\n",
       "      <td>0.149382</td>\n",
       "    </tr>\n",
       "    <tr>\n",
       "      <th>50%</th>\n",
       "      <td>12.000000</td>\n",
       "      <td>5.0</td>\n",
       "      <td>35.000000</td>\n",
       "      <td>3.387251</td>\n",
       "      <td>3.813110</td>\n",
       "      <td>0.132763</td>\n",
       "      <td>0.506540</td>\n",
       "    </tr>\n",
       "    <tr>\n",
       "      <th>75%</th>\n",
       "      <td>18.000000</td>\n",
       "      <td>5.0</td>\n",
       "      <td>42.000000</td>\n",
       "      <td>3.448174</td>\n",
       "      <td>3.904645</td>\n",
       "      <td>0.255804</td>\n",
       "      <td>0.596840</td>\n",
       "    </tr>\n",
       "    <tr>\n",
       "      <th>max</th>\n",
       "      <td>24.000000</td>\n",
       "      <td>5.0</td>\n",
       "      <td>77.000000</td>\n",
       "      <td>3.654467</td>\n",
       "      <td>3.982965</td>\n",
       "      <td>0.349993</td>\n",
       "      <td>0.710773</td>\n",
       "    </tr>\n",
       "  </tbody>\n",
       "</table>\n",
       "</div>"
      ],
      "text/plain": [
       "             num  exposure    nbstars       prfx       pfry   sig_prfx  \\\n",
       "count  25.000000      25.0  25.000000  25.000000  25.000000  25.000000   \n",
       "mean   12.000000       3.4  31.960000   3.380461   3.818436   0.162651   \n",
       "std     7.359801       2.0  20.210311   0.113820   0.103179   0.096924   \n",
       "min     0.000000       1.0   9.000000   3.193524   3.642986   0.048746   \n",
       "25%     6.000000       1.0  12.000000   3.298594   3.746426   0.073465   \n",
       "50%    12.000000       5.0  35.000000   3.387251   3.813110   0.132763   \n",
       "75%    18.000000       5.0  42.000000   3.448174   3.904645   0.255804   \n",
       "max    24.000000       5.0  77.000000   3.654467   3.982965   0.349993   \n",
       "\n",
       "        sig_prfy  \n",
       "count  25.000000  \n",
       "mean    0.408679  \n",
       "std     0.226536  \n",
       "min     0.109130  \n",
       "25%     0.149382  \n",
       "50%     0.506540  \n",
       "75%     0.596840  \n",
       "max     0.710773  "
      ]
     },
     "execution_count": 45,
     "metadata": {},
     "output_type": "execute_result"
    }
   ],
   "source": [
    "df1.describe() # pandas able to show statistics"
   ]
  },
  {
   "cell_type": "code",
   "execution_count": 65,
   "metadata": {
    "collapsed": false
   },
   "outputs": [
    {
     "data": {
      "text/plain": [
       "<matplotlib.figure.Figure at 0x10ea942d0>"
      ]
     },
     "metadata": {},
     "output_type": "display_data"
    },
    {
     "data": {
      "image/png": "[encoded data removed]",
      "text/plain": [
       "<matplotlib.figure.Figure at 0x10ede9650>"
      ]
     },
     "metadata": {},
     "output_type": "display_data"
    }
   ],
   "source": [
    "plt.figure(figsize=(10,6))\n",
    "df1_2=df1[['num', 'prfx','pfry']]\n",
    "df1_2.plot('num',['prfx','pfry'],ylim=(0.,5.),figsize=(10,5))\n",
    "plt.legend(loc='upper right')\n",
    "plt.show()"
   ]
  },
  {
   "cell_type": "code",
   "execution_count": 48,
   "metadata": {
    "collapsed": false
   },
   "outputs": [],
   "source": [
    "intputtablefile2='HD158485_grat_1-50_TablePSF.fits'"
   ]
  },
  {
   "cell_type": "code",
   "execution_count": 49,
   "metadata": {
    "collapsed": true
   },
   "outputs": [],
   "source": [
    "t2 = Table.read(intputtablefile2)"
   ]
  },
  {
   "cell_type": "code",
   "execution_count": 51,
   "metadata": {
    "collapsed": true
   },
   "outputs": [],
   "source": [
    "df2=t2.to_pandas()"
   ]
  },
  {
   "cell_type": "code",
   "execution_count": 52,
   "metadata": {
    "collapsed": false
   },
   "outputs": [
    {
     "name": "stderr",
     "output_type": "stream",
     "text": [
      "/Users/dagoret-campagnesylvie/anaconda/envs/pyastrophys/lib/python2.7/site-packages/numpy/lib/function_base.py:3823: RuntimeWarning: Invalid value encountered in percentile\n",
      "  RuntimeWarning)\n"
     ]
    },
    {
     "data": {
      "text/html": [
       "<div>\n",
       "<table border=\"1\" class=\"dataframe\">\n",
       "  <thead>\n",
       "    <tr style=\"text-align: right;\">\n",
       "      <th></th>\n",
       "      <th>num</th>\n",
       "      <th>exposure</th>\n",
       "      <th>nbstars</th>\n",
       "      <th>prfx</th>\n",
       "      <th>pfry</th>\n",
       "      <th>sig_prfx</th>\n",
       "      <th>sig_prfy</th>\n",
       "    </tr>\n",
       "  </thead>\n",
       "  <tbody>\n",
       "    <tr>\n",
       "      <th>count</th>\n",
       "      <td>50.00000</td>\n",
       "      <td>50.000000</td>\n",
       "      <td>50.000000</td>\n",
       "      <td>45.000000</td>\n",
       "      <td>48.000000</td>\n",
       "      <td>45.000000</td>\n",
       "      <td>48.000000</td>\n",
       "    </tr>\n",
       "    <tr>\n",
       "      <th>mean</th>\n",
       "      <td>24.50000</td>\n",
       "      <td>3.372000</td>\n",
       "      <td>18.980000</td>\n",
       "      <td>3.333004</td>\n",
       "      <td>3.510633</td>\n",
       "      <td>0.260939</td>\n",
       "      <td>0.432202</td>\n",
       "    </tr>\n",
       "    <tr>\n",
       "      <th>std</th>\n",
       "      <td>14.57738</td>\n",
       "      <td>2.108877</td>\n",
       "      <td>15.938005</td>\n",
       "      <td>0.378728</td>\n",
       "      <td>0.302113</td>\n",
       "      <td>0.199223</td>\n",
       "      <td>0.318711</td>\n",
       "    </tr>\n",
       "    <tr>\n",
       "      <th>min</th>\n",
       "      <td>0.00000</td>\n",
       "      <td>0.400000</td>\n",
       "      <td>1.000000</td>\n",
       "      <td>2.866824</td>\n",
       "      <td>3.019007</td>\n",
       "      <td>0.000000</td>\n",
       "      <td>0.000000</td>\n",
       "    </tr>\n",
       "    <tr>\n",
       "      <th>25%</th>\n",
       "      <td>12.25000</td>\n",
       "      <td>1.000000</td>\n",
       "      <td>7.000000</td>\n",
       "      <td>NaN</td>\n",
       "      <td>NaN</td>\n",
       "      <td>NaN</td>\n",
       "      <td>NaN</td>\n",
       "    </tr>\n",
       "    <tr>\n",
       "      <th>50%</th>\n",
       "      <td>24.50000</td>\n",
       "      <td>5.000000</td>\n",
       "      <td>13.000000</td>\n",
       "      <td>NaN</td>\n",
       "      <td>NaN</td>\n",
       "      <td>NaN</td>\n",
       "      <td>NaN</td>\n",
       "    </tr>\n",
       "    <tr>\n",
       "      <th>75%</th>\n",
       "      <td>36.75000</td>\n",
       "      <td>5.000000</td>\n",
       "      <td>28.500000</td>\n",
       "      <td>NaN</td>\n",
       "      <td>NaN</td>\n",
       "      <td>NaN</td>\n",
       "      <td>NaN</td>\n",
       "    </tr>\n",
       "    <tr>\n",
       "      <th>max</th>\n",
       "      <td>49.00000</td>\n",
       "      <td>5.000000</td>\n",
       "      <td>56.000000</td>\n",
       "      <td>4.474156</td>\n",
       "      <td>4.623810</td>\n",
       "      <td>0.837820</td>\n",
       "      <td>0.912355</td>\n",
       "    </tr>\n",
       "  </tbody>\n",
       "</table>\n",
       "</div>"
      ],
      "text/plain": [
       "            num   exposure    nbstars       prfx       pfry   sig_prfx  \\\n",
       "count  50.00000  50.000000  50.000000  45.000000  48.000000  45.000000   \n",
       "mean   24.50000   3.372000  18.980000   3.333004   3.510633   0.260939   \n",
       "std    14.57738   2.108877  15.938005   0.378728   0.302113   0.199223   \n",
       "min     0.00000   0.400000   1.000000   2.866824   3.019007   0.000000   \n",
       "25%    12.25000   1.000000   7.000000        NaN        NaN        NaN   \n",
       "50%    24.50000   5.000000  13.000000        NaN        NaN        NaN   \n",
       "75%    36.75000   5.000000  28.500000        NaN        NaN        NaN   \n",
       "max    49.00000   5.000000  56.000000   4.474156   4.623810   0.837820   \n",
       "\n",
       "        sig_prfy  \n",
       "count  48.000000  \n",
       "mean    0.432202  \n",
       "std     0.318711  \n",
       "min     0.000000  \n",
       "25%          NaN  \n",
       "50%          NaN  \n",
       "75%          NaN  \n",
       "max     0.912355  "
      ]
     },
     "execution_count": 52,
     "metadata": {},
     "output_type": "execute_result"
    }
   ],
   "source": [
    "df2.describe()"
   ]
  },
  {
   "cell_type": "code",
   "execution_count": 66,
   "metadata": {
    "collapsed": false
   },
   "outputs": [
    {
     "data": {
      "text/plain": [
       "<matplotlib.figure.Figure at 0x10daa41d0>"
      ]
     },
     "metadata": {},
     "output_type": "display_data"
    },
    {
     "data": {
      "image/png": "[encoded data removed]",
      "text/plain": [
       "<matplotlib.figure.Figure at 0x10e9aa910>"
      ]
     },
     "metadata": {},
     "output_type": "display_data"
    }
   ],
   "source": [
    "plt.figure(figsize=(10,6))\n",
    "df2_2=df2[['num', 'prfx','pfry']]\n",
    "df2_2.plot('num',['prfx','pfry'],ylim=(0.,5.),figsize=(10,5))\n",
    "plt.legend(loc='upper right')\n",
    "plt.show()  # pandas able to remove NaN"
   ]
  },
  {
   "cell_type": "code",
   "execution_count": 76,
   "metadata": {
    "collapsed": true
   },
   "outputs": [],
   "source": [
    "df2_no_missing = df2.dropna()"
   ]
  },
  {
   "cell_type": "code",
   "execution_count": 77,
   "metadata": {
    "collapsed": false
   },
   "outputs": [
    {
     "data": {
      "text/html": [
       "<div>\n",
       "<table border=\"1\" class=\"dataframe\">\n",
       "  <thead>\n",
       "    <tr style=\"text-align: right;\">\n",
       "      <th></th>\n",
       "      <th>num</th>\n",
       "      <th>exposure</th>\n",
       "      <th>nbstars</th>\n",
       "      <th>prfx</th>\n",
       "      <th>pfry</th>\n",
       "      <th>sig_prfx</th>\n",
       "      <th>sig_prfy</th>\n",
       "    </tr>\n",
       "  </thead>\n",
       "  <tbody>\n",
       "    <tr>\n",
       "      <th>count</th>\n",
       "      <td>45.000000</td>\n",
       "      <td>45.000000</td>\n",
       "      <td>45.000000</td>\n",
       "      <td>45.000000</td>\n",
       "      <td>45.000000</td>\n",
       "      <td>45.000000</td>\n",
       "      <td>45.000000</td>\n",
       "    </tr>\n",
       "    <tr>\n",
       "      <th>mean</th>\n",
       "      <td>25.222222</td>\n",
       "      <td>3.191111</td>\n",
       "      <td>20.844444</td>\n",
       "      <td>3.333004</td>\n",
       "      <td>3.536146</td>\n",
       "      <td>0.260939</td>\n",
       "      <td>0.461015</td>\n",
       "    </tr>\n",
       "    <tr>\n",
       "      <th>std</th>\n",
       "      <td>15.201508</td>\n",
       "      <td>2.148977</td>\n",
       "      <td>15.723398</td>\n",
       "      <td>0.378728</td>\n",
       "      <td>0.292681</td>\n",
       "      <td>0.199223</td>\n",
       "      <td>0.308086</td>\n",
       "    </tr>\n",
       "    <tr>\n",
       "      <th>min</th>\n",
       "      <td>0.000000</td>\n",
       "      <td>0.400000</td>\n",
       "      <td>1.000000</td>\n",
       "      <td>2.866824</td>\n",
       "      <td>3.197155</td>\n",
       "      <td>0.000000</td>\n",
       "      <td>0.000000</td>\n",
       "    </tr>\n",
       "    <tr>\n",
       "      <th>25%</th>\n",
       "      <td>11.000000</td>\n",
       "      <td>1.000000</td>\n",
       "      <td>8.000000</td>\n",
       "      <td>3.054724</td>\n",
       "      <td>3.346323</td>\n",
       "      <td>0.157338</td>\n",
       "      <td>0.150688</td>\n",
       "    </tr>\n",
       "    <tr>\n",
       "      <th>50%</th>\n",
       "      <td>27.000000</td>\n",
       "      <td>5.000000</td>\n",
       "      <td>15.000000</td>\n",
       "      <td>3.207648</td>\n",
       "      <td>3.451709</td>\n",
       "      <td>0.222837</td>\n",
       "      <td>0.428237</td>\n",
       "    </tr>\n",
       "    <tr>\n",
       "      <th>75%</th>\n",
       "      <td>38.000000</td>\n",
       "      <td>5.000000</td>\n",
       "      <td>33.000000</td>\n",
       "      <td>3.566803</td>\n",
       "      <td>3.595877</td>\n",
       "      <td>0.279615</td>\n",
       "      <td>0.769873</td>\n",
       "    </tr>\n",
       "    <tr>\n",
       "      <th>max</th>\n",
       "      <td>49.000000</td>\n",
       "      <td>5.000000</td>\n",
       "      <td>56.000000</td>\n",
       "      <td>4.474156</td>\n",
       "      <td>4.623810</td>\n",
       "      <td>0.837820</td>\n",
       "      <td>0.912355</td>\n",
       "    </tr>\n",
       "  </tbody>\n",
       "</table>\n",
       "</div>"
      ],
      "text/plain": [
       "             num   exposure    nbstars       prfx       pfry   sig_prfx  \\\n",
       "count  45.000000  45.000000  45.000000  45.000000  45.000000  45.000000   \n",
       "mean   25.222222   3.191111  20.844444   3.333004   3.536146   0.260939   \n",
       "std    15.201508   2.148977  15.723398   0.378728   0.292681   0.199223   \n",
       "min     0.000000   0.400000   1.000000   2.866824   3.197155   0.000000   \n",
       "25%    11.000000   1.000000   8.000000   3.054724   3.346323   0.157338   \n",
       "50%    27.000000   5.000000  15.000000   3.207648   3.451709   0.222837   \n",
       "75%    38.000000   5.000000  33.000000   3.566803   3.595877   0.279615   \n",
       "max    49.000000   5.000000  56.000000   4.474156   4.623810   0.837820   \n",
       "\n",
       "        sig_prfy  \n",
       "count  45.000000  \n",
       "mean    0.461015  \n",
       "std     0.308086  \n",
       "min     0.000000  \n",
       "25%     0.150688  \n",
       "50%     0.428237  \n",
       "75%     0.769873  \n",
       "max     0.912355  "
      ]
     },
     "execution_count": 77,
     "metadata": {},
     "output_type": "execute_result"
    }
   ],
   "source": [
    "df2_no_missing.describe()"
   ]
  },
  {
   "cell_type": "code",
   "execution_count": 54,
   "metadata": {
    "collapsed": true
   },
   "outputs": [],
   "source": [
    "intputtablefile3='HD158485_grat_51-100_TablePSF.fits'"
   ]
  },
  {
   "cell_type": "code",
   "execution_count": 55,
   "metadata": {
    "collapsed": true
   },
   "outputs": [],
   "source": [
    "t3 = Table.read(intputtablefile3)"
   ]
  },
  {
   "cell_type": "code",
   "execution_count": 56,
   "metadata": {
    "collapsed": true
   },
   "outputs": [],
   "source": [
    "df3=t3.to_pandas()"
   ]
  },
  {
   "cell_type": "code",
   "execution_count": 75,
   "metadata": {
    "collapsed": false
   },
   "outputs": [
    {
     "data": {
      "text/html": [
       "<div>\n",
       "<table border=\"1\" class=\"dataframe\">\n",
       "  <thead>\n",
       "    <tr style=\"text-align: right;\">\n",
       "      <th></th>\n",
       "      <th>num</th>\n",
       "      <th>exposure</th>\n",
       "      <th>nbstars</th>\n",
       "      <th>prfx</th>\n",
       "      <th>pfry</th>\n",
       "      <th>sig_prfx</th>\n",
       "      <th>sig_prfy</th>\n",
       "    </tr>\n",
       "  </thead>\n",
       "  <tbody>\n",
       "    <tr>\n",
       "      <th>count</th>\n",
       "      <td>50.00000</td>\n",
       "      <td>50.00000</td>\n",
       "      <td>50.000000</td>\n",
       "      <td>50.000000</td>\n",
       "      <td>50.000000</td>\n",
       "      <td>50.000000</td>\n",
       "      <td>50.000000</td>\n",
       "    </tr>\n",
       "    <tr>\n",
       "      <th>mean</th>\n",
       "      <td>24.50000</td>\n",
       "      <td>2.48000</td>\n",
       "      <td>26.400000</td>\n",
       "      <td>3.029724</td>\n",
       "      <td>3.592927</td>\n",
       "      <td>0.228702</td>\n",
       "      <td>0.413208</td>\n",
       "    </tr>\n",
       "    <tr>\n",
       "      <th>std</th>\n",
       "      <td>14.57738</td>\n",
       "      <td>2.09021</td>\n",
       "      <td>17.314616</td>\n",
       "      <td>0.148261</td>\n",
       "      <td>0.132934</td>\n",
       "      <td>0.111798</td>\n",
       "      <td>0.285283</td>\n",
       "    </tr>\n",
       "    <tr>\n",
       "      <th>min</th>\n",
       "      <td>0.00000</td>\n",
       "      <td>0.40000</td>\n",
       "      <td>5.000000</td>\n",
       "      <td>2.704380</td>\n",
       "      <td>3.281386</td>\n",
       "      <td>0.108625</td>\n",
       "      <td>0.058110</td>\n",
       "    </tr>\n",
       "    <tr>\n",
       "      <th>25%</th>\n",
       "      <td>12.25000</td>\n",
       "      <td>1.00000</td>\n",
       "      <td>13.250000</td>\n",
       "      <td>2.937760</td>\n",
       "      <td>3.522611</td>\n",
       "      <td>0.169668</td>\n",
       "      <td>0.178102</td>\n",
       "    </tr>\n",
       "    <tr>\n",
       "      <th>50%</th>\n",
       "      <td>24.50000</td>\n",
       "      <td>1.00000</td>\n",
       "      <td>19.000000</td>\n",
       "      <td>3.038586</td>\n",
       "      <td>3.575247</td>\n",
       "      <td>0.197276</td>\n",
       "      <td>0.230499</td>\n",
       "    </tr>\n",
       "    <tr>\n",
       "      <th>75%</th>\n",
       "      <td>36.75000</td>\n",
       "      <td>5.00000</td>\n",
       "      <td>43.750000</td>\n",
       "      <td>3.118689</td>\n",
       "      <td>3.679681</td>\n",
       "      <td>0.243171</td>\n",
       "      <td>0.698741</td>\n",
       "    </tr>\n",
       "    <tr>\n",
       "      <th>max</th>\n",
       "      <td>49.00000</td>\n",
       "      <td>5.00000</td>\n",
       "      <td>69.000000</td>\n",
       "      <td>3.373055</td>\n",
       "      <td>3.968515</td>\n",
       "      <td>0.669269</td>\n",
       "      <td>0.863951</td>\n",
       "    </tr>\n",
       "  </tbody>\n",
       "</table>\n",
       "</div>"
      ],
      "text/plain": [
       "            num  exposure    nbstars       prfx       pfry   sig_prfx  \\\n",
       "count  50.00000  50.00000  50.000000  50.000000  50.000000  50.000000   \n",
       "mean   24.50000   2.48000  26.400000   3.029724   3.592927   0.228702   \n",
       "std    14.57738   2.09021  17.314616   0.148261   0.132934   0.111798   \n",
       "min     0.00000   0.40000   5.000000   2.704380   3.281386   0.108625   \n",
       "25%    12.25000   1.00000  13.250000   2.937760   3.522611   0.169668   \n",
       "50%    24.50000   1.00000  19.000000   3.038586   3.575247   0.197276   \n",
       "75%    36.75000   5.00000  43.750000   3.118689   3.679681   0.243171   \n",
       "max    49.00000   5.00000  69.000000   3.373055   3.968515   0.669269   \n",
       "\n",
       "        sig_prfy  \n",
       "count  50.000000  \n",
       "mean    0.413208  \n",
       "std     0.285283  \n",
       "min     0.058110  \n",
       "25%     0.178102  \n",
       "50%     0.230499  \n",
       "75%     0.698741  \n",
       "max     0.863951  "
      ]
     },
     "execution_count": 75,
     "metadata": {},
     "output_type": "execute_result"
    }
   ],
   "source": [
    "df3.describe()"
   ]
  },
  {
   "cell_type": "code",
   "execution_count": 67,
   "metadata": {
    "collapsed": false
   },
   "outputs": [
    {
     "data": {
      "text/plain": [
       "<matplotlib.figure.Figure at 0x10d936a50>"
      ]
     },
     "metadata": {},
     "output_type": "display_data"
    },
    {
     "data": {
      "image/png": "[encoded data removed]",
      "text/plain": [
       "<matplotlib.figure.Figure at 0x10d9ca490>"
      ]
     },
     "metadata": {},
     "output_type": "display_data"
    }
   ],
   "source": [
    "df3_2=df3[['num', 'prfx','pfry']]\n",
    "df3_2.plot('num',['prfx','pfry'],ylim=(0.,5.),figsize=(10,5))\n",
    "plt.legend(loc='upper right')\n",
    "plt.show()  # pandas able to remove NaN"
   ]
  },
  {
   "cell_type": "code",
   "execution_count": 68,
   "metadata": {
    "collapsed": true
   },
   "outputs": [],
   "source": [
    "intputtablefile4='HD158485_grat_103-132_TablePSF.fits'"
   ]
  },
  {
   "cell_type": "code",
   "execution_count": 69,
   "metadata": {
    "collapsed": true
   },
   "outputs": [],
   "source": [
    "t4 = Table.read(intputtablefile4)"
   ]
  },
  {
   "cell_type": "code",
   "execution_count": 71,
   "metadata": {
    "collapsed": true
   },
   "outputs": [],
   "source": [
    "df4=t4.to_pandas()"
   ]
  },
  {
   "cell_type": "code",
   "execution_count": 74,
   "metadata": {
    "collapsed": false
   },
   "outputs": [
    {
     "data": {
      "text/html": [
       "<div>\n",
       "<table border=\"1\" class=\"dataframe\">\n",
       "  <thead>\n",
       "    <tr style=\"text-align: right;\">\n",
       "      <th></th>\n",
       "      <th>num</th>\n",
       "      <th>exposure</th>\n",
       "      <th>nbstars</th>\n",
       "      <th>prfx</th>\n",
       "      <th>pfry</th>\n",
       "      <th>sig_prfx</th>\n",
       "      <th>sig_prfy</th>\n",
       "    </tr>\n",
       "  </thead>\n",
       "  <tbody>\n",
       "    <tr>\n",
       "      <th>count</th>\n",
       "      <td>30.000000</td>\n",
       "      <td>30.000000</td>\n",
       "      <td>30.000000</td>\n",
       "      <td>30.000000</td>\n",
       "      <td>30.000000</td>\n",
       "      <td>30.000000</td>\n",
       "      <td>30.000000</td>\n",
       "    </tr>\n",
       "    <tr>\n",
       "      <th>mean</th>\n",
       "      <td>14.500000</td>\n",
       "      <td>2.133333</td>\n",
       "      <td>23.600000</td>\n",
       "      <td>3.293882</td>\n",
       "      <td>3.241749</td>\n",
       "      <td>0.317081</td>\n",
       "      <td>0.454643</td>\n",
       "    </tr>\n",
       "    <tr>\n",
       "      <th>std</th>\n",
       "      <td>8.803408</td>\n",
       "      <td>2.076691</td>\n",
       "      <td>17.621695</td>\n",
       "      <td>0.333514</td>\n",
       "      <td>0.151522</td>\n",
       "      <td>0.268937</td>\n",
       "      <td>0.357247</td>\n",
       "    </tr>\n",
       "    <tr>\n",
       "      <th>min</th>\n",
       "      <td>0.000000</td>\n",
       "      <td>0.400000</td>\n",
       "      <td>4.000000</td>\n",
       "      <td>2.982135</td>\n",
       "      <td>2.978183</td>\n",
       "      <td>0.106278</td>\n",
       "      <td>0.070986</td>\n",
       "    </tr>\n",
       "    <tr>\n",
       "      <th>25%</th>\n",
       "      <td>7.250000</td>\n",
       "      <td>0.400000</td>\n",
       "      <td>10.000000</td>\n",
       "      <td>3.115525</td>\n",
       "      <td>3.175703</td>\n",
       "      <td>0.200440</td>\n",
       "      <td>0.136120</td>\n",
       "    </tr>\n",
       "    <tr>\n",
       "      <th>50%</th>\n",
       "      <td>14.500000</td>\n",
       "      <td>1.000000</td>\n",
       "      <td>15.500000</td>\n",
       "      <td>3.243751</td>\n",
       "      <td>3.219538</td>\n",
       "      <td>0.227856</td>\n",
       "      <td>0.291260</td>\n",
       "    </tr>\n",
       "    <tr>\n",
       "      <th>75%</th>\n",
       "      <td>21.750000</td>\n",
       "      <td>5.000000</td>\n",
       "      <td>46.250000</td>\n",
       "      <td>3.348283</td>\n",
       "      <td>3.290000</td>\n",
       "      <td>0.268977</td>\n",
       "      <td>0.853948</td>\n",
       "    </tr>\n",
       "    <tr>\n",
       "      <th>max</th>\n",
       "      <td>29.000000</td>\n",
       "      <td>5.000000</td>\n",
       "      <td>53.000000</td>\n",
       "      <td>4.825302</td>\n",
       "      <td>3.686235</td>\n",
       "      <td>1.307125</td>\n",
       "      <td>1.066353</td>\n",
       "    </tr>\n",
       "  </tbody>\n",
       "</table>\n",
       "</div>"
      ],
      "text/plain": [
       "             num   exposure    nbstars       prfx       pfry   sig_prfx  \\\n",
       "count  30.000000  30.000000  30.000000  30.000000  30.000000  30.000000   \n",
       "mean   14.500000   2.133333  23.600000   3.293882   3.241749   0.317081   \n",
       "std     8.803408   2.076691  17.621695   0.333514   0.151522   0.268937   \n",
       "min     0.000000   0.400000   4.000000   2.982135   2.978183   0.106278   \n",
       "25%     7.250000   0.400000  10.000000   3.115525   3.175703   0.200440   \n",
       "50%    14.500000   1.000000  15.500000   3.243751   3.219538   0.227856   \n",
       "75%    21.750000   5.000000  46.250000   3.348283   3.290000   0.268977   \n",
       "max    29.000000   5.000000  53.000000   4.825302   3.686235   1.307125   \n",
       "\n",
       "        sig_prfy  \n",
       "count  30.000000  \n",
       "mean    0.454643  \n",
       "std     0.357247  \n",
       "min     0.070986  \n",
       "25%     0.136120  \n",
       "50%     0.291260  \n",
       "75%     0.853948  \n",
       "max     1.066353  "
      ]
     },
     "execution_count": 74,
     "metadata": {},
     "output_type": "execute_result"
    }
   ],
   "source": [
    "df4.describe()"
   ]
  },
  {
   "cell_type": "code",
   "execution_count": 72,
   "metadata": {
    "collapsed": false
   },
   "outputs": [
    {
     "data": {
      "image/png": "[encoded data removed]",
      "text/plain": [
       "<matplotlib.figure.Figure at 0x10d8292d0>"
      ]
     },
     "metadata": {},
     "output_type": "display_data"
    }
   ],
   "source": [
    "df4_2=df4[['num', 'prfx','pfry']]\n",
    "df4_2.plot('num',['prfx','pfry'],ylim=(0.,5.),figsize=(10,5))\n",
    "plt.legend(loc='upper right')\n",
    "plt.show()  # pandas able to remove NaN"
   ]
  },
  {
   "cell_type": "code",
   "execution_count": null,
   "metadata": {
    "collapsed": true
   },
   "outputs": [],
   "source": []
  }
 ],
 "metadata": {
  "kernelspec": {
   "display_name": "Python 2",
   "language": "python",
   "name": "python2"
  },
  "language_info": {
   "codemirror_mode": {
    "name": "ipython",
    "version": 2
   },
   "file_extension": ".py",
   "mimetype": "text/x-python",
   "name": "python",
   "nbconvert_exporter": "python",
   "pygments_lexer": "ipython2",
   "version": "2.7.11"
  }
 },
 "nbformat": 4,
 "nbformat_minor": 0
}
