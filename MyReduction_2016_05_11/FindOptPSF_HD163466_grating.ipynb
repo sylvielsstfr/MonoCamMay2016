{
 "cells": [
  {
   "cell_type": "markdown",
   "metadata": {},
   "source": [
    "# Find Optimal PSF\n",
    "===========================\n",
    "\n",
    "- creation 29/06/2016\n",
    "- author Sylvie Dagoret-Campagne\n",
    "\n",
    "\n",
    "\n",
    "Find HD163466 with grating"
   ]
  },
  {
   "cell_type": "code",
   "execution_count": 1,
   "metadata": {
    "collapsed": false
   },
   "outputs": [
    {
     "name": "stdout",
     "output_type": "stream",
     "text": [
      "ccdproc version 1.0.1\n"
     ]
    }
   ],
   "source": [
    "%matplotlib inline\n",
    "import matplotlib.pyplot as plt\n",
    "import numpy as np\n",
    "\n",
    "from astropy.modeling import models\n",
    "from astropy import units as u\n",
    "from astropy import nddata\n",
    "from astropy.io import fits\n",
    "\n",
    "from astropy.table import Table\n",
    "from astropy.table import Column\n",
    "\n",
    "import ccdproc\n",
    "print 'ccdproc version',ccdproc.__version__\n",
    "\n",
    "from astropy.modeling import models"
   ]
  },
  {
   "cell_type": "code",
   "execution_count": 2,
   "metadata": {
    "collapsed": true
   },
   "outputs": [],
   "source": [
    "import photutils\n",
    "from astropy.stats import sigma_clipped_stats\n",
    "from photutils import daofind\n",
    "from photutils import CircularAperture\n",
    "from astropy.visualization import SqrtStretch\n",
    "from astropy.visualization.mpl_normalize import ImageNormalize"
   ]
  },
  {
   "cell_type": "code",
   "execution_count": 3,
   "metadata": {
    "collapsed": true
   },
   "outputs": [],
   "source": [
    "from scipy import stats \n",
    "from scipy import ndimage\n",
    "import os\n",
    "from datetime import datetime, timedelta"
   ]
  },
  {
   "cell_type": "code",
   "execution_count": 4,
   "metadata": {
    "collapsed": true
   },
   "outputs": [],
   "source": [
    "from photutils.background import Background2D"
   ]
  },
  {
   "cell_type": "code",
   "execution_count": 5,
   "metadata": {
    "collapsed": true
   },
   "outputs": [],
   "source": [
    "import libMonocamBaseImages           # my tool library written to do that CCD reduction"
   ]
  },
  {
   "cell_type": "code",
   "execution_count": 6,
   "metadata": {
    "collapsed": false
   },
   "outputs": [
    {
     "name": "stdout",
     "output_type": "stream",
     "text": [
      "standard date format for the analysis : 2016-06-29 18:33:48.084078\n",
      "fits date format for the analysis :  2016-06-29T18:33:48\n"
     ]
    }
   ],
   "source": [
    "now=datetime.utcnow()  # choose UTC time\n",
    "datestr=str(now)\n",
    "print 'standard date format for the analysis :',datestr\n",
    "#  want the following format '2016-05-10T11:55:27.267'\n",
    "date_of_analysis=now.strftime('%Y-%m-%dT%H:%M:%S')\n",
    "print 'fits date format for the analysis : ',date_of_analysis"
   ]
  },
  {
   "cell_type": "markdown",
   "metadata": {},
   "source": [
    "## Definitions and Constants"
   ]
  },
  {
   "cell_type": "code",
   "execution_count": 7,
   "metadata": {
    "collapsed": true
   },
   "outputs": [],
   "source": [
    "object_name='HD163466_grating'"
   ]
  },
  {
   "cell_type": "markdown",
   "metadata": {},
   "source": [
    "### input files"
   ]
  },
  {
   "cell_type": "code",
   "execution_count": 8,
   "metadata": {
    "collapsed": true
   },
   "outputs": [],
   "source": [
    "path='./HD163466_grating'\n",
    "rootfilename='AssScImHD163466_grating_' \n",
    "NumStart=1\n",
    "NumStop=25"
   ]
  },
  {
   "cell_type": "markdown",
   "metadata": {},
   "source": [
    "### output file (table)"
   ]
  },
  {
   "cell_type": "code",
   "execution_count": 9,
   "metadata": {
    "collapsed": true
   },
   "outputs": [],
   "source": [
    "outputtablefile='HD163466_grating_1-25_TablePSF.fits'"
   ]
  },
  {
   "cell_type": "markdown",
   "metadata": {},
   "source": [
    "### make the filelist"
   ]
  },
  {
   "cell_type": "code",
   "execution_count": 10,
   "metadata": {
    "collapsed": false
   },
   "outputs": [],
   "source": [
    "filelist=libMonocamBaseImages.BuildFilelist(path,rootfilename,start=NumStart,stop=NumStop,nbchar=1)"
   ]
  },
  {
   "cell_type": "code",
   "execution_count": 11,
   "metadata": {
    "collapsed": false
   },
   "outputs": [
    {
     "data": {
      "text/plain": [
       "['./HD163466_grating/AssScImHD163466_grating_1.fits',\n",
       " './HD163466_grating/AssScImHD163466_grating_2.fits',\n",
       " './HD163466_grating/AssScImHD163466_grating_3.fits',\n",
       " './HD163466_grating/AssScImHD163466_grating_4.fits',\n",
       " './HD163466_grating/AssScImHD163466_grating_5.fits',\n",
       " './HD163466_grating/AssScImHD163466_grating_6.fits',\n",
       " './HD163466_grating/AssScImHD163466_grating_7.fits',\n",
       " './HD163466_grating/AssScImHD163466_grating_8.fits',\n",
       " './HD163466_grating/AssScImHD163466_grating_9.fits',\n",
       " './HD163466_grating/AssScImHD163466_grating_10.fits',\n",
       " './HD163466_grating/AssScImHD163466_grating_11.fits',\n",
       " './HD163466_grating/AssScImHD163466_grating_12.fits',\n",
       " './HD163466_grating/AssScImHD163466_grating_13.fits',\n",
       " './HD163466_grating/AssScImHD163466_grating_14.fits',\n",
       " './HD163466_grating/AssScImHD163466_grating_15.fits',\n",
       " './HD163466_grating/AssScImHD163466_grating_16.fits',\n",
       " './HD163466_grating/AssScImHD163466_grating_17.fits',\n",
       " './HD163466_grating/AssScImHD163466_grating_18.fits',\n",
       " './HD163466_grating/AssScImHD163466_grating_19.fits',\n",
       " './HD163466_grating/AssScImHD163466_grating_20.fits',\n",
       " './HD163466_grating/AssScImHD163466_grating_21.fits',\n",
       " './HD163466_grating/AssScImHD163466_grating_22.fits',\n",
       " './HD163466_grating/AssScImHD163466_grating_23.fits',\n",
       " './HD163466_grating/AssScImHD163466_grating_24.fits',\n",
       " './HD163466_grating/AssScImHD163466_grating_25.fits']"
      ]
     },
     "execution_count": 11,
     "metadata": {},
     "output_type": "execute_result"
    }
   ],
   "source": [
    "filelist"
   ]
  },
  {
   "cell_type": "markdown",
   "metadata": {
    "collapsed": true
   },
   "source": [
    "## Read Input files"
   ]
  },
  {
   "cell_type": "code",
   "execution_count": 12,
   "metadata": {
    "collapsed": false
   },
   "outputs": [
    {
     "name": "stdout",
     "output_type": "stream",
     "text": [
      "./HD163466_grating/AssScImHD163466_grating_1.fits\n",
      "./HD163466_grating/AssScImHD163466_grating_2.fits\n",
      "./HD163466_grating/AssScImHD163466_grating_3.fits\n",
      "./HD163466_grating/AssScImHD163466_grating_4.fits\n",
      "./HD163466_grating/AssScImHD163466_grating_5.fits\n",
      "./HD163466_grating/AssScImHD163466_grating_6.fits\n",
      "./HD163466_grating/AssScImHD163466_grating_7.fits\n",
      "./HD163466_grating/AssScImHD163466_grating_8.fits\n",
      "./HD163466_grating/AssScImHD163466_grating_9.fits\n",
      "./HD163466_grating/AssScImHD163466_grating_10.fits\n",
      "./HD163466_grating/AssScImHD163466_grating_11.fits\n",
      "./HD163466_grating/AssScImHD163466_grating_12.fits\n",
      "./HD163466_grating/AssScImHD163466_grating_13.fits\n",
      "./HD163466_grating/AssScImHD163466_grating_14.fits\n",
      "./HD163466_grating/AssScImHD163466_grating_15.fits\n",
      "./HD163466_grating/AssScImHD163466_grating_16.fits\n",
      "./HD163466_grating/AssScImHD163466_grating_17.fits\n",
      "./HD163466_grating/AssScImHD163466_grating_18.fits\n",
      "./HD163466_grating/AssScImHD163466_grating_19.fits\n",
      "./HD163466_grating/AssScImHD163466_grating_20.fits\n",
      "./HD163466_grating/AssScImHD163466_grating_21.fits\n",
      "./HD163466_grating/AssScImHD163466_grating_22.fits\n",
      "./HD163466_grating/AssScImHD163466_grating_23.fits\n",
      "./HD163466_grating/AssScImHD163466_grating_24.fits\n",
      "./HD163466_grating/AssScImHD163466_grating_25.fits\n"
     ]
    }
   ],
   "source": [
    "allchannelallsciimages = []  # list of 16 lists of images series \n",
    "exposures_list = []        # sequential list of the exposures of the sky flats \n",
    "header_list = []           # list of headers\n",
    "data_list = []\n",
    "time_list = []                # date and time\n",
    "basefile_list = []         # basefilename\n",
    "dateobs_list = [] \n",
    "# get the primary block headers:\n",
    "for image_file in filelist: \n",
    "    print image_file\n",
    "    hdu_list = fits.open(image_file)\n",
    "    basefile_list.append(os.path.basename(image_file))\n",
    "    header=hdu_list[0].header\n",
    "    exposure=header['EXPOSURE']\n",
    "    exposures_list.append(exposure)\n",
    "    dateobs_list.append(header['DATE-OBS'])\n",
    "    header_list.append(header)\n",
    "    data=ccdproc.CCDData.read(image_file, hdu=0,unit='adu') \n",
    "    data_list.append(data)"
   ]
  },
  {
   "cell_type": "code",
   "execution_count": null,
   "metadata": {
    "collapsed": false
   },
   "outputs": [],
   "source": [
    "#basefile_list"
   ]
  },
  {
   "cell_type": "markdown",
   "metadata": {},
   "source": [
    "## For control\n",
    "\n",
    "uncomment for control"
   ]
  },
  {
   "cell_type": "code",
   "execution_count": 14,
   "metadata": {
    "collapsed": true
   },
   "outputs": [],
   "source": [
    "index=0"
   ]
  },
  {
   "cell_type": "code",
   "execution_count": 15,
   "metadata": {
    "collapsed": false
   },
   "outputs": [],
   "source": [
    "#print exposures_list[index]"
   ]
  },
  {
   "cell_type": "code",
   "execution_count": 16,
   "metadata": {
    "collapsed": false
   },
   "outputs": [],
   "source": [
    "#header_list[index]"
   ]
  },
  {
   "cell_type": "code",
   "execution_count": 17,
   "metadata": {
    "collapsed": false
   },
   "outputs": [],
   "source": [
    "#plt.imshow(data_list[index])"
   ]
  },
  {
   "cell_type": "code",
   "execution_count": 18,
   "metadata": {
    "collapsed": true
   },
   "outputs": [],
   "source": [
    "#bkg= Background2D(data_list[index], (100, 100), filter_size=(3, 3),method='median')"
   ]
  },
  {
   "cell_type": "code",
   "execution_count": 19,
   "metadata": {
    "collapsed": false
   },
   "outputs": [],
   "source": [
    "#data_list[index].data-bkg.background"
   ]
  },
  {
   "cell_type": "markdown",
   "metadata": {},
   "source": [
    "## Background subtraction"
   ]
  },
  {
   "cell_type": "code",
   "execution_count": 20,
   "metadata": {
    "collapsed": true
   },
   "outputs": [],
   "source": [
    "correctedimage_list = []"
   ]
  },
  {
   "cell_type": "code",
   "execution_count": 21,
   "metadata": {
    "collapsed": false
   },
   "outputs": [],
   "source": [
    "for data in data_list:\n",
    "    bkg= Background2D(data, (100, 100), filter_size=(3, 3),method='median')\n",
    "    newimage=data-bkg.background\n",
    "    correctedimage_list.append(newimage)"
   ]
  },
  {
   "cell_type": "markdown",
   "metadata": {},
   "source": [
    "## Calculation of PSF"
   ]
  },
  {
   "cell_type": "code",
   "execution_count": 22,
   "metadata": {
    "collapsed": true
   },
   "outputs": [],
   "source": [
    "NBIMAGES=len(correctedimage_list)"
   ]
  },
  {
   "cell_type": "code",
   "execution_count": 23,
   "metadata": {
    "collapsed": true
   },
   "outputs": [],
   "source": [
    "def weighted_avg_and_std(values, weights):\n",
    "    \"\"\"\n",
    "    Return the weighted average and standard deviation.\n",
    "\n",
    "    values, weights -- Numpy ndarrays with the same shape.\n",
    "    \"\"\"\n",
    "    average = np.average(values, weights=weights)\n",
    "    variance = np.average((values-average)**2, weights=weights)  # Fast and numerically precise\n",
    "    return (average, np.sqrt(variance))"
   ]
  },
  {
   "cell_type": "code",
   "execution_count": 24,
   "metadata": {
    "collapsed": true
   },
   "outputs": [],
   "source": [
    "image_psf=np.zeros((NBIMAGES,6))"
   ]
  },
  {
   "cell_type": "code",
   "execution_count": 25,
   "metadata": {
    "collapsed": true
   },
   "outputs": [],
   "source": [
    "DELTA_NBINSX=10\n",
    "DELTA_NBINSY=10"
   ]
  },
  {
   "cell_type": "code",
   "execution_count": 28,
   "metadata": {
    "collapsed": false
   },
   "outputs": [
    {
     "name": "stdout",
     "output_type": "stream",
     "text": [
      "image 0 ==> NBSTARS = 64\n",
      "average prf(x) = 3.27 +/- 0.26 pixels ==> psf  3.09 +/- 0.23 arcsec \n",
      "average prf(y) = 3.89 +/- 0.63 pixels ==> psf  3.67 +/- 0.57 arcsec \n"
     ]
    },
    {
     "name": "stderr",
     "output_type": "stream",
     "text": [
      "/Users/dagoret-campagnesylvie/anaconda/envs/pyastrophys/lib/python2.7/site-packages/ipykernel/__main__.py:9: RuntimeWarning: invalid value encountered in sqrt\n"
     ]
    },
    {
     "name": "stdout",
     "output_type": "stream",
     "text": [
      "image 1 ==> NBSTARS = 77\n",
      "average prf(x) = 3.24 +/- 0.26 pixels ==> psf  3.05 +/- 0.23 arcsec \n",
      "average prf(y) = 3.69 +/- 0.71 pixels ==> psf  3.48 +/- 0.64 arcsec \n",
      "image 2 ==> NBSTARS = 62\n",
      "average prf(x) = 3.32 +/- 0.35 pixels ==> psf  3.13 +/- 0.32 arcsec \n",
      "average prf(y) = 3.75 +/- 0.64 pixels ==> psf  3.54 +/- 0.58 arcsec \n",
      "image 3 ==> NBSTARS = 52\n",
      "average prf(x) = 3.41 +/- 0.28 pixels ==> psf  3.22 +/- 0.25 arcsec \n",
      "average prf(y) = 3.94 +/- 0.64 pixels ==> psf  3.72 +/- 0.58 arcsec \n",
      "image 4 ==> NBSTARS = 58\n",
      "average prf(x) = 3.31 +/- 0.22 pixels ==> psf  3.13 +/- 0.20 arcsec \n",
      "average prf(y) = 3.75 +/- 0.66 pixels ==> psf  3.54 +/- 0.59 arcsec \n",
      "image 5 ==> NBSTARS = 37\n",
      "average prf(x) = 3.42 +/- 0.12 pixels ==> psf  3.23 +/- 0.11 arcsec \n",
      "average prf(y) = 3.80 +/- 0.50 pixels ==> psf  3.59 +/- 0.45 arcsec \n",
      "image 6 ==> NBSTARS = 27\n",
      "average prf(x) = 3.27 +/- 0.13 pixels ==> psf  3.08 +/- 0.12 arcsec \n",
      "average prf(y) = 3.90 +/- 0.51 pixels ==> psf  3.69 +/- 0.46 arcsec \n",
      "image 7 ==> NBSTARS = 35\n",
      "average prf(x) = 3.39 +/- 0.27 pixels ==> psf  3.20 +/- 0.25 arcsec \n",
      "average prf(y) = 3.97 +/- 0.52 pixels ==> psf  3.75 +/- 0.47 arcsec \n",
      "image 8 ==> NBSTARS = 44\n",
      "average prf(x) = 3.19 +/- 0.21 pixels ==> psf  3.01 +/- 0.19 arcsec \n",
      "average prf(y) = 3.71 +/- 0.59 pixels ==> psf  3.50 +/- 0.54 arcsec \n",
      "image 9 ==> NBSTARS = 38\n",
      "average prf(x) = 3.47 +/- 0.13 pixels ==> psf  3.28 +/- 0.12 arcsec \n",
      "average prf(y) = 3.79 +/- 0.65 pixels ==> psf  3.57 +/- 0.58 arcsec \n",
      "image 10 ==> NBSTARS = 12\n",
      "average prf(x) = 3.41 +/- 0.08 pixels ==> psf  3.22 +/- 0.08 arcsec \n",
      "average prf(y) = 3.70 +/- 0.11 pixels ==> psf  3.49 +/- 0.10 arcsec \n",
      "image 11 ==> NBSTARS = 11\n",
      "average prf(x) = 3.45 +/- 0.08 pixels ==> psf  3.26 +/- 0.07 arcsec \n",
      "average prf(y) = 3.95 +/- 0.15 pixels ==> psf  3.73 +/- 0.13 arcsec \n",
      "image 12 ==> NBSTARS = 9\n",
      "average prf(x) = 3.65 +/- 0.08 pixels ==> psf  3.45 +/- 0.07 arcsec \n",
      "average prf(y) = 3.90 +/- 0.16 pixels ==> psf  3.68 +/- 0.14 arcsec \n",
      "image 13 ==> NBSTARS = 9\n",
      "average prf(x) = 3.38 +/- 0.05 pixels ==> psf  3.19 +/- 0.04 arcsec \n",
      "average prf(y) = 3.79 +/- 0.15 pixels ==> psf  3.57 +/- 0.14 arcsec \n",
      "image 14 ==> NBSTARS = 12\n",
      "average prf(x) = 3.55 +/- 0.07 pixels ==> psf  3.35 +/- 0.07 arcsec \n",
      "average prf(y) = 3.98 +/- 0.18 pixels ==> psf  3.76 +/- 0.16 arcsec \n",
      "image 15 ==> NBSTARS = 11\n",
      "average prf(x) = 3.50 +/- 0.07 pixels ==> psf  3.31 +/- 0.06 arcsec \n",
      "average prf(y) = 3.77 +/- 0.14 pixels ==> psf  3.56 +/- 0.13 arcsec \n",
      "image 16 ==> NBSTARS = 11\n",
      "average prf(x) = 3.47 +/- 0.07 pixels ==> psf  3.27 +/- 0.06 arcsec \n",
      "average prf(y) = 3.86 +/- 0.13 pixels ==> psf  3.64 +/- 0.12 arcsec \n",
      "image 17 ==> NBSTARS = 12\n",
      "average prf(x) = 3.37 +/- 0.07 pixels ==> psf  3.18 +/- 0.07 arcsec \n",
      "average prf(y) = 3.64 +/- 0.16 pixels ==> psf  3.44 +/- 0.14 arcsec \n",
      "image 18 ==> NBSTARS = 12\n",
      "average prf(x) = 3.29 +/- 0.07 pixels ==> psf  3.11 +/- 0.06 arcsec \n",
      "average prf(y) = 3.65 +/- 0.15 pixels ==> psf  3.45 +/- 0.13 arcsec \n",
      "image 19 ==> NBSTARS = 14\n",
      "average prf(x) = 3.20 +/- 0.05 pixels ==> psf  3.02 +/- 0.05 arcsec \n",
      "average prf(y) = 3.81 +/- 0.13 pixels ==> psf  3.60 +/- 0.12 arcsec \n",
      "image 20 ==> NBSTARS = 38\n",
      "average prf(x) = 3.55 +/- 0.25 pixels ==> psf  3.35 +/- 0.22 arcsec \n",
      "average prf(y) = 3.89 +/- 0.56 pixels ==> psf  3.67 +/- 0.51 arcsec \n",
      "image 21 ==> NBSTARS = 42\n",
      "average prf(x) = 3.39 +/- 0.26 pixels ==> psf  3.20 +/- 0.23 arcsec \n",
      "average prf(y) = 3.91 +/- 0.57 pixels ==> psf  3.69 +/- 0.51 arcsec \n",
      "image 22 ==> NBSTARS = 37\n",
      "average prf(x) = 3.32 +/- 0.34 pixels ==> psf  3.13 +/- 0.31 arcsec \n",
      "average prf(y) = 3.81 +/- 0.50 pixels ==> psf  3.60 +/- 0.45 arcsec \n",
      "image 23 ==> NBSTARS = 35\n",
      "average prf(x) = 3.39 +/- 0.15 pixels ==> psf  3.20 +/- 0.14 arcsec \n",
      "average prf(y) = 3.92 +/- 0.51 pixels ==> psf  3.70 +/- 0.46 arcsec \n",
      "image 24 ==> NBSTARS = 40\n",
      "average prf(x) = 3.30 +/- 0.14 pixels ==> psf  3.11 +/- 0.12 arcsec \n",
      "average prf(y) = 3.70 +/- 0.60 pixels ==> psf  3.49 +/- 0.54 arcsec \n"
     ]
    }
   ],
   "source": [
    "# loop on images\n",
    "index=-1\n",
    "for image in correctedimage_list:\n",
    "    index=index+1\n",
    "    mean, median, std = sigma_clipped_stats(image, sigma=10.0, iters=5) \n",
    "    sources = daofind(image - median, fwhm=3.0, threshold=50.*std)\n",
    "    selected_stars=sources.as_array()\n",
    "    NBSTARS=selected_stars.shape[0]\n",
    "    print 'image {} ==> NBSTARS = {}'.format(index,NBSTARS)\n",
    "    image_psf[index,0]=index\n",
    "    image_psf[index,1]=NBSTARS\n",
    "    star_psfx=np.zeros(NBSTARS)\n",
    "    star_psfy=np.zeros(NBSTARS)\n",
    "    # loop on stars\n",
    "    for istar in range(NBSTARS):\n",
    "        X = int(selected_stars[istar][1])\n",
    "        Y = int(selected_stars[istar][2])\n",
    "        prf_image = image[Y-DELTA_NBINSY:Y+DELTA_NBINSY,X-DELTA_NBINSX:X+DELTA_NBINSX]\n",
    "        oneprfX=prf_image.sum(axis=0)\n",
    "        oneprfY=prf_image.sum(axis=1)\n",
    "        if oneprfX.sum() == 0 or oneprfY.sum() == 0:\n",
    "            star_psfx[istar]=0\n",
    "            star_psfy[istar]=0\n",
    "        else:\n",
    "            posX,sigX=weighted_avg_and_std(np.arange(oneprfX.shape[0]),oneprfX)\n",
    "            posY,sigY=weighted_avg_and_std(np.arange(oneprfY.shape[0]),oneprfY)\n",
    "            star_psfx[istar]=sigX\n",
    "            star_psfy[istar]=sigY\n",
    "        \n",
    "    all_sigx=star_psfx[np.logical_not(np.isnan(star_psfx))]\n",
    "    all_sigy=star_psfy[np.logical_not(np.isnan(star_psfy))]\n",
    "    all_sigx=all_sigx[all_sigx>2.4]\n",
    "    all_sigy=all_sigy[all_sigy>2.4]\n",
    "    print 'average prf(x) = {:2.2f} +/- {:2.2f} pixels ==> psf  {:2.2f} +/- {:2.2f} arcsec '.format(np.median(all_sigx),all_sigx.std(),np.median(all_sigx)*0.4*2.36,all_sigx.std()*0.4*2.26)\n",
    "    print 'average prf(y) = {:2.2f} +/- {:2.2f} pixels ==> psf  {:2.2f} +/- {:2.2f} arcsec '.format(np.median(all_sigy),all_sigy.std(),np.median(all_sigy)*0.4*2.36,all_sigy.std()*0.4*2.26)\n",
    "    image_psf[index,2]=np.median(all_sigx)\n",
    "    image_psf[index,3]=np.median(all_sigy)\n",
    "    image_psf[index,4]=all_sigx.std()\n",
    "    image_psf[index,5]=all_sigy.std()"
   ]
  },
  {
   "cell_type": "markdown",
   "metadata": {
    "collapsed": false
   },
   "source": [
    "## Create astropy table"
   ]
  },
  {
   "cell_type": "code",
   "execution_count": 29,
   "metadata": {
    "collapsed": false
   },
   "outputs": [],
   "source": [
    "t=Table(rows=image_psf,names=('num','nbstars','prfx','pfry','sig_prfx','sig_prfy'),dtype=('i4','i4','f8','f8','f8','f8'))"
   ]
  },
  {
   "cell_type": "code",
   "execution_count": 30,
   "metadata": {
    "collapsed": false
   },
   "outputs": [
    {
     "data": {
      "text/html": [
       "&lt;Table length=25&gt;\n",
       "<table id=\"table7758659280\">\n",
       "<thead><tr><th>num</th><th>nbstars</th><th>prfx</th><th>pfry</th><th>sig_prfx</th><th>sig_prfy</th></tr></thead>\n",
       "<thead><tr><th>int32</th><th>int32</th><th>float64</th><th>float64</th><th>float64</th><th>float64</th></tr></thead>\n",
       "<tr><td>0</td><td>64</td><td>3.27269668874</td><td>3.88553341132</td><td>0.255804340104</td><td>0.630429467266</td></tr>\n",
       "<tr><td>1</td><td>77</td><td>3.23553358593</td><td>3.68556328674</td><td>0.257597799449</td><td>0.710772994991</td></tr>\n",
       "<tr><td>2</td><td>62</td><td>3.32012000341</td><td>3.75058997275</td><td>0.349992606517</td><td>0.639362413853</td></tr>\n",
       "<tr><td>3</td><td>52</td><td>3.40832433709</td><td>3.94203727252</td><td>0.278009048375</td><td>0.638777321358</td></tr>\n",
       "<tr><td>4</td><td>58</td><td>3.31063509983</td><td>3.74642615098</td><td>0.223678199732</td><td>0.655809560281</td></tr>\n",
       "<tr><td>5</td><td>37</td><td>3.41812953386</td><td>3.80001190974</td><td>0.122160814787</td><td>0.498240852554</td></tr>\n",
       "<tr><td>6</td><td>27</td><td>3.26659530388</td><td>3.90464523342</td><td>0.127364793996</td><td>0.506540068331</td></tr>\n",
       "<tr><td>7</td><td>35</td><td>3.39261307653</td><td>3.96786115165</td><td>0.274179753652</td><td>0.516360179579</td></tr>\n",
       "<tr><td>8</td><td>44</td><td>3.19352421633</td><td>3.71210090293</td><td>0.207016221129</td><td>0.591840708818</td></tr>\n",
       "<tr><td>9</td><td>38</td><td>3.47207426459</td><td>3.78640324169</td><td>0.13276341903</td><td>0.64522318954</td></tr>\n",
       "<tr><td>...</td><td>...</td><td>...</td><td>...</td><td>...</td><td>...</td></tr>\n",
       "<tr><td>15</td><td>11</td><td>3.50223068915</td><td>3.76611710299</td><td>0.0683551645014</td><td>0.141654403087</td></tr>\n",
       "<tr><td>16</td><td>11</td><td>3.46845153719</td><td>3.85960201854</td><td>0.0675518144884</td><td>0.13110483557</td></tr>\n",
       "<tr><td>17</td><td>12</td><td>3.36581726168</td><td>3.64298594419</td><td>0.0733089910799</td><td>0.155049871969</td></tr>\n",
       "<tr><td>18</td><td>12</td><td>3.29108626669</td><td>3.65058468637</td><td>0.0713965024931</td><td>0.145402607915</td></tr>\n",
       "<tr><td>19</td><td>14</td><td>3.20201675545</td><td>3.81456484341</td><td>0.0542567326778</td><td>0.130630204114</td></tr>\n",
       "<tr><td>20</td><td>38</td><td>3.55186308539</td><td>3.88819994306</td><td>0.246770791261</td><td>0.562926513191</td></tr>\n",
       "<tr><td>21</td><td>42</td><td>3.38725110621</td><td>3.90734085855</td><td>0.258173895527</td><td>0.56605948511</td></tr>\n",
       "<tr><td>22</td><td>37</td><td>3.32056143725</td><td>3.81311045197</td><td>0.344560464482</td><td>0.501952093217</td></tr>\n",
       "<tr><td>23</td><td>35</td><td>3.39179717954</td><td>3.91734985146</td><td>0.153495476419</td><td>0.512636931139</td></tr>\n",
       "<tr><td>24</td><td>40</td><td>3.2985938811</td><td>3.70109309658</td><td>0.137716151188</td><td>0.596839730932</td></tr>\n",
       "</table>"
      ],
      "text/plain": [
       "<Table length=25>\n",
       " num  nbstars      prfx          pfry         sig_prfx       sig_prfy   \n",
       "int32  int32     float64       float64        float64        float64    \n",
       "----- ------- ------------- ------------- --------------- --------------\n",
       "    0      64 3.27269668874 3.88553341132  0.255804340104 0.630429467266\n",
       "    1      77 3.23553358593 3.68556328674  0.257597799449 0.710772994991\n",
       "    2      62 3.32012000341 3.75058997275  0.349992606517 0.639362413853\n",
       "    3      52 3.40832433709 3.94203727252  0.278009048375 0.638777321358\n",
       "    4      58 3.31063509983 3.74642615098  0.223678199732 0.655809560281\n",
       "    5      37 3.41812953386 3.80001190974  0.122160814787 0.498240852554\n",
       "    6      27 3.26659530388 3.90464523342  0.127364793996 0.506540068331\n",
       "    7      35 3.39261307653 3.96786115165  0.274179753652 0.516360179579\n",
       "    8      44 3.19352421633 3.71210090293  0.207016221129 0.591840708818\n",
       "    9      38 3.47207426459 3.78640324169   0.13276341903  0.64522318954\n",
       "  ...     ...           ...           ...             ...            ...\n",
       "   15      11 3.50223068915 3.76611710299 0.0683551645014 0.141654403087\n",
       "   16      11 3.46845153719 3.85960201854 0.0675518144884  0.13110483557\n",
       "   17      12 3.36581726168 3.64298594419 0.0733089910799 0.155049871969\n",
       "   18      12 3.29108626669 3.65058468637 0.0713965024931 0.145402607915\n",
       "   19      14 3.20201675545 3.81456484341 0.0542567326778 0.130630204114\n",
       "   20      38 3.55186308539 3.88819994306  0.246770791261 0.562926513191\n",
       "   21      42 3.38725110621 3.90734085855  0.258173895527  0.56605948511\n",
       "   22      37 3.32056143725 3.81311045197  0.344560464482 0.501952093217\n",
       "   23      35 3.39179717954 3.91734985146  0.153495476419 0.512636931139\n",
       "   24      40  3.2985938811 3.70109309658  0.137716151188 0.596839730932"
      ]
     },
     "execution_count": 30,
     "metadata": {},
     "output_type": "execute_result"
    }
   ],
   "source": [
    "t"
   ]
  },
  {
   "cell_type": "code",
   "execution_count": 31,
   "metadata": {
    "collapsed": false
   },
   "outputs": [],
   "source": [
    "expo = Column(exposures_list, name='exposure')\n",
    "file = Column(basefile_list, name='file')\n",
    "time = Column(dateobs_list,name='time')"
   ]
  },
  {
   "cell_type": "code",
   "execution_count": 32,
   "metadata": {
    "collapsed": false
   },
   "outputs": [],
   "source": [
    "t.add_column(expo, index=1)\n",
    "t.add_column(time, index=1)\n",
    "t.add_column(file, index=1)"
   ]
  },
  {
   "cell_type": "code",
   "execution_count": 33,
   "metadata": {
    "collapsed": false
   },
   "outputs": [
    {
     "data": {
      "text/html": [
       "&lt;Table length=25&gt;\n",
       "<table id=\"table7758659280\">\n",
       "<thead><tr><th>num</th><th>file</th><th>time</th><th>exposure</th><th>nbstars</th><th>prfx</th><th>pfry</th><th>sig_prfx</th><th>sig_prfy</th></tr></thead>\n",
       "<thead><tr><th>int32</th><th>str31</th><th>str23</th><th>float64</th><th>int32</th><th>float64</th><th>float64</th><th>float64</th><th>float64</th></tr></thead>\n",
       "<tr><td>0</td><td>AssScImHD163466_grating_1.fits</td><td>2016-05-12T07:44:43.031</td><td>5.0</td><td>64</td><td>3.27269668874</td><td>3.88553341132</td><td>0.255804340104</td><td>0.630429467266</td></tr>\n",
       "<tr><td>1</td><td>AssScImHD163466_grating_2.fits</td><td>2016-05-12T07:45:25.729</td><td>5.0</td><td>77</td><td>3.23553358593</td><td>3.68556328674</td><td>0.257597799449</td><td>0.710772994991</td></tr>\n",
       "<tr><td>2</td><td>AssScImHD163466_grating_3.fits</td><td>2016-05-12T07:45:39.969</td><td>5.0</td><td>62</td><td>3.32012000341</td><td>3.75058997275</td><td>0.349992606517</td><td>0.639362413853</td></tr>\n",
       "<tr><td>3</td><td>AssScImHD163466_grating_4.fits</td><td>2016-05-12T07:45:53.737</td><td>5.0</td><td>52</td><td>3.40832433709</td><td>3.94203727252</td><td>0.278009048375</td><td>0.638777321358</td></tr>\n",
       "<tr><td>4</td><td>AssScImHD163466_grating_5.fits</td><td>2016-05-12T07:46:08.135</td><td>5.0</td><td>58</td><td>3.31063509983</td><td>3.74642615098</td><td>0.223678199732</td><td>0.655809560281</td></tr>\n",
       "<tr><td>5</td><td>AssScImHD163466_grating_6.fits</td><td>2016-05-12T07:46:21.770</td><td>5.0</td><td>37</td><td>3.41812953386</td><td>3.80001190974</td><td>0.122160814787</td><td>0.498240852554</td></tr>\n",
       "<tr><td>6</td><td>AssScImHD163466_grating_7.fits</td><td>2016-05-12T07:47:45.901</td><td>5.0</td><td>27</td><td>3.26659530388</td><td>3.90464523342</td><td>0.127364793996</td><td>0.506540068331</td></tr>\n",
       "<tr><td>7</td><td>AssScImHD163466_grating_8.fits</td><td>2016-05-12T07:47:54.975</td><td>5.0</td><td>35</td><td>3.39261307653</td><td>3.96786115165</td><td>0.274179753652</td><td>0.516360179579</td></tr>\n",
       "<tr><td>8</td><td>AssScImHD163466_grating_9.fits</td><td>2016-05-12T07:48:04.034</td><td>5.0</td><td>44</td><td>3.19352421633</td><td>3.71210090293</td><td>0.207016221129</td><td>0.591840708818</td></tr>\n",
       "<tr><td>9</td><td>AssScImHD163466_grating_10.fits</td><td>2016-05-12T07:48:13.067</td><td>5.0</td><td>38</td><td>3.47207426459</td><td>3.78640324169</td><td>0.13276341903</td><td>0.64522318954</td></tr>\n",
       "<tr><td>...</td><td>...</td><td>...</td><td>...</td><td>...</td><td>...</td><td>...</td><td>...</td><td>...</td></tr>\n",
       "<tr><td>15</td><td>AssScImHD163466_grating_16.fits</td><td>2016-05-12T07:49:25.997</td><td>1.0</td><td>11</td><td>3.50223068915</td><td>3.76611710299</td><td>0.0683551645014</td><td>0.141654403087</td></tr>\n",
       "<tr><td>16</td><td>AssScImHD163466_grating_17.fits</td><td>2016-05-12T07:49:30.918</td><td>1.0</td><td>11</td><td>3.46845153719</td><td>3.85960201854</td><td>0.0675518144884</td><td>0.13110483557</td></tr>\n",
       "<tr><td>17</td><td>AssScImHD163466_grating_18.fits</td><td>2016-05-12T07:49:36.925</td><td>1.0</td><td>12</td><td>3.36581726168</td><td>3.64298594419</td><td>0.0733089910799</td><td>0.155049871969</td></tr>\n",
       "<tr><td>18</td><td>AssScImHD163466_grating_19.fits</td><td>2016-05-12T07:49:41.361</td><td>1.0</td><td>12</td><td>3.29108626669</td><td>3.65058468637</td><td>0.0713965024931</td><td>0.145402607915</td></tr>\n",
       "<tr><td>19</td><td>AssScImHD163466_grating_20.fits</td><td>2016-05-12T07:49:46.295</td><td>1.0</td><td>14</td><td>3.20201675545</td><td>3.81456484341</td><td>0.0542567326778</td><td>0.130630204114</td></tr>\n",
       "<tr><td>20</td><td>AssScImHD163466_grating_21.fits</td><td>2016-05-12T07:50:02.396</td><td>5.0</td><td>38</td><td>3.55186308539</td><td>3.88819994306</td><td>0.246770791261</td><td>0.562926513191</td></tr>\n",
       "<tr><td>21</td><td>AssScImHD163466_grating_22.fits</td><td>2016-05-12T07:50:20.792</td><td>5.0</td><td>42</td><td>3.38725110621</td><td>3.90734085855</td><td>0.258173895527</td><td>0.56605948511</td></tr>\n",
       "<tr><td>22</td><td>AssScImHD163466_grating_23.fits</td><td>2016-05-12T07:50:30.047</td><td>5.0</td><td>37</td><td>3.32056143725</td><td>3.81311045197</td><td>0.344560464482</td><td>0.501952093217</td></tr>\n",
       "<tr><td>23</td><td>AssScImHD163466_grating_24.fits</td><td>2016-05-12T07:50:38.658</td><td>5.0</td><td>35</td><td>3.39179717954</td><td>3.91734985146</td><td>0.153495476419</td><td>0.512636931139</td></tr>\n",
       "<tr><td>24</td><td>AssScImHD163466_grating_25.fits</td><td>2016-05-12T07:50:47.678</td><td>5.0</td><td>40</td><td>3.2985938811</td><td>3.70109309658</td><td>0.137716151188</td><td>0.596839730932</td></tr>\n",
       "</table>"
      ],
      "text/plain": [
       "<Table length=25>\n",
       " num                file              ...     sig_prfx       sig_prfy   \n",
       "int32              str31              ...     float64        float64    \n",
       "----- ------------------------------- ... --------------- --------------\n",
       "    0  AssScImHD163466_grating_1.fits ...  0.255804340104 0.630429467266\n",
       "    1  AssScImHD163466_grating_2.fits ...  0.257597799449 0.710772994991\n",
       "    2  AssScImHD163466_grating_3.fits ...  0.349992606517 0.639362413853\n",
       "    3  AssScImHD163466_grating_4.fits ...  0.278009048375 0.638777321358\n",
       "    4  AssScImHD163466_grating_5.fits ...  0.223678199732 0.655809560281\n",
       "    5  AssScImHD163466_grating_6.fits ...  0.122160814787 0.498240852554\n",
       "    6  AssScImHD163466_grating_7.fits ...  0.127364793996 0.506540068331\n",
       "    7  AssScImHD163466_grating_8.fits ...  0.274179753652 0.516360179579\n",
       "    8  AssScImHD163466_grating_9.fits ...  0.207016221129 0.591840708818\n",
       "    9 AssScImHD163466_grating_10.fits ...   0.13276341903  0.64522318954\n",
       "  ...                             ... ...             ...            ...\n",
       "   15 AssScImHD163466_grating_16.fits ... 0.0683551645014 0.141654403087\n",
       "   16 AssScImHD163466_grating_17.fits ... 0.0675518144884  0.13110483557\n",
       "   17 AssScImHD163466_grating_18.fits ... 0.0733089910799 0.155049871969\n",
       "   18 AssScImHD163466_grating_19.fits ... 0.0713965024931 0.145402607915\n",
       "   19 AssScImHD163466_grating_20.fits ... 0.0542567326778 0.130630204114\n",
       "   20 AssScImHD163466_grating_21.fits ...  0.246770791261 0.562926513191\n",
       "   21 AssScImHD163466_grating_22.fits ...  0.258173895527  0.56605948511\n",
       "   22 AssScImHD163466_grating_23.fits ...  0.344560464482 0.501952093217\n",
       "   23 AssScImHD163466_grating_24.fits ...  0.153495476419 0.512636931139\n",
       "   24 AssScImHD163466_grating_25.fits ...  0.137716151188 0.596839730932"
      ]
     },
     "execution_count": 33,
     "metadata": {},
     "output_type": "execute_result"
    }
   ],
   "source": [
    "t"
   ]
  },
  {
   "cell_type": "markdown",
   "metadata": {},
   "source": [
    "## Write output file"
   ]
  },
  {
   "cell_type": "code",
   "execution_count": 34,
   "metadata": {
    "collapsed": false
   },
   "outputs": [],
   "source": [
    "t.write(outputtablefile,format='fits')"
   ]
  },
  {
   "cell_type": "markdown",
   "metadata": {
    "collapsed": true
   },
   "source": [
    "## Pandas"
   ]
  },
  {
   "cell_type": "code",
   "execution_count": 35,
   "metadata": {
    "collapsed": true
   },
   "outputs": [],
   "source": [
    "df=t.to_pandas()"
   ]
  },
  {
   "cell_type": "code",
   "execution_count": 36,
   "metadata": {
    "collapsed": false
   },
   "outputs": [
    {
     "data": {
      "text/html": [
       "<div>\n",
       "<table border=\"1\" class=\"dataframe\">\n",
       "  <thead>\n",
       "    <tr style=\"text-align: right;\">\n",
       "      <th></th>\n",
       "      <th>num</th>\n",
       "      <th>exposure</th>\n",
       "      <th>nbstars</th>\n",
       "      <th>prfx</th>\n",
       "      <th>pfry</th>\n",
       "      <th>sig_prfx</th>\n",
       "      <th>sig_prfy</th>\n",
       "    </tr>\n",
       "  </thead>\n",
       "  <tbody>\n",
       "    <tr>\n",
       "      <th>count</th>\n",
       "      <td>25.000000</td>\n",
       "      <td>25.0</td>\n",
       "      <td>25.000000</td>\n",
       "      <td>25.000000</td>\n",
       "      <td>25.000000</td>\n",
       "      <td>25.000000</td>\n",
       "      <td>25.000000</td>\n",
       "    </tr>\n",
       "    <tr>\n",
       "      <th>mean</th>\n",
       "      <td>12.000000</td>\n",
       "      <td>3.4</td>\n",
       "      <td>31.960000</td>\n",
       "      <td>3.380461</td>\n",
       "      <td>3.818436</td>\n",
       "      <td>0.162651</td>\n",
       "      <td>0.408679</td>\n",
       "    </tr>\n",
       "    <tr>\n",
       "      <th>std</th>\n",
       "      <td>7.359801</td>\n",
       "      <td>2.0</td>\n",
       "      <td>20.210311</td>\n",
       "      <td>0.113820</td>\n",
       "      <td>0.103179</td>\n",
       "      <td>0.096924</td>\n",
       "      <td>0.226536</td>\n",
       "    </tr>\n",
       "    <tr>\n",
       "      <th>min</th>\n",
       "      <td>0.000000</td>\n",
       "      <td>1.0</td>\n",
       "      <td>9.000000</td>\n",
       "      <td>3.193524</td>\n",
       "      <td>3.642986</td>\n",
       "      <td>0.048746</td>\n",
       "      <td>0.109130</td>\n",
       "    </tr>\n",
       "    <tr>\n",
       "      <th>25%</th>\n",
       "      <td>6.000000</td>\n",
       "      <td>1.0</td>\n",
       "      <td>12.000000</td>\n",
       "      <td>3.298594</td>\n",
       "      <td>3.746426</td>\n",
       "      <td>0.073465</td>\n",
       "      <td>0.149382</td>\n",
       "    </tr>\n",
       "    <tr>\n",
       "      <th>50%</th>\n",
       "      <td>12.000000</td>\n",
       "      <td>5.0</td>\n",
       "      <td>35.000000</td>\n",
       "      <td>3.387251</td>\n",
       "      <td>3.813110</td>\n",
       "      <td>0.132763</td>\n",
       "      <td>0.506540</td>\n",
       "    </tr>\n",
       "    <tr>\n",
       "      <th>75%</th>\n",
       "      <td>18.000000</td>\n",
       "      <td>5.0</td>\n",
       "      <td>42.000000</td>\n",
       "      <td>3.448174</td>\n",
       "      <td>3.904645</td>\n",
       "      <td>0.255804</td>\n",
       "      <td>0.596840</td>\n",
       "    </tr>\n",
       "    <tr>\n",
       "      <th>max</th>\n",
       "      <td>24.000000</td>\n",
       "      <td>5.0</td>\n",
       "      <td>77.000000</td>\n",
       "      <td>3.654467</td>\n",
       "      <td>3.982965</td>\n",
       "      <td>0.349993</td>\n",
       "      <td>0.710773</td>\n",
       "    </tr>\n",
       "  </tbody>\n",
       "</table>\n",
       "</div>"
      ],
      "text/plain": [
       "             num  exposure    nbstars       prfx       pfry   sig_prfx  \\\n",
       "count  25.000000      25.0  25.000000  25.000000  25.000000  25.000000   \n",
       "mean   12.000000       3.4  31.960000   3.380461   3.818436   0.162651   \n",
       "std     7.359801       2.0  20.210311   0.113820   0.103179   0.096924   \n",
       "min     0.000000       1.0   9.000000   3.193524   3.642986   0.048746   \n",
       "25%     6.000000       1.0  12.000000   3.298594   3.746426   0.073465   \n",
       "50%    12.000000       5.0  35.000000   3.387251   3.813110   0.132763   \n",
       "75%    18.000000       5.0  42.000000   3.448174   3.904645   0.255804   \n",
       "max    24.000000       5.0  77.000000   3.654467   3.982965   0.349993   \n",
       "\n",
       "        sig_prfy  \n",
       "count  25.000000  \n",
       "mean    0.408679  \n",
       "std     0.226536  \n",
       "min     0.109130  \n",
       "25%     0.149382  \n",
       "50%     0.506540  \n",
       "75%     0.596840  \n",
       "max     0.710773  "
      ]
     },
     "execution_count": 36,
     "metadata": {},
     "output_type": "execute_result"
    }
   ],
   "source": [
    "df.describe()"
   ]
  },
  {
   "cell_type": "code",
   "execution_count": null,
   "metadata": {
    "collapsed": true
   },
   "outputs": [],
   "source": []
  }
 ],
 "metadata": {
  "kernelspec": {
   "display_name": "Python 2",
   "language": "python",
   "name": "python2"
  },
  "language_info": {
   "codemirror_mode": {
    "name": "ipython",
    "version": 2
   },
   "file_extension": ".py",
   "mimetype": "text/x-python",
   "name": "python",
   "nbconvert_exporter": "python",
   "pygments_lexer": "ipython2",
   "version": "2.7.11"
  }
 },
 "nbformat": 4,
 "nbformat_minor": 0
}
