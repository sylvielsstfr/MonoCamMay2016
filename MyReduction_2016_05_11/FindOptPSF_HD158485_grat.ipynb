{
 "cells": [
  {
   "cell_type": "markdown",
   "metadata": {},
   "source": [
    "# Find Optimal PSF\n",
    "===========================\n",
    "\n",
    "- creation 29/06/2016\n",
    "- author Sylvie Dagoret-Campagne\n",
    "\n",
    "\n",
    "\n",
    "Find HD158485 with grating"
   ]
  },
  {
   "cell_type": "code",
   "execution_count": 1,
   "metadata": {
    "collapsed": false
   },
   "outputs": [
    {
     "name": "stdout",
     "output_type": "stream",
     "text": [
      "ccdproc version 1.0.1\n"
     ]
    }
   ],
   "source": [
    "%matplotlib inline\n",
    "import matplotlib.pyplot as plt\n",
    "import numpy as np\n",
    "\n",
    "from astropy.modeling import models\n",
    "from astropy import units as u\n",
    "from astropy import nddata\n",
    "from astropy.io import fits\n",
    "\n",
    "from astropy.table import Table\n",
    "from astropy.table import Column\n",
    "\n",
    "import ccdproc\n",
    "print 'ccdproc version',ccdproc.__version__\n",
    "\n",
    "from astropy.modeling import models"
   ]
  },
  {
   "cell_type": "code",
   "execution_count": 2,
   "metadata": {
    "collapsed": true
   },
   "outputs": [],
   "source": [
    "import photutils\n",
    "from astropy.stats import sigma_clipped_stats\n",
    "from photutils import daofind\n",
    "from photutils import CircularAperture\n",
    "from astropy.visualization import SqrtStretch\n",
    "from astropy.visualization.mpl_normalize import ImageNormalize"
   ]
  },
  {
   "cell_type": "code",
   "execution_count": 3,
   "metadata": {
    "collapsed": true
   },
   "outputs": [],
   "source": [
    "from scipy import stats \n",
    "from scipy import ndimage\n",
    "import os\n",
    "from datetime import datetime, timedelta"
   ]
  },
  {
   "cell_type": "code",
   "execution_count": 4,
   "metadata": {
    "collapsed": true
   },
   "outputs": [],
   "source": [
    "from photutils.background import Background2D"
   ]
  },
  {
   "cell_type": "code",
   "execution_count": 5,
   "metadata": {
    "collapsed": true
   },
   "outputs": [],
   "source": [
    "import libMonocamBaseImages           # my tool library written to do that CCD reduction"
   ]
  },
  {
   "cell_type": "code",
   "execution_count": 6,
   "metadata": {
    "collapsed": false
   },
   "outputs": [
    {
     "name": "stdout",
     "output_type": "stream",
     "text": [
      "standard date format for the analysis : 2016-06-30 06:16:56.442242\n",
      "fits date format for the analysis :  2016-06-30T06:16:56\n"
     ]
    }
   ],
   "source": [
    "now=datetime.utcnow()  # choose UTC time\n",
    "datestr=str(now)\n",
    "print 'standard date format for the analysis :',datestr\n",
    "#  want the following format '2016-05-10T11:55:27.267'\n",
    "date_of_analysis=now.strftime('%Y-%m-%dT%H:%M:%S')\n",
    "print 'fits date format for the analysis : ',date_of_analysis"
   ]
  },
  {
   "cell_type": "markdown",
   "metadata": {},
   "source": [
    "## Definitions and Constants"
   ]
  },
  {
   "cell_type": "code",
   "execution_count": 7,
   "metadata": {
    "collapsed": true
   },
   "outputs": [],
   "source": [
    "object_name='HD158485_grat'"
   ]
  },
  {
   "cell_type": "markdown",
   "metadata": {},
   "source": [
    "### input files"
   ]
  },
  {
   "cell_type": "code",
   "execution_count": 8,
   "metadata": {
    "collapsed": true
   },
   "outputs": [],
   "source": [
    "path='./HD158485_grat'\n",
    "rootfilename='AssScImHD158485_grat_' \n",
    "#NumStart=1\n",
    "#NumStop=50\n",
    "\n",
    "#NumStart=51\n",
    "#NumStop=100\n",
    "\n",
    "NumStart=1\n",
    "NumStop=101"
   ]
  },
  {
   "cell_type": "markdown",
   "metadata": {},
   "source": [
    "### output file (table)"
   ]
  },
  {
   "cell_type": "code",
   "execution_count": 9,
   "metadata": {
    "collapsed": true
   },
   "outputs": [],
   "source": [
    "outputtablefile='HD158485_grat_1-101_TablePSF.fits'"
   ]
  },
  {
   "cell_type": "markdown",
   "metadata": {},
   "source": [
    "### make the filelist"
   ]
  },
  {
   "cell_type": "code",
   "execution_count": 10,
   "metadata": {
    "collapsed": false
   },
   "outputs": [],
   "source": [
    "filelist=libMonocamBaseImages.BuildFilelist(path,rootfilename,start=NumStart,stop=NumStop,nbchar=1)"
   ]
  },
  {
   "cell_type": "code",
   "execution_count": 11,
   "metadata": {
    "collapsed": false
   },
   "outputs": [
    {
     "data": {
      "text/plain": [
       "['./HD158485_grat/AssScImHD158485_grat_1.fits',\n",
       " './HD158485_grat/AssScImHD158485_grat_2.fits',\n",
       " './HD158485_grat/AssScImHD158485_grat_3.fits',\n",
       " './HD158485_grat/AssScImHD158485_grat_4.fits',\n",
       " './HD158485_grat/AssScImHD158485_grat_5.fits',\n",
       " './HD158485_grat/AssScImHD158485_grat_6.fits',\n",
       " './HD158485_grat/AssScImHD158485_grat_7.fits',\n",
       " './HD158485_grat/AssScImHD158485_grat_8.fits',\n",
       " './HD158485_grat/AssScImHD158485_grat_9.fits',\n",
       " './HD158485_grat/AssScImHD158485_grat_10.fits',\n",
       " './HD158485_grat/AssScImHD158485_grat_11.fits',\n",
       " './HD158485_grat/AssScImHD158485_grat_12.fits',\n",
       " './HD158485_grat/AssScImHD158485_grat_13.fits',\n",
       " './HD158485_grat/AssScImHD158485_grat_14.fits',\n",
       " './HD158485_grat/AssScImHD158485_grat_15.fits',\n",
       " './HD158485_grat/AssScImHD158485_grat_16.fits',\n",
       " './HD158485_grat/AssScImHD158485_grat_17.fits',\n",
       " './HD158485_grat/AssScImHD158485_grat_18.fits',\n",
       " './HD158485_grat/AssScImHD158485_grat_19.fits',\n",
       " './HD158485_grat/AssScImHD158485_grat_20.fits',\n",
       " './HD158485_grat/AssScImHD158485_grat_21.fits',\n",
       " './HD158485_grat/AssScImHD158485_grat_22.fits',\n",
       " './HD158485_grat/AssScImHD158485_grat_23.fits',\n",
       " './HD158485_grat/AssScImHD158485_grat_24.fits',\n",
       " './HD158485_grat/AssScImHD158485_grat_25.fits',\n",
       " './HD158485_grat/AssScImHD158485_grat_26.fits',\n",
       " './HD158485_grat/AssScImHD158485_grat_27.fits',\n",
       " './HD158485_grat/AssScImHD158485_grat_28.fits',\n",
       " './HD158485_grat/AssScImHD158485_grat_29.fits',\n",
       " './HD158485_grat/AssScImHD158485_grat_30.fits',\n",
       " './HD158485_grat/AssScImHD158485_grat_31.fits',\n",
       " './HD158485_grat/AssScImHD158485_grat_32.fits',\n",
       " './HD158485_grat/AssScImHD158485_grat_33.fits',\n",
       " './HD158485_grat/AssScImHD158485_grat_34.fits',\n",
       " './HD158485_grat/AssScImHD158485_grat_35.fits',\n",
       " './HD158485_grat/AssScImHD158485_grat_36.fits',\n",
       " './HD158485_grat/AssScImHD158485_grat_37.fits',\n",
       " './HD158485_grat/AssScImHD158485_grat_38.fits',\n",
       " './HD158485_grat/AssScImHD158485_grat_39.fits',\n",
       " './HD158485_grat/AssScImHD158485_grat_40.fits',\n",
       " './HD158485_grat/AssScImHD158485_grat_41.fits',\n",
       " './HD158485_grat/AssScImHD158485_grat_42.fits',\n",
       " './HD158485_grat/AssScImHD158485_grat_43.fits',\n",
       " './HD158485_grat/AssScImHD158485_grat_44.fits',\n",
       " './HD158485_grat/AssScImHD158485_grat_45.fits',\n",
       " './HD158485_grat/AssScImHD158485_grat_46.fits',\n",
       " './HD158485_grat/AssScImHD158485_grat_47.fits',\n",
       " './HD158485_grat/AssScImHD158485_grat_48.fits',\n",
       " './HD158485_grat/AssScImHD158485_grat_49.fits',\n",
       " './HD158485_grat/AssScImHD158485_grat_50.fits',\n",
       " './HD158485_grat/AssScImHD158485_grat_51.fits',\n",
       " './HD158485_grat/AssScImHD158485_grat_52.fits',\n",
       " './HD158485_grat/AssScImHD158485_grat_53.fits',\n",
       " './HD158485_grat/AssScImHD158485_grat_54.fits',\n",
       " './HD158485_grat/AssScImHD158485_grat_55.fits',\n",
       " './HD158485_grat/AssScImHD158485_grat_56.fits',\n",
       " './HD158485_grat/AssScImHD158485_grat_57.fits',\n",
       " './HD158485_grat/AssScImHD158485_grat_58.fits',\n",
       " './HD158485_grat/AssScImHD158485_grat_59.fits',\n",
       " './HD158485_grat/AssScImHD158485_grat_60.fits',\n",
       " './HD158485_grat/AssScImHD158485_grat_61.fits',\n",
       " './HD158485_grat/AssScImHD158485_grat_62.fits',\n",
       " './HD158485_grat/AssScImHD158485_grat_63.fits',\n",
       " './HD158485_grat/AssScImHD158485_grat_64.fits',\n",
       " './HD158485_grat/AssScImHD158485_grat_65.fits',\n",
       " './HD158485_grat/AssScImHD158485_grat_66.fits',\n",
       " './HD158485_grat/AssScImHD158485_grat_67.fits',\n",
       " './HD158485_grat/AssScImHD158485_grat_68.fits',\n",
       " './HD158485_grat/AssScImHD158485_grat_69.fits',\n",
       " './HD158485_grat/AssScImHD158485_grat_70.fits',\n",
       " './HD158485_grat/AssScImHD158485_grat_71.fits',\n",
       " './HD158485_grat/AssScImHD158485_grat_72.fits',\n",
       " './HD158485_grat/AssScImHD158485_grat_73.fits',\n",
       " './HD158485_grat/AssScImHD158485_grat_74.fits',\n",
       " './HD158485_grat/AssScImHD158485_grat_75.fits',\n",
       " './HD158485_grat/AssScImHD158485_grat_76.fits',\n",
       " './HD158485_grat/AssScImHD158485_grat_77.fits',\n",
       " './HD158485_grat/AssScImHD158485_grat_78.fits',\n",
       " './HD158485_grat/AssScImHD158485_grat_79.fits',\n",
       " './HD158485_grat/AssScImHD158485_grat_80.fits',\n",
       " './HD158485_grat/AssScImHD158485_grat_81.fits',\n",
       " './HD158485_grat/AssScImHD158485_grat_82.fits',\n",
       " './HD158485_grat/AssScImHD158485_grat_83.fits',\n",
       " './HD158485_grat/AssScImHD158485_grat_84.fits',\n",
       " './HD158485_grat/AssScImHD158485_grat_85.fits',\n",
       " './HD158485_grat/AssScImHD158485_grat_86.fits',\n",
       " './HD158485_grat/AssScImHD158485_grat_87.fits',\n",
       " './HD158485_grat/AssScImHD158485_grat_88.fits',\n",
       " './HD158485_grat/AssScImHD158485_grat_89.fits',\n",
       " './HD158485_grat/AssScImHD158485_grat_90.fits',\n",
       " './HD158485_grat/AssScImHD158485_grat_91.fits',\n",
       " './HD158485_grat/AssScImHD158485_grat_92.fits',\n",
       " './HD158485_grat/AssScImHD158485_grat_93.fits',\n",
       " './HD158485_grat/AssScImHD158485_grat_94.fits',\n",
       " './HD158485_grat/AssScImHD158485_grat_95.fits',\n",
       " './HD158485_grat/AssScImHD158485_grat_96.fits',\n",
       " './HD158485_grat/AssScImHD158485_grat_97.fits',\n",
       " './HD158485_grat/AssScImHD158485_grat_98.fits',\n",
       " './HD158485_grat/AssScImHD158485_grat_99.fits',\n",
       " './HD158485_grat/AssScImHD158485_grat_100.fits',\n",
       " './HD158485_grat/AssScImHD158485_grat_101.fits']"
      ]
     },
     "execution_count": 11,
     "metadata": {},
     "output_type": "execute_result"
    }
   ],
   "source": [
    "filelist"
   ]
  },
  {
   "cell_type": "markdown",
   "metadata": {
    "collapsed": true
   },
   "source": [
    "## Read Input files"
   ]
  },
  {
   "cell_type": "code",
   "execution_count": 12,
   "metadata": {
    "collapsed": false
   },
   "outputs": [
    {
     "name": "stdout",
     "output_type": "stream",
     "text": [
      "./HD158485_grat/AssScImHD158485_grat_1.fits\n",
      "./HD158485_grat/AssScImHD158485_grat_2.fits\n",
      "./HD158485_grat/AssScImHD158485_grat_3.fits\n",
      "./HD158485_grat/AssScImHD158485_grat_4.fits\n",
      "./HD158485_grat/AssScImHD158485_grat_5.fits\n",
      "./HD158485_grat/AssScImHD158485_grat_6.fits\n",
      "./HD158485_grat/AssScImHD158485_grat_7.fits\n",
      "./HD158485_grat/AssScImHD158485_grat_8.fits\n",
      "./HD158485_grat/AssScImHD158485_grat_9.fits\n",
      "./HD158485_grat/AssScImHD158485_grat_10.fits\n",
      "./HD158485_grat/AssScImHD158485_grat_11.fits\n",
      "./HD158485_grat/AssScImHD158485_grat_12.fits\n",
      "./HD158485_grat/AssScImHD158485_grat_13.fits\n",
      "./HD158485_grat/AssScImHD158485_grat_14.fits\n",
      "./HD158485_grat/AssScImHD158485_grat_15.fits\n",
      "./HD158485_grat/AssScImHD158485_grat_16.fits\n",
      "./HD158485_grat/AssScImHD158485_grat_17.fits\n",
      "./HD158485_grat/AssScImHD158485_grat_18.fits\n",
      "./HD158485_grat/AssScImHD158485_grat_19.fits\n",
      "./HD158485_grat/AssScImHD158485_grat_20.fits\n",
      "./HD158485_grat/AssScImHD158485_grat_21.fits\n",
      "./HD158485_grat/AssScImHD158485_grat_22.fits\n",
      "./HD158485_grat/AssScImHD158485_grat_23.fits\n",
      "./HD158485_grat/AssScImHD158485_grat_24.fits\n",
      "./HD158485_grat/AssScImHD158485_grat_25.fits\n",
      "./HD158485_grat/AssScImHD158485_grat_26.fits\n",
      "./HD158485_grat/AssScImHD158485_grat_27.fits\n",
      "./HD158485_grat/AssScImHD158485_grat_28.fits\n",
      "./HD158485_grat/AssScImHD158485_grat_29.fits\n",
      "./HD158485_grat/AssScImHD158485_grat_30.fits\n",
      "./HD158485_grat/AssScImHD158485_grat_31.fits\n",
      "./HD158485_grat/AssScImHD158485_grat_32.fits\n",
      "./HD158485_grat/AssScImHD158485_grat_33.fits\n",
      "./HD158485_grat/AssScImHD158485_grat_34.fits\n",
      "./HD158485_grat/AssScImHD158485_grat_35.fits\n",
      "./HD158485_grat/AssScImHD158485_grat_36.fits\n",
      "./HD158485_grat/AssScImHD158485_grat_37.fits\n",
      "./HD158485_grat/AssScImHD158485_grat_38.fits\n",
      "./HD158485_grat/AssScImHD158485_grat_39.fits\n",
      "./HD158485_grat/AssScImHD158485_grat_40.fits\n",
      "./HD158485_grat/AssScImHD158485_grat_41.fits\n",
      "./HD158485_grat/AssScImHD158485_grat_42.fits\n",
      "./HD158485_grat/AssScImHD158485_grat_43.fits\n",
      "./HD158485_grat/AssScImHD158485_grat_44.fits\n",
      "./HD158485_grat/AssScImHD158485_grat_45.fits\n",
      "./HD158485_grat/AssScImHD158485_grat_46.fits\n",
      "./HD158485_grat/AssScImHD158485_grat_47.fits\n",
      "./HD158485_grat/AssScImHD158485_grat_48.fits\n",
      "./HD158485_grat/AssScImHD158485_grat_49.fits\n",
      "./HD158485_grat/AssScImHD158485_grat_50.fits\n",
      "./HD158485_grat/AssScImHD158485_grat_51.fits\n",
      "./HD158485_grat/AssScImHD158485_grat_52.fits\n",
      "./HD158485_grat/AssScImHD158485_grat_53.fits\n",
      "./HD158485_grat/AssScImHD158485_grat_54.fits\n",
      "./HD158485_grat/AssScImHD158485_grat_55.fits\n",
      "./HD158485_grat/AssScImHD158485_grat_56.fits\n",
      "./HD158485_grat/AssScImHD158485_grat_57.fits\n",
      "./HD158485_grat/AssScImHD158485_grat_58.fits\n",
      "./HD158485_grat/AssScImHD158485_grat_59.fits\n",
      "./HD158485_grat/AssScImHD158485_grat_60.fits\n",
      "./HD158485_grat/AssScImHD158485_grat_61.fits\n",
      "./HD158485_grat/AssScImHD158485_grat_62.fits\n",
      "./HD158485_grat/AssScImHD158485_grat_63.fits\n",
      "./HD158485_grat/AssScImHD158485_grat_64.fits\n",
      "./HD158485_grat/AssScImHD158485_grat_65.fits\n",
      "./HD158485_grat/AssScImHD158485_grat_66.fits\n",
      "./HD158485_grat/AssScImHD158485_grat_67.fits\n",
      "./HD158485_grat/AssScImHD158485_grat_68.fits\n",
      "./HD158485_grat/AssScImHD158485_grat_69.fits\n",
      "./HD158485_grat/AssScImHD158485_grat_70.fits\n",
      "./HD158485_grat/AssScImHD158485_grat_71.fits\n",
      "./HD158485_grat/AssScImHD158485_grat_72.fits\n",
      "./HD158485_grat/AssScImHD158485_grat_73.fits\n",
      "./HD158485_grat/AssScImHD158485_grat_74.fits\n",
      "./HD158485_grat/AssScImHD158485_grat_75.fits\n",
      "./HD158485_grat/AssScImHD158485_grat_76.fits\n",
      "./HD158485_grat/AssScImHD158485_grat_77.fits\n",
      "./HD158485_grat/AssScImHD158485_grat_78.fits\n",
      "./HD158485_grat/AssScImHD158485_grat_79.fits\n",
      "./HD158485_grat/AssScImHD158485_grat_80.fits\n",
      "./HD158485_grat/AssScImHD158485_grat_81.fits\n",
      "./HD158485_grat/AssScImHD158485_grat_82.fits\n",
      "./HD158485_grat/AssScImHD158485_grat_83.fits\n",
      "./HD158485_grat/AssScImHD158485_grat_84.fits\n",
      "./HD158485_grat/AssScImHD158485_grat_85.fits\n",
      "./HD158485_grat/AssScImHD158485_grat_86.fits\n",
      "./HD158485_grat/AssScImHD158485_grat_87.fits\n",
      "./HD158485_grat/AssScImHD158485_grat_88.fits\n",
      "./HD158485_grat/AssScImHD158485_grat_89.fits\n",
      "./HD158485_grat/AssScImHD158485_grat_90.fits\n",
      "./HD158485_grat/AssScImHD158485_grat_91.fits\n",
      "./HD158485_grat/AssScImHD158485_grat_92.fits\n",
      "./HD158485_grat/AssScImHD158485_grat_93.fits\n",
      "./HD158485_grat/AssScImHD158485_grat_94.fits\n",
      "./HD158485_grat/AssScImHD158485_grat_95.fits\n",
      "./HD158485_grat/AssScImHD158485_grat_96.fits\n",
      "./HD158485_grat/AssScImHD158485_grat_97.fits\n",
      "./HD158485_grat/AssScImHD158485_grat_98.fits\n",
      "./HD158485_grat/AssScImHD158485_grat_99.fits\n",
      "./HD158485_grat/AssScImHD158485_grat_100.fits\n",
      "./HD158485_grat/AssScImHD158485_grat_101.fits\n"
     ]
    }
   ],
   "source": [
    "allchannelallsciimages = []  # list of 16 lists of images series \n",
    "exposures_list = []        # sequential list of the exposures of the sky flats \n",
    "header_list = []           # list of headers\n",
    "data_list = []\n",
    "time_list = []                # date and time\n",
    "basefile_list = []         # basefilename\n",
    "dateobs_list = [] \n",
    "# get the primary block headers:\n",
    "for image_file in filelist: \n",
    "    print image_file\n",
    "    hdu_list = fits.open(image_file)\n",
    "    basefile_list.append(os.path.basename(image_file))\n",
    "    header=hdu_list[0].header\n",
    "    exposure=header['EXPOSURE']\n",
    "    exposures_list.append(exposure)\n",
    "    dateobs_list.append(header['DATE-OBS'])\n",
    "    header_list.append(header)\n",
    "    data=ccdproc.CCDData.read(image_file, hdu=0,unit='adu') \n",
    "    data_list.append(data)"
   ]
  },
  {
   "cell_type": "code",
   "execution_count": 13,
   "metadata": {
    "collapsed": false
   },
   "outputs": [],
   "source": [
    "#basefile_list"
   ]
  },
  {
   "cell_type": "markdown",
   "metadata": {},
   "source": [
    "## For control\n",
    "\n",
    "uncomment for control"
   ]
  },
  {
   "cell_type": "code",
   "execution_count": 14,
   "metadata": {
    "collapsed": true
   },
   "outputs": [],
   "source": [
    "index=0"
   ]
  },
  {
   "cell_type": "code",
   "execution_count": 15,
   "metadata": {
    "collapsed": false
   },
   "outputs": [],
   "source": [
    "#print exposures_list[index]"
   ]
  },
  {
   "cell_type": "code",
   "execution_count": 16,
   "metadata": {
    "collapsed": false
   },
   "outputs": [],
   "source": [
    "#header_list[index]"
   ]
  },
  {
   "cell_type": "code",
   "execution_count": 17,
   "metadata": {
    "collapsed": false
   },
   "outputs": [],
   "source": [
    "#plt.imshow(data_list[index])"
   ]
  },
  {
   "cell_type": "code",
   "execution_count": 18,
   "metadata": {
    "collapsed": true
   },
   "outputs": [],
   "source": [
    "#bkg= Background2D(data_list[index], (100, 100), filter_size=(3, 3),method='median')"
   ]
  },
  {
   "cell_type": "code",
   "execution_count": 19,
   "metadata": {
    "collapsed": false
   },
   "outputs": [],
   "source": [
    "#data_list[index].data-bkg.background"
   ]
  },
  {
   "cell_type": "markdown",
   "metadata": {},
   "source": [
    "## Background subtraction"
   ]
  },
  {
   "cell_type": "code",
   "execution_count": 20,
   "metadata": {
    "collapsed": true
   },
   "outputs": [],
   "source": [
    "correctedimage_list = []"
   ]
  },
  {
   "cell_type": "code",
   "execution_count": 21,
   "metadata": {
    "collapsed": false
   },
   "outputs": [],
   "source": [
    "for data in data_list:\n",
    "    bkg= Background2D(data, (100, 100), filter_size=(3, 3),method='median')\n",
    "    newimage=data-bkg.background\n",
    "    correctedimage_list.append(newimage)"
   ]
  },
  {
   "cell_type": "markdown",
   "metadata": {},
   "source": [
    "## Calculation of PSF"
   ]
  },
  {
   "cell_type": "code",
   "execution_count": 22,
   "metadata": {
    "collapsed": true
   },
   "outputs": [],
   "source": [
    "NBIMAGES=len(correctedimage_list)"
   ]
  },
  {
   "cell_type": "code",
   "execution_count": 23,
   "metadata": {
    "collapsed": true
   },
   "outputs": [],
   "source": [
    "def weighted_avg_and_std(values, weights):\n",
    "    \"\"\"\n",
    "    Return the weighted average and standard deviation.\n",
    "\n",
    "    values, weights -- Numpy ndarrays with the same shape.\n",
    "    \"\"\"\n",
    "    average = np.average(values, weights=weights)\n",
    "    variance = np.average((values-average)**2, weights=weights)  # Fast and numerically precise\n",
    "    return (average, np.sqrt(variance))"
   ]
  },
  {
   "cell_type": "code",
   "execution_count": 24,
   "metadata": {
    "collapsed": true
   },
   "outputs": [],
   "source": [
    "image_psf=np.zeros((NBIMAGES,6))"
   ]
  },
  {
   "cell_type": "code",
   "execution_count": 25,
   "metadata": {
    "collapsed": true
   },
   "outputs": [],
   "source": [
    "DELTA_NBINSX=10\n",
    "DELTA_NBINSY=10"
   ]
  },
  {
   "cell_type": "code",
   "execution_count": 26,
   "metadata": {
    "collapsed": false
   },
   "outputs": [
    {
     "name": "stdout",
     "output_type": "stream",
     "text": [
      "image 0 ==> NBSTARS = 1\n",
      "average prf(x) = 4.47 +/- 0.00 pixels ==> psf  4.22 +/- 0.00 arcsec \n",
      "average prf(y) = 4.33 +/- 0.00 pixels ==> psf  4.08 +/- 0.00 arcsec \n",
      "image 1 ==> NBSTARS = 5\n",
      "average prf(x) = 4.24 +/- 0.39 pixels ==> psf  4.00 +/- 0.36 arcsec \n",
      "average prf(y) = 4.09 +/- 0.18 pixels ==> psf  3.86 +/- 0.17 arcsec \n"
     ]
    },
    {
     "name": "stderr",
     "output_type": "stream",
     "text": [
      "/Users/dagoret-campagnesylvie/anaconda/envs/pyastrophys/lib/python2.7/site-packages/ipykernel/__main__.py:9: RuntimeWarning: invalid value encountered in sqrt\n"
     ]
    },
    {
     "name": "stdout",
     "output_type": "stream",
     "text": [
      "image 2 ==> NBSTARS = 21\n",
      "average prf(x) = 3.76 +/- 0.24 pixels ==> psf  3.55 +/- 0.21 arcsec \n",
      "average prf(y) = 3.81 +/- 0.77 pixels ==> psf  3.60 +/- 0.69 arcsec \n",
      "image 3 ==> NBSTARS = 21\n",
      "average prf(x) = 3.57 +/- 0.18 pixels ==> psf  3.37 +/- 0.16 arcsec \n",
      "average prf(y) = 3.96 +/- 0.65 pixels ==> psf  3.74 +/- 0.59 arcsec \n",
      "image 4 ==> NBSTARS = 10\n",
      "average prf(x) = 3.55 +/- 0.39 pixels ==> psf  3.35 +/- 0.36 arcsec \n",
      "average prf(y) = 3.54 +/- 0.77 pixels ==> psf  3.34 +/- 0.70 arcsec \n",
      "image 5 ==> NBSTARS = 23\n",
      "average prf(x) = 3.56 +/- 0.20 pixels ==> psf  3.36 +/- 0.18 arcsec \n",
      "average prf(y) = 3.50 +/- 0.78 pixels ==> psf  3.30 +/- 0.70 arcsec \n",
      "image 6 ==> NBSTARS = 33\n",
      "average prf(x) = 3.41 +/- 0.21 pixels ==> psf  3.22 +/- 0.19 arcsec \n",
      "average prf(y) = 3.42 +/- 0.74 pixels ==> psf  3.23 +/- 0.67 arcsec \n",
      "image 7 ==> NBSTARS = 15\n",
      "average prf(x) = 3.31 +/- 0.29 pixels ==> psf  3.13 +/- 0.26 arcsec \n",
      "average prf(y) = 3.41 +/- 0.32 pixels ==> psf  3.22 +/- 0.28 arcsec \n",
      "image 8 ==> NBSTARS = 20\n",
      "average prf(x) = 3.66 +/- 0.37 pixels ==> psf  3.46 +/- 0.34 arcsec \n",
      "average prf(y) = 3.57 +/- 0.60 pixels ==> psf  3.37 +/- 0.54 arcsec \n",
      "image 9 ==> NBSTARS = 14\n",
      "average prf(x) = 3.61 +/- 0.19 pixels ==> psf  3.40 +/- 0.17 arcsec \n",
      "average prf(y) = 3.49 +/- 0.80 pixels ==> psf  3.29 +/- 0.72 arcsec \n",
      "image 10 ==> NBSTARS = 12\n",
      "average prf(x) = 3.90 +/- 0.26 pixels ==> psf  3.68 +/- 0.23 arcsec \n",
      "average prf(y) = 3.82 +/- 0.42 pixels ==> psf  3.61 +/- 0.38 arcsec \n",
      "image 11 ==> NBSTARS = 8\n",
      "average prf(x) = 3.82 +/- 0.07 pixels ==> psf  3.60 +/- 0.06 arcsec \n",
      "average prf(y) = 3.71 +/- 0.12 pixels ==> psf  3.50 +/- 0.11 arcsec \n",
      "image 12 ==> NBSTARS = 8\n",
      "average prf(x) = 3.07 +/- 0.56 pixels ==> psf  2.90 +/- 0.50 arcsec \n",
      "average prf(y) = 3.63 +/- 0.30 pixels ==> psf  3.43 +/- 0.27 arcsec \n",
      "image 13 ==> NBSTARS = 10\n",
      "average prf(x) = 3.66 +/- 0.29 pixels ==> psf  3.45 +/- 0.26 arcsec \n",
      "average prf(y) = 4.62 +/- 0.64 pixels ==> psf  4.36 +/- 0.58 arcsec \n",
      "image 14 ==> NBSTARS = 7\n",
      "average prf(x) = 4.03 +/- 0.04 pixels ==> psf  3.80 +/- 0.04 arcsec \n",
      "average prf(y) = 3.95 +/- 0.59 pixels ==> psf  3.72 +/- 0.54 arcsec \n",
      "image 15 ==> NBSTARS = 2\n",
      "average prf(x) = 3.99 +/- 0.04 pixels ==> psf  3.76 +/- 0.03 arcsec \n",
      "average prf(y) = 3.87 +/- 0.14 pixels ==> psf  3.65 +/- 0.12 arcsec \n",
      "image 16 ==> NBSTARS = 2\n",
      "average prf(x) = nan +/- nan pixels ==> psf  nan +/- nan arcsec \n",
      "average prf(y) = nan +/- nan pixels ==> psf  nan +/- nan arcsec \n"
     ]
    },
    {
     "name": "stderr",
     "output_type": "stream",
     "text": [
      "/Users/dagoret-campagnesylvie/anaconda/envs/pyastrophys/lib/python2.7/site-packages/numpy/core/_methods.py:59: RuntimeWarning: Mean of empty slice.\n",
      "  warnings.warn(\"Mean of empty slice.\", RuntimeWarning)\n",
      "/Users/dagoret-campagnesylvie/anaconda/envs/pyastrophys/lib/python2.7/site-packages/numpy/core/_methods.py:70: RuntimeWarning: invalid value encountered in double_scalars\n",
      "  ret = ret.dtype.type(ret / rcount)\n",
      "/Users/dagoret-campagnesylvie/anaconda/envs/pyastrophys/lib/python2.7/site-packages/numpy/core/_methods.py:82: RuntimeWarning: Degrees of freedom <= 0 for slice\n",
      "  warnings.warn(\"Degrees of freedom <= 0 for slice\", RuntimeWarning)\n",
      "/Users/dagoret-campagnesylvie/anaconda/envs/pyastrophys/lib/python2.7/site-packages/numpy/core/_methods.py:94: RuntimeWarning: invalid value encountered in true_divide\n",
      "  arrmean, rcount, out=arrmean, casting='unsafe', subok=False)\n",
      "/Users/dagoret-campagnesylvie/anaconda/envs/pyastrophys/lib/python2.7/site-packages/numpy/core/_methods.py:116: RuntimeWarning: invalid value encountered in double_scalars\n",
      "  ret = ret.dtype.type(ret / rcount)\n"
     ]
    },
    {
     "name": "stdout",
     "output_type": "stream",
     "text": [
      "image 17 ==> NBSTARS = 2\n",
      "average prf(x) = nan +/- nan pixels ==> psf  nan +/- nan arcsec \n",
      "average prf(y) = 3.02 +/- 0.00 pixels ==> psf  2.85 +/- 0.00 arcsec \n",
      "image 18 ==> NBSTARS = 4\n",
      "average prf(x) = nan +/- nan pixels ==> psf  nan +/- nan arcsec \n",
      "average prf(y) = 3.05 +/- 0.00 pixels ==> psf  2.88 +/- 0.00 arcsec \n",
      "image 19 ==> NBSTARS = 1\n",
      "average prf(x) = nan +/- nan pixels ==> psf  nan +/- nan arcsec \n",
      "average prf(y) = 3.31 +/- 0.00 pixels ==> psf  3.13 +/- 0.00 arcsec \n",
      "image 20 ==> NBSTARS = 2\n",
      "average prf(x) = nan +/- nan pixels ==> psf  nan +/- nan arcsec \n",
      "average prf(y) = nan +/- nan pixels ==> psf  nan +/- nan arcsec \n",
      "image 21 ==> NBSTARS = 44\n",
      "average prf(x) = 3.29 +/- 0.25 pixels ==> psf  3.10 +/- 0.23 arcsec \n",
      "average prf(y) = 3.60 +/- 0.68 pixels ==> psf  3.39 +/- 0.61 arcsec \n",
      "image 22 ==> NBSTARS = 42\n",
      "average prf(x) = 3.26 +/- 0.24 pixels ==> psf  3.08 +/- 0.22 arcsec \n",
      "average prf(y) = 3.42 +/- 0.79 pixels ==> psf  3.23 +/- 0.71 arcsec \n",
      "image 23 ==> NBSTARS = 49\n",
      "average prf(x) = 3.13 +/- 0.24 pixels ==> psf  2.96 +/- 0.22 arcsec \n",
      "average prf(y) = 3.43 +/- 0.83 pixels ==> psf  3.24 +/- 0.75 arcsec \n",
      "image 24 ==> NBSTARS = 41\n",
      "average prf(x) = 3.30 +/- 0.26 pixels ==> psf  3.12 +/- 0.23 arcsec \n",
      "average prf(y) = 3.39 +/- 0.86 pixels ==> psf  3.20 +/- 0.78 arcsec \n",
      "image 25 ==> NBSTARS = 48\n",
      "average prf(x) = 3.09 +/- 0.26 pixels ==> psf  2.92 +/- 0.24 arcsec \n",
      "average prf(y) = 3.31 +/- 0.81 pixels ==> psf  3.13 +/- 0.73 arcsec \n",
      "image 26 ==> NBSTARS = 39\n",
      "average prf(x) = 3.19 +/- 0.22 pixels ==> psf  3.01 +/- 0.20 arcsec \n",
      "average prf(y) = 3.39 +/- 0.71 pixels ==> psf  3.20 +/- 0.64 arcsec \n",
      "image 27 ==> NBSTARS = 46\n",
      "average prf(x) = 3.09 +/- 0.28 pixels ==> psf  2.92 +/- 0.25 arcsec \n",
      "average prf(y) = 3.51 +/- 0.82 pixels ==> psf  3.32 +/- 0.74 arcsec \n",
      "image 28 ==> NBSTARS = 46\n",
      "average prf(x) = 3.18 +/- 0.26 pixels ==> psf  3.00 +/- 0.23 arcsec \n",
      "average prf(y) = 3.49 +/- 0.81 pixels ==> psf  3.29 +/- 0.74 arcsec \n",
      "image 29 ==> NBSTARS = 49\n",
      "average prf(x) = 3.21 +/- 0.49 pixels ==> psf  3.03 +/- 0.44 arcsec \n",
      "average prf(y) = 3.37 +/- 0.88 pixels ==> psf  3.18 +/- 0.80 arcsec \n",
      "image 30 ==> NBSTARS = 56\n",
      "average prf(x) = 3.04 +/- 0.26 pixels ==> psf  2.87 +/- 0.24 arcsec \n",
      "average prf(y) = 3.31 +/- 0.84 pixels ==> psf  3.13 +/- 0.76 arcsec \n",
      "image 31 ==> NBSTARS = 20\n",
      "average prf(x) = 3.11 +/- 0.16 pixels ==> psf  2.93 +/- 0.14 arcsec \n",
      "average prf(y) = 3.44 +/- 0.15 pixels ==> psf  3.25 +/- 0.14 arcsec \n",
      "image 32 ==> NBSTARS = 15\n",
      "average prf(x) = 3.27 +/- 0.17 pixels ==> psf  3.08 +/- 0.15 arcsec \n",
      "average prf(y) = 3.47 +/- 0.16 pixels ==> psf  3.27 +/- 0.15 arcsec \n",
      "image 33 ==> NBSTARS = 27\n",
      "average prf(x) = 3.30 +/- 0.84 pixels ==> psf  3.12 +/- 0.76 arcsec \n",
      "average prf(y) = 3.34 +/- 0.91 pixels ==> psf  3.16 +/- 0.82 arcsec \n",
      "image 34 ==> NBSTARS = 21\n",
      "average prf(x) = 3.24 +/- 0.26 pixels ==> psf  3.05 +/- 0.23 arcsec \n",
      "average prf(y) = 3.43 +/- 0.20 pixels ==> psf  3.24 +/- 0.18 arcsec \n",
      "image 35 ==> NBSTARS = 10\n",
      "average prf(x) = 3.59 +/- 0.83 pixels ==> psf  3.39 +/- 0.75 arcsec \n",
      "average prf(y) = 3.65 +/- 0.76 pixels ==> psf  3.44 +/- 0.69 arcsec \n",
      "image 36 ==> NBSTARS = 33\n",
      "average prf(x) = 3.04 +/- 0.75 pixels ==> psf  2.87 +/- 0.68 arcsec \n",
      "average prf(y) = 3.33 +/- 0.35 pixels ==> psf  3.14 +/- 0.31 arcsec \n",
      "image 37 ==> NBSTARS = 11\n",
      "average prf(x) = 3.17 +/- 0.19 pixels ==> psf  2.99 +/- 0.17 arcsec \n",
      "average prf(y) = 3.50 +/- 0.15 pixels ==> psf  3.30 +/- 0.14 arcsec \n",
      "image 38 ==> NBSTARS = 17\n",
      "average prf(x) = 3.18 +/- 0.18 pixels ==> psf  3.00 +/- 0.17 arcsec \n",
      "average prf(y) = 3.45 +/- 0.43 pixels ==> psf  3.26 +/- 0.39 arcsec \n",
      "image 39 ==> NBSTARS = 29\n",
      "average prf(x) = 2.96 +/- 0.17 pixels ==> psf  2.79 +/- 0.15 arcsec \n",
      "average prf(y) = 3.22 +/- 0.46 pixels ==> psf  3.04 +/- 0.41 arcsec \n",
      "image 40 ==> NBSTARS = 22\n",
      "average prf(x) = 2.99 +/- 0.19 pixels ==> psf  2.82 +/- 0.17 arcsec \n",
      "average prf(y) = 3.20 +/- 0.18 pixels ==> psf  3.02 +/- 0.16 arcsec \n",
      "image 41 ==> NBSTARS = 7\n",
      "average prf(x) = 2.87 +/- 0.07 pixels ==> psf  2.71 +/- 0.06 arcsec \n",
      "average prf(y) = 3.25 +/- 0.04 pixels ==> psf  3.06 +/- 0.03 arcsec \n",
      "image 42 ==> NBSTARS = 5\n",
      "average prf(x) = 3.05 +/- 0.09 pixels ==> psf  2.88 +/- 0.08 arcsec \n",
      "average prf(y) = 3.60 +/- 0.10 pixels ==> psf  3.39 +/- 0.09 arcsec \n",
      "image 43 ==> NBSTARS = 6\n",
      "average prf(x) = 3.01 +/- 0.15 pixels ==> psf  2.84 +/- 0.14 arcsec \n",
      "average prf(y) = 3.37 +/- 0.12 pixels ==> psf  3.18 +/- 0.11 arcsec \n",
      "image 44 ==> NBSTARS = 8\n",
      "average prf(x) = 2.96 +/- 0.16 pixels ==> psf  2.80 +/- 0.14 arcsec \n",
      "average prf(y) = 3.45 +/- 0.11 pixels ==> psf  3.26 +/- 0.10 arcsec \n",
      "image 45 ==> NBSTARS = 8\n",
      "average prf(x) = 2.93 +/- 0.08 pixels ==> psf  2.76 +/- 0.07 arcsec \n",
      "average prf(y) = 3.29 +/- 0.07 pixels ==> psf  3.11 +/- 0.07 arcsec \n",
      "image 46 ==> NBSTARS = 8\n",
      "average prf(x) = 3.02 +/- 0.22 pixels ==> psf  2.85 +/- 0.20 arcsec \n",
      "average prf(y) = 3.26 +/- 0.17 pixels ==> psf  3.07 +/- 0.16 arcsec \n",
      "image 47 ==> NBSTARS = 10\n",
      "average prf(x) = 3.07 +/- 0.67 pixels ==> psf  2.90 +/- 0.61 arcsec \n",
      "average prf(y) = 3.27 +/- 0.34 pixels ==> psf  3.09 +/- 0.31 arcsec \n",
      "image 48 ==> NBSTARS = 6\n",
      "average prf(x) = 2.91 +/- 0.02 pixels ==> psf  2.75 +/- 0.02 arcsec \n",
      "average prf(y) = 3.32 +/- 0.09 pixels ==> psf  3.14 +/- 0.08 arcsec \n",
      "image 49 ==> NBSTARS = 5\n",
      "average prf(x) = 2.95 +/- 0.06 pixels ==> psf  2.79 +/- 0.06 arcsec \n",
      "average prf(y) = 3.35 +/- 0.09 pixels ==> psf  3.16 +/- 0.08 arcsec \n",
      "image 50 ==> NBSTARS = 7\n",
      "average prf(x) = 2.97 +/- 0.16 pixels ==> psf  2.80 +/- 0.15 arcsec \n",
      "average prf(y) = 3.41 +/- 0.12 pixels ==> psf  3.22 +/- 0.11 arcsec \n",
      "image 51 ==> NBSTARS = 69\n",
      "average prf(x) = 3.13 +/- 0.40 pixels ==> psf  2.95 +/- 0.36 arcsec \n",
      "average prf(y) = 3.67 +/- 0.86 pixels ==> psf  3.46 +/- 0.78 arcsec \n",
      "image 52 ==> NBSTARS = 42\n",
      "average prf(x) = 3.11 +/- 0.23 pixels ==> psf  2.94 +/- 0.20 arcsec \n",
      "average prf(y) = 3.76 +/- 0.66 pixels ==> psf  3.55 +/- 0.60 arcsec \n",
      "image 53 ==> NBSTARS = 42\n",
      "average prf(x) = 3.19 +/- 0.26 pixels ==> psf  3.01 +/- 0.23 arcsec \n",
      "average prf(y) = 3.70 +/- 0.63 pixels ==> psf  3.49 +/- 0.57 arcsec \n",
      "image 54 ==> NBSTARS = 45\n",
      "average prf(x) = 3.37 +/- 0.63 pixels ==> psf  3.18 +/- 0.57 arcsec \n",
      "average prf(y) = 3.75 +/- 0.60 pixels ==> psf  3.54 +/- 0.54 arcsec \n",
      "image 55 ==> NBSTARS = 42\n",
      "average prf(x) = 3.27 +/- 0.21 pixels ==> psf  3.09 +/- 0.19 arcsec \n",
      "average prf(y) = 3.80 +/- 0.65 pixels ==> psf  3.59 +/- 0.59 arcsec \n",
      "image 56 ==> NBSTARS = 34\n",
      "average prf(x) = 3.29 +/- 0.22 pixels ==> psf  3.11 +/- 0.20 arcsec \n",
      "average prf(y) = 3.74 +/- 0.73 pixels ==> psf  3.53 +/- 0.66 arcsec \n",
      "image 57 ==> NBSTARS = 46\n",
      "average prf(x) = 3.12 +/- 0.67 pixels ==> psf  2.95 +/- 0.61 arcsec \n",
      "average prf(y) = 3.54 +/- 0.69 pixels ==> psf  3.34 +/- 0.62 arcsec \n",
      "image 58 ==> NBSTARS = 45\n",
      "average prf(x) = 3.36 +/- 0.28 pixels ==> psf  3.17 +/- 0.25 arcsec \n",
      "average prf(y) = 3.97 +/- 0.72 pixels ==> psf  3.75 +/- 0.65 arcsec \n",
      "image 59 ==> NBSTARS = 52\n",
      "average prf(x) = 3.05 +/- 0.44 pixels ==> psf  2.88 +/- 0.40 arcsec \n",
      "average prf(y) = 3.58 +/- 0.64 pixels ==> psf  3.38 +/- 0.58 arcsec \n",
      "image 60 ==> NBSTARS = 41\n",
      "average prf(x) = 3.10 +/- 0.19 pixels ==> psf  2.93 +/- 0.17 arcsec \n",
      "average prf(y) = 3.69 +/- 0.69 pixels ==> psf  3.48 +/- 0.62 arcsec \n",
      "image 61 ==> NBSTARS = 17\n",
      "average prf(x) = 3.10 +/- 0.16 pixels ==> psf  2.93 +/- 0.14 arcsec \n",
      "average prf(y) = 3.60 +/- 0.69 pixels ==> psf  3.40 +/- 0.62 arcsec \n",
      "image 62 ==> NBSTARS = 10\n",
      "average prf(x) = 3.10 +/- 0.12 pixels ==> psf  2.92 +/- 0.11 arcsec \n",
      "average prf(y) = 3.47 +/- 0.09 pixels ==> psf  3.28 +/- 0.08 arcsec \n",
      "image 63 ==> NBSTARS = 13\n",
      "average prf(x) = 3.05 +/- 0.15 pixels ==> psf  2.88 +/- 0.14 arcsec \n",
      "average prf(y) = 3.57 +/- 0.20 pixels ==> psf  3.37 +/- 0.18 arcsec \n",
      "image 64 ==> NBSTARS = 18\n",
      "average prf(x) = 3.20 +/- 0.20 pixels ==> psf  3.02 +/- 0.18 arcsec \n",
      "average prf(y) = 3.77 +/- 0.41 pixels ==> psf  3.56 +/- 0.37 arcsec \n",
      "image 65 ==> NBSTARS = 17\n",
      "average prf(x) = 3.05 +/- 0.15 pixels ==> psf  2.88 +/- 0.14 arcsec \n",
      "average prf(y) = 3.75 +/- 0.18 pixels ==> psf  3.54 +/- 0.16 arcsec \n",
      "image 66 ==> NBSTARS = 15\n",
      "average prf(x) = 2.94 +/- 0.19 pixels ==> psf  2.77 +/- 0.17 arcsec \n",
      "average prf(y) = 3.70 +/- 0.21 pixels ==> psf  3.50 +/- 0.19 arcsec \n",
      "image 67 ==> NBSTARS = 19\n",
      "average prf(x) = 3.13 +/- 0.33 pixels ==> psf  2.95 +/- 0.30 arcsec \n",
      "average prf(y) = 3.85 +/- 0.22 pixels ==> psf  3.63 +/- 0.20 arcsec \n",
      "image 68 ==> NBSTARS = 15\n",
      "average prf(x) = 3.10 +/- 0.25 pixels ==> psf  2.92 +/- 0.22 arcsec \n",
      "average prf(y) = 3.54 +/- 0.19 pixels ==> psf  3.34 +/- 0.17 arcsec \n",
      "image 69 ==> NBSTARS = 14\n",
      "average prf(x) = 3.10 +/- 0.18 pixels ==> psf  2.93 +/- 0.16 arcsec \n",
      "average prf(y) = 3.49 +/- 0.17 pixels ==> psf  3.30 +/- 0.16 arcsec \n",
      "image 70 ==> NBSTARS = 19\n",
      "average prf(x) = 3.04 +/- 0.18 pixels ==> psf  2.87 +/- 0.16 arcsec \n",
      "average prf(y) = 3.54 +/- 0.39 pixels ==> psf  3.34 +/- 0.35 arcsec \n",
      "image 71 ==> NBSTARS = 43\n",
      "average prf(x) = 2.98 +/- 0.18 pixels ==> psf  2.81 +/- 0.16 arcsec \n",
      "average prf(y) = 3.63 +/- 0.74 pixels ==> psf  3.43 +/- 0.67 arcsec \n",
      "image 72 ==> NBSTARS = 49\n",
      "average prf(x) = 3.03 +/- 0.22 pixels ==> psf  2.86 +/- 0.20 arcsec \n",
      "average prf(y) = 3.60 +/- 0.75 pixels ==> psf  3.40 +/- 0.68 arcsec \n",
      "image 73 ==> NBSTARS = 47\n",
      "average prf(x) = 3.17 +/- 0.19 pixels ==> psf  3.00 +/- 0.17 arcsec \n",
      "average prf(y) = 3.53 +/- 0.77 pixels ==> psf  3.33 +/- 0.70 arcsec \n",
      "image 74 ==> NBSTARS = 46\n",
      "average prf(x) = 3.13 +/- 0.22 pixels ==> psf  2.96 +/- 0.20 arcsec \n",
      "average prf(y) = 3.53 +/- 0.70 pixels ==> psf  3.33 +/- 0.63 arcsec \n",
      "image 75 ==> NBSTARS = 39\n",
      "average prf(x) = 2.89 +/- 0.26 pixels ==> psf  2.73 +/- 0.23 arcsec \n",
      "average prf(y) = 3.57 +/- 0.86 pixels ==> psf  3.37 +/- 0.78 arcsec \n",
      "image 76 ==> NBSTARS = 52\n",
      "average prf(x) = 2.83 +/- 0.26 pixels ==> psf  2.67 +/- 0.23 arcsec \n",
      "average prf(y) = 3.54 +/- 0.79 pixels ==> psf  3.34 +/- 0.72 arcsec \n",
      "image 77 ==> NBSTARS = 45\n",
      "average prf(x) = 3.08 +/- 0.24 pixels ==> psf  2.90 +/- 0.22 arcsec \n",
      "average prf(y) = 3.40 +/- 0.80 pixels ==> psf  3.21 +/- 0.72 arcsec \n",
      "image 78 ==> NBSTARS = 48\n",
      "average prf(x) = 2.88 +/- 0.25 pixels ==> psf  2.72 +/- 0.23 arcsec \n",
      "average prf(y) = 3.68 +/- 0.74 pixels ==> psf  3.48 +/- 0.67 arcsec \n",
      "image 79 ==> NBSTARS = 44\n",
      "average prf(x) = 2.95 +/- 0.24 pixels ==> psf  2.78 +/- 0.22 arcsec \n",
      "average prf(y) = 3.60 +/- 0.78 pixels ==> psf  3.40 +/- 0.70 arcsec \n",
      "image 80 ==> NBSTARS = 49\n",
      "average prf(x) = 2.96 +/- 0.23 pixels ==> psf  2.79 +/- 0.21 arcsec \n",
      "average prf(y) = 3.52 +/- 0.84 pixels ==> psf  3.32 +/- 0.76 arcsec \n",
      "image 81 ==> NBSTARS = 19\n",
      "average prf(x) = 2.91 +/- 0.18 pixels ==> psf  2.75 +/- 0.17 arcsec \n",
      "average prf(y) = 3.66 +/- 0.20 pixels ==> psf  3.45 +/- 0.18 arcsec \n",
      "image 82 ==> NBSTARS = 23\n",
      "average prf(x) = 2.70 +/- 0.20 pixels ==> psf  2.55 +/- 0.18 arcsec \n",
      "average prf(y) = 3.49 +/- 0.20 pixels ==> psf  3.29 +/- 0.18 arcsec \n",
      "image 83 ==> NBSTARS = 15\n",
      "average prf(x) = 2.76 +/- 0.20 pixels ==> psf  2.60 +/- 0.18 arcsec \n",
      "average prf(y) = 3.45 +/- 0.21 pixels ==> psf  3.26 +/- 0.19 arcsec \n",
      "image 84 ==> NBSTARS = 14\n",
      "average prf(x) = 2.94 +/- 0.20 pixels ==> psf  2.78 +/- 0.18 arcsec \n",
      "average prf(y) = 3.62 +/- 0.20 pixels ==> psf  3.42 +/- 0.18 arcsec \n",
      "image 85 ==> NBSTARS = 17\n",
      "average prf(x) = 2.88 +/- 0.22 pixels ==> psf  2.72 +/- 0.20 arcsec \n",
      "average prf(y) = 3.63 +/- 0.21 pixels ==> psf  3.43 +/- 0.19 arcsec \n",
      "image 86 ==> NBSTARS = 16\n",
      "average prf(x) = 2.97 +/- 0.19 pixels ==> psf  2.81 +/- 0.17 arcsec \n",
      "average prf(y) = 3.62 +/- 0.23 pixels ==> psf  3.42 +/- 0.20 arcsec \n",
      "image 87 ==> NBSTARS = 23\n",
      "average prf(x) = 2.79 +/- 0.21 pixels ==> psf  2.64 +/- 0.19 arcsec \n",
      "average prf(y) = 3.43 +/- 0.24 pixels ==> psf  3.24 +/- 0.21 arcsec \n",
      "image 88 ==> NBSTARS = 24\n",
      "average prf(x) = 3.04 +/- 0.20 pixels ==> psf  2.87 +/- 0.18 arcsec \n",
      "average prf(y) = 3.54 +/- 0.36 pixels ==> psf  3.35 +/- 0.32 arcsec \n",
      "image 89 ==> NBSTARS = 15\n",
      "average prf(x) = 2.83 +/- 0.19 pixels ==> psf  2.68 +/- 0.17 arcsec \n",
      "average prf(y) = 3.76 +/- 0.17 pixels ==> psf  3.55 +/- 0.16 arcsec \n",
      "image 90 ==> NBSTARS = 12\n",
      "average prf(x) = 3.15 +/- 0.17 pixels ==> psf  2.98 +/- 0.15 arcsec \n",
      "average prf(y) = 3.61 +/- 0.18 pixels ==> psf  3.41 +/- 0.16 arcsec \n",
      "image 91 ==> NBSTARS = 6\n",
      "average prf(x) = 3.17 +/- 0.16 pixels ==> psf  2.99 +/- 0.14 arcsec \n",
      "average prf(y) = 3.51 +/- 0.08 pixels ==> psf  3.31 +/- 0.07 arcsec \n",
      "image 92 ==> NBSTARS = 5\n",
      "average prf(x) = 3.03 +/- 0.13 pixels ==> psf  2.86 +/- 0.12 arcsec \n",
      "average prf(y) = 3.67 +/- 0.09 pixels ==> psf  3.46 +/- 0.08 arcsec \n",
      "image 93 ==> NBSTARS = 5\n",
      "average prf(x) = 2.87 +/- 0.11 pixels ==> psf  2.71 +/- 0.10 arcsec \n",
      "average prf(y) = 3.53 +/- 0.06 pixels ==> psf  3.33 +/- 0.05 arcsec \n",
      "image 94 ==> NBSTARS = 7\n",
      "average prf(x) = 2.81 +/- 0.12 pixels ==> psf  2.65 +/- 0.10 arcsec \n",
      "average prf(y) = 3.42 +/- 0.22 pixels ==> psf  3.23 +/- 0.20 arcsec \n",
      "image 95 ==> NBSTARS = 6\n",
      "average prf(x) = 2.97 +/- 0.17 pixels ==> psf  2.81 +/- 0.16 arcsec \n",
      "average prf(y) = 3.53 +/- 0.13 pixels ==> psf  3.33 +/- 0.12 arcsec \n",
      "image 96 ==> NBSTARS = 6\n",
      "average prf(x) = 3.10 +/- 0.16 pixels ==> psf  2.93 +/- 0.14 arcsec \n",
      "average prf(y) = 3.52 +/- 0.11 pixels ==> psf  3.32 +/- 0.10 arcsec \n",
      "image 97 ==> NBSTARS = 5\n",
      "average prf(x) = 2.97 +/- 0.16 pixels ==> psf  2.80 +/- 0.14 arcsec \n",
      "average prf(y) = 3.55 +/- 0.09 pixels ==> psf  3.35 +/- 0.08 arcsec \n",
      "image 98 ==> NBSTARS = 9\n",
      "average prf(x) = 2.86 +/- 0.17 pixels ==> psf  2.70 +/- 0.15 arcsec \n",
      "average prf(y) = 3.33 +/- 0.07 pixels ==> psf  3.14 +/- 0.06 arcsec \n",
      "image 99 ==> NBSTARS = 9\n",
      "average prf(x) = 3.04 +/- 0.44 pixels ==> psf  2.87 +/- 0.40 arcsec \n",
      "average prf(y) = 3.28 +/- 0.09 pixels ==> psf  3.10 +/- 0.08 arcsec \n",
      "image 100 ==> NBSTARS = 7\n",
      "average prf(x) = 3.01 +/- 1.00 pixels ==> psf  2.84 +/- 0.90 arcsec \n",
      "average prf(y) = 3.29 +/- 0.11 pixels ==> psf  3.10 +/- 0.10 arcsec \n"
     ]
    }
   ],
   "source": [
    "# loop on images\n",
    "index=-1\n",
    "for image in correctedimage_list:\n",
    "    index=index+1\n",
    "    mean, median, std = sigma_clipped_stats(image, sigma=10.0, iters=5) \n",
    "    sources = daofind(image - median, fwhm=3.0, threshold=50.*std)\n",
    "    selected_stars=sources.as_array()\n",
    "    NBSTARS=selected_stars.shape[0]\n",
    "    print 'image {} ==> NBSTARS = {}'.format(index,NBSTARS)\n",
    "    image_psf[index,0]=index\n",
    "    image_psf[index,1]=NBSTARS\n",
    "    star_psfx=np.zeros(NBSTARS)\n",
    "    star_psfy=np.zeros(NBSTARS)\n",
    "    # loop on stars\n",
    "    for istar in range(NBSTARS):\n",
    "        X = int(selected_stars[istar][1])\n",
    "        Y = int(selected_stars[istar][2])\n",
    "        prf_image = image[Y-DELTA_NBINSY:Y+DELTA_NBINSY,X-DELTA_NBINSX:X+DELTA_NBINSX]\n",
    "        oneprfX=prf_image.sum(axis=0)\n",
    "        oneprfY=prf_image.sum(axis=1)\n",
    "        if oneprfX.sum() == 0 or oneprfY.sum() == 0:\n",
    "            star_psfx[istar]=0\n",
    "            star_psfy[istar]=0\n",
    "        else:\n",
    "            posX,sigX=weighted_avg_and_std(np.arange(oneprfX.shape[0]),oneprfX)\n",
    "            posY,sigY=weighted_avg_and_std(np.arange(oneprfY.shape[0]),oneprfY)\n",
    "            star_psfx[istar]=sigX\n",
    "            star_psfy[istar]=sigY\n",
    "        \n",
    "    all_sigx=star_psfx[np.logical_not(np.isnan(star_psfx))]\n",
    "    all_sigy=star_psfy[np.logical_not(np.isnan(star_psfy))]\n",
    "    all_sigx=all_sigx[all_sigx>2.4]\n",
    "    all_sigy=all_sigy[all_sigy>2.4]\n",
    "    print 'average prf(x) = {:2.2f} +/- {:2.2f} pixels ==> psf  {:2.2f} +/- {:2.2f} arcsec '.format(np.median(all_sigx),all_sigx.std(),np.median(all_sigx)*0.4*2.36,all_sigx.std()*0.4*2.26)\n",
    "    print 'average prf(y) = {:2.2f} +/- {:2.2f} pixels ==> psf  {:2.2f} +/- {:2.2f} arcsec '.format(np.median(all_sigy),all_sigy.std(),np.median(all_sigy)*0.4*2.36,all_sigy.std()*0.4*2.26)\n",
    "    image_psf[index,2]=np.median(all_sigx)\n",
    "    image_psf[index,3]=np.median(all_sigy)\n",
    "    image_psf[index,4]=all_sigx.std()\n",
    "    image_psf[index,5]=all_sigy.std()"
   ]
  },
  {
   "cell_type": "markdown",
   "metadata": {
    "collapsed": false
   },
   "source": [
    "## Create astropy table"
   ]
  },
  {
   "cell_type": "code",
   "execution_count": 27,
   "metadata": {
    "collapsed": false
   },
   "outputs": [],
   "source": [
    "t=Table(rows=image_psf,names=('num','nbstars','prfx','pfry','sig_prfx','sig_prfy'),dtype=('i4','i4','f8','f8','f8','f8'))"
   ]
  },
  {
   "cell_type": "code",
   "execution_count": 28,
   "metadata": {
    "collapsed": false
   },
   "outputs": [
    {
     "data": {
      "text/html": [
       "&lt;Table length=101&gt;\n",
       "<table id=\"table17854702160\">\n",
       "<thead><tr><th>num</th><th>nbstars</th><th>prfx</th><th>pfry</th><th>sig_prfx</th><th>sig_prfy</th></tr></thead>\n",
       "<thead><tr><th>int32</th><th>int32</th><th>float64</th><th>float64</th><th>float64</th><th>float64</th></tr></thead>\n",
       "<tr><td>0</td><td>1</td><td>4.47415632464</td><td>4.32646900741</td><td>0.0</td><td>0.0</td></tr>\n",
       "<tr><td>1</td><td>5</td><td>4.23915877347</td><td>4.09248732084</td><td>0.392718231946</td><td>0.18464392513</td></tr>\n",
       "<tr><td>2</td><td>21</td><td>3.76020655028</td><td>3.81432116694</td><td>0.235852244067</td><td>0.767497075115</td></tr>\n",
       "<tr><td>3</td><td>21</td><td>3.56680321661</td><td>3.96483104307</td><td>0.181167115677</td><td>0.648766625551</td></tr>\n",
       "<tr><td>4</td><td>10</td><td>3.54780685321</td><td>3.54182907249</td><td>0.394432864272</td><td>0.769873402452</td></tr>\n",
       "<tr><td>5</td><td>23</td><td>3.5644327671</td><td>3.49984527018</td><td>0.199997271512</td><td>0.77663355496</td></tr>\n",
       "<tr><td>6</td><td>33</td><td>3.40986449559</td><td>3.42051094206</td><td>0.21440035444</td><td>0.74200994629</td></tr>\n",
       "<tr><td>7</td><td>15</td><td>3.31082909982</td><td>3.41278053444</td><td>0.287048747871</td><td>0.315149038754</td></tr>\n",
       "<tr><td>8</td><td>20</td><td>3.66129988733</td><td>3.56658136927</td><td>0.372296084714</td><td>0.601672154467</td></tr>\n",
       "<tr><td>9</td><td>14</td><td>3.60612987419</td><td>3.49005403591</td><td>0.192594537903</td><td>0.801257717416</td></tr>\n",
       "<tr><td>...</td><td>...</td><td>...</td><td>...</td><td>...</td><td>...</td></tr>\n",
       "<tr><td>91</td><td>6</td><td>3.16859975518</td><td>3.50709637803</td><td>0.159947368985</td><td>0.0772788214905</td></tr>\n",
       "<tr><td>92</td><td>5</td><td>3.02875333274</td><td>3.66832664569</td><td>0.130418216069</td><td>0.0885665888383</td></tr>\n",
       "<tr><td>93</td><td>5</td><td>2.86973531149</td><td>3.53030387204</td><td>0.108624747752</td><td>0.0581096888442</td></tr>\n",
       "<tr><td>94</td><td>7</td><td>2.80924432238</td><td>3.42057372544</td><td>0.115598627859</td><td>0.222711040938</td></tr>\n",
       "<tr><td>95</td><td>6</td><td>2.97402080328</td><td>3.52926170711</td><td>0.174537871613</td><td>0.127961008887</td></tr>\n",
       "<tr><td>96</td><td>6</td><td>3.10209356657</td><td>3.52087719598</td><td>0.157880694399</td><td>0.108577058827</td></tr>\n",
       "<tr><td>97</td><td>5</td><td>2.96758608018</td><td>3.54855067297</td><td>0.155758620817</td><td>0.0902872648564</td></tr>\n",
       "<tr><td>98</td><td>9</td><td>2.86477721164</td><td>3.32928575827</td><td>0.166322328307</td><td>0.071233122393</td></tr>\n",
       "<tr><td>99</td><td>9</td><td>3.03891198888</td><td>3.28138550238</td><td>0.437079620791</td><td>0.0907935321992</td></tr>\n",
       "<tr><td>100</td><td>7</td><td>3.0103693753</td><td>3.28591169397</td><td>0.998030475964</td><td>0.108762084389</td></tr>\n",
       "</table>"
      ],
      "text/plain": [
       "<Table length=101>\n",
       " num  nbstars      prfx          pfry        sig_prfx        sig_prfy   \n",
       "int32  int32     float64       float64       float64         float64    \n",
       "----- ------- ------------- ------------- -------------- ---------------\n",
       "    0       1 4.47415632464 4.32646900741            0.0             0.0\n",
       "    1       5 4.23915877347 4.09248732084 0.392718231946   0.18464392513\n",
       "    2      21 3.76020655028 3.81432116694 0.235852244067  0.767497075115\n",
       "    3      21 3.56680321661 3.96483104307 0.181167115677  0.648766625551\n",
       "    4      10 3.54780685321 3.54182907249 0.394432864272  0.769873402452\n",
       "    5      23  3.5644327671 3.49984527018 0.199997271512   0.77663355496\n",
       "    6      33 3.40986449559 3.42051094206  0.21440035444   0.74200994629\n",
       "    7      15 3.31082909982 3.41278053444 0.287048747871  0.315149038754\n",
       "    8      20 3.66129988733 3.56658136927 0.372296084714  0.601672154467\n",
       "    9      14 3.60612987419 3.49005403591 0.192594537903  0.801257717416\n",
       "  ...     ...           ...           ...            ...             ...\n",
       "   91       6 3.16859975518 3.50709637803 0.159947368985 0.0772788214905\n",
       "   92       5 3.02875333274 3.66832664569 0.130418216069 0.0885665888383\n",
       "   93       5 2.86973531149 3.53030387204 0.108624747752 0.0581096888442\n",
       "   94       7 2.80924432238 3.42057372544 0.115598627859  0.222711040938\n",
       "   95       6 2.97402080328 3.52926170711 0.174537871613  0.127961008887\n",
       "   96       6 3.10209356657 3.52087719598 0.157880694399  0.108577058827\n",
       "   97       5 2.96758608018 3.54855067297 0.155758620817 0.0902872648564\n",
       "   98       9 2.86477721164 3.32928575827 0.166322328307  0.071233122393\n",
       "   99       9 3.03891198888 3.28138550238 0.437079620791 0.0907935321992\n",
       "  100       7  3.0103693753 3.28591169397 0.998030475964  0.108762084389"
      ]
     },
     "execution_count": 28,
     "metadata": {},
     "output_type": "execute_result"
    }
   ],
   "source": [
    "t"
   ]
  },
  {
   "cell_type": "code",
   "execution_count": 29,
   "metadata": {
    "collapsed": false
   },
   "outputs": [],
   "source": [
    "expo = Column(exposures_list, name='exposure')\n",
    "file = Column(basefile_list, name='file')\n",
    "time = Column(dateobs_list,name='time')"
   ]
  },
  {
   "cell_type": "code",
   "execution_count": 30,
   "metadata": {
    "collapsed": false
   },
   "outputs": [],
   "source": [
    "t.add_column(expo, index=1)\n",
    "t.add_column(time, index=1)\n",
    "t.add_column(file, index=1)"
   ]
  },
  {
   "cell_type": "code",
   "execution_count": 31,
   "metadata": {
    "collapsed": false
   },
   "outputs": [
    {
     "data": {
      "text/html": [
       "&lt;Table length=101&gt;\n",
       "<table id=\"table17854702160\">\n",
       "<thead><tr><th>num</th><th>file</th><th>time</th><th>exposure</th><th>nbstars</th><th>prfx</th><th>pfry</th><th>sig_prfx</th><th>sig_prfy</th></tr></thead>\n",
       "<thead><tr><th>int32</th><th>str29</th><th>str23</th><th>float64</th><th>int32</th><th>float64</th><th>float64</th><th>float64</th><th>float64</th></tr></thead>\n",
       "<tr><td>0</td><td>AssScImHD158485_grat_1.fits</td><td>2016-05-12T04:08:27.322</td><td>5.0</td><td>1</td><td>4.47415632464</td><td>4.32646900741</td><td>0.0</td><td>0.0</td></tr>\n",
       "<tr><td>1</td><td>AssScImHD158485_grat_2.fits</td><td>2016-05-12T04:10:10.602</td><td>5.0</td><td>5</td><td>4.23915877347</td><td>4.09248732084</td><td>0.392718231946</td><td>0.18464392513</td></tr>\n",
       "<tr><td>2</td><td>AssScImHD158485_grat_3.fits</td><td>2016-05-12T04:10:20.458</td><td>5.0</td><td>21</td><td>3.76020655028</td><td>3.81432116694</td><td>0.235852244067</td><td>0.767497075115</td></tr>\n",
       "<tr><td>3</td><td>AssScImHD158485_grat_4.fits</td><td>2016-05-12T04:10:29.432</td><td>5.0</td><td>21</td><td>3.56680321661</td><td>3.96483104307</td><td>0.181167115677</td><td>0.648766625551</td></tr>\n",
       "<tr><td>4</td><td>AssScImHD158485_grat_5.fits</td><td>2016-05-12T04:10:38.586</td><td>5.0</td><td>10</td><td>3.54780685321</td><td>3.54182907249</td><td>0.394432864272</td><td>0.769873402452</td></tr>\n",
       "<tr><td>5</td><td>AssScImHD158485_grat_6.fits</td><td>2016-05-12T04:10:47.541</td><td>5.0</td><td>23</td><td>3.5644327671</td><td>3.49984527018</td><td>0.199997271512</td><td>0.77663355496</td></tr>\n",
       "<tr><td>6</td><td>AssScImHD158485_grat_7.fits</td><td>2016-05-12T04:10:56.526</td><td>5.0</td><td>33</td><td>3.40986449559</td><td>3.42051094206</td><td>0.21440035444</td><td>0.74200994629</td></tr>\n",
       "<tr><td>7</td><td>AssScImHD158485_grat_8.fits</td><td>2016-05-12T04:11:05.546</td><td>5.0</td><td>15</td><td>3.31082909982</td><td>3.41278053444</td><td>0.287048747871</td><td>0.315149038754</td></tr>\n",
       "<tr><td>8</td><td>AssScImHD158485_grat_9.fits</td><td>2016-05-12T04:11:14.644</td><td>5.0</td><td>20</td><td>3.66129988733</td><td>3.56658136927</td><td>0.372296084714</td><td>0.601672154467</td></tr>\n",
       "<tr><td>9</td><td>AssScImHD158485_grat_10.fits</td><td>2016-05-12T04:11:23.668</td><td>5.0</td><td>14</td><td>3.60612987419</td><td>3.49005403591</td><td>0.192594537903</td><td>0.801257717416</td></tr>\n",
       "<tr><td>...</td><td>...</td><td>...</td><td>...</td><td>...</td><td>...</td><td>...</td><td>...</td><td>...</td></tr>\n",
       "<tr><td>91</td><td>AssScImHD158485_grat_92.fits</td><td>2016-05-12T08:38:22.133</td><td>0.40000000596</td><td>6</td><td>3.16859975518</td><td>3.50709637803</td><td>0.159947368985</td><td>0.0772788214905</td></tr>\n",
       "<tr><td>92</td><td>AssScImHD158485_grat_93.fits</td><td>2016-05-12T08:38:25.800</td><td>0.40000000596</td><td>5</td><td>3.02875333274</td><td>3.66832664569</td><td>0.130418216069</td><td>0.0885665888383</td></tr>\n",
       "<tr><td>93</td><td>AssScImHD158485_grat_94.fits</td><td>2016-05-12T08:38:30.231</td><td>0.40000000596</td><td>5</td><td>2.86973531149</td><td>3.53030387204</td><td>0.108624747752</td><td>0.0581096888442</td></tr>\n",
       "<tr><td>94</td><td>AssScImHD158485_grat_95.fits</td><td>2016-05-12T08:38:33.828</td><td>0.40000000596</td><td>7</td><td>2.80924432238</td><td>3.42057372544</td><td>0.115598627859</td><td>0.222711040938</td></tr>\n",
       "<tr><td>95</td><td>AssScImHD158485_grat_96.fits</td><td>2016-05-12T08:38:38.207</td><td>0.40000000596</td><td>6</td><td>2.97402080328</td><td>3.52926170711</td><td>0.174537871613</td><td>0.127961008887</td></tr>\n",
       "<tr><td>96</td><td>AssScImHD158485_grat_97.fits</td><td>2016-05-12T08:38:42.566</td><td>0.40000000596</td><td>6</td><td>3.10209356657</td><td>3.52087719598</td><td>0.157880694399</td><td>0.108577058827</td></tr>\n",
       "<tr><td>97</td><td>AssScImHD158485_grat_98.fits</td><td>2016-05-12T08:38:46.958</td><td>0.40000000596</td><td>5</td><td>2.96758608018</td><td>3.54855067297</td><td>0.155758620817</td><td>0.0902872648564</td></tr>\n",
       "<tr><td>98</td><td>AssScImHD158485_grat_99.fits</td><td>2016-05-12T08:38:51.279</td><td>0.40000000596</td><td>9</td><td>2.86477721164</td><td>3.32928575827</td><td>0.166322328307</td><td>0.071233122393</td></tr>\n",
       "<tr><td>99</td><td>AssScImHD158485_grat_100.fits</td><td>2016-05-12T08:38:55.664</td><td>0.40000000596</td><td>9</td><td>3.03891198888</td><td>3.28138550238</td><td>0.437079620791</td><td>0.0907935321992</td></tr>\n",
       "<tr><td>100</td><td>AssScImHD158485_grat_101.fits</td><td>2016-05-12T08:39:09.568</td><td>0.40000000596</td><td>7</td><td>3.0103693753</td><td>3.28591169397</td><td>0.998030475964</td><td>0.108762084389</td></tr>\n",
       "</table>"
      ],
      "text/plain": [
       "<Table length=101>\n",
       " num               file             ...    sig_prfx        sig_prfy   \n",
       "int32             str29             ...    float64         float64    \n",
       "----- ----------------------------- ... -------------- ---------------\n",
       "    0   AssScImHD158485_grat_1.fits ...            0.0             0.0\n",
       "    1   AssScImHD158485_grat_2.fits ... 0.392718231946   0.18464392513\n",
       "    2   AssScImHD158485_grat_3.fits ... 0.235852244067  0.767497075115\n",
       "    3   AssScImHD158485_grat_4.fits ... 0.181167115677  0.648766625551\n",
       "    4   AssScImHD158485_grat_5.fits ... 0.394432864272  0.769873402452\n",
       "    5   AssScImHD158485_grat_6.fits ... 0.199997271512   0.77663355496\n",
       "    6   AssScImHD158485_grat_7.fits ...  0.21440035444   0.74200994629\n",
       "    7   AssScImHD158485_grat_8.fits ... 0.287048747871  0.315149038754\n",
       "    8   AssScImHD158485_grat_9.fits ... 0.372296084714  0.601672154467\n",
       "    9  AssScImHD158485_grat_10.fits ... 0.192594537903  0.801257717416\n",
       "  ...                           ... ...            ...             ...\n",
       "   91  AssScImHD158485_grat_92.fits ... 0.159947368985 0.0772788214905\n",
       "   92  AssScImHD158485_grat_93.fits ... 0.130418216069 0.0885665888383\n",
       "   93  AssScImHD158485_grat_94.fits ... 0.108624747752 0.0581096888442\n",
       "   94  AssScImHD158485_grat_95.fits ... 0.115598627859  0.222711040938\n",
       "   95  AssScImHD158485_grat_96.fits ... 0.174537871613  0.127961008887\n",
       "   96  AssScImHD158485_grat_97.fits ... 0.157880694399  0.108577058827\n",
       "   97  AssScImHD158485_grat_98.fits ... 0.155758620817 0.0902872648564\n",
       "   98  AssScImHD158485_grat_99.fits ... 0.166322328307  0.071233122393\n",
       "   99 AssScImHD158485_grat_100.fits ... 0.437079620791 0.0907935321992\n",
       "  100 AssScImHD158485_grat_101.fits ... 0.998030475964  0.108762084389"
      ]
     },
     "execution_count": 31,
     "metadata": {},
     "output_type": "execute_result"
    }
   ],
   "source": [
    "t"
   ]
  },
  {
   "cell_type": "markdown",
   "metadata": {},
   "source": [
    "## Write output file"
   ]
  },
  {
   "cell_type": "code",
   "execution_count": 32,
   "metadata": {
    "collapsed": false
   },
   "outputs": [],
   "source": [
    "t.write(outputtablefile,format='fits')"
   ]
  },
  {
   "cell_type": "markdown",
   "metadata": {
    "collapsed": true
   },
   "source": [
    "## Pandas"
   ]
  },
  {
   "cell_type": "code",
   "execution_count": 33,
   "metadata": {
    "collapsed": true
   },
   "outputs": [],
   "source": [
    "df=t.to_pandas()"
   ]
  },
  {
   "cell_type": "code",
   "execution_count": 34,
   "metadata": {
    "collapsed": false
   },
   "outputs": [
    {
     "name": "stderr",
     "output_type": "stream",
     "text": [
      "/Users/dagoret-campagnesylvie/anaconda/envs/pyastrophys/lib/python2.7/site-packages/numpy/lib/function_base.py:3823: RuntimeWarning: Invalid value encountered in percentile\n",
      "  RuntimeWarning)\n"
     ]
    },
    {
     "data": {
      "text/html": [
       "<div>\n",
       "<table border=\"1\" class=\"dataframe\">\n",
       "  <thead>\n",
       "    <tr style=\"text-align: right;\">\n",
       "      <th></th>\n",
       "      <th>num</th>\n",
       "      <th>exposure</th>\n",
       "      <th>nbstars</th>\n",
       "      <th>prfx</th>\n",
       "      <th>pfry</th>\n",
       "      <th>sig_prfx</th>\n",
       "      <th>sig_prfy</th>\n",
       "    </tr>\n",
       "  </thead>\n",
       "  <tbody>\n",
       "    <tr>\n",
       "      <th>count</th>\n",
       "      <td>101.000000</td>\n",
       "      <td>101.000000</td>\n",
       "      <td>101.000000</td>\n",
       "      <td>96.000000</td>\n",
       "      <td>99.000000</td>\n",
       "      <td>96.000000</td>\n",
       "      <td>99.000000</td>\n",
       "    </tr>\n",
       "    <tr>\n",
       "      <th>mean</th>\n",
       "      <td>50.000000</td>\n",
       "      <td>2.900990</td>\n",
       "      <td>22.534653</td>\n",
       "      <td>3.171685</td>\n",
       "      <td>3.549926</td>\n",
       "      <td>0.251827</td>\n",
       "      <td>0.419342</td>\n",
       "    </tr>\n",
       "    <tr>\n",
       "      <th>std</th>\n",
       "      <td>29.300171</td>\n",
       "      <td>2.140584</td>\n",
       "      <td>16.957927</td>\n",
       "      <td>0.317771</td>\n",
       "      <td>0.234563</td>\n",
       "      <td>0.176101</td>\n",
       "      <td>0.300821</td>\n",
       "    </tr>\n",
       "    <tr>\n",
       "      <th>min</th>\n",
       "      <td>0.000000</td>\n",
       "      <td>0.400000</td>\n",
       "      <td>1.000000</td>\n",
       "      <td>2.704380</td>\n",
       "      <td>3.019007</td>\n",
       "      <td>0.000000</td>\n",
       "      <td>0.000000</td>\n",
       "    </tr>\n",
       "    <tr>\n",
       "      <th>25%</th>\n",
       "      <td>25.000000</td>\n",
       "      <td>1.000000</td>\n",
       "      <td>8.000000</td>\n",
       "      <td>NaN</td>\n",
       "      <td>NaN</td>\n",
       "      <td>NaN</td>\n",
       "      <td>NaN</td>\n",
       "    </tr>\n",
       "    <tr>\n",
       "      <th>50%</th>\n",
       "      <td>50.000000</td>\n",
       "      <td>5.000000</td>\n",
       "      <td>17.000000</td>\n",
       "      <td>NaN</td>\n",
       "      <td>NaN</td>\n",
       "      <td>NaN</td>\n",
       "      <td>NaN</td>\n",
       "    </tr>\n",
       "    <tr>\n",
       "      <th>75%</th>\n",
       "      <td>75.000000</td>\n",
       "      <td>5.000000</td>\n",
       "      <td>41.000000</td>\n",
       "      <td>NaN</td>\n",
       "      <td>NaN</td>\n",
       "      <td>NaN</td>\n",
       "      <td>NaN</td>\n",
       "    </tr>\n",
       "    <tr>\n",
       "      <th>max</th>\n",
       "      <td>100.000000</td>\n",
       "      <td>5.000000</td>\n",
       "      <td>69.000000</td>\n",
       "      <td>4.474156</td>\n",
       "      <td>4.623810</td>\n",
       "      <td>0.998030</td>\n",
       "      <td>0.912355</td>\n",
       "    </tr>\n",
       "  </tbody>\n",
       "</table>\n",
       "</div>"
      ],
      "text/plain": [
       "              num    exposure     nbstars       prfx       pfry   sig_prfx  \\\n",
       "count  101.000000  101.000000  101.000000  96.000000  99.000000  96.000000   \n",
       "mean    50.000000    2.900990   22.534653   3.171685   3.549926   0.251827   \n",
       "std     29.300171    2.140584   16.957927   0.317771   0.234563   0.176101   \n",
       "min      0.000000    0.400000    1.000000   2.704380   3.019007   0.000000   \n",
       "25%     25.000000    1.000000    8.000000        NaN        NaN        NaN   \n",
       "50%     50.000000    5.000000   17.000000        NaN        NaN        NaN   \n",
       "75%     75.000000    5.000000   41.000000        NaN        NaN        NaN   \n",
       "max    100.000000    5.000000   69.000000   4.474156   4.623810   0.998030   \n",
       "\n",
       "        sig_prfy  \n",
       "count  99.000000  \n",
       "mean    0.419342  \n",
       "std     0.300821  \n",
       "min     0.000000  \n",
       "25%          NaN  \n",
       "50%          NaN  \n",
       "75%          NaN  \n",
       "max     0.912355  "
      ]
     },
     "execution_count": 34,
     "metadata": {},
     "output_type": "execute_result"
    }
   ],
   "source": [
    "df.describe()"
   ]
  },
  {
   "cell_type": "code",
   "execution_count": null,
   "metadata": {
    "collapsed": true
   },
   "outputs": [],
   "source": []
  }
 ],
 "metadata": {
  "kernelspec": {
   "display_name": "Python 2",
   "language": "python",
   "name": "python2"
  },
  "language_info": {
   "codemirror_mode": {
    "name": "ipython",
    "version": 2
   },
   "file_extension": ".py",
   "mimetype": "text/x-python",
   "name": "python",
   "nbconvert_exporter": "python",
   "pygments_lexer": "ipython2",
   "version": "2.7.12"
  }
 },
 "nbformat": 4,
 "nbformat_minor": 0
}
