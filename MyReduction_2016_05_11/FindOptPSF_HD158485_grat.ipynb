{
 "cells": [
  {
   "cell_type": "markdown",
   "metadata": {},
   "source": [
    "# Find Optimal PSF\n",
    "===========================\n",
    "\n",
    "- creation 29/06/2016\n",
    "- author Sylvie Dagoret-Campagne\n",
    "\n",
    "\n",
    "\n",
    "Find HD158485 with grating"
   ]
  },
  {
   "cell_type": "code",
   "execution_count": 13,
   "metadata": {
    "collapsed": false
   },
   "outputs": [
    {
     "name": "stdout",
     "output_type": "stream",
     "text": [
      "ccdproc version 1.0.1\n"
     ]
    }
   ],
   "source": [
    "%matplotlib inline\n",
    "import matplotlib.pyplot as plt\n",
    "import numpy as np\n",
    "\n",
    "from astropy.modeling import models\n",
    "from astropy import units as u\n",
    "from astropy import nddata\n",
    "from astropy.io import fits\n",
    "\n",
    "from astropy.table import Table\n",
    "from astropy.table import Column\n",
    "\n",
    "import ccdproc\n",
    "print 'ccdproc version',ccdproc.__version__\n",
    "\n",
    "from astropy.modeling import models"
   ]
  },
  {
   "cell_type": "code",
   "execution_count": 14,
   "metadata": {
    "collapsed": true
   },
   "outputs": [],
   "source": [
    "import photutils\n",
    "from astropy.stats import sigma_clipped_stats\n",
    "from photutils import daofind\n",
    "from photutils import CircularAperture\n",
    "from astropy.visualization import SqrtStretch\n",
    "from astropy.visualization.mpl_normalize import ImageNormalize"
   ]
  },
  {
   "cell_type": "code",
   "execution_count": 15,
   "metadata": {
    "collapsed": true
   },
   "outputs": [],
   "source": [
    "from scipy import stats \n",
    "from scipy import ndimage\n",
    "import os\n",
    "from datetime import datetime, timedelta"
   ]
  },
  {
   "cell_type": "code",
   "execution_count": 16,
   "metadata": {
    "collapsed": true
   },
   "outputs": [],
   "source": [
    "from photutils.background import Background2D"
   ]
  },
  {
   "cell_type": "code",
   "execution_count": 17,
   "metadata": {
    "collapsed": true
   },
   "outputs": [],
   "source": [
    "import libMonocamBaseImages           # my tool library written to do that CCD reduction"
   ]
  },
  {
   "cell_type": "code",
   "execution_count": 18,
   "metadata": {
    "collapsed": false
   },
   "outputs": [
    {
     "name": "stdout",
     "output_type": "stream",
     "text": [
      "standard date format for the analysis : 2016-06-29 21:29:03.867523\n",
      "fits date format for the analysis :  2016-06-29T21:29:03\n"
     ]
    }
   ],
   "source": [
    "now=datetime.utcnow()  # choose UTC time\n",
    "datestr=str(now)\n",
    "print 'standard date format for the analysis :',datestr\n",
    "#  want the following format '2016-05-10T11:55:27.267'\n",
    "date_of_analysis=now.strftime('%Y-%m-%dT%H:%M:%S')\n",
    "print 'fits date format for the analysis : ',date_of_analysis"
   ]
  },
  {
   "cell_type": "markdown",
   "metadata": {},
   "source": [
    "## Definitions and Constants"
   ]
  },
  {
   "cell_type": "code",
   "execution_count": 19,
   "metadata": {
    "collapsed": true
   },
   "outputs": [],
   "source": [
    "object_name='HD158485_grat'"
   ]
  },
  {
   "cell_type": "markdown",
   "metadata": {},
   "source": [
    "### input files"
   ]
  },
  {
   "cell_type": "code",
   "execution_count": 20,
   "metadata": {
    "collapsed": true
   },
   "outputs": [],
   "source": [
    "path='./HD158485_grat'\n",
    "rootfilename='AssScImHD158485_grat_' \n",
    "#NumStart=1\n",
    "#NumStop=50\n",
    "\n",
    "#NumStart=51\n",
    "#NumStop=100\n",
    "\n",
    "NumStart=103\n",
    "NumStop=132"
   ]
  },
  {
   "cell_type": "markdown",
   "metadata": {},
   "source": [
    "### output file (table)"
   ]
  },
  {
   "cell_type": "code",
   "execution_count": 21,
   "metadata": {
    "collapsed": true
   },
   "outputs": [],
   "source": [
    "outputtablefile='HD158485_grat_103-132_TablePSF.fits'"
   ]
  },
  {
   "cell_type": "markdown",
   "metadata": {},
   "source": [
    "### make the filelist"
   ]
  },
  {
   "cell_type": "code",
   "execution_count": 22,
   "metadata": {
    "collapsed": false
   },
   "outputs": [],
   "source": [
    "filelist=libMonocamBaseImages.BuildFilelist(path,rootfilename,start=NumStart,stop=NumStop,nbchar=1)"
   ]
  },
  {
   "cell_type": "code",
   "execution_count": 23,
   "metadata": {
    "collapsed": false
   },
   "outputs": [
    {
     "data": {
      "text/plain": [
       "['./HD158485_grat/AssScImHD158485_grat_103.fits',\n",
       " './HD158485_grat/AssScImHD158485_grat_104.fits',\n",
       " './HD158485_grat/AssScImHD158485_grat_105.fits',\n",
       " './HD158485_grat/AssScImHD158485_grat_106.fits',\n",
       " './HD158485_grat/AssScImHD158485_grat_107.fits',\n",
       " './HD158485_grat/AssScImHD158485_grat_108.fits',\n",
       " './HD158485_grat/AssScImHD158485_grat_109.fits',\n",
       " './HD158485_grat/AssScImHD158485_grat_110.fits',\n",
       " './HD158485_grat/AssScImHD158485_grat_111.fits',\n",
       " './HD158485_grat/AssScImHD158485_grat_112.fits',\n",
       " './HD158485_grat/AssScImHD158485_grat_113.fits',\n",
       " './HD158485_grat/AssScImHD158485_grat_114.fits',\n",
       " './HD158485_grat/AssScImHD158485_grat_115.fits',\n",
       " './HD158485_grat/AssScImHD158485_grat_116.fits',\n",
       " './HD158485_grat/AssScImHD158485_grat_117.fits',\n",
       " './HD158485_grat/AssScImHD158485_grat_118.fits',\n",
       " './HD158485_grat/AssScImHD158485_grat_119.fits',\n",
       " './HD158485_grat/AssScImHD158485_grat_120.fits',\n",
       " './HD158485_grat/AssScImHD158485_grat_121.fits',\n",
       " './HD158485_grat/AssScImHD158485_grat_122.fits',\n",
       " './HD158485_grat/AssScImHD158485_grat_123.fits',\n",
       " './HD158485_grat/AssScImHD158485_grat_124.fits',\n",
       " './HD158485_grat/AssScImHD158485_grat_125.fits',\n",
       " './HD158485_grat/AssScImHD158485_grat_126.fits',\n",
       " './HD158485_grat/AssScImHD158485_grat_127.fits',\n",
       " './HD158485_grat/AssScImHD158485_grat_128.fits',\n",
       " './HD158485_grat/AssScImHD158485_grat_129.fits',\n",
       " './HD158485_grat/AssScImHD158485_grat_130.fits',\n",
       " './HD158485_grat/AssScImHD158485_grat_131.fits',\n",
       " './HD158485_grat/AssScImHD158485_grat_132.fits']"
      ]
     },
     "execution_count": 23,
     "metadata": {},
     "output_type": "execute_result"
    }
   ],
   "source": [
    "filelist"
   ]
  },
  {
   "cell_type": "markdown",
   "metadata": {
    "collapsed": true
   },
   "source": [
    "## Read Input files"
   ]
  },
  {
   "cell_type": "code",
   "execution_count": 24,
   "metadata": {
    "collapsed": false
   },
   "outputs": [
    {
     "name": "stdout",
     "output_type": "stream",
     "text": [
      "./HD158485_grat/AssScImHD158485_grat_103.fits\n",
      "./HD158485_grat/AssScImHD158485_grat_104.fits\n",
      "./HD158485_grat/AssScImHD158485_grat_105.fits\n",
      "./HD158485_grat/AssScImHD158485_grat_106.fits\n",
      "./HD158485_grat/AssScImHD158485_grat_107.fits\n",
      "./HD158485_grat/AssScImHD158485_grat_108.fits\n",
      "./HD158485_grat/AssScImHD158485_grat_109.fits\n",
      "./HD158485_grat/AssScImHD158485_grat_110.fits\n",
      "./HD158485_grat/AssScImHD158485_grat_111.fits\n",
      "./HD158485_grat/AssScImHD158485_grat_112.fits\n",
      "./HD158485_grat/AssScImHD158485_grat_113.fits\n",
      "./HD158485_grat/AssScImHD158485_grat_114.fits\n",
      "./HD158485_grat/AssScImHD158485_grat_115.fits\n",
      "./HD158485_grat/AssScImHD158485_grat_116.fits\n",
      "./HD158485_grat/AssScImHD158485_grat_117.fits\n",
      "./HD158485_grat/AssScImHD158485_grat_118.fits\n",
      "./HD158485_grat/AssScImHD158485_grat_119.fits\n",
      "./HD158485_grat/AssScImHD158485_grat_120.fits\n",
      "./HD158485_grat/AssScImHD158485_grat_121.fits\n",
      "./HD158485_grat/AssScImHD158485_grat_122.fits\n",
      "./HD158485_grat/AssScImHD158485_grat_123.fits\n",
      "./HD158485_grat/AssScImHD158485_grat_124.fits\n",
      "./HD158485_grat/AssScImHD158485_grat_125.fits\n",
      "./HD158485_grat/AssScImHD158485_grat_126.fits\n",
      "./HD158485_grat/AssScImHD158485_grat_127.fits\n",
      "./HD158485_grat/AssScImHD158485_grat_128.fits\n",
      "./HD158485_grat/AssScImHD158485_grat_129.fits\n",
      "./HD158485_grat/AssScImHD158485_grat_130.fits\n",
      "./HD158485_grat/AssScImHD158485_grat_131.fits\n",
      "./HD158485_grat/AssScImHD158485_grat_132.fits\n"
     ]
    }
   ],
   "source": [
    "allchannelallsciimages = []  # list of 16 lists of images series \n",
    "exposures_list = []        # sequential list of the exposures of the sky flats \n",
    "header_list = []           # list of headers\n",
    "data_list = []\n",
    "time_list = []                # date and time\n",
    "basefile_list = []         # basefilename\n",
    "dateobs_list = [] \n",
    "# get the primary block headers:\n",
    "for image_file in filelist: \n",
    "    print image_file\n",
    "    hdu_list = fits.open(image_file)\n",
    "    basefile_list.append(os.path.basename(image_file))\n",
    "    header=hdu_list[0].header\n",
    "    exposure=header['EXPOSURE']\n",
    "    exposures_list.append(exposure)\n",
    "    dateobs_list.append(header['DATE-OBS'])\n",
    "    header_list.append(header)\n",
    "    data=ccdproc.CCDData.read(image_file, hdu=0,unit='adu') \n",
    "    data_list.append(data)"
   ]
  },
  {
   "cell_type": "code",
   "execution_count": 25,
   "metadata": {
    "collapsed": false
   },
   "outputs": [],
   "source": [
    "#basefile_list"
   ]
  },
  {
   "cell_type": "markdown",
   "metadata": {},
   "source": [
    "## For control\n",
    "\n",
    "uncomment for control"
   ]
  },
  {
   "cell_type": "code",
   "execution_count": 26,
   "metadata": {
    "collapsed": true
   },
   "outputs": [],
   "source": [
    "index=0"
   ]
  },
  {
   "cell_type": "code",
   "execution_count": 27,
   "metadata": {
    "collapsed": false
   },
   "outputs": [],
   "source": [
    "#print exposures_list[index]"
   ]
  },
  {
   "cell_type": "code",
   "execution_count": 28,
   "metadata": {
    "collapsed": false
   },
   "outputs": [],
   "source": [
    "#header_list[index]"
   ]
  },
  {
   "cell_type": "code",
   "execution_count": 29,
   "metadata": {
    "collapsed": false
   },
   "outputs": [],
   "source": [
    "#plt.imshow(data_list[index])"
   ]
  },
  {
   "cell_type": "code",
   "execution_count": 30,
   "metadata": {
    "collapsed": true
   },
   "outputs": [],
   "source": [
    "#bkg= Background2D(data_list[index], (100, 100), filter_size=(3, 3),method='median')"
   ]
  },
  {
   "cell_type": "code",
   "execution_count": 31,
   "metadata": {
    "collapsed": false
   },
   "outputs": [],
   "source": [
    "#data_list[index].data-bkg.background"
   ]
  },
  {
   "cell_type": "markdown",
   "metadata": {},
   "source": [
    "## Background subtraction"
   ]
  },
  {
   "cell_type": "code",
   "execution_count": 32,
   "metadata": {
    "collapsed": true
   },
   "outputs": [],
   "source": [
    "correctedimage_list = []"
   ]
  },
  {
   "cell_type": "code",
   "execution_count": 33,
   "metadata": {
    "collapsed": false
   },
   "outputs": [],
   "source": [
    "for data in data_list:\n",
    "    bkg= Background2D(data, (100, 100), filter_size=(3, 3),method='median')\n",
    "    newimage=data-bkg.background\n",
    "    correctedimage_list.append(newimage)"
   ]
  },
  {
   "cell_type": "markdown",
   "metadata": {},
   "source": [
    "## Calculation of PSF"
   ]
  },
  {
   "cell_type": "code",
   "execution_count": 34,
   "metadata": {
    "collapsed": true
   },
   "outputs": [],
   "source": [
    "NBIMAGES=len(correctedimage_list)"
   ]
  },
  {
   "cell_type": "code",
   "execution_count": 35,
   "metadata": {
    "collapsed": true
   },
   "outputs": [],
   "source": [
    "def weighted_avg_and_std(values, weights):\n",
    "    \"\"\"\n",
    "    Return the weighted average and standard deviation.\n",
    "\n",
    "    values, weights -- Numpy ndarrays with the same shape.\n",
    "    \"\"\"\n",
    "    average = np.average(values, weights=weights)\n",
    "    variance = np.average((values-average)**2, weights=weights)  # Fast and numerically precise\n",
    "    return (average, np.sqrt(variance))"
   ]
  },
  {
   "cell_type": "code",
   "execution_count": 36,
   "metadata": {
    "collapsed": true
   },
   "outputs": [],
   "source": [
    "image_psf=np.zeros((NBIMAGES,6))"
   ]
  },
  {
   "cell_type": "code",
   "execution_count": 37,
   "metadata": {
    "collapsed": true
   },
   "outputs": [],
   "source": [
    "DELTA_NBINSX=10\n",
    "DELTA_NBINSY=10"
   ]
  },
  {
   "cell_type": "code",
   "execution_count": 38,
   "metadata": {
    "collapsed": false
   },
   "outputs": [
    {
     "name": "stdout",
     "output_type": "stream",
     "text": [
      "image 0 ==> NBSTARS = 47\n",
      "average prf(x) = 3.32 +/- 0.24 pixels ==> psf  3.13 +/- 0.21 arcsec \n",
      "average prf(y) = 3.10 +/- 1.05 pixels ==> psf  2.92 +/- 0.95 arcsec \n"
     ]
    },
    {
     "name": "stderr",
     "output_type": "stream",
     "text": [
      "/Users/dagoret-campagnesylvie/anaconda/envs/pyastrophys/lib/python2.7/site-packages/ipykernel/__main__.py:9: RuntimeWarning: invalid value encountered in sqrt\n"
     ]
    },
    {
     "name": "stdout",
     "output_type": "stream",
     "text": [
      "image 1 ==> NBSTARS = 44\n",
      "average prf(x) = 3.11 +/- 0.21 pixels ==> psf  2.94 +/- 0.19 arcsec \n",
      "average prf(y) = 2.98 +/- 0.83 pixels ==> psf  2.81 +/- 0.75 arcsec \n",
      "image 2 ==> NBSTARS = 47\n",
      "average prf(x) = 3.09 +/- 0.25 pixels ==> psf  2.92 +/- 0.23 arcsec \n",
      "average prf(y) = 3.29 +/- 0.86 pixels ==> psf  3.11 +/- 0.78 arcsec \n",
      "image 3 ==> NBSTARS = 50\n",
      "average prf(x) = 3.12 +/- 0.25 pixels ==> psf  2.94 +/- 0.22 arcsec \n",
      "average prf(y) = 3.03 +/- 1.07 pixels ==> psf  2.86 +/- 0.96 arcsec \n",
      "image 4 ==> NBSTARS = 48\n",
      "average prf(x) = 3.08 +/- 0.24 pixels ==> psf  2.91 +/- 0.22 arcsec \n",
      "average prf(y) = 3.07 +/- 0.85 pixels ==> psf  2.90 +/- 0.77 arcsec \n",
      "image 5 ==> NBSTARS = 47\n",
      "average prf(x) = 3.12 +/- 0.36 pixels ==> psf  2.95 +/- 0.32 arcsec \n",
      "average prf(y) = 3.38 +/- 0.89 pixels ==> psf  3.19 +/- 0.81 arcsec \n",
      "image 6 ==> NBSTARS = 48\n",
      "average prf(x) = 3.19 +/- 0.26 pixels ==> psf  3.01 +/- 0.24 arcsec \n",
      "average prf(y) = 3.22 +/- 0.94 pixels ==> psf  3.04 +/- 0.85 arcsec \n",
      "image 7 ==> NBSTARS = 47\n",
      "average prf(x) = 3.22 +/- 0.23 pixels ==> psf  3.04 +/- 0.21 arcsec \n",
      "average prf(y) = 3.12 +/- 0.99 pixels ==> psf  2.95 +/- 0.89 arcsec \n",
      "image 8 ==> NBSTARS = 53\n",
      "average prf(x) = 3.26 +/- 0.23 pixels ==> psf  3.08 +/- 0.21 arcsec \n",
      "average prf(y) = 3.26 +/- 0.85 pixels ==> psf  3.08 +/- 0.77 arcsec \n",
      "image 9 ==> NBSTARS = 40\n",
      "average prf(x) = 3.23 +/- 0.27 pixels ==> psf  3.05 +/- 0.24 arcsec \n",
      "average prf(y) = 3.19 +/- 0.92 pixels ==> psf  3.02 +/- 0.84 arcsec \n",
      "image 10 ==> NBSTARS = 22\n",
      "average prf(x) = 2.99 +/- 0.84 pixels ==> psf  2.82 +/- 0.76 arcsec \n",
      "average prf(y) = 3.05 +/- 0.25 pixels ==> psf  2.87 +/- 0.22 arcsec \n",
      "image 11 ==> NBSTARS = 16\n",
      "average prf(x) = 2.99 +/- 0.16 pixels ==> psf  2.82 +/- 0.14 arcsec \n",
      "average prf(y) = 3.20 +/- 0.21 pixels ==> psf  3.02 +/- 0.19 arcsec \n",
      "image 12 ==> NBSTARS = 14\n",
      "average prf(x) = 3.11 +/- 0.19 pixels ==> psf  2.94 +/- 0.17 arcsec \n",
      "average prf(y) = 3.24 +/- 0.24 pixels ==> psf  3.06 +/- 0.22 arcsec \n",
      "image 13 ==> NBSTARS = 10\n",
      "average prf(x) = 3.35 +/- 0.35 pixels ==> psf  3.17 +/- 0.32 arcsec \n",
      "average prf(y) = 3.55 +/- 0.13 pixels ==> psf  3.36 +/- 0.11 arcsec \n",
      "image 14 ==> NBSTARS = 12\n",
      "average prf(x) = 3.59 +/- 0.22 pixels ==> psf  3.39 +/- 0.20 arcsec \n",
      "average prf(y) = 3.51 +/- 0.15 pixels ==> psf  3.31 +/- 0.14 arcsec \n",
      "image 15 ==> NBSTARS = 12\n",
      "average prf(x) = 3.21 +/- 0.15 pixels ==> psf  3.03 +/- 0.14 arcsec \n",
      "average prf(y) = 3.24 +/- 0.13 pixels ==> psf  3.06 +/- 0.12 arcsec \n",
      "image 16 ==> NBSTARS = 14\n",
      "average prf(x) = 3.26 +/- 0.49 pixels ==> psf  3.08 +/- 0.44 arcsec \n",
      "average prf(y) = 3.32 +/- 0.28 pixels ==> psf  3.13 +/- 0.25 arcsec \n",
      "image 17 ==> NBSTARS = 15\n",
      "average prf(x) = 3.16 +/- 0.20 pixels ==> psf  2.98 +/- 0.18 arcsec \n",
      "average prf(y) = 3.10 +/- 0.17 pixels ==> psf  2.93 +/- 0.15 arcsec \n",
      "image 18 ==> NBSTARS = 23\n",
      "average prf(x) = 3.27 +/- 0.19 pixels ==> psf  3.08 +/- 0.17 arcsec \n",
      "average prf(y) = 3.27 +/- 0.30 pixels ==> psf  3.08 +/- 0.27 arcsec \n",
      "image 19 ==> NBSTARS = 17\n",
      "average prf(x) = 3.36 +/- 0.18 pixels ==> psf  3.18 +/- 0.17 arcsec \n",
      "average prf(y) = 3.28 +/- 0.50 pixels ==> psf  3.10 +/- 0.45 arcsec \n",
      "image 20 ==> NBSTARS = 19\n",
      "average prf(x) = 4.83 +/- 1.03 pixels ==> psf  4.56 +/- 0.93 arcsec \n",
      "average prf(y) = 3.69 +/- 0.51 pixels ==> psf  3.48 +/- 0.46 arcsec \n",
      "image 21 ==> NBSTARS = 12\n",
      "average prf(x) = 3.65 +/- 1.31 pixels ==> psf  3.45 +/- 1.18 arcsec \n",
      "average prf(y) = 3.21 +/- 0.37 pixels ==> psf  3.03 +/- 0.33 arcsec \n",
      "image 22 ==> NBSTARS = 4\n",
      "average prf(x) = 3.41 +/- 0.26 pixels ==> psf  3.22 +/- 0.23 arcsec \n",
      "average prf(y) = 3.32 +/- 0.12 pixels ==> psf  3.13 +/- 0.11 arcsec \n",
      "image 23 ==> NBSTARS = 4\n",
      "average prf(x) = 3.40 +/- 0.11 pixels ==> psf  3.21 +/- 0.10 arcsec \n",
      "average prf(y) = 3.34 +/- 0.11 pixels ==> psf  3.15 +/- 0.10 arcsec \n",
      "image 24 ==> NBSTARS = 6\n",
      "average prf(x) = 3.33 +/- 0.18 pixels ==> psf  3.14 +/- 0.16 arcsec \n",
      "average prf(y) = 3.29 +/- 0.30 pixels ==> psf  3.10 +/- 0.27 arcsec \n",
      "image 25 ==> NBSTARS = 8\n",
      "average prf(x) = 3.33 +/- 0.20 pixels ==> psf  3.14 +/- 0.18 arcsec \n",
      "average prf(y) = 3.21 +/- 0.10 pixels ==> psf  3.03 +/- 0.09 arcsec \n",
      "image 26 ==> NBSTARS = 10\n",
      "average prf(x) = 3.08 +/- 0.30 pixels ==> psf  2.90 +/- 0.27 arcsec \n",
      "average prf(y) = 3.21 +/- 0.24 pixels ==> psf  3.03 +/- 0.22 arcsec \n",
      "image 27 ==> NBSTARS = 8\n",
      "average prf(x) = 3.30 +/- 0.20 pixels ==> psf  3.11 +/- 0.18 arcsec \n",
      "average prf(y) = 3.18 +/- 0.07 pixels ==> psf  3.00 +/- 0.06 arcsec \n",
      "image 28 ==> NBSTARS = 5\n",
      "average prf(x) = 2.98 +/- 0.22 pixels ==> psf  2.82 +/- 0.20 arcsec \n",
      "average prf(y) = 3.21 +/- 0.12 pixels ==> psf  3.03 +/- 0.11 arcsec \n",
      "image 29 ==> NBSTARS = 6\n",
      "average prf(x) = 3.48 +/- 0.20 pixels ==> psf  3.29 +/- 0.18 arcsec \n",
      "average prf(y) = 3.17 +/- 0.09 pixels ==> psf  3.00 +/- 0.08 arcsec \n"
     ]
    }
   ],
   "source": [
    "# loop on images\n",
    "index=-1\n",
    "for image in correctedimage_list:\n",
    "    index=index+1\n",
    "    mean, median, std = sigma_clipped_stats(image, sigma=10.0, iters=5) \n",
    "    sources = daofind(image - median, fwhm=3.0, threshold=50.*std)\n",
    "    selected_stars=sources.as_array()\n",
    "    NBSTARS=selected_stars.shape[0]\n",
    "    print 'image {} ==> NBSTARS = {}'.format(index,NBSTARS)\n",
    "    image_psf[index,0]=index\n",
    "    image_psf[index,1]=NBSTARS\n",
    "    star_psfx=np.zeros(NBSTARS)\n",
    "    star_psfy=np.zeros(NBSTARS)\n",
    "    # loop on stars\n",
    "    for istar in range(NBSTARS):\n",
    "        X = int(selected_stars[istar][1])\n",
    "        Y = int(selected_stars[istar][2])\n",
    "        prf_image = image[Y-DELTA_NBINSY:Y+DELTA_NBINSY,X-DELTA_NBINSX:X+DELTA_NBINSX]\n",
    "        oneprfX=prf_image.sum(axis=0)\n",
    "        oneprfY=prf_image.sum(axis=1)\n",
    "        if oneprfX.sum() == 0 or oneprfY.sum() == 0:\n",
    "            star_psfx[istar]=0\n",
    "            star_psfy[istar]=0\n",
    "        else:\n",
    "            posX,sigX=weighted_avg_and_std(np.arange(oneprfX.shape[0]),oneprfX)\n",
    "            posY,sigY=weighted_avg_and_std(np.arange(oneprfY.shape[0]),oneprfY)\n",
    "            star_psfx[istar]=sigX\n",
    "            star_psfy[istar]=sigY\n",
    "        \n",
    "    all_sigx=star_psfx[np.logical_not(np.isnan(star_psfx))]\n",
    "    all_sigy=star_psfy[np.logical_not(np.isnan(star_psfy))]\n",
    "    all_sigx=all_sigx[all_sigx>2.4]\n",
    "    all_sigy=all_sigy[all_sigy>2.4]\n",
    "    print 'average prf(x) = {:2.2f} +/- {:2.2f} pixels ==> psf  {:2.2f} +/- {:2.2f} arcsec '.format(np.median(all_sigx),all_sigx.std(),np.median(all_sigx)*0.4*2.36,all_sigx.std()*0.4*2.26)\n",
    "    print 'average prf(y) = {:2.2f} +/- {:2.2f} pixels ==> psf  {:2.2f} +/- {:2.2f} arcsec '.format(np.median(all_sigy),all_sigy.std(),np.median(all_sigy)*0.4*2.36,all_sigy.std()*0.4*2.26)\n",
    "    image_psf[index,2]=np.median(all_sigx)\n",
    "    image_psf[index,3]=np.median(all_sigy)\n",
    "    image_psf[index,4]=all_sigx.std()\n",
    "    image_psf[index,5]=all_sigy.std()"
   ]
  },
  {
   "cell_type": "markdown",
   "metadata": {
    "collapsed": false
   },
   "source": [
    "## Create astropy table"
   ]
  },
  {
   "cell_type": "code",
   "execution_count": 39,
   "metadata": {
    "collapsed": false
   },
   "outputs": [],
   "source": [
    "t=Table(rows=image_psf,names=('num','nbstars','prfx','pfry','sig_prfx','sig_prfy'),dtype=('i4','i4','f8','f8','f8','f8'))"
   ]
  },
  {
   "cell_type": "code",
   "execution_count": 40,
   "metadata": {
    "collapsed": false
   },
   "outputs": [
    {
     "data": {
      "text/html": [
       "&lt;Table length=30&gt;\n",
       "<table id=\"table4705100496\">\n",
       "<thead><tr><th>num</th><th>nbstars</th><th>prfx</th><th>pfry</th><th>sig_prfx</th><th>sig_prfy</th></tr></thead>\n",
       "<thead><tr><th>int32</th><th>int32</th><th>float64</th><th>float64</th><th>float64</th><th>float64</th></tr></thead>\n",
       "<tr><td>0</td><td>47</td><td>3.32038393231</td><td>3.09662370496</td><td>0.236071675366</td><td>1.04559112388</td></tr>\n",
       "<tr><td>1</td><td>44</td><td>3.11492113162</td><td>2.97818295051</td><td>0.210843443892</td><td>0.826591251253</td></tr>\n",
       "<tr><td>2</td><td>47</td><td>3.08815738194</td><td>3.29117824128</td><td>0.250619993966</td><td>0.864441455644</td></tr>\n",
       "<tr><td>3</td><td>50</td><td>3.11733721215</td><td>3.02954208556</td><td>0.246160221458</td><td>1.06635290639</td></tr>\n",
       "<tr><td>4</td><td>48</td><td>3.08029633915</td><td>3.074351356</td><td>0.24153928891</td><td>0.854841558395</td></tr>\n",
       "<tr><td>5</td><td>47</td><td>3.12390314318</td><td>3.38156262392</td><td>0.356745593817</td><td>0.890953896476</td></tr>\n",
       "<tr><td>6</td><td>48</td><td>3.19058323033</td><td>3.22420936219</td><td>0.263373360377</td><td>0.93972302274</td></tr>\n",
       "<tr><td>7</td><td>47</td><td>3.22451637418</td><td>3.12486623724</td><td>0.227634535634</td><td>0.988243939062</td></tr>\n",
       "<tr><td>8</td><td>53</td><td>3.26138545716</td><td>3.26057175845</td><td>0.228077117386</td><td>0.851267523263</td></tr>\n",
       "<tr><td>9</td><td>40</td><td>3.22637684058</td><td>3.19452760413</td><td>0.270844863833</td><td>0.9243604297</td></tr>\n",
       "<tr><td>...</td><td>...</td><td>...</td><td>...</td><td>...</td><td>...</td></tr>\n",
       "<tr><td>20</td><td>19</td><td>4.82530237873</td><td>3.6862353582</td><td>1.0340710184</td><td>0.509397907948</td></tr>\n",
       "<tr><td>21</td><td>12</td><td>3.65227003152</td><td>3.20734491214</td><td>1.30712527462</td><td>0.36566187871</td></tr>\n",
       "<tr><td>22</td><td>4</td><td>3.40762707249</td><td>3.31565180602</td><td>0.255821128127</td><td>0.119311310549</td></tr>\n",
       "<tr><td>23</td><td>4</td><td>3.40056127121</td><td>3.3420786244</td><td>0.106278384541</td><td>0.109860817132</td></tr>\n",
       "<tr><td>24</td><td>6</td><td>3.3294981246</td><td>3.28646403737</td><td>0.176290840671</td><td>0.300677811806</td></tr>\n",
       "<tr><td>25</td><td>8</td><td>3.32711938097</td><td>3.21486746915</td><td>0.201197152515</td><td>0.0995364884624</td></tr>\n",
       "<tr><td>26</td><td>10</td><td>3.07623606942</td><td>3.2127914083</td><td>0.300668778413</td><td>0.240308988737</td></tr>\n",
       "<tr><td>27</td><td>8</td><td>3.29906320392</td><td>3.18101574834</td><td>0.202012594354</td><td>0.0709859064494</td></tr>\n",
       "<tr><td>28</td><td>5</td><td>2.98213493791</td><td>3.21416838981</td><td>0.222219992226</td><td>0.117513880735</td></tr>\n",
       "<tr><td>29</td><td>6</td><td>3.4817140051</td><td>3.17393216314</td><td>0.204489695458</td><td>0.0872011855791</td></tr>\n",
       "</table>"
      ],
      "text/plain": [
       "<Table length=30>\n",
       " num  nbstars      prfx          pfry        sig_prfx        sig_prfy   \n",
       "int32  int32     float64       float64       float64         float64    \n",
       "----- ------- ------------- ------------- -------------- ---------------\n",
       "    0      47 3.32038393231 3.09662370496 0.236071675366   1.04559112388\n",
       "    1      44 3.11492113162 2.97818295051 0.210843443892  0.826591251253\n",
       "    2      47 3.08815738194 3.29117824128 0.250619993966  0.864441455644\n",
       "    3      50 3.11733721215 3.02954208556 0.246160221458   1.06635290639\n",
       "    4      48 3.08029633915   3.074351356  0.24153928891  0.854841558395\n",
       "    5      47 3.12390314318 3.38156262392 0.356745593817  0.890953896476\n",
       "    6      48 3.19058323033 3.22420936219 0.263373360377   0.93972302274\n",
       "    7      47 3.22451637418 3.12486623724 0.227634535634  0.988243939062\n",
       "    8      53 3.26138545716 3.26057175845 0.228077117386  0.851267523263\n",
       "    9      40 3.22637684058 3.19452760413 0.270844863833    0.9243604297\n",
       "  ...     ...           ...           ...            ...             ...\n",
       "   20      19 4.82530237873  3.6862353582   1.0340710184  0.509397907948\n",
       "   21      12 3.65227003152 3.20734491214  1.30712527462   0.36566187871\n",
       "   22       4 3.40762707249 3.31565180602 0.255821128127  0.119311310549\n",
       "   23       4 3.40056127121  3.3420786244 0.106278384541  0.109860817132\n",
       "   24       6  3.3294981246 3.28646403737 0.176290840671  0.300677811806\n",
       "   25       8 3.32711938097 3.21486746915 0.201197152515 0.0995364884624\n",
       "   26      10 3.07623606942  3.2127914083 0.300668778413  0.240308988737\n",
       "   27       8 3.29906320392 3.18101574834 0.202012594354 0.0709859064494\n",
       "   28       5 2.98213493791 3.21416838981 0.222219992226  0.117513880735\n",
       "   29       6  3.4817140051 3.17393216314 0.204489695458 0.0872011855791"
      ]
     },
     "execution_count": 40,
     "metadata": {},
     "output_type": "execute_result"
    }
   ],
   "source": [
    "t"
   ]
  },
  {
   "cell_type": "code",
   "execution_count": 41,
   "metadata": {
    "collapsed": false
   },
   "outputs": [],
   "source": [
    "expo = Column(exposures_list, name='exposure')\n",
    "file = Column(basefile_list, name='file')\n",
    "time = Column(dateobs_list,name='time')"
   ]
  },
  {
   "cell_type": "code",
   "execution_count": 42,
   "metadata": {
    "collapsed": false
   },
   "outputs": [],
   "source": [
    "t.add_column(expo, index=1)\n",
    "t.add_column(time, index=1)\n",
    "t.add_column(file, index=1)"
   ]
  },
  {
   "cell_type": "code",
   "execution_count": 43,
   "metadata": {
    "collapsed": false
   },
   "outputs": [
    {
     "data": {
      "text/html": [
       "&lt;Table length=30&gt;\n",
       "<table id=\"table4705100496\">\n",
       "<thead><tr><th>num</th><th>file</th><th>time</th><th>exposure</th><th>nbstars</th><th>prfx</th><th>pfry</th><th>sig_prfx</th><th>sig_prfy</th></tr></thead>\n",
       "<thead><tr><th>int32</th><th>str29</th><th>str23</th><th>float64</th><th>int32</th><th>float64</th><th>float64</th><th>float64</th><th>float64</th></tr></thead>\n",
       "<tr><td>0</td><td>AssScImHD158485_grat_103.fits</td><td>2016-05-12T10:29:12.303</td><td>5.0</td><td>47</td><td>3.32038393231</td><td>3.09662370496</td><td>0.236071675366</td><td>1.04559112388</td></tr>\n",
       "<tr><td>1</td><td>AssScImHD158485_grat_104.fits</td><td>2016-05-12T10:29:21.641</td><td>5.0</td><td>44</td><td>3.11492113162</td><td>2.97818295051</td><td>0.210843443892</td><td>0.826591251253</td></tr>\n",
       "<tr><td>2</td><td>AssScImHD158485_grat_105.fits</td><td>2016-05-12T10:29:30.676</td><td>5.0</td><td>47</td><td>3.08815738194</td><td>3.29117824128</td><td>0.250619993966</td><td>0.864441455644</td></tr>\n",
       "<tr><td>3</td><td>AssScImHD158485_grat_106.fits</td><td>2016-05-12T10:29:39.729</td><td>5.0</td><td>50</td><td>3.11733721215</td><td>3.02954208556</td><td>0.246160221458</td><td>1.06635290639</td></tr>\n",
       "<tr><td>4</td><td>AssScImHD158485_grat_107.fits</td><td>2016-05-12T10:29:48.819</td><td>5.0</td><td>48</td><td>3.08029633915</td><td>3.074351356</td><td>0.24153928891</td><td>0.854841558395</td></tr>\n",
       "<tr><td>5</td><td>AssScImHD158485_grat_108.fits</td><td>2016-05-12T10:29:57.821</td><td>5.0</td><td>47</td><td>3.12390314318</td><td>3.38156262392</td><td>0.356745593817</td><td>0.890953896476</td></tr>\n",
       "<tr><td>6</td><td>AssScImHD158485_grat_109.fits</td><td>2016-05-12T10:30:06.868</td><td>5.0</td><td>48</td><td>3.19058323033</td><td>3.22420936219</td><td>0.263373360377</td><td>0.93972302274</td></tr>\n",
       "<tr><td>7</td><td>AssScImHD158485_grat_110.fits</td><td>2016-05-12T10:30:15.970</td><td>5.0</td><td>47</td><td>3.22451637418</td><td>3.12486623724</td><td>0.227634535634</td><td>0.988243939062</td></tr>\n",
       "<tr><td>8</td><td>AssScImHD158485_grat_111.fits</td><td>2016-05-12T10:30:24.969</td><td>5.0</td><td>53</td><td>3.26138545716</td><td>3.26057175845</td><td>0.228077117386</td><td>0.851267523263</td></tr>\n",
       "<tr><td>9</td><td>AssScImHD158485_grat_112.fits</td><td>2016-05-12T10:30:33.946</td><td>5.0</td><td>40</td><td>3.22637684058</td><td>3.19452760413</td><td>0.270844863833</td><td>0.9243604297</td></tr>\n",
       "<tr><td>...</td><td>...</td><td>...</td><td>...</td><td>...</td><td>...</td><td>...</td><td>...</td><td>...</td></tr>\n",
       "<tr><td>20</td><td>AssScImHD158485_grat_123.fits</td><td>2016-05-12T10:31:47.134</td><td>0.40000000596</td><td>19</td><td>4.82530237873</td><td>3.6862353582</td><td>1.0340710184</td><td>0.509397907948</td></tr>\n",
       "<tr><td>21</td><td>AssScImHD158485_grat_124.fits</td><td>2016-05-12T10:31:55.179</td><td>0.40000000596</td><td>12</td><td>3.65227003152</td><td>3.20734491214</td><td>1.30712527462</td><td>0.36566187871</td></tr>\n",
       "<tr><td>22</td><td>AssScImHD158485_grat_125.fits</td><td>2016-05-12T10:31:59.508</td><td>0.40000000596</td><td>4</td><td>3.40762707249</td><td>3.31565180602</td><td>0.255821128127</td><td>0.119311310549</td></tr>\n",
       "<tr><td>23</td><td>AssScImHD158485_grat_126.fits</td><td>2016-05-12T10:32:03.928</td><td>0.40000000596</td><td>4</td><td>3.40056127121</td><td>3.3420786244</td><td>0.106278384541</td><td>0.109860817132</td></tr>\n",
       "<tr><td>24</td><td>AssScImHD158485_grat_127.fits</td><td>2016-05-12T10:32:08.348</td><td>0.40000000596</td><td>6</td><td>3.3294981246</td><td>3.28646403737</td><td>0.176290840671</td><td>0.300677811806</td></tr>\n",
       "<tr><td>25</td><td>AssScImHD158485_grat_128.fits</td><td>2016-05-12T10:32:12.715</td><td>0.40000000596</td><td>8</td><td>3.32711938097</td><td>3.21486746915</td><td>0.201197152515</td><td>0.0995364884624</td></tr>\n",
       "<tr><td>26</td><td>AssScImHD158485_grat_129.fits</td><td>2016-05-12T10:32:17.052</td><td>0.40000000596</td><td>10</td><td>3.07623606942</td><td>3.2127914083</td><td>0.300668778413</td><td>0.240308988737</td></tr>\n",
       "<tr><td>27</td><td>AssScImHD158485_grat_130.fits</td><td>2016-05-12T10:32:21.432</td><td>0.40000000596</td><td>8</td><td>3.29906320392</td><td>3.18101574834</td><td>0.202012594354</td><td>0.0709859064494</td></tr>\n",
       "<tr><td>28</td><td>AssScImHD158485_grat_131.fits</td><td>2016-05-12T10:32:25.842</td><td>0.40000000596</td><td>5</td><td>2.98213493791</td><td>3.21416838981</td><td>0.222219992226</td><td>0.117513880735</td></tr>\n",
       "<tr><td>29</td><td>AssScImHD158485_grat_132.fits</td><td>2016-05-12T10:32:30.250</td><td>0.40000000596</td><td>6</td><td>3.4817140051</td><td>3.17393216314</td><td>0.204489695458</td><td>0.0872011855791</td></tr>\n",
       "</table>"
      ],
      "text/plain": [
       "<Table length=30>\n",
       " num               file             ...    sig_prfx        sig_prfy   \n",
       "int32             str29             ...    float64         float64    \n",
       "----- ----------------------------- ... -------------- ---------------\n",
       "    0 AssScImHD158485_grat_103.fits ... 0.236071675366   1.04559112388\n",
       "    1 AssScImHD158485_grat_104.fits ... 0.210843443892  0.826591251253\n",
       "    2 AssScImHD158485_grat_105.fits ... 0.250619993966  0.864441455644\n",
       "    3 AssScImHD158485_grat_106.fits ... 0.246160221458   1.06635290639\n",
       "    4 AssScImHD158485_grat_107.fits ...  0.24153928891  0.854841558395\n",
       "    5 AssScImHD158485_grat_108.fits ... 0.356745593817  0.890953896476\n",
       "    6 AssScImHD158485_grat_109.fits ... 0.263373360377   0.93972302274\n",
       "    7 AssScImHD158485_grat_110.fits ... 0.227634535634  0.988243939062\n",
       "    8 AssScImHD158485_grat_111.fits ... 0.228077117386  0.851267523263\n",
       "    9 AssScImHD158485_grat_112.fits ... 0.270844863833    0.9243604297\n",
       "  ...                           ... ...            ...             ...\n",
       "   20 AssScImHD158485_grat_123.fits ...   1.0340710184  0.509397907948\n",
       "   21 AssScImHD158485_grat_124.fits ...  1.30712527462   0.36566187871\n",
       "   22 AssScImHD158485_grat_125.fits ... 0.255821128127  0.119311310549\n",
       "   23 AssScImHD158485_grat_126.fits ... 0.106278384541  0.109860817132\n",
       "   24 AssScImHD158485_grat_127.fits ... 0.176290840671  0.300677811806\n",
       "   25 AssScImHD158485_grat_128.fits ... 0.201197152515 0.0995364884624\n",
       "   26 AssScImHD158485_grat_129.fits ... 0.300668778413  0.240308988737\n",
       "   27 AssScImHD158485_grat_130.fits ... 0.202012594354 0.0709859064494\n",
       "   28 AssScImHD158485_grat_131.fits ... 0.222219992226  0.117513880735\n",
       "   29 AssScImHD158485_grat_132.fits ... 0.204489695458 0.0872011855791"
      ]
     },
     "execution_count": 43,
     "metadata": {},
     "output_type": "execute_result"
    }
   ],
   "source": [
    "t"
   ]
  },
  {
   "cell_type": "markdown",
   "metadata": {},
   "source": [
    "## Write output file"
   ]
  },
  {
   "cell_type": "code",
   "execution_count": 44,
   "metadata": {
    "collapsed": false
   },
   "outputs": [],
   "source": [
    "t.write(outputtablefile,format='fits')"
   ]
  },
  {
   "cell_type": "markdown",
   "metadata": {
    "collapsed": true
   },
   "source": [
    "## Pandas"
   ]
  },
  {
   "cell_type": "code",
   "execution_count": 45,
   "metadata": {
    "collapsed": true
   },
   "outputs": [],
   "source": [
    "df=t.to_pandas()"
   ]
  },
  {
   "cell_type": "code",
   "execution_count": 46,
   "metadata": {
    "collapsed": false
   },
   "outputs": [
    {
     "data": {
      "text/html": [
       "<div>\n",
       "<table border=\"1\" class=\"dataframe\">\n",
       "  <thead>\n",
       "    <tr style=\"text-align: right;\">\n",
       "      <th></th>\n",
       "      <th>num</th>\n",
       "      <th>exposure</th>\n",
       "      <th>nbstars</th>\n",
       "      <th>prfx</th>\n",
       "      <th>pfry</th>\n",
       "      <th>sig_prfx</th>\n",
       "      <th>sig_prfy</th>\n",
       "    </tr>\n",
       "  </thead>\n",
       "  <tbody>\n",
       "    <tr>\n",
       "      <th>count</th>\n",
       "      <td>30.000000</td>\n",
       "      <td>30.000000</td>\n",
       "      <td>30.000000</td>\n",
       "      <td>30.000000</td>\n",
       "      <td>30.000000</td>\n",
       "      <td>30.000000</td>\n",
       "      <td>30.000000</td>\n",
       "    </tr>\n",
       "    <tr>\n",
       "      <th>mean</th>\n",
       "      <td>14.500000</td>\n",
       "      <td>2.133333</td>\n",
       "      <td>23.600000</td>\n",
       "      <td>3.293882</td>\n",
       "      <td>3.241749</td>\n",
       "      <td>0.317081</td>\n",
       "      <td>0.454643</td>\n",
       "    </tr>\n",
       "    <tr>\n",
       "      <th>std</th>\n",
       "      <td>8.803408</td>\n",
       "      <td>2.076691</td>\n",
       "      <td>17.621695</td>\n",
       "      <td>0.333514</td>\n",
       "      <td>0.151522</td>\n",
       "      <td>0.268937</td>\n",
       "      <td>0.357247</td>\n",
       "    </tr>\n",
       "    <tr>\n",
       "      <th>min</th>\n",
       "      <td>0.000000</td>\n",
       "      <td>0.400000</td>\n",
       "      <td>4.000000</td>\n",
       "      <td>2.982135</td>\n",
       "      <td>2.978183</td>\n",
       "      <td>0.106278</td>\n",
       "      <td>0.070986</td>\n",
       "    </tr>\n",
       "    <tr>\n",
       "      <th>25%</th>\n",
       "      <td>7.250000</td>\n",
       "      <td>0.400000</td>\n",
       "      <td>10.000000</td>\n",
       "      <td>3.115525</td>\n",
       "      <td>3.175703</td>\n",
       "      <td>0.200440</td>\n",
       "      <td>0.136120</td>\n",
       "    </tr>\n",
       "    <tr>\n",
       "      <th>50%</th>\n",
       "      <td>14.500000</td>\n",
       "      <td>1.000000</td>\n",
       "      <td>15.500000</td>\n",
       "      <td>3.243751</td>\n",
       "      <td>3.219538</td>\n",
       "      <td>0.227856</td>\n",
       "      <td>0.291260</td>\n",
       "    </tr>\n",
       "    <tr>\n",
       "      <th>75%</th>\n",
       "      <td>21.750000</td>\n",
       "      <td>5.000000</td>\n",
       "      <td>46.250000</td>\n",
       "      <td>3.348283</td>\n",
       "      <td>3.290000</td>\n",
       "      <td>0.268977</td>\n",
       "      <td>0.853948</td>\n",
       "    </tr>\n",
       "    <tr>\n",
       "      <th>max</th>\n",
       "      <td>29.000000</td>\n",
       "      <td>5.000000</td>\n",
       "      <td>53.000000</td>\n",
       "      <td>4.825302</td>\n",
       "      <td>3.686235</td>\n",
       "      <td>1.307125</td>\n",
       "      <td>1.066353</td>\n",
       "    </tr>\n",
       "  </tbody>\n",
       "</table>\n",
       "</div>"
      ],
      "text/plain": [
       "             num   exposure    nbstars       prfx       pfry   sig_prfx  \\\n",
       "count  30.000000  30.000000  30.000000  30.000000  30.000000  30.000000   \n",
       "mean   14.500000   2.133333  23.600000   3.293882   3.241749   0.317081   \n",
       "std     8.803408   2.076691  17.621695   0.333514   0.151522   0.268937   \n",
       "min     0.000000   0.400000   4.000000   2.982135   2.978183   0.106278   \n",
       "25%     7.250000   0.400000  10.000000   3.115525   3.175703   0.200440   \n",
       "50%    14.500000   1.000000  15.500000   3.243751   3.219538   0.227856   \n",
       "75%    21.750000   5.000000  46.250000   3.348283   3.290000   0.268977   \n",
       "max    29.000000   5.000000  53.000000   4.825302   3.686235   1.307125   \n",
       "\n",
       "        sig_prfy  \n",
       "count  30.000000  \n",
       "mean    0.454643  \n",
       "std     0.357247  \n",
       "min     0.070986  \n",
       "25%     0.136120  \n",
       "50%     0.291260  \n",
       "75%     0.853948  \n",
       "max     1.066353  "
      ]
     },
     "execution_count": 46,
     "metadata": {},
     "output_type": "execute_result"
    }
   ],
   "source": [
    "df.describe()"
   ]
  },
  {
   "cell_type": "code",
   "execution_count": null,
   "metadata": {
    "collapsed": true
   },
   "outputs": [],
   "source": []
  }
 ],
 "metadata": {
  "kernelspec": {
   "display_name": "Python 2",
   "language": "python",
   "name": "python2"
  },
  "language_info": {
   "codemirror_mode": {
    "name": "ipython",
    "version": 2
   },
   "file_extension": ".py",
   "mimetype": "text/x-python",
   "name": "python",
   "nbconvert_exporter": "python",
   "pygments_lexer": "ipython2",
   "version": "2.7.11"
  }
 },
 "nbformat": 4,
 "nbformat_minor": 0
}
