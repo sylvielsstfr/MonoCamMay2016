{
 "cells": [
  {
   "cell_type": "markdown",
   "metadata": {},
   "source": [
    "# Find Optimal PSF\n",
    "===========================\n",
    "\n",
    "- creation 29/06/2016\n",
    "- author Sylvie Dagoret-Campagne"
   ]
  },
  {
   "cell_type": "code",
   "execution_count": 1,
   "metadata": {
    "collapsed": false
   },
   "outputs": [
    {
     "name": "stdout",
     "output_type": "stream",
     "text": [
      "ccdproc version 1.0.1\n"
     ]
    }
   ],
   "source": [
    "%matplotlib inline\n",
    "import matplotlib.pyplot as plt\n",
    "import numpy as np\n",
    "\n",
    "from astropy.modeling import models\n",
    "from astropy import units as u\n",
    "from astropy import nddata\n",
    "from astropy.io import fits\n",
    "\n",
    "import ccdproc\n",
    "print 'ccdproc version',ccdproc.__version__\n",
    "\n",
    "from astropy.modeling import models"
   ]
  },
  {
   "cell_type": "code",
   "execution_count": 2,
   "metadata": {
    "collapsed": true
   },
   "outputs": [],
   "source": [
    "import photutils\n",
    "from astropy.stats import sigma_clipped_stats\n",
    "from photutils import daofind\n",
    "from photutils import CircularAperture\n",
    "from astropy.visualization import SqrtStretch\n",
    "from astropy.visualization.mpl_normalize import ImageNormalize"
   ]
  },
  {
   "cell_type": "code",
   "execution_count": 3,
   "metadata": {
    "collapsed": true
   },
   "outputs": [],
   "source": [
    "from scipy import stats \n",
    "from scipy import ndimage\n",
    "import os\n",
    "from datetime import datetime, timedelta"
   ]
  },
  {
   "cell_type": "code",
   "execution_count": 28,
   "metadata": {
    "collapsed": true
   },
   "outputs": [],
   "source": [
    "from photutils.background import Background2D"
   ]
  },
  {
   "cell_type": "code",
   "execution_count": 4,
   "metadata": {
    "collapsed": true
   },
   "outputs": [],
   "source": [
    "import libMonocamBaseImages           # my tool library written to do that CCD reduction"
   ]
  },
  {
   "cell_type": "code",
   "execution_count": 5,
   "metadata": {
    "collapsed": false
   },
   "outputs": [
    {
     "name": "stdout",
     "output_type": "stream",
     "text": [
      "standard date format for the analysis : 2016-06-29 13:34:06.401463\n",
      "fits date format for the analysis :  2016-06-29T13:34:06\n"
     ]
    }
   ],
   "source": [
    "now=datetime.utcnow()  # choose UTC time\n",
    "datestr=str(now)\n",
    "print 'standard date format for the analysis :',datestr\n",
    "#  want the following format '2016-05-10T11:55:27.267'\n",
    "date_of_analysis=now.strftime('%Y-%m-%dT%H:%M:%S')\n",
    "print 'fits date format for the analysis : ',date_of_analysis"
   ]
  },
  {
   "cell_type": "code",
   "execution_count": 6,
   "metadata": {
    "collapsed": true
   },
   "outputs": [],
   "source": [
    "#object_name='HD158485_grat_20'\n",
    "#object_name='HD159222_grat'\n",
    "object_name='HD163466_none'"
   ]
  },
  {
   "cell_type": "code",
   "execution_count": 9,
   "metadata": {
    "collapsed": true
   },
   "outputs": [],
   "source": [
    "path='./HD163466_none'\n",
    "rootfilename='AssScImHD163466_none_' \n",
    "NumStart=1\n",
    "NumStop=10\n",
    "#filename=os.path.join(path,basefilename)"
   ]
  },
  {
   "cell_type": "code",
   "execution_count": 67,
   "metadata": {
    "collapsed": true
   },
   "outputs": [],
   "source": [
    "outputtablefile='HD163466_none_TablePSF.fits'"
   ]
  },
  {
   "cell_type": "code",
   "execution_count": 12,
   "metadata": {
    "collapsed": false
   },
   "outputs": [],
   "source": [
    "filelist=libMonocamBaseImages.BuildFilelist(path,rootfilename,start=NumStart,stop=NumStop,nbchar=1)"
   ]
  },
  {
   "cell_type": "code",
   "execution_count": 13,
   "metadata": {
    "collapsed": false
   },
   "outputs": [
    {
     "data": {
      "text/plain": [
       "['./HD163466_none/AssScImHD163466_none_1.fits',\n",
       " './HD163466_none/AssScImHD163466_none_2.fits',\n",
       " './HD163466_none/AssScImHD163466_none_3.fits',\n",
       " './HD163466_none/AssScImHD163466_none_4.fits',\n",
       " './HD163466_none/AssScImHD163466_none_5.fits',\n",
       " './HD163466_none/AssScImHD163466_none_6.fits',\n",
       " './HD163466_none/AssScImHD163466_none_7.fits',\n",
       " './HD163466_none/AssScImHD163466_none_8.fits',\n",
       " './HD163466_none/AssScImHD163466_none_9.fits',\n",
       " './HD163466_none/AssScImHD163466_none_10.fits']"
      ]
     },
     "execution_count": 13,
     "metadata": {},
     "output_type": "execute_result"
    }
   ],
   "source": [
    "filelist"
   ]
  },
  {
   "cell_type": "code",
   "execution_count": null,
   "metadata": {
    "collapsed": true
   },
   "outputs": [],
   "source": []
  },
  {
   "cell_type": "code",
   "execution_count": 31,
   "metadata": {
    "collapsed": false
   },
   "outputs": [
    {
     "name": "stdout",
     "output_type": "stream",
     "text": [
      "./HD163466_none/AssScImHD163466_none_1.fits\n",
      "./HD163466_none/AssScImHD163466_none_2.fits\n",
      "./HD163466_none/AssScImHD163466_none_3.fits\n",
      "./HD163466_none/AssScImHD163466_none_4.fits\n",
      "./HD163466_none/AssScImHD163466_none_5.fits\n",
      "./HD163466_none/AssScImHD163466_none_6.fits\n",
      "./HD163466_none/AssScImHD163466_none_7.fits\n",
      "./HD163466_none/AssScImHD163466_none_8.fits\n",
      "./HD163466_none/AssScImHD163466_none_9.fits\n",
      "./HD163466_none/AssScImHD163466_none_10.fits\n"
     ]
    }
   ],
   "source": [
    "allchannelallsciimages = []  # list of 16 lists of images series \n",
    "exposures_list = []        # sequential list of the exposures of the sky flats \n",
    "header_list = []           # list of headers\n",
    "data_list = []\n",
    "# get the primary block headers:\n",
    "for image_file in filelist: \n",
    "    print image_file\n",
    "    hdu_list = fits.open(image_file)\n",
    "    header=hdu_list[0].header\n",
    "    exposure=header['EXPOSURE']\n",
    "    exposures_list.append(exposure)\n",
    "    header_list.append(header)\n",
    "    data=ccdproc.CCDData.read(image_file, hdu=0,unit='adu') \n",
    "    data_list.append(data)"
   ]
  },
  {
   "cell_type": "markdown",
   "metadata": {},
   "source": [
    "## For control\n",
    "\n",
    "uncomment for control"
   ]
  },
  {
   "cell_type": "code",
   "execution_count": 34,
   "metadata": {
    "collapsed": true
   },
   "outputs": [],
   "source": [
    "index=0"
   ]
  },
  {
   "cell_type": "code",
   "execution_count": 35,
   "metadata": {
    "collapsed": false
   },
   "outputs": [
    {
     "name": "stdout",
     "output_type": "stream",
     "text": [
      "1.0\n"
     ]
    }
   ],
   "source": [
    "print exposures_list[index]"
   ]
  },
  {
   "cell_type": "code",
   "execution_count": 37,
   "metadata": {
    "collapsed": false
   },
   "outputs": [],
   "source": [
    "#header_list[index]"
   ]
  },
  {
   "cell_type": "code",
   "execution_count": 38,
   "metadata": {
    "collapsed": false
   },
   "outputs": [
    {
     "data": {
      "text/plain": [
       "<matplotlib.image.AxesImage at 0x138462f90>"
      ]
     },
     "execution_count": 38,
     "metadata": {},
     "output_type": "execute_result"
    },
    {
     "data": {
      "image/png": "[encoded data removed]",
      "text/plain": [
       "<matplotlib.figure.Figure at 0x17c87cdd0>"
      ]
     },
     "metadata": {},
     "output_type": "display_data"
    }
   ],
   "source": [
    "plt.imshow(data_list[index])"
   ]
  },
  {
   "cell_type": "code",
   "execution_count": 39,
   "metadata": {
    "collapsed": true
   },
   "outputs": [],
   "source": [
    "bkg= Background2D(data_list[index], (100, 100), filter_size=(3, 3),method='median')"
   ]
  },
  {
   "cell_type": "code",
   "execution_count": 43,
   "metadata": {
    "collapsed": false
   },
   "outputs": [
    {
     "data": {
      "text/plain": [
       "array([[  2.02122243e+01,  -2.37792909e+00,  -3.01405865e+00, ...,\n",
       "          4.25808038e+00,   1.99883616e+00,   2.02749997e+00],\n",
       "       [ -8.15234645e+00,   6.76673887e+00,  -4.00169512e+00, ...,\n",
       "          2.04851550e+00,  -1.54323358e+00,   8.30877063e-01],\n",
       "       [  1.70535640e+01,  -1.16605453e+00,   1.43702591e+00, ...,\n",
       "         -2.51922969e+00,   5.27430129e-01,   2.23494152e+00],\n",
       "       ..., \n",
       "       [  5.27308685e+00,   1.94594021e-01,  -2.12661494e+00, ...,\n",
       "          3.12457805e+00,   3.60333556e+00,   4.29079957e+00],\n",
       "       [  1.39691309e+00,  -5.32999287e-01,   5.48655248e+00, ...,\n",
       "          4.11973798e+00,   1.10695037e+00,   1.79170521e+01],\n",
       "       [ -1.98591046e+00,   3.18446873e+00,   4.07216628e+00, ...,\n",
       "         -1.28130510e+00,  -8.39388098e-01,   2.64537882e+02]])"
      ]
     },
     "execution_count": 43,
     "metadata": {},
     "output_type": "execute_result"
    }
   ],
   "source": [
    "data_list[index].data-bkg.background"
   ]
  },
  {
   "cell_type": "code",
   "execution_count": 45,
   "metadata": {
    "collapsed": true
   },
   "outputs": [],
   "source": [
    "correctedimage_list = []"
   ]
  },
  {
   "cell_type": "code",
   "execution_count": 46,
   "metadata": {
    "collapsed": false
   },
   "outputs": [],
   "source": [
    "for data in data_list:\n",
    "    bkg= Background2D(data, (100, 100), filter_size=(3, 3),method='median')\n",
    "    newimage=data-bkg.background\n",
    "    correctedimage_list.append(newimage)"
   ]
  },
  {
   "cell_type": "code",
   "execution_count": 47,
   "metadata": {
    "collapsed": true
   },
   "outputs": [],
   "source": [
    "NBIMAGES=len(correctedimage_list)"
   ]
  },
  {
   "cell_type": "code",
   "execution_count": 50,
   "metadata": {
    "collapsed": true
   },
   "outputs": [],
   "source": [
    "def weighted_avg_and_std(values, weights):\n",
    "    \"\"\"\n",
    "    Return the weighted average and standard deviation.\n",
    "\n",
    "    values, weights -- Numpy ndarrays with the same shape.\n",
    "    \"\"\"\n",
    "    average = np.average(values, weights=weights)\n",
    "    variance = np.average((values-average)**2, weights=weights)  # Fast and numerically precise\n",
    "    return (average, np.sqrt(variance))"
   ]
  },
  {
   "cell_type": "code",
   "execution_count": 71,
   "metadata": {
    "collapsed": true
   },
   "outputs": [],
   "source": [
    "image_psf=np.zeros((NBIMAGES,6))"
   ]
  },
  {
   "cell_type": "code",
   "execution_count": 52,
   "metadata": {
    "collapsed": true
   },
   "outputs": [],
   "source": [
    "DELTA_NBINSX=10\n",
    "DELTA_NBINSY=10"
   ]
  },
  {
   "cell_type": "code",
   "execution_count": 72,
   "metadata": {
    "collapsed": false
   },
   "outputs": [
    {
     "name": "stdout",
     "output_type": "stream",
     "text": [
      "image 0 ==> NBSTARS = 42\n",
      "average prf(x) = 3.60 +/- 0.11 pixels ==> psf  3.40 +/- 0.10 arcsec \n",
      "average prf(y) = 4.10 +/- 0.28 pixels ==> psf  3.87 +/- 0.25 arcsec \n"
     ]
    },
    {
     "name": "stderr",
     "output_type": "stream",
     "text": [
      "/Users/dagoret-campagnesylvie/anaconda/envs/pyastrophys/lib/python2.7/site-packages/ipykernel/__main__.py:9: RuntimeWarning: invalid value encountered in sqrt\n"
     ]
    },
    {
     "name": "stdout",
     "output_type": "stream",
     "text": [
      "image 1 ==> NBSTARS = 43\n",
      "average prf(x) = 3.61 +/- 0.14 pixels ==> psf  3.41 +/- 0.13 arcsec \n",
      "average prf(y) = 4.13 +/- 0.32 pixels ==> psf  3.90 +/- 0.29 arcsec \n",
      "image 2 ==> NBSTARS = 71\n",
      "average prf(x) = 3.69 +/- 0.17 pixels ==> psf  3.48 +/- 0.15 arcsec \n",
      "average prf(y) = 4.13 +/- 0.38 pixels ==> psf  3.90 +/- 0.34 arcsec \n",
      "image 3 ==> NBSTARS = 36\n",
      "average prf(x) = 3.58 +/- 0.12 pixels ==> psf  3.38 +/- 0.11 arcsec \n",
      "average prf(y) = 4.14 +/- 0.30 pixels ==> psf  3.91 +/- 0.27 arcsec \n",
      "image 4 ==> NBSTARS = 51\n",
      "average prf(x) = 3.47 +/- 0.13 pixels ==> psf  3.27 +/- 0.12 arcsec \n",
      "average prf(y) = 4.12 +/- 0.34 pixels ==> psf  3.89 +/- 0.30 arcsec \n",
      "image 5 ==> NBSTARS = 46\n",
      "average prf(x) = 3.70 +/- 0.15 pixels ==> psf  3.49 +/- 0.14 arcsec \n",
      "average prf(y) = 4.08 +/- 0.30 pixels ==> psf  3.86 +/- 0.27 arcsec \n",
      "image 6 ==> NBSTARS = 41\n",
      "average prf(x) = 3.72 +/- 0.15 pixels ==> psf  3.51 +/- 0.14 arcsec \n",
      "average prf(y) = 4.38 +/- 0.43 pixels ==> psf  4.14 +/- 0.39 arcsec \n",
      "image 7 ==> NBSTARS = 41\n",
      "average prf(x) = 3.72 +/- 0.15 pixels ==> psf  3.51 +/- 0.14 arcsec \n",
      "average prf(y) = 4.04 +/- 0.26 pixels ==> psf  3.81 +/- 0.23 arcsec \n",
      "image 8 ==> NBSTARS = 42\n",
      "average prf(x) = 3.99 +/- 0.19 pixels ==> psf  3.77 +/- 0.17 arcsec \n",
      "average prf(y) = 4.37 +/- 0.28 pixels ==> psf  4.12 +/- 0.25 arcsec \n",
      "image 9 ==> NBSTARS = 36\n",
      "average prf(x) = 3.82 +/- 0.12 pixels ==> psf  3.60 +/- 0.11 arcsec \n",
      "average prf(y) = 4.41 +/- 0.25 pixels ==> psf  4.16 +/- 0.23 arcsec \n"
     ]
    }
   ],
   "source": [
    "# loop on images\n",
    "index=-1\n",
    "for image in correctedimage_list:\n",
    "    index=index+1\n",
    "    mean, median, std = sigma_clipped_stats(image, sigma=10.0, iters=5) \n",
    "    sources = daofind(image - median, fwhm=3.0, threshold=50.*std)\n",
    "    selected_stars=sources.as_array()\n",
    "    NBSTARS=selected_stars.shape[0]\n",
    "    print 'image {} ==> NBSTARS = {}'.format(index,NBSTARS)\n",
    "    image_psf[index,0]=index\n",
    "    image_psf[index,1]=NBSTARS\n",
    "    star_psfx=np.zeros(NBSTARS)\n",
    "    star_psfy=np.zeros(NBSTARS)\n",
    "    # loop on stars\n",
    "    for istar in range(NBSTARS):\n",
    "        X = int(selected_stars[istar][1])\n",
    "        Y = int(selected_stars[istar][2])\n",
    "        prf_image = image[Y-DELTA_NBINSY:Y+DELTA_NBINSY,X-DELTA_NBINSX:X+DELTA_NBINSX]\n",
    "        oneprfX=prf_image.sum(axis=0)\n",
    "        oneprfY=prf_image.sum(axis=1)\n",
    "        posX,sigX=weighted_avg_and_std(np.arange(oneprfX.shape[0]),oneprfX)\n",
    "        posY,sigY=weighted_avg_and_std(np.arange(oneprfY.shape[0]),oneprfY)\n",
    "        star_psfx[istar]=sigX\n",
    "        star_psfy[istar]=sigY\n",
    "        \n",
    "    all_sigx=star_psfx[np.logical_not(np.isnan(star_psfx))]\n",
    "    all_sigy=star_psfy[np.logical_not(np.isnan(star_psfy))]\n",
    "    all_sigx=all_sigx[all_sigx>2.4]\n",
    "    all_sigy=all_sigy[all_sigy>2.4]\n",
    "    print 'average prf(x) = {:2.2f} +/- {:2.2f} pixels ==> psf  {:2.2f} +/- {:2.2f} arcsec '.format(np.median(all_sigx),all_sigx.std(),np.median(all_sigx)*0.4*2.36,all_sigx.std()*0.4*2.26)\n",
    "    print 'average prf(y) = {:2.2f} +/- {:2.2f} pixels ==> psf  {:2.2f} +/- {:2.2f} arcsec '.format(np.median(all_sigy),all_sigy.std(),np.median(all_sigy)*0.4*2.36,all_sigy.std()*0.4*2.26)\n",
    "    image_psf[index,2]=np.median(all_sigx)\n",
    "    image_psf[index,3]=np.median(all_sigy)\n",
    "    image_psf[index,4]=all_sigx.std()\n",
    "    image_psf[index,5]=all_sigy.std()"
   ]
  },
  {
   "cell_type": "code",
   "execution_count": 73,
   "metadata": {
    "collapsed": false
   },
   "outputs": [],
   "source": [
    "#image_psf"
   ]
  },
  {
   "cell_type": "code",
   "execution_count": 74,
   "metadata": {
    "collapsed": true
   },
   "outputs": [],
   "source": [
    "from astropy.table import Table"
   ]
  },
  {
   "cell_type": "code",
   "execution_count": 75,
   "metadata": {
    "collapsed": false
   },
   "outputs": [],
   "source": [
    "t=Table(rows=image_psf,names=('num','nbstars','prfx','pfry','sig_prfx','sig_prfy'),dtype=('i4','i4','f8','f8','f8','f8'))"
   ]
  },
  {
   "cell_type": "code",
   "execution_count": 76,
   "metadata": {
    "collapsed": false
   },
   "outputs": [
    {
     "data": {
      "text/html": [
       "&lt;Table length=10&gt;\n",
       "<table id=\"table8298165712\">\n",
       "<thead><tr><th>num</th><th>nbstars</th><th>prfx</th><th>pfry</th><th>sig_prfx</th><th>sig_prfy</th></tr></thead>\n",
       "<thead><tr><th>int32</th><th>int32</th><th>float64</th><th>float64</th><th>float64</th><th>float64</th></tr></thead>\n",
       "<tr><td>0</td><td>42</td><td>3.5965298218</td><td>4.1015161103</td><td>0.108020046297</td><td>0.277166519446</td></tr>\n",
       "<tr><td>1</td><td>43</td><td>3.61242635444</td><td>4.13152061589</td><td>0.144973137697</td><td>0.323417226558</td></tr>\n",
       "<tr><td>2</td><td>71</td><td>3.68758200509</td><td>4.13485488713</td><td>0.167005040252</td><td>0.379102235085</td></tr>\n",
       "<tr><td>3</td><td>36</td><td>3.58227641138</td><td>4.13814571933</td><td>0.119342504383</td><td>0.303022903097</td></tr>\n",
       "<tr><td>4</td><td>51</td><td>3.46888124803</td><td>4.11999149754</td><td>0.13302558192</td><td>0.335934851083</td></tr>\n",
       "<tr><td>5</td><td>46</td><td>3.69959215711</td><td>4.08394172767</td><td>0.149843368761</td><td>0.296874027356</td></tr>\n",
       "<tr><td>6</td><td>41</td><td>3.72067577442</td><td>4.38104952519</td><td>0.15129230565</td><td>0.428043616054</td></tr>\n",
       "<tr><td>7</td><td>41</td><td>3.71539160053</td><td>4.03624061864</td><td>0.151812230197</td><td>0.25978629923</td></tr>\n",
       "<tr><td>8</td><td>42</td><td>3.9930616935</td><td>4.365045504</td><td>0.190684599422</td><td>0.27723900551</td></tr>\n",
       "<tr><td>9</td><td>36</td><td>3.81502610476</td><td>4.40814821346</td><td>0.119398820145</td><td>0.254385226503</td></tr>\n",
       "</table>"
      ],
      "text/plain": [
       "<Table length=10>\n",
       " num  nbstars      prfx          pfry        sig_prfx       sig_prfy   \n",
       "int32  int32     float64       float64       float64        float64    \n",
       "----- ------- ------------- ------------- -------------- --------------\n",
       "    0      42  3.5965298218  4.1015161103 0.108020046297 0.277166519446\n",
       "    1      43 3.61242635444 4.13152061589 0.144973137697 0.323417226558\n",
       "    2      71 3.68758200509 4.13485488713 0.167005040252 0.379102235085\n",
       "    3      36 3.58227641138 4.13814571933 0.119342504383 0.303022903097\n",
       "    4      51 3.46888124803 4.11999149754  0.13302558192 0.335934851083\n",
       "    5      46 3.69959215711 4.08394172767 0.149843368761 0.296874027356\n",
       "    6      41 3.72067577442 4.38104952519  0.15129230565 0.428043616054\n",
       "    7      41 3.71539160053 4.03624061864 0.151812230197  0.25978629923\n",
       "    8      42  3.9930616935   4.365045504 0.190684599422  0.27723900551\n",
       "    9      36 3.81502610476 4.40814821346 0.119398820145 0.254385226503"
      ]
     },
     "execution_count": 76,
     "metadata": {},
     "output_type": "execute_result"
    }
   ],
   "source": [
    "t"
   ]
  },
  {
   "cell_type": "code",
   "execution_count": 80,
   "metadata": {
    "collapsed": false
   },
   "outputs": [],
   "source": [
    "t.write(outputtablefile,format='fits')"
   ]
  },
  {
   "cell_type": "code",
   "execution_count": null,
   "metadata": {
    "collapsed": true
   },
   "outputs": [],
   "source": []
  }
 ],
 "metadata": {
  "kernelspec": {
   "display_name": "Python 2",
   "language": "python",
   "name": "python2"
  },
  "language_info": {
   "codemirror_mode": {
    "name": "ipython",
    "version": 2
   },
   "file_extension": ".py",
   "mimetype": "text/x-python",
   "name": "python",
   "nbconvert_exporter": "python",
   "pygments_lexer": "ipython2",
   "version": "2.7.11"
  }
 },
 "nbformat": 4,
 "nbformat_minor": 0
}
