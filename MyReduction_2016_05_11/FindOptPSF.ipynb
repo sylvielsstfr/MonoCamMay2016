{
 "cells": [
  {
   "cell_type": "markdown",
   "metadata": {},
   "source": [
    "# Find Optimal PSF\n",
    "===========================\n",
    "\n",
    "- creation 29/06/2016\n",
    "- author Sylvie Dagoret-Campagne"
   ]
  },
  {
   "cell_type": "code",
   "execution_count": 36,
   "metadata": {
    "collapsed": false
   },
   "outputs": [
    {
     "name": "stdout",
     "output_type": "stream",
     "text": [
      "ccdproc version 1.0.1\n"
     ]
    }
   ],
   "source": [
    "%matplotlib inline\n",
    "import matplotlib.pyplot as plt\n",
    "import numpy as np\n",
    "import pandas as pd\n",
    "\n",
    "from astropy.modeling import models\n",
    "from astropy import units as u\n",
    "from astropy import nddata\n",
    "from astropy.io import fits\n",
    "\n",
    "from astropy.table import Table\n",
    "from astropy.table import Column\n",
    "\n",
    "import ccdproc\n",
    "print 'ccdproc version',ccdproc.__version__\n",
    "\n",
    "from astropy.modeling import models"
   ]
  },
  {
   "cell_type": "code",
   "execution_count": 2,
   "metadata": {
    "collapsed": true
   },
   "outputs": [],
   "source": [
    "import photutils\n",
    "from astropy.stats import sigma_clipped_stats\n",
    "from photutils import daofind\n",
    "from photutils import CircularAperture\n",
    "from astropy.visualization import SqrtStretch\n",
    "from astropy.visualization.mpl_normalize import ImageNormalize"
   ]
  },
  {
   "cell_type": "code",
   "execution_count": 3,
   "metadata": {
    "collapsed": true
   },
   "outputs": [],
   "source": [
    "from scipy import stats \n",
    "from scipy import ndimage\n",
    "import os\n",
    "from datetime import datetime, timedelta"
   ]
  },
  {
   "cell_type": "code",
   "execution_count": 4,
   "metadata": {
    "collapsed": true
   },
   "outputs": [],
   "source": [
    "from photutils.background import Background2D"
   ]
  },
  {
   "cell_type": "code",
   "execution_count": 5,
   "metadata": {
    "collapsed": true
   },
   "outputs": [],
   "source": [
    "import libMonocamBaseImages           # my tool library written to do that CCD reduction"
   ]
  },
  {
   "cell_type": "code",
   "execution_count": 6,
   "metadata": {
    "collapsed": false
   },
   "outputs": [
    {
     "name": "stdout",
     "output_type": "stream",
     "text": [
      "standard date format for the analysis : 2016-06-29 18:07:49.835650\n",
      "fits date format for the analysis :  2016-06-29T18:07:49\n"
     ]
    }
   ],
   "source": [
    "now=datetime.utcnow()  # choose UTC time\n",
    "datestr=str(now)\n",
    "print 'standard date format for the analysis :',datestr\n",
    "#  want the following format '2016-05-10T11:55:27.267'\n",
    "date_of_analysis=now.strftime('%Y-%m-%dT%H:%M:%S')\n",
    "print 'fits date format for the analysis : ',date_of_analysis"
   ]
  },
  {
   "cell_type": "markdown",
   "metadata": {},
   "source": [
    "## Definitions and Constants"
   ]
  },
  {
   "cell_type": "code",
   "execution_count": 7,
   "metadata": {
    "collapsed": true
   },
   "outputs": [],
   "source": [
    "#object_name='HD158485_grat_20'\n",
    "#object_name='HD159222_grat'\n",
    "object_name='HD163466_none'"
   ]
  },
  {
   "cell_type": "markdown",
   "metadata": {},
   "source": [
    "### input files"
   ]
  },
  {
   "cell_type": "code",
   "execution_count": 8,
   "metadata": {
    "collapsed": true
   },
   "outputs": [],
   "source": [
    "path='./HD163466_none'\n",
    "rootfilename='AssScImHD163466_none_' \n",
    "NumStart=1\n",
    "NumStop=10\n",
    "#filename=os.path.join(path,basefilename)"
   ]
  },
  {
   "cell_type": "markdown",
   "metadata": {},
   "source": [
    "### output file (table)"
   ]
  },
  {
   "cell_type": "code",
   "execution_count": 9,
   "metadata": {
    "collapsed": true
   },
   "outputs": [],
   "source": [
    "outputtablefile='HD163466_none_1-10_TablePSF.fits'"
   ]
  },
  {
   "cell_type": "markdown",
   "metadata": {},
   "source": [
    "### make the filelist"
   ]
  },
  {
   "cell_type": "code",
   "execution_count": 10,
   "metadata": {
    "collapsed": false
   },
   "outputs": [],
   "source": [
    "filelist=libMonocamBaseImages.BuildFilelist(path,rootfilename,start=NumStart,stop=NumStop,nbchar=1)"
   ]
  },
  {
   "cell_type": "code",
   "execution_count": 11,
   "metadata": {
    "collapsed": false
   },
   "outputs": [
    {
     "data": {
      "text/plain": [
       "['./HD163466_none/AssScImHD163466_none_1.fits',\n",
       " './HD163466_none/AssScImHD163466_none_2.fits',\n",
       " './HD163466_none/AssScImHD163466_none_3.fits',\n",
       " './HD163466_none/AssScImHD163466_none_4.fits',\n",
       " './HD163466_none/AssScImHD163466_none_5.fits',\n",
       " './HD163466_none/AssScImHD163466_none_6.fits',\n",
       " './HD163466_none/AssScImHD163466_none_7.fits',\n",
       " './HD163466_none/AssScImHD163466_none_8.fits',\n",
       " './HD163466_none/AssScImHD163466_none_9.fits',\n",
       " './HD163466_none/AssScImHD163466_none_10.fits']"
      ]
     },
     "execution_count": 11,
     "metadata": {},
     "output_type": "execute_result"
    }
   ],
   "source": [
    "filelist"
   ]
  },
  {
   "cell_type": "markdown",
   "metadata": {
    "collapsed": true
   },
   "source": [
    "## Read Input files"
   ]
  },
  {
   "cell_type": "code",
   "execution_count": 12,
   "metadata": {
    "collapsed": false
   },
   "outputs": [
    {
     "name": "stdout",
     "output_type": "stream",
     "text": [
      "./HD163466_none/AssScImHD163466_none_1.fits\n",
      "./HD163466_none/AssScImHD163466_none_2.fits\n",
      "./HD163466_none/AssScImHD163466_none_3.fits\n",
      "./HD163466_none/AssScImHD163466_none_4.fits\n",
      "./HD163466_none/AssScImHD163466_none_5.fits\n",
      "./HD163466_none/AssScImHD163466_none_6.fits\n",
      "./HD163466_none/AssScImHD163466_none_7.fits\n",
      "./HD163466_none/AssScImHD163466_none_8.fits\n",
      "./HD163466_none/AssScImHD163466_none_9.fits\n",
      "./HD163466_none/AssScImHD163466_none_10.fits\n"
     ]
    }
   ],
   "source": [
    "allchannelallsciimages = []  # list of 16 lists of images series \n",
    "exposures_list = []        # sequential list of the exposures of the sky flats \n",
    "header_list = []           # list of headers\n",
    "data_list = []\n",
    "time_list = []                # date and time\n",
    "basefile_list = []         # basefilename\n",
    "dateobs_list = [] \n",
    "# get the primary block headers:\n",
    "for image_file in filelist: \n",
    "    print image_file\n",
    "    hdu_list = fits.open(image_file)\n",
    "    basefile_list.append(os.path.basename(image_file))\n",
    "    header=hdu_list[0].header\n",
    "    exposure=header['EXPOSURE']\n",
    "    exposures_list.append(exposure)\n",
    "    dateobs_list.append(header['DATE-OBS'])\n",
    "    header_list.append(header)\n",
    "    data=ccdproc.CCDData.read(image_file, hdu=0,unit='adu') \n",
    "    data_list.append(data)"
   ]
  },
  {
   "cell_type": "code",
   "execution_count": 13,
   "metadata": {
    "collapsed": false
   },
   "outputs": [
    {
     "data": {
      "text/plain": [
       "['AssScImHD163466_none_1.fits',\n",
       " 'AssScImHD163466_none_2.fits',\n",
       " 'AssScImHD163466_none_3.fits',\n",
       " 'AssScImHD163466_none_4.fits',\n",
       " 'AssScImHD163466_none_5.fits',\n",
       " 'AssScImHD163466_none_6.fits',\n",
       " 'AssScImHD163466_none_7.fits',\n",
       " 'AssScImHD163466_none_8.fits',\n",
       " 'AssScImHD163466_none_9.fits',\n",
       " 'AssScImHD163466_none_10.fits']"
      ]
     },
     "execution_count": 13,
     "metadata": {},
     "output_type": "execute_result"
    }
   ],
   "source": [
    "basefile_list"
   ]
  },
  {
   "cell_type": "markdown",
   "metadata": {},
   "source": [
    "## For control\n",
    "\n",
    "uncomment for control"
   ]
  },
  {
   "cell_type": "code",
   "execution_count": 14,
   "metadata": {
    "collapsed": true
   },
   "outputs": [],
   "source": [
    "index=0"
   ]
  },
  {
   "cell_type": "code",
   "execution_count": 15,
   "metadata": {
    "collapsed": false
   },
   "outputs": [],
   "source": [
    "#print exposures_list[index]"
   ]
  },
  {
   "cell_type": "code",
   "execution_count": 16,
   "metadata": {
    "collapsed": false
   },
   "outputs": [],
   "source": [
    "#header_list[index]"
   ]
  },
  {
   "cell_type": "code",
   "execution_count": 17,
   "metadata": {
    "collapsed": false
   },
   "outputs": [],
   "source": [
    "#plt.imshow(data_list[index])"
   ]
  },
  {
   "cell_type": "code",
   "execution_count": 18,
   "metadata": {
    "collapsed": true
   },
   "outputs": [],
   "source": [
    "#bkg= Background2D(data_list[index], (100, 100), filter_size=(3, 3),method='median')"
   ]
  },
  {
   "cell_type": "code",
   "execution_count": 19,
   "metadata": {
    "collapsed": false
   },
   "outputs": [],
   "source": [
    "#data_list[index].data-bkg.background"
   ]
  },
  {
   "cell_type": "markdown",
   "metadata": {},
   "source": [
    "## Background subtraction"
   ]
  },
  {
   "cell_type": "code",
   "execution_count": 33,
   "metadata": {
    "collapsed": true
   },
   "outputs": [],
   "source": [
    "correctedimage_list = []"
   ]
  },
  {
   "cell_type": "code",
   "execution_count": 21,
   "metadata": {
    "collapsed": false
   },
   "outputs": [],
   "source": [
    "for data in data_list:\n",
    "    bkg= Background2D(data, (100, 100), filter_size=(3, 3),method='median')\n",
    "    newimage=data-bkg.background\n",
    "    correctedimage_list.append(newimage)"
   ]
  },
  {
   "cell_type": "markdown",
   "metadata": {},
   "source": [
    "## Calculation of PSF"
   ]
  },
  {
   "cell_type": "code",
   "execution_count": 22,
   "metadata": {
    "collapsed": true
   },
   "outputs": [],
   "source": [
    "NBIMAGES=len(correctedimage_list)"
   ]
  },
  {
   "cell_type": "code",
   "execution_count": 23,
   "metadata": {
    "collapsed": true
   },
   "outputs": [],
   "source": [
    "def weighted_avg_and_std(values, weights):\n",
    "    \"\"\"\n",
    "    Return the weighted average and standard deviation.\n",
    "\n",
    "    values, weights -- Numpy ndarrays with the same shape.\n",
    "    \"\"\"\n",
    "    average = np.average(values, weights=weights)\n",
    "    variance = np.average((values-average)**2, weights=weights)  # Fast and numerically precise\n",
    "    return (average, np.sqrt(variance))"
   ]
  },
  {
   "cell_type": "code",
   "execution_count": 24,
   "metadata": {
    "collapsed": true
   },
   "outputs": [],
   "source": [
    "image_psf=np.zeros((NBIMAGES,6))"
   ]
  },
  {
   "cell_type": "code",
   "execution_count": 25,
   "metadata": {
    "collapsed": true
   },
   "outputs": [],
   "source": [
    "DELTA_NBINSX=10\n",
    "DELTA_NBINSY=10"
   ]
  },
  {
   "cell_type": "code",
   "execution_count": 26,
   "metadata": {
    "collapsed": false
   },
   "outputs": [
    {
     "name": "stdout",
     "output_type": "stream",
     "text": [
      "image 0 ==> NBSTARS = 42\n",
      "average prf(x) = 3.60 +/- 0.11 pixels ==> psf  3.40 +/- 0.10 arcsec \n",
      "average prf(y) = 4.10 +/- 0.28 pixels ==> psf  3.87 +/- 0.25 arcsec \n"
     ]
    },
    {
     "name": "stderr",
     "output_type": "stream",
     "text": [
      "/Users/dagoret-campagnesylvie/anaconda/envs/pyastrophys/lib/python2.7/site-packages/ipykernel/__main__.py:9: RuntimeWarning: invalid value encountered in sqrt\n"
     ]
    },
    {
     "name": "stdout",
     "output_type": "stream",
     "text": [
      "image 1 ==> NBSTARS = 43\n",
      "average prf(x) = 3.61 +/- 0.14 pixels ==> psf  3.41 +/- 0.13 arcsec \n",
      "average prf(y) = 4.13 +/- 0.32 pixels ==> psf  3.90 +/- 0.29 arcsec \n",
      "image 2 ==> NBSTARS = 71\n",
      "average prf(x) = 3.69 +/- 0.17 pixels ==> psf  3.48 +/- 0.15 arcsec \n",
      "average prf(y) = 4.13 +/- 0.38 pixels ==> psf  3.90 +/- 0.34 arcsec \n",
      "image 3 ==> NBSTARS = 36\n",
      "average prf(x) = 3.58 +/- 0.12 pixels ==> psf  3.38 +/- 0.11 arcsec \n",
      "average prf(y) = 4.14 +/- 0.30 pixels ==> psf  3.91 +/- 0.27 arcsec \n",
      "image 4 ==> NBSTARS = 51\n",
      "average prf(x) = 3.47 +/- 0.13 pixels ==> psf  3.27 +/- 0.12 arcsec \n",
      "average prf(y) = 4.12 +/- 0.34 pixels ==> psf  3.89 +/- 0.30 arcsec \n",
      "image 5 ==> NBSTARS = 46\n",
      "average prf(x) = 3.70 +/- 0.15 pixels ==> psf  3.49 +/- 0.14 arcsec \n",
      "average prf(y) = 4.08 +/- 0.30 pixels ==> psf  3.86 +/- 0.27 arcsec \n",
      "image 6 ==> NBSTARS = 41\n",
      "average prf(x) = 3.72 +/- 0.15 pixels ==> psf  3.51 +/- 0.14 arcsec \n",
      "average prf(y) = 4.38 +/- 0.43 pixels ==> psf  4.14 +/- 0.39 arcsec \n",
      "image 7 ==> NBSTARS = 41\n",
      "average prf(x) = 3.72 +/- 0.15 pixels ==> psf  3.51 +/- 0.14 arcsec \n",
      "average prf(y) = 4.04 +/- 0.26 pixels ==> psf  3.81 +/- 0.23 arcsec \n",
      "image 8 ==> NBSTARS = 42\n",
      "average prf(x) = 3.99 +/- 0.19 pixels ==> psf  3.77 +/- 0.17 arcsec \n",
      "average prf(y) = 4.37 +/- 0.28 pixels ==> psf  4.12 +/- 0.25 arcsec \n",
      "image 9 ==> NBSTARS = 36\n",
      "average prf(x) = 3.82 +/- 0.12 pixels ==> psf  3.60 +/- 0.11 arcsec \n",
      "average prf(y) = 4.41 +/- 0.25 pixels ==> psf  4.16 +/- 0.23 arcsec \n"
     ]
    }
   ],
   "source": [
    "# loop on images\n",
    "index=-1\n",
    "for image in correctedimage_list:\n",
    "    index=index+1\n",
    "    mean, median, std = sigma_clipped_stats(image, sigma=10.0, iters=5) \n",
    "    sources = daofind(image - median, fwhm=3.0, threshold=50.*std)\n",
    "    selected_stars=sources.as_array()\n",
    "    NBSTARS=selected_stars.shape[0]\n",
    "    print 'image {} ==> NBSTARS = {}'.format(index,NBSTARS)\n",
    "    image_psf[index,0]=index\n",
    "    image_psf[index,1]=NBSTARS\n",
    "    star_psfx=np.zeros(NBSTARS)\n",
    "    star_psfy=np.zeros(NBSTARS)\n",
    "    # loop on stars\n",
    "    for istar in range(NBSTARS):\n",
    "        X = int(selected_stars[istar][1])\n",
    "        Y = int(selected_stars[istar][2])\n",
    "        prf_image = image[Y-DELTA_NBINSY:Y+DELTA_NBINSY,X-DELTA_NBINSX:X+DELTA_NBINSX]\n",
    "        oneprfX=prf_image.sum(axis=0)\n",
    "        oneprfY=prf_image.sum(axis=1)\n",
    "        posX,sigX=weighted_avg_and_std(np.arange(oneprfX.shape[0]),oneprfX)\n",
    "        posY,sigY=weighted_avg_and_std(np.arange(oneprfY.shape[0]),oneprfY)\n",
    "        star_psfx[istar]=sigX\n",
    "        star_psfy[istar]=sigY\n",
    "        \n",
    "    all_sigx=star_psfx[np.logical_not(np.isnan(star_psfx))]\n",
    "    all_sigy=star_psfy[np.logical_not(np.isnan(star_psfy))]\n",
    "    all_sigx=all_sigx[all_sigx>2.4]\n",
    "    all_sigy=all_sigy[all_sigy>2.4]\n",
    "    print 'average prf(x) = {:2.2f} +/- {:2.2f} pixels ==> psf  {:2.2f} +/- {:2.2f} arcsec '.format(np.median(all_sigx),all_sigx.std(),np.median(all_sigx)*0.4*2.36,all_sigx.std()*0.4*2.26)\n",
    "    print 'average prf(y) = {:2.2f} +/- {:2.2f} pixels ==> psf  {:2.2f} +/- {:2.2f} arcsec '.format(np.median(all_sigy),all_sigy.std(),np.median(all_sigy)*0.4*2.36,all_sigy.std()*0.4*2.26)\n",
    "    image_psf[index,2]=np.median(all_sigx)\n",
    "    image_psf[index,3]=np.median(all_sigy)\n",
    "    image_psf[index,4]=all_sigx.std()\n",
    "    image_psf[index,5]=all_sigy.std()"
   ]
  },
  {
   "cell_type": "markdown",
   "metadata": {
    "collapsed": false
   },
   "source": [
    "## Create astropy table"
   ]
  },
  {
   "cell_type": "code",
   "execution_count": 28,
   "metadata": {
    "collapsed": false
   },
   "outputs": [],
   "source": [
    "t=Table(rows=image_psf,names=('num','nbstars','prfx','pfry','sig_prfx','sig_prfy'),dtype=('i4','i4','f8','f8','f8','f8'))"
   ]
  },
  {
   "cell_type": "code",
   "execution_count": 29,
   "metadata": {
    "collapsed": false
   },
   "outputs": [
    {
     "data": {
      "text/html": [
       "&lt;Table length=10&gt;\n",
       "<table id=\"table8161668560\">\n",
       "<thead><tr><th>num</th><th>nbstars</th><th>prfx</th><th>pfry</th><th>sig_prfx</th><th>sig_prfy</th></tr></thead>\n",
       "<thead><tr><th>int32</th><th>int32</th><th>float64</th><th>float64</th><th>float64</th><th>float64</th></tr></thead>\n",
       "<tr><td>0</td><td>42</td><td>3.5965298218</td><td>4.1015161103</td><td>0.108020046297</td><td>0.277166519446</td></tr>\n",
       "<tr><td>1</td><td>43</td><td>3.61242635444</td><td>4.13152061589</td><td>0.144973137697</td><td>0.323417226558</td></tr>\n",
       "<tr><td>2</td><td>71</td><td>3.68758200509</td><td>4.13485488713</td><td>0.167005040252</td><td>0.379102235085</td></tr>\n",
       "<tr><td>3</td><td>36</td><td>3.58227641138</td><td>4.13814571933</td><td>0.119342504383</td><td>0.303022903097</td></tr>\n",
       "<tr><td>4</td><td>51</td><td>3.46888124803</td><td>4.11999149754</td><td>0.13302558192</td><td>0.335934851083</td></tr>\n",
       "<tr><td>5</td><td>46</td><td>3.69959215711</td><td>4.08394172767</td><td>0.149843368761</td><td>0.296874027356</td></tr>\n",
       "<tr><td>6</td><td>41</td><td>3.72067577442</td><td>4.38104952519</td><td>0.15129230565</td><td>0.428043616054</td></tr>\n",
       "<tr><td>7</td><td>41</td><td>3.71539160053</td><td>4.03624061864</td><td>0.151812230197</td><td>0.25978629923</td></tr>\n",
       "<tr><td>8</td><td>42</td><td>3.9930616935</td><td>4.365045504</td><td>0.190684599422</td><td>0.27723900551</td></tr>\n",
       "<tr><td>9</td><td>36</td><td>3.81502610476</td><td>4.40814821346</td><td>0.119398820145</td><td>0.254385226503</td></tr>\n",
       "</table>"
      ],
      "text/plain": [
       "<Table length=10>\n",
       " num  nbstars      prfx          pfry        sig_prfx       sig_prfy   \n",
       "int32  int32     float64       float64       float64        float64    \n",
       "----- ------- ------------- ------------- -------------- --------------\n",
       "    0      42  3.5965298218  4.1015161103 0.108020046297 0.277166519446\n",
       "    1      43 3.61242635444 4.13152061589 0.144973137697 0.323417226558\n",
       "    2      71 3.68758200509 4.13485488713 0.167005040252 0.379102235085\n",
       "    3      36 3.58227641138 4.13814571933 0.119342504383 0.303022903097\n",
       "    4      51 3.46888124803 4.11999149754  0.13302558192 0.335934851083\n",
       "    5      46 3.69959215711 4.08394172767 0.149843368761 0.296874027356\n",
       "    6      41 3.72067577442 4.38104952519  0.15129230565 0.428043616054\n",
       "    7      41 3.71539160053 4.03624061864 0.151812230197  0.25978629923\n",
       "    8      42  3.9930616935   4.365045504 0.190684599422  0.27723900551\n",
       "    9      36 3.81502610476 4.40814821346 0.119398820145 0.254385226503"
      ]
     },
     "execution_count": 29,
     "metadata": {},
     "output_type": "execute_result"
    }
   ],
   "source": [
    "t"
   ]
  },
  {
   "cell_type": "code",
   "execution_count": 30,
   "metadata": {
    "collapsed": false
   },
   "outputs": [],
   "source": [
    "\n",
    "expo = Column(exposures_list, name='exposure')\n",
    "file = Column(basefile_list, name='file')\n",
    "time = Column(dateobs_list,name='time')\n"
   ]
  },
  {
   "cell_type": "code",
   "execution_count": 31,
   "metadata": {
    "collapsed": false
   },
   "outputs": [],
   "source": [
    "t.add_column(expo, index=1)\n",
    "t.add_column(time, index=1)\n",
    "t.add_column(file, index=1)"
   ]
  },
  {
   "cell_type": "code",
   "execution_count": 32,
   "metadata": {
    "collapsed": false
   },
   "outputs": [],
   "source": []
  },
  {
   "cell_type": "code",
   "execution_count": 34,
   "metadata": {
    "collapsed": false
   },
   "outputs": [
    {
     "data": {
      "text/html": [
       "&lt;Table length=10&gt;\n",
       "<table id=\"table8161668560\">\n",
       "<thead><tr><th>num</th><th>exposure</th><th>time</th><th>file</th><th>nbstars</th><th>prfx</th><th>pfry</th><th>sig_prfx</th><th>sig_prfy</th></tr></thead>\n",
       "<thead><tr><th>int32</th><th>float64</th><th>str23</th><th>str28</th><th>int32</th><th>float64</th><th>float64</th><th>float64</th><th>float64</th></tr></thead>\n",
       "<tr><td>0</td><td>1.0</td><td>2016-05-12T07:57:03.894</td><td>AssScImHD163466_none_1.fits</td><td>42</td><td>3.5965298218</td><td>4.1015161103</td><td>0.108020046297</td><td>0.277166519446</td></tr>\n",
       "<tr><td>1</td><td>1.0</td><td>2016-05-12T07:57:15.395</td><td>AssScImHD163466_none_2.fits</td><td>43</td><td>3.61242635444</td><td>4.13152061589</td><td>0.144973137697</td><td>0.323417226558</td></tr>\n",
       "<tr><td>2</td><td>1.0</td><td>2016-05-12T07:57:20.483</td><td>AssScImHD163466_none_3.fits</td><td>71</td><td>3.68758200509</td><td>4.13485488713</td><td>0.167005040252</td><td>0.379102235085</td></tr>\n",
       "<tr><td>3</td><td>1.0</td><td>2016-05-12T07:57:25.671</td><td>AssScImHD163466_none_4.fits</td><td>36</td><td>3.58227641138</td><td>4.13814571933</td><td>0.119342504383</td><td>0.303022903097</td></tr>\n",
       "<tr><td>4</td><td>1.0</td><td>2016-05-12T07:57:30.591</td><td>AssScImHD163466_none_5.fits</td><td>51</td><td>3.46888124803</td><td>4.11999149754</td><td>0.13302558192</td><td>0.335934851083</td></tr>\n",
       "<tr><td>5</td><td>1.0</td><td>2016-05-12T07:57:35.572</td><td>AssScImHD163466_none_6.fits</td><td>46</td><td>3.69959215711</td><td>4.08394172767</td><td>0.149843368761</td><td>0.296874027356</td></tr>\n",
       "<tr><td>6</td><td>1.0</td><td>2016-05-12T07:57:40.566</td><td>AssScImHD163466_none_7.fits</td><td>41</td><td>3.72067577442</td><td>4.38104952519</td><td>0.15129230565</td><td>0.428043616054</td></tr>\n",
       "<tr><td>7</td><td>1.0</td><td>2016-05-12T07:57:46.014</td><td>AssScImHD163466_none_8.fits</td><td>41</td><td>3.71539160053</td><td>4.03624061864</td><td>0.151812230197</td><td>0.25978629923</td></tr>\n",
       "<tr><td>8</td><td>1.0</td><td>2016-05-12T07:57:50.569</td><td>AssScImHD163466_none_9.fits</td><td>42</td><td>3.9930616935</td><td>4.365045504</td><td>0.190684599422</td><td>0.27723900551</td></tr>\n",
       "<tr><td>9</td><td>1.0</td><td>2016-05-12T07:57:55.450</td><td>AssScImHD163466_none_10.fits</td><td>36</td><td>3.81502610476</td><td>4.40814821346</td><td>0.119398820145</td><td>0.254385226503</td></tr>\n",
       "</table>"
      ],
      "text/plain": [
       "<Table length=10>\n",
       " num  exposure           time          ...    sig_prfx       sig_prfy   \n",
       "int32 float64           str23          ...    float64        float64    \n",
       "----- -------- ----------------------- ... -------------- --------------\n",
       "    0      1.0 2016-05-12T07:57:03.894 ... 0.108020046297 0.277166519446\n",
       "    1      1.0 2016-05-12T07:57:15.395 ... 0.144973137697 0.323417226558\n",
       "    2      1.0 2016-05-12T07:57:20.483 ... 0.167005040252 0.379102235085\n",
       "    3      1.0 2016-05-12T07:57:25.671 ... 0.119342504383 0.303022903097\n",
       "    4      1.0 2016-05-12T07:57:30.591 ...  0.13302558192 0.335934851083\n",
       "    5      1.0 2016-05-12T07:57:35.572 ... 0.149843368761 0.296874027356\n",
       "    6      1.0 2016-05-12T07:57:40.566 ...  0.15129230565 0.428043616054\n",
       "    7      1.0 2016-05-12T07:57:46.014 ... 0.151812230197  0.25978629923\n",
       "    8      1.0 2016-05-12T07:57:50.569 ... 0.190684599422  0.27723900551\n",
       "    9      1.0 2016-05-12T07:57:55.450 ... 0.119398820145 0.254385226503"
      ]
     },
     "execution_count": 34,
     "metadata": {},
     "output_type": "execute_result"
    }
   ],
   "source": [
    "t"
   ]
  },
  {
   "cell_type": "markdown",
   "metadata": {},
   "source": [
    "## Write output file"
   ]
  },
  {
   "cell_type": "code",
   "execution_count": 35,
   "metadata": {
    "collapsed": false
   },
   "outputs": [
    {
     "ename": "IOError",
     "evalue": "File exists: HD163466_none_1-10_TablePSF.fits",
     "output_type": "error",
     "traceback": [
      "\u001b[0;31m---------------------------------------------------------------------------\u001b[0m",
      "\u001b[0;31mIOError\u001b[0m                                   Traceback (most recent call last)",
      "\u001b[0;32m<ipython-input-35-ca2d92d92fdb>\u001b[0m in \u001b[0;36m<module>\u001b[0;34m()\u001b[0m\n\u001b[0;32m----> 1\u001b[0;31m \u001b[0mt\u001b[0m\u001b[0;34m.\u001b[0m\u001b[0mwrite\u001b[0m\u001b[0;34m(\u001b[0m\u001b[0moutputtablefile\u001b[0m\u001b[0;34m,\u001b[0m\u001b[0mformat\u001b[0m\u001b[0;34m=\u001b[0m\u001b[0;34m'fits'\u001b[0m\u001b[0;34m)\u001b[0m\u001b[0;34m\u001b[0m\u001b[0m\n\u001b[0m",
      "\u001b[0;32m/Users/dagoret-campagnesylvie/anaconda/envs/pyastrophys/lib/python2.7/site-packages/astropy/table/table.pyc\u001b[0m in \u001b[0;36mwrite\u001b[0;34m(self, *args, **kwargs)\u001b[0m\n\u001b[1;32m   2276\u001b[0m         \u001b[0mpassed\u001b[0m \u001b[0mthrough\u001b[0m \u001b[0mto\u001b[0m \u001b[0mthe\u001b[0m \u001b[0munderlying\u001b[0m \u001b[0mdata\u001b[0m \u001b[0mreader\u001b[0m \u001b[0;34m(\u001b[0m\u001b[0me\u001b[0m\u001b[0;34m.\u001b[0m\u001b[0mg\u001b[0m\u001b[0;34m.\u001b[0m \u001b[0;34m`\u001b[0m\u001b[0;34m~\u001b[0m\u001b[0mastropy\u001b[0m\u001b[0;34m.\u001b[0m\u001b[0mio\u001b[0m\u001b[0;34m.\u001b[0m\u001b[0mascii\u001b[0m\u001b[0;34m.\u001b[0m\u001b[0mwrite\u001b[0m\u001b[0;34m`\u001b[0m\u001b[0;34m)\u001b[0m\u001b[0;34m.\u001b[0m\u001b[0;34m\u001b[0m\u001b[0m\n\u001b[1;32m   2277\u001b[0m         \"\"\"\n\u001b[0;32m-> 2278\u001b[0;31m         \u001b[0mio_registry\u001b[0m\u001b[0;34m.\u001b[0m\u001b[0mwrite\u001b[0m\u001b[0;34m(\u001b[0m\u001b[0mself\u001b[0m\u001b[0;34m,\u001b[0m \u001b[0;34m*\u001b[0m\u001b[0margs\u001b[0m\u001b[0;34m,\u001b[0m \u001b[0;34m**\u001b[0m\u001b[0mkwargs\u001b[0m\u001b[0;34m)\u001b[0m\u001b[0;34m\u001b[0m\u001b[0m\n\u001b[0m\u001b[1;32m   2279\u001b[0m \u001b[0;34m\u001b[0m\u001b[0m\n\u001b[1;32m   2280\u001b[0m     \u001b[0;32mdef\u001b[0m \u001b[0mcopy\u001b[0m\u001b[0;34m(\u001b[0m\u001b[0mself\u001b[0m\u001b[0;34m,\u001b[0m \u001b[0mcopy_data\u001b[0m\u001b[0;34m=\u001b[0m\u001b[0mTrue\u001b[0m\u001b[0;34m)\u001b[0m\u001b[0;34m:\u001b[0m\u001b[0;34m\u001b[0m\u001b[0m\n",
      "\u001b[0;32m/Users/dagoret-campagnesylvie/anaconda/envs/pyastrophys/lib/python2.7/site-packages/astropy/io/registry.pyc\u001b[0m in \u001b[0;36mwrite\u001b[0;34m(data, *args, **kwargs)\u001b[0m\n\u001b[1;32m    394\u001b[0m \u001b[0;34m\u001b[0m\u001b[0m\n\u001b[1;32m    395\u001b[0m     \u001b[0mwriter\u001b[0m \u001b[0;34m=\u001b[0m \u001b[0mget_writer\u001b[0m\u001b[0;34m(\u001b[0m\u001b[0mformat\u001b[0m\u001b[0;34m,\u001b[0m \u001b[0mdata\u001b[0m\u001b[0;34m.\u001b[0m\u001b[0m__class__\u001b[0m\u001b[0;34m)\u001b[0m\u001b[0;34m\u001b[0m\u001b[0m\n\u001b[0;32m--> 396\u001b[0;31m     \u001b[0mwriter\u001b[0m\u001b[0;34m(\u001b[0m\u001b[0mdata\u001b[0m\u001b[0;34m,\u001b[0m \u001b[0;34m*\u001b[0m\u001b[0margs\u001b[0m\u001b[0;34m,\u001b[0m \u001b[0;34m**\u001b[0m\u001b[0mkwargs\u001b[0m\u001b[0;34m)\u001b[0m\u001b[0;34m\u001b[0m\u001b[0m\n\u001b[0m\u001b[1;32m    397\u001b[0m \u001b[0;34m\u001b[0m\u001b[0m\n\u001b[1;32m    398\u001b[0m \u001b[0;34m\u001b[0m\u001b[0m\n",
      "\u001b[0;32m/Users/dagoret-campagnesylvie/anaconda/envs/pyastrophys/lib/python2.7/site-packages/astropy/io/fits/connect.pyc\u001b[0m in \u001b[0;36mwrite_table_fits\u001b[0;34m(input, output, overwrite)\u001b[0m\n\u001b[1;32m    222\u001b[0m             \u001b[0mos\u001b[0m\u001b[0;34m.\u001b[0m\u001b[0mremove\u001b[0m\u001b[0;34m(\u001b[0m\u001b[0moutput\u001b[0m\u001b[0;34m)\u001b[0m\u001b[0;34m\u001b[0m\u001b[0m\n\u001b[1;32m    223\u001b[0m         \u001b[0;32melse\u001b[0m\u001b[0;34m:\u001b[0m\u001b[0;34m\u001b[0m\u001b[0m\n\u001b[0;32m--> 224\u001b[0;31m             \u001b[0;32mraise\u001b[0m \u001b[0mIOError\u001b[0m\u001b[0;34m(\u001b[0m\u001b[0;34m\"File exists: {0}\"\u001b[0m\u001b[0;34m.\u001b[0m\u001b[0mformat\u001b[0m\u001b[0;34m(\u001b[0m\u001b[0moutput\u001b[0m\u001b[0;34m)\u001b[0m\u001b[0;34m)\u001b[0m\u001b[0;34m\u001b[0m\u001b[0m\n\u001b[0m\u001b[1;32m    225\u001b[0m \u001b[0;34m\u001b[0m\u001b[0m\n\u001b[1;32m    226\u001b[0m     \u001b[0;31m# Create a new HDU object\u001b[0m\u001b[0;34m\u001b[0m\u001b[0;34m\u001b[0m\u001b[0m\n",
      "\u001b[0;31mIOError\u001b[0m: File exists: HD163466_none_1-10_TablePSF.fits"
     ]
    }
   ],
   "source": [
    "t.write(outputtablefile,format='fits')"
   ]
  },
  {
   "cell_type": "code",
   "execution_count": 42,
   "metadata": {
    "collapsed": false
   },
   "outputs": [],
   "source": [
    "df=t.to_pandas()"
   ]
  },
  {
   "cell_type": "code",
   "execution_count": 44,
   "metadata": {
    "collapsed": false
   },
   "outputs": [
    {
     "data": {
      "text/html": [
       "<div>\n",
       "<table border=\"1\" class=\"dataframe\">\n",
       "  <thead>\n",
       "    <tr style=\"text-align: right;\">\n",
       "      <th></th>\n",
       "      <th>num</th>\n",
       "      <th>exposure</th>\n",
       "      <th>nbstars</th>\n",
       "      <th>prfx</th>\n",
       "      <th>pfry</th>\n",
       "      <th>sig_prfx</th>\n",
       "      <th>sig_prfy</th>\n",
       "    </tr>\n",
       "  </thead>\n",
       "  <tbody>\n",
       "    <tr>\n",
       "      <th>count</th>\n",
       "      <td>10.00000</td>\n",
       "      <td>10.0</td>\n",
       "      <td>10.000000</td>\n",
       "      <td>10.000000</td>\n",
       "      <td>10.000000</td>\n",
       "      <td>10.000000</td>\n",
       "      <td>10.000000</td>\n",
       "    </tr>\n",
       "    <tr>\n",
       "      <th>mean</th>\n",
       "      <td>4.50000</td>\n",
       "      <td>1.0</td>\n",
       "      <td>44.900000</td>\n",
       "      <td>3.689144</td>\n",
       "      <td>4.190045</td>\n",
       "      <td>0.143540</td>\n",
       "      <td>0.313497</td>\n",
       "    </tr>\n",
       "    <tr>\n",
       "      <th>std</th>\n",
       "      <td>3.02765</td>\n",
       "      <td>0.0</td>\n",
       "      <td>10.159287</td>\n",
       "      <td>0.143142</td>\n",
       "      <td>0.138042</td>\n",
       "      <td>0.024685</td>\n",
       "      <td>0.055203</td>\n",
       "    </tr>\n",
       "    <tr>\n",
       "      <th>min</th>\n",
       "      <td>0.00000</td>\n",
       "      <td>1.0</td>\n",
       "      <td>36.000000</td>\n",
       "      <td>3.468881</td>\n",
       "      <td>4.036241</td>\n",
       "      <td>0.108020</td>\n",
       "      <td>0.254385</td>\n",
       "    </tr>\n",
       "    <tr>\n",
       "      <th>25%</th>\n",
       "      <td>2.25000</td>\n",
       "      <td>1.0</td>\n",
       "      <td>41.000000</td>\n",
       "      <td>3.600504</td>\n",
       "      <td>4.106135</td>\n",
       "      <td>0.122806</td>\n",
       "      <td>0.277185</td>\n",
       "    </tr>\n",
       "    <tr>\n",
       "      <th>50%</th>\n",
       "      <td>4.50000</td>\n",
       "      <td>1.0</td>\n",
       "      <td>42.000000</td>\n",
       "      <td>3.693587</td>\n",
       "      <td>4.133188</td>\n",
       "      <td>0.147408</td>\n",
       "      <td>0.299948</td>\n",
       "    </tr>\n",
       "    <tr>\n",
       "      <th>75%</th>\n",
       "      <td>6.75000</td>\n",
       "      <td>1.0</td>\n",
       "      <td>45.250000</td>\n",
       "      <td>3.719355</td>\n",
       "      <td>4.308321</td>\n",
       "      <td>0.151682</td>\n",
       "      <td>0.332805</td>\n",
       "    </tr>\n",
       "    <tr>\n",
       "      <th>max</th>\n",
       "      <td>9.00000</td>\n",
       "      <td>1.0</td>\n",
       "      <td>71.000000</td>\n",
       "      <td>3.993062</td>\n",
       "      <td>4.408148</td>\n",
       "      <td>0.190685</td>\n",
       "      <td>0.428044</td>\n",
       "    </tr>\n",
       "  </tbody>\n",
       "</table>\n",
       "</div>"
      ],
      "text/plain": [
       "            num  exposure    nbstars       prfx       pfry   sig_prfx  \\\n",
       "count  10.00000      10.0  10.000000  10.000000  10.000000  10.000000   \n",
       "mean    4.50000       1.0  44.900000   3.689144   4.190045   0.143540   \n",
       "std     3.02765       0.0  10.159287   0.143142   0.138042   0.024685   \n",
       "min     0.00000       1.0  36.000000   3.468881   4.036241   0.108020   \n",
       "25%     2.25000       1.0  41.000000   3.600504   4.106135   0.122806   \n",
       "50%     4.50000       1.0  42.000000   3.693587   4.133188   0.147408   \n",
       "75%     6.75000       1.0  45.250000   3.719355   4.308321   0.151682   \n",
       "max     9.00000       1.0  71.000000   3.993062   4.408148   0.190685   \n",
       "\n",
       "        sig_prfy  \n",
       "count  10.000000  \n",
       "mean    0.313497  \n",
       "std     0.055203  \n",
       "min     0.254385  \n",
       "25%     0.277185  \n",
       "50%     0.299948  \n",
       "75%     0.332805  \n",
       "max     0.428044  "
      ]
     },
     "execution_count": 44,
     "metadata": {},
     "output_type": "execute_result"
    }
   ],
   "source": [
    "df.describe()"
   ]
  },
  {
   "cell_type": "code",
   "execution_count": null,
   "metadata": {
    "collapsed": true
   },
   "outputs": [],
   "source": []
  }
 ],
 "metadata": {
  "kernelspec": {
   "display_name": "Python 2",
   "language": "python",
   "name": "python2"
  },
  "language_info": {
   "codemirror_mode": {
    "name": "ipython",
    "version": 2
   },
   "file_extension": ".py",
   "mimetype": "text/x-python",
   "name": "python",
   "nbconvert_exporter": "python",
   "pygments_lexer": "ipython2",
   "version": "2.7.11"
  }
 },
 "nbformat": 4,
 "nbformat_minor": 0
}
