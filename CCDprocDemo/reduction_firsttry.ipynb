{
 "cells": [
  {
   "cell_type": "markdown",
   "metadata": {},
   "source": [
    "## Reducer: Sylvie Dagoret-Campagne\n",
    "\n",
    "- creation date : May 30th 2016\n",
    "- purpose : CCD reduction of Monocam data\n",
    "- Analysis : Spectrometry"
   ]
  },
  {
   "cell_type": "markdown",
   "metadata": {},
   "source": [
    "## Reviewer: Sylvie Dagoret-Campagne"
   ]
  },
  {
   "cell_type": "markdown",
   "metadata": {},
   "source": [
    "# IPython notebook crash course"
   ]
  },
  {
   "cell_type": "markdown",
   "metadata": {},
   "source": [
    "Click on a code cell (has grey background) then press Shift-Enter (at the same time) to run a code cell. That will add the controls (buttons, etc) you use to do the reduction one-by-one; then use them for reduction."
   ]
  },
  {
   "cell_type": "markdown",
   "metadata": {},
   "source": [
    "# reducer crash course\n",
    "\n",
    "### Rule 0: Run the code cells in order\n",
    "\n",
    "The world won't end if you break this rule, but you are more likely to end up with nonsensical results or errors. Incidentally, welcome to python indexing, which starts numbering at zero.\n",
    "\n",
    "### Rule 1: Do not run this notebook in the directory containing your unreduced data\n",
    "\n",
    "`reducer` will not overwrite anything but the idea is that you will keep a copy of this notebook with your reduced data.\n",
    "\n",
    "### Rule 2: Keep the cells you need, delete the ones you don't\n",
    "\n",
    "IPython notebooks are essentially customizable apps. If you don't shoot dark frames, for example, delete the stuff related to darks.\n",
    "\n",
    "### Rule 3: If you find bugs, please report them\n",
    "\n",
    "You can report bugs, make feature requests or (best of all) submit pull requests from [reducer's home on github](https:github.com/mwcraig/reducer)\n",
    "\n",
    "### Bonus Pro Tip: Feel free to ignore the code in the code cells\n",
    "\n",
    "Code is there so that people who know python can see what is going on, but if you don't know python you should still be able to use the notebook. Just remember to Shift-Enter on each code cell to run it, then fill in the form(s) that appear in the notebook.\n"
   ]
  },
  {
   "cell_type": "code",
   "execution_count": 1,
   "metadata": {
    "collapsed": false
   },
   "outputs": [
    {
     "name": "stdout",
     "output_type": "stream",
     "text": [
      "0.2.6\n"
     ]
    }
   ],
   "source": [
    "from __future__ import division, print_function\n",
    "\n",
    "%matplotlib inline\n",
    "\n",
    "import numpy as np\n",
    "\n",
    "import reducer.gui\n",
    "import reducer.astro_gui as astro_gui\n",
    "from reducer.image_browser import ImageBrowser\n",
    "import msumastro\n",
    "\n",
    "from reducer import __version__\n",
    "print(__version__)"
   ]
  },
  {
   "cell_type": "markdown",
   "metadata": {},
   "source": [
    "# Enter name of directory that contains your data in the cell below, or...\n",
    "\n",
    "### ...leave it unchanged to try out reducer with low-resolution dataset\n",
    "\n",
    "That low-resolution dataset will expand to about 300MB when uncompressed\n"
   ]
  },
  {
   "cell_type": "code",
   "execution_count": 2,
   "metadata": {
    "collapsed": false
   },
   "outputs": [],
   "source": [
    "# To use the sample data set:\n",
    "data_dir = reducer.notebook_dir.get_data_path()\n",
    "\n",
    "# Or, uncomment line below and modify as needed\n",
    "data_dir = '2013-07-03-r-only'\n",
    "\n",
    "destination_dir = '.'"
   ]
  },
  {
   "cell_type": "markdown",
   "metadata": {},
   "source": [
    "# Type any comments about this dataset here\n",
    "\n",
    "Double-click on the cell to start editing it."
   ]
  },
  {
   "cell_type": "markdown",
   "metadata": {},
   "source": [
    "# Load your data set"
   ]
  },
  {
   "cell_type": "code",
   "execution_count": 3,
   "metadata": {
    "collapsed": false
   },
   "outputs": [],
   "source": [
    "images = msumastro.ImageFileCollection(location=data_dir, keywords='*')"
   ]
  },
  {
   "cell_type": "markdown",
   "metadata": {},
   "source": [
    "# Image Summary\n",
    "\n",
    "## Includes browser and image/metadata viewer\n",
    "\n",
    "This is not, strictly speaking, part of reduction, but is a handy way to take a quick look at your files."
   ]
  },
  {
   "cell_type": "code",
   "execution_count": 4,
   "metadata": {
    "collapsed": false
   },
   "outputs": [],
   "source": [
    "tt = msumastro.TableTree(images.summary_info, ['imagetyp', 'exposure'], 'file')\n",
    "fits_browser = ImageBrowser(tt, demo=False, directory=data_dir)\n",
    "fits_browser.display()\n",
    "fits_browser.padding = '10px'"
   ]
  },
  {
   "cell_type": "markdown",
   "metadata": {},
   "source": [
    "### You can reconfigure the image browser if you want (or not)\n",
    "\n",
    "By passing different keys into the tree constructor you can generate a navigable tree based on any keys you want."
   ]
  },
  {
   "cell_type": "code",
   "execution_count": 5,
   "metadata": {
    "collapsed": false
   },
   "outputs": [],
   "source": [
    "tt2 = msumastro.TableTree(images.summary_info, ['filter', 'imagetyp', 'exposure'], 'file')\n",
    "im_a_tree_too = ImageBrowser(tt2, demo=False, directory=data_dir)\n",
    "im_a_tree_too.display()"
   ]
  },
  {
   "cell_type": "markdown",
   "metadata": {},
   "source": [
    "# Make a master bias image"
   ]
  },
  {
   "cell_type": "markdown",
   "metadata": {},
   "source": [
    "## Reduce the bias images"
   ]
  },
  {
   "cell_type": "code",
   "execution_count": 6,
   "metadata": {
    "collapsed": false
   },
   "outputs": [],
   "source": [
    "bias_reduction = astro_gui.Reduction(description='Reduce bias frames',\n",
    "                                     toggle_type='button',\n",
    "                                     allow_bias=False,\n",
    "                                     allow_dark=False,\n",
    "                                     allow_flat=False,\n",
    "                                     input_image_collection=images,\n",
    "                                     apply_to={'imagetyp': 'bias'},\n",
    "                                     destination=destination_dir)\n",
    "bias_reduction.display()"
   ]
  },
  {
   "cell_type": "markdown",
   "metadata": {},
   "source": [
    "## Combine bias images to make master bias"
   ]
  },
  {
   "cell_type": "code",
   "execution_count": 7,
   "metadata": {
    "collapsed": false
   },
   "outputs": [
    {
     "name": "stdout",
     "output_type": "stream",
     "text": [
      "Master Bias Settings Yes\n",
      "\tClip before combining? No\n",
      "\tCombine images? Yes\n",
      "\t\tCombination method:: Median\n",
      "\t\tScale before combining? No\n",
      "\tGroup by: No\n"
     ]
    },
    {
     "ename": "TypeError",
     "evalue": "'NoneType' object has no attribute '__getitem__'",
     "output_type": "error",
     "traceback": [
      "\u001b[0;31m---------------------------------------------------------------------------\u001b[0m",
      "\u001b[0;31mTypeError\u001b[0m                                 Traceback (most recent call last)",
      "\u001b[0;32m/Users/dagoret-campagnesylvie/anaconda/envs/pyastrophys/lib/python2.7/site-packages/reducer/gui.pyc\u001b[0m in \u001b[0;36mhandler\u001b[0;34m(b)\u001b[0m\n\u001b[1;32m    430\u001b[0m             \u001b[0mself\u001b[0m\u001b[0;34m.\u001b[0m\u001b[0m_go_button\u001b[0m\u001b[0;34m.\u001b[0m\u001b[0mdisabled\u001b[0m \u001b[0;34m=\u001b[0m \u001b[0mTrue\u001b[0m\u001b[0;34m\u001b[0m\u001b[0m\n\u001b[1;32m    431\u001b[0m             \u001b[0;32mprint\u001b[0m\u001b[0;34m(\u001b[0m\u001b[0mself\u001b[0m\u001b[0;34m)\u001b[0m\u001b[0;34m\u001b[0m\u001b[0m\n\u001b[0;32m--> 432\u001b[0;31m             \u001b[0mself\u001b[0m\u001b[0;34m.\u001b[0m\u001b[0maction\u001b[0m\u001b[0;34m(\u001b[0m\u001b[0;34m)\u001b[0m\u001b[0;34m\u001b[0m\u001b[0m\n\u001b[0m\u001b[1;32m    433\u001b[0m \u001b[0;34m\u001b[0m\u001b[0m\n\u001b[1;32m    434\u001b[0m             \u001b[0;31m# change button should really only appear after the work is done.\u001b[0m\u001b[0;34m\u001b[0m\u001b[0;34m\u001b[0m\u001b[0m\n",
      "\u001b[0;32m/Users/dagoret-campagnesylvie/anaconda/envs/pyastrophys/lib/python2.7/site-packages/reducer/astro_gui.pyc\u001b[0m in \u001b[0;36maction\u001b[0;34m(self)\u001b[0m\n\u001b[1;32m    427\u001b[0m                 (\"Processing {} of {} \"\n\u001b[1;32m    428\u001b[0m                  \"(may take several minutes)\".format(idx + 1, n_groups))\n\u001b[0;32m--> 429\u001b[0;31m             \u001b[0mcombined\u001b[0m \u001b[0;34m=\u001b[0m \u001b[0mself\u001b[0m\u001b[0;34m.\u001b[0m\u001b[0m_action_for_one_group\u001b[0m\u001b[0;34m(\u001b[0m\u001b[0mcombo_group\u001b[0m\u001b[0;34m)\u001b[0m\u001b[0;34m\u001b[0m\u001b[0m\n\u001b[0m\u001b[1;32m    430\u001b[0m             name_addons = ['_'.join([str(k), str(v)])\n\u001b[1;32m    431\u001b[0m                            for k, v in six.iteritems(combo_group)]\n",
      "\u001b[0;32m/Users/dagoret-campagnesylvie/anaconda/envs/pyastrophys/lib/python2.7/site-packages/reducer/astro_gui.pyc\u001b[0m in \u001b[0;36m_action_for_one_group\u001b[0;34m(self, filter_dict)\u001b[0m\n\u001b[1;32m    444\u001b[0m \u001b[0;34m\u001b[0m\u001b[0m\n\u001b[1;32m    445\u001b[0m         file_list = [os.path.join(self.image_source.location, f) for f in\n\u001b[0;32m--> 446\u001b[0;31m                      self.image_source.files_filtered(**combined_dict)]\n\u001b[0m\u001b[1;32m    447\u001b[0m \u001b[0;34m\u001b[0m\u001b[0m\n\u001b[1;32m    448\u001b[0m         combine_keyword_args = {\n",
      "\u001b[0;32m/Users/dagoret-campagnesylvie/anaconda/envs/pyastrophys/lib/python2.7/site-packages/msumastro/image_collection.pyc\u001b[0m in \u001b[0;36mfiles_filtered\u001b[0;34m(self, **kwd)\u001b[0m\n\u001b[1;32m    223\u001b[0m         \"\"\"\n\u001b[1;32m    224\u001b[0m         \u001b[0;31m# force a copy by explicitly converting to a list\u001b[0m\u001b[0;34m\u001b[0m\u001b[0;34m\u001b[0m\u001b[0m\n\u001b[0;32m--> 225\u001b[0;31m         \u001b[0mcurrent_file_mask\u001b[0m \u001b[0;34m=\u001b[0m \u001b[0mlist\u001b[0m\u001b[0;34m(\u001b[0m\u001b[0mself\u001b[0m\u001b[0;34m.\u001b[0m\u001b[0msummary_info\u001b[0m\u001b[0;34m[\u001b[0m\u001b[0;34m'file'\u001b[0m\u001b[0;34m]\u001b[0m\u001b[0;34m.\u001b[0m\u001b[0mmask\u001b[0m\u001b[0;34m)\u001b[0m\u001b[0;34m\u001b[0m\u001b[0m\n\u001b[0m\u001b[1;32m    226\u001b[0m         \u001b[0mself\u001b[0m\u001b[0;34m.\u001b[0m\u001b[0m_find_keywords_by_values\u001b[0m\u001b[0;34m(\u001b[0m\u001b[0;34m**\u001b[0m\u001b[0mkwd\u001b[0m\u001b[0;34m)\u001b[0m\u001b[0;34m\u001b[0m\u001b[0m\n\u001b[1;32m    227\u001b[0m         \u001b[0mfiltered_files\u001b[0m \u001b[0;34m=\u001b[0m \u001b[0mself\u001b[0m\u001b[0;34m.\u001b[0m\u001b[0msummary_info\u001b[0m\u001b[0;34m[\u001b[0m\u001b[0;34m'file'\u001b[0m\u001b[0;34m]\u001b[0m\u001b[0;34m.\u001b[0m\u001b[0mcompressed\u001b[0m\u001b[0;34m(\u001b[0m\u001b[0;34m)\u001b[0m\u001b[0;34m\u001b[0m\u001b[0m\n",
      "\u001b[0;31mTypeError\u001b[0m: 'NoneType' object has no attribute '__getitem__'"
     ]
    }
   ],
   "source": [
    "reduced_collection = msumastro.ImageFileCollection(location=destination_dir, keywords='*')\n",
    "bias_settings = astro_gui.Combiner(description=\"Master Bias Settings\",\n",
    "                                   toggle_type='button',\n",
    "                                   file_name_base='master_bias',\n",
    "                                   image_source=reduced_collection,\n",
    "                                   apply_to={'imagetyp': 'bias'},\n",
    "                                   destination=destination_dir)\n",
    "bias_settings.display()"
   ]
  },
  {
   "cell_type": "markdown",
   "metadata": {},
   "source": [
    "# Make a master dark"
   ]
  },
  {
   "cell_type": "markdown",
   "metadata": {},
   "source": [
    "## Reduce dark images"
   ]
  },
  {
   "cell_type": "code",
   "execution_count": 11,
   "metadata": {
    "collapsed": false
   },
   "outputs": [],
   "source": [
    "reduced_collection = msumastro.ImageFileCollection(location=destination_dir, keywords='*')\n",
    "dark_reduction = astro_gui.Reduction(description='Reduce dark frames',\n",
    "                                     toggle_type='button',\n",
    "                                     allow_bias=True,\n",
    "                                     master_source=reduced_collection,\n",
    "                                     allow_dark=False,\n",
    "                                     allow_flat=False,\n",
    "                                     input_image_collection=images,\n",
    "                                     destination=destination_dir,\n",
    "                                     apply_to={'imagetyp': 'dark'})\n",
    "\n",
    "dark_reduction.display()"
   ]
  },
  {
   "cell_type": "markdown",
   "metadata": {},
   "source": [
    "## Combine reduced darks to make master(s)\n",
    "\n",
    "Note the ``Group by`` option in the controls that appear after you execute the cell below. `reducer` will make a master for each value of the FITS keyword listed in ``Group by``. By default this keyword is named ``exposure`` for darks, so if you have darks with exposure times of 10 sec, 15 sec and 120 sec you will get three master darks, one for each exposure time."
   ]
  },
  {
   "cell_type": "code",
   "execution_count": null,
   "metadata": {
    "collapsed": false
   },
   "outputs": [],
   "source": [
    "reduced_collection = msumastro.ImageFileCollection(location=destination_dir, keywords='*')\n",
    "\n",
    "dark = astro_gui.Combiner(description=\"Make Master Dark\",\n",
    "                          toggle_type='button',\n",
    "                          file_name_base='master_dark',\n",
    "                          group_by='exposure',\n",
    "                          image_source=reduced_collection,\n",
    "                          apply_to={'imagetyp': 'dark'},\n",
    "                          destination=destination_dir)\n",
    "dark.display()"
   ]
  },
  {
   "cell_type": "markdown",
   "metadata": {},
   "source": [
    "# Make master flats"
   ]
  },
  {
   "cell_type": "markdown",
   "metadata": {},
   "source": [
    "## Reduce flat images"
   ]
  },
  {
   "cell_type": "code",
   "execution_count": 12,
   "metadata": {
    "collapsed": false
   },
   "outputs": [],
   "source": [
    "reduced_collection = msumastro.ImageFileCollection(location=destination_dir, keywords='*')\n",
    "flat_reduction = astro_gui.Reduction(description='Reduce flat frames',\n",
    "                                     toggle_type='button',\n",
    "                                     allow_bias=True,\n",
    "                                     master_source=reduced_collection,\n",
    "                                     allow_dark=True,\n",
    "                                     allow_flat=False,\n",
    "                                     input_image_collection=images,\n",
    "                                     destination=destination_dir,\n",
    "                                     apply_to={'imagetyp': 'flat'})\n",
    "\n",
    "flat_reduction.display()"
   ]
  },
  {
   "cell_type": "markdown",
   "metadata": {},
   "source": [
    "## Build masters by combining\n",
    "\n",
    "Again, note the presence of ``Group by``. If you typically use twilight flats you will almost certainly want to group by filter, not by filter and exposure."
   ]
  },
  {
   "cell_type": "code",
   "execution_count": 13,
   "metadata": {
    "collapsed": false
   },
   "outputs": [],
   "source": [
    "reduced_collection = msumastro.ImageFileCollection(location=destination_dir, keywords='*')\n",
    "\n",
    "flat = astro_gui.Combiner(description=\"Make Master Flat\",\n",
    "                          toggle_type='button',\n",
    "                          file_name_base='master_flat',\n",
    "                          group_by='exposure, filter',\n",
    "                          image_source=reduced_collection,\n",
    "                          apply_to={'imagetyp': 'flat'},\n",
    "                          destination=destination_dir)\n",
    "flat.display()"
   ]
  },
  {
   "cell_type": "markdown",
   "metadata": {},
   "source": [
    "# Reduce the science images\n",
    "\n",
    "There is some autmatic matching going on here:\n",
    "\n",
    "+ If darks are subtracted a dark of the same edxposure time will be used, if available. If not, and dark scaling is enabled, the dark with the closest exposure time will be scaled to match the science image.\n",
    "+ If the dark you want to scale appears not to be bias-subtracted an error will be raised.\n",
    "+ Flats are matched by filter."
   ]
  },
  {
   "cell_type": "code",
   "execution_count": 14,
   "metadata": {
    "collapsed": false
   },
   "outputs": [],
   "source": [
    "reduced_collection = msumastro.ImageFileCollection(location=destination_dir, keywords='*')\n",
    "light_reduction = astro_gui.Reduction(description='Reduce light frames',\n",
    "                                      toggle_type='button',\n",
    "                                      allow_bias=True,\n",
    "                                      master_source=reduced_collection,\n",
    "                                      allow_dark=True,\n",
    "                                      allow_flat=True,\n",
    "                                      input_image_collection=images,\n",
    "                                      destination=destination_dir,\n",
    "                                      apply_to={'imagetyp': 'light'})\n",
    "\n",
    "light_reduction.display()"
   ]
  },
  {
   "cell_type": "markdown",
   "metadata": {},
   "source": [
    "## Wonder what the reduced images look like? Make another image browser..."
   ]
  },
  {
   "cell_type": "code",
   "execution_count": 15,
   "metadata": {
    "collapsed": false
   },
   "outputs": [],
   "source": [
    "reduced_collection = msumastro.ImageFileCollection(location=destination_dir, keywords='*')"
   ]
  },
  {
   "cell_type": "code",
   "execution_count": 16,
   "metadata": {
    "collapsed": false
   },
   "outputs": [
    {
     "ename": "TypeError",
     "evalue": "First argument must be an astropy.table.Table instance",
     "output_type": "error",
     "traceback": [
      "\u001b[0;31m---------------------------------------------------------------------------\u001b[0m",
      "\u001b[0;31mTypeError\u001b[0m                                 Traceback (most recent call last)",
      "\u001b[0;32m<ipython-input-16-d0809ddfa889>\u001b[0m in \u001b[0;36m<module>\u001b[0;34m()\u001b[0m\n\u001b[0;32m----> 1\u001b[0;31m \u001b[0mtt3\u001b[0m \u001b[0;34m=\u001b[0m \u001b[0mmsumastro\u001b[0m\u001b[0;34m.\u001b[0m\u001b[0mTableTree\u001b[0m\u001b[0;34m(\u001b[0m\u001b[0mreduced_collection\u001b[0m\u001b[0;34m.\u001b[0m\u001b[0msummary_info\u001b[0m\u001b[0;34m,\u001b[0m \u001b[0;34m[\u001b[0m\u001b[0;34m'imagetyp'\u001b[0m\u001b[0;34m,\u001b[0m \u001b[0;34m'exposure'\u001b[0m\u001b[0;34m]\u001b[0m\u001b[0;34m,\u001b[0m \u001b[0;34m'file'\u001b[0m\u001b[0;34m)\u001b[0m\u001b[0;34m\u001b[0m\u001b[0m\n\u001b[0m\u001b[1;32m      2\u001b[0m \u001b[0mfits_browser\u001b[0m \u001b[0;34m=\u001b[0m \u001b[0mImageBrowser\u001b[0m\u001b[0;34m(\u001b[0m\u001b[0mtt3\u001b[0m\u001b[0;34m,\u001b[0m \u001b[0mdemo\u001b[0m\u001b[0;34m=\u001b[0m\u001b[0mFalse\u001b[0m\u001b[0;34m,\u001b[0m \u001b[0mdirectory\u001b[0m\u001b[0;34m=\u001b[0m\u001b[0mreduced_collection\u001b[0m\u001b[0;34m.\u001b[0m\u001b[0mlocation\u001b[0m\u001b[0;34m)\u001b[0m\u001b[0;34m\u001b[0m\u001b[0m\n\u001b[1;32m      3\u001b[0m \u001b[0mfits_browser\u001b[0m\u001b[0;34m.\u001b[0m\u001b[0mdisplay\u001b[0m\u001b[0;34m(\u001b[0m\u001b[0;34m)\u001b[0m\u001b[0;34m\u001b[0m\u001b[0m\n",
      "\u001b[0;32m/Users/dagoret-campagnesylvie/anaconda/envs/pyastrophys/lib/python2.7/site-packages/msumastro/table_tree.pyc\u001b[0m in \u001b[0;36m__init__\u001b[0;34m(self, *args)\u001b[0m\n\u001b[1;32m     80\u001b[0m \u001b[0;34m\u001b[0m\u001b[0m\n\u001b[1;32m     81\u001b[0m         \u001b[0;32mif\u001b[0m \u001b[0;32mnot\u001b[0m \u001b[0misinstance\u001b[0m\u001b[0;34m(\u001b[0m\u001b[0mtable\u001b[0m\u001b[0;34m,\u001b[0m \u001b[0mTable\u001b[0m\u001b[0;34m)\u001b[0m\u001b[0;34m:\u001b[0m\u001b[0;34m\u001b[0m\u001b[0m\n\u001b[0;32m---> 82\u001b[0;31m             raise TypeError('First argument must be an '\n\u001b[0m\u001b[1;32m     83\u001b[0m                             'astropy.table.Table instance')\n\u001b[1;32m     84\u001b[0m         if (isinstance(tree_keys, six.string_types) or\n",
      "\u001b[0;31mTypeError\u001b[0m: First argument must be an astropy.table.Table instance"
     ]
    }
   ],
   "source": [
    "tt3 = msumastro.TableTree(reduced_collection.summary_info, ['imagetyp', 'exposure'], 'file')\n",
    "fits_browser = ImageBrowser(tt3, demo=False, directory=reduced_collection.location)\n",
    "fits_browser.display()"
   ]
  },
  {
   "cell_type": "code",
   "execution_count": null,
   "metadata": {
    "collapsed": true
   },
   "outputs": [],
   "source": []
  }
 ],
 "metadata": {
  "kernelspec": {
   "display_name": "Python 2",
   "language": "python",
   "name": "python2"
  },
  "language_info": {
   "codemirror_mode": {
    "name": "ipython",
    "version": 2
   },
   "file_extension": ".py",
   "mimetype": "text/x-python",
   "name": "python",
   "nbconvert_exporter": "python",
   "pygments_lexer": "ipython2",
   "version": "2.7.11"
  }
 },
 "nbformat": 4,
 "nbformat_minor": 0
}
