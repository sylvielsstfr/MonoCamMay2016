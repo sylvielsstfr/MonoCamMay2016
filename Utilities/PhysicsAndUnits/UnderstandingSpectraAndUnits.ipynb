{
 "cells": [
  {
   "cell_type": "markdown",
   "metadata": {},
   "source": [
    "===============================================================================\n",
    "# Prediction of observed spectra including the units\n",
    "===============================================================================\n",
    "- author           : Sylvie Dagoret-Campagne\n",
    "- date of creation : July 10th 2016"
   ]
  },
  {
   "cell_type": "markdown",
   "metadata": {},
   "source": [
    "# Introduction\n",
    "-----------------------\n",
    "\n",
    "The purpose of this note is to explain the order of magnitude, the shape according wavelength units of the signal recorded in Monocam images in photometry as well as in spectrometry.\n",
    "We start from the CALSPEC predicted spectra and going through the different stages of light propagation through the\n",
    "atmosphere, the telescop optics, the grating and finally the CCD and the electronics (electronic readout and digitization). \n"
   ]
  },
  {
   "cell_type": "markdown",
   "metadata": {},
   "source": [
    "# import the packages\n",
    "---------------------------------"
   ]
  },
  {
   "cell_type": "code",
   "execution_count": 1,
   "metadata": {
    "collapsed": false
   },
   "outputs": [
    {
     "name": "stderr",
     "output_type": "stream",
     "text": [
      "/Users/dagoret-campagnesylvie/anaconda/envs/pyastrophys/lib/python2.7/site-packages/matplotlib/__init__.py:872: UserWarning: axes.color_cycle is deprecated and replaced with axes.prop_cycle; please use the latter.\n",
      "  warnings.warn(self.msg_depr % (key, alt_key))\n"
     ]
    }
   ],
   "source": [
    "import numpy as np\n",
    "\n",
    "%config InlineBackend.rc = {}\n",
    "import matplotlib\n",
    "matplotlib.rc_file(\"../templates/matplotlibrc\")\n",
    "\n",
    "import matplotlib.pyplot as plt\n",
    "%matplotlib inline\n",
    "\n",
    "import pandas as pd\n",
    "import os"
   ]
  },
  {
   "cell_type": "code",
   "execution_count": 2,
   "metadata": {
    "collapsed": true
   },
   "outputs": [],
   "source": [
    "from astropy.io import fits\n",
    "import astropy.units as u\n",
    "from astropy.constants import e,m_e,c,eps0,mu0\n",
    "import math as m"
   ]
  },
  {
   "cell_type": "markdown",
   "metadata": {},
   "source": [
    "# Definition of some usefull constants"
   ]
  },
  {
   "cell_type": "code",
   "execution_count": 3,
   "metadata": {
    "collapsed": true
   },
   "outputs": [],
   "source": [
    "index=107   # index of the image spectra selected "
   ]
  },
  {
   "cell_type": "code",
   "execution_count": 4,
   "metadata": {
    "collapsed": true
   },
   "outputs": [],
   "source": [
    "obj_name='hd158485'\n",
    "airmass='1.1'\n",
    "night_name='20160511'"
   ]
  },
  {
   "cell_type": "code",
   "execution_count": 5,
   "metadata": {
    "collapsed": true
   },
   "outputs": [],
   "source": [
    "path_sed='../../SED'  # path for the table of the predicted SED"
   ]
  },
  {
   "cell_type": "code",
   "execution_count": 6,
   "metadata": {
    "collapsed": false
   },
   "outputs": [],
   "source": [
    "tablefitsfile='SEDPred_'+obj_name+'_'+night_name+'_'+str(index)+'.fits'    # base filename to open"
   ]
  },
  {
   "cell_type": "code",
   "execution_count": 7,
   "metadata": {
    "collapsed": true
   },
   "outputs": [],
   "source": [
    "fullfilename=os.path.join(path_sed,tablefitsfile)  # full filename"
   ]
  },
  {
   "cell_type": "code",
   "execution_count": 8,
   "metadata": {
    "collapsed": false
   },
   "outputs": [
    {
     "name": "stdout",
     "output_type": "stream",
     "text": [
      "../../SED/SEDPred_hd158485_20160511_107.fits\n"
     ]
    }
   ],
   "source": [
    "print fullfilename"
   ]
  },
  {
   "cell_type": "markdown",
   "metadata": {},
   "source": [
    "# Shows the spectral energy densities prediction"
   ]
  },
  {
   "cell_type": "code",
   "execution_count": 9,
   "metadata": {
    "collapsed": false
   },
   "outputs": [
    {
     "name": "stdout",
     "output_type": "stream",
     "text": [
      "Filename: ../../SED/SEDPred_hd158485_20160511_107.fits\n",
      "No.    Name         Type      Cards   Dimensions   Format\n",
      "0    PRIMARY     PrimaryHDU       7   ()              \n",
      "1                BinTableHDU     18   3729R x 5C   [E, E, E, E, E]   \n"
     ]
    }
   ],
   "source": [
    "hdulist=fits.open(fullfilename)        # open the file\n",
    "hdulist.info()                         # quick outlook of the file contend"
   ]
  },
  {
   "cell_type": "code",
   "execution_count": 10,
   "metadata": {
    "collapsed": true
   },
   "outputs": [],
   "source": [
    "header=hdulist[0].header               # overview of the primary header"
   ]
  },
  {
   "cell_type": "code",
   "execution_count": 11,
   "metadata": {
    "collapsed": false
   },
   "outputs": [
    {
     "data": {
      "text/plain": [
       "SIMPLE  =                    T / conforms to FITS standard                      \n",
       "BITPIX  =                    8 / array data type                                \n",
       "NAXIS   =                    0 / number of array dimensions                     \n",
       "EXTEND  =                    T                                                  \n",
       "OBJ_NAME= 'hd158485'                                                            \n",
       "UNITS   = 'wavelength in nm'                                                    \n",
       "COMMENT Prediction of observable SED                                            "
      ]
     },
     "execution_count": 11,
     "metadata": {},
     "output_type": "execute_result"
    }
   ],
   "source": [
    "header"
   ]
  },
  {
   "cell_type": "code",
   "execution_count": 12,
   "metadata": {
    "collapsed": true
   },
   "outputs": [],
   "source": [
    "table_data=hdulist[1].data            # retrieve the data table"
   ]
  },
  {
   "cell_type": "code",
   "execution_count": 13,
   "metadata": {
    "collapsed": false
   },
   "outputs": [],
   "source": [
    "wavelength_sed=table_data.field('WAVELENGTH')   # the the columns of the table\n",
    "flux_sed=table_data.field('SEDcalspec')\n",
    "flux_sedccd=table_data.field('SEDxQE')\n",
    "flux_sedccdatm=table_data.field('SEDxQExATM')\n",
    "flux_sedccdatmopt=table_data.field('SEDxQExATMxTopt')"
   ]
  },
  {
   "cell_type": "code",
   "execution_count": 14,
   "metadata": {
    "collapsed": true
   },
   "outputs": [],
   "source": [
    "# rename\n",
    "SED1=flux_sed             # SED of the star\n",
    "SED2=flux_sedccd          # SED of star multipled by CCD efficiency \n",
    "SED3=flux_sedccdatm       # SED of star multipled by CCD efficiency and atmosphere transparency\n",
    "SED4=flux_sedccdatmopt    # SED of star multipled by CCD efficiency,atmosphere transparency,\n",
    "                          # optic throuput"
   ]
  },
  {
   "cell_type": "code",
   "execution_count": 15,
   "metadata": {
    "collapsed": false
   },
   "outputs": [
    {
     "data": {
      "image/png": "[encoded data removed]",
      "text/plain": [
       "<matplotlib.figure.Figure at 0x104fa0750>"
      ]
     },
     "metadata": {},
     "output_type": "display_data"
    }
   ],
   "source": [
    "plt.figure(figsize=(10,06))\n",
    "plt.plot(wavelength_sed,SED1,label='calspec SED',color='k')\n",
    "plt.plot(wavelength_sed,SED2,label='with CCD-QE',color='b')\n",
    "plt.plot(wavelength_sed,SED3,label='with CCD-QE and atmosphere',color='r')\n",
    "plt.plot(wavelength_sed,SED4,label='with CCD-QE,Optics and atmosphere',color='g')\n",
    "plt.xlim(0,1200.)\n",
    "plt.ylim(0,SED1.max()*1.2)\n",
    "plt.title('prediction for SED observation for hd158485 (calspec)',fontsize=20)\n",
    "plt.xlabel('wavelength $\\lambda$ (nm)',fontsize=20)\n",
    "plt.ylabel('Flux x Transmission ',fontsize=20)\n",
    "plt.tick_params(axis='x', labelsize=20)\n",
    "plt.tick_params(axis='y', labelsize=20)\n",
    "plt.legend(fontsize=10)\n",
    "plt.show()"
   ]
  },
  {
   "cell_type": "markdown",
   "metadata": {
    "collapsed": true
   },
   "source": [
    "##  SED Spectrum"
   ]
  },
  {
   "cell_type": "markdown",
   "metadata": {},
   "source": [
    "#### From the header :\n",
    "\n",
    "** HISTORY Units : Angstroms(A) and erg s-1 cm-2 A-1 **\n",
    "\n",
    "\n",
    "- This means the input spectrum is a Spectral Energy Density (SED) written as $S_{\\lambda}^{E}(\\lambda)$ (The E in the superscript refers to the energy or power distribution which is not the number of photons distribution).\n",
    "However the CCD make some measurement of the number of photo-electrons $n_{e}(\\lambda)d\\lambda$ (number of photo-electrons per second in $d\\lambda$ unit wavelength)\n",
    "or number of photons $n_{\\gamma}(\\lambda)d\\lambda$ (number of photons per second in $d\\lambda$ unit wavelength)"
   ]
  },
  {
   "cell_type": "markdown",
   "metadata": {},
   "source": [
    "The relation between the number of electrons $\\delta N_{e} =  n_{e}(\\lambda) \\cdot d\\lambda$, the number of photons  $\\delta N_{\\gamma} =  n_{\\gamma}(\\lambda) \\cdot d\\lambda$ and the ADU count numbers $\\delta N_{ADU} =  n_{ADU}(\\lambda) \\cdot d\\lambda$ (CCD signal digitization units) in wavelength unit $d\\lambda$ per unit of time $dt$ (one second) is:\n",
    "\n",
    "$$\n",
    "n_{e}(\\lambda) \\cdot d\\lambda =\\epsilon_{CCD}(\\lambda)\\cdot n_{\\gamma}(\\lambda) \\cdot d\\lambda = g_{el} \\cdot n_{ADU}(\\lambda) \\cdot d\\lambda\n",
    "$$\n",
    "\n",
    "where\n",
    "\n",
    "- $\\epsilon_{CCD}(\\lambda)$ : CCD quantum efficiency, no unit,\n",
    "- $g_{el}$ : electronic gain used to convert ADU into electrons, unit of electron per ADU,\n",
    "- $n_{e}(\\lambda)$ : number of electrons in a pixel per wavelength unit $d\\lambda$ and per time unit $dt$,\n",
    "- $S_{\\lambda}^{E}(\\lambda)$ SED : energy per wavelength unit, collection surface unit, detection time unit (exposure), and wavelength unit (in present CALSEC case, erg per cm$^2$ per second per Angstrom). "
   ]
  },
  {
   "cell_type": "markdown",
   "metadata": {},
   "source": [
    "## Spectrum in photon unit"
   ]
  },
  {
   "cell_type": "markdown",
   "metadata": {},
   "source": [
    "- The CCD measures a number of photons that induce photoelectrons, not the incident energy. Thus we have to convert\n",
    "the spectral energy density of the source $S^E_{\\lambda} (\\lambda) \\cdot d\\lambda$ into a number of photon energy density\n",
    "$S^{N_\\gamma}_{\\lambda}(\\lambda) \\cdot d\\lambda$ :\n",
    "\n",
    "$$\n",
    "S^{N_\\gamma}_{\\lambda} (\\lambda) \\cdot d\\lambda = \\frac{S^E_{\\lambda}(\\lambda) \\cdot d\\lambda}{hc/\\lambda}\n",
    "$$\n",
    "\n",
    "- The number of photons density from the source is then expressed as $dN_{\\gamma}(\\lambda)/d\\lambda$ :\n",
    "\n",
    "$$\n",
    "\\frac{dN_{\\gamma}(\\lambda)}{d\\lambda} = S^{N_\\gamma}_{\\lambda}(\\lambda) = \\frac{\\lambda }{hc} \\cdot S^E_{\\lambda} (\\lambda)\n",
    "$$\n",
    "\n"
   ]
  },
  {
   "cell_type": "markdown",
   "metadata": {},
   "source": [
    "- Note in some textbook, the spectral energy density $S^{E}_\\nu (\\nu)$ is tabulated in frequency unit.\n",
    "\n",
    "Given \n",
    "$$ dE = S^{E}_\\nu (\\nu) \\cdot d\\nu  =   S^{E}_\\lambda (\\lambda) \\cdot d\\lambda\n",
    "$$\n",
    "\n",
    "$$\n",
    "S^{E}_\\lambda (\\lambda) = S^{E}_\\nu (\\nu) \\cdot | \\frac{d\\nu}{d\\lambda} | = \\frac{c}{\\lambda^2} \\cdot S^{E}_\\nu (\\nu)\n",
    "$$\n",
    "\n",
    "thus we can also find the expression for the number of photons in the detector:\n",
    "\n",
    "$$\n",
    "\\frac{dN_{\\gamma}(\\lambda)}{d\\lambda} = \\frac{1 }{h \\lambda} \\cdot S^E_{\\nu} (\\nu(\\lambda))\n",
    "$$\n",
    "\n",
    "Or if we wanted to express $dN_{\\gamma}(\\lambda)$ as a function of $\\nu$ :\n",
    "\n",
    "$$\n",
    "dN_{\\gamma}(\\nu) = dN_{\\gamma}(\\lambda)\\cdot |\\frac{d\\lambda}{d\\nu}|= \\frac{c}{\\nu^2}\\cdot dN_{\\gamma}(\\lambda)\n",
    "$$\n",
    "\n",
    "\n",
    "\n",
    "... to be continued to show:\n",
    "\n"
   ]
  },
  {
   "cell_type": "markdown",
   "metadata": {},
   "source": [
    "# The flux in a wavelength bandwidth"
   ]
  },
  {
   "cell_type": "markdown",
   "metadata": {},
   "source": [
    "Transmission in atmosphere $T^{atm}(\\lambda)$ , detector filters $T^{filt}(\\lambda)$, or grating $T^{grat}(\\lambda)$,  optics (mirrors and lenses) $T^{opt}(\\lambda)$, detector (CCD) $\\epsilon_{CCD}(\\lambda)$, focusing efficiency $\\epsilon_{PSF}$ are often expressed as a function of the wavelength $\\lambda$ and the SED either using $S^{E}_\\lambda(\\lambda)$ or using $S^{E}_\\nu(\\nu(\\lambda))$: \n",
    "\n",
    "The flux (in ADU) in a pixel in $\\Delta \\lambda$ is expressed as:\n",
    "\n",
    "$$\n",
    "F_{\\Delta \\lambda}^{ADU} = \\frac{\\pi D^2}{4 g_{el}} \\int_{\\Delta \\lambda}  T^{atm}(\\lambda) \\cdot T^{grat}(\\lambda) \\cdot T^{opt}(\\lambda) \\cdot \\epsilon_{PSF} \\cdot \\epsilon_{CCD}(\\lambda) \\cdot \\frac{dN_{\\gamma} (\\lambda)}{d\\lambda} \\cdot d\\lambda\n",
    "$$\n",
    "\n",
    "$$\n",
    "F_{\\Delta \\lambda}^{ADU} = \\frac{\\pi D^2}{4 g_{el} h c} \\int_{\\Delta \\lambda}  T^{atm}(\\lambda) \\cdot T^{grat}(\\lambda) \\cdot T^{opt}(\\lambda) \\cdot \\epsilon_{PSF} \\cdot \\epsilon_{CCD}(\\lambda) \\cdot  S^{E}_\\lambda(\\lambda)    \\cdot \\lambda \\cdot d\\lambda\n",
    "$$\n",
    "\n",
    "$$\n",
    "F_{\\Delta \\lambda}^{ADU} = \\frac{\\pi D^2}{4 g_{el} h} \\int_{\\Delta \\lambda}  T^{atm}(\\lambda) \\cdot T^{grat}(\\lambda) \\cdot T^{opt}(\\lambda) \\cdot \\epsilon_{PSF} \\cdot \\epsilon_{CCD}(\\lambda) \\cdot  S^{E}_\\nu(\\lambda)   \\cdot \\frac{d\\lambda}{\\lambda}\n",
    "$$\n"
   ]
  },
  {
   "cell_type": "markdown",
   "metadata": {},
   "source": [
    "### remarks\n",
    "\n",
    "- we should not forget the $\\lambda$ term,\n",
    "- we should not forget the $T^{grat}(\\lambda)$ term. I would guess the following approximation $T^{grat}(\\lambda)\\propto 1/\\lambda^\\alpha$ ($\\alpha$ is an unknown index power) and that the term $\\lambda \\cdot T^{grat}(\\lambda)$ is quite constant from 600 nm to 1000 nm in our case.\n",
    "- $\\epsilon_{PSF}$ : If the maximum of light goes in the considered pixel, the light focusing also called PSF (standing for Point Spread Function) is shared among several neighboring pixels. We call $\\epsilon_{PSF}$ the fraction of the signal going into the hottest pixel."
   ]
  },
  {
   "cell_type": "markdown",
   "metadata": {},
   "source": [
    "# Checking the order of magnitudes , the constants and the units for Monocam"
   ]
  },
  {
   "cell_type": "code",
   "execution_count": 16,
   "metadata": {
    "collapsed": true
   },
   "outputs": [],
   "source": [
    "from astropy.constants import c,h"
   ]
  },
  {
   "cell_type": "code",
   "execution_count": 17,
   "metadata": {
    "collapsed": false
   },
   "outputs": [],
   "source": [
    "SED_400nm=2*10**(-11)*u.erg/u.s/((u.cm))**2/u.angstrom   # Spectral Energy Density provided by Calspec"
   ]
  },
  {
   "cell_type": "code",
   "execution_count": 18,
   "metadata": {
    "collapsed": false
   },
   "outputs": [],
   "source": [
    "D=1.3*u.m      # radius of the telescpe"
   ]
  },
  {
   "cell_type": "code",
   "execution_count": null,
   "metadata": {
    "collapsed": true
   },
   "outputs": [],
   "source": []
  },
  {
   "cell_type": "code",
   "execution_count": 19,
   "metadata": {
    "collapsed": false
   },
   "outputs": [],
   "source": [
    "d_PSF=3        # 1 sigma extension of the PSF in pixel unit"
   ]
  },
  {
   "cell_type": "code",
   "execution_count": 20,
   "metadata": {
    "collapsed": true
   },
   "outputs": [],
   "source": [
    "Pixel_to_Wavelength=0.566*u.nm   # slope of the calibration curve"
   ]
  },
  {
   "cell_type": "code",
   "execution_count": 21,
   "metadata": {
    "collapsed": true
   },
   "outputs": [],
   "source": [
    "d_wl=Pixel_to_Wavelength*d_PSF   # resolution (accuracy) in wavelength of the spectrometer (PSF effect)"
   ]
  },
  {
   "cell_type": "code",
   "execution_count": 22,
   "metadata": {
    "collapsed": false
   },
   "outputs": [],
   "source": [
    "# some reasonable guess\n",
    "Tatm=0.7  # at 400 nm\n",
    "Tgrat=0.01 # guess ?\n",
    "Topt=0.7 # at 400 nm\n",
    "Epsf=0.5  # quick guess\n",
    "Eccd=0.7*u.electron  # at 400nm\n",
    "gel=3.7*u.electron/u.adu  # electronic gain that I know from A. Numerovski"
   ]
  },
  {
   "cell_type": "code",
   "execution_count": 23,
   "metadata": {
    "collapsed": true
   },
   "outputs": [],
   "source": [
    "wl=400.*u.nm"
   ]
  },
  {
   "cell_type": "markdown",
   "metadata": {},
   "source": [
    "#### Calculate the expected flux in Monocam data for the grating"
   ]
  },
  {
   "cell_type": "code",
   "execution_count": 24,
   "metadata": {
    "collapsed": false
   },
   "outputs": [],
   "source": [
    "F=np.pi*D**2/gel/h/c*SED_400nm*wl*d_wl*Tatm*Tgrat*Topt*Epsf*Eccd"
   ]
  },
  {
   "cell_type": "code",
   "execution_count": 25,
   "metadata": {
    "collapsed": false
   },
   "outputs": [
    {
     "data": {
      "text/latex": [
       "$1682.8676 \\; \\mathrm{\\frac{adu}{s}}$"
      ],
      "text/plain": [
       "<Quantity 1682.8676274101517 adu / s>"
      ]
     },
     "execution_count": 25,
     "metadata": {},
     "output_type": "execute_result"
    }
   ],
   "source": [
    "F.decompose()  # we have the right units , and the right order of magnitude also"
   ]
  },
  {
   "cell_type": "markdown",
   "metadata": {},
   "source": [
    "### Remarks\n",
    "\n",
    "- We had to suppose the first order spectrum get 1% of the total signal.\n",
    "This has to be confirmed.\n",
    "\n"
   ]
  },
  {
   "cell_type": "code",
   "execution_count": null,
   "metadata": {
    "collapsed": true
   },
   "outputs": [],
   "source": []
  }
 ],
 "metadata": {
  "kernelspec": {
   "display_name": "Python 2",
   "language": "python",
   "name": "python2"
  },
  "language_info": {
   "codemirror_mode": {
    "name": "ipython",
    "version": 2
   },
   "file_extension": ".py",
   "mimetype": "text/x-python",
   "name": "python",
   "nbconvert_exporter": "python",
   "pygments_lexer": "ipython2",
   "version": "2.7.12"
  }
 },
 "nbformat": 4,
 "nbformat_minor": 0
}
