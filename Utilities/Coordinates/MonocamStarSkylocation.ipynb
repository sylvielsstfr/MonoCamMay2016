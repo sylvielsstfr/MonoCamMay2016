{
 "cells": [
  {
   "cell_type": "markdown",
   "metadata": {},
   "source": [
    "# The goal of this notebook is to calculate the trajectory of the star hd_163466 in sky\n",
    "-------------------------------------------------------------------------------------------------------------\n",
    "\n",
    "- At a particular location on earth : Flagstaff Observatory\n",
    "- At a particular date  : May 2016 (Monocam run)\n",
    "\n",
    "Adapted from astropy examples.\n",
    "\n",
    "- Author : Sylvie Dagoret-Campagne\n",
    "- date creation : 25 june 2016\n",
    "\n"
   ]
  },
  {
   "cell_type": "markdown",
   "metadata": {},
   "source": [
    "## Import relevant packages"
   ]
  },
  {
   "cell_type": "code",
   "execution_count": 1,
   "metadata": {
    "collapsed": true
   },
   "outputs": [],
   "source": [
    "import urllib\n",
    "import IPython.display\n",
    "import numpy as np\n",
    "import astropy"
   ]
  },
  {
   "cell_type": "code",
   "execution_count": 5,
   "metadata": {
    "collapsed": false
   },
   "outputs": [
    {
     "name": "stderr",
     "output_type": "stream",
     "text": [
      "/Users/dagoret-campagnesylvie/anaconda/envs/pyastrophys/lib/python2.7/site-packages/matplotlib/__init__.py:872: UserWarning: axes.color_cycle is deprecated and replaced with axes.prop_cycle; please use the latter.\n",
      "  warnings.warn(self.msg_depr % (key, alt_key))\n"
     ]
    }
   ],
   "source": [
    "%matplotlib inline\n",
    "from matplotlib import pyplot as plt\n",
    "import matplotlib\n",
    "matplotlib.rc_file(\"../templates/matplotlibrc\")"
   ]
  },
  {
   "cell_type": "code",
   "execution_count": 6,
   "metadata": {
    "collapsed": true
   },
   "outputs": [],
   "source": [
    "from astropy import units as u\n",
    "from astropy.coordinates import SkyCoord\n",
    "from astropy.coordinates import Angle\n",
    "from astropy.table import Table\n",
    "from astropy.coordinates import Angle\n",
    "from astropy.time import Time, TimezoneInfo"
   ]
  },
  {
   "cell_type": "code",
   "execution_count": 7,
   "metadata": {
    "collapsed": true
   },
   "outputs": [],
   "source": [
    "from datetime import datetime\n",
    "from pytz import timezone\n",
    "import pytz\n",
    "import pandas as pd"
   ]
  },
  {
   "cell_type": "markdown",
   "metadata": {},
   "source": [
    "## The observatory site\n",
    "\n",
    "This star has been observed by the Monocam/LSST program.\n",
    "\n",
    "- HD158485\n",
    "- HD163466\n",
    "\n",
    "The observatory site is Flagstaff NOFS :\n",
    "\n",
    "| Organization \t| United States Naval Observatory |\n",
    "\n",
    "|Code \t| 689|\n",
    "\n",
    "\n",
    "Location \tCoconino County, near Flagstaff, Arizona\n",
    "\n",
    "Coordinates \t35°11′03″N 111°44′25″W\n",
    "\n",
    "Altitude \t2,273 metres (7,457 ft)\n",
    "\n",
    "\n",
    "Website \thttp://www.nofs.navy.mil/\n",
    "\n",
    "Telescopes:\n",
    "- Kaj Strand Telescope \t1.55 m (61 in) reflector\n",
    "- DFM/Kodak/Corning \t**1.3 m reflector**\n",
    "- Unnamed telescope \t1.0 m (40 in) Ritchey-Chretien reflector\n",
    "- Flagstaff Astrometric Scanning Transit Telescope \t8-inch (20 cm) catadioptric\n",
    "- Navy Precision Optical Interferometer \tinterferometer (Located at Anderson Mesa)"
   ]
  },
  {
   "cell_type": "markdown",
   "metadata": {},
   "source": [
    "## The telescope\n",
    "Telescope Data\n",
    "\n",
    "    Construction\n",
    "        Optics: Corning Glass Works (blanks); Kodak (optical figuring)\n",
    "        Mounting: DFM Engineering, Inc.\n",
    "        Date Completed: 1998\n",
    "        Cost: $800,000 \n",
    "    Optical Design: Modified Ritchey-Chretien\n",
    "    Effective Focal Length: 5.2-meters\n",
    "    Overall Focal Ratio: f/4\n",
    "    Focal Plane Scale: 39.6 arcsec/mm\n",
    "    Primary Mirror\n",
    "        Diameter: 1.3-meters (51-inches)\n",
    "        Material: Ultra-Low-Expansion (ULE) Glass\n",
    "        Weight:\n",
    "        Figure: Concave Hyperboloid\n",
    "        Focal Ratio: f/2.4 \n",
    "    Secondary Mirror\n",
    "        Diameter: 0.61-meter (24-inches)\n",
    "        Material: ULE Glass\n",
    "        Weight:\n",
    "        Figure: Convex Hyperboloid \n",
    "    Total Weight (Optics, Tube and Mount): "
   ]
  },
  {
   "cell_type": "markdown",
   "metadata": {},
   "source": [
    "## The Camera : Monocam"
   ]
  },
  {
   "cell_type": "markdown",
   "metadata": {},
   "source": [
    "# Find the earth location of the observatory of interest "
   ]
  },
  {
   "cell_type": "code",
   "execution_count": 37,
   "metadata": {
    "collapsed": false
   },
   "outputs": [],
   "source": [
    "# tow view all the list of pre-defined observatory, uncomment the following lines\n",
    "#import astropy\n",
    "#astropy.coordinates.EarthLocation.get_site_names()"
   ]
  },
  {
   "cell_type": "markdown",
   "metadata": {},
   "source": [
    "- I can't see this observatory in that list, but I can see LSST obervatory at Cerro Pachon.\n",
    "then just be example, get the true location of a site as follow:"
   ]
  },
  {
   "cell_type": "code",
   "execution_count": 38,
   "metadata": {
    "collapsed": false
   },
   "outputs": [],
   "source": [
    "LSST_site='Cerro Pachon'\n",
    "lsst_geo_coord=astropy.coordinates.EarthLocation.of_site(LSST_site).to_geodetic()"
   ]
  },
  {
   "cell_type": "code",
   "execution_count": 39,
   "metadata": {
    "collapsed": false
   },
   "outputs": [
    {
     "data": {
      "text/plain": [
       "(<Longitude -70.7366833333333 deg>,\n",
       " <Latitude -30.240741666666672 deg>,\n",
       " <Quantity 2749.999999999238 m>)"
      ]
     },
     "execution_count": 39,
     "metadata": {},
     "output_type": "execute_result"
    }
   ],
   "source": [
    "lsst_geo_coord"
   ]
  },
  {
   "cell_type": "markdown",
   "metadata": {},
   "source": [
    "- Seriously now, the location of NOFS is not in astropy list. Thus I enter the coordinates by hands form the\n",
    "wikipedia information:\n",
    "\n",
    "- https://en.wikipedia.org/wiki/United_States_Naval_Observatory_Flagstaff_Station\n"
   ]
  },
  {
   "cell_type": "code",
   "execution_count": 40,
   "metadata": {
    "collapsed": false
   },
   "outputs": [],
   "source": [
    "#Flagstaff_NOFS location\n",
    "NOFS_Longitude=Angle(u'-111°44′25″')  # longitudes from -180° (West) to 180° (East)\n",
    "NOFS_Latitude=Angle(u'35°11′03″')     # latitudes from -90° (West) to 90° (East)"
   ]
  },
  {
   "cell_type": "code",
   "execution_count": 41,
   "metadata": {
    "collapsed": true
   },
   "outputs": [],
   "source": [
    "from astropy.coordinates import Longitude, Latitude"
   ]
  },
  {
   "cell_type": "code",
   "execution_count": 42,
   "metadata": {
    "collapsed": false
   },
   "outputs": [],
   "source": [
    "NOFS_Longitude=Longitude(u'-111°44′25″') \n",
    "NOFS_Latitude=Latitude(u'35°11′03″')\n",
    "NOFS_Height=2.273*u.m "
   ]
  },
  {
   "cell_type": "code",
   "execution_count": 43,
   "metadata": {
    "collapsed": false
   },
   "outputs": [],
   "source": [
    "#definition of the location to astropy\n",
    "NOFS_location = astropy.coordinates.EarthLocation(lat=NOFS_Latitude, lon=NOFS_Longitude, height=NOFS_Height)"
   ]
  },
  {
   "cell_type": "markdown",
   "metadata": {},
   "source": [
    "## Now the time\n",
    "\n",
    "The timzone for Flagstaff Arizona is US mountain timezone is \n",
    "\n",
    "- **MDT \tMountain Daylight Time (North America) \tUTC−06**\n",
    "\n",
    "\n",
    "- 7 hours diff in winter wrt UTC\n",
    "- 6 hours diff in summer wrt UTC"
   ]
  },
  {
   "cell_type": "markdown",
   "metadata": {},
   "source": [
    "- 'US/Mountain'\n",
    "- 'US/Arizona'"
   ]
  },
  {
   "cell_type": "markdown",
   "metadata": {},
   "source": [
    "### Exemple of working with time\n",
    "\n",
    "The goal is to understand what is the exact time offset of the the observation wrt UTC.\n",
    "For this, we use Time libraries for different package to convince that in May, the Time Offset of\n",
    "the Arizona is 6 hours late.\n",
    "\n",
    "Note that in summer the UTC offset of France is + 2 hours.\n",
    "Then in France we have a delay of + 8 hours wrt Arizona, +9 Hours wrt California and + 6 hours wrt US/Eastern.\n",
    "\n",
    "\n",
    "The package pytz helps in defining the timezone\n",
    "The package pandas (pd) helps in calculating the time difference between two timezones including Day Saving Time (DST)\n",
    "offset.\n",
    "\n",
    "UTC Offsets are not the same in summers and in winters."
   ]
  },
  {
   "cell_type": "code",
   "execution_count": 44,
   "metadata": {
    "collapsed": true
   },
   "outputs": [],
   "source": [
    "# to view all the defined timezone inside the pytz library\n",
    "# uncomment the following lines\n",
    "#import pytz\n",
    "#pytz.all_timezones"
   ]
  },
  {
   "cell_type": "code",
   "execution_count": 45,
   "metadata": {
    "collapsed": false
   },
   "outputs": [
    {
     "data": {
      "text/plain": [
       "'UTC'"
      ]
     },
     "execution_count": 45,
     "metadata": {},
     "output_type": "execute_result"
    }
   ],
   "source": [
    "# define an UTC timezone\n",
    "tz_utc = pytz.utc\n",
    "tz_utc.zone"
   ]
  },
  {
   "cell_type": "code",
   "execution_count": 46,
   "metadata": {
    "collapsed": false
   },
   "outputs": [
    {
     "data": {
      "text/plain": [
       "'US/Mountain'"
      ]
     },
     "execution_count": 46,
     "metadata": {},
     "output_type": "execute_result"
    }
   ],
   "source": [
    "# define the US-Moutain timzone\n",
    "# Arizona is in the US-Mountain (MDT) timezone ou MST\n",
    "tz_mountain = timezone('US/Mountain')\n",
    "tz_mountain.zone"
   ]
  },
  {
   "cell_type": "code",
   "execution_count": 47,
   "metadata": {
    "collapsed": false
   },
   "outputs": [],
   "source": [
    "# define a timestamp in Flagstaff at legal local time (watch time)\n",
    "# pandas library is used because it takes into account UTC offset and DST offset\n",
    "stamp_flagstaff=pd.Timestamp('2016-01-11 23:59',tz=tz_mountain) "
   ]
  },
  {
   "cell_type": "code",
   "execution_count": 48,
   "metadata": {
    "collapsed": false
   },
   "outputs": [
    {
     "data": {
      "text/plain": [
       "Timestamp('2016-01-12 06:59:00+0000', tz='UTC')"
      ]
     },
     "execution_count": 48,
     "metadata": {},
     "output_type": "execute_result"
    }
   ],
   "source": [
    "# gives the equivalent time in UTC  # see a 6 hours shift wrt UTC in summer and 7 hours in winter\n",
    "# Check the reverse operation \n",
    "stamp_flagstaff.tz_convert('UTC') "
   ]
  },
  {
   "cell_type": "code",
   "execution_count": 49,
   "metadata": {
    "collapsed": false
   },
   "outputs": [],
   "source": [
    "# Convert the hour shift is really 6 hours in summer and 7 hours in winter\n",
    "stamp_utc=pd.Timestamp('2016-01-12 00:00',tz='utc')"
   ]
  },
  {
   "cell_type": "code",
   "execution_count": 50,
   "metadata": {
    "collapsed": false
   },
   "outputs": [
    {
     "data": {
      "text/plain": [
       "Timestamp('2016-01-11 17:00:00-0700', tz='US/Mountain')"
      ]
     },
     "execution_count": 50,
     "metadata": {},
     "output_type": "execute_result"
    }
   ],
   "source": [
    "stamp_utc.tz_convert('US/Mountain')"
   ]
  },
  {
   "cell_type": "code",
   "execution_count": 51,
   "metadata": {
    "collapsed": true
   },
   "outputs": [],
   "source": [
    "# UTC with astropy time library\n",
    "utc = astropy.time.TimezoneInfo()    # Defaults to UTC\n",
    "utc_minus_six_hours = TimezoneInfo(utc_offset=-6*u.hour)  # UTC-6"
   ]
  },
  {
   "cell_type": "code",
   "execution_count": 52,
   "metadata": {
    "collapsed": false
   },
   "outputs": [
    {
     "data": {
      "text/plain": [
       "<astropy.time.formats.TimezoneInfo at 0x10b523050>"
      ]
     },
     "execution_count": 52,
     "metadata": {},
     "output_type": "execute_result"
    }
   ],
   "source": [
    "utc_minus_six_hours"
   ]
  },
  {
   "cell_type": "markdown",
   "metadata": {},
   "source": [
    "## Defines the astronomical objects to observe"
   ]
  },
  {
   "cell_type": "markdown",
   "metadata": {},
   "source": [
    "- astropy is connected to strasbourg CDS center to retrieve the coordinate of the astronomical object "
   ]
  },
  {
   "cell_type": "code",
   "execution_count": 53,
   "metadata": {
    "collapsed": true
   },
   "outputs": [],
   "source": [
    "hd_158485_starloc=astropy.coordinates.SkyCoord.from_name('HD158485')"
   ]
  },
  {
   "cell_type": "code",
   "execution_count": 54,
   "metadata": {
    "collapsed": false
   },
   "outputs": [
    {
     "data": {
      "text/plain": [
       "<SkyCoord (ICRS): (ra, dec) in deg\n",
       "    (261.52015235, 58.65189569)>"
      ]
     },
     "execution_count": 54,
     "metadata": {},
     "output_type": "execute_result"
    }
   ],
   "source": [
    "hd_158485_starloc"
   ]
  },
  {
   "cell_type": "code",
   "execution_count": 55,
   "metadata": {
    "collapsed": true
   },
   "outputs": [],
   "source": [
    "hd_163466_starloc=astropy.coordinates.SkyCoord.from_name('HD163466')"
   ]
  },
  {
   "cell_type": "code",
   "execution_count": 56,
   "metadata": {
    "collapsed": false
   },
   "outputs": [
    {
     "data": {
      "text/plain": [
       "<SkyCoord (ICRS): (ra, dec) in deg\n",
       "    (268.10572628, 60.39637404)>"
      ]
     },
     "execution_count": 56,
     "metadata": {},
     "output_type": "execute_result"
    }
   ],
   "source": [
    "hd_163466_starloc"
   ]
  },
  {
   "cell_type": "markdown",
   "metadata": {},
   "source": [
    "## Plots the trajectory on local sky coordinates\n",
    "\n",
    "- I use the example from astropy given here\n",
    "http://docs.astropy.org/en/latest/generated/examples/coordinates/plot_obs-planning.html#sphx-glr-generated-examples-coordinates-plot-obs-planning-py"
   ]
  },
  {
   "cell_type": "code",
   "execution_count": 57,
   "metadata": {
    "collapsed": false
   },
   "outputs": [
    {
     "name": "stderr",
     "output_type": "stream",
     "text": [
      "/Users/dagoret-campagnesylvie/anaconda/envs/pyastrophys/lib/python2.7/site-packages/matplotlib/__init__.py:872: UserWarning: axes.color_cycle is deprecated and replaced with axes.prop_cycle; please use the latter.\n",
      "  warnings.warn(self.msg_depr % (key, alt_key))\n"
     ]
    }
   ],
   "source": [
    "from astropy.visualization import astropy_mpl_style\n",
    "plt.style.use(astropy_mpl_style)"
   ]
  },
  {
   "cell_type": "code",
   "execution_count": 58,
   "metadata": {
    "collapsed": true
   },
   "outputs": [],
   "source": [
    "from astropy.coordinates import SkyCoord, EarthLocation, AltAz"
   ]
  },
  {
   "cell_type": "markdown",
   "metadata": {},
   "source": [
    "### UTC offset for Flagstaff:\n",
    "---------------------------\n",
    "http://www.timeanddate.com/time/zone/usa/flagstaff\n",
    "\n",
    "MST : UTC-7\n"
   ]
  },
  {
   "cell_type": "code",
   "execution_count": 59,
   "metadata": {
    "collapsed": false
   },
   "outputs": [
    {
     "name": "stderr",
     "output_type": "stream",
     "text": [
      "WARNING: Tried to get polar motions for times after IERS data is valid. Defaulting to polar motion from the 50-yr mean for those.\n",
      "If you need enough precision such that this matters (~<10 arcsec), you can\n",
      "use the latest IERS predictions by running:\n",
      "\n",
      "    >>> from astropy.utils import iers\n",
      "    >>> iers.IERS.iers_table = iers.IERS_A.open(iers.IERS_A_URL)\n",
      "\n",
      " [astropy.coordinates.builtin_frames.utils]\n",
      "WARNING: (some) times are outside of range covered by IERS table. Assuming UT1-UTC=0 for coordinate transformations.\n",
      "If you need enough precision such that this matters (~<10 arcsec), you can\n",
      "use the latest IERS predictions by running:\n",
      "\n",
      "    >>> from astropy.utils import iers\n",
      "    >>> iers.IERS.iers_table = iers.IERS_A.open(iers.IERS_A_URL)\n",
      "\n",
      " [astropy.coordinates.builtin_frames.utils]\n"
     ]
    }
   ],
   "source": [
    "utcoffset=utcoffset = -7*u.hour  # Mountain Daylight Time in summer is -6 , however it was not followed this year\n",
    "                                 # You must enter this info here\n",
    "midnight = Time('2016-5-12 00:00:00') - utcoffset  # compute local midnight in UTC night 11/05 to 12/05\n",
    "delta_midnight = np.linspace(-2, 10, 100)*u.hour   # variation around midnight in UTC\n",
    "frame_May11night = AltAz(obstime=midnight+delta_midnight,\n",
    "                          location=NOFS_location) # local equatorial- time frame\n",
    "hd_163466_altazs_May11night = hd_163466_starloc.transform_to(frame_May11night) # star coordinayr projected on the local frame"
   ]
  },
  {
   "cell_type": "markdown",
   "metadata": {},
   "source": [
    "### Plot the altitude versus time"
   ]
  },
  {
   "cell_type": "code",
   "execution_count": 60,
   "metadata": {
    "collapsed": false
   },
   "outputs": [],
   "source": [
    "hd_163466_May11night_alt=hd_163466_altazs_May11night.alt # extract the altitude"
   ]
  },
  {
   "cell_type": "code",
   "execution_count": 61,
   "metadata": {
    "collapsed": false
   },
   "outputs": [
    {
     "data": {
      "image/png": "[encoded data removed]",
      "text/plain": [
       "<matplotlib.figure.Figure at 0x105dbf090>"
      ]
     },
     "metadata": {},
     "output_type": "display_data"
    }
   ],
   "source": [
    "plt.figure(figsize=(10.,8.))\n",
    "plt.plot(delta_midnight, hd_163466_May11night_alt)\n",
    "plt.xlim(-2, 10)\n",
    "plt.ylim(0, 90)\n",
    "plt.xlabel('Hours from MDT Midnight')\n",
    "plt.ylabel('Altitude ')\n",
    "plt.title('hd_163466')\n",
    "plt.show()"
   ]
  },
  {
   "cell_type": "markdown",
   "metadata": {},
   "source": [
    "### Plot the airmass versus the time"
   ]
  },
  {
   "cell_type": "code",
   "execution_count": 62,
   "metadata": {
    "collapsed": true
   },
   "outputs": [],
   "source": [
    "hd_163466_May11night_am = hd_163466_altazs_May11night.secz"
   ]
  },
  {
   "cell_type": "code",
   "execution_count": 63,
   "metadata": {
    "collapsed": false
   },
   "outputs": [
    {
     "data": {
      "image/png": "[encoded data removed]",
      "text/plain": [
       "<matplotlib.figure.Figure at 0x105d8f2d0>"
      ]
     },
     "metadata": {},
     "output_type": "display_data"
    }
   ],
   "source": [
    "plt.figure(figsize=(10.,8.))\n",
    "plt.plot(delta_midnight, hd_163466_May11night_am)\n",
    "plt.xlim(-2, 10)\n",
    "plt.ylim(1, 2)\n",
    "plt.xlabel('Hours from MDT Midnight')\n",
    "plt.ylabel('Airmass [Sec(z)]')\n",
    "plt.title('hd_163466')\n",
    "plt.show()"
   ]
  },
  {
   "cell_type": "markdown",
   "metadata": {},
   "source": [
    "### Shows also  the sun location, the dark astronomical night and the astronomical twilight"
   ]
  },
  {
   "cell_type": "code",
   "execution_count": 64,
   "metadata": {
    "collapsed": true
   },
   "outputs": [],
   "source": [
    "from astropy.coordinates import get_sun\n",
    "utcoffset=utcoffset = -6*u.hour  # Mountain  Daylight Time\n",
    "midnight = Time('2016-5-12 00:00:00') - utcoffset\n",
    "delta_midnight = np.linspace(-12, 12, 1000)*u.hour\n",
    "\n",
    "times_May11_to_12 = midnight + delta_midnight\n",
    "frame_May11_to_12 = AltAz(obstime=times_May11_to_12, location=NOFS_location)\n",
    "sunaltazs_May11_to_12 = get_sun(times_May11_to_12).transform_to(frame_May11_to_12)"
   ]
  },
  {
   "cell_type": "code",
   "execution_count": null,
   "metadata": {
    "collapsed": false
   },
   "outputs": [],
   "source": []
  },
  {
   "cell_type": "markdown",
   "metadata": {},
   "source": [
    "- Find the alt,az coordinates of hd_163466 at those same times:"
   ]
  },
  {
   "cell_type": "code",
   "execution_count": 65,
   "metadata": {
    "collapsed": true
   },
   "outputs": [],
   "source": [
    " hd_163466_altazs_May11_to_12 = hd_163466_starloc.transform_to(frame_May11_to_12 )"
   ]
  },
  {
   "cell_type": "markdown",
   "metadata": {},
   "source": [
    "Make a beautiful figure illustrating nighttime and the altitudes of hd_163466 and the Sun over that time:"
   ]
  },
  {
   "cell_type": "code",
   "execution_count": 66,
   "metadata": {
    "collapsed": false
   },
   "outputs": [
    {
     "data": {
      "image/png": "[encoded data removed]",
      "text/plain": [
       "<matplotlib.figure.Figure at 0x10b500250>"
      ]
     },
     "metadata": {},
     "output_type": "display_data"
    }
   ],
   "source": [
    "plt.figure(figsize=(10.,8.))\n",
    "plt.plot(delta_midnight, sunaltazs_May11_to_12.alt, color='r', label='Sun')\n",
    "plt.scatter(delta_midnight, hd_163466_altazs_May11_to_12.alt,\n",
    "            c=hd_163466_altazs_May11_to_12.az, label='hd_163466', lw=0, s=8,\n",
    "            cmap='viridis')\n",
    "\n",
    "# plot astronomical crepuscule\n",
    "plt.fill_between(delta_midnight.to('hr').value, 0, 90,\n",
    "                 sunaltazs_May11_to_12.alt < -0*u.deg, color='0.5', zorder=0)\n",
    "#plot astronomical night\n",
    "plt.fill_between(delta_midnight.to('hr').value, 0, 90,\n",
    "                 sunaltazs_May11_to_12.alt < -18*u.deg, color='k', zorder=0)\n",
    "plt.colorbar().set_label('Azimuth [deg]')\n",
    "plt.legend(loc='upper left')\n",
    "plt.xlim(-12, 12)\n",
    "plt.xticks(np.arange(13)*2 -12)\n",
    "plt.ylim(0, 90)\n",
    "plt.title('hd_163466 and sun during night 11 to 12 May 2016')\n",
    "plt.xlabel('Hours from MDT Midnight')\n",
    "plt.ylabel('Altitude [deg]')\n",
    "plt.show()\n"
   ]
  },
  {
   "cell_type": "code",
   "execution_count": null,
   "metadata": {
    "collapsed": true
   },
   "outputs": [],
   "source": []
  }
 ],
 "metadata": {
  "kernelspec": {
   "display_name": "Python 2",
   "language": "python",
   "name": "python2"
  },
  "language_info": {
   "codemirror_mode": {
    "name": "ipython",
    "version": 2
   },
   "file_extension": ".py",
   "mimetype": "text/x-python",
   "name": "python",
   "nbconvert_exporter": "python",
   "pygments_lexer": "ipython2",
   "version": "2.7.11"
  }
 },
 "nbformat": 4,
 "nbformat_minor": 0
}
