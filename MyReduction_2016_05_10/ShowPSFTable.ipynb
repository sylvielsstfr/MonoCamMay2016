{
 "cells": [
  {
   "cell_type": "markdown",
   "metadata": {},
   "source": [
    "# Read Astropy tables on PSF\n",
    "\n",
    "- creation June 30th 2016\n",
    "- author Sylvie Dagoret-Campagne\n",
    "- Update July 6th 2016\n"
   ]
  },
  {
   "cell_type": "code",
   "execution_count": 1,
   "metadata": {
    "collapsed": true
   },
   "outputs": [],
   "source": [
    "%matplotlib inline\n",
    "import matplotlib.pyplot as plt\n",
    "import numpy as np\n",
    "\n",
    "from astropy.modeling import models\n",
    "from astropy import units as u\n",
    "from astropy import nddata\n",
    "from astropy.io import fits\n",
    "\n",
    "from astropy.table import Table\n",
    "from astropy.table import Column\n",
    "\n",
    "import pandas as pd"
   ]
  },
  {
   "cell_type": "code",
   "execution_count": 2,
   "metadata": {
    "collapsed": true
   },
   "outputs": [],
   "source": [
    "intputtablefile1='HD158485_grat_1-13_TablePSF.fits'"
   ]
  },
  {
   "cell_type": "code",
   "execution_count": 3,
   "metadata": {
    "collapsed": false
   },
   "outputs": [],
   "source": [
    " t1 = Table.read(intputtablefile1)"
   ]
  },
  {
   "cell_type": "code",
   "execution_count": 4,
   "metadata": {
    "collapsed": false
   },
   "outputs": [
    {
     "data": {
      "text/html": [
       "&lt;Table length=13&gt;\n",
       "<table id=\"table4487189328\">\n",
       "<thead><tr><th>num</th><th>file</th><th>time</th><th>exposure</th><th>nbstars</th><th>prfx</th><th>pfry</th><th>sig_prfx</th><th>sig_prfy</th></tr></thead>\n",
       "<thead><tr><th>int32</th><th>str28</th><th>str23</th><th>float64</th><th>int32</th><th>float64</th><th>float64</th><th>float64</th><th>float64</th></tr></thead>\n",
       "<tr><td>0</td><td>AssScImHD158485_grat_1.fits</td><td>2016-05-11T05:58:59.852</td><td>1.5</td><td>32</td><td>4.59516684466</td><td>4.77633085449</td><td>0.669748518204</td><td>0.633033961784</td></tr>\n",
       "<tr><td>1</td><td>AssScImHD158485_grat_2.fits</td><td>2016-05-11T05:59:35.430</td><td>1.5</td><td>20</td><td>4.36764093337</td><td>4.27710462183</td><td>0.253070362051</td><td>0.480219677255</td></tr>\n",
       "<tr><td>2</td><td>AssScImHD158485_grat_3.fits</td><td>2016-05-11T06:00:39.034</td><td>1.5</td><td>21</td><td>3.11745978946</td><td>3.37662120697</td><td>0.141785922328</td><td>0.291356294233</td></tr>\n",
       "<tr><td>3</td><td>AssScImHD158485_grat_4.fits</td><td>2016-05-11T06:04:28.397</td><td>5.0</td><td>44</td><td>3.20254070405</td><td>3.54157179463</td><td>0.253742310559</td><td>0.732325225588</td></tr>\n",
       "<tr><td>4</td><td>AssScImHD158485_grat_5.fits</td><td>2016-05-11T06:04:37.465</td><td>5.0</td><td>40</td><td>3.3337821852</td><td>3.69825493689</td><td>0.197919263153</td><td>0.712456743168</td></tr>\n",
       "<tr><td>5</td><td>AssScImHD158485_grat_6.fits</td><td>2016-05-11T06:04:46.678</td><td>5.0</td><td>51</td><td>3.22342719729</td><td>3.57597468963</td><td>0.22727713948</td><td>0.784218480413</td></tr>\n",
       "<tr><td>6</td><td>AssScImHD158485_grat_7.fits</td><td>2016-05-11T06:04:55.971</td><td>5.0</td><td>43</td><td>3.06221826786</td><td>3.54834731387</td><td>0.274848952559</td><td>0.794321902288</td></tr>\n",
       "<tr><td>7</td><td>AssScImHD158485_grat_8.fits</td><td>2016-05-11T06:05:04.595</td><td>5.0</td><td>50</td><td>3.20182477857</td><td>3.46410505349</td><td>0.518441965741</td><td>0.916487419153</td></tr>\n",
       "<tr><td>8</td><td>AssScImHD158485_grat_9.fits</td><td>2016-05-11T06:05:58.173</td><td>0.5</td><td>7</td><td>3.12579168451</td><td>3.48152512138</td><td>0.106598705227</td><td>0.0555052401655</td></tr>\n",
       "<tr><td>9</td><td>AssScImHD158485_grat_10.fits</td><td>2016-05-11T06:06:02.576</td><td>0.5</td><td>8</td><td>2.91946061474</td><td>3.27675572088</td><td>0.170637596519</td><td>0.37481715011</td></tr>\n",
       "<tr><td>10</td><td>AssScImHD158485_grat_11.fits</td><td>2016-05-11T06:06:07.164</td><td>0.5</td><td>10</td><td>3.17959968334</td><td>3.61505521046</td><td>0.169835429364</td><td>0.645883423026</td></tr>\n",
       "<tr><td>11</td><td>AssScImHD158485_grat_12.fits</td><td>2016-05-11T06:06:11.881</td><td>0.5</td><td>11</td><td>3.37182871954</td><td>3.43140915995</td><td>0.344702920942</td><td>0.474760916874</td></tr>\n",
       "<tr><td>12</td><td>AssScImHD158485_grat_13.fits</td><td>2016-05-11T06:06:16.465</td><td>0.5</td><td>5</td><td>3.40233131705</td><td>3.74209776575</td><td>0.38790188701</td><td>0.187106531839</td></tr>\n",
       "</table>"
      ],
      "text/plain": [
       "<Table length=13>\n",
       " num              file             ...    sig_prfx        sig_prfy   \n",
       "int32            str28             ...    float64         float64    \n",
       "----- ---------------------------- ... -------------- ---------------\n",
       "    0  AssScImHD158485_grat_1.fits ... 0.669748518204  0.633033961784\n",
       "    1  AssScImHD158485_grat_2.fits ... 0.253070362051  0.480219677255\n",
       "    2  AssScImHD158485_grat_3.fits ... 0.141785922328  0.291356294233\n",
       "    3  AssScImHD158485_grat_4.fits ... 0.253742310559  0.732325225588\n",
       "    4  AssScImHD158485_grat_5.fits ... 0.197919263153  0.712456743168\n",
       "    5  AssScImHD158485_grat_6.fits ...  0.22727713948  0.784218480413\n",
       "    6  AssScImHD158485_grat_7.fits ... 0.274848952559  0.794321902288\n",
       "    7  AssScImHD158485_grat_8.fits ... 0.518441965741  0.916487419153\n",
       "    8  AssScImHD158485_grat_9.fits ... 0.106598705227 0.0555052401655\n",
       "    9 AssScImHD158485_grat_10.fits ... 0.170637596519   0.37481715011\n",
       "   10 AssScImHD158485_grat_11.fits ... 0.169835429364  0.645883423026\n",
       "   11 AssScImHD158485_grat_12.fits ... 0.344702920942  0.474760916874\n",
       "   12 AssScImHD158485_grat_13.fits ...  0.38790188701  0.187106531839"
      ]
     },
     "execution_count": 4,
     "metadata": {},
     "output_type": "execute_result"
    }
   ],
   "source": [
    "t1"
   ]
  },
  {
   "cell_type": "code",
   "execution_count": 5,
   "metadata": {
    "collapsed": false
   },
   "outputs": [],
   "source": [
    "df1=t1.to_pandas()"
   ]
  },
  {
   "cell_type": "code",
   "execution_count": 6,
   "metadata": {
    "collapsed": false
   },
   "outputs": [
    {
     "data": {
      "text/html": [
       "<div>\n",
       "<table border=\"1\" class=\"dataframe\">\n",
       "  <thead>\n",
       "    <tr style=\"text-align: right;\">\n",
       "      <th></th>\n",
       "      <th>num</th>\n",
       "      <th>exposure</th>\n",
       "      <th>nbstars</th>\n",
       "      <th>prfx</th>\n",
       "      <th>pfry</th>\n",
       "      <th>sig_prfx</th>\n",
       "      <th>sig_prfy</th>\n",
       "    </tr>\n",
       "  </thead>\n",
       "  <tbody>\n",
       "    <tr>\n",
       "      <th>count</th>\n",
       "      <td>13.00000</td>\n",
       "      <td>13.000000</td>\n",
       "      <td>13.000000</td>\n",
       "      <td>13.000000</td>\n",
       "      <td>13.000000</td>\n",
       "      <td>13.000000</td>\n",
       "      <td>13.000000</td>\n",
       "    </tr>\n",
       "    <tr>\n",
       "      <th>mean</th>\n",
       "      <td>6.00000</td>\n",
       "      <td>2.461538</td>\n",
       "      <td>26.307692</td>\n",
       "      <td>3.392544</td>\n",
       "      <td>3.677319</td>\n",
       "      <td>0.285885</td>\n",
       "      <td>0.544807</td>\n",
       "    </tr>\n",
       "    <tr>\n",
       "      <th>std</th>\n",
       "      <td>3.89444</td>\n",
       "      <td>2.125848</td>\n",
       "      <td>17.589697</td>\n",
       "      <td>0.502267</td>\n",
       "      <td>0.409934</td>\n",
       "      <td>0.160303</td>\n",
       "      <td>0.259578</td>\n",
       "    </tr>\n",
       "    <tr>\n",
       "      <th>min</th>\n",
       "      <td>0.00000</td>\n",
       "      <td>0.500000</td>\n",
       "      <td>5.000000</td>\n",
       "      <td>2.919461</td>\n",
       "      <td>3.276756</td>\n",
       "      <td>0.106599</td>\n",
       "      <td>0.055505</td>\n",
       "    </tr>\n",
       "    <tr>\n",
       "      <th>25%</th>\n",
       "      <td>3.00000</td>\n",
       "      <td>0.500000</td>\n",
       "      <td>10.000000</td>\n",
       "      <td>3.125792</td>\n",
       "      <td>3.464105</td>\n",
       "      <td>0.170638</td>\n",
       "      <td>0.374817</td>\n",
       "    </tr>\n",
       "    <tr>\n",
       "      <th>50%</th>\n",
       "      <td>6.00000</td>\n",
       "      <td>1.500000</td>\n",
       "      <td>21.000000</td>\n",
       "      <td>3.202541</td>\n",
       "      <td>3.548347</td>\n",
       "      <td>0.253070</td>\n",
       "      <td>0.633034</td>\n",
       "    </tr>\n",
       "    <tr>\n",
       "      <th>75%</th>\n",
       "      <td>9.00000</td>\n",
       "      <td>5.000000</td>\n",
       "      <td>43.000000</td>\n",
       "      <td>3.371829</td>\n",
       "      <td>3.698255</td>\n",
       "      <td>0.344703</td>\n",
       "      <td>0.732325</td>\n",
       "    </tr>\n",
       "    <tr>\n",
       "      <th>max</th>\n",
       "      <td>12.00000</td>\n",
       "      <td>5.000000</td>\n",
       "      <td>51.000000</td>\n",
       "      <td>4.595167</td>\n",
       "      <td>4.776331</td>\n",
       "      <td>0.669749</td>\n",
       "      <td>0.916487</td>\n",
       "    </tr>\n",
       "  </tbody>\n",
       "</table>\n",
       "</div>"
      ],
      "text/plain": [
       "            num   exposure    nbstars       prfx       pfry   sig_prfx  \\\n",
       "count  13.00000  13.000000  13.000000  13.000000  13.000000  13.000000   \n",
       "mean    6.00000   2.461538  26.307692   3.392544   3.677319   0.285885   \n",
       "std     3.89444   2.125848  17.589697   0.502267   0.409934   0.160303   \n",
       "min     0.00000   0.500000   5.000000   2.919461   3.276756   0.106599   \n",
       "25%     3.00000   0.500000  10.000000   3.125792   3.464105   0.170638   \n",
       "50%     6.00000   1.500000  21.000000   3.202541   3.548347   0.253070   \n",
       "75%     9.00000   5.000000  43.000000   3.371829   3.698255   0.344703   \n",
       "max    12.00000   5.000000  51.000000   4.595167   4.776331   0.669749   \n",
       "\n",
       "        sig_prfy  \n",
       "count  13.000000  \n",
       "mean    0.544807  \n",
       "std     0.259578  \n",
       "min     0.055505  \n",
       "25%     0.374817  \n",
       "50%     0.633034  \n",
       "75%     0.732325  \n",
       "max     0.916487  "
      ]
     },
     "execution_count": 6,
     "metadata": {},
     "output_type": "execute_result"
    }
   ],
   "source": [
    "df1.describe() # pandas able to show statistics"
   ]
  },
  {
   "cell_type": "code",
   "execution_count": 7,
   "metadata": {
    "collapsed": false
   },
   "outputs": [
    {
     "data": {
      "text/plain": [
       "<matplotlib.figure.Figure at 0x106e8bb10>"
      ]
     },
     "metadata": {},
     "output_type": "display_data"
    },
    {
     "data": {
      "image/png": "[encoded data removed]",
      "text/plain": [
       "<matplotlib.figure.Figure at 0x10b7515d0>"
      ]
     },
     "metadata": {},
     "output_type": "display_data"
    }
   ],
   "source": [
    "plt.figure(figsize=(10,6))\n",
    "df1_2=df1[['num', 'prfx','pfry']]\n",
    "df1_2.plot('num',['prfx','pfry'],ylim=(0.,5.),figsize=(10,5))\n",
    "plt.legend(loc='upper right')\n",
    "plt.show()"
   ]
  },
  {
   "cell_type": "code",
   "execution_count": 8,
   "metadata": {
    "collapsed": true
   },
   "outputs": [],
   "source": [
    "df1_no_missing = df1.dropna()"
   ]
  },
  {
   "cell_type": "code",
   "execution_count": 9,
   "metadata": {
    "collapsed": false
   },
   "outputs": [
    {
     "data": {
      "text/html": [
       "<div>\n",
       "<table border=\"1\" class=\"dataframe\">\n",
       "  <thead>\n",
       "    <tr style=\"text-align: right;\">\n",
       "      <th></th>\n",
       "      <th>num</th>\n",
       "      <th>exposure</th>\n",
       "      <th>nbstars</th>\n",
       "      <th>prfx</th>\n",
       "      <th>pfry</th>\n",
       "      <th>sig_prfx</th>\n",
       "      <th>sig_prfy</th>\n",
       "    </tr>\n",
       "  </thead>\n",
       "  <tbody>\n",
       "    <tr>\n",
       "      <th>count</th>\n",
       "      <td>13.00000</td>\n",
       "      <td>13.000000</td>\n",
       "      <td>13.000000</td>\n",
       "      <td>13.000000</td>\n",
       "      <td>13.000000</td>\n",
       "      <td>13.000000</td>\n",
       "      <td>13.000000</td>\n",
       "    </tr>\n",
       "    <tr>\n",
       "      <th>mean</th>\n",
       "      <td>6.00000</td>\n",
       "      <td>2.461538</td>\n",
       "      <td>26.307692</td>\n",
       "      <td>3.392544</td>\n",
       "      <td>3.677319</td>\n",
       "      <td>0.285885</td>\n",
       "      <td>0.544807</td>\n",
       "    </tr>\n",
       "    <tr>\n",
       "      <th>std</th>\n",
       "      <td>3.89444</td>\n",
       "      <td>2.125848</td>\n",
       "      <td>17.589697</td>\n",
       "      <td>0.502267</td>\n",
       "      <td>0.409934</td>\n",
       "      <td>0.160303</td>\n",
       "      <td>0.259578</td>\n",
       "    </tr>\n",
       "    <tr>\n",
       "      <th>min</th>\n",
       "      <td>0.00000</td>\n",
       "      <td>0.500000</td>\n",
       "      <td>5.000000</td>\n",
       "      <td>2.919461</td>\n",
       "      <td>3.276756</td>\n",
       "      <td>0.106599</td>\n",
       "      <td>0.055505</td>\n",
       "    </tr>\n",
       "    <tr>\n",
       "      <th>25%</th>\n",
       "      <td>3.00000</td>\n",
       "      <td>0.500000</td>\n",
       "      <td>10.000000</td>\n",
       "      <td>3.125792</td>\n",
       "      <td>3.464105</td>\n",
       "      <td>0.170638</td>\n",
       "      <td>0.374817</td>\n",
       "    </tr>\n",
       "    <tr>\n",
       "      <th>50%</th>\n",
       "      <td>6.00000</td>\n",
       "      <td>1.500000</td>\n",
       "      <td>21.000000</td>\n",
       "      <td>3.202541</td>\n",
       "      <td>3.548347</td>\n",
       "      <td>0.253070</td>\n",
       "      <td>0.633034</td>\n",
       "    </tr>\n",
       "    <tr>\n",
       "      <th>75%</th>\n",
       "      <td>9.00000</td>\n",
       "      <td>5.000000</td>\n",
       "      <td>43.000000</td>\n",
       "      <td>3.371829</td>\n",
       "      <td>3.698255</td>\n",
       "      <td>0.344703</td>\n",
       "      <td>0.732325</td>\n",
       "    </tr>\n",
       "    <tr>\n",
       "      <th>max</th>\n",
       "      <td>12.00000</td>\n",
       "      <td>5.000000</td>\n",
       "      <td>51.000000</td>\n",
       "      <td>4.595167</td>\n",
       "      <td>4.776331</td>\n",
       "      <td>0.669749</td>\n",
       "      <td>0.916487</td>\n",
       "    </tr>\n",
       "  </tbody>\n",
       "</table>\n",
       "</div>"
      ],
      "text/plain": [
       "            num   exposure    nbstars       prfx       pfry   sig_prfx  \\\n",
       "count  13.00000  13.000000  13.000000  13.000000  13.000000  13.000000   \n",
       "mean    6.00000   2.461538  26.307692   3.392544   3.677319   0.285885   \n",
       "std     3.89444   2.125848  17.589697   0.502267   0.409934   0.160303   \n",
       "min     0.00000   0.500000   5.000000   2.919461   3.276756   0.106599   \n",
       "25%     3.00000   0.500000  10.000000   3.125792   3.464105   0.170638   \n",
       "50%     6.00000   1.500000  21.000000   3.202541   3.548347   0.253070   \n",
       "75%     9.00000   5.000000  43.000000   3.371829   3.698255   0.344703   \n",
       "max    12.00000   5.000000  51.000000   4.595167   4.776331   0.669749   \n",
       "\n",
       "        sig_prfy  \n",
       "count  13.000000  \n",
       "mean    0.544807  \n",
       "std     0.259578  \n",
       "min     0.055505  \n",
       "25%     0.374817  \n",
       "50%     0.633034  \n",
       "75%     0.732325  \n",
       "max     0.916487  "
      ]
     },
     "execution_count": 9,
     "metadata": {},
     "output_type": "execute_result"
    }
   ],
   "source": [
    "df1_no_missing.describe()"
   ]
  },
  {
   "cell_type": "code",
   "execution_count": null,
   "metadata": {
    "collapsed": false
   },
   "outputs": [],
   "source": []
  },
  {
   "cell_type": "markdown",
   "metadata": {},
   "source": [
    "## Now use the number in the filename to overwrite the num"
   ]
  },
  {
   "cell_type": "code",
   "execution_count": 10,
   "metadata": {
    "collapsed": true
   },
   "outputs": [],
   "source": [
    "import re  # use regular expression to extract the file number"
   ]
  },
  {
   "cell_type": "code",
   "execution_count": 11,
   "metadata": {
    "collapsed": true
   },
   "outputs": [],
   "source": [
    "filenames_df1=df1['file']"
   ]
  },
  {
   "cell_type": "code",
   "execution_count": 12,
   "metadata": {
    "collapsed": false
   },
   "outputs": [],
   "source": [
    "NB_OF_FILES_df1=len(filenames_df1)"
   ]
  },
  {
   "cell_type": "code",
   "execution_count": 13,
   "metadata": {
    "collapsed": false
   },
   "outputs": [],
   "source": [
    "filenumber_df1=np.zeros(NB_OF_FILES_df1,dtype='i4')"
   ]
  },
  {
   "cell_type": "code",
   "execution_count": 14,
   "metadata": {
    "collapsed": false
   },
   "outputs": [],
   "source": [
    "for id,file in enumerate(filenames_df1):\n",
    "    filenumber_df1[id]=int( re.findall('^AssScImHD158485_grat_([0-9]+)',file)[0])"
   ]
  },
  {
   "cell_type": "code",
   "execution_count": 15,
   "metadata": {
    "collapsed": false
   },
   "outputs": [
    {
     "data": {
      "text/plain": [
       "array([ 1,  2,  3,  4,  5,  6,  7,  8,  9, 10, 11, 12, 13], dtype=int32)"
      ]
     },
     "execution_count": 15,
     "metadata": {},
     "output_type": "execute_result"
    }
   ],
   "source": [
    "filenumber_df1"
   ]
  },
  {
   "cell_type": "code",
   "execution_count": 16,
   "metadata": {
    "collapsed": true
   },
   "outputs": [],
   "source": [
    "df1_3=df1"
   ]
  },
  {
   "cell_type": "code",
   "execution_count": 17,
   "metadata": {
    "collapsed": true
   },
   "outputs": [],
   "source": [
    "df1_3['num']=filenumber_df1"
   ]
  },
  {
   "cell_type": "code",
   "execution_count": 18,
   "metadata": {
    "collapsed": false
   },
   "outputs": [
    {
     "data": {
      "text/html": [
       "<div>\n",
       "<table border=\"1\" class=\"dataframe\">\n",
       "  <thead>\n",
       "    <tr style=\"text-align: right;\">\n",
       "      <th></th>\n",
       "      <th>num</th>\n",
       "      <th>file</th>\n",
       "      <th>time</th>\n",
       "      <th>exposure</th>\n",
       "      <th>nbstars</th>\n",
       "      <th>prfx</th>\n",
       "      <th>pfry</th>\n",
       "      <th>sig_prfx</th>\n",
       "      <th>sig_prfy</th>\n",
       "    </tr>\n",
       "  </thead>\n",
       "  <tbody>\n",
       "    <tr>\n",
       "      <th>0</th>\n",
       "      <td>1</td>\n",
       "      <td>AssScImHD158485_grat_1.fits</td>\n",
       "      <td>2016-05-11T05:58:59.852</td>\n",
       "      <td>1.5</td>\n",
       "      <td>32</td>\n",
       "      <td>4.595167</td>\n",
       "      <td>4.776331</td>\n",
       "      <td>0.669749</td>\n",
       "      <td>0.633034</td>\n",
       "    </tr>\n",
       "    <tr>\n",
       "      <th>1</th>\n",
       "      <td>2</td>\n",
       "      <td>AssScImHD158485_grat_2.fits</td>\n",
       "      <td>2016-05-11T05:59:35.430</td>\n",
       "      <td>1.5</td>\n",
       "      <td>20</td>\n",
       "      <td>4.367641</td>\n",
       "      <td>4.277105</td>\n",
       "      <td>0.253070</td>\n",
       "      <td>0.480220</td>\n",
       "    </tr>\n",
       "    <tr>\n",
       "      <th>2</th>\n",
       "      <td>3</td>\n",
       "      <td>AssScImHD158485_grat_3.fits</td>\n",
       "      <td>2016-05-11T06:00:39.034</td>\n",
       "      <td>1.5</td>\n",
       "      <td>21</td>\n",
       "      <td>3.117460</td>\n",
       "      <td>3.376621</td>\n",
       "      <td>0.141786</td>\n",
       "      <td>0.291356</td>\n",
       "    </tr>\n",
       "    <tr>\n",
       "      <th>3</th>\n",
       "      <td>4</td>\n",
       "      <td>AssScImHD158485_grat_4.fits</td>\n",
       "      <td>2016-05-11T06:04:28.397</td>\n",
       "      <td>5.0</td>\n",
       "      <td>44</td>\n",
       "      <td>3.202541</td>\n",
       "      <td>3.541572</td>\n",
       "      <td>0.253742</td>\n",
       "      <td>0.732325</td>\n",
       "    </tr>\n",
       "    <tr>\n",
       "      <th>4</th>\n",
       "      <td>5</td>\n",
       "      <td>AssScImHD158485_grat_5.fits</td>\n",
       "      <td>2016-05-11T06:04:37.465</td>\n",
       "      <td>5.0</td>\n",
       "      <td>40</td>\n",
       "      <td>3.333782</td>\n",
       "      <td>3.698255</td>\n",
       "      <td>0.197919</td>\n",
       "      <td>0.712457</td>\n",
       "    </tr>\n",
       "    <tr>\n",
       "      <th>5</th>\n",
       "      <td>6</td>\n",
       "      <td>AssScImHD158485_grat_6.fits</td>\n",
       "      <td>2016-05-11T06:04:46.678</td>\n",
       "      <td>5.0</td>\n",
       "      <td>51</td>\n",
       "      <td>3.223427</td>\n",
       "      <td>3.575975</td>\n",
       "      <td>0.227277</td>\n",
       "      <td>0.784218</td>\n",
       "    </tr>\n",
       "    <tr>\n",
       "      <th>6</th>\n",
       "      <td>7</td>\n",
       "      <td>AssScImHD158485_grat_7.fits</td>\n",
       "      <td>2016-05-11T06:04:55.971</td>\n",
       "      <td>5.0</td>\n",
       "      <td>43</td>\n",
       "      <td>3.062218</td>\n",
       "      <td>3.548347</td>\n",
       "      <td>0.274849</td>\n",
       "      <td>0.794322</td>\n",
       "    </tr>\n",
       "    <tr>\n",
       "      <th>7</th>\n",
       "      <td>8</td>\n",
       "      <td>AssScImHD158485_grat_8.fits</td>\n",
       "      <td>2016-05-11T06:05:04.595</td>\n",
       "      <td>5.0</td>\n",
       "      <td>50</td>\n",
       "      <td>3.201825</td>\n",
       "      <td>3.464105</td>\n",
       "      <td>0.518442</td>\n",
       "      <td>0.916487</td>\n",
       "    </tr>\n",
       "    <tr>\n",
       "      <th>8</th>\n",
       "      <td>9</td>\n",
       "      <td>AssScImHD158485_grat_9.fits</td>\n",
       "      <td>2016-05-11T06:05:58.173</td>\n",
       "      <td>0.5</td>\n",
       "      <td>7</td>\n",
       "      <td>3.125792</td>\n",
       "      <td>3.481525</td>\n",
       "      <td>0.106599</td>\n",
       "      <td>0.055505</td>\n",
       "    </tr>\n",
       "    <tr>\n",
       "      <th>9</th>\n",
       "      <td>10</td>\n",
       "      <td>AssScImHD158485_grat_10.fits</td>\n",
       "      <td>2016-05-11T06:06:02.576</td>\n",
       "      <td>0.5</td>\n",
       "      <td>8</td>\n",
       "      <td>2.919461</td>\n",
       "      <td>3.276756</td>\n",
       "      <td>0.170638</td>\n",
       "      <td>0.374817</td>\n",
       "    </tr>\n",
       "    <tr>\n",
       "      <th>10</th>\n",
       "      <td>11</td>\n",
       "      <td>AssScImHD158485_grat_11.fits</td>\n",
       "      <td>2016-05-11T06:06:07.164</td>\n",
       "      <td>0.5</td>\n",
       "      <td>10</td>\n",
       "      <td>3.179600</td>\n",
       "      <td>3.615055</td>\n",
       "      <td>0.169835</td>\n",
       "      <td>0.645883</td>\n",
       "    </tr>\n",
       "    <tr>\n",
       "      <th>11</th>\n",
       "      <td>12</td>\n",
       "      <td>AssScImHD158485_grat_12.fits</td>\n",
       "      <td>2016-05-11T06:06:11.881</td>\n",
       "      <td>0.5</td>\n",
       "      <td>11</td>\n",
       "      <td>3.371829</td>\n",
       "      <td>3.431409</td>\n",
       "      <td>0.344703</td>\n",
       "      <td>0.474761</td>\n",
       "    </tr>\n",
       "    <tr>\n",
       "      <th>12</th>\n",
       "      <td>13</td>\n",
       "      <td>AssScImHD158485_grat_13.fits</td>\n",
       "      <td>2016-05-11T06:06:16.465</td>\n",
       "      <td>0.5</td>\n",
       "      <td>5</td>\n",
       "      <td>3.402331</td>\n",
       "      <td>3.742098</td>\n",
       "      <td>0.387902</td>\n",
       "      <td>0.187107</td>\n",
       "    </tr>\n",
       "  </tbody>\n",
       "</table>\n",
       "</div>"
      ],
      "text/plain": [
       "    num                          file                     time  exposure  \\\n",
       "0     1   AssScImHD158485_grat_1.fits  2016-05-11T05:58:59.852       1.5   \n",
       "1     2   AssScImHD158485_grat_2.fits  2016-05-11T05:59:35.430       1.5   \n",
       "2     3   AssScImHD158485_grat_3.fits  2016-05-11T06:00:39.034       1.5   \n",
       "3     4   AssScImHD158485_grat_4.fits  2016-05-11T06:04:28.397       5.0   \n",
       "4     5   AssScImHD158485_grat_5.fits  2016-05-11T06:04:37.465       5.0   \n",
       "5     6   AssScImHD158485_grat_6.fits  2016-05-11T06:04:46.678       5.0   \n",
       "6     7   AssScImHD158485_grat_7.fits  2016-05-11T06:04:55.971       5.0   \n",
       "7     8   AssScImHD158485_grat_8.fits  2016-05-11T06:05:04.595       5.0   \n",
       "8     9   AssScImHD158485_grat_9.fits  2016-05-11T06:05:58.173       0.5   \n",
       "9    10  AssScImHD158485_grat_10.fits  2016-05-11T06:06:02.576       0.5   \n",
       "10   11  AssScImHD158485_grat_11.fits  2016-05-11T06:06:07.164       0.5   \n",
       "11   12  AssScImHD158485_grat_12.fits  2016-05-11T06:06:11.881       0.5   \n",
       "12   13  AssScImHD158485_grat_13.fits  2016-05-11T06:06:16.465       0.5   \n",
       "\n",
       "    nbstars      prfx      pfry  sig_prfx  sig_prfy  \n",
       "0        32  4.595167  4.776331  0.669749  0.633034  \n",
       "1        20  4.367641  4.277105  0.253070  0.480220  \n",
       "2        21  3.117460  3.376621  0.141786  0.291356  \n",
       "3        44  3.202541  3.541572  0.253742  0.732325  \n",
       "4        40  3.333782  3.698255  0.197919  0.712457  \n",
       "5        51  3.223427  3.575975  0.227277  0.784218  \n",
       "6        43  3.062218  3.548347  0.274849  0.794322  \n",
       "7        50  3.201825  3.464105  0.518442  0.916487  \n",
       "8         7  3.125792  3.481525  0.106599  0.055505  \n",
       "9         8  2.919461  3.276756  0.170638  0.374817  \n",
       "10       10  3.179600  3.615055  0.169835  0.645883  \n",
       "11       11  3.371829  3.431409  0.344703  0.474761  \n",
       "12        5  3.402331  3.742098  0.387902  0.187107  "
      ]
     },
     "execution_count": 18,
     "metadata": {},
     "output_type": "execute_result"
    }
   ],
   "source": [
    "df1_3"
   ]
  },
  {
   "cell_type": "code",
   "execution_count": 19,
   "metadata": {
    "collapsed": true
   },
   "outputs": [],
   "source": [
    "full_dataset=df1_3"
   ]
  },
  {
   "cell_type": "code",
   "execution_count": 20,
   "metadata": {
    "collapsed": false
   },
   "outputs": [
    {
     "data": {
      "text/plain": [
       "<matplotlib.figure.Figure at 0x10b906b10>"
      ]
     },
     "metadata": {},
     "output_type": "display_data"
    },
    {
     "data": {
      "image/png": "[encoded data removed]",
      "text/plain": [
       "<matplotlib.figure.Figure at 0x10b91e2d0>"
      ]
     },
     "metadata": {},
     "output_type": "display_data"
    }
   ],
   "source": [
    "fig = plt.figure()\n",
    "full_dataset_2=full_dataset[['num', 'prfx','pfry']]\n",
    "ax=full_dataset_2.plot('num',['prfx','pfry'],lw=2,colormap='jet',marker='.',markersize=10,title='PSF in X and Y axis MONOCAM (2016/05/11) for HD158485_grat',ylim=(0.,6.),figsize=(15,5))\n",
    "ax.set_xlabel(\"image number\",fontsize=18)\n",
    "ax.set_ylabel(\" $\\sigma_x$ and $\\sigma_y$ in pixels\",fontsize=18)\n",
    "title='PSF in X and Y axis MONOCAM (2016/05/09) for HD158485_grat'\n",
    "fig.suptitle(title, fontsize=20)\n",
    "plt.legend(loc='upper right')\n",
    "\n",
    "fig.savefig('PRFXY_HD158485_grat_20160510.jpg')\n",
    "plt.show()  # pandas able to remove NaN\n",
    "\n"
   ]
  },
  {
   "cell_type": "code",
   "execution_count": null,
   "metadata": {
    "collapsed": false
   },
   "outputs": [],
   "source": []
  },
  {
   "cell_type": "code",
   "execution_count": 21,
   "metadata": {
    "collapsed": true
   },
   "outputs": [],
   "source": [
    "PixToArcsec=0.944"
   ]
  },
  {
   "cell_type": "code",
   "execution_count": 22,
   "metadata": {
    "collapsed": false
   },
   "outputs": [],
   "source": [
    "sigmax=full_dataset['prfx']*PixToArcsec"
   ]
  },
  {
   "cell_type": "code",
   "execution_count": 23,
   "metadata": {
    "collapsed": true
   },
   "outputs": [],
   "source": [
    "series_sigmax=pd.Series(sigmax)"
   ]
  },
  {
   "cell_type": "code",
   "execution_count": null,
   "metadata": {
    "collapsed": false
   },
   "outputs": [],
   "source": []
  },
  {
   "cell_type": "code",
   "execution_count": 24,
   "metadata": {
    "collapsed": true
   },
   "outputs": [],
   "source": [
    "sigmay=full_dataset['pfry']*PixToArcsec"
   ]
  },
  {
   "cell_type": "code",
   "execution_count": 25,
   "metadata": {
    "collapsed": true
   },
   "outputs": [],
   "source": [
    "series_sigmay=pd.Series(sigmay)"
   ]
  },
  {
   "cell_type": "code",
   "execution_count": 26,
   "metadata": {
    "collapsed": false
   },
   "outputs": [
    {
     "data": {
      "text/html": [
       "<div>\n",
       "<table border=\"1\" class=\"dataframe\">\n",
       "  <thead>\n",
       "    <tr style=\"text-align: right;\">\n",
       "      <th></th>\n",
       "      <th>num</th>\n",
       "      <th>file</th>\n",
       "      <th>time</th>\n",
       "      <th>exposure</th>\n",
       "      <th>nbstars</th>\n",
       "      <th>prfx</th>\n",
       "      <th>pfry</th>\n",
       "      <th>sig_prfx</th>\n",
       "      <th>sig_prfy</th>\n",
       "    </tr>\n",
       "  </thead>\n",
       "  <tbody>\n",
       "    <tr>\n",
       "      <th>0</th>\n",
       "      <td>1</td>\n",
       "      <td>AssScImHD158485_grat_1.fits</td>\n",
       "      <td>2016-05-11T05:58:59.852</td>\n",
       "      <td>1.5</td>\n",
       "      <td>32</td>\n",
       "      <td>4.595167</td>\n",
       "      <td>4.776331</td>\n",
       "      <td>0.669749</td>\n",
       "      <td>0.633034</td>\n",
       "    </tr>\n",
       "    <tr>\n",
       "      <th>1</th>\n",
       "      <td>2</td>\n",
       "      <td>AssScImHD158485_grat_2.fits</td>\n",
       "      <td>2016-05-11T05:59:35.430</td>\n",
       "      <td>1.5</td>\n",
       "      <td>20</td>\n",
       "      <td>4.367641</td>\n",
       "      <td>4.277105</td>\n",
       "      <td>0.253070</td>\n",
       "      <td>0.480220</td>\n",
       "    </tr>\n",
       "    <tr>\n",
       "      <th>2</th>\n",
       "      <td>3</td>\n",
       "      <td>AssScImHD158485_grat_3.fits</td>\n",
       "      <td>2016-05-11T06:00:39.034</td>\n",
       "      <td>1.5</td>\n",
       "      <td>21</td>\n",
       "      <td>3.117460</td>\n",
       "      <td>3.376621</td>\n",
       "      <td>0.141786</td>\n",
       "      <td>0.291356</td>\n",
       "    </tr>\n",
       "    <tr>\n",
       "      <th>3</th>\n",
       "      <td>4</td>\n",
       "      <td>AssScImHD158485_grat_4.fits</td>\n",
       "      <td>2016-05-11T06:04:28.397</td>\n",
       "      <td>5.0</td>\n",
       "      <td>44</td>\n",
       "      <td>3.202541</td>\n",
       "      <td>3.541572</td>\n",
       "      <td>0.253742</td>\n",
       "      <td>0.732325</td>\n",
       "    </tr>\n",
       "    <tr>\n",
       "      <th>4</th>\n",
       "      <td>5</td>\n",
       "      <td>AssScImHD158485_grat_5.fits</td>\n",
       "      <td>2016-05-11T06:04:37.465</td>\n",
       "      <td>5.0</td>\n",
       "      <td>40</td>\n",
       "      <td>3.333782</td>\n",
       "      <td>3.698255</td>\n",
       "      <td>0.197919</td>\n",
       "      <td>0.712457</td>\n",
       "    </tr>\n",
       "    <tr>\n",
       "      <th>5</th>\n",
       "      <td>6</td>\n",
       "      <td>AssScImHD158485_grat_6.fits</td>\n",
       "      <td>2016-05-11T06:04:46.678</td>\n",
       "      <td>5.0</td>\n",
       "      <td>51</td>\n",
       "      <td>3.223427</td>\n",
       "      <td>3.575975</td>\n",
       "      <td>0.227277</td>\n",
       "      <td>0.784218</td>\n",
       "    </tr>\n",
       "    <tr>\n",
       "      <th>6</th>\n",
       "      <td>7</td>\n",
       "      <td>AssScImHD158485_grat_7.fits</td>\n",
       "      <td>2016-05-11T06:04:55.971</td>\n",
       "      <td>5.0</td>\n",
       "      <td>43</td>\n",
       "      <td>3.062218</td>\n",
       "      <td>3.548347</td>\n",
       "      <td>0.274849</td>\n",
       "      <td>0.794322</td>\n",
       "    </tr>\n",
       "    <tr>\n",
       "      <th>7</th>\n",
       "      <td>8</td>\n",
       "      <td>AssScImHD158485_grat_8.fits</td>\n",
       "      <td>2016-05-11T06:05:04.595</td>\n",
       "      <td>5.0</td>\n",
       "      <td>50</td>\n",
       "      <td>3.201825</td>\n",
       "      <td>3.464105</td>\n",
       "      <td>0.518442</td>\n",
       "      <td>0.916487</td>\n",
       "    </tr>\n",
       "    <tr>\n",
       "      <th>8</th>\n",
       "      <td>9</td>\n",
       "      <td>AssScImHD158485_grat_9.fits</td>\n",
       "      <td>2016-05-11T06:05:58.173</td>\n",
       "      <td>0.5</td>\n",
       "      <td>7</td>\n",
       "      <td>3.125792</td>\n",
       "      <td>3.481525</td>\n",
       "      <td>0.106599</td>\n",
       "      <td>0.055505</td>\n",
       "    </tr>\n",
       "    <tr>\n",
       "      <th>9</th>\n",
       "      <td>10</td>\n",
       "      <td>AssScImHD158485_grat_10.fits</td>\n",
       "      <td>2016-05-11T06:06:02.576</td>\n",
       "      <td>0.5</td>\n",
       "      <td>8</td>\n",
       "      <td>2.919461</td>\n",
       "      <td>3.276756</td>\n",
       "      <td>0.170638</td>\n",
       "      <td>0.374817</td>\n",
       "    </tr>\n",
       "    <tr>\n",
       "      <th>10</th>\n",
       "      <td>11</td>\n",
       "      <td>AssScImHD158485_grat_11.fits</td>\n",
       "      <td>2016-05-11T06:06:07.164</td>\n",
       "      <td>0.5</td>\n",
       "      <td>10</td>\n",
       "      <td>3.179600</td>\n",
       "      <td>3.615055</td>\n",
       "      <td>0.169835</td>\n",
       "      <td>0.645883</td>\n",
       "    </tr>\n",
       "    <tr>\n",
       "      <th>11</th>\n",
       "      <td>12</td>\n",
       "      <td>AssScImHD158485_grat_12.fits</td>\n",
       "      <td>2016-05-11T06:06:11.881</td>\n",
       "      <td>0.5</td>\n",
       "      <td>11</td>\n",
       "      <td>3.371829</td>\n",
       "      <td>3.431409</td>\n",
       "      <td>0.344703</td>\n",
       "      <td>0.474761</td>\n",
       "    </tr>\n",
       "    <tr>\n",
       "      <th>12</th>\n",
       "      <td>13</td>\n",
       "      <td>AssScImHD158485_grat_13.fits</td>\n",
       "      <td>2016-05-11T06:06:16.465</td>\n",
       "      <td>0.5</td>\n",
       "      <td>5</td>\n",
       "      <td>3.402331</td>\n",
       "      <td>3.742098</td>\n",
       "      <td>0.387902</td>\n",
       "      <td>0.187107</td>\n",
       "    </tr>\n",
       "  </tbody>\n",
       "</table>\n",
       "</div>"
      ],
      "text/plain": [
       "    num                          file                     time  exposure  \\\n",
       "0     1   AssScImHD158485_grat_1.fits  2016-05-11T05:58:59.852       1.5   \n",
       "1     2   AssScImHD158485_grat_2.fits  2016-05-11T05:59:35.430       1.5   \n",
       "2     3   AssScImHD158485_grat_3.fits  2016-05-11T06:00:39.034       1.5   \n",
       "3     4   AssScImHD158485_grat_4.fits  2016-05-11T06:04:28.397       5.0   \n",
       "4     5   AssScImHD158485_grat_5.fits  2016-05-11T06:04:37.465       5.0   \n",
       "5     6   AssScImHD158485_grat_6.fits  2016-05-11T06:04:46.678       5.0   \n",
       "6     7   AssScImHD158485_grat_7.fits  2016-05-11T06:04:55.971       5.0   \n",
       "7     8   AssScImHD158485_grat_8.fits  2016-05-11T06:05:04.595       5.0   \n",
       "8     9   AssScImHD158485_grat_9.fits  2016-05-11T06:05:58.173       0.5   \n",
       "9    10  AssScImHD158485_grat_10.fits  2016-05-11T06:06:02.576       0.5   \n",
       "10   11  AssScImHD158485_grat_11.fits  2016-05-11T06:06:07.164       0.5   \n",
       "11   12  AssScImHD158485_grat_12.fits  2016-05-11T06:06:11.881       0.5   \n",
       "12   13  AssScImHD158485_grat_13.fits  2016-05-11T06:06:16.465       0.5   \n",
       "\n",
       "    nbstars      prfx      pfry  sig_prfx  sig_prfy  \n",
       "0        32  4.595167  4.776331  0.669749  0.633034  \n",
       "1        20  4.367641  4.277105  0.253070  0.480220  \n",
       "2        21  3.117460  3.376621  0.141786  0.291356  \n",
       "3        44  3.202541  3.541572  0.253742  0.732325  \n",
       "4        40  3.333782  3.698255  0.197919  0.712457  \n",
       "5        51  3.223427  3.575975  0.227277  0.784218  \n",
       "6        43  3.062218  3.548347  0.274849  0.794322  \n",
       "7        50  3.201825  3.464105  0.518442  0.916487  \n",
       "8         7  3.125792  3.481525  0.106599  0.055505  \n",
       "9         8  2.919461  3.276756  0.170638  0.374817  \n",
       "10       10  3.179600  3.615055  0.169835  0.645883  \n",
       "11       11  3.371829  3.431409  0.344703  0.474761  \n",
       "12        5  3.402331  3.742098  0.387902  0.187107  "
      ]
     },
     "execution_count": 26,
     "metadata": {},
     "output_type": "execute_result"
    }
   ],
   "source": [
    "full_dataset"
   ]
  },
  {
   "cell_type": "markdown",
   "metadata": {},
   "source": [
    "### simply add series as columns in the dataset"
   ]
  },
  {
   "cell_type": "code",
   "execution_count": 27,
   "metadata": {
    "collapsed": false
   },
   "outputs": [],
   "source": [
    "full_dataset['sigmax'] = series_sigmax"
   ]
  },
  {
   "cell_type": "code",
   "execution_count": 28,
   "metadata": {
    "collapsed": true
   },
   "outputs": [],
   "source": [
    "full_dataset['sigmay'] = series_sigmay"
   ]
  },
  {
   "cell_type": "code",
   "execution_count": 29,
   "metadata": {
    "collapsed": false
   },
   "outputs": [
    {
     "data": {
      "text/plain": [
       "<matplotlib.figure.Figure at 0x10bd46690>"
      ]
     },
     "metadata": {},
     "output_type": "display_data"
    },
    {
     "data": {
      "image/png": "[encoded data removed]",
      "text/plain": [
       "<matplotlib.figure.Figure at 0x10b8d4d90>"
      ]
     },
     "metadata": {},
     "output_type": "display_data"
    }
   ],
   "source": [
    "fig = plt.figure()\n",
    "full_dataset_3=full_dataset[['num', 'sigmax','sigmay']]\n",
    "ax=full_dataset_3.plot('num',['sigmax','sigmay'],lw=2,colormap='jet',marker='.',markersize=10,title='PSF in X and Y axis MONOCAM (2016/05/11) for HD158485_grat',ylim=(0.,6.),figsize=(15,5))\n",
    "ax.set_xlabel(\"image number\",fontsize=18)\n",
    "ax.set_ylabel(\" $\\sigma_x$ and $\\sigma_y$ in arcsecond\",fontsize=18)\n",
    "title='PSF in X and Y axis MONOCAM (2016/05/10) for HD158485_grat'\n",
    "fig.suptitle(title, fontsize=20)\n",
    "plt.legend(loc='upper right')\n",
    "plt.show()  # pandas able to remove NaN\n",
    "fig.savefig('PSFXY_HD158485_grat_20160510.jpg')"
   ]
  },
  {
   "cell_type": "code",
   "execution_count": 30,
   "metadata": {
    "collapsed": false
   },
   "outputs": [],
   "source": [
    "output_table=Table.from_pandas(full_dataset)"
   ]
  },
  {
   "cell_type": "code",
   "execution_count": 31,
   "metadata": {
    "collapsed": false
   },
   "outputs": [
    {
     "data": {
      "text/html": [
       "&lt;Table length=13&gt;\n",
       "<table id=\"table4488465616\">\n",
       "<thead><tr><th>num</th><th>file</th><th>time</th><th>exposure</th><th>nbstars</th><th>prfx</th><th>pfry</th><th>sig_prfx</th><th>sig_prfy</th><th>sigmax</th><th>sigmay</th></tr></thead>\n",
       "<thead><tr><th>int32</th><th>str28</th><th>str23</th><th>float64</th><th>int32</th><th>float64</th><th>float64</th><th>float64</th><th>float64</th><th>float64</th><th>float64</th></tr></thead>\n",
       "<tr><td>1</td><td>AssScImHD158485_grat_1.fits</td><td>2016-05-11T05:58:59.852</td><td>1.5</td><td>32</td><td>4.59516684466</td><td>4.77633085449</td><td>0.669748518204</td><td>0.633033961784</td><td>4.33783750136</td><td>4.50885632664</td></tr>\n",
       "<tr><td>2</td><td>AssScImHD158485_grat_2.fits</td><td>2016-05-11T05:59:35.430</td><td>1.5</td><td>20</td><td>4.36764093337</td><td>4.27710462183</td><td>0.253070362051</td><td>0.480219677255</td><td>4.1230530411</td><td>4.03758676301</td></tr>\n",
       "<tr><td>3</td><td>AssScImHD158485_grat_3.fits</td><td>2016-05-11T06:00:39.034</td><td>1.5</td><td>21</td><td>3.11745978946</td><td>3.37662120697</td><td>0.141785922328</td><td>0.291356294233</td><td>2.94288204125</td><td>3.18753041938</td></tr>\n",
       "<tr><td>4</td><td>AssScImHD158485_grat_4.fits</td><td>2016-05-11T06:04:28.397</td><td>5.0</td><td>44</td><td>3.20254070405</td><td>3.54157179463</td><td>0.253742310559</td><td>0.732325225588</td><td>3.02319842463</td><td>3.34324377413</td></tr>\n",
       "<tr><td>5</td><td>AssScImHD158485_grat_5.fits</td><td>2016-05-11T06:04:37.465</td><td>5.0</td><td>40</td><td>3.3337821852</td><td>3.69825493689</td><td>0.197919263153</td><td>0.712456743168</td><td>3.14709038283</td><td>3.49115266042</td></tr>\n",
       "<tr><td>6</td><td>AssScImHD158485_grat_6.fits</td><td>2016-05-11T06:04:46.678</td><td>5.0</td><td>51</td><td>3.22342719729</td><td>3.57597468963</td><td>0.22727713948</td><td>0.784218480413</td><td>3.04291527424</td><td>3.37572010701</td></tr>\n",
       "<tr><td>7</td><td>AssScImHD158485_grat_7.fits</td><td>2016-05-11T06:04:55.971</td><td>5.0</td><td>43</td><td>3.06221826786</td><td>3.54834731387</td><td>0.274848952559</td><td>0.794321902288</td><td>2.89073404486</td><td>3.34963986429</td></tr>\n",
       "<tr><td>8</td><td>AssScImHD158485_grat_8.fits</td><td>2016-05-11T06:05:04.595</td><td>5.0</td><td>50</td><td>3.20182477857</td><td>3.46410505349</td><td>0.518441965741</td><td>0.916487419153</td><td>3.02252259097</td><td>3.27011517049</td></tr>\n",
       "<tr><td>9</td><td>AssScImHD158485_grat_9.fits</td><td>2016-05-11T06:05:58.173</td><td>0.5</td><td>7</td><td>3.12579168451</td><td>3.48152512138</td><td>0.106598705227</td><td>0.0555052401655</td><td>2.95074735018</td><td>3.28655971458</td></tr>\n",
       "<tr><td>10</td><td>AssScImHD158485_grat_10.fits</td><td>2016-05-11T06:06:02.576</td><td>0.5</td><td>8</td><td>2.91946061474</td><td>3.27675572088</td><td>0.170637596519</td><td>0.37481715011</td><td>2.75597082032</td><td>3.09325740051</td></tr>\n",
       "<tr><td>11</td><td>AssScImHD158485_grat_11.fits</td><td>2016-05-11T06:06:07.164</td><td>0.5</td><td>10</td><td>3.17959968334</td><td>3.61505521046</td><td>0.169835429364</td><td>0.645883423026</td><td>3.00154210108</td><td>3.41261211868</td></tr>\n",
       "<tr><td>12</td><td>AssScImHD158485_grat_12.fits</td><td>2016-05-11T06:06:11.881</td><td>0.5</td><td>11</td><td>3.37182871954</td><td>3.43140915995</td><td>0.344702920942</td><td>0.474760916874</td><td>3.18300631124</td><td>3.23925024699</td></tr>\n",
       "<tr><td>13</td><td>AssScImHD158485_grat_13.fits</td><td>2016-05-11T06:06:16.465</td><td>0.5</td><td>5</td><td>3.40233131705</td><td>3.74209776575</td><td>0.38790188701</td><td>0.187106531839</td><td>3.2118007633</td><td>3.53254029087</td></tr>\n",
       "</table>"
      ],
      "text/plain": [
       "<Table length=13>\n",
       " num              file             ...     sigmax        sigmay   \n",
       "int32            str28             ...    float64       float64   \n",
       "----- ---------------------------- ... ------------- -------------\n",
       "    1  AssScImHD158485_grat_1.fits ... 4.33783750136 4.50885632664\n",
       "    2  AssScImHD158485_grat_2.fits ...  4.1230530411 4.03758676301\n",
       "    3  AssScImHD158485_grat_3.fits ... 2.94288204125 3.18753041938\n",
       "    4  AssScImHD158485_grat_4.fits ... 3.02319842463 3.34324377413\n",
       "    5  AssScImHD158485_grat_5.fits ... 3.14709038283 3.49115266042\n",
       "    6  AssScImHD158485_grat_6.fits ... 3.04291527424 3.37572010701\n",
       "    7  AssScImHD158485_grat_7.fits ... 2.89073404486 3.34963986429\n",
       "    8  AssScImHD158485_grat_8.fits ... 3.02252259097 3.27011517049\n",
       "    9  AssScImHD158485_grat_9.fits ... 2.95074735018 3.28655971458\n",
       "   10 AssScImHD158485_grat_10.fits ... 2.75597082032 3.09325740051\n",
       "   11 AssScImHD158485_grat_11.fits ... 3.00154210108 3.41261211868\n",
       "   12 AssScImHD158485_grat_12.fits ... 3.18300631124 3.23925024699\n",
       "   13 AssScImHD158485_grat_13.fits ...  3.2118007633 3.53254029087"
      ]
     },
     "execution_count": 31,
     "metadata": {},
     "output_type": "execute_result"
    }
   ],
   "source": [
    "output_table"
   ]
  },
  {
   "cell_type": "code",
   "execution_count": 32,
   "metadata": {
    "collapsed": false
   },
   "outputs": [],
   "source": [
    "outputtablefile='HD158485_grat_1-13_TablePSF_night20160510.fits'\n",
    "output_table.write(outputtablefile,format='fits')"
   ]
  },
  {
   "cell_type": "code",
   "execution_count": 33,
   "metadata": {
    "collapsed": true
   },
   "outputs": [],
   "source": [
    "t2 = Table.read(outputtablefile)"
   ]
  },
  {
   "cell_type": "code",
   "execution_count": 34,
   "metadata": {
    "collapsed": false
   },
   "outputs": [
    {
     "data": {
      "text/html": [
       "&lt;Table length=13&gt;\n",
       "<table id=\"table4488122192\">\n",
       "<thead><tr><th>num</th><th>file</th><th>time</th><th>exposure</th><th>nbstars</th><th>prfx</th><th>pfry</th><th>sig_prfx</th><th>sig_prfy</th><th>sigmax</th><th>sigmay</th></tr></thead>\n",
       "<thead><tr><th>int32</th><th>str28</th><th>str23</th><th>float64</th><th>int32</th><th>float64</th><th>float64</th><th>float64</th><th>float64</th><th>float64</th><th>float64</th></tr></thead>\n",
       "<tr><td>1</td><td>AssScImHD158485_grat_1.fits</td><td>2016-05-11T05:58:59.852</td><td>1.5</td><td>32</td><td>4.59516684466</td><td>4.77633085449</td><td>0.669748518204</td><td>0.633033961784</td><td>4.33783750136</td><td>4.50885632664</td></tr>\n",
       "<tr><td>2</td><td>AssScImHD158485_grat_2.fits</td><td>2016-05-11T05:59:35.430</td><td>1.5</td><td>20</td><td>4.36764093337</td><td>4.27710462183</td><td>0.253070362051</td><td>0.480219677255</td><td>4.1230530411</td><td>4.03758676301</td></tr>\n",
       "<tr><td>3</td><td>AssScImHD158485_grat_3.fits</td><td>2016-05-11T06:00:39.034</td><td>1.5</td><td>21</td><td>3.11745978946</td><td>3.37662120697</td><td>0.141785922328</td><td>0.291356294233</td><td>2.94288204125</td><td>3.18753041938</td></tr>\n",
       "<tr><td>4</td><td>AssScImHD158485_grat_4.fits</td><td>2016-05-11T06:04:28.397</td><td>5.0</td><td>44</td><td>3.20254070405</td><td>3.54157179463</td><td>0.253742310559</td><td>0.732325225588</td><td>3.02319842463</td><td>3.34324377413</td></tr>\n",
       "<tr><td>5</td><td>AssScImHD158485_grat_5.fits</td><td>2016-05-11T06:04:37.465</td><td>5.0</td><td>40</td><td>3.3337821852</td><td>3.69825493689</td><td>0.197919263153</td><td>0.712456743168</td><td>3.14709038283</td><td>3.49115266042</td></tr>\n",
       "<tr><td>6</td><td>AssScImHD158485_grat_6.fits</td><td>2016-05-11T06:04:46.678</td><td>5.0</td><td>51</td><td>3.22342719729</td><td>3.57597468963</td><td>0.22727713948</td><td>0.784218480413</td><td>3.04291527424</td><td>3.37572010701</td></tr>\n",
       "<tr><td>7</td><td>AssScImHD158485_grat_7.fits</td><td>2016-05-11T06:04:55.971</td><td>5.0</td><td>43</td><td>3.06221826786</td><td>3.54834731387</td><td>0.274848952559</td><td>0.794321902288</td><td>2.89073404486</td><td>3.34963986429</td></tr>\n",
       "<tr><td>8</td><td>AssScImHD158485_grat_8.fits</td><td>2016-05-11T06:05:04.595</td><td>5.0</td><td>50</td><td>3.20182477857</td><td>3.46410505349</td><td>0.518441965741</td><td>0.916487419153</td><td>3.02252259097</td><td>3.27011517049</td></tr>\n",
       "<tr><td>9</td><td>AssScImHD158485_grat_9.fits</td><td>2016-05-11T06:05:58.173</td><td>0.5</td><td>7</td><td>3.12579168451</td><td>3.48152512138</td><td>0.106598705227</td><td>0.0555052401655</td><td>2.95074735018</td><td>3.28655971458</td></tr>\n",
       "<tr><td>10</td><td>AssScImHD158485_grat_10.fits</td><td>2016-05-11T06:06:02.576</td><td>0.5</td><td>8</td><td>2.91946061474</td><td>3.27675572088</td><td>0.170637596519</td><td>0.37481715011</td><td>2.75597082032</td><td>3.09325740051</td></tr>\n",
       "<tr><td>11</td><td>AssScImHD158485_grat_11.fits</td><td>2016-05-11T06:06:07.164</td><td>0.5</td><td>10</td><td>3.17959968334</td><td>3.61505521046</td><td>0.169835429364</td><td>0.645883423026</td><td>3.00154210108</td><td>3.41261211868</td></tr>\n",
       "<tr><td>12</td><td>AssScImHD158485_grat_12.fits</td><td>2016-05-11T06:06:11.881</td><td>0.5</td><td>11</td><td>3.37182871954</td><td>3.43140915995</td><td>0.344702920942</td><td>0.474760916874</td><td>3.18300631124</td><td>3.23925024699</td></tr>\n",
       "<tr><td>13</td><td>AssScImHD158485_grat_13.fits</td><td>2016-05-11T06:06:16.465</td><td>0.5</td><td>5</td><td>3.40233131705</td><td>3.74209776575</td><td>0.38790188701</td><td>0.187106531839</td><td>3.2118007633</td><td>3.53254029087</td></tr>\n",
       "</table>"
      ],
      "text/plain": [
       "<Table length=13>\n",
       " num              file             ...     sigmax        sigmay   \n",
       "int32            str28             ...    float64       float64   \n",
       "----- ---------------------------- ... ------------- -------------\n",
       "    1  AssScImHD158485_grat_1.fits ... 4.33783750136 4.50885632664\n",
       "    2  AssScImHD158485_grat_2.fits ...  4.1230530411 4.03758676301\n",
       "    3  AssScImHD158485_grat_3.fits ... 2.94288204125 3.18753041938\n",
       "    4  AssScImHD158485_grat_4.fits ... 3.02319842463 3.34324377413\n",
       "    5  AssScImHD158485_grat_5.fits ... 3.14709038283 3.49115266042\n",
       "    6  AssScImHD158485_grat_6.fits ... 3.04291527424 3.37572010701\n",
       "    7  AssScImHD158485_grat_7.fits ... 2.89073404486 3.34963986429\n",
       "    8  AssScImHD158485_grat_8.fits ... 3.02252259097 3.27011517049\n",
       "    9  AssScImHD158485_grat_9.fits ... 2.95074735018 3.28655971458\n",
       "   10 AssScImHD158485_grat_10.fits ... 2.75597082032 3.09325740051\n",
       "   11 AssScImHD158485_grat_11.fits ... 3.00154210108 3.41261211868\n",
       "   12 AssScImHD158485_grat_12.fits ... 3.18300631124 3.23925024699\n",
       "   13 AssScImHD158485_grat_13.fits ...  3.2118007633 3.53254029087"
      ]
     },
     "execution_count": 34,
     "metadata": {},
     "output_type": "execute_result"
    }
   ],
   "source": [
    "t2"
   ]
  },
  {
   "cell_type": "code",
   "execution_count": null,
   "metadata": {
    "collapsed": true
   },
   "outputs": [],
   "source": []
  }
 ],
 "metadata": {
  "kernelspec": {
   "display_name": "Python 2",
   "language": "python",
   "name": "python2"
  },
  "language_info": {
   "codemirror_mode": {
    "name": "ipython",
    "version": 2
   },
   "file_extension": ".py",
   "mimetype": "text/x-python",
   "name": "python",
   "nbconvert_exporter": "python",
   "pygments_lexer": "ipython2",
   "version": "2.7.12"
  }
 },
 "nbformat": 4,
 "nbformat_minor": 0
}
