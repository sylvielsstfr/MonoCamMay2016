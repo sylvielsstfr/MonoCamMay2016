{
 "cells": [
  {
   "cell_type": "markdown",
   "metadata": {},
   "source": [
    "# Dump a fits table into an ascii file"
   ]
  },
  {
   "cell_type": "code",
   "execution_count": 1,
   "metadata": {
    "collapsed": true
   },
   "outputs": [],
   "source": [
    "import urllib\n",
    "import IPython.display\n",
    "import numpy as np\n",
    "import astropy"
   ]
  },
  {
   "cell_type": "code",
   "execution_count": 2,
   "metadata": {
    "collapsed": false
   },
   "outputs": [
    {
     "name": "stderr",
     "output_type": "stream",
     "text": [
      "/Users/dagoret-campagnesylvie/anaconda/envs/pyastrophys/lib/python2.7/site-packages/matplotlib/__init__.py:872: UserWarning: axes.color_cycle is deprecated and replaced with axes.prop_cycle; please use the latter.\n",
      "  warnings.warn(self.msg_depr % (key, alt_key))\n"
     ]
    }
   ],
   "source": [
    "%matplotlib inline\n",
    "from matplotlib import pyplot as plt\n",
    "import matplotlib\n",
    "matplotlib.rc_file(\"../templates/matplotlibrc\")"
   ]
  },
  {
   "cell_type": "code",
   "execution_count": 3,
   "metadata": {
    "collapsed": true
   },
   "outputs": [],
   "source": [
    "from astropy import units as u\n",
    "from astropy.coordinates import SkyCoord\n",
    "from astropy.coordinates import Angle\n",
    "from astropy.table import Table\n",
    "from astropy.coordinates import Angle\n",
    "from astropy.time import Time, TimeDelta,TimezoneInfo"
   ]
  },
  {
   "cell_type": "code",
   "execution_count": 4,
   "metadata": {
    "collapsed": true
   },
   "outputs": [],
   "source": [
    "from datetime import datetime\n",
    "from pytz import timezone\n",
    "import pytz\n",
    "import pandas as pd"
   ]
  },
  {
   "cell_type": "code",
   "execution_count": 5,
   "metadata": {
    "collapsed": true
   },
   "outputs": [],
   "source": [
    "from astropy.visualization import astropy_mpl_style\n",
    "plt.style.use(astropy_mpl_style)"
   ]
  },
  {
   "cell_type": "code",
   "execution_count": 6,
   "metadata": {
    "collapsed": true
   },
   "outputs": [],
   "source": [
    "from astropy.coordinates import SkyCoord, EarthLocation, AltAz"
   ]
  },
  {
   "cell_type": "markdown",
   "metadata": {},
   "source": [
    "## Read the data from the fits file table\n",
    "\n",
    "\n",
    "This file is a kind of logbook written in a fits format.\n",
    "It includes the file number, the UTC time and the airmass for all the HD158485_grat_1-13\n",
    "during the night 2016-05-10-11"
   ]
  },
  {
   "cell_type": "code",
   "execution_count": 7,
   "metadata": {
    "collapsed": true
   },
   "outputs": [],
   "source": [
    "tablefile_HD158485_PSF_with_AM='HD158485_grat_1-13_TablePSF_night20160510_withAM.fits'\n",
    "asciifile_HD158485_PSF_with_AM='HD158485_grat_1-13_TablePSF_night20160510_withAM.txt'\n",
    "excelfile_HD158485_PSF_with_AM='HD158485_grat_1-13_TablePSF_night20160510_withAM.xlsx'"
   ]
  },
  {
   "cell_type": "code",
   "execution_count": 8,
   "metadata": {
    "collapsed": false
   },
   "outputs": [],
   "source": [
    "t = Table.read(tablefile_HD158485_PSF_with_AM)"
   ]
  },
  {
   "cell_type": "code",
   "execution_count": 9,
   "metadata": {
    "collapsed": false
   },
   "outputs": [
    {
     "data": {
      "text/html": [
       "&lt;Table length=13&gt;\n",
       "<table id=\"table4485107152-875025\" class=\"table table-striped table-bordered table-condensed\">\n",
       "<thead><tr><th>num</th><th>file</th><th>time</th><th>exposure</th><th>nbstars</th><th>prfx</th><th>pfry</th><th>sig_prfx</th><th>sig_prfy</th><th>sigmax</th><th>sigmay</th><th>azimuth</th><th>altitude</th><th>airmass</th></tr></thead>\n",
       "<thead><tr><th></th><th></th><th></th><th></th><th></th><th></th><th></th><th></th><th></th><th></th><th></th><th>deg</th><th>deg</th><th></th></tr></thead>\n",
       "<tr><td>1</td><td>AssScImHD158485_grat_1.fits</td><td>2016-05-11T05:58:59.852</td><td>1.5</td><td>32</td><td>4.59516684466</td><td>4.77633085449</td><td>0.669748518204</td><td>0.633033961784</td><td>4.33783750136</td><td>4.50885632664</td><td>38.9257769944</td><td>47.841071918</td><td>1.34900713748</td></tr>\n",
       "<tr><td>2</td><td>AssScImHD158485_grat_2.fits</td><td>2016-05-11T05:59:35.430</td><td>1.5</td><td>20</td><td>4.36764093337</td><td>4.27710462183</td><td>0.253070362051</td><td>0.480219677255</td><td>4.1230530411</td><td>4.03758676301</td><td>38.9068895615</td><td>47.9173899634</td><td>1.34738332675</td></tr>\n",
       "<tr><td>3</td><td>AssScImHD158485_grat_3.fits</td><td>2016-05-11T06:00:39.034</td><td>1.5</td><td>21</td><td>3.11745978946</td><td>3.37662120697</td><td>0.141785922328</td><td>0.291356294233</td><td>2.94288204125</td><td>3.18753041938</td><td>38.8723545592</td><td>48.0537476962</td><td>1.34449769692</td></tr>\n",
       "<tr><td>4</td><td>AssScImHD158485_grat_4.fits</td><td>2016-05-11T06:04:28.397</td><td>5.0</td><td>44</td><td>3.20254070405</td><td>3.54157179463</td><td>0.253742310559</td><td>0.732325225588</td><td>3.02319842463</td><td>3.34324377413</td><td>38.7395151753</td><td>48.5445883273</td><td>1.33427416819</td></tr>\n",
       "<tr><td>5</td><td>AssScImHD158485_grat_5.fits</td><td>2016-05-11T06:04:37.465</td><td>5.0</td><td>40</td><td>3.3337821852</td><td>3.69825493689</td><td>0.197919263153</td><td>0.712456743168</td><td>3.14709038283</td><td>3.49115266042</td><td>38.7339929203</td><td>48.5639643938</td><td>1.33387578357</td></tr>\n",
       "<tr><td>6</td><td>AssScImHD158485_grat_6.fits</td><td>2016-05-11T06:04:46.678</td><td>5.0</td><td>51</td><td>3.22342719729</td><td>3.57597468963</td><td>0.22727713948</td><td>0.784218480413</td><td>3.04291527424</td><td>3.37572010701</td><td>38.7283610922</td><td>48.5836479006</td><td>1.33347147739</td></tr>\n",
       "<tr><td>7</td><td>AssScImHD158485_grat_7.fits</td><td>2016-05-11T06:04:55.971</td><td>5.0</td><td>43</td><td>3.06221826786</td><td>3.54834731387</td><td>0.274848952559</td><td>0.794321902288</td><td>2.89073404486</td><td>3.34963986429</td><td>38.7226586174</td><td>48.6034998782</td><td>1.33306411825</td></tr>\n",
       "<tr><td>8</td><td>AssScImHD158485_grat_8.fits</td><td>2016-05-11T06:05:04.595</td><td>5.0</td><td>50</td><td>3.20182477857</td><td>3.46410505349</td><td>0.518441965741</td><td>0.916487419153</td><td>3.02252259097</td><td>3.27011517049</td><td>38.7173471048</td><td>48.6219205101</td><td>1.33268649568</td></tr>\n",
       "<tr><td>9</td><td>AssScImHD158485_grat_9.fits</td><td>2016-05-11T06:05:58.173</td><td>0.5</td><td>7</td><td>3.12579168451</td><td>3.48152512138</td><td>0.106598705227</td><td>0.0555052401655</td><td>2.95074735018</td><td>3.28655971458</td><td>38.683925444</td><td>48.7363135667</td><td>1.33034929618</td></tr>\n",
       "<tr><td>10</td><td>AssScImHD158485_grat_10.fits</td><td>2016-05-11T06:06:02.576</td><td>0.5</td><td>8</td><td>2.91946061474</td><td>3.27675572088</td><td>0.170637596519</td><td>0.37481715011</td><td>2.75597082032</td><td>3.09325740051</td><td>38.6811463853</td><td>48.745710583</td><td>1.33015790269</td></tr>\n",
       "<tr><td>11</td><td>AssScImHD158485_grat_11.fits</td><td>2016-05-11T06:06:07.164</td><td>0.5</td><td>10</td><td>3.17959968334</td><td>3.61505521046</td><td>0.169835429364</td><td>0.645883423026</td><td>3.00154210108</td><td>3.41261211868</td><td>38.678245296</td><td>48.7555018258</td><td>1.32995857643</td></tr>\n",
       "<tr><td>12</td><td>AssScImHD158485_grat_12.fits</td><td>2016-05-11T06:06:11.881</td><td>0.5</td><td>11</td><td>3.37182871954</td><td>3.43140915995</td><td>0.344702920942</td><td>0.474760916874</td><td>3.18300631124</td><td>3.23925024699</td><td>38.675257034</td><td>48.765567721</td><td>1.32975376165</td></tr>\n",
       "<tr><td>13</td><td>AssScImHD158485_grat_13.fits</td><td>2016-05-11T06:06:16.465</td><td>0.5</td><td>5</td><td>3.40233131705</td><td>3.74209776575</td><td>0.38790188701</td><td>0.187106531839</td><td>3.2118007633</td><td>3.53254029087</td><td>38.6723475826</td><td>48.7753491703</td><td>1.32955483433</td></tr>\n",
       "</table><style>table.dataTable {clear: both; width: auto !important; margin: 0 !important;}\n",
       ".dataTables_info, .dataTables_length, .dataTables_filter, .dataTables_paginate{\n",
       "display: inline-block; margin-right: 1em; }\n",
       ".paginate_button { margin-right: 5px; }\n",
       "</style>\n",
       "<script>\n",
       "require.config({paths: {\n",
       "    datatables: 'https://cdn.datatables.net/1.10.9/js/jquery.dataTables.min'\n",
       "}});\n",
       "require([\"datatables\"], function(){\n",
       "    console.log(\"$('#table4485107152-875025').dataTable()\");\n",
       "    $('#table4485107152-875025').dataTable({\n",
       "        \"order\": [],\n",
       "        \"iDisplayLength\": 50,\n",
       "        \"aLengthMenu\": [[10, 25, 50, 100, 500, 1000, -1], [10, 25, 50, 100, 500, 1000, 'All']],\n",
       "        \"pagingType\": \"full_numbers\"\n",
       "    });\n",
       "});\n",
       "</script>\n"
      ],
      "text/plain": [
       "<IPython.core.display.HTML object>"
      ]
     },
     "execution_count": 9,
     "metadata": {},
     "output_type": "execute_result"
    }
   ],
   "source": [
    "t.show_in_notebook()"
   ]
  },
  {
   "cell_type": "code",
   "execution_count": 10,
   "metadata": {
    "collapsed": false
   },
   "outputs": [],
   "source": [
    "t.write(asciifile_HD158485_PSF_with_AM,format='ascii')"
   ]
  },
  {
   "cell_type": "markdown",
   "metadata": {},
   "source": [
    "## write in excel"
   ]
  },
  {
   "cell_type": "code",
   "execution_count": 11,
   "metadata": {
    "collapsed": false
   },
   "outputs": [],
   "source": [
    "df=t.to_pandas()"
   ]
  },
  {
   "cell_type": "code",
   "execution_count": 12,
   "metadata": {
    "collapsed": false
   },
   "outputs": [],
   "source": [
    "writer = pd.ExcelWriter(excelfile_HD158485_PSF_with_AM,engine='xlsxwriter')"
   ]
  },
  {
   "cell_type": "code",
   "execution_count": 13,
   "metadata": {
    "collapsed": false
   },
   "outputs": [],
   "source": [
    "df.to_excel(writer,sheet_name='Sheet1')"
   ]
  },
  {
   "cell_type": "code",
   "execution_count": 14,
   "metadata": {
    "collapsed": false
   },
   "outputs": [],
   "source": [
    "writer.save()"
   ]
  }
 ],
 "metadata": {
  "kernelspec": {
   "display_name": "Python 2",
   "language": "python",
   "name": "python2"
  },
  "language_info": {
   "codemirror_mode": {
    "name": "ipython",
    "version": 2
   },
   "file_extension": ".py",
   "mimetype": "text/x-python",
   "name": "python",
   "nbconvert_exporter": "python",
   "pygments_lexer": "ipython2",
   "version": "2.7.12"
  }
 },
 "nbformat": 4,
 "nbformat_minor": 0
}
