{
 "cells": [
  {
   "cell_type": "markdown",
   "metadata": {},
   "source": [
    "# Find Optimal PSF\n",
    "===========================\n",
    "\n",
    "- creation 29/06/2016\n",
    "- author Sylvie Dagoret-Campagne\n",
    "\n",
    "\n",
    "\n",
    "Find HD158485 with grating"
   ]
  },
  {
   "cell_type": "code",
   "execution_count": 1,
   "metadata": {
    "collapsed": false
   },
   "outputs": [
    {
     "name": "stdout",
     "output_type": "stream",
     "text": [
      "ccdproc version 1.0.1\n"
     ]
    }
   ],
   "source": [
    "%matplotlib inline\n",
    "import matplotlib.pyplot as plt\n",
    "import numpy as np\n",
    "\n",
    "from astropy.modeling import models\n",
    "from astropy import units as u\n",
    "from astropy import nddata\n",
    "from astropy.io import fits\n",
    "\n",
    "from astropy.table import Table\n",
    "from astropy.table import Column\n",
    "\n",
    "import ccdproc\n",
    "print 'ccdproc version',ccdproc.__version__\n",
    "\n",
    "from astropy.modeling import models"
   ]
  },
  {
   "cell_type": "code",
   "execution_count": 2,
   "metadata": {
    "collapsed": true
   },
   "outputs": [],
   "source": [
    "import photutils\n",
    "from astropy.stats import sigma_clipped_stats\n",
    "from photutils import daofind\n",
    "from photutils import CircularAperture\n",
    "from astropy.visualization import SqrtStretch\n",
    "from astropy.visualization.mpl_normalize import ImageNormalize"
   ]
  },
  {
   "cell_type": "code",
   "execution_count": 3,
   "metadata": {
    "collapsed": true
   },
   "outputs": [],
   "source": [
    "from scipy import stats \n",
    "from scipy import ndimage\n",
    "import os\n",
    "from datetime import datetime, timedelta"
   ]
  },
  {
   "cell_type": "code",
   "execution_count": 4,
   "metadata": {
    "collapsed": true
   },
   "outputs": [],
   "source": [
    "from photutils.background import Background2D"
   ]
  },
  {
   "cell_type": "code",
   "execution_count": 5,
   "metadata": {
    "collapsed": true
   },
   "outputs": [],
   "source": [
    "import libMonocamBaseImages           # my tool library written to do that CCD reduction"
   ]
  },
  {
   "cell_type": "code",
   "execution_count": 6,
   "metadata": {
    "collapsed": false
   },
   "outputs": [
    {
     "name": "stdout",
     "output_type": "stream",
     "text": [
      "standard date format for the analysis : 2016-07-06 14:10:22.343528\n",
      "fits date format for the analysis :  2016-07-06T14:10:22\n"
     ]
    }
   ],
   "source": [
    "now=datetime.utcnow()  # choose UTC time\n",
    "datestr=str(now)\n",
    "print 'standard date format for the analysis :',datestr\n",
    "#  want the following format '2016-05-10T11:55:27.267'\n",
    "date_of_analysis=now.strftime('%Y-%m-%dT%H:%M:%S')\n",
    "print 'fits date format for the analysis : ',date_of_analysis"
   ]
  },
  {
   "cell_type": "markdown",
   "metadata": {},
   "source": [
    "## Definitions and Constants"
   ]
  },
  {
   "cell_type": "code",
   "execution_count": 7,
   "metadata": {
    "collapsed": true
   },
   "outputs": [],
   "source": [
    "object_name='HD158485_grat'"
   ]
  },
  {
   "cell_type": "markdown",
   "metadata": {},
   "source": [
    "### input files"
   ]
  },
  {
   "cell_type": "code",
   "execution_count": 8,
   "metadata": {
    "collapsed": true
   },
   "outputs": [],
   "source": [
    "path='./HD158485_grat'\n",
    "rootfilename='AssScImHD158485_grat_' \n",
    "#NumStart=1\n",
    "#NumStop=50\n",
    "\n",
    "#NumStart=51\n",
    "#NumStop=100\n",
    "\n",
    "NumStart=1\n",
    "NumStop=13"
   ]
  },
  {
   "cell_type": "markdown",
   "metadata": {},
   "source": [
    "### output file (table)"
   ]
  },
  {
   "cell_type": "code",
   "execution_count": 9,
   "metadata": {
    "collapsed": true
   },
   "outputs": [],
   "source": [
    "outputtablefile='HD158485_grat_1-13_TablePSF.fits'"
   ]
  },
  {
   "cell_type": "markdown",
   "metadata": {},
   "source": [
    "### make the filelist"
   ]
  },
  {
   "cell_type": "code",
   "execution_count": 10,
   "metadata": {
    "collapsed": false
   },
   "outputs": [],
   "source": [
    "filelist=libMonocamBaseImages.BuildFilelist(path,rootfilename,start=NumStart,stop=NumStop,nbchar=1)"
   ]
  },
  {
   "cell_type": "code",
   "execution_count": 11,
   "metadata": {
    "collapsed": false
   },
   "outputs": [
    {
     "data": {
      "text/plain": [
       "['./HD158485_grat/AssScImHD158485_grat_1.fits',\n",
       " './HD158485_grat/AssScImHD158485_grat_2.fits',\n",
       " './HD158485_grat/AssScImHD158485_grat_3.fits',\n",
       " './HD158485_grat/AssScImHD158485_grat_4.fits',\n",
       " './HD158485_grat/AssScImHD158485_grat_5.fits',\n",
       " './HD158485_grat/AssScImHD158485_grat_6.fits',\n",
       " './HD158485_grat/AssScImHD158485_grat_7.fits',\n",
       " './HD158485_grat/AssScImHD158485_grat_8.fits',\n",
       " './HD158485_grat/AssScImHD158485_grat_9.fits',\n",
       " './HD158485_grat/AssScImHD158485_grat_10.fits',\n",
       " './HD158485_grat/AssScImHD158485_grat_11.fits',\n",
       " './HD158485_grat/AssScImHD158485_grat_12.fits',\n",
       " './HD158485_grat/AssScImHD158485_grat_13.fits']"
      ]
     },
     "execution_count": 11,
     "metadata": {},
     "output_type": "execute_result"
    }
   ],
   "source": [
    "filelist"
   ]
  },
  {
   "cell_type": "markdown",
   "metadata": {
    "collapsed": true
   },
   "source": [
    "## Read Input files"
   ]
  },
  {
   "cell_type": "code",
   "execution_count": 12,
   "metadata": {
    "collapsed": false
   },
   "outputs": [
    {
     "name": "stdout",
     "output_type": "stream",
     "text": [
      "./HD158485_grat/AssScImHD158485_grat_1.fits\n",
      "./HD158485_grat/AssScImHD158485_grat_2.fits\n",
      "./HD158485_grat/AssScImHD158485_grat_3.fits\n",
      "./HD158485_grat/AssScImHD158485_grat_4.fits\n",
      "./HD158485_grat/AssScImHD158485_grat_5.fits\n",
      "./HD158485_grat/AssScImHD158485_grat_6.fits\n",
      "./HD158485_grat/AssScImHD158485_grat_7.fits\n",
      "./HD158485_grat/AssScImHD158485_grat_8.fits\n",
      "./HD158485_grat/AssScImHD158485_grat_9.fits\n",
      "./HD158485_grat/AssScImHD158485_grat_10.fits\n",
      "./HD158485_grat/AssScImHD158485_grat_11.fits\n",
      "./HD158485_grat/AssScImHD158485_grat_12.fits\n",
      "./HD158485_grat/AssScImHD158485_grat_13.fits\n"
     ]
    }
   ],
   "source": [
    "allchannelallsciimages = []  # list of 16 lists of images series \n",
    "exposures_list = []        # sequential list of the exposures of the sky flats \n",
    "header_list = []           # list of headers\n",
    "data_list = []\n",
    "time_list = []                # date and time\n",
    "basefile_list = []         # basefilename\n",
    "dateobs_list = [] \n",
    "# get the primary block headers:\n",
    "for image_file in filelist: \n",
    "    print image_file\n",
    "    hdu_list = fits.open(image_file)\n",
    "    basefile_list.append(os.path.basename(image_file))\n",
    "    header=hdu_list[0].header\n",
    "    exposure=header['EXPOSURE']\n",
    "    exposures_list.append(exposure)\n",
    "    dateobs_list.append(header['DATE-OBS'])\n",
    "    header_list.append(header)\n",
    "    data=ccdproc.CCDData.read(image_file, hdu=0,unit='adu') \n",
    "    data_list.append(data)"
   ]
  },
  {
   "cell_type": "code",
   "execution_count": 13,
   "metadata": {
    "collapsed": false
   },
   "outputs": [],
   "source": [
    "#basefile_list"
   ]
  },
  {
   "cell_type": "markdown",
   "metadata": {},
   "source": [
    "## For control\n",
    "\n",
    "uncomment for control"
   ]
  },
  {
   "cell_type": "code",
   "execution_count": 14,
   "metadata": {
    "collapsed": true
   },
   "outputs": [],
   "source": [
    "index=0"
   ]
  },
  {
   "cell_type": "code",
   "execution_count": 15,
   "metadata": {
    "collapsed": false
   },
   "outputs": [],
   "source": [
    "#print exposures_list[index]"
   ]
  },
  {
   "cell_type": "code",
   "execution_count": 16,
   "metadata": {
    "collapsed": false
   },
   "outputs": [],
   "source": [
    "#header_list[index]"
   ]
  },
  {
   "cell_type": "code",
   "execution_count": 17,
   "metadata": {
    "collapsed": false
   },
   "outputs": [],
   "source": [
    "#plt.imshow(data_list[index])"
   ]
  },
  {
   "cell_type": "code",
   "execution_count": 18,
   "metadata": {
    "collapsed": true
   },
   "outputs": [],
   "source": [
    "#bkg= Background2D(data_list[index], (100, 100), filter_size=(3, 3),method='median')"
   ]
  },
  {
   "cell_type": "code",
   "execution_count": 19,
   "metadata": {
    "collapsed": false
   },
   "outputs": [],
   "source": [
    "#data_list[index].data-bkg.background"
   ]
  },
  {
   "cell_type": "markdown",
   "metadata": {},
   "source": [
    "## Background subtraction"
   ]
  },
  {
   "cell_type": "code",
   "execution_count": 20,
   "metadata": {
    "collapsed": true
   },
   "outputs": [],
   "source": [
    "correctedimage_list = []"
   ]
  },
  {
   "cell_type": "code",
   "execution_count": 21,
   "metadata": {
    "collapsed": false
   },
   "outputs": [],
   "source": [
    "for data in data_list:\n",
    "    bkg= Background2D(data, (100, 100), filter_size=(3, 3),method='median')\n",
    "    newimage=data-bkg.background\n",
    "    correctedimage_list.append(newimage)"
   ]
  },
  {
   "cell_type": "markdown",
   "metadata": {},
   "source": [
    "## Calculation of PSF"
   ]
  },
  {
   "cell_type": "code",
   "execution_count": 22,
   "metadata": {
    "collapsed": true
   },
   "outputs": [],
   "source": [
    "NBIMAGES=len(correctedimage_list)"
   ]
  },
  {
   "cell_type": "code",
   "execution_count": 23,
   "metadata": {
    "collapsed": true
   },
   "outputs": [],
   "source": [
    "def weighted_avg_and_std(values, weights):\n",
    "    \"\"\"\n",
    "    Return the weighted average and standard deviation.\n",
    "\n",
    "    values, weights -- Numpy ndarrays with the same shape.\n",
    "    \"\"\"\n",
    "    average = np.average(values, weights=weights)\n",
    "    variance = np.average((values-average)**2, weights=weights)  # Fast and numerically precise\n",
    "    return (average, np.sqrt(variance))"
   ]
  },
  {
   "cell_type": "code",
   "execution_count": 24,
   "metadata": {
    "collapsed": true
   },
   "outputs": [],
   "source": [
    "image_psf=np.zeros((NBIMAGES,6))"
   ]
  },
  {
   "cell_type": "code",
   "execution_count": 25,
   "metadata": {
    "collapsed": true
   },
   "outputs": [],
   "source": [
    "DELTA_NBINSX=10\n",
    "DELTA_NBINSY=10"
   ]
  },
  {
   "cell_type": "code",
   "execution_count": 26,
   "metadata": {
    "collapsed": false
   },
   "outputs": [
    {
     "name": "stdout",
     "output_type": "stream",
     "text": [
      "image 0 ==> NBSTARS = 32\n",
      "average prf(x) = 4.60 +/- 0.67 pixels ==> psf  4.34 +/- 0.61 arcsec \n",
      "average prf(y) = 4.78 +/- 0.63 pixels ==> psf  4.51 +/- 0.57 arcsec \n"
     ]
    },
    {
     "name": "stderr",
     "output_type": "stream",
     "text": [
      "/Users/dagoret-campagnesylvie/anaconda/envs/pyastrophys/lib/python2.7/site-packages/ipykernel/__main__.py:9: RuntimeWarning: invalid value encountered in sqrt\n"
     ]
    },
    {
     "name": "stdout",
     "output_type": "stream",
     "text": [
      "image 1 ==> NBSTARS = 20\n",
      "average prf(x) = 4.37 +/- 0.25 pixels ==> psf  4.12 +/- 0.23 arcsec \n",
      "average prf(y) = 4.28 +/- 0.48 pixels ==> psf  4.04 +/- 0.43 arcsec \n",
      "image 2 ==> NBSTARS = 21\n",
      "average prf(x) = 3.12 +/- 0.14 pixels ==> psf  2.94 +/- 0.13 arcsec \n",
      "average prf(y) = 3.38 +/- 0.29 pixels ==> psf  3.19 +/- 0.26 arcsec \n",
      "image 3 ==> NBSTARS = 44\n",
      "average prf(x) = 3.20 +/- 0.25 pixels ==> psf  3.02 +/- 0.23 arcsec \n",
      "average prf(y) = 3.54 +/- 0.73 pixels ==> psf  3.34 +/- 0.66 arcsec \n",
      "image 4 ==> NBSTARS = 40\n",
      "average prf(x) = 3.33 +/- 0.20 pixels ==> psf  3.15 +/- 0.18 arcsec \n",
      "average prf(y) = 3.70 +/- 0.71 pixels ==> psf  3.49 +/- 0.64 arcsec \n",
      "image 5 ==> NBSTARS = 51\n",
      "average prf(x) = 3.22 +/- 0.23 pixels ==> psf  3.04 +/- 0.21 arcsec \n",
      "average prf(y) = 3.58 +/- 0.78 pixels ==> psf  3.38 +/- 0.71 arcsec \n",
      "image 6 ==> NBSTARS = 43\n",
      "average prf(x) = 3.06 +/- 0.27 pixels ==> psf  2.89 +/- 0.25 arcsec \n",
      "average prf(y) = 3.55 +/- 0.79 pixels ==> psf  3.35 +/- 0.72 arcsec \n",
      "image 7 ==> NBSTARS = 50\n",
      "average prf(x) = 3.20 +/- 0.52 pixels ==> psf  3.02 +/- 0.47 arcsec \n",
      "average prf(y) = 3.46 +/- 0.92 pixels ==> psf  3.27 +/- 0.83 arcsec \n",
      "image 8 ==> NBSTARS = 7\n",
      "average prf(x) = 3.13 +/- 0.11 pixels ==> psf  2.95 +/- 0.10 arcsec \n",
      "average prf(y) = 3.48 +/- 0.06 pixels ==> psf  3.29 +/- 0.05 arcsec \n",
      "image 9 ==> NBSTARS = 8\n",
      "average prf(x) = 2.92 +/- 0.17 pixels ==> psf  2.76 +/- 0.15 arcsec \n",
      "average prf(y) = 3.28 +/- 0.37 pixels ==> psf  3.09 +/- 0.34 arcsec \n",
      "image 10 ==> NBSTARS = 10\n",
      "average prf(x) = 3.18 +/- 0.17 pixels ==> psf  3.00 +/- 0.15 arcsec \n",
      "average prf(y) = 3.62 +/- 0.65 pixels ==> psf  3.41 +/- 0.58 arcsec \n",
      "image 11 ==> NBSTARS = 11\n",
      "average prf(x) = 3.37 +/- 0.34 pixels ==> psf  3.18 +/- 0.31 arcsec \n",
      "average prf(y) = 3.43 +/- 0.47 pixels ==> psf  3.24 +/- 0.43 arcsec \n",
      "image 12 ==> NBSTARS = 5\n",
      "average prf(x) = 3.40 +/- 0.39 pixels ==> psf  3.21 +/- 0.35 arcsec \n",
      "average prf(y) = 3.74 +/- 0.19 pixels ==> psf  3.53 +/- 0.17 arcsec \n"
     ]
    }
   ],
   "source": [
    "# loop on images\n",
    "index=-1\n",
    "for image in correctedimage_list:\n",
    "    index=index+1\n",
    "    mean, median, std = sigma_clipped_stats(image, sigma=10.0, iters=5) \n",
    "    sources = daofind(image - median, fwhm=3.0, threshold=50.*std)\n",
    "    selected_stars=sources.as_array()\n",
    "    NBSTARS=selected_stars.shape[0]\n",
    "    print 'image {} ==> NBSTARS = {}'.format(index,NBSTARS)\n",
    "    image_psf[index,0]=index\n",
    "    image_psf[index,1]=NBSTARS\n",
    "    star_psfx=np.zeros(NBSTARS)\n",
    "    star_psfy=np.zeros(NBSTARS)\n",
    "    # loop on stars\n",
    "    for istar in range(NBSTARS):\n",
    "        X = int(selected_stars[istar][1])\n",
    "        Y = int(selected_stars[istar][2])\n",
    "        prf_image = image[Y-DELTA_NBINSY:Y+DELTA_NBINSY,X-DELTA_NBINSX:X+DELTA_NBINSX]\n",
    "        oneprfX=prf_image.sum(axis=0)\n",
    "        oneprfY=prf_image.sum(axis=1)\n",
    "        if oneprfX.sum() == 0 or oneprfY.sum() == 0:\n",
    "            star_psfx[istar]=0\n",
    "            star_psfy[istar]=0\n",
    "        else:\n",
    "            posX,sigX=weighted_avg_and_std(np.arange(oneprfX.shape[0]),oneprfX)\n",
    "            posY,sigY=weighted_avg_and_std(np.arange(oneprfY.shape[0]),oneprfY)\n",
    "            star_psfx[istar]=sigX\n",
    "            star_psfy[istar]=sigY\n",
    "        \n",
    "    all_sigx=star_psfx[np.logical_not(np.isnan(star_psfx))]\n",
    "    all_sigy=star_psfy[np.logical_not(np.isnan(star_psfy))]\n",
    "    all_sigx=all_sigx[all_sigx>2.4]\n",
    "    all_sigy=all_sigy[all_sigy>2.4]\n",
    "    print 'average prf(x) = {:2.2f} +/- {:2.2f} pixels ==> psf  {:2.2f} +/- {:2.2f} arcsec '.format(np.median(all_sigx),all_sigx.std(),np.median(all_sigx)*0.4*2.36,all_sigx.std()*0.4*2.26)\n",
    "    print 'average prf(y) = {:2.2f} +/- {:2.2f} pixels ==> psf  {:2.2f} +/- {:2.2f} arcsec '.format(np.median(all_sigy),all_sigy.std(),np.median(all_sigy)*0.4*2.36,all_sigy.std()*0.4*2.26)\n",
    "    image_psf[index,2]=np.median(all_sigx)\n",
    "    image_psf[index,3]=np.median(all_sigy)\n",
    "    image_psf[index,4]=all_sigx.std()\n",
    "    image_psf[index,5]=all_sigy.std()"
   ]
  },
  {
   "cell_type": "markdown",
   "metadata": {
    "collapsed": false
   },
   "source": [
    "## Create astropy table"
   ]
  },
  {
   "cell_type": "code",
   "execution_count": 27,
   "metadata": {
    "collapsed": false
   },
   "outputs": [],
   "source": [
    "t=Table(rows=image_psf,names=('num','nbstars','prfx','pfry','sig_prfx','sig_prfy'),dtype=('i4','i4','f8','f8','f8','f8'))"
   ]
  },
  {
   "cell_type": "code",
   "execution_count": 28,
   "metadata": {
    "collapsed": false
   },
   "outputs": [
    {
     "data": {
      "text/html": [
       "&lt;Table length=13&gt;\n",
       "<table id=\"table6165977872\">\n",
       "<thead><tr><th>num</th><th>nbstars</th><th>prfx</th><th>pfry</th><th>sig_prfx</th><th>sig_prfy</th></tr></thead>\n",
       "<thead><tr><th>int32</th><th>int32</th><th>float64</th><th>float64</th><th>float64</th><th>float64</th></tr></thead>\n",
       "<tr><td>0</td><td>32</td><td>4.59516684466</td><td>4.77633085449</td><td>0.669748518204</td><td>0.633033961784</td></tr>\n",
       "<tr><td>1</td><td>20</td><td>4.36764093337</td><td>4.27710462183</td><td>0.253070362051</td><td>0.480219677255</td></tr>\n",
       "<tr><td>2</td><td>21</td><td>3.11745978946</td><td>3.37662120697</td><td>0.141785922328</td><td>0.291356294233</td></tr>\n",
       "<tr><td>3</td><td>44</td><td>3.20254070405</td><td>3.54157179463</td><td>0.253742310559</td><td>0.732325225588</td></tr>\n",
       "<tr><td>4</td><td>40</td><td>3.3337821852</td><td>3.69825493689</td><td>0.197919263153</td><td>0.712456743168</td></tr>\n",
       "<tr><td>5</td><td>51</td><td>3.22342719729</td><td>3.57597468963</td><td>0.22727713948</td><td>0.784218480413</td></tr>\n",
       "<tr><td>6</td><td>43</td><td>3.06221826786</td><td>3.54834731387</td><td>0.274848952559</td><td>0.794321902288</td></tr>\n",
       "<tr><td>7</td><td>50</td><td>3.20182477857</td><td>3.46410505349</td><td>0.518441965741</td><td>0.916487419153</td></tr>\n",
       "<tr><td>8</td><td>7</td><td>3.12579168451</td><td>3.48152512138</td><td>0.106598705227</td><td>0.0555052401655</td></tr>\n",
       "<tr><td>9</td><td>8</td><td>2.91946061474</td><td>3.27675572088</td><td>0.170637596519</td><td>0.37481715011</td></tr>\n",
       "<tr><td>10</td><td>10</td><td>3.17959968334</td><td>3.61505521046</td><td>0.169835429364</td><td>0.645883423026</td></tr>\n",
       "<tr><td>11</td><td>11</td><td>3.37182871954</td><td>3.43140915995</td><td>0.344702920942</td><td>0.474760916874</td></tr>\n",
       "<tr><td>12</td><td>5</td><td>3.40233131705</td><td>3.74209776575</td><td>0.38790188701</td><td>0.187106531839</td></tr>\n",
       "</table>"
      ],
      "text/plain": [
       "<Table length=13>\n",
       " num  nbstars      prfx          pfry        sig_prfx        sig_prfy   \n",
       "int32  int32     float64       float64       float64         float64    \n",
       "----- ------- ------------- ------------- -------------- ---------------\n",
       "    0      32 4.59516684466 4.77633085449 0.669748518204  0.633033961784\n",
       "    1      20 4.36764093337 4.27710462183 0.253070362051  0.480219677255\n",
       "    2      21 3.11745978946 3.37662120697 0.141785922328  0.291356294233\n",
       "    3      44 3.20254070405 3.54157179463 0.253742310559  0.732325225588\n",
       "    4      40  3.3337821852 3.69825493689 0.197919263153  0.712456743168\n",
       "    5      51 3.22342719729 3.57597468963  0.22727713948  0.784218480413\n",
       "    6      43 3.06221826786 3.54834731387 0.274848952559  0.794321902288\n",
       "    7      50 3.20182477857 3.46410505349 0.518441965741  0.916487419153\n",
       "    8       7 3.12579168451 3.48152512138 0.106598705227 0.0555052401655\n",
       "    9       8 2.91946061474 3.27675572088 0.170637596519   0.37481715011\n",
       "   10      10 3.17959968334 3.61505521046 0.169835429364  0.645883423026\n",
       "   11      11 3.37182871954 3.43140915995 0.344702920942  0.474760916874\n",
       "   12       5 3.40233131705 3.74209776575  0.38790188701  0.187106531839"
      ]
     },
     "execution_count": 28,
     "metadata": {},
     "output_type": "execute_result"
    }
   ],
   "source": [
    "t"
   ]
  },
  {
   "cell_type": "code",
   "execution_count": 29,
   "metadata": {
    "collapsed": false
   },
   "outputs": [],
   "source": [
    "expo = Column(exposures_list, name='exposure')\n",
    "file = Column(basefile_list, name='file')\n",
    "time = Column(dateobs_list,name='time')"
   ]
  },
  {
   "cell_type": "code",
   "execution_count": 30,
   "metadata": {
    "collapsed": false
   },
   "outputs": [],
   "source": [
    "t.add_column(expo, index=1)\n",
    "t.add_column(time, index=1)\n",
    "t.add_column(file, index=1)"
   ]
  },
  {
   "cell_type": "code",
   "execution_count": 31,
   "metadata": {
    "collapsed": false
   },
   "outputs": [
    {
     "data": {
      "text/html": [
       "&lt;Table length=13&gt;\n",
       "<table id=\"table6165977872\">\n",
       "<thead><tr><th>num</th><th>file</th><th>time</th><th>exposure</th><th>nbstars</th><th>prfx</th><th>pfry</th><th>sig_prfx</th><th>sig_prfy</th></tr></thead>\n",
       "<thead><tr><th>int32</th><th>str28</th><th>str23</th><th>float64</th><th>int32</th><th>float64</th><th>float64</th><th>float64</th><th>float64</th></tr></thead>\n",
       "<tr><td>0</td><td>AssScImHD158485_grat_1.fits</td><td>2016-05-11T05:58:59.852</td><td>1.5</td><td>32</td><td>4.59516684466</td><td>4.77633085449</td><td>0.669748518204</td><td>0.633033961784</td></tr>\n",
       "<tr><td>1</td><td>AssScImHD158485_grat_2.fits</td><td>2016-05-11T05:59:35.430</td><td>1.5</td><td>20</td><td>4.36764093337</td><td>4.27710462183</td><td>0.253070362051</td><td>0.480219677255</td></tr>\n",
       "<tr><td>2</td><td>AssScImHD158485_grat_3.fits</td><td>2016-05-11T06:00:39.034</td><td>1.5</td><td>21</td><td>3.11745978946</td><td>3.37662120697</td><td>0.141785922328</td><td>0.291356294233</td></tr>\n",
       "<tr><td>3</td><td>AssScImHD158485_grat_4.fits</td><td>2016-05-11T06:04:28.397</td><td>5.0</td><td>44</td><td>3.20254070405</td><td>3.54157179463</td><td>0.253742310559</td><td>0.732325225588</td></tr>\n",
       "<tr><td>4</td><td>AssScImHD158485_grat_5.fits</td><td>2016-05-11T06:04:37.465</td><td>5.0</td><td>40</td><td>3.3337821852</td><td>3.69825493689</td><td>0.197919263153</td><td>0.712456743168</td></tr>\n",
       "<tr><td>5</td><td>AssScImHD158485_grat_6.fits</td><td>2016-05-11T06:04:46.678</td><td>5.0</td><td>51</td><td>3.22342719729</td><td>3.57597468963</td><td>0.22727713948</td><td>0.784218480413</td></tr>\n",
       "<tr><td>6</td><td>AssScImHD158485_grat_7.fits</td><td>2016-05-11T06:04:55.971</td><td>5.0</td><td>43</td><td>3.06221826786</td><td>3.54834731387</td><td>0.274848952559</td><td>0.794321902288</td></tr>\n",
       "<tr><td>7</td><td>AssScImHD158485_grat_8.fits</td><td>2016-05-11T06:05:04.595</td><td>5.0</td><td>50</td><td>3.20182477857</td><td>3.46410505349</td><td>0.518441965741</td><td>0.916487419153</td></tr>\n",
       "<tr><td>8</td><td>AssScImHD158485_grat_9.fits</td><td>2016-05-11T06:05:58.173</td><td>0.5</td><td>7</td><td>3.12579168451</td><td>3.48152512138</td><td>0.106598705227</td><td>0.0555052401655</td></tr>\n",
       "<tr><td>9</td><td>AssScImHD158485_grat_10.fits</td><td>2016-05-11T06:06:02.576</td><td>0.5</td><td>8</td><td>2.91946061474</td><td>3.27675572088</td><td>0.170637596519</td><td>0.37481715011</td></tr>\n",
       "<tr><td>10</td><td>AssScImHD158485_grat_11.fits</td><td>2016-05-11T06:06:07.164</td><td>0.5</td><td>10</td><td>3.17959968334</td><td>3.61505521046</td><td>0.169835429364</td><td>0.645883423026</td></tr>\n",
       "<tr><td>11</td><td>AssScImHD158485_grat_12.fits</td><td>2016-05-11T06:06:11.881</td><td>0.5</td><td>11</td><td>3.37182871954</td><td>3.43140915995</td><td>0.344702920942</td><td>0.474760916874</td></tr>\n",
       "<tr><td>12</td><td>AssScImHD158485_grat_13.fits</td><td>2016-05-11T06:06:16.465</td><td>0.5</td><td>5</td><td>3.40233131705</td><td>3.74209776575</td><td>0.38790188701</td><td>0.187106531839</td></tr>\n",
       "</table>"
      ],
      "text/plain": [
       "<Table length=13>\n",
       " num              file             ...    sig_prfx        sig_prfy   \n",
       "int32            str28             ...    float64         float64    \n",
       "----- ---------------------------- ... -------------- ---------------\n",
       "    0  AssScImHD158485_grat_1.fits ... 0.669748518204  0.633033961784\n",
       "    1  AssScImHD158485_grat_2.fits ... 0.253070362051  0.480219677255\n",
       "    2  AssScImHD158485_grat_3.fits ... 0.141785922328  0.291356294233\n",
       "    3  AssScImHD158485_grat_4.fits ... 0.253742310559  0.732325225588\n",
       "    4  AssScImHD158485_grat_5.fits ... 0.197919263153  0.712456743168\n",
       "    5  AssScImHD158485_grat_6.fits ...  0.22727713948  0.784218480413\n",
       "    6  AssScImHD158485_grat_7.fits ... 0.274848952559  0.794321902288\n",
       "    7  AssScImHD158485_grat_8.fits ... 0.518441965741  0.916487419153\n",
       "    8  AssScImHD158485_grat_9.fits ... 0.106598705227 0.0555052401655\n",
       "    9 AssScImHD158485_grat_10.fits ... 0.170637596519   0.37481715011\n",
       "   10 AssScImHD158485_grat_11.fits ... 0.169835429364  0.645883423026\n",
       "   11 AssScImHD158485_grat_12.fits ... 0.344702920942  0.474760916874\n",
       "   12 AssScImHD158485_grat_13.fits ...  0.38790188701  0.187106531839"
      ]
     },
     "execution_count": 31,
     "metadata": {},
     "output_type": "execute_result"
    }
   ],
   "source": [
    "t"
   ]
  },
  {
   "cell_type": "markdown",
   "metadata": {},
   "source": [
    "## Write output file"
   ]
  },
  {
   "cell_type": "code",
   "execution_count": 32,
   "metadata": {
    "collapsed": false
   },
   "outputs": [],
   "source": [
    "t.write(outputtablefile,format='fits')"
   ]
  },
  {
   "cell_type": "markdown",
   "metadata": {
    "collapsed": true
   },
   "source": [
    "## Pandas"
   ]
  },
  {
   "cell_type": "code",
   "execution_count": 33,
   "metadata": {
    "collapsed": true
   },
   "outputs": [],
   "source": [
    "df=t.to_pandas()"
   ]
  },
  {
   "cell_type": "code",
   "execution_count": 34,
   "metadata": {
    "collapsed": false
   },
   "outputs": [
    {
     "data": {
      "text/html": [
       "<div>\n",
       "<table border=\"1\" class=\"dataframe\">\n",
       "  <thead>\n",
       "    <tr style=\"text-align: right;\">\n",
       "      <th></th>\n",
       "      <th>num</th>\n",
       "      <th>exposure</th>\n",
       "      <th>nbstars</th>\n",
       "      <th>prfx</th>\n",
       "      <th>pfry</th>\n",
       "      <th>sig_prfx</th>\n",
       "      <th>sig_prfy</th>\n",
       "    </tr>\n",
       "  </thead>\n",
       "  <tbody>\n",
       "    <tr>\n",
       "      <th>count</th>\n",
       "      <td>13.00000</td>\n",
       "      <td>13.000000</td>\n",
       "      <td>13.000000</td>\n",
       "      <td>13.000000</td>\n",
       "      <td>13.000000</td>\n",
       "      <td>13.000000</td>\n",
       "      <td>13.000000</td>\n",
       "    </tr>\n",
       "    <tr>\n",
       "      <th>mean</th>\n",
       "      <td>6.00000</td>\n",
       "      <td>2.461538</td>\n",
       "      <td>26.307692</td>\n",
       "      <td>3.392544</td>\n",
       "      <td>3.677319</td>\n",
       "      <td>0.285885</td>\n",
       "      <td>0.544807</td>\n",
       "    </tr>\n",
       "    <tr>\n",
       "      <th>std</th>\n",
       "      <td>3.89444</td>\n",
       "      <td>2.125848</td>\n",
       "      <td>17.589697</td>\n",
       "      <td>0.502267</td>\n",
       "      <td>0.409934</td>\n",
       "      <td>0.160303</td>\n",
       "      <td>0.259578</td>\n",
       "    </tr>\n",
       "    <tr>\n",
       "      <th>min</th>\n",
       "      <td>0.00000</td>\n",
       "      <td>0.500000</td>\n",
       "      <td>5.000000</td>\n",
       "      <td>2.919461</td>\n",
       "      <td>3.276756</td>\n",
       "      <td>0.106599</td>\n",
       "      <td>0.055505</td>\n",
       "    </tr>\n",
       "    <tr>\n",
       "      <th>25%</th>\n",
       "      <td>3.00000</td>\n",
       "      <td>0.500000</td>\n",
       "      <td>10.000000</td>\n",
       "      <td>3.125792</td>\n",
       "      <td>3.464105</td>\n",
       "      <td>0.170638</td>\n",
       "      <td>0.374817</td>\n",
       "    </tr>\n",
       "    <tr>\n",
       "      <th>50%</th>\n",
       "      <td>6.00000</td>\n",
       "      <td>1.500000</td>\n",
       "      <td>21.000000</td>\n",
       "      <td>3.202541</td>\n",
       "      <td>3.548347</td>\n",
       "      <td>0.253070</td>\n",
       "      <td>0.633034</td>\n",
       "    </tr>\n",
       "    <tr>\n",
       "      <th>75%</th>\n",
       "      <td>9.00000</td>\n",
       "      <td>5.000000</td>\n",
       "      <td>43.000000</td>\n",
       "      <td>3.371829</td>\n",
       "      <td>3.698255</td>\n",
       "      <td>0.344703</td>\n",
       "      <td>0.732325</td>\n",
       "    </tr>\n",
       "    <tr>\n",
       "      <th>max</th>\n",
       "      <td>12.00000</td>\n",
       "      <td>5.000000</td>\n",
       "      <td>51.000000</td>\n",
       "      <td>4.595167</td>\n",
       "      <td>4.776331</td>\n",
       "      <td>0.669749</td>\n",
       "      <td>0.916487</td>\n",
       "    </tr>\n",
       "  </tbody>\n",
       "</table>\n",
       "</div>"
      ],
      "text/plain": [
       "            num   exposure    nbstars       prfx       pfry   sig_prfx  \\\n",
       "count  13.00000  13.000000  13.000000  13.000000  13.000000  13.000000   \n",
       "mean    6.00000   2.461538  26.307692   3.392544   3.677319   0.285885   \n",
       "std     3.89444   2.125848  17.589697   0.502267   0.409934   0.160303   \n",
       "min     0.00000   0.500000   5.000000   2.919461   3.276756   0.106599   \n",
       "25%     3.00000   0.500000  10.000000   3.125792   3.464105   0.170638   \n",
       "50%     6.00000   1.500000  21.000000   3.202541   3.548347   0.253070   \n",
       "75%     9.00000   5.000000  43.000000   3.371829   3.698255   0.344703   \n",
       "max    12.00000   5.000000  51.000000   4.595167   4.776331   0.669749   \n",
       "\n",
       "        sig_prfy  \n",
       "count  13.000000  \n",
       "mean    0.544807  \n",
       "std     0.259578  \n",
       "min     0.055505  \n",
       "25%     0.374817  \n",
       "50%     0.633034  \n",
       "75%     0.732325  \n",
       "max     0.916487  "
      ]
     },
     "execution_count": 34,
     "metadata": {},
     "output_type": "execute_result"
    }
   ],
   "source": [
    "df.describe()"
   ]
  },
  {
   "cell_type": "code",
   "execution_count": null,
   "metadata": {
    "collapsed": true
   },
   "outputs": [],
   "source": []
  }
 ],
 "metadata": {
  "kernelspec": {
   "display_name": "Python 2",
   "language": "python",
   "name": "python2"
  },
  "language_info": {
   "codemirror_mode": {
    "name": "ipython",
    "version": 2
   },
   "file_extension": ".py",
   "mimetype": "text/x-python",
   "name": "python",
   "nbconvert_exporter": "python",
   "pygments_lexer": "ipython2",
   "version": "2.7.12"
  }
 },
 "nbformat": 4,
 "nbformat_minor": 0
}
