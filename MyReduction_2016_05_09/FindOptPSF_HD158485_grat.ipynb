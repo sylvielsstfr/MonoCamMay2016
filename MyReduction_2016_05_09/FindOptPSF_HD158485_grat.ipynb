{
 "cells": [
  {
   "cell_type": "markdown",
   "metadata": {},
   "source": [
    "# Find Optimal PSF\n",
    "===========================\n",
    "\n",
    "- creation 29/06/2016\n",
    "- author Sylvie Dagoret-Campagne\n",
    "\n",
    "\n",
    "\n",
    "Find HD158485 with grating"
   ]
  },
  {
   "cell_type": "code",
   "execution_count": 1,
   "metadata": {
    "collapsed": false
   },
   "outputs": [
    {
     "name": "stdout",
     "output_type": "stream",
     "text": [
      "ccdproc version 1.0.1\n"
     ]
    }
   ],
   "source": [
    "%matplotlib inline\n",
    "import matplotlib.pyplot as plt\n",
    "import numpy as np\n",
    "\n",
    "from astropy.modeling import models\n",
    "from astropy import units as u\n",
    "from astropy import nddata\n",
    "from astropy.io import fits\n",
    "\n",
    "from astropy.table import Table\n",
    "from astropy.table import Column\n",
    "\n",
    "import ccdproc\n",
    "print 'ccdproc version',ccdproc.__version__\n",
    "\n",
    "from astropy.modeling import models"
   ]
  },
  {
   "cell_type": "code",
   "execution_count": 2,
   "metadata": {
    "collapsed": true
   },
   "outputs": [],
   "source": [
    "import photutils\n",
    "from astropy.stats import sigma_clipped_stats\n",
    "from photutils import daofind\n",
    "from photutils import CircularAperture\n",
    "from astropy.visualization import SqrtStretch\n",
    "from astropy.visualization.mpl_normalize import ImageNormalize"
   ]
  },
  {
   "cell_type": "code",
   "execution_count": 3,
   "metadata": {
    "collapsed": true
   },
   "outputs": [],
   "source": [
    "from scipy import stats \n",
    "from scipy import ndimage\n",
    "import os\n",
    "from datetime import datetime, timedelta"
   ]
  },
  {
   "cell_type": "code",
   "execution_count": 4,
   "metadata": {
    "collapsed": true
   },
   "outputs": [],
   "source": [
    "from photutils.background import Background2D"
   ]
  },
  {
   "cell_type": "code",
   "execution_count": 5,
   "metadata": {
    "collapsed": true
   },
   "outputs": [],
   "source": [
    "import libMonocamBaseImages           # my tool library written to do that CCD reduction"
   ]
  },
  {
   "cell_type": "code",
   "execution_count": 6,
   "metadata": {
    "collapsed": false
   },
   "outputs": [
    {
     "name": "stdout",
     "output_type": "stream",
     "text": [
      "standard date format for the analysis : 2016-07-06 11:34:53.248142\n",
      "fits date format for the analysis :  2016-07-06T11:34:53\n"
     ]
    }
   ],
   "source": [
    "now=datetime.utcnow()  # choose UTC time\n",
    "datestr=str(now)\n",
    "print 'standard date format for the analysis :',datestr\n",
    "#  want the following format '2016-05-10T11:55:27.267'\n",
    "date_of_analysis=now.strftime('%Y-%m-%dT%H:%M:%S')\n",
    "print 'fits date format for the analysis : ',date_of_analysis"
   ]
  },
  {
   "cell_type": "markdown",
   "metadata": {},
   "source": [
    "## Definitions and Constants"
   ]
  },
  {
   "cell_type": "code",
   "execution_count": 7,
   "metadata": {
    "collapsed": true
   },
   "outputs": [],
   "source": [
    "object_name='HD158485_grat'"
   ]
  },
  {
   "cell_type": "markdown",
   "metadata": {},
   "source": [
    "### input files"
   ]
  },
  {
   "cell_type": "code",
   "execution_count": 8,
   "metadata": {
    "collapsed": true
   },
   "outputs": [],
   "source": [
    "path='./HD158485_grat'\n",
    "rootfilename='AssScImHD158485_grat_' \n",
    "#NumStart=1\n",
    "#NumStop=50\n",
    "\n",
    "#NumStart=51\n",
    "#NumStop=100\n",
    "\n",
    "NumStart=1\n",
    "NumStop=25"
   ]
  },
  {
   "cell_type": "markdown",
   "metadata": {},
   "source": [
    "### output file (table)"
   ]
  },
  {
   "cell_type": "code",
   "execution_count": 9,
   "metadata": {
    "collapsed": true
   },
   "outputs": [],
   "source": [
    "outputtablefile='HD158485_grat_1-25_TablePSF.fits'"
   ]
  },
  {
   "cell_type": "markdown",
   "metadata": {},
   "source": [
    "### make the filelist"
   ]
  },
  {
   "cell_type": "code",
   "execution_count": 10,
   "metadata": {
    "collapsed": false
   },
   "outputs": [],
   "source": [
    "filelist=libMonocamBaseImages.BuildFilelist(path,rootfilename,start=NumStart,stop=NumStop,nbchar=1)"
   ]
  },
  {
   "cell_type": "code",
   "execution_count": 11,
   "metadata": {
    "collapsed": false
   },
   "outputs": [
    {
     "data": {
      "text/plain": [
       "['./HD158485_grat/AssScImHD158485_grat_1.fits',\n",
       " './HD158485_grat/AssScImHD158485_grat_2.fits',\n",
       " './HD158485_grat/AssScImHD158485_grat_3.fits',\n",
       " './HD158485_grat/AssScImHD158485_grat_4.fits',\n",
       " './HD158485_grat/AssScImHD158485_grat_5.fits',\n",
       " './HD158485_grat/AssScImHD158485_grat_6.fits',\n",
       " './HD158485_grat/AssScImHD158485_grat_7.fits',\n",
       " './HD158485_grat/AssScImHD158485_grat_8.fits',\n",
       " './HD158485_grat/AssScImHD158485_grat_9.fits',\n",
       " './HD158485_grat/AssScImHD158485_grat_10.fits',\n",
       " './HD158485_grat/AssScImHD158485_grat_11.fits',\n",
       " './HD158485_grat/AssScImHD158485_grat_12.fits',\n",
       " './HD158485_grat/AssScImHD158485_grat_13.fits',\n",
       " './HD158485_grat/AssScImHD158485_grat_14.fits',\n",
       " './HD158485_grat/AssScImHD158485_grat_15.fits',\n",
       " './HD158485_grat/AssScImHD158485_grat_16.fits',\n",
       " './HD158485_grat/AssScImHD158485_grat_17.fits',\n",
       " './HD158485_grat/AssScImHD158485_grat_18.fits',\n",
       " './HD158485_grat/AssScImHD158485_grat_19.fits',\n",
       " './HD158485_grat/AssScImHD158485_grat_20.fits',\n",
       " './HD158485_grat/AssScImHD158485_grat_21.fits',\n",
       " './HD158485_grat/AssScImHD158485_grat_22.fits',\n",
       " './HD158485_grat/AssScImHD158485_grat_23.fits',\n",
       " './HD158485_grat/AssScImHD158485_grat_24.fits',\n",
       " './HD158485_grat/AssScImHD158485_grat_25.fits']"
      ]
     },
     "execution_count": 11,
     "metadata": {},
     "output_type": "execute_result"
    }
   ],
   "source": [
    "filelist"
   ]
  },
  {
   "cell_type": "markdown",
   "metadata": {
    "collapsed": true
   },
   "source": [
    "## Read Input files"
   ]
  },
  {
   "cell_type": "code",
   "execution_count": 12,
   "metadata": {
    "collapsed": false
   },
   "outputs": [
    {
     "name": "stdout",
     "output_type": "stream",
     "text": [
      "./HD158485_grat/AssScImHD158485_grat_1.fits\n",
      "./HD158485_grat/AssScImHD158485_grat_2.fits\n",
      "./HD158485_grat/AssScImHD158485_grat_3.fits\n",
      "./HD158485_grat/AssScImHD158485_grat_4.fits\n",
      "./HD158485_grat/AssScImHD158485_grat_5.fits\n",
      "./HD158485_grat/AssScImHD158485_grat_6.fits\n",
      "./HD158485_grat/AssScImHD158485_grat_7.fits\n",
      "./HD158485_grat/AssScImHD158485_grat_8.fits\n",
      "./HD158485_grat/AssScImHD158485_grat_9.fits\n",
      "./HD158485_grat/AssScImHD158485_grat_10.fits\n",
      "./HD158485_grat/AssScImHD158485_grat_11.fits\n",
      "./HD158485_grat/AssScImHD158485_grat_12.fits\n",
      "./HD158485_grat/AssScImHD158485_grat_13.fits\n",
      "./HD158485_grat/AssScImHD158485_grat_14.fits\n",
      "./HD158485_grat/AssScImHD158485_grat_15.fits\n",
      "./HD158485_grat/AssScImHD158485_grat_16.fits\n",
      "./HD158485_grat/AssScImHD158485_grat_17.fits\n",
      "./HD158485_grat/AssScImHD158485_grat_18.fits\n",
      "./HD158485_grat/AssScImHD158485_grat_19.fits\n",
      "./HD158485_grat/AssScImHD158485_grat_20.fits\n",
      "./HD158485_grat/AssScImHD158485_grat_21.fits\n",
      "./HD158485_grat/AssScImHD158485_grat_22.fits\n",
      "./HD158485_grat/AssScImHD158485_grat_23.fits\n",
      "./HD158485_grat/AssScImHD158485_grat_24.fits\n",
      "./HD158485_grat/AssScImHD158485_grat_25.fits\n"
     ]
    }
   ],
   "source": [
    "allchannelallsciimages = []  # list of 16 lists of images series \n",
    "exposures_list = []        # sequential list of the exposures of the sky flats \n",
    "header_list = []           # list of headers\n",
    "data_list = []\n",
    "time_list = []                # date and time\n",
    "basefile_list = []         # basefilename\n",
    "dateobs_list = [] \n",
    "# get the primary block headers:\n",
    "for image_file in filelist: \n",
    "    print image_file\n",
    "    hdu_list = fits.open(image_file)\n",
    "    basefile_list.append(os.path.basename(image_file))\n",
    "    header=hdu_list[0].header\n",
    "    exposure=header['EXPOSURE']\n",
    "    exposures_list.append(exposure)\n",
    "    dateobs_list.append(header['DATE-OBS'])\n",
    "    header_list.append(header)\n",
    "    data=ccdproc.CCDData.read(image_file, hdu=0,unit='adu') \n",
    "    data_list.append(data)"
   ]
  },
  {
   "cell_type": "code",
   "execution_count": 13,
   "metadata": {
    "collapsed": false
   },
   "outputs": [],
   "source": [
    "#basefile_list"
   ]
  },
  {
   "cell_type": "markdown",
   "metadata": {},
   "source": [
    "## For control\n",
    "\n",
    "uncomment for control"
   ]
  },
  {
   "cell_type": "code",
   "execution_count": 14,
   "metadata": {
    "collapsed": true
   },
   "outputs": [],
   "source": [
    "index=0"
   ]
  },
  {
   "cell_type": "code",
   "execution_count": 15,
   "metadata": {
    "collapsed": false
   },
   "outputs": [],
   "source": [
    "#print exposures_list[index]"
   ]
  },
  {
   "cell_type": "code",
   "execution_count": 16,
   "metadata": {
    "collapsed": false
   },
   "outputs": [],
   "source": [
    "#header_list[index]"
   ]
  },
  {
   "cell_type": "code",
   "execution_count": 17,
   "metadata": {
    "collapsed": false
   },
   "outputs": [],
   "source": [
    "#plt.imshow(data_list[index])"
   ]
  },
  {
   "cell_type": "code",
   "execution_count": 18,
   "metadata": {
    "collapsed": true
   },
   "outputs": [],
   "source": [
    "#bkg= Background2D(data_list[index], (100, 100), filter_size=(3, 3),method='median')"
   ]
  },
  {
   "cell_type": "code",
   "execution_count": 19,
   "metadata": {
    "collapsed": false
   },
   "outputs": [],
   "source": [
    "#data_list[index].data-bkg.background"
   ]
  },
  {
   "cell_type": "markdown",
   "metadata": {},
   "source": [
    "## Background subtraction"
   ]
  },
  {
   "cell_type": "code",
   "execution_count": 20,
   "metadata": {
    "collapsed": true
   },
   "outputs": [],
   "source": [
    "correctedimage_list = []"
   ]
  },
  {
   "cell_type": "code",
   "execution_count": 21,
   "metadata": {
    "collapsed": false
   },
   "outputs": [],
   "source": [
    "for data in data_list:\n",
    "    bkg= Background2D(data, (100, 100), filter_size=(3, 3),method='median')\n",
    "    newimage=data-bkg.background\n",
    "    correctedimage_list.append(newimage)"
   ]
  },
  {
   "cell_type": "markdown",
   "metadata": {},
   "source": [
    "## Calculation of PSF"
   ]
  },
  {
   "cell_type": "code",
   "execution_count": 22,
   "metadata": {
    "collapsed": true
   },
   "outputs": [],
   "source": [
    "NBIMAGES=len(correctedimage_list)"
   ]
  },
  {
   "cell_type": "code",
   "execution_count": 23,
   "metadata": {
    "collapsed": true
   },
   "outputs": [],
   "source": [
    "def weighted_avg_and_std(values, weights):\n",
    "    \"\"\"\n",
    "    Return the weighted average and standard deviation.\n",
    "\n",
    "    values, weights -- Numpy ndarrays with the same shape.\n",
    "    \"\"\"\n",
    "    average = np.average(values, weights=weights)\n",
    "    variance = np.average((values-average)**2, weights=weights)  # Fast and numerically precise\n",
    "    return (average, np.sqrt(variance))"
   ]
  },
  {
   "cell_type": "code",
   "execution_count": 24,
   "metadata": {
    "collapsed": true
   },
   "outputs": [],
   "source": [
    "image_psf=np.zeros((NBIMAGES,6))"
   ]
  },
  {
   "cell_type": "code",
   "execution_count": 25,
   "metadata": {
    "collapsed": true
   },
   "outputs": [],
   "source": [
    "DELTA_NBINSX=10\n",
    "DELTA_NBINSY=10"
   ]
  },
  {
   "cell_type": "code",
   "execution_count": 26,
   "metadata": {
    "collapsed": false
   },
   "outputs": [
    {
     "name": "stdout",
     "output_type": "stream",
     "text": [
      "image 0 ==> NBSTARS = 21\n",
      "average prf(x) = 4.52 +/- 0.71 pixels ==> psf  4.27 +/- 0.65 arcsec \n",
      "average prf(y) = 4.41 +/- 0.47 pixels ==> psf  4.17 +/- 0.43 arcsec \n"
     ]
    },
    {
     "name": "stderr",
     "output_type": "stream",
     "text": [
      "/Users/dagoret-campagnesylvie/anaconda/envs/pyastrophys/lib/python2.7/site-packages/ipykernel/__main__.py:9: RuntimeWarning: invalid value encountered in sqrt\n"
     ]
    },
    {
     "name": "stdout",
     "output_type": "stream",
     "text": [
      "image 1 ==> NBSTARS = 15\n",
      "average prf(x) = 4.37 +/- 0.72 pixels ==> psf  4.13 +/- 0.65 arcsec \n",
      "average prf(y) = 4.56 +/- 0.44 pixels ==> psf  4.30 +/- 0.40 arcsec \n",
      "image 2 ==> NBSTARS = 12\n",
      "average prf(x) = 4.64 +/- 0.37 pixels ==> psf  4.38 +/- 0.33 arcsec \n",
      "average prf(y) = 4.15 +/- 0.46 pixels ==> psf  3.92 +/- 0.42 arcsec \n",
      "image 3 ==> NBSTARS = 23\n",
      "average prf(x) = 4.63 +/- 0.43 pixels ==> psf  4.37 +/- 0.39 arcsec \n",
      "average prf(y) = 4.32 +/- 0.42 pixels ==> psf  4.08 +/- 0.38 arcsec \n",
      "image 4 ==> NBSTARS = 19\n",
      "average prf(x) = 4.82 +/- 0.62 pixels ==> psf  4.55 +/- 0.56 arcsec \n",
      "average prf(y) = 4.22 +/- 0.49 pixels ==> psf  3.98 +/- 0.45 arcsec \n",
      "image 5 ==> NBSTARS = 18\n",
      "average prf(x) = 4.54 +/- 0.34 pixels ==> psf  4.28 +/- 0.31 arcsec \n",
      "average prf(y) = 4.17 +/- 0.35 pixels ==> psf  3.93 +/- 0.32 arcsec \n",
      "image 6 ==> NBSTARS = 14\n",
      "average prf(x) = 4.51 +/- 0.42 pixels ==> psf  4.26 +/- 0.38 arcsec \n",
      "average prf(y) = 4.50 +/- 0.37 pixels ==> psf  4.25 +/- 0.34 arcsec \n",
      "image 7 ==> NBSTARS = 11\n",
      "average prf(x) = 4.39 +/- 0.31 pixels ==> psf  4.14 +/- 0.28 arcsec \n",
      "average prf(y) = 4.44 +/- 0.26 pixels ==> psf  4.19 +/- 0.24 arcsec \n",
      "image 8 ==> NBSTARS = 25\n",
      "average prf(x) = 4.68 +/- 0.38 pixels ==> psf  4.42 +/- 0.34 arcsec \n",
      "average prf(y) = 4.45 +/- 0.44 pixels ==> psf  4.20 +/- 0.40 arcsec \n",
      "image 9 ==> NBSTARS = 24\n",
      "average prf(x) = 4.59 +/- 0.46 pixels ==> psf  4.33 +/- 0.41 arcsec \n",
      "average prf(y) = 4.44 +/- 0.33 pixels ==> psf  4.19 +/- 0.30 arcsec \n",
      "image 10 ==> NBSTARS = 22\n",
      "average prf(x) = 4.35 +/- 0.60 pixels ==> psf  4.11 +/- 0.54 arcsec \n",
      "average prf(y) = 4.48 +/- 0.37 pixels ==> psf  4.23 +/- 0.33 arcsec \n",
      "image 11 ==> NBSTARS = 21\n",
      "average prf(x) = 4.72 +/- 0.42 pixels ==> psf  4.46 +/- 0.38 arcsec \n",
      "average prf(y) = 4.49 +/- 0.39 pixels ==> psf  4.24 +/- 0.35 arcsec \n",
      "image 12 ==> NBSTARS = 19\n",
      "average prf(x) = 4.26 +/- 0.44 pixels ==> psf  4.02 +/- 0.40 arcsec \n",
      "average prf(y) = 4.32 +/- 0.21 pixels ==> psf  4.08 +/- 0.19 arcsec \n",
      "image 13 ==> NBSTARS = 25\n",
      "average prf(x) = 4.67 +/- 0.42 pixels ==> psf  4.41 +/- 0.38 arcsec \n",
      "average prf(y) = 4.31 +/- 0.34 pixels ==> psf  4.07 +/- 0.31 arcsec \n",
      "image 14 ==> NBSTARS = 12\n",
      "average prf(x) = 4.47 +/- 0.50 pixels ==> psf  4.21 +/- 0.45 arcsec \n",
      "average prf(y) = 4.48 +/- 0.50 pixels ==> psf  4.23 +/- 0.45 arcsec \n",
      "image 15 ==> NBSTARS = 18\n",
      "average prf(x) = 4.51 +/- 0.45 pixels ==> psf  4.26 +/- 0.41 arcsec \n",
      "average prf(y) = 4.21 +/- 0.37 pixels ==> psf  3.98 +/- 0.33 arcsec \n",
      "image 16 ==> NBSTARS = 18\n",
      "average prf(x) = 4.45 +/- 0.47 pixels ==> psf  4.20 +/- 0.43 arcsec \n",
      "average prf(y) = 4.43 +/- 0.33 pixels ==> psf  4.18 +/- 0.30 arcsec \n",
      "image 17 ==> NBSTARS = 18\n",
      "average prf(x) = 4.15 +/- 0.57 pixels ==> psf  3.92 +/- 0.51 arcsec \n",
      "average prf(y) = 4.46 +/- 0.42 pixels ==> psf  4.21 +/- 0.38 arcsec \n",
      "image 18 ==> NBSTARS = 30\n",
      "average prf(x) = 4.82 +/- 0.87 pixels ==> psf  4.55 +/- 0.79 arcsec \n",
      "average prf(y) = 3.66 +/- 0.78 pixels ==> psf  3.46 +/- 0.71 arcsec \n",
      "image 19 ==> NBSTARS = 24\n",
      "average prf(x) = 4.36 +/- 0.53 pixels ==> psf  4.11 +/- 0.48 arcsec \n",
      "average prf(y) = 4.33 +/- 0.43 pixels ==> psf  4.08 +/- 0.39 arcsec \n",
      "image 20 ==> NBSTARS = 24\n",
      "average prf(x) = 4.26 +/- 0.49 pixels ==> psf  4.02 +/- 0.44 arcsec \n",
      "average prf(y) = 4.34 +/- 0.49 pixels ==> psf  4.10 +/- 0.44 arcsec \n",
      "image 21 ==> NBSTARS = 25\n",
      "average prf(x) = 4.31 +/- 0.54 pixels ==> psf  4.07 +/- 0.49 arcsec \n",
      "average prf(y) = 4.30 +/- 0.48 pixels ==> psf  4.06 +/- 0.43 arcsec \n",
      "image 22 ==> NBSTARS = 21\n",
      "average prf(x) = 4.47 +/- 0.49 pixels ==> psf  4.22 +/- 0.45 arcsec \n",
      "average prf(y) = 4.41 +/- 0.37 pixels ==> psf  4.16 +/- 0.34 arcsec \n",
      "image 23 ==> NBSTARS = 22\n",
      "average prf(x) = 4.45 +/- 0.34 pixels ==> psf  4.20 +/- 0.30 arcsec \n",
      "average prf(y) = 4.30 +/- 0.37 pixels ==> psf  4.06 +/- 0.33 arcsec \n",
      "image 24 ==> NBSTARS = 22\n",
      "average prf(x) = 4.60 +/- 0.56 pixels ==> psf  4.34 +/- 0.51 arcsec \n",
      "average prf(y) = 4.47 +/- 0.42 pixels ==> psf  4.22 +/- 0.38 arcsec \n"
     ]
    }
   ],
   "source": [
    "# loop on images\n",
    "index=-1\n",
    "for image in correctedimage_list:\n",
    "    index=index+1\n",
    "    mean, median, std = sigma_clipped_stats(image, sigma=10.0, iters=5) \n",
    "    sources = daofind(image - median, fwhm=3.0, threshold=50.*std)\n",
    "    selected_stars=sources.as_array()\n",
    "    NBSTARS=selected_stars.shape[0]\n",
    "    print 'image {} ==> NBSTARS = {}'.format(index,NBSTARS)\n",
    "    image_psf[index,0]=index\n",
    "    image_psf[index,1]=NBSTARS\n",
    "    star_psfx=np.zeros(NBSTARS)\n",
    "    star_psfy=np.zeros(NBSTARS)\n",
    "    # loop on stars\n",
    "    for istar in range(NBSTARS):\n",
    "        X = int(selected_stars[istar][1])\n",
    "        Y = int(selected_stars[istar][2])\n",
    "        prf_image = image[Y-DELTA_NBINSY:Y+DELTA_NBINSY,X-DELTA_NBINSX:X+DELTA_NBINSX]\n",
    "        oneprfX=prf_image.sum(axis=0)\n",
    "        oneprfY=prf_image.sum(axis=1)\n",
    "        if oneprfX.sum() == 0 or oneprfY.sum() == 0:\n",
    "            star_psfx[istar]=0\n",
    "            star_psfy[istar]=0\n",
    "        else:\n",
    "            posX,sigX=weighted_avg_and_std(np.arange(oneprfX.shape[0]),oneprfX)\n",
    "            posY,sigY=weighted_avg_and_std(np.arange(oneprfY.shape[0]),oneprfY)\n",
    "            star_psfx[istar]=sigX\n",
    "            star_psfy[istar]=sigY\n",
    "        \n",
    "    all_sigx=star_psfx[np.logical_not(np.isnan(star_psfx))]\n",
    "    all_sigy=star_psfy[np.logical_not(np.isnan(star_psfy))]\n",
    "    all_sigx=all_sigx[all_sigx>2.4]\n",
    "    all_sigy=all_sigy[all_sigy>2.4]\n",
    "    print 'average prf(x) = {:2.2f} +/- {:2.2f} pixels ==> psf  {:2.2f} +/- {:2.2f} arcsec '.format(np.median(all_sigx),all_sigx.std(),np.median(all_sigx)*0.4*2.36,all_sigx.std()*0.4*2.26)\n",
    "    print 'average prf(y) = {:2.2f} +/- {:2.2f} pixels ==> psf  {:2.2f} +/- {:2.2f} arcsec '.format(np.median(all_sigy),all_sigy.std(),np.median(all_sigy)*0.4*2.36,all_sigy.std()*0.4*2.26)\n",
    "    image_psf[index,2]=np.median(all_sigx)\n",
    "    image_psf[index,3]=np.median(all_sigy)\n",
    "    image_psf[index,4]=all_sigx.std()\n",
    "    image_psf[index,5]=all_sigy.std()"
   ]
  },
  {
   "cell_type": "markdown",
   "metadata": {
    "collapsed": false
   },
   "source": [
    "## Create astropy table"
   ]
  },
  {
   "cell_type": "code",
   "execution_count": 27,
   "metadata": {
    "collapsed": false
   },
   "outputs": [],
   "source": [
    "t=Table(rows=image_psf,names=('num','nbstars','prfx','pfry','sig_prfx','sig_prfy'),dtype=('i4','i4','f8','f8','f8','f8'))"
   ]
  },
  {
   "cell_type": "code",
   "execution_count": 28,
   "metadata": {
    "collapsed": false
   },
   "outputs": [
    {
     "data": {
      "text/html": [
       "&lt;Table length=25&gt;\n",
       "<table id=\"table7889607632\">\n",
       "<thead><tr><th>num</th><th>nbstars</th><th>prfx</th><th>pfry</th><th>sig_prfx</th><th>sig_prfy</th></tr></thead>\n",
       "<thead><tr><th>int32</th><th>int32</th><th>float64</th><th>float64</th><th>float64</th><th>float64</th></tr></thead>\n",
       "<tr><td>0</td><td>21</td><td>4.51917437069</td><td>4.41227611476</td><td>0.714686734982</td><td>0.470638109358</td></tr>\n",
       "<tr><td>1</td><td>15</td><td>4.37330406145</td><td>4.55735594953</td><td>0.724104853084</td><td>0.439038971578</td></tr>\n",
       "<tr><td>2</td><td>12</td><td>4.63608968996</td><td>4.14849632127</td><td>0.368357486235</td><td>0.460349718574</td></tr>\n",
       "<tr><td>3</td><td>23</td><td>4.63124096986</td><td>4.31863744567</td><td>0.427319048562</td><td>0.422820799627</td></tr>\n",
       "<tr><td>4</td><td>19</td><td>4.82428803566</td><td>4.2211565421</td><td>0.618518011995</td><td>0.492391423441</td></tr>\n",
       "<tr><td>5</td><td>18</td><td>4.53751815256</td><td>4.16726183081</td><td>0.341235964668</td><td>0.349962604607</td></tr>\n",
       "<tr><td>6</td><td>14</td><td>4.51257238741</td><td>4.4991794035</td><td>0.421523140932</td><td>0.37097916161</td></tr>\n",
       "<tr><td>7</td><td>11</td><td>4.38819420274</td><td>4.442448533</td><td>0.308672418031</td><td>0.262399443441</td></tr>\n",
       "<tr><td>8</td><td>25</td><td>4.68053308095</td><td>4.44502209162</td><td>0.379893380493</td><td>0.444990478455</td></tr>\n",
       "<tr><td>9</td><td>24</td><td>4.59068507983</td><td>4.43917717912</td><td>0.455862974376</td><td>0.329728470537</td></tr>\n",
       "<tr><td>...</td><td>...</td><td>...</td><td>...</td><td>...</td><td>...</td></tr>\n",
       "<tr><td>15</td><td>18</td><td>4.5099317243</td><td>4.21103397907</td><td>0.454810854596</td><td>0.368901882076</td></tr>\n",
       "<tr><td>16</td><td>18</td><td>4.44876223611</td><td>4.42591236553</td><td>0.470657286357</td><td>0.334001446694</td></tr>\n",
       "<tr><td>17</td><td>18</td><td>4.14879717937</td><td>4.45634512456</td><td>0.565680366914</td><td>0.417615943108</td></tr>\n",
       "<tr><td>18</td><td>30</td><td>4.81905166004</td><td>3.66357243286</td><td>0.873762122833</td><td>0.781950816234</td></tr>\n",
       "<tr><td>19</td><td>24</td><td>4.35824228453</td><td>4.32556051318</td><td>0.53369227698</td><td>0.429527066847</td></tr>\n",
       "<tr><td>20</td><td>24</td><td>4.26216855573</td><td>4.3426422493</td><td>0.491474790096</td><td>0.489584973916</td></tr>\n",
       "<tr><td>21</td><td>25</td><td>4.31437200963</td><td>4.30430167743</td><td>0.538877557519</td><td>0.477351463091</td></tr>\n",
       "<tr><td>22</td><td>21</td><td>4.46607344913</td><td>4.40922185022</td><td>0.493397715705</td><td>0.373279426969</td></tr>\n",
       "<tr><td>23</td><td>22</td><td>4.4507245146</td><td>4.2998067432</td><td>0.335751677951</td><td>0.367555672566</td></tr>\n",
       "<tr><td>24</td><td>22</td><td>4.59838590183</td><td>4.46701270864</td><td>0.56196352495</td><td>0.417391740944</td></tr>\n",
       "</table>"
      ],
      "text/plain": [
       "<Table length=25>\n",
       " num  nbstars      prfx          pfry        sig_prfx       sig_prfy   \n",
       "int32  int32     float64       float64       float64        float64    \n",
       "----- ------- ------------- ------------- -------------- --------------\n",
       "    0      21 4.51917437069 4.41227611476 0.714686734982 0.470638109358\n",
       "    1      15 4.37330406145 4.55735594953 0.724104853084 0.439038971578\n",
       "    2      12 4.63608968996 4.14849632127 0.368357486235 0.460349718574\n",
       "    3      23 4.63124096986 4.31863744567 0.427319048562 0.422820799627\n",
       "    4      19 4.82428803566  4.2211565421 0.618518011995 0.492391423441\n",
       "    5      18 4.53751815256 4.16726183081 0.341235964668 0.349962604607\n",
       "    6      14 4.51257238741  4.4991794035 0.421523140932  0.37097916161\n",
       "    7      11 4.38819420274   4.442448533 0.308672418031 0.262399443441\n",
       "    8      25 4.68053308095 4.44502209162 0.379893380493 0.444990478455\n",
       "    9      24 4.59068507983 4.43917717912 0.455862974376 0.329728470537\n",
       "  ...     ...           ...           ...            ...            ...\n",
       "   15      18  4.5099317243 4.21103397907 0.454810854596 0.368901882076\n",
       "   16      18 4.44876223611 4.42591236553 0.470657286357 0.334001446694\n",
       "   17      18 4.14879717937 4.45634512456 0.565680366914 0.417615943108\n",
       "   18      30 4.81905166004 3.66357243286 0.873762122833 0.781950816234\n",
       "   19      24 4.35824228453 4.32556051318  0.53369227698 0.429527066847\n",
       "   20      24 4.26216855573  4.3426422493 0.491474790096 0.489584973916\n",
       "   21      25 4.31437200963 4.30430167743 0.538877557519 0.477351463091\n",
       "   22      21 4.46607344913 4.40922185022 0.493397715705 0.373279426969\n",
       "   23      22  4.4507245146  4.2998067432 0.335751677951 0.367555672566\n",
       "   24      22 4.59838590183 4.46701270864  0.56196352495 0.417391740944"
      ]
     },
     "execution_count": 28,
     "metadata": {},
     "output_type": "execute_result"
    }
   ],
   "source": [
    "t"
   ]
  },
  {
   "cell_type": "code",
   "execution_count": 29,
   "metadata": {
    "collapsed": false
   },
   "outputs": [],
   "source": [
    "expo = Column(exposures_list, name='exposure')\n",
    "file = Column(basefile_list, name='file')\n",
    "time = Column(dateobs_list,name='time')"
   ]
  },
  {
   "cell_type": "code",
   "execution_count": 30,
   "metadata": {
    "collapsed": false
   },
   "outputs": [],
   "source": [
    "t.add_column(expo, index=1)\n",
    "t.add_column(time, index=1)\n",
    "t.add_column(file, index=1)"
   ]
  },
  {
   "cell_type": "code",
   "execution_count": 31,
   "metadata": {
    "collapsed": false
   },
   "outputs": [
    {
     "data": {
      "text/html": [
       "&lt;Table length=25&gt;\n",
       "<table id=\"table7889607632\">\n",
       "<thead><tr><th>num</th><th>file</th><th>time</th><th>exposure</th><th>nbstars</th><th>prfx</th><th>pfry</th><th>sig_prfx</th><th>sig_prfy</th></tr></thead>\n",
       "<thead><tr><th>int32</th><th>str28</th><th>str23</th><th>float64</th><th>int32</th><th>float64</th><th>float64</th><th>float64</th><th>float64</th></tr></thead>\n",
       "<tr><td>0</td><td>AssScImHD158485_grat_1.fits</td><td>2016-05-10T08:16:06.228</td><td>1.0</td><td>21</td><td>4.51917437069</td><td>4.41227611476</td><td>0.714686734982</td><td>0.470638109358</td></tr>\n",
       "<tr><td>1</td><td>AssScImHD158485_grat_2.fits</td><td>2016-05-10T08:17:42.514</td><td>1.5</td><td>15</td><td>4.37330406145</td><td>4.55735594953</td><td>0.724104853084</td><td>0.439038971578</td></tr>\n",
       "<tr><td>2</td><td>AssScImHD158485_grat_3.fits</td><td>2016-05-10T08:20:57.045</td><td>1.5</td><td>12</td><td>4.63608968996</td><td>4.14849632127</td><td>0.368357486235</td><td>0.460349718574</td></tr>\n",
       "<tr><td>3</td><td>AssScImHD158485_grat_4.fits</td><td>2016-05-10T08:21:03.531</td><td>1.5</td><td>23</td><td>4.63124096986</td><td>4.31863744567</td><td>0.427319048562</td><td>0.422820799627</td></tr>\n",
       "<tr><td>4</td><td>AssScImHD158485_grat_5.fits</td><td>2016-05-10T08:21:09.092</td><td>1.5</td><td>19</td><td>4.82428803566</td><td>4.2211565421</td><td>0.618518011995</td><td>0.492391423441</td></tr>\n",
       "<tr><td>5</td><td>AssScImHD158485_grat_6.fits</td><td>2016-05-10T10:37:40.318</td><td>1.5</td><td>18</td><td>4.53751815256</td><td>4.16726183081</td><td>0.341235964668</td><td>0.349962604607</td></tr>\n",
       "<tr><td>6</td><td>AssScImHD158485_grat_7.fits</td><td>2016-05-10T10:38:22.323</td><td>1.5</td><td>14</td><td>4.51257238741</td><td>4.4991794035</td><td>0.421523140932</td><td>0.37097916161</td></tr>\n",
       "<tr><td>7</td><td>AssScImHD158485_grat_8.fits</td><td>2016-05-10T10:38:57.336</td><td>1.5</td><td>11</td><td>4.38819420274</td><td>4.442448533</td><td>0.308672418031</td><td>0.262399443441</td></tr>\n",
       "<tr><td>8</td><td>AssScImHD158485_grat_9.fits</td><td>2016-05-10T10:39:04.394</td><td>1.5</td><td>25</td><td>4.68053308095</td><td>4.44502209162</td><td>0.379893380493</td><td>0.444990478455</td></tr>\n",
       "<tr><td>9</td><td>AssScImHD158485_grat_10.fits</td><td>2016-05-10T10:39:10.033</td><td>1.5</td><td>24</td><td>4.59068507983</td><td>4.43917717912</td><td>0.455862974376</td><td>0.329728470537</td></tr>\n",
       "<tr><td>...</td><td>...</td><td>...</td><td>...</td><td>...</td><td>...</td><td>...</td><td>...</td><td>...</td></tr>\n",
       "<tr><td>15</td><td>AssScImHD158485_grat_16.fits</td><td>2016-05-10T10:39:43.402</td><td>1.5</td><td>18</td><td>4.5099317243</td><td>4.21103397907</td><td>0.454810854596</td><td>0.368901882076</td></tr>\n",
       "<tr><td>16</td><td>AssScImHD158485_grat_17.fits</td><td>2016-05-10T10:39:48.835</td><td>1.5</td><td>18</td><td>4.44876223611</td><td>4.42591236553</td><td>0.470657286357</td><td>0.334001446694</td></tr>\n",
       "<tr><td>17</td><td>AssScImHD158485_grat_18.fits</td><td>2016-05-10T10:39:54.420</td><td>1.5</td><td>18</td><td>4.14879717937</td><td>4.45634512456</td><td>0.565680366914</td><td>0.417615943108</td></tr>\n",
       "<tr><td>18</td><td>AssScImHD158485_grat_19.fits</td><td>2016-05-10T10:39:59.903</td><td>1.5</td><td>30</td><td>4.81905166004</td><td>3.66357243286</td><td>0.873762122833</td><td>0.781950816234</td></tr>\n",
       "<tr><td>19</td><td>AssScImHD158485_grat_20.fits</td><td>2016-05-10T10:40:05.513</td><td>1.5</td><td>24</td><td>4.35824228453</td><td>4.32556051318</td><td>0.53369227698</td><td>0.429527066847</td></tr>\n",
       "<tr><td>20</td><td>AssScImHD158485_grat_21.fits</td><td>2016-05-10T10:40:10.964</td><td>1.5</td><td>24</td><td>4.26216855573</td><td>4.3426422493</td><td>0.491474790096</td><td>0.489584973916</td></tr>\n",
       "<tr><td>21</td><td>AssScImHD158485_grat_22.fits</td><td>2016-05-10T10:40:16.678</td><td>1.5</td><td>25</td><td>4.31437200963</td><td>4.30430167743</td><td>0.538877557519</td><td>0.477351463091</td></tr>\n",
       "<tr><td>22</td><td>AssScImHD158485_grat_23.fits</td><td>2016-05-10T10:40:22.204</td><td>1.5</td><td>21</td><td>4.46607344913</td><td>4.40922185022</td><td>0.493397715705</td><td>0.373279426969</td></tr>\n",
       "<tr><td>23</td><td>AssScImHD158485_grat_24.fits</td><td>2016-05-10T10:40:27.878</td><td>1.5</td><td>22</td><td>4.4507245146</td><td>4.2998067432</td><td>0.335751677951</td><td>0.367555672566</td></tr>\n",
       "<tr><td>24</td><td>AssScImHD158485_grat_25.fits</td><td>2016-05-10T10:40:33.376</td><td>1.5</td><td>22</td><td>4.59838590183</td><td>4.46701270864</td><td>0.56196352495</td><td>0.417391740944</td></tr>\n",
       "</table>"
      ],
      "text/plain": [
       "<Table length=25>\n",
       " num              file             ...    sig_prfx       sig_prfy   \n",
       "int32            str28             ...    float64        float64    \n",
       "----- ---------------------------- ... -------------- --------------\n",
       "    0  AssScImHD158485_grat_1.fits ... 0.714686734982 0.470638109358\n",
       "    1  AssScImHD158485_grat_2.fits ... 0.724104853084 0.439038971578\n",
       "    2  AssScImHD158485_grat_3.fits ... 0.368357486235 0.460349718574\n",
       "    3  AssScImHD158485_grat_4.fits ... 0.427319048562 0.422820799627\n",
       "    4  AssScImHD158485_grat_5.fits ... 0.618518011995 0.492391423441\n",
       "    5  AssScImHD158485_grat_6.fits ... 0.341235964668 0.349962604607\n",
       "    6  AssScImHD158485_grat_7.fits ... 0.421523140932  0.37097916161\n",
       "    7  AssScImHD158485_grat_8.fits ... 0.308672418031 0.262399443441\n",
       "    8  AssScImHD158485_grat_9.fits ... 0.379893380493 0.444990478455\n",
       "    9 AssScImHD158485_grat_10.fits ... 0.455862974376 0.329728470537\n",
       "  ...                          ... ...            ...            ...\n",
       "   15 AssScImHD158485_grat_16.fits ... 0.454810854596 0.368901882076\n",
       "   16 AssScImHD158485_grat_17.fits ... 0.470657286357 0.334001446694\n",
       "   17 AssScImHD158485_grat_18.fits ... 0.565680366914 0.417615943108\n",
       "   18 AssScImHD158485_grat_19.fits ... 0.873762122833 0.781950816234\n",
       "   19 AssScImHD158485_grat_20.fits ...  0.53369227698 0.429527066847\n",
       "   20 AssScImHD158485_grat_21.fits ... 0.491474790096 0.489584973916\n",
       "   21 AssScImHD158485_grat_22.fits ... 0.538877557519 0.477351463091\n",
       "   22 AssScImHD158485_grat_23.fits ... 0.493397715705 0.373279426969\n",
       "   23 AssScImHD158485_grat_24.fits ... 0.335751677951 0.367555672566\n",
       "   24 AssScImHD158485_grat_25.fits ...  0.56196352495 0.417391740944"
      ]
     },
     "execution_count": 31,
     "metadata": {},
     "output_type": "execute_result"
    }
   ],
   "source": [
    "t"
   ]
  },
  {
   "cell_type": "markdown",
   "metadata": {},
   "source": [
    "## Write output file"
   ]
  },
  {
   "cell_type": "code",
   "execution_count": 32,
   "metadata": {
    "collapsed": false
   },
   "outputs": [],
   "source": [
    "t.write(outputtablefile,format='fits')"
   ]
  },
  {
   "cell_type": "markdown",
   "metadata": {
    "collapsed": true
   },
   "source": [
    "## Pandas"
   ]
  },
  {
   "cell_type": "code",
   "execution_count": 33,
   "metadata": {
    "collapsed": true
   },
   "outputs": [],
   "source": [
    "df=t.to_pandas()"
   ]
  },
  {
   "cell_type": "code",
   "execution_count": 34,
   "metadata": {
    "collapsed": false
   },
   "outputs": [
    {
     "data": {
      "text/html": [
       "<div>\n",
       "<table border=\"1\" class=\"dataframe\">\n",
       "  <thead>\n",
       "    <tr style=\"text-align: right;\">\n",
       "      <th></th>\n",
       "      <th>num</th>\n",
       "      <th>exposure</th>\n",
       "      <th>nbstars</th>\n",
       "      <th>prfx</th>\n",
       "      <th>pfry</th>\n",
       "      <th>sig_prfx</th>\n",
       "      <th>sig_prfy</th>\n",
       "    </tr>\n",
       "  </thead>\n",
       "  <tbody>\n",
       "    <tr>\n",
       "      <th>count</th>\n",
       "      <td>25.000000</td>\n",
       "      <td>25.00</td>\n",
       "      <td>25.000000</td>\n",
       "      <td>25.000000</td>\n",
       "      <td>25.000000</td>\n",
       "      <td>25.000000</td>\n",
       "      <td>25.000000</td>\n",
       "    </tr>\n",
       "    <tr>\n",
       "      <th>mean</th>\n",
       "      <td>12.000000</td>\n",
       "      <td>1.48</td>\n",
       "      <td>20.120000</td>\n",
       "      <td>4.501416</td>\n",
       "      <td>4.345221</td>\n",
       "      <td>0.498199</td>\n",
       "      <td>0.412205</td>\n",
       "    </tr>\n",
       "    <tr>\n",
       "      <th>std</th>\n",
       "      <td>7.359801</td>\n",
       "      <td>0.10</td>\n",
       "      <td>4.719816</td>\n",
       "      <td>0.173333</td>\n",
       "      <td>0.179147</td>\n",
       "      <td>0.132740</td>\n",
       "      <td>0.104753</td>\n",
       "    </tr>\n",
       "    <tr>\n",
       "      <th>min</th>\n",
       "      <td>0.000000</td>\n",
       "      <td>1.00</td>\n",
       "      <td>11.000000</td>\n",
       "      <td>4.148797</td>\n",
       "      <td>3.663572</td>\n",
       "      <td>0.308672</td>\n",
       "      <td>0.210265</td>\n",
       "    </tr>\n",
       "    <tr>\n",
       "      <th>25%</th>\n",
       "      <td>6.000000</td>\n",
       "      <td>1.50</td>\n",
       "      <td>18.000000</td>\n",
       "      <td>4.373304</td>\n",
       "      <td>4.304302</td>\n",
       "      <td>0.421523</td>\n",
       "      <td>0.367556</td>\n",
       "    </tr>\n",
       "    <tr>\n",
       "      <th>50%</th>\n",
       "      <td>12.000000</td>\n",
       "      <td>1.50</td>\n",
       "      <td>21.000000</td>\n",
       "      <td>4.509932</td>\n",
       "      <td>4.409222</td>\n",
       "      <td>0.470657</td>\n",
       "      <td>0.417392</td>\n",
       "    </tr>\n",
       "    <tr>\n",
       "      <th>75%</th>\n",
       "      <td>18.000000</td>\n",
       "      <td>1.50</td>\n",
       "      <td>24.000000</td>\n",
       "      <td>4.631241</td>\n",
       "      <td>4.456345</td>\n",
       "      <td>0.561964</td>\n",
       "      <td>0.460350</td>\n",
       "    </tr>\n",
       "    <tr>\n",
       "      <th>max</th>\n",
       "      <td>24.000000</td>\n",
       "      <td>1.50</td>\n",
       "      <td>30.000000</td>\n",
       "      <td>4.824288</td>\n",
       "      <td>4.557356</td>\n",
       "      <td>0.873762</td>\n",
       "      <td>0.781951</td>\n",
       "    </tr>\n",
       "  </tbody>\n",
       "</table>\n",
       "</div>"
      ],
      "text/plain": [
       "             num  exposure    nbstars       prfx       pfry   sig_prfx  \\\n",
       "count  25.000000     25.00  25.000000  25.000000  25.000000  25.000000   \n",
       "mean   12.000000      1.48  20.120000   4.501416   4.345221   0.498199   \n",
       "std     7.359801      0.10   4.719816   0.173333   0.179147   0.132740   \n",
       "min     0.000000      1.00  11.000000   4.148797   3.663572   0.308672   \n",
       "25%     6.000000      1.50  18.000000   4.373304   4.304302   0.421523   \n",
       "50%    12.000000      1.50  21.000000   4.509932   4.409222   0.470657   \n",
       "75%    18.000000      1.50  24.000000   4.631241   4.456345   0.561964   \n",
       "max    24.000000      1.50  30.000000   4.824288   4.557356   0.873762   \n",
       "\n",
       "        sig_prfy  \n",
       "count  25.000000  \n",
       "mean    0.412205  \n",
       "std     0.104753  \n",
       "min     0.210265  \n",
       "25%     0.367556  \n",
       "50%     0.417392  \n",
       "75%     0.460350  \n",
       "max     0.781951  "
      ]
     },
     "execution_count": 34,
     "metadata": {},
     "output_type": "execute_result"
    }
   ],
   "source": [
    "df.describe()"
   ]
  },
  {
   "cell_type": "code",
   "execution_count": null,
   "metadata": {
    "collapsed": true
   },
   "outputs": [],
   "source": []
  }
 ],
 "metadata": {
  "kernelspec": {
   "display_name": "Python 2",
   "language": "python",
   "name": "python2"
  },
  "language_info": {
   "codemirror_mode": {
    "name": "ipython",
    "version": 2
   },
   "file_extension": ".py",
   "mimetype": "text/x-python",
   "name": "python",
   "nbconvert_exporter": "python",
   "pygments_lexer": "ipython2",
   "version": "2.7.12"
  }
 },
 "nbformat": 4,
 "nbformat_minor": 0
}
