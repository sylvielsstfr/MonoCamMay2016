{
 "cells": [
  {
   "cell_type": "markdown",
   "metadata": {},
   "source": [
    "# Read Astropy tables on PSF\n",
    "\n",
    "- creation June 30th 2016\n",
    "- author Sylvie Dagoret-Campagne\n",
    "- Update July 6th 2016\n"
   ]
  },
  {
   "cell_type": "code",
   "execution_count": 1,
   "metadata": {
    "collapsed": true
   },
   "outputs": [],
   "source": [
    "%matplotlib inline\n",
    "import matplotlib.pyplot as plt\n",
    "import numpy as np\n",
    "\n",
    "from astropy.modeling import models\n",
    "from astropy import units as u\n",
    "from astropy import nddata\n",
    "from astropy.io import fits\n",
    "\n",
    "from astropy.table import Table\n",
    "from astropy.table import Column\n",
    "\n",
    "import pandas as pd"
   ]
  },
  {
   "cell_type": "code",
   "execution_count": 2,
   "metadata": {
    "collapsed": true
   },
   "outputs": [],
   "source": [
    "intputtablefile1='HD158485_grat_1-25_TablePSF.fits'"
   ]
  },
  {
   "cell_type": "code",
   "execution_count": 3,
   "metadata": {
    "collapsed": false
   },
   "outputs": [],
   "source": [
    " t1 = Table.read(intputtablefile1)"
   ]
  },
  {
   "cell_type": "code",
   "execution_count": 4,
   "metadata": {
    "collapsed": false
   },
   "outputs": [
    {
     "data": {
      "text/html": [
       "&lt;Table length=25&gt;\n",
       "<table id=\"table4487234384\">\n",
       "<thead><tr><th>num</th><th>file</th><th>time</th><th>exposure</th><th>nbstars</th><th>prfx</th><th>pfry</th><th>sig_prfx</th><th>sig_prfy</th></tr></thead>\n",
       "<thead><tr><th>int32</th><th>str28</th><th>str23</th><th>float64</th><th>int32</th><th>float64</th><th>float64</th><th>float64</th><th>float64</th></tr></thead>\n",
       "<tr><td>0</td><td>AssScImHD158485_grat_1.fits</td><td>2016-05-10T08:16:06.228</td><td>1.0</td><td>21</td><td>4.51917437069</td><td>4.41227611476</td><td>0.714686734982</td><td>0.470638109358</td></tr>\n",
       "<tr><td>1</td><td>AssScImHD158485_grat_2.fits</td><td>2016-05-10T08:17:42.514</td><td>1.5</td><td>15</td><td>4.37330406145</td><td>4.55735594953</td><td>0.724104853084</td><td>0.439038971578</td></tr>\n",
       "<tr><td>2</td><td>AssScImHD158485_grat_3.fits</td><td>2016-05-10T08:20:57.045</td><td>1.5</td><td>12</td><td>4.63608968996</td><td>4.14849632127</td><td>0.368357486235</td><td>0.460349718574</td></tr>\n",
       "<tr><td>3</td><td>AssScImHD158485_grat_4.fits</td><td>2016-05-10T08:21:03.531</td><td>1.5</td><td>23</td><td>4.63124096986</td><td>4.31863744567</td><td>0.427319048562</td><td>0.422820799627</td></tr>\n",
       "<tr><td>4</td><td>AssScImHD158485_grat_5.fits</td><td>2016-05-10T08:21:09.092</td><td>1.5</td><td>19</td><td>4.82428803566</td><td>4.2211565421</td><td>0.618518011995</td><td>0.492391423441</td></tr>\n",
       "<tr><td>5</td><td>AssScImHD158485_grat_6.fits</td><td>2016-05-10T10:37:40.318</td><td>1.5</td><td>18</td><td>4.53751815256</td><td>4.16726183081</td><td>0.341235964668</td><td>0.349962604607</td></tr>\n",
       "<tr><td>6</td><td>AssScImHD158485_grat_7.fits</td><td>2016-05-10T10:38:22.323</td><td>1.5</td><td>14</td><td>4.51257238741</td><td>4.4991794035</td><td>0.421523140932</td><td>0.37097916161</td></tr>\n",
       "<tr><td>7</td><td>AssScImHD158485_grat_8.fits</td><td>2016-05-10T10:38:57.336</td><td>1.5</td><td>11</td><td>4.38819420274</td><td>4.442448533</td><td>0.308672418031</td><td>0.262399443441</td></tr>\n",
       "<tr><td>8</td><td>AssScImHD158485_grat_9.fits</td><td>2016-05-10T10:39:04.394</td><td>1.5</td><td>25</td><td>4.68053308095</td><td>4.44502209162</td><td>0.379893380493</td><td>0.444990478455</td></tr>\n",
       "<tr><td>9</td><td>AssScImHD158485_grat_10.fits</td><td>2016-05-10T10:39:10.033</td><td>1.5</td><td>24</td><td>4.59068507983</td><td>4.43917717912</td><td>0.455862974376</td><td>0.329728470537</td></tr>\n",
       "<tr><td>...</td><td>...</td><td>...</td><td>...</td><td>...</td><td>...</td><td>...</td><td>...</td><td>...</td></tr>\n",
       "<tr><td>15</td><td>AssScImHD158485_grat_16.fits</td><td>2016-05-10T10:39:43.402</td><td>1.5</td><td>18</td><td>4.5099317243</td><td>4.21103397907</td><td>0.454810854596</td><td>0.368901882076</td></tr>\n",
       "<tr><td>16</td><td>AssScImHD158485_grat_17.fits</td><td>2016-05-10T10:39:48.835</td><td>1.5</td><td>18</td><td>4.44876223611</td><td>4.42591236553</td><td>0.470657286357</td><td>0.334001446694</td></tr>\n",
       "<tr><td>17</td><td>AssScImHD158485_grat_18.fits</td><td>2016-05-10T10:39:54.420</td><td>1.5</td><td>18</td><td>4.14879717937</td><td>4.45634512456</td><td>0.565680366914</td><td>0.417615943108</td></tr>\n",
       "<tr><td>18</td><td>AssScImHD158485_grat_19.fits</td><td>2016-05-10T10:39:59.903</td><td>1.5</td><td>30</td><td>4.81905166004</td><td>3.66357243286</td><td>0.873762122833</td><td>0.781950816234</td></tr>\n",
       "<tr><td>19</td><td>AssScImHD158485_grat_20.fits</td><td>2016-05-10T10:40:05.513</td><td>1.5</td><td>24</td><td>4.35824228453</td><td>4.32556051318</td><td>0.53369227698</td><td>0.429527066847</td></tr>\n",
       "<tr><td>20</td><td>AssScImHD158485_grat_21.fits</td><td>2016-05-10T10:40:10.964</td><td>1.5</td><td>24</td><td>4.26216855573</td><td>4.3426422493</td><td>0.491474790096</td><td>0.489584973916</td></tr>\n",
       "<tr><td>21</td><td>AssScImHD158485_grat_22.fits</td><td>2016-05-10T10:40:16.678</td><td>1.5</td><td>25</td><td>4.31437200963</td><td>4.30430167743</td><td>0.538877557519</td><td>0.477351463091</td></tr>\n",
       "<tr><td>22</td><td>AssScImHD158485_grat_23.fits</td><td>2016-05-10T10:40:22.204</td><td>1.5</td><td>21</td><td>4.46607344913</td><td>4.40922185022</td><td>0.493397715705</td><td>0.373279426969</td></tr>\n",
       "<tr><td>23</td><td>AssScImHD158485_grat_24.fits</td><td>2016-05-10T10:40:27.878</td><td>1.5</td><td>22</td><td>4.4507245146</td><td>4.2998067432</td><td>0.335751677951</td><td>0.367555672566</td></tr>\n",
       "<tr><td>24</td><td>AssScImHD158485_grat_25.fits</td><td>2016-05-10T10:40:33.376</td><td>1.5</td><td>22</td><td>4.59838590183</td><td>4.46701270864</td><td>0.56196352495</td><td>0.417391740944</td></tr>\n",
       "</table>"
      ],
      "text/plain": [
       "<Table length=25>\n",
       " num              file             ...    sig_prfx       sig_prfy   \n",
       "int32            str28             ...    float64        float64    \n",
       "----- ---------------------------- ... -------------- --------------\n",
       "    0  AssScImHD158485_grat_1.fits ... 0.714686734982 0.470638109358\n",
       "    1  AssScImHD158485_grat_2.fits ... 0.724104853084 0.439038971578\n",
       "    2  AssScImHD158485_grat_3.fits ... 0.368357486235 0.460349718574\n",
       "    3  AssScImHD158485_grat_4.fits ... 0.427319048562 0.422820799627\n",
       "    4  AssScImHD158485_grat_5.fits ... 0.618518011995 0.492391423441\n",
       "    5  AssScImHD158485_grat_6.fits ... 0.341235964668 0.349962604607\n",
       "    6  AssScImHD158485_grat_7.fits ... 0.421523140932  0.37097916161\n",
       "    7  AssScImHD158485_grat_8.fits ... 0.308672418031 0.262399443441\n",
       "    8  AssScImHD158485_grat_9.fits ... 0.379893380493 0.444990478455\n",
       "    9 AssScImHD158485_grat_10.fits ... 0.455862974376 0.329728470537\n",
       "  ...                          ... ...            ...            ...\n",
       "   15 AssScImHD158485_grat_16.fits ... 0.454810854596 0.368901882076\n",
       "   16 AssScImHD158485_grat_17.fits ... 0.470657286357 0.334001446694\n",
       "   17 AssScImHD158485_grat_18.fits ... 0.565680366914 0.417615943108\n",
       "   18 AssScImHD158485_grat_19.fits ... 0.873762122833 0.781950816234\n",
       "   19 AssScImHD158485_grat_20.fits ...  0.53369227698 0.429527066847\n",
       "   20 AssScImHD158485_grat_21.fits ... 0.491474790096 0.489584973916\n",
       "   21 AssScImHD158485_grat_22.fits ... 0.538877557519 0.477351463091\n",
       "   22 AssScImHD158485_grat_23.fits ... 0.493397715705 0.373279426969\n",
       "   23 AssScImHD158485_grat_24.fits ... 0.335751677951 0.367555672566\n",
       "   24 AssScImHD158485_grat_25.fits ...  0.56196352495 0.417391740944"
      ]
     },
     "execution_count": 4,
     "metadata": {},
     "output_type": "execute_result"
    }
   ],
   "source": [
    "t1"
   ]
  },
  {
   "cell_type": "code",
   "execution_count": 5,
   "metadata": {
    "collapsed": false
   },
   "outputs": [],
   "source": [
    "df1=t1.to_pandas()"
   ]
  },
  {
   "cell_type": "code",
   "execution_count": 6,
   "metadata": {
    "collapsed": false
   },
   "outputs": [
    {
     "data": {
      "text/html": [
       "<div>\n",
       "<table border=\"1\" class=\"dataframe\">\n",
       "  <thead>\n",
       "    <tr style=\"text-align: right;\">\n",
       "      <th></th>\n",
       "      <th>num</th>\n",
       "      <th>exposure</th>\n",
       "      <th>nbstars</th>\n",
       "      <th>prfx</th>\n",
       "      <th>pfry</th>\n",
       "      <th>sig_prfx</th>\n",
       "      <th>sig_prfy</th>\n",
       "    </tr>\n",
       "  </thead>\n",
       "  <tbody>\n",
       "    <tr>\n",
       "      <th>count</th>\n",
       "      <td>25.000000</td>\n",
       "      <td>25.00</td>\n",
       "      <td>25.000000</td>\n",
       "      <td>25.000000</td>\n",
       "      <td>25.000000</td>\n",
       "      <td>25.000000</td>\n",
       "      <td>25.000000</td>\n",
       "    </tr>\n",
       "    <tr>\n",
       "      <th>mean</th>\n",
       "      <td>12.000000</td>\n",
       "      <td>1.48</td>\n",
       "      <td>20.120000</td>\n",
       "      <td>4.501416</td>\n",
       "      <td>4.345221</td>\n",
       "      <td>0.498199</td>\n",
       "      <td>0.412205</td>\n",
       "    </tr>\n",
       "    <tr>\n",
       "      <th>std</th>\n",
       "      <td>7.359801</td>\n",
       "      <td>0.10</td>\n",
       "      <td>4.719816</td>\n",
       "      <td>0.173333</td>\n",
       "      <td>0.179147</td>\n",
       "      <td>0.132740</td>\n",
       "      <td>0.104753</td>\n",
       "    </tr>\n",
       "    <tr>\n",
       "      <th>min</th>\n",
       "      <td>0.000000</td>\n",
       "      <td>1.00</td>\n",
       "      <td>11.000000</td>\n",
       "      <td>4.148797</td>\n",
       "      <td>3.663572</td>\n",
       "      <td>0.308672</td>\n",
       "      <td>0.210265</td>\n",
       "    </tr>\n",
       "    <tr>\n",
       "      <th>25%</th>\n",
       "      <td>6.000000</td>\n",
       "      <td>1.50</td>\n",
       "      <td>18.000000</td>\n",
       "      <td>4.373304</td>\n",
       "      <td>4.304302</td>\n",
       "      <td>0.421523</td>\n",
       "      <td>0.367556</td>\n",
       "    </tr>\n",
       "    <tr>\n",
       "      <th>50%</th>\n",
       "      <td>12.000000</td>\n",
       "      <td>1.50</td>\n",
       "      <td>21.000000</td>\n",
       "      <td>4.509932</td>\n",
       "      <td>4.409222</td>\n",
       "      <td>0.470657</td>\n",
       "      <td>0.417392</td>\n",
       "    </tr>\n",
       "    <tr>\n",
       "      <th>75%</th>\n",
       "      <td>18.000000</td>\n",
       "      <td>1.50</td>\n",
       "      <td>24.000000</td>\n",
       "      <td>4.631241</td>\n",
       "      <td>4.456345</td>\n",
       "      <td>0.561964</td>\n",
       "      <td>0.460350</td>\n",
       "    </tr>\n",
       "    <tr>\n",
       "      <th>max</th>\n",
       "      <td>24.000000</td>\n",
       "      <td>1.50</td>\n",
       "      <td>30.000000</td>\n",
       "      <td>4.824288</td>\n",
       "      <td>4.557356</td>\n",
       "      <td>0.873762</td>\n",
       "      <td>0.781951</td>\n",
       "    </tr>\n",
       "  </tbody>\n",
       "</table>\n",
       "</div>"
      ],
      "text/plain": [
       "             num  exposure    nbstars       prfx       pfry   sig_prfx  \\\n",
       "count  25.000000     25.00  25.000000  25.000000  25.000000  25.000000   \n",
       "mean   12.000000      1.48  20.120000   4.501416   4.345221   0.498199   \n",
       "std     7.359801      0.10   4.719816   0.173333   0.179147   0.132740   \n",
       "min     0.000000      1.00  11.000000   4.148797   3.663572   0.308672   \n",
       "25%     6.000000      1.50  18.000000   4.373304   4.304302   0.421523   \n",
       "50%    12.000000      1.50  21.000000   4.509932   4.409222   0.470657   \n",
       "75%    18.000000      1.50  24.000000   4.631241   4.456345   0.561964   \n",
       "max    24.000000      1.50  30.000000   4.824288   4.557356   0.873762   \n",
       "\n",
       "        sig_prfy  \n",
       "count  25.000000  \n",
       "mean    0.412205  \n",
       "std     0.104753  \n",
       "min     0.210265  \n",
       "25%     0.367556  \n",
       "50%     0.417392  \n",
       "75%     0.460350  \n",
       "max     0.781951  "
      ]
     },
     "execution_count": 6,
     "metadata": {},
     "output_type": "execute_result"
    }
   ],
   "source": [
    "df1.describe() # pandas able to show statistics"
   ]
  },
  {
   "cell_type": "code",
   "execution_count": 7,
   "metadata": {
    "collapsed": false
   },
   "outputs": [
    {
     "data": {
      "text/plain": [
       "<matplotlib.figure.Figure at 0x106d82c50>"
      ]
     },
     "metadata": {},
     "output_type": "display_data"
    },
    {
     "data": {
      "image/png": "[encoded data removed]",
      "text/plain": [
       "<matplotlib.figure.Figure at 0x10b7bd2d0>"
      ]
     },
     "metadata": {},
     "output_type": "display_data"
    }
   ],
   "source": [
    "plt.figure(figsize=(10,6))\n",
    "df1_2=df1[['num', 'prfx','pfry']]\n",
    "df1_2.plot('num',['prfx','pfry'],ylim=(0.,5.),figsize=(10,5))\n",
    "plt.legend(loc='upper right')\n",
    "plt.show()"
   ]
  },
  {
   "cell_type": "code",
   "execution_count": 8,
   "metadata": {
    "collapsed": true
   },
   "outputs": [],
   "source": [
    "df1_no_missing = df1.dropna()"
   ]
  },
  {
   "cell_type": "code",
   "execution_count": 9,
   "metadata": {
    "collapsed": false
   },
   "outputs": [
    {
     "data": {
      "text/html": [
       "<div>\n",
       "<table border=\"1\" class=\"dataframe\">\n",
       "  <thead>\n",
       "    <tr style=\"text-align: right;\">\n",
       "      <th></th>\n",
       "      <th>num</th>\n",
       "      <th>exposure</th>\n",
       "      <th>nbstars</th>\n",
       "      <th>prfx</th>\n",
       "      <th>pfry</th>\n",
       "      <th>sig_prfx</th>\n",
       "      <th>sig_prfy</th>\n",
       "    </tr>\n",
       "  </thead>\n",
       "  <tbody>\n",
       "    <tr>\n",
       "      <th>count</th>\n",
       "      <td>25.000000</td>\n",
       "      <td>25.00</td>\n",
       "      <td>25.000000</td>\n",
       "      <td>25.000000</td>\n",
       "      <td>25.000000</td>\n",
       "      <td>25.000000</td>\n",
       "      <td>25.000000</td>\n",
       "    </tr>\n",
       "    <tr>\n",
       "      <th>mean</th>\n",
       "      <td>12.000000</td>\n",
       "      <td>1.48</td>\n",
       "      <td>20.120000</td>\n",
       "      <td>4.501416</td>\n",
       "      <td>4.345221</td>\n",
       "      <td>0.498199</td>\n",
       "      <td>0.412205</td>\n",
       "    </tr>\n",
       "    <tr>\n",
       "      <th>std</th>\n",
       "      <td>7.359801</td>\n",
       "      <td>0.10</td>\n",
       "      <td>4.719816</td>\n",
       "      <td>0.173333</td>\n",
       "      <td>0.179147</td>\n",
       "      <td>0.132740</td>\n",
       "      <td>0.104753</td>\n",
       "    </tr>\n",
       "    <tr>\n",
       "      <th>min</th>\n",
       "      <td>0.000000</td>\n",
       "      <td>1.00</td>\n",
       "      <td>11.000000</td>\n",
       "      <td>4.148797</td>\n",
       "      <td>3.663572</td>\n",
       "      <td>0.308672</td>\n",
       "      <td>0.210265</td>\n",
       "    </tr>\n",
       "    <tr>\n",
       "      <th>25%</th>\n",
       "      <td>6.000000</td>\n",
       "      <td>1.50</td>\n",
       "      <td>18.000000</td>\n",
       "      <td>4.373304</td>\n",
       "      <td>4.304302</td>\n",
       "      <td>0.421523</td>\n",
       "      <td>0.367556</td>\n",
       "    </tr>\n",
       "    <tr>\n",
       "      <th>50%</th>\n",
       "      <td>12.000000</td>\n",
       "      <td>1.50</td>\n",
       "      <td>21.000000</td>\n",
       "      <td>4.509932</td>\n",
       "      <td>4.409222</td>\n",
       "      <td>0.470657</td>\n",
       "      <td>0.417392</td>\n",
       "    </tr>\n",
       "    <tr>\n",
       "      <th>75%</th>\n",
       "      <td>18.000000</td>\n",
       "      <td>1.50</td>\n",
       "      <td>24.000000</td>\n",
       "      <td>4.631241</td>\n",
       "      <td>4.456345</td>\n",
       "      <td>0.561964</td>\n",
       "      <td>0.460350</td>\n",
       "    </tr>\n",
       "    <tr>\n",
       "      <th>max</th>\n",
       "      <td>24.000000</td>\n",
       "      <td>1.50</td>\n",
       "      <td>30.000000</td>\n",
       "      <td>4.824288</td>\n",
       "      <td>4.557356</td>\n",
       "      <td>0.873762</td>\n",
       "      <td>0.781951</td>\n",
       "    </tr>\n",
       "  </tbody>\n",
       "</table>\n",
       "</div>"
      ],
      "text/plain": [
       "             num  exposure    nbstars       prfx       pfry   sig_prfx  \\\n",
       "count  25.000000     25.00  25.000000  25.000000  25.000000  25.000000   \n",
       "mean   12.000000      1.48  20.120000   4.501416   4.345221   0.498199   \n",
       "std     7.359801      0.10   4.719816   0.173333   0.179147   0.132740   \n",
       "min     0.000000      1.00  11.000000   4.148797   3.663572   0.308672   \n",
       "25%     6.000000      1.50  18.000000   4.373304   4.304302   0.421523   \n",
       "50%    12.000000      1.50  21.000000   4.509932   4.409222   0.470657   \n",
       "75%    18.000000      1.50  24.000000   4.631241   4.456345   0.561964   \n",
       "max    24.000000      1.50  30.000000   4.824288   4.557356   0.873762   \n",
       "\n",
       "        sig_prfy  \n",
       "count  25.000000  \n",
       "mean    0.412205  \n",
       "std     0.104753  \n",
       "min     0.210265  \n",
       "25%     0.367556  \n",
       "50%     0.417392  \n",
       "75%     0.460350  \n",
       "max     0.781951  "
      ]
     },
     "execution_count": 9,
     "metadata": {},
     "output_type": "execute_result"
    }
   ],
   "source": [
    "df1_no_missing.describe()"
   ]
  },
  {
   "cell_type": "code",
   "execution_count": null,
   "metadata": {
    "collapsed": false
   },
   "outputs": [],
   "source": []
  },
  {
   "cell_type": "markdown",
   "metadata": {},
   "source": [
    "## Now use the number in the filename to overwrite the num"
   ]
  },
  {
   "cell_type": "code",
   "execution_count": 10,
   "metadata": {
    "collapsed": true
   },
   "outputs": [],
   "source": [
    "import re  # use regular expression to extract the file number"
   ]
  },
  {
   "cell_type": "code",
   "execution_count": 12,
   "metadata": {
    "collapsed": true
   },
   "outputs": [],
   "source": [
    "filenames_df1=df1['file']"
   ]
  },
  {
   "cell_type": "code",
   "execution_count": 13,
   "metadata": {
    "collapsed": false
   },
   "outputs": [],
   "source": [
    "NB_OF_FILES_df1=len(filenames_df1)"
   ]
  },
  {
   "cell_type": "code",
   "execution_count": 15,
   "metadata": {
    "collapsed": false
   },
   "outputs": [],
   "source": [
    "filenumber_df1=np.zeros(NB_OF_FILES_df1,dtype='i4')"
   ]
  },
  {
   "cell_type": "code",
   "execution_count": 16,
   "metadata": {
    "collapsed": false
   },
   "outputs": [],
   "source": [
    "for id,file in enumerate(filenames_df1):\n",
    "    filenumber_df1[id]=int( re.findall('^AssScImHD158485_grat_([0-9]+)',file)[0])"
   ]
  },
  {
   "cell_type": "code",
   "execution_count": 17,
   "metadata": {
    "collapsed": false
   },
   "outputs": [
    {
     "data": {
      "text/plain": [
       "array([ 1,  2,  3,  4,  5,  6,  7,  8,  9, 10, 11, 12, 13, 14, 15, 16, 17,\n",
       "       18, 19, 20, 21, 22, 23, 24, 25], dtype=int32)"
      ]
     },
     "execution_count": 17,
     "metadata": {},
     "output_type": "execute_result"
    }
   ],
   "source": [
    "filenumber_df1"
   ]
  },
  {
   "cell_type": "code",
   "execution_count": 18,
   "metadata": {
    "collapsed": true
   },
   "outputs": [],
   "source": [
    "df1_3=df1"
   ]
  },
  {
   "cell_type": "code",
   "execution_count": 19,
   "metadata": {
    "collapsed": true
   },
   "outputs": [],
   "source": [
    "df1_3['num']=filenumber_df1"
   ]
  },
  {
   "cell_type": "code",
   "execution_count": 20,
   "metadata": {
    "collapsed": false
   },
   "outputs": [
    {
     "data": {
      "text/html": [
       "<div>\n",
       "<table border=\"1\" class=\"dataframe\">\n",
       "  <thead>\n",
       "    <tr style=\"text-align: right;\">\n",
       "      <th></th>\n",
       "      <th>num</th>\n",
       "      <th>file</th>\n",
       "      <th>time</th>\n",
       "      <th>exposure</th>\n",
       "      <th>nbstars</th>\n",
       "      <th>prfx</th>\n",
       "      <th>pfry</th>\n",
       "      <th>sig_prfx</th>\n",
       "      <th>sig_prfy</th>\n",
       "    </tr>\n",
       "  </thead>\n",
       "  <tbody>\n",
       "    <tr>\n",
       "      <th>0</th>\n",
       "      <td>1</td>\n",
       "      <td>AssScImHD158485_grat_1.fits</td>\n",
       "      <td>2016-05-10T08:16:06.228</td>\n",
       "      <td>1.0</td>\n",
       "      <td>21</td>\n",
       "      <td>4.519174</td>\n",
       "      <td>4.412276</td>\n",
       "      <td>0.714687</td>\n",
       "      <td>0.470638</td>\n",
       "    </tr>\n",
       "    <tr>\n",
       "      <th>1</th>\n",
       "      <td>2</td>\n",
       "      <td>AssScImHD158485_grat_2.fits</td>\n",
       "      <td>2016-05-10T08:17:42.514</td>\n",
       "      <td>1.5</td>\n",
       "      <td>15</td>\n",
       "      <td>4.373304</td>\n",
       "      <td>4.557356</td>\n",
       "      <td>0.724105</td>\n",
       "      <td>0.439039</td>\n",
       "    </tr>\n",
       "    <tr>\n",
       "      <th>2</th>\n",
       "      <td>3</td>\n",
       "      <td>AssScImHD158485_grat_3.fits</td>\n",
       "      <td>2016-05-10T08:20:57.045</td>\n",
       "      <td>1.5</td>\n",
       "      <td>12</td>\n",
       "      <td>4.636090</td>\n",
       "      <td>4.148496</td>\n",
       "      <td>0.368357</td>\n",
       "      <td>0.460350</td>\n",
       "    </tr>\n",
       "    <tr>\n",
       "      <th>3</th>\n",
       "      <td>4</td>\n",
       "      <td>AssScImHD158485_grat_4.fits</td>\n",
       "      <td>2016-05-10T08:21:03.531</td>\n",
       "      <td>1.5</td>\n",
       "      <td>23</td>\n",
       "      <td>4.631241</td>\n",
       "      <td>4.318637</td>\n",
       "      <td>0.427319</td>\n",
       "      <td>0.422821</td>\n",
       "    </tr>\n",
       "    <tr>\n",
       "      <th>4</th>\n",
       "      <td>5</td>\n",
       "      <td>AssScImHD158485_grat_5.fits</td>\n",
       "      <td>2016-05-10T08:21:09.092</td>\n",
       "      <td>1.5</td>\n",
       "      <td>19</td>\n",
       "      <td>4.824288</td>\n",
       "      <td>4.221157</td>\n",
       "      <td>0.618518</td>\n",
       "      <td>0.492391</td>\n",
       "    </tr>\n",
       "    <tr>\n",
       "      <th>5</th>\n",
       "      <td>6</td>\n",
       "      <td>AssScImHD158485_grat_6.fits</td>\n",
       "      <td>2016-05-10T10:37:40.318</td>\n",
       "      <td>1.5</td>\n",
       "      <td>18</td>\n",
       "      <td>4.537518</td>\n",
       "      <td>4.167262</td>\n",
       "      <td>0.341236</td>\n",
       "      <td>0.349963</td>\n",
       "    </tr>\n",
       "    <tr>\n",
       "      <th>6</th>\n",
       "      <td>7</td>\n",
       "      <td>AssScImHD158485_grat_7.fits</td>\n",
       "      <td>2016-05-10T10:38:22.323</td>\n",
       "      <td>1.5</td>\n",
       "      <td>14</td>\n",
       "      <td>4.512572</td>\n",
       "      <td>4.499179</td>\n",
       "      <td>0.421523</td>\n",
       "      <td>0.370979</td>\n",
       "    </tr>\n",
       "    <tr>\n",
       "      <th>7</th>\n",
       "      <td>8</td>\n",
       "      <td>AssScImHD158485_grat_8.fits</td>\n",
       "      <td>2016-05-10T10:38:57.336</td>\n",
       "      <td>1.5</td>\n",
       "      <td>11</td>\n",
       "      <td>4.388194</td>\n",
       "      <td>4.442449</td>\n",
       "      <td>0.308672</td>\n",
       "      <td>0.262399</td>\n",
       "    </tr>\n",
       "    <tr>\n",
       "      <th>8</th>\n",
       "      <td>9</td>\n",
       "      <td>AssScImHD158485_grat_9.fits</td>\n",
       "      <td>2016-05-10T10:39:04.394</td>\n",
       "      <td>1.5</td>\n",
       "      <td>25</td>\n",
       "      <td>4.680533</td>\n",
       "      <td>4.445022</td>\n",
       "      <td>0.379893</td>\n",
       "      <td>0.444990</td>\n",
       "    </tr>\n",
       "    <tr>\n",
       "      <th>9</th>\n",
       "      <td>10</td>\n",
       "      <td>AssScImHD158485_grat_10.fits</td>\n",
       "      <td>2016-05-10T10:39:10.033</td>\n",
       "      <td>1.5</td>\n",
       "      <td>24</td>\n",
       "      <td>4.590685</td>\n",
       "      <td>4.439177</td>\n",
       "      <td>0.455863</td>\n",
       "      <td>0.329728</td>\n",
       "    </tr>\n",
       "    <tr>\n",
       "      <th>10</th>\n",
       "      <td>11</td>\n",
       "      <td>AssScImHD158485_grat_11.fits</td>\n",
       "      <td>2016-05-10T10:39:15.577</td>\n",
       "      <td>1.5</td>\n",
       "      <td>22</td>\n",
       "      <td>4.352763</td>\n",
       "      <td>4.475804</td>\n",
       "      <td>0.595750</td>\n",
       "      <td>0.367797</td>\n",
       "    </tr>\n",
       "    <tr>\n",
       "      <th>11</th>\n",
       "      <td>12</td>\n",
       "      <td>AssScImHD158485_grat_12.fits</td>\n",
       "      <td>2016-05-10T10:39:21.146</td>\n",
       "      <td>1.5</td>\n",
       "      <td>21</td>\n",
       "      <td>4.719365</td>\n",
       "      <td>4.487081</td>\n",
       "      <td>0.423002</td>\n",
       "      <td>0.390868</td>\n",
       "    </tr>\n",
       "    <tr>\n",
       "      <th>12</th>\n",
       "      <td>13</td>\n",
       "      <td>AssScImHD158485_grat_13.fits</td>\n",
       "      <td>2016-05-10T10:39:26.680</td>\n",
       "      <td>1.5</td>\n",
       "      <td>19</td>\n",
       "      <td>4.260262</td>\n",
       "      <td>4.319021</td>\n",
       "      <td>0.437845</td>\n",
       "      <td>0.210265</td>\n",
       "    </tr>\n",
       "    <tr>\n",
       "      <th>13</th>\n",
       "      <td>14</td>\n",
       "      <td>AssScImHD158485_grat_14.fits</td>\n",
       "      <td>2016-05-10T10:39:32.263</td>\n",
       "      <td>1.5</td>\n",
       "      <td>25</td>\n",
       "      <td>4.667855</td>\n",
       "      <td>4.310301</td>\n",
       "      <td>0.421425</td>\n",
       "      <td>0.339138</td>\n",
       "    </tr>\n",
       "    <tr>\n",
       "      <th>14</th>\n",
       "      <td>15</td>\n",
       "      <td>AssScImHD158485_grat_15.fits</td>\n",
       "      <td>2016-05-10T10:39:37.720</td>\n",
       "      <td>1.5</td>\n",
       "      <td>12</td>\n",
       "      <td>4.465040</td>\n",
       "      <td>4.481902</td>\n",
       "      <td>0.496707</td>\n",
       "      <td>0.496600</td>\n",
       "    </tr>\n",
       "    <tr>\n",
       "      <th>15</th>\n",
       "      <td>16</td>\n",
       "      <td>AssScImHD158485_grat_16.fits</td>\n",
       "      <td>2016-05-10T10:39:43.402</td>\n",
       "      <td>1.5</td>\n",
       "      <td>18</td>\n",
       "      <td>4.509932</td>\n",
       "      <td>4.211034</td>\n",
       "      <td>0.454811</td>\n",
       "      <td>0.368902</td>\n",
       "    </tr>\n",
       "    <tr>\n",
       "      <th>16</th>\n",
       "      <td>17</td>\n",
       "      <td>AssScImHD158485_grat_17.fits</td>\n",
       "      <td>2016-05-10T10:39:48.835</td>\n",
       "      <td>1.5</td>\n",
       "      <td>18</td>\n",
       "      <td>4.448762</td>\n",
       "      <td>4.425912</td>\n",
       "      <td>0.470657</td>\n",
       "      <td>0.334001</td>\n",
       "    </tr>\n",
       "    <tr>\n",
       "      <th>17</th>\n",
       "      <td>18</td>\n",
       "      <td>AssScImHD158485_grat_18.fits</td>\n",
       "      <td>2016-05-10T10:39:54.420</td>\n",
       "      <td>1.5</td>\n",
       "      <td>18</td>\n",
       "      <td>4.148797</td>\n",
       "      <td>4.456345</td>\n",
       "      <td>0.565680</td>\n",
       "      <td>0.417616</td>\n",
       "    </tr>\n",
       "    <tr>\n",
       "      <th>18</th>\n",
       "      <td>19</td>\n",
       "      <td>AssScImHD158485_grat_19.fits</td>\n",
       "      <td>2016-05-10T10:39:59.903</td>\n",
       "      <td>1.5</td>\n",
       "      <td>30</td>\n",
       "      <td>4.819052</td>\n",
       "      <td>3.663572</td>\n",
       "      <td>0.873762</td>\n",
       "      <td>0.781951</td>\n",
       "    </tr>\n",
       "    <tr>\n",
       "      <th>19</th>\n",
       "      <td>20</td>\n",
       "      <td>AssScImHD158485_grat_20.fits</td>\n",
       "      <td>2016-05-10T10:40:05.513</td>\n",
       "      <td>1.5</td>\n",
       "      <td>24</td>\n",
       "      <td>4.358242</td>\n",
       "      <td>4.325561</td>\n",
       "      <td>0.533692</td>\n",
       "      <td>0.429527</td>\n",
       "    </tr>\n",
       "    <tr>\n",
       "      <th>20</th>\n",
       "      <td>21</td>\n",
       "      <td>AssScImHD158485_grat_21.fits</td>\n",
       "      <td>2016-05-10T10:40:10.964</td>\n",
       "      <td>1.5</td>\n",
       "      <td>24</td>\n",
       "      <td>4.262169</td>\n",
       "      <td>4.342642</td>\n",
       "      <td>0.491475</td>\n",
       "      <td>0.489585</td>\n",
       "    </tr>\n",
       "    <tr>\n",
       "      <th>21</th>\n",
       "      <td>22</td>\n",
       "      <td>AssScImHD158485_grat_22.fits</td>\n",
       "      <td>2016-05-10T10:40:16.678</td>\n",
       "      <td>1.5</td>\n",
       "      <td>25</td>\n",
       "      <td>4.314372</td>\n",
       "      <td>4.304302</td>\n",
       "      <td>0.538878</td>\n",
       "      <td>0.477351</td>\n",
       "    </tr>\n",
       "    <tr>\n",
       "      <th>22</th>\n",
       "      <td>23</td>\n",
       "      <td>AssScImHD158485_grat_23.fits</td>\n",
       "      <td>2016-05-10T10:40:22.204</td>\n",
       "      <td>1.5</td>\n",
       "      <td>21</td>\n",
       "      <td>4.466073</td>\n",
       "      <td>4.409222</td>\n",
       "      <td>0.493398</td>\n",
       "      <td>0.373279</td>\n",
       "    </tr>\n",
       "    <tr>\n",
       "      <th>23</th>\n",
       "      <td>24</td>\n",
       "      <td>AssScImHD158485_grat_24.fits</td>\n",
       "      <td>2016-05-10T10:40:27.878</td>\n",
       "      <td>1.5</td>\n",
       "      <td>22</td>\n",
       "      <td>4.450725</td>\n",
       "      <td>4.299807</td>\n",
       "      <td>0.335752</td>\n",
       "      <td>0.367556</td>\n",
       "    </tr>\n",
       "    <tr>\n",
       "      <th>24</th>\n",
       "      <td>25</td>\n",
       "      <td>AssScImHD158485_grat_25.fits</td>\n",
       "      <td>2016-05-10T10:40:33.376</td>\n",
       "      <td>1.5</td>\n",
       "      <td>22</td>\n",
       "      <td>4.598386</td>\n",
       "      <td>4.467013</td>\n",
       "      <td>0.561964</td>\n",
       "      <td>0.417392</td>\n",
       "    </tr>\n",
       "  </tbody>\n",
       "</table>\n",
       "</div>"
      ],
      "text/plain": [
       "    num                          file                     time  exposure  \\\n",
       "0     1   AssScImHD158485_grat_1.fits  2016-05-10T08:16:06.228       1.0   \n",
       "1     2   AssScImHD158485_grat_2.fits  2016-05-10T08:17:42.514       1.5   \n",
       "2     3   AssScImHD158485_grat_3.fits  2016-05-10T08:20:57.045       1.5   \n",
       "3     4   AssScImHD158485_grat_4.fits  2016-05-10T08:21:03.531       1.5   \n",
       "4     5   AssScImHD158485_grat_5.fits  2016-05-10T08:21:09.092       1.5   \n",
       "5     6   AssScImHD158485_grat_6.fits  2016-05-10T10:37:40.318       1.5   \n",
       "6     7   AssScImHD158485_grat_7.fits  2016-05-10T10:38:22.323       1.5   \n",
       "7     8   AssScImHD158485_grat_8.fits  2016-05-10T10:38:57.336       1.5   \n",
       "8     9   AssScImHD158485_grat_9.fits  2016-05-10T10:39:04.394       1.5   \n",
       "9    10  AssScImHD158485_grat_10.fits  2016-05-10T10:39:10.033       1.5   \n",
       "10   11  AssScImHD158485_grat_11.fits  2016-05-10T10:39:15.577       1.5   \n",
       "11   12  AssScImHD158485_grat_12.fits  2016-05-10T10:39:21.146       1.5   \n",
       "12   13  AssScImHD158485_grat_13.fits  2016-05-10T10:39:26.680       1.5   \n",
       "13   14  AssScImHD158485_grat_14.fits  2016-05-10T10:39:32.263       1.5   \n",
       "14   15  AssScImHD158485_grat_15.fits  2016-05-10T10:39:37.720       1.5   \n",
       "15   16  AssScImHD158485_grat_16.fits  2016-05-10T10:39:43.402       1.5   \n",
       "16   17  AssScImHD158485_grat_17.fits  2016-05-10T10:39:48.835       1.5   \n",
       "17   18  AssScImHD158485_grat_18.fits  2016-05-10T10:39:54.420       1.5   \n",
       "18   19  AssScImHD158485_grat_19.fits  2016-05-10T10:39:59.903       1.5   \n",
       "19   20  AssScImHD158485_grat_20.fits  2016-05-10T10:40:05.513       1.5   \n",
       "20   21  AssScImHD158485_grat_21.fits  2016-05-10T10:40:10.964       1.5   \n",
       "21   22  AssScImHD158485_grat_22.fits  2016-05-10T10:40:16.678       1.5   \n",
       "22   23  AssScImHD158485_grat_23.fits  2016-05-10T10:40:22.204       1.5   \n",
       "23   24  AssScImHD158485_grat_24.fits  2016-05-10T10:40:27.878       1.5   \n",
       "24   25  AssScImHD158485_grat_25.fits  2016-05-10T10:40:33.376       1.5   \n",
       "\n",
       "    nbstars      prfx      pfry  sig_prfx  sig_prfy  \n",
       "0        21  4.519174  4.412276  0.714687  0.470638  \n",
       "1        15  4.373304  4.557356  0.724105  0.439039  \n",
       "2        12  4.636090  4.148496  0.368357  0.460350  \n",
       "3        23  4.631241  4.318637  0.427319  0.422821  \n",
       "4        19  4.824288  4.221157  0.618518  0.492391  \n",
       "5        18  4.537518  4.167262  0.341236  0.349963  \n",
       "6        14  4.512572  4.499179  0.421523  0.370979  \n",
       "7        11  4.388194  4.442449  0.308672  0.262399  \n",
       "8        25  4.680533  4.445022  0.379893  0.444990  \n",
       "9        24  4.590685  4.439177  0.455863  0.329728  \n",
       "10       22  4.352763  4.475804  0.595750  0.367797  \n",
       "11       21  4.719365  4.487081  0.423002  0.390868  \n",
       "12       19  4.260262  4.319021  0.437845  0.210265  \n",
       "13       25  4.667855  4.310301  0.421425  0.339138  \n",
       "14       12  4.465040  4.481902  0.496707  0.496600  \n",
       "15       18  4.509932  4.211034  0.454811  0.368902  \n",
       "16       18  4.448762  4.425912  0.470657  0.334001  \n",
       "17       18  4.148797  4.456345  0.565680  0.417616  \n",
       "18       30  4.819052  3.663572  0.873762  0.781951  \n",
       "19       24  4.358242  4.325561  0.533692  0.429527  \n",
       "20       24  4.262169  4.342642  0.491475  0.489585  \n",
       "21       25  4.314372  4.304302  0.538878  0.477351  \n",
       "22       21  4.466073  4.409222  0.493398  0.373279  \n",
       "23       22  4.450725  4.299807  0.335752  0.367556  \n",
       "24       22  4.598386  4.467013  0.561964  0.417392  "
      ]
     },
     "execution_count": 20,
     "metadata": {},
     "output_type": "execute_result"
    }
   ],
   "source": [
    "df1_3"
   ]
  },
  {
   "cell_type": "code",
   "execution_count": 21,
   "metadata": {
    "collapsed": true
   },
   "outputs": [],
   "source": [
    "full_dataset=df1_3"
   ]
  },
  {
   "cell_type": "code",
   "execution_count": 22,
   "metadata": {
    "collapsed": false
   },
   "outputs": [
    {
     "data": {
      "text/plain": [
       "<matplotlib.figure.Figure at 0x10b944590>"
      ]
     },
     "metadata": {},
     "output_type": "display_data"
    },
    {
     "data": {
      "image/png": "[encoded data removed]",
      "text/plain": [
       "<matplotlib.figure.Figure at 0x10b944d10>"
      ]
     },
     "metadata": {},
     "output_type": "display_data"
    }
   ],
   "source": [
    "fig = plt.figure()\n",
    "full_dataset_2=full_dataset[['num', 'prfx','pfry']]\n",
    "ax=full_dataset_2.plot('num',['prfx','pfry'],lw=2,colormap='jet',marker='.',markersize=10,title='PSF in X and Y axis MONOCAM (2016/05/11) for HD158485_grat',ylim=(0.,6.),figsize=(15,5))\n",
    "ax.set_xlabel(\"image number\",fontsize=18)\n",
    "ax.set_ylabel(\" $\\sigma_x$ and $\\sigma_y$ in pixels\",fontsize=18)\n",
    "title='PSF in X and Y axis MONOCAM (2016/05/09) for HD158485_grat'\n",
    "fig.suptitle(title, fontsize=20)\n",
    "plt.legend(loc='upper right')\n",
    "\n",
    "fig.savefig('PRFXY_HD158485_grat_20160509.jpg')\n",
    "plt.show()  # pandas able to remove NaN\n",
    "\n"
   ]
  },
  {
   "cell_type": "code",
   "execution_count": null,
   "metadata": {
    "collapsed": false
   },
   "outputs": [],
   "source": []
  },
  {
   "cell_type": "code",
   "execution_count": 23,
   "metadata": {
    "collapsed": true
   },
   "outputs": [],
   "source": [
    "PixToArcsec=0.944"
   ]
  },
  {
   "cell_type": "code",
   "execution_count": 24,
   "metadata": {
    "collapsed": false
   },
   "outputs": [],
   "source": [
    "sigmax=full_dataset['prfx']*PixToArcsec"
   ]
  },
  {
   "cell_type": "code",
   "execution_count": 25,
   "metadata": {
    "collapsed": true
   },
   "outputs": [],
   "source": [
    "series_sigmax=pd.Series(sigmax)"
   ]
  },
  {
   "cell_type": "code",
   "execution_count": null,
   "metadata": {
    "collapsed": false
   },
   "outputs": [],
   "source": []
  },
  {
   "cell_type": "code",
   "execution_count": 26,
   "metadata": {
    "collapsed": true
   },
   "outputs": [],
   "source": [
    "sigmay=full_dataset['pfry']*PixToArcsec"
   ]
  },
  {
   "cell_type": "code",
   "execution_count": 27,
   "metadata": {
    "collapsed": true
   },
   "outputs": [],
   "source": [
    "series_sigmay=pd.Series(sigmay)"
   ]
  },
  {
   "cell_type": "code",
   "execution_count": 28,
   "metadata": {
    "collapsed": false
   },
   "outputs": [
    {
     "data": {
      "text/html": [
       "<div>\n",
       "<table border=\"1\" class=\"dataframe\">\n",
       "  <thead>\n",
       "    <tr style=\"text-align: right;\">\n",
       "      <th></th>\n",
       "      <th>num</th>\n",
       "      <th>file</th>\n",
       "      <th>time</th>\n",
       "      <th>exposure</th>\n",
       "      <th>nbstars</th>\n",
       "      <th>prfx</th>\n",
       "      <th>pfry</th>\n",
       "      <th>sig_prfx</th>\n",
       "      <th>sig_prfy</th>\n",
       "    </tr>\n",
       "  </thead>\n",
       "  <tbody>\n",
       "    <tr>\n",
       "      <th>0</th>\n",
       "      <td>1</td>\n",
       "      <td>AssScImHD158485_grat_1.fits</td>\n",
       "      <td>2016-05-10T08:16:06.228</td>\n",
       "      <td>1.0</td>\n",
       "      <td>21</td>\n",
       "      <td>4.519174</td>\n",
       "      <td>4.412276</td>\n",
       "      <td>0.714687</td>\n",
       "      <td>0.470638</td>\n",
       "    </tr>\n",
       "    <tr>\n",
       "      <th>1</th>\n",
       "      <td>2</td>\n",
       "      <td>AssScImHD158485_grat_2.fits</td>\n",
       "      <td>2016-05-10T08:17:42.514</td>\n",
       "      <td>1.5</td>\n",
       "      <td>15</td>\n",
       "      <td>4.373304</td>\n",
       "      <td>4.557356</td>\n",
       "      <td>0.724105</td>\n",
       "      <td>0.439039</td>\n",
       "    </tr>\n",
       "    <tr>\n",
       "      <th>2</th>\n",
       "      <td>3</td>\n",
       "      <td>AssScImHD158485_grat_3.fits</td>\n",
       "      <td>2016-05-10T08:20:57.045</td>\n",
       "      <td>1.5</td>\n",
       "      <td>12</td>\n",
       "      <td>4.636090</td>\n",
       "      <td>4.148496</td>\n",
       "      <td>0.368357</td>\n",
       "      <td>0.460350</td>\n",
       "    </tr>\n",
       "    <tr>\n",
       "      <th>3</th>\n",
       "      <td>4</td>\n",
       "      <td>AssScImHD158485_grat_4.fits</td>\n",
       "      <td>2016-05-10T08:21:03.531</td>\n",
       "      <td>1.5</td>\n",
       "      <td>23</td>\n",
       "      <td>4.631241</td>\n",
       "      <td>4.318637</td>\n",
       "      <td>0.427319</td>\n",
       "      <td>0.422821</td>\n",
       "    </tr>\n",
       "    <tr>\n",
       "      <th>4</th>\n",
       "      <td>5</td>\n",
       "      <td>AssScImHD158485_grat_5.fits</td>\n",
       "      <td>2016-05-10T08:21:09.092</td>\n",
       "      <td>1.5</td>\n",
       "      <td>19</td>\n",
       "      <td>4.824288</td>\n",
       "      <td>4.221157</td>\n",
       "      <td>0.618518</td>\n",
       "      <td>0.492391</td>\n",
       "    </tr>\n",
       "    <tr>\n",
       "      <th>5</th>\n",
       "      <td>6</td>\n",
       "      <td>AssScImHD158485_grat_6.fits</td>\n",
       "      <td>2016-05-10T10:37:40.318</td>\n",
       "      <td>1.5</td>\n",
       "      <td>18</td>\n",
       "      <td>4.537518</td>\n",
       "      <td>4.167262</td>\n",
       "      <td>0.341236</td>\n",
       "      <td>0.349963</td>\n",
       "    </tr>\n",
       "    <tr>\n",
       "      <th>6</th>\n",
       "      <td>7</td>\n",
       "      <td>AssScImHD158485_grat_7.fits</td>\n",
       "      <td>2016-05-10T10:38:22.323</td>\n",
       "      <td>1.5</td>\n",
       "      <td>14</td>\n",
       "      <td>4.512572</td>\n",
       "      <td>4.499179</td>\n",
       "      <td>0.421523</td>\n",
       "      <td>0.370979</td>\n",
       "    </tr>\n",
       "    <tr>\n",
       "      <th>7</th>\n",
       "      <td>8</td>\n",
       "      <td>AssScImHD158485_grat_8.fits</td>\n",
       "      <td>2016-05-10T10:38:57.336</td>\n",
       "      <td>1.5</td>\n",
       "      <td>11</td>\n",
       "      <td>4.388194</td>\n",
       "      <td>4.442449</td>\n",
       "      <td>0.308672</td>\n",
       "      <td>0.262399</td>\n",
       "    </tr>\n",
       "    <tr>\n",
       "      <th>8</th>\n",
       "      <td>9</td>\n",
       "      <td>AssScImHD158485_grat_9.fits</td>\n",
       "      <td>2016-05-10T10:39:04.394</td>\n",
       "      <td>1.5</td>\n",
       "      <td>25</td>\n",
       "      <td>4.680533</td>\n",
       "      <td>4.445022</td>\n",
       "      <td>0.379893</td>\n",
       "      <td>0.444990</td>\n",
       "    </tr>\n",
       "    <tr>\n",
       "      <th>9</th>\n",
       "      <td>10</td>\n",
       "      <td>AssScImHD158485_grat_10.fits</td>\n",
       "      <td>2016-05-10T10:39:10.033</td>\n",
       "      <td>1.5</td>\n",
       "      <td>24</td>\n",
       "      <td>4.590685</td>\n",
       "      <td>4.439177</td>\n",
       "      <td>0.455863</td>\n",
       "      <td>0.329728</td>\n",
       "    </tr>\n",
       "    <tr>\n",
       "      <th>10</th>\n",
       "      <td>11</td>\n",
       "      <td>AssScImHD158485_grat_11.fits</td>\n",
       "      <td>2016-05-10T10:39:15.577</td>\n",
       "      <td>1.5</td>\n",
       "      <td>22</td>\n",
       "      <td>4.352763</td>\n",
       "      <td>4.475804</td>\n",
       "      <td>0.595750</td>\n",
       "      <td>0.367797</td>\n",
       "    </tr>\n",
       "    <tr>\n",
       "      <th>11</th>\n",
       "      <td>12</td>\n",
       "      <td>AssScImHD158485_grat_12.fits</td>\n",
       "      <td>2016-05-10T10:39:21.146</td>\n",
       "      <td>1.5</td>\n",
       "      <td>21</td>\n",
       "      <td>4.719365</td>\n",
       "      <td>4.487081</td>\n",
       "      <td>0.423002</td>\n",
       "      <td>0.390868</td>\n",
       "    </tr>\n",
       "    <tr>\n",
       "      <th>12</th>\n",
       "      <td>13</td>\n",
       "      <td>AssScImHD158485_grat_13.fits</td>\n",
       "      <td>2016-05-10T10:39:26.680</td>\n",
       "      <td>1.5</td>\n",
       "      <td>19</td>\n",
       "      <td>4.260262</td>\n",
       "      <td>4.319021</td>\n",
       "      <td>0.437845</td>\n",
       "      <td>0.210265</td>\n",
       "    </tr>\n",
       "    <tr>\n",
       "      <th>13</th>\n",
       "      <td>14</td>\n",
       "      <td>AssScImHD158485_grat_14.fits</td>\n",
       "      <td>2016-05-10T10:39:32.263</td>\n",
       "      <td>1.5</td>\n",
       "      <td>25</td>\n",
       "      <td>4.667855</td>\n",
       "      <td>4.310301</td>\n",
       "      <td>0.421425</td>\n",
       "      <td>0.339138</td>\n",
       "    </tr>\n",
       "    <tr>\n",
       "      <th>14</th>\n",
       "      <td>15</td>\n",
       "      <td>AssScImHD158485_grat_15.fits</td>\n",
       "      <td>2016-05-10T10:39:37.720</td>\n",
       "      <td>1.5</td>\n",
       "      <td>12</td>\n",
       "      <td>4.465040</td>\n",
       "      <td>4.481902</td>\n",
       "      <td>0.496707</td>\n",
       "      <td>0.496600</td>\n",
       "    </tr>\n",
       "    <tr>\n",
       "      <th>15</th>\n",
       "      <td>16</td>\n",
       "      <td>AssScImHD158485_grat_16.fits</td>\n",
       "      <td>2016-05-10T10:39:43.402</td>\n",
       "      <td>1.5</td>\n",
       "      <td>18</td>\n",
       "      <td>4.509932</td>\n",
       "      <td>4.211034</td>\n",
       "      <td>0.454811</td>\n",
       "      <td>0.368902</td>\n",
       "    </tr>\n",
       "    <tr>\n",
       "      <th>16</th>\n",
       "      <td>17</td>\n",
       "      <td>AssScImHD158485_grat_17.fits</td>\n",
       "      <td>2016-05-10T10:39:48.835</td>\n",
       "      <td>1.5</td>\n",
       "      <td>18</td>\n",
       "      <td>4.448762</td>\n",
       "      <td>4.425912</td>\n",
       "      <td>0.470657</td>\n",
       "      <td>0.334001</td>\n",
       "    </tr>\n",
       "    <tr>\n",
       "      <th>17</th>\n",
       "      <td>18</td>\n",
       "      <td>AssScImHD158485_grat_18.fits</td>\n",
       "      <td>2016-05-10T10:39:54.420</td>\n",
       "      <td>1.5</td>\n",
       "      <td>18</td>\n",
       "      <td>4.148797</td>\n",
       "      <td>4.456345</td>\n",
       "      <td>0.565680</td>\n",
       "      <td>0.417616</td>\n",
       "    </tr>\n",
       "    <tr>\n",
       "      <th>18</th>\n",
       "      <td>19</td>\n",
       "      <td>AssScImHD158485_grat_19.fits</td>\n",
       "      <td>2016-05-10T10:39:59.903</td>\n",
       "      <td>1.5</td>\n",
       "      <td>30</td>\n",
       "      <td>4.819052</td>\n",
       "      <td>3.663572</td>\n",
       "      <td>0.873762</td>\n",
       "      <td>0.781951</td>\n",
       "    </tr>\n",
       "    <tr>\n",
       "      <th>19</th>\n",
       "      <td>20</td>\n",
       "      <td>AssScImHD158485_grat_20.fits</td>\n",
       "      <td>2016-05-10T10:40:05.513</td>\n",
       "      <td>1.5</td>\n",
       "      <td>24</td>\n",
       "      <td>4.358242</td>\n",
       "      <td>4.325561</td>\n",
       "      <td>0.533692</td>\n",
       "      <td>0.429527</td>\n",
       "    </tr>\n",
       "    <tr>\n",
       "      <th>20</th>\n",
       "      <td>21</td>\n",
       "      <td>AssScImHD158485_grat_21.fits</td>\n",
       "      <td>2016-05-10T10:40:10.964</td>\n",
       "      <td>1.5</td>\n",
       "      <td>24</td>\n",
       "      <td>4.262169</td>\n",
       "      <td>4.342642</td>\n",
       "      <td>0.491475</td>\n",
       "      <td>0.489585</td>\n",
       "    </tr>\n",
       "    <tr>\n",
       "      <th>21</th>\n",
       "      <td>22</td>\n",
       "      <td>AssScImHD158485_grat_22.fits</td>\n",
       "      <td>2016-05-10T10:40:16.678</td>\n",
       "      <td>1.5</td>\n",
       "      <td>25</td>\n",
       "      <td>4.314372</td>\n",
       "      <td>4.304302</td>\n",
       "      <td>0.538878</td>\n",
       "      <td>0.477351</td>\n",
       "    </tr>\n",
       "    <tr>\n",
       "      <th>22</th>\n",
       "      <td>23</td>\n",
       "      <td>AssScImHD158485_grat_23.fits</td>\n",
       "      <td>2016-05-10T10:40:22.204</td>\n",
       "      <td>1.5</td>\n",
       "      <td>21</td>\n",
       "      <td>4.466073</td>\n",
       "      <td>4.409222</td>\n",
       "      <td>0.493398</td>\n",
       "      <td>0.373279</td>\n",
       "    </tr>\n",
       "    <tr>\n",
       "      <th>23</th>\n",
       "      <td>24</td>\n",
       "      <td>AssScImHD158485_grat_24.fits</td>\n",
       "      <td>2016-05-10T10:40:27.878</td>\n",
       "      <td>1.5</td>\n",
       "      <td>22</td>\n",
       "      <td>4.450725</td>\n",
       "      <td>4.299807</td>\n",
       "      <td>0.335752</td>\n",
       "      <td>0.367556</td>\n",
       "    </tr>\n",
       "    <tr>\n",
       "      <th>24</th>\n",
       "      <td>25</td>\n",
       "      <td>AssScImHD158485_grat_25.fits</td>\n",
       "      <td>2016-05-10T10:40:33.376</td>\n",
       "      <td>1.5</td>\n",
       "      <td>22</td>\n",
       "      <td>4.598386</td>\n",
       "      <td>4.467013</td>\n",
       "      <td>0.561964</td>\n",
       "      <td>0.417392</td>\n",
       "    </tr>\n",
       "  </tbody>\n",
       "</table>\n",
       "</div>"
      ],
      "text/plain": [
       "    num                          file                     time  exposure  \\\n",
       "0     1   AssScImHD158485_grat_1.fits  2016-05-10T08:16:06.228       1.0   \n",
       "1     2   AssScImHD158485_grat_2.fits  2016-05-10T08:17:42.514       1.5   \n",
       "2     3   AssScImHD158485_grat_3.fits  2016-05-10T08:20:57.045       1.5   \n",
       "3     4   AssScImHD158485_grat_4.fits  2016-05-10T08:21:03.531       1.5   \n",
       "4     5   AssScImHD158485_grat_5.fits  2016-05-10T08:21:09.092       1.5   \n",
       "5     6   AssScImHD158485_grat_6.fits  2016-05-10T10:37:40.318       1.5   \n",
       "6     7   AssScImHD158485_grat_7.fits  2016-05-10T10:38:22.323       1.5   \n",
       "7     8   AssScImHD158485_grat_8.fits  2016-05-10T10:38:57.336       1.5   \n",
       "8     9   AssScImHD158485_grat_9.fits  2016-05-10T10:39:04.394       1.5   \n",
       "9    10  AssScImHD158485_grat_10.fits  2016-05-10T10:39:10.033       1.5   \n",
       "10   11  AssScImHD158485_grat_11.fits  2016-05-10T10:39:15.577       1.5   \n",
       "11   12  AssScImHD158485_grat_12.fits  2016-05-10T10:39:21.146       1.5   \n",
       "12   13  AssScImHD158485_grat_13.fits  2016-05-10T10:39:26.680       1.5   \n",
       "13   14  AssScImHD158485_grat_14.fits  2016-05-10T10:39:32.263       1.5   \n",
       "14   15  AssScImHD158485_grat_15.fits  2016-05-10T10:39:37.720       1.5   \n",
       "15   16  AssScImHD158485_grat_16.fits  2016-05-10T10:39:43.402       1.5   \n",
       "16   17  AssScImHD158485_grat_17.fits  2016-05-10T10:39:48.835       1.5   \n",
       "17   18  AssScImHD158485_grat_18.fits  2016-05-10T10:39:54.420       1.5   \n",
       "18   19  AssScImHD158485_grat_19.fits  2016-05-10T10:39:59.903       1.5   \n",
       "19   20  AssScImHD158485_grat_20.fits  2016-05-10T10:40:05.513       1.5   \n",
       "20   21  AssScImHD158485_grat_21.fits  2016-05-10T10:40:10.964       1.5   \n",
       "21   22  AssScImHD158485_grat_22.fits  2016-05-10T10:40:16.678       1.5   \n",
       "22   23  AssScImHD158485_grat_23.fits  2016-05-10T10:40:22.204       1.5   \n",
       "23   24  AssScImHD158485_grat_24.fits  2016-05-10T10:40:27.878       1.5   \n",
       "24   25  AssScImHD158485_grat_25.fits  2016-05-10T10:40:33.376       1.5   \n",
       "\n",
       "    nbstars      prfx      pfry  sig_prfx  sig_prfy  \n",
       "0        21  4.519174  4.412276  0.714687  0.470638  \n",
       "1        15  4.373304  4.557356  0.724105  0.439039  \n",
       "2        12  4.636090  4.148496  0.368357  0.460350  \n",
       "3        23  4.631241  4.318637  0.427319  0.422821  \n",
       "4        19  4.824288  4.221157  0.618518  0.492391  \n",
       "5        18  4.537518  4.167262  0.341236  0.349963  \n",
       "6        14  4.512572  4.499179  0.421523  0.370979  \n",
       "7        11  4.388194  4.442449  0.308672  0.262399  \n",
       "8        25  4.680533  4.445022  0.379893  0.444990  \n",
       "9        24  4.590685  4.439177  0.455863  0.329728  \n",
       "10       22  4.352763  4.475804  0.595750  0.367797  \n",
       "11       21  4.719365  4.487081  0.423002  0.390868  \n",
       "12       19  4.260262  4.319021  0.437845  0.210265  \n",
       "13       25  4.667855  4.310301  0.421425  0.339138  \n",
       "14       12  4.465040  4.481902  0.496707  0.496600  \n",
       "15       18  4.509932  4.211034  0.454811  0.368902  \n",
       "16       18  4.448762  4.425912  0.470657  0.334001  \n",
       "17       18  4.148797  4.456345  0.565680  0.417616  \n",
       "18       30  4.819052  3.663572  0.873762  0.781951  \n",
       "19       24  4.358242  4.325561  0.533692  0.429527  \n",
       "20       24  4.262169  4.342642  0.491475  0.489585  \n",
       "21       25  4.314372  4.304302  0.538878  0.477351  \n",
       "22       21  4.466073  4.409222  0.493398  0.373279  \n",
       "23       22  4.450725  4.299807  0.335752  0.367556  \n",
       "24       22  4.598386  4.467013  0.561964  0.417392  "
      ]
     },
     "execution_count": 28,
     "metadata": {},
     "output_type": "execute_result"
    }
   ],
   "source": [
    "full_dataset"
   ]
  },
  {
   "cell_type": "markdown",
   "metadata": {},
   "source": [
    "### simply add series as columns in the dataset"
   ]
  },
  {
   "cell_type": "code",
   "execution_count": 29,
   "metadata": {
    "collapsed": false
   },
   "outputs": [],
   "source": [
    "full_dataset['sigmax'] = series_sigmax"
   ]
  },
  {
   "cell_type": "code",
   "execution_count": 30,
   "metadata": {
    "collapsed": true
   },
   "outputs": [],
   "source": [
    "full_dataset['sigmay'] = series_sigmay"
   ]
  },
  {
   "cell_type": "code",
   "execution_count": 31,
   "metadata": {
    "collapsed": false
   },
   "outputs": [
    {
     "data": {
      "text/plain": [
       "<matplotlib.figure.Figure at 0x10bc87a50>"
      ]
     },
     "metadata": {},
     "output_type": "display_data"
    },
    {
     "data": {
      "image/png": "[encoded data removed]",
      "text/plain": [
       "<matplotlib.figure.Figure at 0x10b81a110>"
      ]
     },
     "metadata": {},
     "output_type": "display_data"
    }
   ],
   "source": [
    "fig = plt.figure()\n",
    "full_dataset_3=full_dataset[['num', 'sigmax','sigmay']]\n",
    "ax=full_dataset_3.plot('num',['sigmax','sigmay'],lw=2,colormap='jet',marker='.',markersize=10,title='PSF in X and Y axis MONOCAM (2016/05/11) for HD158485_grat',ylim=(0.,6.),figsize=(15,5))\n",
    "ax.set_xlabel(\"image number\",fontsize=18)\n",
    "ax.set_ylabel(\" $\\sigma_x$ and $\\sigma_y$ in arcsecond\",fontsize=18)\n",
    "title='PSF in X and Y axis MONOCAM (2016/05/09) for HD158485_grat'\n",
    "fig.suptitle(title, fontsize=20)\n",
    "plt.legend(loc='upper right')\n",
    "plt.show()  # pandas able to remove NaN\n",
    "fig.savefig('PSFXY_HD158485_grat_20160509.jpg')"
   ]
  },
  {
   "cell_type": "code",
   "execution_count": 32,
   "metadata": {
    "collapsed": false
   },
   "outputs": [],
   "source": [
    "output_table=Table.from_pandas(full_dataset)"
   ]
  },
  {
   "cell_type": "code",
   "execution_count": 33,
   "metadata": {
    "collapsed": false
   },
   "outputs": [
    {
     "data": {
      "text/html": [
       "&lt;Table length=25&gt;\n",
       "<table id=\"table4488161744\">\n",
       "<thead><tr><th>num</th><th>file</th><th>time</th><th>exposure</th><th>nbstars</th><th>prfx</th><th>pfry</th><th>sig_prfx</th><th>sig_prfy</th><th>sigmax</th><th>sigmay</th></tr></thead>\n",
       "<thead><tr><th>int32</th><th>str28</th><th>str23</th><th>float64</th><th>int32</th><th>float64</th><th>float64</th><th>float64</th><th>float64</th><th>float64</th><th>float64</th></tr></thead>\n",
       "<tr><td>1</td><td>AssScImHD158485_grat_1.fits</td><td>2016-05-10T08:16:06.228</td><td>1.0</td><td>21</td><td>4.51917437069</td><td>4.41227611476</td><td>0.714686734982</td><td>0.470638109358</td><td>4.26610060593</td><td>4.16518865233</td></tr>\n",
       "<tr><td>2</td><td>AssScImHD158485_grat_2.fits</td><td>2016-05-10T08:17:42.514</td><td>1.5</td><td>15</td><td>4.37330406145</td><td>4.55735594953</td><td>0.724104853084</td><td>0.439038971578</td><td>4.12839903401</td><td>4.30214401636</td></tr>\n",
       "<tr><td>3</td><td>AssScImHD158485_grat_3.fits</td><td>2016-05-10T08:20:57.045</td><td>1.5</td><td>12</td><td>4.63608968996</td><td>4.14849632127</td><td>0.368357486235</td><td>0.460349718574</td><td>4.37646866733</td><td>3.91618052728</td></tr>\n",
       "<tr><td>4</td><td>AssScImHD158485_grat_4.fits</td><td>2016-05-10T08:21:03.531</td><td>1.5</td><td>23</td><td>4.63124096986</td><td>4.31863744567</td><td>0.427319048562</td><td>0.422820799627</td><td>4.37189147555</td><td>4.07679374871</td></tr>\n",
       "<tr><td>5</td><td>AssScImHD158485_grat_5.fits</td><td>2016-05-10T08:21:09.092</td><td>1.5</td><td>19</td><td>4.82428803566</td><td>4.2211565421</td><td>0.618518011995</td><td>0.492391423441</td><td>4.55412790566</td><td>3.98477177574</td></tr>\n",
       "<tr><td>6</td><td>AssScImHD158485_grat_6.fits</td><td>2016-05-10T10:37:40.318</td><td>1.5</td><td>18</td><td>4.53751815256</td><td>4.16726183081</td><td>0.341235964668</td><td>0.349962604607</td><td>4.28341713601</td><td>3.93389516829</td></tr>\n",
       "<tr><td>7</td><td>AssScImHD158485_grat_7.fits</td><td>2016-05-10T10:38:22.323</td><td>1.5</td><td>14</td><td>4.51257238741</td><td>4.4991794035</td><td>0.421523140932</td><td>0.37097916161</td><td>4.25986833371</td><td>4.24722535691</td></tr>\n",
       "<tr><td>8</td><td>AssScImHD158485_grat_8.fits</td><td>2016-05-10T10:38:57.336</td><td>1.5</td><td>11</td><td>4.38819420274</td><td>4.442448533</td><td>0.308672418031</td><td>0.262399443441</td><td>4.14245532739</td><td>4.19367141515</td></tr>\n",
       "<tr><td>9</td><td>AssScImHD158485_grat_9.fits</td><td>2016-05-10T10:39:04.394</td><td>1.5</td><td>25</td><td>4.68053308095</td><td>4.44502209162</td><td>0.379893380493</td><td>0.444990478455</td><td>4.41842322842</td><td>4.19610085449</td></tr>\n",
       "<tr><td>10</td><td>AssScImHD158485_grat_10.fits</td><td>2016-05-10T10:39:10.033</td><td>1.5</td><td>24</td><td>4.59068507983</td><td>4.43917717912</td><td>0.455862974376</td><td>0.329728470537</td><td>4.33360671536</td><td>4.19058325709</td></tr>\n",
       "<tr><td>...</td><td>...</td><td>...</td><td>...</td><td>...</td><td>...</td><td>...</td><td>...</td><td>...</td><td>...</td><td>...</td></tr>\n",
       "<tr><td>16</td><td>AssScImHD158485_grat_16.fits</td><td>2016-05-10T10:39:43.402</td><td>1.5</td><td>18</td><td>4.5099317243</td><td>4.21103397907</td><td>0.454810854596</td><td>0.368901882076</td><td>4.25737554774</td><td>3.97521607624</td></tr>\n",
       "<tr><td>17</td><td>AssScImHD158485_grat_17.fits</td><td>2016-05-10T10:39:48.835</td><td>1.5</td><td>18</td><td>4.44876223611</td><td>4.42591236553</td><td>0.470657286357</td><td>0.334001446694</td><td>4.19963155089</td><td>4.17806127306</td></tr>\n",
       "<tr><td>18</td><td>AssScImHD158485_grat_18.fits</td><td>2016-05-10T10:39:54.420</td><td>1.5</td><td>18</td><td>4.14879717937</td><td>4.45634512456</td><td>0.565680366914</td><td>0.417615943108</td><td>3.91646453732</td><td>4.20678979758</td></tr>\n",
       "<tr><td>19</td><td>AssScImHD158485_grat_19.fits</td><td>2016-05-10T10:39:59.903</td><td>1.5</td><td>30</td><td>4.81905166004</td><td>3.66357243286</td><td>0.873762122833</td><td>0.781950816234</td><td>4.54918476708</td><td>3.45841237662</td></tr>\n",
       "<tr><td>20</td><td>AssScImHD158485_grat_20.fits</td><td>2016-05-10T10:40:05.513</td><td>1.5</td><td>24</td><td>4.35824228453</td><td>4.32556051318</td><td>0.53369227698</td><td>0.429527066847</td><td>4.1141807166</td><td>4.08332912445</td></tr>\n",
       "<tr><td>21</td><td>AssScImHD158485_grat_21.fits</td><td>2016-05-10T10:40:10.964</td><td>1.5</td><td>24</td><td>4.26216855573</td><td>4.3426422493</td><td>0.491474790096</td><td>0.489584973916</td><td>4.02348711661</td><td>4.09945428334</td></tr>\n",
       "<tr><td>22</td><td>AssScImHD158485_grat_22.fits</td><td>2016-05-10T10:40:16.678</td><td>1.5</td><td>25</td><td>4.31437200963</td><td>4.30430167743</td><td>0.538877557519</td><td>0.477351463091</td><td>4.07276717709</td><td>4.06326078349</td></tr>\n",
       "<tr><td>23</td><td>AssScImHD158485_grat_23.fits</td><td>2016-05-10T10:40:22.204</td><td>1.5</td><td>21</td><td>4.46607344913</td><td>4.40922185022</td><td>0.493397715705</td><td>0.373279426969</td><td>4.21597333598</td><td>4.16230542661</td></tr>\n",
       "<tr><td>24</td><td>AssScImHD158485_grat_24.fits</td><td>2016-05-10T10:40:27.878</td><td>1.5</td><td>22</td><td>4.4507245146</td><td>4.2998067432</td><td>0.335751677951</td><td>0.367555672566</td><td>4.20148394178</td><td>4.05901756558</td></tr>\n",
       "<tr><td>25</td><td>AssScImHD158485_grat_25.fits</td><td>2016-05-10T10:40:33.376</td><td>1.5</td><td>22</td><td>4.59838590183</td><td>4.46701270864</td><td>0.56196352495</td><td>0.417391740944</td><td>4.34087629133</td><td>4.21685999695</td></tr>\n",
       "</table>"
      ],
      "text/plain": [
       "<Table length=25>\n",
       " num              file             ...     sigmax        sigmay   \n",
       "int32            str28             ...    float64       float64   \n",
       "----- ---------------------------- ... ------------- -------------\n",
       "    1  AssScImHD158485_grat_1.fits ... 4.26610060593 4.16518865233\n",
       "    2  AssScImHD158485_grat_2.fits ... 4.12839903401 4.30214401636\n",
       "    3  AssScImHD158485_grat_3.fits ... 4.37646866733 3.91618052728\n",
       "    4  AssScImHD158485_grat_4.fits ... 4.37189147555 4.07679374871\n",
       "    5  AssScImHD158485_grat_5.fits ... 4.55412790566 3.98477177574\n",
       "    6  AssScImHD158485_grat_6.fits ... 4.28341713601 3.93389516829\n",
       "    7  AssScImHD158485_grat_7.fits ... 4.25986833371 4.24722535691\n",
       "    8  AssScImHD158485_grat_8.fits ... 4.14245532739 4.19367141515\n",
       "    9  AssScImHD158485_grat_9.fits ... 4.41842322842 4.19610085449\n",
       "   10 AssScImHD158485_grat_10.fits ... 4.33360671536 4.19058325709\n",
       "  ...                          ... ...           ...           ...\n",
       "   16 AssScImHD158485_grat_16.fits ... 4.25737554774 3.97521607624\n",
       "   17 AssScImHD158485_grat_17.fits ... 4.19963155089 4.17806127306\n",
       "   18 AssScImHD158485_grat_18.fits ... 3.91646453732 4.20678979758\n",
       "   19 AssScImHD158485_grat_19.fits ... 4.54918476708 3.45841237662\n",
       "   20 AssScImHD158485_grat_20.fits ...  4.1141807166 4.08332912445\n",
       "   21 AssScImHD158485_grat_21.fits ... 4.02348711661 4.09945428334\n",
       "   22 AssScImHD158485_grat_22.fits ... 4.07276717709 4.06326078349\n",
       "   23 AssScImHD158485_grat_23.fits ... 4.21597333598 4.16230542661\n",
       "   24 AssScImHD158485_grat_24.fits ... 4.20148394178 4.05901756558\n",
       "   25 AssScImHD158485_grat_25.fits ... 4.34087629133 4.21685999695"
      ]
     },
     "execution_count": 33,
     "metadata": {},
     "output_type": "execute_result"
    }
   ],
   "source": [
    "output_table"
   ]
  },
  {
   "cell_type": "code",
   "execution_count": 34,
   "metadata": {
    "collapsed": false
   },
   "outputs": [],
   "source": [
    "outputtablefile='HD158485_grat_1-25_TablePSF_night20160509.fits'\n",
    "output_table.write(outputtablefile,format='fits')"
   ]
  },
  {
   "cell_type": "code",
   "execution_count": 35,
   "metadata": {
    "collapsed": true
   },
   "outputs": [],
   "source": [
    "t2 = Table.read(outputtablefile)"
   ]
  },
  {
   "cell_type": "code",
   "execution_count": 36,
   "metadata": {
    "collapsed": false
   },
   "outputs": [
    {
     "data": {
      "text/html": [
       "&lt;Table length=25&gt;\n",
       "<table id=\"table4490947792\">\n",
       "<thead><tr><th>num</th><th>file</th><th>time</th><th>exposure</th><th>nbstars</th><th>prfx</th><th>pfry</th><th>sig_prfx</th><th>sig_prfy</th><th>sigmax</th><th>sigmay</th></tr></thead>\n",
       "<thead><tr><th>int32</th><th>str28</th><th>str23</th><th>float64</th><th>int32</th><th>float64</th><th>float64</th><th>float64</th><th>float64</th><th>float64</th><th>float64</th></tr></thead>\n",
       "<tr><td>1</td><td>AssScImHD158485_grat_1.fits</td><td>2016-05-10T08:16:06.228</td><td>1.0</td><td>21</td><td>4.51917437069</td><td>4.41227611476</td><td>0.714686734982</td><td>0.470638109358</td><td>4.26610060593</td><td>4.16518865233</td></tr>\n",
       "<tr><td>2</td><td>AssScImHD158485_grat_2.fits</td><td>2016-05-10T08:17:42.514</td><td>1.5</td><td>15</td><td>4.37330406145</td><td>4.55735594953</td><td>0.724104853084</td><td>0.439038971578</td><td>4.12839903401</td><td>4.30214401636</td></tr>\n",
       "<tr><td>3</td><td>AssScImHD158485_grat_3.fits</td><td>2016-05-10T08:20:57.045</td><td>1.5</td><td>12</td><td>4.63608968996</td><td>4.14849632127</td><td>0.368357486235</td><td>0.460349718574</td><td>4.37646866733</td><td>3.91618052728</td></tr>\n",
       "<tr><td>4</td><td>AssScImHD158485_grat_4.fits</td><td>2016-05-10T08:21:03.531</td><td>1.5</td><td>23</td><td>4.63124096986</td><td>4.31863744567</td><td>0.427319048562</td><td>0.422820799627</td><td>4.37189147555</td><td>4.07679374871</td></tr>\n",
       "<tr><td>5</td><td>AssScImHD158485_grat_5.fits</td><td>2016-05-10T08:21:09.092</td><td>1.5</td><td>19</td><td>4.82428803566</td><td>4.2211565421</td><td>0.618518011995</td><td>0.492391423441</td><td>4.55412790566</td><td>3.98477177574</td></tr>\n",
       "<tr><td>6</td><td>AssScImHD158485_grat_6.fits</td><td>2016-05-10T10:37:40.318</td><td>1.5</td><td>18</td><td>4.53751815256</td><td>4.16726183081</td><td>0.341235964668</td><td>0.349962604607</td><td>4.28341713601</td><td>3.93389516829</td></tr>\n",
       "<tr><td>7</td><td>AssScImHD158485_grat_7.fits</td><td>2016-05-10T10:38:22.323</td><td>1.5</td><td>14</td><td>4.51257238741</td><td>4.4991794035</td><td>0.421523140932</td><td>0.37097916161</td><td>4.25986833371</td><td>4.24722535691</td></tr>\n",
       "<tr><td>8</td><td>AssScImHD158485_grat_8.fits</td><td>2016-05-10T10:38:57.336</td><td>1.5</td><td>11</td><td>4.38819420274</td><td>4.442448533</td><td>0.308672418031</td><td>0.262399443441</td><td>4.14245532739</td><td>4.19367141515</td></tr>\n",
       "<tr><td>9</td><td>AssScImHD158485_grat_9.fits</td><td>2016-05-10T10:39:04.394</td><td>1.5</td><td>25</td><td>4.68053308095</td><td>4.44502209162</td><td>0.379893380493</td><td>0.444990478455</td><td>4.41842322842</td><td>4.19610085449</td></tr>\n",
       "<tr><td>10</td><td>AssScImHD158485_grat_10.fits</td><td>2016-05-10T10:39:10.033</td><td>1.5</td><td>24</td><td>4.59068507983</td><td>4.43917717912</td><td>0.455862974376</td><td>0.329728470537</td><td>4.33360671536</td><td>4.19058325709</td></tr>\n",
       "<tr><td>...</td><td>...</td><td>...</td><td>...</td><td>...</td><td>...</td><td>...</td><td>...</td><td>...</td><td>...</td><td>...</td></tr>\n",
       "<tr><td>16</td><td>AssScImHD158485_grat_16.fits</td><td>2016-05-10T10:39:43.402</td><td>1.5</td><td>18</td><td>4.5099317243</td><td>4.21103397907</td><td>0.454810854596</td><td>0.368901882076</td><td>4.25737554774</td><td>3.97521607624</td></tr>\n",
       "<tr><td>17</td><td>AssScImHD158485_grat_17.fits</td><td>2016-05-10T10:39:48.835</td><td>1.5</td><td>18</td><td>4.44876223611</td><td>4.42591236553</td><td>0.470657286357</td><td>0.334001446694</td><td>4.19963155089</td><td>4.17806127306</td></tr>\n",
       "<tr><td>18</td><td>AssScImHD158485_grat_18.fits</td><td>2016-05-10T10:39:54.420</td><td>1.5</td><td>18</td><td>4.14879717937</td><td>4.45634512456</td><td>0.565680366914</td><td>0.417615943108</td><td>3.91646453732</td><td>4.20678979758</td></tr>\n",
       "<tr><td>19</td><td>AssScImHD158485_grat_19.fits</td><td>2016-05-10T10:39:59.903</td><td>1.5</td><td>30</td><td>4.81905166004</td><td>3.66357243286</td><td>0.873762122833</td><td>0.781950816234</td><td>4.54918476708</td><td>3.45841237662</td></tr>\n",
       "<tr><td>20</td><td>AssScImHD158485_grat_20.fits</td><td>2016-05-10T10:40:05.513</td><td>1.5</td><td>24</td><td>4.35824228453</td><td>4.32556051318</td><td>0.53369227698</td><td>0.429527066847</td><td>4.1141807166</td><td>4.08332912445</td></tr>\n",
       "<tr><td>21</td><td>AssScImHD158485_grat_21.fits</td><td>2016-05-10T10:40:10.964</td><td>1.5</td><td>24</td><td>4.26216855573</td><td>4.3426422493</td><td>0.491474790096</td><td>0.489584973916</td><td>4.02348711661</td><td>4.09945428334</td></tr>\n",
       "<tr><td>22</td><td>AssScImHD158485_grat_22.fits</td><td>2016-05-10T10:40:16.678</td><td>1.5</td><td>25</td><td>4.31437200963</td><td>4.30430167743</td><td>0.538877557519</td><td>0.477351463091</td><td>4.07276717709</td><td>4.06326078349</td></tr>\n",
       "<tr><td>23</td><td>AssScImHD158485_grat_23.fits</td><td>2016-05-10T10:40:22.204</td><td>1.5</td><td>21</td><td>4.46607344913</td><td>4.40922185022</td><td>0.493397715705</td><td>0.373279426969</td><td>4.21597333598</td><td>4.16230542661</td></tr>\n",
       "<tr><td>24</td><td>AssScImHD158485_grat_24.fits</td><td>2016-05-10T10:40:27.878</td><td>1.5</td><td>22</td><td>4.4507245146</td><td>4.2998067432</td><td>0.335751677951</td><td>0.367555672566</td><td>4.20148394178</td><td>4.05901756558</td></tr>\n",
       "<tr><td>25</td><td>AssScImHD158485_grat_25.fits</td><td>2016-05-10T10:40:33.376</td><td>1.5</td><td>22</td><td>4.59838590183</td><td>4.46701270864</td><td>0.56196352495</td><td>0.417391740944</td><td>4.34087629133</td><td>4.21685999695</td></tr>\n",
       "</table>"
      ],
      "text/plain": [
       "<Table length=25>\n",
       " num              file             ...     sigmax        sigmay   \n",
       "int32            str28             ...    float64       float64   \n",
       "----- ---------------------------- ... ------------- -------------\n",
       "    1  AssScImHD158485_grat_1.fits ... 4.26610060593 4.16518865233\n",
       "    2  AssScImHD158485_grat_2.fits ... 4.12839903401 4.30214401636\n",
       "    3  AssScImHD158485_grat_3.fits ... 4.37646866733 3.91618052728\n",
       "    4  AssScImHD158485_grat_4.fits ... 4.37189147555 4.07679374871\n",
       "    5  AssScImHD158485_grat_5.fits ... 4.55412790566 3.98477177574\n",
       "    6  AssScImHD158485_grat_6.fits ... 4.28341713601 3.93389516829\n",
       "    7  AssScImHD158485_grat_7.fits ... 4.25986833371 4.24722535691\n",
       "    8  AssScImHD158485_grat_8.fits ... 4.14245532739 4.19367141515\n",
       "    9  AssScImHD158485_grat_9.fits ... 4.41842322842 4.19610085449\n",
       "   10 AssScImHD158485_grat_10.fits ... 4.33360671536 4.19058325709\n",
       "  ...                          ... ...           ...           ...\n",
       "   16 AssScImHD158485_grat_16.fits ... 4.25737554774 3.97521607624\n",
       "   17 AssScImHD158485_grat_17.fits ... 4.19963155089 4.17806127306\n",
       "   18 AssScImHD158485_grat_18.fits ... 3.91646453732 4.20678979758\n",
       "   19 AssScImHD158485_grat_19.fits ... 4.54918476708 3.45841237662\n",
       "   20 AssScImHD158485_grat_20.fits ...  4.1141807166 4.08332912445\n",
       "   21 AssScImHD158485_grat_21.fits ... 4.02348711661 4.09945428334\n",
       "   22 AssScImHD158485_grat_22.fits ... 4.07276717709 4.06326078349\n",
       "   23 AssScImHD158485_grat_23.fits ... 4.21597333598 4.16230542661\n",
       "   24 AssScImHD158485_grat_24.fits ... 4.20148394178 4.05901756558\n",
       "   25 AssScImHD158485_grat_25.fits ... 4.34087629133 4.21685999695"
      ]
     },
     "execution_count": 36,
     "metadata": {},
     "output_type": "execute_result"
    }
   ],
   "source": [
    "t2"
   ]
  },
  {
   "cell_type": "code",
   "execution_count": null,
   "metadata": {
    "collapsed": true
   },
   "outputs": [],
   "source": []
  }
 ],
 "metadata": {
  "kernelspec": {
   "display_name": "Python 2",
   "language": "python",
   "name": "python2"
  },
  "language_info": {
   "codemirror_mode": {
    "name": "ipython",
    "version": 2
   },
   "file_extension": ".py",
   "mimetype": "text/x-python",
   "name": "python",
   "nbconvert_exporter": "python",
   "pygments_lexer": "ipython2",
   "version": "2.7.12"
  }
 },
 "nbformat": 4,
 "nbformat_minor": 0
}
