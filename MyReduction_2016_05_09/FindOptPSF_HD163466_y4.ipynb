{
 "cells": [
  {
   "cell_type": "markdown",
   "metadata": {},
   "source": [
    "# Find Optimal PSF\n",
    "===========================\n",
    "\n",
    "- creation 06/07/2016\n",
    "- author Sylvie Dagoret-Campagne\n",
    "\n",
    "\n",
    "\n",
    "Find HD163466 with Y4"
   ]
  },
  {
   "cell_type": "code",
   "execution_count": 1,
   "metadata": {
    "collapsed": false
   },
   "outputs": [
    {
     "name": "stdout",
     "output_type": "stream",
     "text": [
      "ccdproc version 1.0.1\n"
     ]
    }
   ],
   "source": [
    "%matplotlib inline\n",
    "import matplotlib.pyplot as plt\n",
    "import numpy as np\n",
    "\n",
    "from astropy.modeling import models\n",
    "from astropy import units as u\n",
    "from astropy import nddata\n",
    "from astropy.io import fits\n",
    "\n",
    "from astropy.table import Table\n",
    "from astropy.table import Column\n",
    "\n",
    "import ccdproc\n",
    "print 'ccdproc version',ccdproc.__version__\n",
    "\n",
    "from astropy.modeling import models"
   ]
  },
  {
   "cell_type": "code",
   "execution_count": 2,
   "metadata": {
    "collapsed": true
   },
   "outputs": [],
   "source": [
    "import photutils\n",
    "from astropy.stats import sigma_clipped_stats\n",
    "from photutils import daofind\n",
    "from photutils import CircularAperture\n",
    "from astropy.visualization import SqrtStretch\n",
    "from astropy.visualization.mpl_normalize import ImageNormalize"
   ]
  },
  {
   "cell_type": "code",
   "execution_count": 3,
   "metadata": {
    "collapsed": true
   },
   "outputs": [],
   "source": [
    "from scipy import stats \n",
    "from scipy import ndimage\n",
    "import os\n",
    "from datetime import datetime, timedelta"
   ]
  },
  {
   "cell_type": "code",
   "execution_count": 4,
   "metadata": {
    "collapsed": true
   },
   "outputs": [],
   "source": [
    "from photutils.background import Background2D"
   ]
  },
  {
   "cell_type": "code",
   "execution_count": 5,
   "metadata": {
    "collapsed": true
   },
   "outputs": [],
   "source": [
    "import libMonocamBaseImages           # my tool library written to do that CCD reduction"
   ]
  },
  {
   "cell_type": "code",
   "execution_count": 6,
   "metadata": {
    "collapsed": false
   },
   "outputs": [
    {
     "name": "stdout",
     "output_type": "stream",
     "text": [
      "standard date format for the analysis : 2016-07-06 20:35:30.012361\n",
      "fits date format for the analysis :  2016-07-06T20:35:30\n"
     ]
    }
   ],
   "source": [
    "now=datetime.utcnow()  # choose UTC time\n",
    "datestr=str(now)\n",
    "print 'standard date format for the analysis :',datestr\n",
    "#  want the following format '2016-05-10T11:55:27.267'\n",
    "date_of_analysis=now.strftime('%Y-%m-%dT%H:%M:%S')\n",
    "print 'fits date format for the analysis : ',date_of_analysis"
   ]
  },
  {
   "cell_type": "markdown",
   "metadata": {},
   "source": [
    "## Definitions and Constants"
   ]
  },
  {
   "cell_type": "code",
   "execution_count": 7,
   "metadata": {
    "collapsed": true
   },
   "outputs": [],
   "source": [
    "object_name='HD163466_y4'"
   ]
  },
  {
   "cell_type": "markdown",
   "metadata": {},
   "source": [
    "### input files"
   ]
  },
  {
   "cell_type": "code",
   "execution_count": 8,
   "metadata": {
    "collapsed": true
   },
   "outputs": [],
   "source": [
    "path='./HD163466_y4'\n",
    "rootfilename='AssScImHD163466_y4_' \n",
    "\n",
    "\n",
    "NumStart=1\n",
    "NumStop=8"
   ]
  },
  {
   "cell_type": "markdown",
   "metadata": {},
   "source": [
    "### output file (table)"
   ]
  },
  {
   "cell_type": "code",
   "execution_count": 9,
   "metadata": {
    "collapsed": true
   },
   "outputs": [],
   "source": [
    "outputtablefile='HD163466_y4_1-8_TablePSF.fits'"
   ]
  },
  {
   "cell_type": "markdown",
   "metadata": {},
   "source": [
    "### make the filelist"
   ]
  },
  {
   "cell_type": "code",
   "execution_count": 10,
   "metadata": {
    "collapsed": false
   },
   "outputs": [],
   "source": [
    "filelist=libMonocamBaseImages.BuildFilelist(path,rootfilename,start=NumStart,stop=NumStop,nbchar=1)"
   ]
  },
  {
   "cell_type": "code",
   "execution_count": 11,
   "metadata": {
    "collapsed": false
   },
   "outputs": [
    {
     "data": {
      "text/plain": [
       "['./HD163466_y4/AssScImHD163466_y4_1.fits',\n",
       " './HD163466_y4/AssScImHD163466_y4_2.fits',\n",
       " './HD163466_y4/AssScImHD163466_y4_3.fits',\n",
       " './HD163466_y4/AssScImHD163466_y4_4.fits',\n",
       " './HD163466_y4/AssScImHD163466_y4_5.fits',\n",
       " './HD163466_y4/AssScImHD163466_y4_6.fits',\n",
       " './HD163466_y4/AssScImHD163466_y4_7.fits',\n",
       " './HD163466_y4/AssScImHD163466_y4_8.fits']"
      ]
     },
     "execution_count": 11,
     "metadata": {},
     "output_type": "execute_result"
    }
   ],
   "source": [
    "filelist"
   ]
  },
  {
   "cell_type": "markdown",
   "metadata": {
    "collapsed": true
   },
   "source": [
    "## Read Input files"
   ]
  },
  {
   "cell_type": "code",
   "execution_count": 12,
   "metadata": {
    "collapsed": false
   },
   "outputs": [
    {
     "name": "stdout",
     "output_type": "stream",
     "text": [
      "./HD163466_y4/AssScImHD163466_y4_1.fits\n",
      "./HD163466_y4/AssScImHD163466_y4_2.fits\n",
      "./HD163466_y4/AssScImHD163466_y4_3.fits\n",
      "./HD163466_y4/AssScImHD163466_y4_4.fits\n",
      "./HD163466_y4/AssScImHD163466_y4_5.fits\n",
      "./HD163466_y4/AssScImHD163466_y4_6.fits\n",
      "./HD163466_y4/AssScImHD163466_y4_7.fits\n",
      "./HD163466_y4/AssScImHD163466_y4_8.fits\n"
     ]
    }
   ],
   "source": [
    "allchannelallsciimages = []  # list of 16 lists of images series \n",
    "exposures_list = []        # sequential list of the exposures of the sky flats \n",
    "header_list = []           # list of headers\n",
    "data_list = []\n",
    "time_list = []                # date and time\n",
    "basefile_list = []         # basefilename\n",
    "dateobs_list = [] \n",
    "# get the primary block headers:\n",
    "for image_file in filelist: \n",
    "    print image_file\n",
    "    hdu_list = fits.open(image_file)\n",
    "    basefile_list.append(os.path.basename(image_file))\n",
    "    header=hdu_list[0].header\n",
    "    exposure=header['EXPOSURE']\n",
    "    exposures_list.append(exposure)\n",
    "    dateobs_list.append(header['DATE-OBS'])\n",
    "    header_list.append(header)\n",
    "    data=ccdproc.CCDData.read(image_file, hdu=0,unit='adu') \n",
    "    data_list.append(data)"
   ]
  },
  {
   "cell_type": "code",
   "execution_count": 13,
   "metadata": {
    "collapsed": false
   },
   "outputs": [],
   "source": [
    "#basefile_list"
   ]
  },
  {
   "cell_type": "markdown",
   "metadata": {},
   "source": [
    "## For control\n",
    "\n",
    "uncomment for control"
   ]
  },
  {
   "cell_type": "code",
   "execution_count": 14,
   "metadata": {
    "collapsed": true
   },
   "outputs": [],
   "source": [
    "index=0"
   ]
  },
  {
   "cell_type": "code",
   "execution_count": 15,
   "metadata": {
    "collapsed": false
   },
   "outputs": [],
   "source": [
    "#print exposures_list[index]"
   ]
  },
  {
   "cell_type": "code",
   "execution_count": 16,
   "metadata": {
    "collapsed": false
   },
   "outputs": [],
   "source": [
    "#header_list[index]"
   ]
  },
  {
   "cell_type": "code",
   "execution_count": 17,
   "metadata": {
    "collapsed": false
   },
   "outputs": [],
   "source": [
    "#plt.imshow(data_list[index])"
   ]
  },
  {
   "cell_type": "code",
   "execution_count": 18,
   "metadata": {
    "collapsed": true
   },
   "outputs": [],
   "source": [
    "#bkg= Background2D(data_list[index], (100, 100), filter_size=(3, 3),method='median')"
   ]
  },
  {
   "cell_type": "code",
   "execution_count": 19,
   "metadata": {
    "collapsed": false
   },
   "outputs": [],
   "source": [
    "#data_list[index].data-bkg.background"
   ]
  },
  {
   "cell_type": "markdown",
   "metadata": {},
   "source": [
    "## Background subtraction"
   ]
  },
  {
   "cell_type": "code",
   "execution_count": 20,
   "metadata": {
    "collapsed": true
   },
   "outputs": [],
   "source": [
    "correctedimage_list = []"
   ]
  },
  {
   "cell_type": "code",
   "execution_count": 21,
   "metadata": {
    "collapsed": false
   },
   "outputs": [],
   "source": [
    "for data in data_list:\n",
    "    bkg= Background2D(data, (100, 100), filter_size=(3, 3),method='median')\n",
    "    newimage=data-bkg.background\n",
    "    correctedimage_list.append(newimage)"
   ]
  },
  {
   "cell_type": "markdown",
   "metadata": {},
   "source": [
    "## Calculation of PSF"
   ]
  },
  {
   "cell_type": "code",
   "execution_count": 22,
   "metadata": {
    "collapsed": true
   },
   "outputs": [],
   "source": [
    "NBIMAGES=len(correctedimage_list)"
   ]
  },
  {
   "cell_type": "code",
   "execution_count": 23,
   "metadata": {
    "collapsed": true
   },
   "outputs": [],
   "source": [
    "def weighted_avg_and_std(values, weights):\n",
    "    \"\"\"\n",
    "    Return the weighted average and standard deviation.\n",
    "\n",
    "    values, weights -- Numpy ndarrays with the same shape.\n",
    "    \"\"\"\n",
    "    average = np.average(values, weights=weights)\n",
    "    variance = np.average((values-average)**2, weights=weights)  # Fast and numerically precise\n",
    "    return (average, np.sqrt(variance))"
   ]
  },
  {
   "cell_type": "code",
   "execution_count": 24,
   "metadata": {
    "collapsed": true
   },
   "outputs": [],
   "source": [
    "image_psf=np.zeros((NBIMAGES,6))"
   ]
  },
  {
   "cell_type": "code",
   "execution_count": 25,
   "metadata": {
    "collapsed": true
   },
   "outputs": [],
   "source": [
    "DELTA_NBINSX=10\n",
    "DELTA_NBINSY=10"
   ]
  },
  {
   "cell_type": "code",
   "execution_count": 26,
   "metadata": {
    "collapsed": false
   },
   "outputs": [
    {
     "name": "stdout",
     "output_type": "stream",
     "text": [
      "image 0 ==> NBSTARS = 23\n",
      "average prf(x) = 2.81 +/- 0.07 pixels ==> psf  2.65 +/- 0.06 arcsec \n",
      "average prf(y) = 2.94 +/- 0.08 pixels ==> psf  2.77 +/- 0.07 arcsec \n",
      "image 1 ==> NBSTARS = 23\n",
      "average prf(x) = 2.69 +/- 0.08 pixels ==> psf  2.54 +/- 0.07 arcsec \n",
      "average prf(y) = 2.87 +/- 0.05 pixels ==> psf  2.71 +/- 0.04 arcsec \n",
      "image 2 ==> NBSTARS = 25\n",
      "average prf(x) = 2.64 +/- 0.08 pixels ==> psf  2.50 +/- 0.07 arcsec \n",
      "average prf(y) = 2.69 +/- 0.03 pixels ==> psf  2.54 +/- 0.03 arcsec \n"
     ]
    },
    {
     "name": "stderr",
     "output_type": "stream",
     "text": [
      "/Users/dagoret-campagnesylvie/anaconda/envs/pyastrophys/lib/python2.7/site-packages/ipykernel/__main__.py:9: RuntimeWarning: invalid value encountered in sqrt\n"
     ]
    },
    {
     "name": "stdout",
     "output_type": "stream",
     "text": [
      "image 3 ==> NBSTARS = 30\n",
      "average prf(x) = 2.67 +/- 0.07 pixels ==> psf  2.52 +/- 0.06 arcsec \n",
      "average prf(y) = 2.73 +/- 0.25 pixels ==> psf  2.58 +/- 0.23 arcsec \n",
      "image 4 ==> NBSTARS = 16\n",
      "average prf(x) = 2.86 +/- 0.24 pixels ==> psf  2.70 +/- 0.21 arcsec \n",
      "average prf(y) = 2.77 +/- 0.07 pixels ==> psf  2.61 +/- 0.07 arcsec \n",
      "image 5 ==> NBSTARS = 14\n",
      "average prf(x) = 2.79 +/- 0.08 pixels ==> psf  2.63 +/- 0.07 arcsec \n",
      "average prf(y) = 2.88 +/- 0.06 pixels ==> psf  2.71 +/- 0.05 arcsec \n",
      "image 6 ==> NBSTARS = 11\n",
      "average prf(x) = 2.78 +/- 0.06 pixels ==> psf  2.62 +/- 0.06 arcsec \n",
      "average prf(y) = 2.90 +/- 0.04 pixels ==> psf  2.74 +/- 0.04 arcsec \n",
      "image 7 ==> NBSTARS = 13\n",
      "average prf(x) = 2.66 +/- 0.07 pixels ==> psf  2.51 +/- 0.07 arcsec \n",
      "average prf(y) = 2.80 +/- 0.08 pixels ==> psf  2.65 +/- 0.07 arcsec \n"
     ]
    }
   ],
   "source": [
    "# loop on images\n",
    "index=-1\n",
    "for image in correctedimage_list:\n",
    "    index=index+1\n",
    "    mean, median, std = sigma_clipped_stats(image, sigma=10.0, iters=5) \n",
    "    sources = daofind(image - median, fwhm=3.0, threshold=50.*std)\n",
    "    selected_stars=sources.as_array()\n",
    "    NBSTARS=selected_stars.shape[0]\n",
    "    print 'image {} ==> NBSTARS = {}'.format(index,NBSTARS)\n",
    "    image_psf[index,0]=index\n",
    "    image_psf[index,1]=NBSTARS\n",
    "    star_psfx=np.zeros(NBSTARS)\n",
    "    star_psfy=np.zeros(NBSTARS)\n",
    "    # loop on stars\n",
    "    for istar in range(NBSTARS):\n",
    "        X = int(selected_stars[istar][1])\n",
    "        Y = int(selected_stars[istar][2])\n",
    "        prf_image = image[Y-DELTA_NBINSY:Y+DELTA_NBINSY,X-DELTA_NBINSX:X+DELTA_NBINSX]\n",
    "        oneprfX=prf_image.sum(axis=0)\n",
    "        oneprfY=prf_image.sum(axis=1)\n",
    "        if oneprfX.sum() == 0 or oneprfY.sum() == 0:\n",
    "            star_psfx[istar]=0\n",
    "            star_psfy[istar]=0\n",
    "        else:\n",
    "            posX,sigX=weighted_avg_and_std(np.arange(oneprfX.shape[0]),oneprfX)\n",
    "            posY,sigY=weighted_avg_and_std(np.arange(oneprfY.shape[0]),oneprfY)\n",
    "            star_psfx[istar]=sigX\n",
    "            star_psfy[istar]=sigY\n",
    "        \n",
    "    all_sigx=star_psfx[np.logical_not(np.isnan(star_psfx))]\n",
    "    all_sigy=star_psfy[np.logical_not(np.isnan(star_psfy))]\n",
    "    all_sigx=all_sigx[all_sigx>2.4]\n",
    "    all_sigy=all_sigy[all_sigy>2.4]\n",
    "    print 'average prf(x) = {:2.2f} +/- {:2.2f} pixels ==> psf  {:2.2f} +/- {:2.2f} arcsec '.format(np.median(all_sigx),all_sigx.std(),np.median(all_sigx)*0.4*2.36,all_sigx.std()*0.4*2.26)\n",
    "    print 'average prf(y) = {:2.2f} +/- {:2.2f} pixels ==> psf  {:2.2f} +/- {:2.2f} arcsec '.format(np.median(all_sigy),all_sigy.std(),np.median(all_sigy)*0.4*2.36,all_sigy.std()*0.4*2.26)\n",
    "    image_psf[index,2]=np.median(all_sigx)\n",
    "    image_psf[index,3]=np.median(all_sigy)\n",
    "    image_psf[index,4]=all_sigx.std()\n",
    "    image_psf[index,5]=all_sigy.std()"
   ]
  },
  {
   "cell_type": "markdown",
   "metadata": {
    "collapsed": false
   },
   "source": [
    "## Create astropy table"
   ]
  },
  {
   "cell_type": "code",
   "execution_count": 27,
   "metadata": {
    "collapsed": false
   },
   "outputs": [],
   "source": [
    "t=Table(rows=image_psf,names=('num','nbstars','prfx','pfry','sig_prfx','sig_prfy'),dtype=('i4','i4','f8','f8','f8','f8'))"
   ]
  },
  {
   "cell_type": "code",
   "execution_count": 28,
   "metadata": {
    "collapsed": false
   },
   "outputs": [
    {
     "data": {
      "text/html": [
       "&lt;Table length=8&gt;\n",
       "<table id=\"table7403830416\">\n",
       "<thead><tr><th>num</th><th>nbstars</th><th>prfx</th><th>pfry</th><th>sig_prfx</th><th>sig_prfy</th></tr></thead>\n",
       "<thead><tr><th>int32</th><th>int32</th><th>float64</th><th>float64</th><th>float64</th><th>float64</th></tr></thead>\n",
       "<tr><td>0</td><td>23</td><td>2.80810530353</td><td>2.93709578691</td><td>0.0717107607457</td><td>0.0760826986652</td></tr>\n",
       "<tr><td>1</td><td>23</td><td>2.68655532696</td><td>2.86879575208</td><td>0.0819848604541</td><td>0.0456488029924</td></tr>\n",
       "<tr><td>2</td><td>25</td><td>2.64452856755</td><td>2.69076001366</td><td>0.0755942751507</td><td>0.0286223131641</td></tr>\n",
       "<tr><td>3</td><td>30</td><td>2.6723065947</td><td>2.72932681468</td><td>0.0708837703989</td><td>0.249819800909</td></tr>\n",
       "<tr><td>4</td><td>16</td><td>2.85770605392</td><td>2.76551370117</td><td>0.236654258462</td><td>0.0724385881085</td></tr>\n",
       "<tr><td>5</td><td>14</td><td>2.78575614456</td><td>2.87539302862</td><td>0.0807985674717</td><td>0.0585594161166</td></tr>\n",
       "<tr><td>6</td><td>11</td><td>2.77968098699</td><td>2.90044545098</td><td>0.0623518794852</td><td>0.0405807569436</td></tr>\n",
       "<tr><td>7</td><td>13</td><td>2.66223236329</td><td>2.8031331225</td><td>0.0747038608423</td><td>0.08107409864</td></tr>\n",
       "</table>"
      ],
      "text/plain": [
       "<Table length=8>\n",
       " num  nbstars      prfx          pfry         sig_prfx        sig_prfy   \n",
       "int32  int32     float64       float64        float64         float64    \n",
       "----- ------- ------------- ------------- --------------- ---------------\n",
       "    0      23 2.80810530353 2.93709578691 0.0717107607457 0.0760826986652\n",
       "    1      23 2.68655532696 2.86879575208 0.0819848604541 0.0456488029924\n",
       "    2      25 2.64452856755 2.69076001366 0.0755942751507 0.0286223131641\n",
       "    3      30  2.6723065947 2.72932681468 0.0708837703989  0.249819800909\n",
       "    4      16 2.85770605392 2.76551370117  0.236654258462 0.0724385881085\n",
       "    5      14 2.78575614456 2.87539302862 0.0807985674717 0.0585594161166\n",
       "    6      11 2.77968098699 2.90044545098 0.0623518794852 0.0405807569436\n",
       "    7      13 2.66223236329  2.8031331225 0.0747038608423   0.08107409864"
      ]
     },
     "execution_count": 28,
     "metadata": {},
     "output_type": "execute_result"
    }
   ],
   "source": [
    "t"
   ]
  },
  {
   "cell_type": "code",
   "execution_count": 29,
   "metadata": {
    "collapsed": false
   },
   "outputs": [],
   "source": [
    "expo = Column(exposures_list, name='exposure')\n",
    "file = Column(basefile_list, name='file')\n",
    "time = Column(dateobs_list,name='time')"
   ]
  },
  {
   "cell_type": "code",
   "execution_count": 30,
   "metadata": {
    "collapsed": false
   },
   "outputs": [],
   "source": [
    "t.add_column(expo, index=1)\n",
    "t.add_column(time, index=1)\n",
    "t.add_column(file, index=1)"
   ]
  },
  {
   "cell_type": "code",
   "execution_count": 31,
   "metadata": {
    "collapsed": false
   },
   "outputs": [
    {
     "data": {
      "text/html": [
       "&lt;Table length=8&gt;\n",
       "<table id=\"table7403830416\">\n",
       "<thead><tr><th>num</th><th>file</th><th>time</th><th>exposure</th><th>nbstars</th><th>prfx</th><th>pfry</th><th>sig_prfx</th><th>sig_prfy</th></tr></thead>\n",
       "<thead><tr><th>int32</th><th>str25</th><th>str23</th><th>float64</th><th>int32</th><th>float64</th><th>float64</th><th>float64</th><th>float64</th></tr></thead>\n",
       "<tr><td>0</td><td>AssScImHD163466_y4_1.fits</td><td>2016-05-10T08:43:22.192</td><td>3.0</td><td>23</td><td>2.80810530353</td><td>2.93709578691</td><td>0.0717107607457</td><td>0.0760826986652</td></tr>\n",
       "<tr><td>1</td><td>AssScImHD163466_y4_2.fits</td><td>2016-05-10T08:43:29.513</td><td>3.0</td><td>23</td><td>2.68655532696</td><td>2.86879575208</td><td>0.0819848604541</td><td>0.0456488029924</td></tr>\n",
       "<tr><td>2</td><td>AssScImHD163466_y4_3.fits</td><td>2016-05-10T08:43:36.463</td><td>3.0</td><td>25</td><td>2.64452856755</td><td>2.69076001366</td><td>0.0755942751507</td><td>0.0286223131641</td></tr>\n",
       "<tr><td>3</td><td>AssScImHD163466_y4_4.fits</td><td>2016-05-10T08:43:43.448</td><td>3.0</td><td>30</td><td>2.6723065947</td><td>2.72932681468</td><td>0.0708837703989</td><td>0.249819800909</td></tr>\n",
       "<tr><td>4</td><td>AssScImHD163466_y4_5.fits</td><td>2016-05-10T08:44:47.481</td><td>1.5</td><td>16</td><td>2.85770605392</td><td>2.76551370117</td><td>0.236654258462</td><td>0.0724385881085</td></tr>\n",
       "<tr><td>5</td><td>AssScImHD163466_y4_6.fits</td><td>2016-05-10T08:44:52.918</td><td>1.5</td><td>14</td><td>2.78575614456</td><td>2.87539302862</td><td>0.0807985674717</td><td>0.0585594161166</td></tr>\n",
       "<tr><td>6</td><td>AssScImHD163466_y4_7.fits</td><td>2016-05-10T08:44:58.453</td><td>1.5</td><td>11</td><td>2.77968098699</td><td>2.90044545098</td><td>0.0623518794852</td><td>0.0405807569436</td></tr>\n",
       "<tr><td>7</td><td>AssScImHD163466_y4_8.fits</td><td>2016-05-10T08:45:04.001</td><td>1.5</td><td>13</td><td>2.66223236329</td><td>2.8031331225</td><td>0.0747038608423</td><td>0.08107409864</td></tr>\n",
       "</table>"
      ],
      "text/plain": [
       "<Table length=8>\n",
       " num             file           ...     sig_prfx        sig_prfy   \n",
       "int32           str25           ...     float64         float64    \n",
       "----- ------------------------- ... --------------- ---------------\n",
       "    0 AssScImHD163466_y4_1.fits ... 0.0717107607457 0.0760826986652\n",
       "    1 AssScImHD163466_y4_2.fits ... 0.0819848604541 0.0456488029924\n",
       "    2 AssScImHD163466_y4_3.fits ... 0.0755942751507 0.0286223131641\n",
       "    3 AssScImHD163466_y4_4.fits ... 0.0708837703989  0.249819800909\n",
       "    4 AssScImHD163466_y4_5.fits ...  0.236654258462 0.0724385881085\n",
       "    5 AssScImHD163466_y4_6.fits ... 0.0807985674717 0.0585594161166\n",
       "    6 AssScImHD163466_y4_7.fits ... 0.0623518794852 0.0405807569436\n",
       "    7 AssScImHD163466_y4_8.fits ... 0.0747038608423   0.08107409864"
      ]
     },
     "execution_count": 31,
     "metadata": {},
     "output_type": "execute_result"
    }
   ],
   "source": [
    "t"
   ]
  },
  {
   "cell_type": "markdown",
   "metadata": {},
   "source": [
    "## Write output file"
   ]
  },
  {
   "cell_type": "code",
   "execution_count": 32,
   "metadata": {
    "collapsed": false
   },
   "outputs": [],
   "source": [
    "t.write(outputtablefile,format='fits')"
   ]
  },
  {
   "cell_type": "markdown",
   "metadata": {
    "collapsed": true
   },
   "source": [
    "## Pandas"
   ]
  },
  {
   "cell_type": "code",
   "execution_count": 33,
   "metadata": {
    "collapsed": true
   },
   "outputs": [],
   "source": [
    "df=t.to_pandas()"
   ]
  },
  {
   "cell_type": "code",
   "execution_count": 34,
   "metadata": {
    "collapsed": false
   },
   "outputs": [
    {
     "data": {
      "text/html": [
       "<div>\n",
       "<table border=\"1\" class=\"dataframe\">\n",
       "  <thead>\n",
       "    <tr style=\"text-align: right;\">\n",
       "      <th></th>\n",
       "      <th>num</th>\n",
       "      <th>exposure</th>\n",
       "      <th>nbstars</th>\n",
       "      <th>prfx</th>\n",
       "      <th>pfry</th>\n",
       "      <th>sig_prfx</th>\n",
       "      <th>sig_prfy</th>\n",
       "    </tr>\n",
       "  </thead>\n",
       "  <tbody>\n",
       "    <tr>\n",
       "      <th>count</th>\n",
       "      <td>8.00000</td>\n",
       "      <td>8.000000</td>\n",
       "      <td>8.000000</td>\n",
       "      <td>8.000000</td>\n",
       "      <td>8.000000</td>\n",
       "      <td>8.000000</td>\n",
       "      <td>8.000000</td>\n",
       "    </tr>\n",
       "    <tr>\n",
       "      <th>mean</th>\n",
       "      <td>3.50000</td>\n",
       "      <td>2.250000</td>\n",
       "      <td>19.375000</td>\n",
       "      <td>2.737109</td>\n",
       "      <td>2.821308</td>\n",
       "      <td>0.094335</td>\n",
       "      <td>0.081603</td>\n",
       "    </tr>\n",
       "    <tr>\n",
       "      <th>std</th>\n",
       "      <td>2.44949</td>\n",
       "      <td>0.801784</td>\n",
       "      <td>6.781013</td>\n",
       "      <td>0.079907</td>\n",
       "      <td>0.087665</td>\n",
       "      <td>0.057832</td>\n",
       "      <td>0.070432</td>\n",
       "    </tr>\n",
       "    <tr>\n",
       "      <th>min</th>\n",
       "      <td>0.00000</td>\n",
       "      <td>1.500000</td>\n",
       "      <td>11.000000</td>\n",
       "      <td>2.644529</td>\n",
       "      <td>2.690760</td>\n",
       "      <td>0.062352</td>\n",
       "      <td>0.028622</td>\n",
       "    </tr>\n",
       "    <tr>\n",
       "      <th>25%</th>\n",
       "      <td>1.75000</td>\n",
       "      <td>1.500000</td>\n",
       "      <td>13.750000</td>\n",
       "      <td>2.669788</td>\n",
       "      <td>2.756467</td>\n",
       "      <td>0.071504</td>\n",
       "      <td>0.044382</td>\n",
       "    </tr>\n",
       "    <tr>\n",
       "      <th>50%</th>\n",
       "      <td>3.50000</td>\n",
       "      <td>2.250000</td>\n",
       "      <td>19.500000</td>\n",
       "      <td>2.733118</td>\n",
       "      <td>2.835964</td>\n",
       "      <td>0.075149</td>\n",
       "      <td>0.065499</td>\n",
       "    </tr>\n",
       "    <tr>\n",
       "      <th>75%</th>\n",
       "      <td>5.25000</td>\n",
       "      <td>3.000000</td>\n",
       "      <td>23.500000</td>\n",
       "      <td>2.791343</td>\n",
       "      <td>2.881656</td>\n",
       "      <td>0.081095</td>\n",
       "      <td>0.077331</td>\n",
       "    </tr>\n",
       "    <tr>\n",
       "      <th>max</th>\n",
       "      <td>7.00000</td>\n",
       "      <td>3.000000</td>\n",
       "      <td>30.000000</td>\n",
       "      <td>2.857706</td>\n",
       "      <td>2.937096</td>\n",
       "      <td>0.236654</td>\n",
       "      <td>0.249820</td>\n",
       "    </tr>\n",
       "  </tbody>\n",
       "</table>\n",
       "</div>"
      ],
      "text/plain": [
       "           num  exposure    nbstars      prfx      pfry  sig_prfx  sig_prfy\n",
       "count  8.00000  8.000000   8.000000  8.000000  8.000000  8.000000  8.000000\n",
       "mean   3.50000  2.250000  19.375000  2.737109  2.821308  0.094335  0.081603\n",
       "std    2.44949  0.801784   6.781013  0.079907  0.087665  0.057832  0.070432\n",
       "min    0.00000  1.500000  11.000000  2.644529  2.690760  0.062352  0.028622\n",
       "25%    1.75000  1.500000  13.750000  2.669788  2.756467  0.071504  0.044382\n",
       "50%    3.50000  2.250000  19.500000  2.733118  2.835964  0.075149  0.065499\n",
       "75%    5.25000  3.000000  23.500000  2.791343  2.881656  0.081095  0.077331\n",
       "max    7.00000  3.000000  30.000000  2.857706  2.937096  0.236654  0.249820"
      ]
     },
     "execution_count": 34,
     "metadata": {},
     "output_type": "execute_result"
    }
   ],
   "source": [
    "df.describe()"
   ]
  },
  {
   "cell_type": "code",
   "execution_count": null,
   "metadata": {
    "collapsed": true
   },
   "outputs": [],
   "source": []
  }
 ],
 "metadata": {
  "kernelspec": {
   "display_name": "Python 2",
   "language": "python",
   "name": "python2"
  },
  "language_info": {
   "codemirror_mode": {
    "name": "ipython",
    "version": 2
   },
   "file_extension": ".py",
   "mimetype": "text/x-python",
   "name": "python",
   "nbconvert_exporter": "python",
   "pygments_lexer": "ipython2",
   "version": "2.7.12"
  }
 },
 "nbformat": 4,
 "nbformat_minor": 0
}
