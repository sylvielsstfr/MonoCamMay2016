{
 "cells": [
  {
   "cell_type": "markdown",
   "metadata": {},
   "source": [
    "# Calculation of Master Dark with CCDPROC\n",
    "==================================================================\n",
    "\n",
    "### Author : Sylvie Dagoret-Campagne\n",
    "### Affiliation : LAL,IN2P3,CNRS\n",
    "### Creation : Tuesday May 31th 2016\n",
    "### Update : June\n",
    "\n",
    "## CCD reduction for Monocam data (LSST)\n",
    "\n",
    "The calculation is done by **ccdproc** python package.\n",
    "\n",
    "http://ccdproc.readthedocs.io/en/latest/index.html\n",
    "\n",
    "\n",
    "https://github.com/astropy/ccdproc/blob/master/docs/ccdproc/reduction_toolbox.rst\n"
   ]
  },
  {
   "cell_type": "code",
   "execution_count": 1,
   "metadata": {
    "collapsed": false
   },
   "outputs": [
    {
     "name": "stderr",
     "output_type": "stream",
     "text": [
      "/Users/dagoret-campagnesylvie/anaconda/envs/pyastrophys/lib/python2.7/site-packages/matplotlib/__init__.py:872: UserWarning: axes.color_cycle is deprecated and replaced with axes.prop_cycle; please use the latter.\n",
      "  warnings.warn(self.msg_depr % (key, alt_key))\n"
     ]
    }
   ],
   "source": [
    "import numpy as np\n",
    "\n",
    "# Set up matplotlib and use a nicer set of plot parameters\n",
    "#config InlineBackend.rc = {}\n",
    "#config Backend.rc = {}\n",
    "import matplotlib\n",
    "matplotlib.rc_file(\"../templates/matplotlibrc\")  # default config obtained from astropy examples\n",
    "import matplotlib.pyplot as plt\n",
    "from matplotlib.colors import LogNorm\n",
    "%matplotlib inline"
   ]
  },
  {
   "cell_type": "code",
   "execution_count": 2,
   "metadata": {
    "collapsed": true
   },
   "outputs": [],
   "source": [
    "from astropy.io import fits\n",
    "from astropy import units as u\n",
    "import ccdproc\n",
    "from scipy import stats  \n",
    "import os"
   ]
  },
  {
   "cell_type": "code",
   "execution_count": 3,
   "metadata": {
    "collapsed": true
   },
   "outputs": [],
   "source": [
    "def BuildFilelist(path,name,ext='.fits',start=1,stop=99):\n",
    "    '''\n",
    "    Make the list of filenames required by ccdproc\n",
    "    \n",
    "    input:\n",
    "       path : path of files\n",
    "       name : common root of bias filenames\n",
    "       ext  : extension of filenames\n",
    "       start,stop : indexes of files\n",
    "    output:\n",
    "       full filename list\n",
    "    '''\n",
    "    filelist = []\n",
    "    for num in range(start,stop+1,1):\n",
    "        strnum=biasnumberstr= '{0:02d}'.format(num)  # python >= 2.6\n",
    "        filename=name+strnum+ext\n",
    "        fullfilename=os.path.join(path,filename)\n",
    "        filelist.append(fullfilename)\n",
    "    return filelist"
   ]
  },
  {
   "cell_type": "markdown",
   "metadata": {},
   "source": [
    "## 1) Definition of configuration variables"
   ]
  },
  {
   "cell_type": "code",
   "execution_count": 4,
   "metadata": {
    "collapsed": true
   },
   "outputs": [],
   "source": [
    "root_filename='dark_'\n",
    "ext_filename='.fits'\n",
    "startnum=1\n",
    "stopnum=63\n",
    "path='/Users/dagoret-campagnesylvie/iraf/MonoCamMay2016/20160509'\n",
    "nb_of_channels=16  # number"
   ]
  },
  {
   "cell_type": "markdown",
   "metadata": {},
   "source": [
    "## 2) Build the file list for Dark"
   ]
  },
  {
   "cell_type": "code",
   "execution_count": 5,
   "metadata": {
    "collapsed": true
   },
   "outputs": [],
   "source": [
    "darklist=BuildFilelist(path,root_filename,start=startnum,stop=stopnum)"
   ]
  },
  {
   "cell_type": "code",
   "execution_count": 6,
   "metadata": {
    "collapsed": false
   },
   "outputs": [
    {
     "data": {
      "text/plain": [
       "['/Users/dagoret-campagnesylvie/iraf/MonoCamMay2016/20160509/dark_01.fits',\n",
       " '/Users/dagoret-campagnesylvie/iraf/MonoCamMay2016/20160509/dark_02.fits',\n",
       " '/Users/dagoret-campagnesylvie/iraf/MonoCamMay2016/20160509/dark_03.fits',\n",
       " '/Users/dagoret-campagnesylvie/iraf/MonoCamMay2016/20160509/dark_04.fits',\n",
       " '/Users/dagoret-campagnesylvie/iraf/MonoCamMay2016/20160509/dark_05.fits',\n",
       " '/Users/dagoret-campagnesylvie/iraf/MonoCamMay2016/20160509/dark_06.fits',\n",
       " '/Users/dagoret-campagnesylvie/iraf/MonoCamMay2016/20160509/dark_07.fits',\n",
       " '/Users/dagoret-campagnesylvie/iraf/MonoCamMay2016/20160509/dark_08.fits',\n",
       " '/Users/dagoret-campagnesylvie/iraf/MonoCamMay2016/20160509/dark_09.fits',\n",
       " '/Users/dagoret-campagnesylvie/iraf/MonoCamMay2016/20160509/dark_10.fits',\n",
       " '/Users/dagoret-campagnesylvie/iraf/MonoCamMay2016/20160509/dark_11.fits',\n",
       " '/Users/dagoret-campagnesylvie/iraf/MonoCamMay2016/20160509/dark_12.fits',\n",
       " '/Users/dagoret-campagnesylvie/iraf/MonoCamMay2016/20160509/dark_13.fits',\n",
       " '/Users/dagoret-campagnesylvie/iraf/MonoCamMay2016/20160509/dark_14.fits',\n",
       " '/Users/dagoret-campagnesylvie/iraf/MonoCamMay2016/20160509/dark_15.fits',\n",
       " '/Users/dagoret-campagnesylvie/iraf/MonoCamMay2016/20160509/dark_16.fits',\n",
       " '/Users/dagoret-campagnesylvie/iraf/MonoCamMay2016/20160509/dark_17.fits',\n",
       " '/Users/dagoret-campagnesylvie/iraf/MonoCamMay2016/20160509/dark_18.fits',\n",
       " '/Users/dagoret-campagnesylvie/iraf/MonoCamMay2016/20160509/dark_19.fits',\n",
       " '/Users/dagoret-campagnesylvie/iraf/MonoCamMay2016/20160509/dark_20.fits',\n",
       " '/Users/dagoret-campagnesylvie/iraf/MonoCamMay2016/20160509/dark_21.fits',\n",
       " '/Users/dagoret-campagnesylvie/iraf/MonoCamMay2016/20160509/dark_22.fits',\n",
       " '/Users/dagoret-campagnesylvie/iraf/MonoCamMay2016/20160509/dark_23.fits',\n",
       " '/Users/dagoret-campagnesylvie/iraf/MonoCamMay2016/20160509/dark_24.fits',\n",
       " '/Users/dagoret-campagnesylvie/iraf/MonoCamMay2016/20160509/dark_25.fits',\n",
       " '/Users/dagoret-campagnesylvie/iraf/MonoCamMay2016/20160509/dark_26.fits',\n",
       " '/Users/dagoret-campagnesylvie/iraf/MonoCamMay2016/20160509/dark_27.fits',\n",
       " '/Users/dagoret-campagnesylvie/iraf/MonoCamMay2016/20160509/dark_28.fits',\n",
       " '/Users/dagoret-campagnesylvie/iraf/MonoCamMay2016/20160509/dark_29.fits',\n",
       " '/Users/dagoret-campagnesylvie/iraf/MonoCamMay2016/20160509/dark_30.fits',\n",
       " '/Users/dagoret-campagnesylvie/iraf/MonoCamMay2016/20160509/dark_31.fits',\n",
       " '/Users/dagoret-campagnesylvie/iraf/MonoCamMay2016/20160509/dark_32.fits',\n",
       " '/Users/dagoret-campagnesylvie/iraf/MonoCamMay2016/20160509/dark_33.fits',\n",
       " '/Users/dagoret-campagnesylvie/iraf/MonoCamMay2016/20160509/dark_34.fits',\n",
       " '/Users/dagoret-campagnesylvie/iraf/MonoCamMay2016/20160509/dark_35.fits',\n",
       " '/Users/dagoret-campagnesylvie/iraf/MonoCamMay2016/20160509/dark_36.fits',\n",
       " '/Users/dagoret-campagnesylvie/iraf/MonoCamMay2016/20160509/dark_37.fits',\n",
       " '/Users/dagoret-campagnesylvie/iraf/MonoCamMay2016/20160509/dark_38.fits',\n",
       " '/Users/dagoret-campagnesylvie/iraf/MonoCamMay2016/20160509/dark_39.fits',\n",
       " '/Users/dagoret-campagnesylvie/iraf/MonoCamMay2016/20160509/dark_40.fits',\n",
       " '/Users/dagoret-campagnesylvie/iraf/MonoCamMay2016/20160509/dark_41.fits',\n",
       " '/Users/dagoret-campagnesylvie/iraf/MonoCamMay2016/20160509/dark_42.fits',\n",
       " '/Users/dagoret-campagnesylvie/iraf/MonoCamMay2016/20160509/dark_43.fits',\n",
       " '/Users/dagoret-campagnesylvie/iraf/MonoCamMay2016/20160509/dark_44.fits',\n",
       " '/Users/dagoret-campagnesylvie/iraf/MonoCamMay2016/20160509/dark_45.fits',\n",
       " '/Users/dagoret-campagnesylvie/iraf/MonoCamMay2016/20160509/dark_46.fits',\n",
       " '/Users/dagoret-campagnesylvie/iraf/MonoCamMay2016/20160509/dark_47.fits',\n",
       " '/Users/dagoret-campagnesylvie/iraf/MonoCamMay2016/20160509/dark_48.fits',\n",
       " '/Users/dagoret-campagnesylvie/iraf/MonoCamMay2016/20160509/dark_49.fits',\n",
       " '/Users/dagoret-campagnesylvie/iraf/MonoCamMay2016/20160509/dark_50.fits',\n",
       " '/Users/dagoret-campagnesylvie/iraf/MonoCamMay2016/20160509/dark_51.fits',\n",
       " '/Users/dagoret-campagnesylvie/iraf/MonoCamMay2016/20160509/dark_52.fits',\n",
       " '/Users/dagoret-campagnesylvie/iraf/MonoCamMay2016/20160509/dark_53.fits',\n",
       " '/Users/dagoret-campagnesylvie/iraf/MonoCamMay2016/20160509/dark_54.fits',\n",
       " '/Users/dagoret-campagnesylvie/iraf/MonoCamMay2016/20160509/dark_55.fits',\n",
       " '/Users/dagoret-campagnesylvie/iraf/MonoCamMay2016/20160509/dark_56.fits',\n",
       " '/Users/dagoret-campagnesylvie/iraf/MonoCamMay2016/20160509/dark_57.fits',\n",
       " '/Users/dagoret-campagnesylvie/iraf/MonoCamMay2016/20160509/dark_58.fits',\n",
       " '/Users/dagoret-campagnesylvie/iraf/MonoCamMay2016/20160509/dark_59.fits',\n",
       " '/Users/dagoret-campagnesylvie/iraf/MonoCamMay2016/20160509/dark_60.fits',\n",
       " '/Users/dagoret-campagnesylvie/iraf/MonoCamMay2016/20160509/dark_61.fits',\n",
       " '/Users/dagoret-campagnesylvie/iraf/MonoCamMay2016/20160509/dark_62.fits',\n",
       " '/Users/dagoret-campagnesylvie/iraf/MonoCamMay2016/20160509/dark_63.fits']"
      ]
     },
     "execution_count": 6,
     "metadata": {},
     "output_type": "execute_result"
    }
   ],
   "source": [
    "darklist"
   ]
  },
  {
   "cell_type": "code",
   "execution_count": null,
   "metadata": {
    "collapsed": true
   },
   "outputs": [],
   "source": []
  }
 ],
 "metadata": {
  "kernelspec": {
   "display_name": "Python 2",
   "language": "python",
   "name": "python2"
  },
  "language_info": {
   "codemirror_mode": {
    "name": "ipython",
    "version": 2
   },
   "file_extension": ".py",
   "mimetype": "text/x-python",
   "name": "python",
   "nbconvert_exporter": "python",
   "pygments_lexer": "ipython2",
   "version": "2.7.11"
  }
 },
 "nbformat": 4,
 "nbformat_minor": 0
}
