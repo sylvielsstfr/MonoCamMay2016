{
 "cells": [
  {
   "cell_type": "markdown",
   "metadata": {},
   "source": [
    "# Find Optimal Photometry for HD163466 in Y3 filter\n",
    "=============================================================================\n",
    "\n",
    "- creation 08/07/2016\n",
    "- author Sylvie Dagoret-Campagne\n"
   ]
  },
  {
   "cell_type": "code",
   "execution_count": 5,
   "metadata": {
    "collapsed": false
   },
   "outputs": [
    {
     "name": "stdout",
     "output_type": "stream",
     "text": [
      "ccdproc version 1.0.1\n"
     ]
    }
   ],
   "source": [
    "%matplotlib inline\n",
    "import matplotlib.pyplot as plt\n",
    "import numpy as np\n",
    "\n",
    "from astropy.modeling import models\n",
    "from astropy import units as u\n",
    "from astropy import nddata\n",
    "from astropy.io import fits\n",
    "\n",
    "from astropy.table import Table\n",
    "from astropy.table import Column\n",
    "\n",
    "import ccdproc\n",
    "print 'ccdproc version',ccdproc.__version__\n",
    "\n",
    "from astropy.modeling import models"
   ]
  },
  {
   "cell_type": "code",
   "execution_count": 51,
   "metadata": {
    "collapsed": true
   },
   "outputs": [],
   "source": [
    "import photutils\n",
    "from astropy.stats import sigma_clipped_stats\n",
    "from photutils import daofind\n",
    "from photutils import CircularAperture,CircularAnnulus\n",
    "from photutils import aperture_photometry\n",
    "from astropy.table import hstack\n",
    "from astropy.visualization import SqrtStretch\n",
    "from astropy.visualization.mpl_normalize import ImageNormalize"
   ]
  },
  {
   "cell_type": "code",
   "execution_count": 7,
   "metadata": {
    "collapsed": true
   },
   "outputs": [],
   "source": [
    "from scipy import stats \n",
    "from scipy import ndimage\n",
    "import os\n",
    "from datetime import datetime, timedelta"
   ]
  },
  {
   "cell_type": "code",
   "execution_count": 8,
   "metadata": {
    "collapsed": true
   },
   "outputs": [],
   "source": [
    "from photutils.background import Background2D"
   ]
  },
  {
   "cell_type": "code",
   "execution_count": 9,
   "metadata": {
    "collapsed": true
   },
   "outputs": [],
   "source": [
    "import libMonocamBaseImages           # my tool library written to do that CCD reduction"
   ]
  },
  {
   "cell_type": "code",
   "execution_count": 10,
   "metadata": {
    "collapsed": false
   },
   "outputs": [
    {
     "name": "stdout",
     "output_type": "stream",
     "text": [
      "standard date format for the analysis : 2016-07-08 21:27:54.965791\n",
      "fits date format for the analysis :  2016-07-08T21:27:54\n"
     ]
    }
   ],
   "source": [
    "now=datetime.utcnow()  # choose UTC time\n",
    "datestr=str(now)\n",
    "print 'standard date format for the analysis :',datestr\n",
    "#  want the following format '2016-05-10T11:55:27.267'\n",
    "date_of_analysis=now.strftime('%Y-%m-%dT%H:%M:%S')\n",
    "print 'fits date format for the analysis : ',date_of_analysis"
   ]
  },
  {
   "cell_type": "code",
   "execution_count": 11,
   "metadata": {
    "collapsed": true
   },
   "outputs": [],
   "source": [
    "def weighted_avg_and_std(values, weights):\n",
    "    \"\"\"\n",
    "    Return the weighted average and standard deviation.\n",
    "\n",
    "    values, weights -- Numpy ndarrays with the same shape.\n",
    "    \"\"\"\n",
    "    weights=np.where(weights>0,weights,0)\n",
    "    average = np.average(values, weights=weights)\n",
    "    variance = np.average((values-average)**2, weights=weights)  # Fast and numerically precise\n",
    "    return (average, np.sqrt(variance))"
   ]
  },
  {
   "cell_type": "markdown",
   "metadata": {},
   "source": [
    "## Definitions and Constants"
   ]
  },
  {
   "cell_type": "code",
   "execution_count": 12,
   "metadata": {
    "collapsed": true
   },
   "outputs": [],
   "source": [
    "object_name='HD163466_y3'"
   ]
  },
  {
   "cell_type": "markdown",
   "metadata": {},
   "source": [
    "### input files"
   ]
  },
  {
   "cell_type": "code",
   "execution_count": 13,
   "metadata": {
    "collapsed": true
   },
   "outputs": [],
   "source": [
    "path='./HD163466_y3'\n",
    "rootfilename='AssScImHD163466_y3_' \n",
    "\n",
    "\n",
    "NumStart=1\n",
    "NumStop=10"
   ]
  },
  {
   "cell_type": "markdown",
   "metadata": {},
   "source": [
    "### output file (table)"
   ]
  },
  {
   "cell_type": "code",
   "execution_count": 38,
   "metadata": {
    "collapsed": true
   },
   "outputs": [],
   "source": [
    "outputtablefile='HD163466_y3_1-10_TablePhotometry.fits'"
   ]
  },
  {
   "cell_type": "markdown",
   "metadata": {},
   "source": [
    "### make the filelist"
   ]
  },
  {
   "cell_type": "code",
   "execution_count": 14,
   "metadata": {
    "collapsed": false
   },
   "outputs": [],
   "source": [
    "filelist=libMonocamBaseImages.BuildFilelist(path,rootfilename,start=NumStart,stop=NumStop,nbchar=1)"
   ]
  },
  {
   "cell_type": "code",
   "execution_count": 17,
   "metadata": {
    "collapsed": false
   },
   "outputs": [
    {
     "data": {
      "text/plain": [
       "['./HD163466_y3/AssScImHD163466_y3_1.fits',\n",
       " './HD163466_y3/AssScImHD163466_y3_2.fits',\n",
       " './HD163466_y3/AssScImHD163466_y3_3.fits',\n",
       " './HD163466_y3/AssScImHD163466_y3_4.fits',\n",
       " './HD163466_y3/AssScImHD163466_y3_5.fits',\n",
       " './HD163466_y3/AssScImHD163466_y3_6.fits',\n",
       " './HD163466_y3/AssScImHD163466_y3_7.fits',\n",
       " './HD163466_y3/AssScImHD163466_y3_8.fits',\n",
       " './HD163466_y3/AssScImHD163466_y3_9.fits',\n",
       " './HD163466_y3/AssScImHD163466_y3_10.fits']"
      ]
     },
     "execution_count": 17,
     "metadata": {},
     "output_type": "execute_result"
    }
   ],
   "source": [
    "filelist"
   ]
  },
  {
   "cell_type": "markdown",
   "metadata": {
    "collapsed": true
   },
   "source": [
    "## Read Input files"
   ]
  },
  {
   "cell_type": "code",
   "execution_count": 15,
   "metadata": {
    "collapsed": false
   },
   "outputs": [
    {
     "name": "stdout",
     "output_type": "stream",
     "text": [
      "./HD163466_y3/AssScImHD163466_y3_1.fits\n",
      "./HD163466_y3/AssScImHD163466_y3_2.fits\n",
      "./HD163466_y3/AssScImHD163466_y3_3.fits\n",
      "./HD163466_y3/AssScImHD163466_y3_4.fits\n",
      "./HD163466_y3/AssScImHD163466_y3_5.fits\n",
      "./HD163466_y3/AssScImHD163466_y3_6.fits\n",
      "./HD163466_y3/AssScImHD163466_y3_7.fits\n",
      "./HD163466_y3/AssScImHD163466_y3_8.fits\n",
      "./HD163466_y3/AssScImHD163466_y3_9.fits\n",
      "./HD163466_y3/AssScImHD163466_y3_10.fits\n"
     ]
    }
   ],
   "source": [
    "allchannelallsciimages = []  # list of 16 lists of images series \n",
    "exposures_list = []        # sequential list of the exposures of the sky flats \n",
    "header_list = []           # list of headers\n",
    "data_list = []\n",
    "time_list = []                # date and time\n",
    "basefile_list = []         # basefilename\n",
    "dateobs_list = [] \n",
    "# get the primary block headers:\n",
    "for image_file in filelist: \n",
    "    print image_file\n",
    "    hdu_list = fits.open(image_file)\n",
    "    basefile_list.append(os.path.basename(image_file))\n",
    "    header=hdu_list[0].header\n",
    "    exposure=header['EXPOSURE']\n",
    "    exposures_list.append(exposure)\n",
    "    dateobs_list.append(header['DATE-OBS'])\n",
    "    header_list.append(header)\n",
    "    data=ccdproc.CCDData.read(image_file, hdu=0,unit='adu') \n",
    "    data_list.append(data)"
   ]
  },
  {
   "cell_type": "code",
   "execution_count": 19,
   "metadata": {
    "collapsed": false
   },
   "outputs": [],
   "source": [
    "#basefile_list"
   ]
  },
  {
   "cell_type": "markdown",
   "metadata": {},
   "source": [
    "## For control\n",
    "\n",
    "uncomment for control"
   ]
  },
  {
   "cell_type": "code",
   "execution_count": 20,
   "metadata": {
    "collapsed": true
   },
   "outputs": [],
   "source": [
    "index=0"
   ]
  },
  {
   "cell_type": "code",
   "execution_count": 21,
   "metadata": {
    "collapsed": false
   },
   "outputs": [],
   "source": [
    "#print exposures_list[index]"
   ]
  },
  {
   "cell_type": "code",
   "execution_count": 22,
   "metadata": {
    "collapsed": false
   },
   "outputs": [],
   "source": [
    "#header_list[index]"
   ]
  },
  {
   "cell_type": "code",
   "execution_count": 23,
   "metadata": {
    "collapsed": false
   },
   "outputs": [],
   "source": [
    "#plt.imshow(data_list[index])"
   ]
  },
  {
   "cell_type": "code",
   "execution_count": 24,
   "metadata": {
    "collapsed": true
   },
   "outputs": [],
   "source": [
    "#bkg= Background2D(data_list[index], (100, 100), filter_size=(3, 3),method='median')"
   ]
  },
  {
   "cell_type": "code",
   "execution_count": 25,
   "metadata": {
    "collapsed": false
   },
   "outputs": [],
   "source": [
    "#data_list[index].data-bkg.background"
   ]
  },
  {
   "cell_type": "markdown",
   "metadata": {},
   "source": [
    "## Background subtraction"
   ]
  },
  {
   "cell_type": "code",
   "execution_count": 16,
   "metadata": {
    "collapsed": true
   },
   "outputs": [],
   "source": [
    "correctedimage_list = []"
   ]
  },
  {
   "cell_type": "code",
   "execution_count": 17,
   "metadata": {
    "collapsed": false
   },
   "outputs": [],
   "source": [
    "for idx,data in enumerate(data_list):\n",
    "    bkg= Background2D(data, (100, 100), filter_size=(3, 3),method='median')\n",
    "    newimage=(data-bkg.background)/exposure_list(idx)\n",
    "    correctedimage_list.append(newimage)"
   ]
  },
  {
   "cell_type": "markdown",
   "metadata": {},
   "source": [
    "## Crop the images"
   ]
  },
  {
   "cell_type": "code",
   "execution_count": 18,
   "metadata": {
    "collapsed": true
   },
   "outputs": [],
   "source": [
    "NBIMAGES=len(correctedimage_list)"
   ]
  },
  {
   "cell_type": "code",
   "execution_count": 19,
   "metadata": {
    "collapsed": true
   },
   "outputs": [],
   "source": [
    "wpix=200"
   ]
  },
  {
   "cell_type": "code",
   "execution_count": 20,
   "metadata": {
    "collapsed": true
   },
   "outputs": [],
   "source": [
    "star2D_list = []\n",
    "position_list = []\n",
    "sigmapix_list = []"
   ]
  },
  {
   "cell_type": "code",
   "execution_count": 43,
   "metadata": {
    "collapsed": false
   },
   "outputs": [
    {
     "name": "stdout",
     "output_type": "stream",
     "text": [
      "star 0  at (x0,y0) = [2110] , [1886]\n",
      "star 1  at (x0,y0) = [2107] , [1881]\n",
      "star 2  at (x0,y0) = [2105] , [1881]\n"
     ]
    },
    {
     "name": "stderr",
     "output_type": "stream",
     "text": [
      "/Users/dagoret-campagnesylvie/anaconda/envs/pyastrophys/lib/python2.7/site-packages/ipykernel/__main__.py:5: VisibleDeprecationWarning: converting an array with ndim > 0 to an index will result in an error in the future\n"
     ]
    },
    {
     "name": "stdout",
     "output_type": "stream",
     "text": [
      "star 3  at (x0,y0) = [2107] , [1883]\n",
      "star 4  at (x0,y0) = [2113] , [1874]\n",
      "star 5  at (x0,y0) = [2108] , [1881]\n",
      "star 6  at (x0,y0) = [2106] , [1882]\n",
      "star 7  at (x0,y0) = [2105] , [1881]\n",
      "star 8  at (x0,y0) = [2105] , [1881]\n",
      "star 9  at (x0,y0) = [2104] , [1881]\n"
     ]
    }
   ],
   "source": [
    "# loop on images\n",
    "for idx,image in enumerate(correctedimage_list):\n",
    "    (y0,x0)=np.where(image == image.max())\n",
    "    print 'star',idx,' at (x0,y0) =',x0,',',y0\n",
    "    the_star2D=image[y0-wpix:y0+wpix,x0-wpix:x0+wpix]\n",
    "    star2D_list.append(the_star2D)\n",
    "    thepsfX=the_star2D.sum(axis=0)\n",
    "    thepsfY=the_star2D.sum(axis=1)\n",
    "    (mx,sigx)=weighted_avg_and_std(np.arange(thepsfX.shape[0]),thepsfX)\n",
    "    (my,sigy)=weighted_avg_and_std(np.arange(thepsfY.shape[0]),thepsfY)\n",
    "    position_list.append((my,mx))\n",
    "    sigmapix_list.append((sigy,sigx))\n",
    "    "
   ]
  },
  {
   "cell_type": "markdown",
   "metadata": {},
   "source": [
    "## Compute photometry"
   ]
  },
  {
   "cell_type": "code",
   "execution_count": 46,
   "metadata": {
    "collapsed": true
   },
   "outputs": [],
   "source": [
    "phot_table_list = []"
   ]
  },
  {
   "cell_type": "code",
   "execution_count": 53,
   "metadata": {
    "collapsed": false
   },
   "outputs": [
    {
     "name": "stdout",
     "output_type": "stream",
     "text": [
      " =========================================================\n",
      "photometry for image  0\n",
      " =========================================================\n",
      "residual_aperture_sum\n",
      "                     \n",
      "---------------------\n",
      "        152480.335769\n",
      " =========================================================\n",
      "photometry for image  1\n",
      " =========================================================\n",
      "residual_aperture_sum\n",
      "                     \n",
      "---------------------\n",
      "        768883.946211\n",
      " =========================================================\n",
      "photometry for image  2\n",
      " =========================================================\n",
      "residual_aperture_sum\n",
      "                     \n",
      "---------------------\n",
      "         771923.14588\n",
      " =========================================================\n",
      "photometry for image  3\n",
      " =========================================================\n",
      "residual_aperture_sum\n",
      "                     \n",
      "---------------------\n",
      "        771643.100095\n",
      " =========================================================\n",
      "photometry for image  4\n",
      " =========================================================\n",
      "residual_aperture_sum\n",
      "                     \n",
      "---------------------\n",
      "        462751.870602\n",
      " =========================================================\n",
      "photometry for image  5\n",
      " =========================================================\n",
      "residual_aperture_sum\n",
      "                     \n",
      "---------------------\n",
      "        462800.677314\n",
      " =========================================================\n",
      "photometry for image  6\n",
      " =========================================================\n",
      "residual_aperture_sum\n",
      "                     \n",
      "---------------------\n",
      "        465137.324654\n",
      " =========================================================\n",
      "photometry for image  7\n",
      " =========================================================\n",
      "residual_aperture_sum\n",
      "                     \n",
      "---------------------\n",
      "        463611.861144\n",
      " =========================================================\n",
      "photometry for image  8\n",
      " =========================================================\n",
      "residual_aperture_sum\n",
      "                     \n",
      "---------------------\n",
      "        465038.446683\n",
      " =========================================================\n",
      "photometry for image  9\n",
      " =========================================================\n",
      "residual_aperture_sum\n",
      "                     \n",
      "---------------------\n",
      "        464487.427305\n",
      " =========================================================\n",
      "photometry for image  10\n",
      " =========================================================\n",
      "residual_aperture_sum\n",
      "                     \n",
      "---------------------\n",
      "        152480.335769\n",
      " =========================================================\n",
      "photometry for image  11\n",
      " =========================================================\n",
      "residual_aperture_sum\n",
      "                     \n",
      "---------------------\n",
      "        768883.946211\n",
      " =========================================================\n",
      "photometry for image  12\n",
      " =========================================================\n",
      "residual_aperture_sum\n",
      "                     \n",
      "---------------------\n",
      "         771923.14588\n",
      " =========================================================\n",
      "photometry for image  13\n",
      " =========================================================\n",
      "residual_aperture_sum\n",
      "                     \n",
      "---------------------\n",
      "        771643.100095\n",
      " =========================================================\n",
      "photometry for image  14\n",
      " =========================================================\n",
      "residual_aperture_sum\n",
      "                     \n",
      "---------------------\n",
      "        462751.870602\n",
      " =========================================================\n",
      "photometry for image  15\n",
      " =========================================================\n",
      "residual_aperture_sum\n",
      "                     \n",
      "---------------------\n",
      "        462800.677314\n",
      " =========================================================\n",
      "photometry for image  16\n",
      " =========================================================\n",
      "residual_aperture_sum\n",
      "                     \n",
      "---------------------\n",
      "        465137.324654\n",
      " =========================================================\n",
      "photometry for image  17\n",
      " =========================================================\n",
      "residual_aperture_sum\n",
      "                     \n",
      "---------------------\n",
      "        463611.861144\n",
      " =========================================================\n",
      "photometry for image  18\n",
      " =========================================================\n",
      "residual_aperture_sum\n",
      "                     \n",
      "---------------------\n",
      "        465038.446683\n",
      " =========================================================\n",
      "photometry for image  19\n",
      " =========================================================\n",
      "residual_aperture_sum\n",
      "                     \n",
      "---------------------\n",
      "        464487.427305\n",
      " =========================================================\n",
      "photometry for image  20\n",
      " =========================================================\n",
      "residual_aperture_sum\n",
      "                     \n",
      "---------------------\n",
      "        152480.335769\n",
      " =========================================================\n",
      "photometry for image  21\n",
      " =========================================================\n",
      "residual_aperture_sum\n",
      "                     \n",
      "---------------------\n",
      "        768883.946211\n",
      " =========================================================\n",
      "photometry for image  22\n",
      " =========================================================\n",
      "residual_aperture_sum\n",
      "                     \n",
      "---------------------\n",
      "         771923.14588\n",
      " =========================================================\n",
      "photometry for image  23\n",
      " =========================================================\n",
      "residual_aperture_sum\n",
      "                     \n",
      "---------------------\n",
      "        771643.100095\n",
      " =========================================================\n",
      "photometry for image  24\n",
      " =========================================================\n",
      "residual_aperture_sum\n",
      "                     \n",
      "---------------------\n",
      "        462751.870602\n",
      " =========================================================\n",
      "photometry for image  25\n",
      " =========================================================\n",
      "residual_aperture_sum\n",
      "                     \n",
      "---------------------\n",
      "        462800.677314\n",
      " =========================================================\n",
      "photometry for image  26\n",
      " =========================================================\n",
      "residual_aperture_sum\n",
      "                     \n",
      "---------------------\n",
      "        465137.324654\n",
      " =========================================================\n",
      "photometry for image  27\n",
      " =========================================================\n",
      "residual_aperture_sum\n",
      "                     \n",
      "---------------------\n",
      "        463611.861144\n",
      " =========================================================\n",
      "photometry for image  28\n",
      " =========================================================\n",
      "residual_aperture_sum\n",
      "                     \n",
      "---------------------\n",
      "        465038.446683\n",
      " =========================================================\n",
      "photometry for image  29\n",
      " =========================================================\n",
      "residual_aperture_sum\n",
      "                     \n",
      "---------------------\n",
      "        464487.427305\n"
     ]
    }
   ],
   "source": [
    "for idx,star_im in enumerate(star2D_list):\n",
    "\n",
    "    print ' ========================================================='    \n",
    "    print 'photometry for image ',idx\n",
    "    print ' ========================================================='  \n",
    "    \n",
    "    the_sigmapix=max(sigmapix_list[idx])\n",
    "    the_position=position_list[idx]\n",
    "    \n",
    "    star_aperture=CircularAperture(the_position, 3*the_sigmapix)\n",
    "    rawflux_table = aperture_photometry(star_im, star_aperture)\n",
    "    \n",
    "    annulus_apertures = CircularAnnulus(the_position, r_in=5*the_sigmapix, r_out=7*the_sigmapix)\n",
    "    bkgflux_table = aperture_photometry(star_im, annulus_apertures)\n",
    "    \n",
    "    phot_table = hstack([rawflux_table, bkgflux_table], table_names=['raw', 'bkg'])\n",
    "    \n",
    "    bkg_mean = phot_table['aperture_sum_bkg'] / annulus_apertures.area()\n",
    "    \n",
    "    bkg_sum = bkg_mean * star_aperture.area()\n",
    "    final_sum = phot_table['aperture_sum_raw'] - bkg_sum\n",
    "    phot_table['residual_aperture_sum'] = final_sum\n",
    "    print(phot_table['residual_aperture_sum']) \n",
    "    \n",
    "    phot_table_list.append(phot_table)\n",
    "    \n",
    "    \n",
    "    "
   ]
  },
  {
   "cell_type": "code",
   "execution_count": 54,
   "metadata": {
    "collapsed": false
   },
   "outputs": [
    {
     "data": {
      "text/html": [
       "&lt;Table length=1&gt;\n",
       "<table id=\"table6102647248\">\n",
       "<thead><tr><th>aperture_sum_raw</th><th>xcenter_raw [1]</th><th>ycenter_raw [1]</th><th>aperture_sum_bkg</th><th>xcenter_bkg [1]</th><th>ycenter_bkg [1]</th><th>residual_aperture_sum</th></tr></thead>\n",
       "<thead><tr><th></th><th></th><th></th><th></th><th></th><th></th><th></th></tr></thead>\n",
       "<thead><tr><th>float64</th><th>float64</th><th>float64</th><th>float64</th><th>float64</th><th>float64</th><th>float64</th></tr></thead>\n",
       "<tr><td>152496.623345</td><td>196.349926657</td><td>196.462089774</td><td>43.4335359462</td><td>196.349926657</td><td>196.462089774</td><td>152480.335769</td></tr>\n",
       "</table>"
      ],
      "text/plain": [
       "<Table length=1>\n",
       "aperture_sum_raw xcenter_raw [1] ... ycenter_bkg [1] residual_aperture_sum\n",
       "                                 ...                                      \n",
       "    float64          float64     ...     float64            float64       \n",
       "---------------- --------------- ... --------------- ---------------------\n",
       "   152496.623345   196.349926657 ...   196.462089774         152480.335769"
      ]
     },
     "execution_count": 54,
     "metadata": {},
     "output_type": "execute_result"
    }
   ],
   "source": [
    "phot_table_list[0]"
   ]
  },
  {
   "cell_type": "code",
   "execution_count": null,
   "metadata": {
    "collapsed": false
   },
   "outputs": [],
   "source": []
  },
  {
   "cell_type": "markdown",
   "metadata": {
    "collapsed": false
   },
   "source": [
    "## Create astropy table"
   ]
  },
  {
   "cell_type": "code",
   "execution_count": 33,
   "metadata": {
    "collapsed": false
   },
   "outputs": [],
   "source": [
    "t=Table(rows=image_psf,names=('num','nbstars','prfx','pfry','sig_prfx','sig_prfy'),dtype=('i4','i4','f8','f8','f8','f8'))"
   ]
  },
  {
   "cell_type": "code",
   "execution_count": 34,
   "metadata": {
    "collapsed": false
   },
   "outputs": [
    {
     "data": {
      "text/html": [
       "&lt;Table length=10&gt;\n",
       "<table id=\"table5767251536\">\n",
       "<thead><tr><th>num</th><th>nbstars</th><th>prfx</th><th>pfry</th><th>sig_prfx</th><th>sig_prfy</th></tr></thead>\n",
       "<thead><tr><th>int32</th><th>int32</th><th>float64</th><th>float64</th><th>float64</th><th>float64</th></tr></thead>\n",
       "<tr><td>0</td><td>7</td><td>3.14462939981</td><td>3.41466663301</td><td>0.0624903435569</td><td>0.0399877500438</td></tr>\n",
       "<tr><td>1</td><td>23</td><td>3.23590764548</td><td>3.67168661807</td><td>0.210812621801</td><td>0.313203469327</td></tr>\n",
       "<tr><td>2</td><td>30</td><td>3.28439425917</td><td>3.44808452428</td><td>0.153086049741</td><td>0.109240066938</td></tr>\n",
       "<tr><td>3</td><td>29</td><td>3.07852576115</td><td>3.39865028239</td><td>0.0743265241544</td><td>0.182716405574</td></tr>\n",
       "<tr><td>4</td><td>9</td><td>5.01067679435</td><td>5.12760526598</td><td>0.431963018433</td><td>0.931127413941</td></tr>\n",
       "<tr><td>5</td><td>4</td><td>3.66881377389</td><td>3.71438578859</td><td>0.125757386795</td><td>0.0576096104765</td></tr>\n",
       "<tr><td>6</td><td>15</td><td>2.62049631174</td><td>2.75934903687</td><td>0.053654463766</td><td>0.0477390482732</td></tr>\n",
       "<tr><td>7</td><td>12</td><td>3.02620244552</td><td>2.97225160347</td><td>0.0890701171525</td><td>0.163930894688</td></tr>\n",
       "<tr><td>8</td><td>15</td><td>2.85053312944</td><td>2.90077455</td><td>0.076245483463</td><td>0.038651577062</td></tr>\n",
       "<tr><td>9</td><td>20</td><td>2.74595205679</td><td>2.86321797679</td><td>0.101194165365</td><td>0.0711165660995</td></tr>\n",
       "</table>"
      ],
      "text/plain": [
       "<Table length=10>\n",
       " num  nbstars      prfx          pfry         sig_prfx        sig_prfy   \n",
       "int32  int32     float64       float64        float64         float64    \n",
       "----- ------- ------------- ------------- --------------- ---------------\n",
       "    0       7 3.14462939981 3.41466663301 0.0624903435569 0.0399877500438\n",
       "    1      23 3.23590764548 3.67168661807  0.210812621801  0.313203469327\n",
       "    2      30 3.28439425917 3.44808452428  0.153086049741  0.109240066938\n",
       "    3      29 3.07852576115 3.39865028239 0.0743265241544  0.182716405574\n",
       "    4       9 5.01067679435 5.12760526598  0.431963018433  0.931127413941\n",
       "    5       4 3.66881377389 3.71438578859  0.125757386795 0.0576096104765\n",
       "    6      15 2.62049631174 2.75934903687  0.053654463766 0.0477390482732\n",
       "    7      12 3.02620244552 2.97225160347 0.0890701171525  0.163930894688\n",
       "    8      15 2.85053312944    2.90077455  0.076245483463  0.038651577062\n",
       "    9      20 2.74595205679 2.86321797679  0.101194165365 0.0711165660995"
      ]
     },
     "execution_count": 34,
     "metadata": {},
     "output_type": "execute_result"
    }
   ],
   "source": [
    "t"
   ]
  },
  {
   "cell_type": "code",
   "execution_count": 35,
   "metadata": {
    "collapsed": false
   },
   "outputs": [],
   "source": [
    "expo = Column(exposures_list, name='exposure')\n",
    "file = Column(basefile_list, name='file')\n",
    "time = Column(dateobs_list,name='time')"
   ]
  },
  {
   "cell_type": "code",
   "execution_count": 36,
   "metadata": {
    "collapsed": false
   },
   "outputs": [],
   "source": [
    "t.add_column(expo, index=1)\n",
    "t.add_column(time, index=1)\n",
    "t.add_column(file, index=1)"
   ]
  },
  {
   "cell_type": "code",
   "execution_count": 37,
   "metadata": {
    "collapsed": false
   },
   "outputs": [
    {
     "data": {
      "text/html": [
       "&lt;Table length=10&gt;\n",
       "<table id=\"table5767251536\">\n",
       "<thead><tr><th>num</th><th>file</th><th>time</th><th>exposure</th><th>nbstars</th><th>prfx</th><th>pfry</th><th>sig_prfx</th><th>sig_prfy</th></tr></thead>\n",
       "<thead><tr><th>int32</th><th>str26</th><th>str23</th><th>float64</th><th>int32</th><th>float64</th><th>float64</th><th>float64</th><th>float64</th></tr></thead>\n",
       "<tr><td>0</td><td>AssScImHD163466_y3_1.fits</td><td>2016-05-10T08:31:46.221</td><td>1.0</td><td>7</td><td>3.14462939981</td><td>3.41466663301</td><td>0.0624903435569</td><td>0.0399877500438</td></tr>\n",
       "<tr><td>1</td><td>AssScImHD163466_y3_2.fits</td><td>2016-05-10T08:33:17.773</td><td>5.0</td><td>23</td><td>3.23590764548</td><td>3.67168661807</td><td>0.210812621801</td><td>0.313203469327</td></tr>\n",
       "<tr><td>2</td><td>AssScImHD163466_y3_3.fits</td><td>2016-05-10T08:33:27.174</td><td>5.0</td><td>30</td><td>3.28439425917</td><td>3.44808452428</td><td>0.153086049741</td><td>0.109240066938</td></tr>\n",
       "<tr><td>3</td><td>AssScImHD163466_y3_4.fits</td><td>2016-05-10T08:33:36.166</td><td>5.0</td><td>29</td><td>3.07852576115</td><td>3.39865028239</td><td>0.0743265241544</td><td>0.182716405574</td></tr>\n",
       "<tr><td>4</td><td>AssScImHD163466_y3_5.fits</td><td>2016-05-10T08:38:53.776</td><td>3.0</td><td>9</td><td>5.01067679435</td><td>5.12760526598</td><td>0.431963018433</td><td>0.931127413941</td></tr>\n",
       "<tr><td>5</td><td>AssScImHD163466_y3_6.fits</td><td>2016-05-10T08:39:35.943</td><td>3.0</td><td>4</td><td>3.66881377389</td><td>3.71438578859</td><td>0.125757386795</td><td>0.0576096104765</td></tr>\n",
       "<tr><td>6</td><td>AssScImHD163466_y3_7.fits</td><td>2016-05-10T08:40:17.637</td><td>3.0</td><td>15</td><td>2.62049631174</td><td>2.75934903687</td><td>0.053654463766</td><td>0.0477390482732</td></tr>\n",
       "<tr><td>7</td><td>AssScImHD163466_y3_8.fits</td><td>2016-05-10T08:41:40.854</td><td>3.0</td><td>12</td><td>3.02620244552</td><td>2.97225160347</td><td>0.0890701171525</td><td>0.163930894688</td></tr>\n",
       "<tr><td>8</td><td>AssScImHD163466_y3_9.fits</td><td>2016-05-10T08:41:47.875</td><td>3.0</td><td>15</td><td>2.85053312944</td><td>2.90077455</td><td>0.076245483463</td><td>0.038651577062</td></tr>\n",
       "<tr><td>9</td><td>AssScImHD163466_y3_10.fits</td><td>2016-05-10T08:41:54.822</td><td>3.0</td><td>20</td><td>2.74595205679</td><td>2.86321797679</td><td>0.101194165365</td><td>0.0711165660995</td></tr>\n",
       "</table>"
      ],
      "text/plain": [
       "<Table length=10>\n",
       " num             file            ...     sig_prfx        sig_prfy   \n",
       "int32           str26            ...     float64         float64    \n",
       "----- -------------------------- ... --------------- ---------------\n",
       "    0  AssScImHD163466_y3_1.fits ... 0.0624903435569 0.0399877500438\n",
       "    1  AssScImHD163466_y3_2.fits ...  0.210812621801  0.313203469327\n",
       "    2  AssScImHD163466_y3_3.fits ...  0.153086049741  0.109240066938\n",
       "    3  AssScImHD163466_y3_4.fits ... 0.0743265241544  0.182716405574\n",
       "    4  AssScImHD163466_y3_5.fits ...  0.431963018433  0.931127413941\n",
       "    5  AssScImHD163466_y3_6.fits ...  0.125757386795 0.0576096104765\n",
       "    6  AssScImHD163466_y3_7.fits ...  0.053654463766 0.0477390482732\n",
       "    7  AssScImHD163466_y3_8.fits ... 0.0890701171525  0.163930894688\n",
       "    8  AssScImHD163466_y3_9.fits ...  0.076245483463  0.038651577062\n",
       "    9 AssScImHD163466_y3_10.fits ...  0.101194165365 0.0711165660995"
      ]
     },
     "execution_count": 37,
     "metadata": {},
     "output_type": "execute_result"
    }
   ],
   "source": [
    "t"
   ]
  },
  {
   "cell_type": "markdown",
   "metadata": {},
   "source": [
    "## Write output file"
   ]
  },
  {
   "cell_type": "code",
   "execution_count": 38,
   "metadata": {
    "collapsed": false
   },
   "outputs": [],
   "source": [
    "t.write(outputtablefile,format='fits')"
   ]
  },
  {
   "cell_type": "markdown",
   "metadata": {
    "collapsed": true
   },
   "source": [
    "## Pandas"
   ]
  },
  {
   "cell_type": "code",
   "execution_count": 39,
   "metadata": {
    "collapsed": true
   },
   "outputs": [],
   "source": [
    "df=t.to_pandas()"
   ]
  },
  {
   "cell_type": "code",
   "execution_count": 40,
   "metadata": {
    "collapsed": false
   },
   "outputs": [
    {
     "data": {
      "text/html": [
       "<div>\n",
       "<table border=\"1\" class=\"dataframe\">\n",
       "  <thead>\n",
       "    <tr style=\"text-align: right;\">\n",
       "      <th></th>\n",
       "      <th>num</th>\n",
       "      <th>exposure</th>\n",
       "      <th>nbstars</th>\n",
       "      <th>prfx</th>\n",
       "      <th>pfry</th>\n",
       "      <th>sig_prfx</th>\n",
       "      <th>sig_prfy</th>\n",
       "    </tr>\n",
       "  </thead>\n",
       "  <tbody>\n",
       "    <tr>\n",
       "      <th>count</th>\n",
       "      <td>10.00000</td>\n",
       "      <td>10.000000</td>\n",
       "      <td>10.000000</td>\n",
       "      <td>10.000000</td>\n",
       "      <td>10.000000</td>\n",
       "      <td>10.000000</td>\n",
       "      <td>10.000000</td>\n",
       "    </tr>\n",
       "    <tr>\n",
       "      <th>mean</th>\n",
       "      <td>4.50000</td>\n",
       "      <td>3.400000</td>\n",
       "      <td>16.400000</td>\n",
       "      <td>3.266613</td>\n",
       "      <td>3.427067</td>\n",
       "      <td>0.137860</td>\n",
       "      <td>0.195532</td>\n",
       "    </tr>\n",
       "    <tr>\n",
       "      <th>std</th>\n",
       "      <td>3.02765</td>\n",
       "      <td>1.264911</td>\n",
       "      <td>8.946756</td>\n",
       "      <td>0.681054</td>\n",
       "      <td>0.689866</td>\n",
       "      <td>0.113786</td>\n",
       "      <td>0.272582</td>\n",
       "    </tr>\n",
       "    <tr>\n",
       "      <th>min</th>\n",
       "      <td>0.00000</td>\n",
       "      <td>1.000000</td>\n",
       "      <td>4.000000</td>\n",
       "      <td>2.620496</td>\n",
       "      <td>2.759349</td>\n",
       "      <td>0.053654</td>\n",
       "      <td>0.038652</td>\n",
       "    </tr>\n",
       "    <tr>\n",
       "      <th>25%</th>\n",
       "      <td>2.25000</td>\n",
       "      <td>3.000000</td>\n",
       "      <td>9.750000</td>\n",
       "      <td>2.894450</td>\n",
       "      <td>2.918644</td>\n",
       "      <td>0.074806</td>\n",
       "      <td>0.050207</td>\n",
       "    </tr>\n",
       "    <tr>\n",
       "      <th>50%</th>\n",
       "      <td>4.50000</td>\n",
       "      <td>3.000000</td>\n",
       "      <td>15.000000</td>\n",
       "      <td>3.111578</td>\n",
       "      <td>3.406658</td>\n",
       "      <td>0.095132</td>\n",
       "      <td>0.090178</td>\n",
       "    </tr>\n",
       "    <tr>\n",
       "      <th>75%</th>\n",
       "      <td>6.75000</td>\n",
       "      <td>4.500000</td>\n",
       "      <td>22.250000</td>\n",
       "      <td>3.272273</td>\n",
       "      <td>3.615786</td>\n",
       "      <td>0.146254</td>\n",
       "      <td>0.178020</td>\n",
       "    </tr>\n",
       "    <tr>\n",
       "      <th>max</th>\n",
       "      <td>9.00000</td>\n",
       "      <td>5.000000</td>\n",
       "      <td>30.000000</td>\n",
       "      <td>5.010677</td>\n",
       "      <td>5.127605</td>\n",
       "      <td>0.431963</td>\n",
       "      <td>0.931127</td>\n",
       "    </tr>\n",
       "  </tbody>\n",
       "</table>\n",
       "</div>"
      ],
      "text/plain": [
       "            num   exposure    nbstars       prfx       pfry   sig_prfx  \\\n",
       "count  10.00000  10.000000  10.000000  10.000000  10.000000  10.000000   \n",
       "mean    4.50000   3.400000  16.400000   3.266613   3.427067   0.137860   \n",
       "std     3.02765   1.264911   8.946756   0.681054   0.689866   0.113786   \n",
       "min     0.00000   1.000000   4.000000   2.620496   2.759349   0.053654   \n",
       "25%     2.25000   3.000000   9.750000   2.894450   2.918644   0.074806   \n",
       "50%     4.50000   3.000000  15.000000   3.111578   3.406658   0.095132   \n",
       "75%     6.75000   4.500000  22.250000   3.272273   3.615786   0.146254   \n",
       "max     9.00000   5.000000  30.000000   5.010677   5.127605   0.431963   \n",
       "\n",
       "        sig_prfy  \n",
       "count  10.000000  \n",
       "mean    0.195532  \n",
       "std     0.272582  \n",
       "min     0.038652  \n",
       "25%     0.050207  \n",
       "50%     0.090178  \n",
       "75%     0.178020  \n",
       "max     0.931127  "
      ]
     },
     "execution_count": 40,
     "metadata": {},
     "output_type": "execute_result"
    }
   ],
   "source": [
    "df.describe()"
   ]
  },
  {
   "cell_type": "code",
   "execution_count": null,
   "metadata": {
    "collapsed": true
   },
   "outputs": [],
   "source": []
  }
 ],
 "metadata": {
  "kernelspec": {
   "display_name": "Python 2",
   "language": "python",
   "name": "python2"
  },
  "language_info": {
   "codemirror_mode": {
    "name": "ipython",
    "version": 2
   },
   "file_extension": ".py",
   "mimetype": "text/x-python",
   "name": "python",
   "nbconvert_exporter": "python",
   "pygments_lexer": "ipython2",
   "version": "2.7.12"
  }
 },
 "nbformat": 4,
 "nbformat_minor": 0
}
