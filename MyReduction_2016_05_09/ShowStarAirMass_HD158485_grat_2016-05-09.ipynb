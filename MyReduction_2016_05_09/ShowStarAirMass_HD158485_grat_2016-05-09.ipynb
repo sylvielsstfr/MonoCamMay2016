{
 "cells": [
  {
   "cell_type": "markdown",
   "metadata": {},
   "source": [
    "# Describe the elevation of the star during the night"
   ]
  },
  {
   "cell_type": "code",
   "execution_count": 1,
   "metadata": {
    "collapsed": true
   },
   "outputs": [],
   "source": [
    "import urllib\n",
    "import IPython.display\n",
    "import numpy as np\n",
    "import astropy"
   ]
  },
  {
   "cell_type": "code",
   "execution_count": 2,
   "metadata": {
    "collapsed": false
   },
   "outputs": [
    {
     "name": "stderr",
     "output_type": "stream",
     "text": [
      "/Users/dagoret-campagnesylvie/anaconda/envs/pyastrophys/lib/python2.7/site-packages/matplotlib/__init__.py:872: UserWarning: axes.color_cycle is deprecated and replaced with axes.prop_cycle; please use the latter.\n",
      "  warnings.warn(self.msg_depr % (key, alt_key))\n"
     ]
    }
   ],
   "source": [
    "%matplotlib inline\n",
    "from matplotlib import pyplot as plt\n",
    "import matplotlib\n",
    "matplotlib.rc_file(\"../templates/matplotlibrc\")"
   ]
  },
  {
   "cell_type": "code",
   "execution_count": 3,
   "metadata": {
    "collapsed": true
   },
   "outputs": [],
   "source": [
    "from astropy import units as u\n",
    "from astropy.coordinates import SkyCoord\n",
    "from astropy.coordinates import Angle\n",
    "from astropy.table import Table\n",
    "from astropy.coordinates import Angle\n",
    "from astropy.time import Time, TimeDelta,TimezoneInfo"
   ]
  },
  {
   "cell_type": "code",
   "execution_count": 4,
   "metadata": {
    "collapsed": true
   },
   "outputs": [],
   "source": [
    "from datetime import datetime\n",
    "from pytz import timezone\n",
    "import pytz\n",
    "import pandas as pd"
   ]
  },
  {
   "cell_type": "code",
   "execution_count": 5,
   "metadata": {
    "collapsed": true
   },
   "outputs": [],
   "source": [
    "from astropy.visualization import astropy_mpl_style\n",
    "plt.style.use(astropy_mpl_style)"
   ]
  },
  {
   "cell_type": "code",
   "execution_count": 6,
   "metadata": {
    "collapsed": true
   },
   "outputs": [],
   "source": [
    "from astropy.coordinates import SkyCoord, EarthLocation, AltAz"
   ]
  },
  {
   "cell_type": "markdown",
   "metadata": {},
   "source": [
    "## Read the data from the fits file table\n",
    "\n",
    "\n",
    "This file is a kind of logbook written in a fits format.\n",
    "It includes the file number, the UTC time and the airmass for all the HD158485_grat_1-25\n",
    "during the night 2016-05-09-10"
   ]
  },
  {
   "cell_type": "code",
   "execution_count": 7,
   "metadata": {
    "collapsed": true
   },
   "outputs": [],
   "source": [
    "tablefile_HD158485_PSF_with_AM='HD158485_grat_1-25_TablePSF_night20160509_withAM.fits'"
   ]
  },
  {
   "cell_type": "code",
   "execution_count": 8,
   "metadata": {
    "collapsed": false
   },
   "outputs": [],
   "source": [
    "t = Table.read(tablefile_HD158485_PSF_with_AM)"
   ]
  },
  {
   "cell_type": "code",
   "execution_count": 9,
   "metadata": {
    "collapsed": false
   },
   "outputs": [
    {
     "data": {
      "text/html": [
       "&lt;Table length=25&gt;\n",
       "<table id=\"table4485131728-447694\" class=\"table table-striped table-bordered table-condensed\">\n",
       "<thead><tr><th>num</th><th>file</th><th>time</th><th>exposure</th><th>nbstars</th><th>prfx</th><th>pfry</th><th>sig_prfx</th><th>sig_prfy</th><th>sigmax</th><th>sigmay</th><th>azimuth</th><th>altitude</th><th>airmass</th></tr></thead>\n",
       "<thead><tr><th></th><th></th><th></th><th></th><th></th><th></th><th></th><th></th><th></th><th></th><th></th><th>deg</th><th>deg</th><th></th></tr></thead>\n",
       "<tr><td>1</td><td>AssScImHD158485_grat_1.fits</td><td>2016-05-10T08:16:06.228</td><td>1.0</td><td>21</td><td>4.51917437069</td><td>4.41227611476</td><td>0.714686734982</td><td>0.470638109358</td><td>4.26610060593</td><td>4.16518865233</td><td>23.8225625333</td><td>62.8499084593</td><td>1.12383012257</td></tr>\n",
       "<tr><td>2</td><td>AssScImHD158485_grat_2.fits</td><td>2016-05-10T08:17:42.514</td><td>1.5</td><td>15</td><td>4.37330406145</td><td>4.55735594953</td><td>0.724104853084</td><td>0.439038971578</td><td>4.12839903401</td><td>4.30214401636</td><td>23.4653779616</td><td>62.9817728061</td><td>1.12250824466</td></tr>\n",
       "<tr><td>3</td><td>AssScImHD158485_grat_3.fits</td><td>2016-05-10T08:20:57.045</td><td>1.5</td><td>12</td><td>4.63608968996</td><td>4.14849632127</td><td>0.368357486235</td><td>0.460349718574</td><td>4.37646866733</td><td>3.91618052728</td><td>22.7286386059</td><td>63.2423754718</td><td>1.11992236223</td></tr>\n",
       "<tr><td>4</td><td>AssScImHD158485_grat_4.fits</td><td>2016-05-10T08:21:03.531</td><td>1.5</td><td>23</td><td>4.63124096986</td><td>4.31863744567</td><td>0.427319048562</td><td>0.422820799627</td><td>4.37189147555</td><td>4.07679374871</td><td>22.7037266293</td><td>63.2509282756</td><td>1.11983808954</td></tr>\n",
       "<tr><td>5</td><td>AssScImHD158485_grat_5.fits</td><td>2016-05-10T08:21:09.092</td><td>1.5</td><td>19</td><td>4.82428803566</td><td>4.2211565421</td><td>0.618518011995</td><td>0.492391423441</td><td>4.55412790566</td><td>3.98477177574</td><td>22.6823496142</td><td>63.2582542461</td><td>1.11976593503</td></tr>\n",
       "<tr><td>6</td><td>AssScImHD158485_grat_6.fits</td><td>2016-05-10T10:37:40.318</td><td>1.5</td><td>18</td><td>4.53751815256</td><td>4.16726183081</td><td>0.341235964668</td><td>0.349962604607</td><td>4.28341713601</td><td>3.93389516829</td><td>342.005580699</td><td>64.6042810559</td><td>1.10696939773</td></tr>\n",
       "<tr><td>7</td><td>AssScImHD158485_grat_7.fits</td><td>2016-05-10T10:38:22.323</td><td>1.5</td><td>14</td><td>4.51257238741</td><td>4.4991794035</td><td>0.421523140932</td><td>0.37097916161</td><td>4.25986833371</td><td>4.24722535691</td><td>341.819787657</td><td>64.5597483365</td><td>1.10737834453</td></tr>\n",
       "<tr><td>8</td><td>AssScImHD158485_grat_8.fits</td><td>2016-05-10T10:38:57.336</td><td>1.5</td><td>11</td><td>4.38819420274</td><td>4.442448533</td><td>0.308672418031</td><td>0.262399443441</td><td>4.14245532739</td><td>4.19367141515</td><td>341.66559425</td><td>64.5222913746</td><td>1.10772306655</td></tr>\n",
       "<tr><td>9</td><td>AssScImHD158485_grat_9.fits</td><td>2016-05-10T10:39:04.394</td><td>1.5</td><td>25</td><td>4.68053308095</td><td>4.44502209162</td><td>0.379893380493</td><td>0.444990478455</td><td>4.41842322842</td><td>4.19610085449</td><td>341.634585951</td><td>64.514703751</td><td>1.1077929804</td></tr>\n",
       "<tr><td>10</td><td>AssScImHD158485_grat_10.fits</td><td>2016-05-10T10:39:10.033</td><td>1.5</td><td>24</td><td>4.59068507983</td><td>4.43917717912</td><td>0.455862974376</td><td>0.329728470537</td><td>4.33360671536</td><td>4.19058325709</td><td>341.609829783</td><td>64.5086327143</td><td>1.10784894047</td></tr>\n",
       "<tr><td>11</td><td>AssScImHD158485_grat_11.fits</td><td>2016-05-10T10:39:15.577</td><td>1.5</td><td>22</td><td>4.35276347769</td><td>4.47580360627</td><td>0.595749919184</td><td>0.367797107107</td><td>4.10900872294</td><td>4.22515860432</td><td>341.585506243</td><td>64.5026562619</td><td>1.10790404638</td></tr>\n",
       "<tr><td>12</td><td>AssScImHD158485_grat_12.fits</td><td>2016-05-10T10:39:21.146</td><td>1.5</td><td>21</td><td>4.71936524893</td><td>4.48708065837</td><td>0.423001539687</td><td>0.390868075005</td><td>4.45508079499</td><td>4.2358041415</td><td>341.561088563</td><td>64.4966451848</td><td>1.10795948923</td></tr>\n",
       "<tr><td>13</td><td>AssScImHD158485_grat_13.fits</td><td>2016-05-10T10:39:26.680</td><td>1.5</td><td>19</td><td>4.26026223622</td><td>4.31902084872</td><td>0.437844810697</td><td>0.210264907171</td><td>4.02168755099</td><td>4.07715568119</td><td>341.536839784</td><td>64.4906642726</td><td>1.10801467148</td></tr>\n",
       "<tr><td>14</td><td>AssScImHD158485_grat_14.fits</td><td>2016-05-10T10:39:32.263</td><td>1.5</td><td>25</td><td>4.66785482196</td><td>4.31030062117</td><td>0.421424560848</td><td>0.339137522444</td><td>4.40645495193</td><td>4.06892378638</td><td>341.512391903</td><td>64.4846227186</td><td>1.10807043107</td></tr>\n",
       "<tr><td>15</td><td>AssScImHD158485_grat_15.fits</td><td>2016-05-10T10:39:37.720</td><td>1.5</td><td>12</td><td>4.46503992227</td><td>4.48190154549</td><td>0.496707069485</td><td>0.496600051884</td><td>4.21499768662</td><td>4.23091505895</td><td>341.488510933</td><td>64.47871006</td><td>1.1081250184</td></tr>\n",
       "<tr><td>16</td><td>AssScImHD158485_grat_16.fits</td><td>2016-05-10T10:39:43.402</td><td>1.5</td><td>18</td><td>4.5099317243</td><td>4.21103397907</td><td>0.454810854596</td><td>0.368901882076</td><td>4.25737554774</td><td>3.97521607624</td><td>341.463661248</td><td>64.4725457899</td><td>1.10818194697</td></tr>\n",
       "<tr><td>17</td><td>AssScImHD158485_grat_17.fits</td><td>2016-05-10T10:39:48.835</td><td>1.5</td><td>18</td><td>4.44876223611</td><td>4.42591236553</td><td>0.470657286357</td><td>0.334001446694</td><td>4.19963155089</td><td>4.17806127306</td><td>341.439915751</td><td>64.4666441947</td><td>1.10823646718</td></tr>\n",
       "<tr><td>18</td><td>AssScImHD158485_grat_18.fits</td><td>2016-05-10T10:39:54.420</td><td>1.5</td><td>18</td><td>4.14879717937</td><td>4.45634512456</td><td>0.565680366914</td><td>0.417615943108</td><td>3.91646453732</td><td>4.20678979758</td><td>341.415521431</td><td>64.4605698943</td><td>1.10829260076</td></tr>\n",
       "<tr><td>19</td><td>AssScImHD158485_grat_19.fits</td><td>2016-05-10T10:39:59.903</td><td>1.5</td><td>30</td><td>4.81905166004</td><td>3.66357243286</td><td>0.873762122833</td><td>0.781950816234</td><td>4.54918476708</td><td>3.45841237662</td><td>341.391587932</td><td>64.4545990456</td><td>1.10834779601</td></tr>\n",
       "<tr><td>20</td><td>AssScImHD158485_grat_20.fits</td><td>2016-05-10T10:40:05.513</td><td>1.5</td><td>24</td><td>4.35824228453</td><td>4.32556051318</td><td>0.53369227698</td><td>0.429527066847</td><td>4.1141807166</td><td>4.08332912445</td><td>341.367115775</td><td>64.448482228</td><td>1.10840435879</td></tr>\n",
       "<tr><td>21</td><td>AssScImHD158485_grat_21.fits</td><td>2016-05-10T10:40:10.964</td><td>1.5</td><td>24</td><td>4.26216855573</td><td>4.3426422493</td><td>0.491474790096</td><td>0.489584973916</td><td>4.02348711661</td><td>4.09945428334</td><td>341.343352434</td><td>64.4425313502</td><td>1.10845940478</td></tr>\n",
       "<tr><td>22</td><td>AssScImHD158485_grat_22.fits</td><td>2016-05-10T10:40:16.678</td><td>1.5</td><td>25</td><td>4.31437200963</td><td>4.30430167743</td><td>0.538877557519</td><td>0.477351463091</td><td>4.07276717709</td><td>4.06326078349</td><td>341.318458673</td><td>64.4362855046</td><td>1.10851719799</td></tr>\n",
       "<tr><td>23</td><td>AssScImHD158485_grat_23.fits</td><td>2016-05-10T10:40:22.204</td><td>1.5</td><td>21</td><td>4.46607344913</td><td>4.40922185022</td><td>0.493397715705</td><td>0.373279426969</td><td>4.21597333598</td><td>4.16230542661</td><td>341.294399655</td><td>64.4302375212</td><td>1.10857317866</td></tr>\n",
       "<tr><td>24</td><td>AssScImHD158485_grat_24.fits</td><td>2016-05-10T10:40:27.878</td><td>1.5</td><td>22</td><td>4.4507245146</td><td>4.2998067432</td><td>0.335751677951</td><td>0.367555672566</td><td>4.20148394178</td><td>4.05901756558</td><td>341.269712346</td><td>64.4240197511</td><td>1.10863074966</td></tr>\n",
       "<tr><td>25</td><td>AssScImHD158485_grat_25.fits</td><td>2016-05-10T10:40:33.376</td><td>1.5</td><td>22</td><td>4.59838590183</td><td>4.46701270864</td><td>0.56196352495</td><td>0.417391740944</td><td>4.34087629133</td><td>4.21685999695</td><td>341.245806346</td><td>64.4179873083</td><td>1.1086866229</td></tr>\n",
       "</table><style>table.dataTable {clear: both; width: auto !important; margin: 0 !important;}\n",
       ".dataTables_info, .dataTables_length, .dataTables_filter, .dataTables_paginate{\n",
       "display: inline-block; margin-right: 1em; }\n",
       ".paginate_button { margin-right: 5px; }\n",
       "</style>\n",
       "<script>\n",
       "require.config({paths: {\n",
       "    datatables: 'https://cdn.datatables.net/1.10.9/js/jquery.dataTables.min'\n",
       "}});\n",
       "require([\"datatables\"], function(){\n",
       "    console.log(\"$('#table4485131728-447694').dataTable()\");\n",
       "    $('#table4485131728-447694').dataTable({\n",
       "        \"order\": [],\n",
       "        \"iDisplayLength\": 50,\n",
       "        \"aLengthMenu\": [[10, 25, 50, 100, 500, 1000, -1], [10, 25, 50, 100, 500, 1000, 'All']],\n",
       "        \"pagingType\": \"full_numbers\"\n",
       "    });\n",
       "});\n",
       "</script>\n"
      ],
      "text/plain": [
       "<IPython.core.display.HTML object>"
      ]
     },
     "execution_count": 9,
     "metadata": {},
     "output_type": "execute_result"
    }
   ],
   "source": [
    "t.show_in_notebook()"
   ]
  },
  {
   "cell_type": "code",
   "execution_count": 10,
   "metadata": {
    "collapsed": true
   },
   "outputs": [],
   "source": [
    "all_airmass=t['airmass']\n",
    "all_num=t['num']\n",
    "all_times=Time(t['time'])"
   ]
  },
  {
   "cell_type": "markdown",
   "metadata": {},
   "source": [
    "## Define Coordinates Systems"
   ]
  },
  {
   "cell_type": "code",
   "execution_count": 11,
   "metadata": {
    "collapsed": true
   },
   "outputs": [],
   "source": [
    "hd_158485_starloc=astropy.coordinates.SkyCoord.from_name('HD158485')"
   ]
  },
  {
   "cell_type": "code",
   "execution_count": 12,
   "metadata": {
    "collapsed": true
   },
   "outputs": [],
   "source": [
    "from astropy.coordinates import Longitude, Latitude\n",
    "NOFS_Longitude=Longitude(u'-111°44′25″') \n",
    "NOFS_Latitude=Latitude(u'35°11′03″')\n",
    "NOFS_Height=2.273*u.m "
   ]
  },
  {
   "cell_type": "code",
   "execution_count": 13,
   "metadata": {
    "collapsed": true
   },
   "outputs": [],
   "source": [
    "#definition of the location to astropy\n",
    "NOFS_location = astropy.coordinates.EarthLocation(lat=NOFS_Latitude, lon=NOFS_Longitude, height=NOFS_Height)"
   ]
  },
  {
   "cell_type": "code",
   "execution_count": 14,
   "metadata": {
    "collapsed": false
   },
   "outputs": [
    {
     "name": "stderr",
     "output_type": "stream",
     "text": [
      "WARNING: Tried to get polar motions for times after IERS data is valid. Defaulting to polar motion from the 50-yr mean for those.\n",
      "If you need enough precision such that this matters (~<10 arcsec), you can\n",
      "use the latest IERS predictions by running:\n",
      "\n",
      "    >>> from astropy.utils import iers\n",
      "    >>> iers.IERS.iers_table = iers.IERS_A.open(iers.IERS_A_URL)\n",
      "\n",
      " [astropy.coordinates.builtin_frames.utils]\n",
      "WARNING: (some) times are outside of range covered by IERS table. Assuming UT1-UTC=0 for coordinate transformations.\n",
      "If you need enough precision such that this matters (~<10 arcsec), you can\n",
      "use the latest IERS predictions by running:\n",
      "\n",
      "    >>> from astropy.utils import iers\n",
      "    >>> iers.IERS.iers_table = iers.IERS_A.open(iers.IERS_A_URL)\n",
      "\n",
      " [astropy.coordinates.builtin_frames.utils]\n"
     ]
    }
   ],
   "source": [
    "from astropy.coordinates import get_sun\n",
    "utcoffset=utcoffset = -7*u.hour  # Mountain  Daylight Time\n",
    "midnight = Time('2016-5-10 00:00:00') - utcoffset # midnight i UTC\n",
    "\n",
    "delta_midnight_object_day=all_times-midnight\n",
    "\n",
    "delta_midnight = np.linspace(-12, 12, 1000)*u.hour\n",
    "\n",
    "times_May09_to_10 = midnight + delta_midnight\n",
    "frame_May09_to_10 = AltAz(obstime=times_May09_to_10, location=NOFS_location)\n",
    "\n",
    "sunaltazs_May09_to_10 = get_sun(times_May09_to_10).transform_to(frame_May09_to_10)"
   ]
  },
  {
   "cell_type": "code",
   "execution_count": 15,
   "metadata": {
    "collapsed": false
   },
   "outputs": [
    {
     "data": {
      "text/latex": [
       "$[1.2683967,~1.2951428,~1.3491792,~1.3509808,~1.3525256,~3.6278661,~3.6395342,~3.64926,~3.6512206,~3.6527869,~3.6543269,~3.6558739,~3.6574111,~3.6589619,~3.6604778,~3.6620561,~3.6635653,~3.6651167,~3.6666397,~3.6681981,~3.6697122,~3.6712994,~3.6728344,~3.6744106,~3.6759378] \\; \\mathrm{h}$"
      ],
      "text/plain": [
       "<Quantity [ 1.26839667, 1.29514278, 1.34917917, 1.35098083, 1.35252556,\n",
       "            3.62786611, 3.63953417, 3.64926   , 3.65122056, 3.65278694,\n",
       "            3.65432694, 3.65587389, 3.65741111, 3.65896194, 3.66047778,\n",
       "            3.66205611, 3.66356528, 3.66511667, 3.66663972, 3.66819806,\n",
       "            3.66971222, 3.67129944, 3.67283444, 3.67441056, 3.67593778] h>"
      ]
     },
     "execution_count": 15,
     "metadata": {},
     "output_type": "execute_result"
    }
   ],
   "source": [
    "delta_midnight_object_hour=delta_midnight_object_day.to('hour')\n",
    "delta_midnight_object_hour"
   ]
  },
  {
   "cell_type": "code",
   "execution_count": 16,
   "metadata": {
    "collapsed": false
   },
   "outputs": [],
   "source": [
    "hd_158485_altazs_May09_to_10 = hd_158485_starloc.transform_to(frame_May09_to_10 )"
   ]
  },
  {
   "cell_type": "code",
   "execution_count": null,
   "metadata": {
    "collapsed": false
   },
   "outputs": [],
   "source": []
  },
  {
   "cell_type": "code",
   "execution_count": 17,
   "metadata": {
    "collapsed": false
   },
   "outputs": [
    {
     "data": {
      "image/png": "[encoded data removed]",
      "text/plain": [
       "<matplotlib.figure.Figure at 0x10b506f50>"
      ]
     },
     "metadata": {},
     "output_type": "display_data"
    }
   ],
   "source": [
    "plt.figure(figsize=(16.,10.))\n",
    "plt.plot(delta_midnight, sunaltazs_May09_to_10.secz, color='r', label='Sun')\n",
    "plt.plot(delta_midnight_object_hour,all_airmass,marker='o',markersize='10',color='c',linestyle='None',label='images')\n",
    "plt.scatter(delta_midnight, hd_158485_altazs_May09_to_10.secz,\n",
    "            c=hd_158485_altazs_May09_to_10.alt, label='hd_158485', lw=0, s=8,\n",
    "            cmap='viridis')\n",
    "\n",
    "# plot astronomical twillight\n",
    "plt.fill_between(delta_midnight.to('hr').value, 0, 2.,\n",
    "                 sunaltazs_May09_to_10.alt < -0*u.deg, color='0.5', zorder=0)\n",
    "#plot astronomical night\n",
    "plt.fill_between(delta_midnight.to('hr').value, 0, 2.,\n",
    "                 sunaltazs_May09_to_10.alt < -18*u.deg, color='k', zorder=0)\n",
    "plt.colorbar().set_label('Altitude [deg]')\n",
    "plt.legend(loc='upper left')\n",
    "plt.xlim(-12, 12)\n",
    "plt.xticks(np.arange(13)*2 -12)\n",
    "plt.ylim(1., 2.)\n",
    "plt.title('hd_158485 and sun during night 09 to 10 May 2016')\n",
    "plt.xlabel('Hours from MDT Midnight')\n",
    "plt.ylabel('Airmass')\n",
    "plt.savefig('hd_158485_airmass_night20160509.pdf')\n",
    "plt.show()"
   ]
  },
  {
   "cell_type": "code",
   "execution_count": null,
   "metadata": {
    "collapsed": true
   },
   "outputs": [],
   "source": []
  },
  {
   "cell_type": "code",
   "execution_count": null,
   "metadata": {
    "collapsed": true
   },
   "outputs": [],
   "source": []
  },
  {
   "cell_type": "code",
   "execution_count": null,
   "metadata": {
    "collapsed": false
   },
   "outputs": [],
   "source": []
  },
  {
   "cell_type": "code",
   "execution_count": null,
   "metadata": {
    "collapsed": false
   },
   "outputs": [],
   "source": []
  },
  {
   "cell_type": "code",
   "execution_count": null,
   "metadata": {
    "collapsed": false
   },
   "outputs": [],
   "source": []
  },
  {
   "cell_type": "code",
   "execution_count": null,
   "metadata": {
    "collapsed": false
   },
   "outputs": [],
   "source": []
  },
  {
   "cell_type": "code",
   "execution_count": null,
   "metadata": {
    "collapsed": false
   },
   "outputs": [],
   "source": []
  },
  {
   "cell_type": "code",
   "execution_count": null,
   "metadata": {
    "collapsed": false
   },
   "outputs": [],
   "source": []
  },
  {
   "cell_type": "code",
   "execution_count": null,
   "metadata": {
    "collapsed": false
   },
   "outputs": [],
   "source": []
  },
  {
   "cell_type": "code",
   "execution_count": null,
   "metadata": {
    "collapsed": false
   },
   "outputs": [],
   "source": []
  },
  {
   "cell_type": "code",
   "execution_count": null,
   "metadata": {
    "collapsed": true
   },
   "outputs": [],
   "source": []
  },
  {
   "cell_type": "code",
   "execution_count": null,
   "metadata": {
    "collapsed": false
   },
   "outputs": [],
   "source": []
  },
  {
   "cell_type": "code",
   "execution_count": null,
   "metadata": {
    "collapsed": true
   },
   "outputs": [],
   "source": []
  },
  {
   "cell_type": "code",
   "execution_count": null,
   "metadata": {
    "collapsed": false
   },
   "outputs": [],
   "source": []
  },
  {
   "cell_type": "code",
   "execution_count": null,
   "metadata": {
    "collapsed": false
   },
   "outputs": [],
   "source": []
  },
  {
   "cell_type": "code",
   "execution_count": null,
   "metadata": {
    "collapsed": true
   },
   "outputs": [],
   "source": []
  }
 ],
 "metadata": {
  "kernelspec": {
   "display_name": "Python 2",
   "language": "python",
   "name": "python2"
  },
  "language_info": {
   "codemirror_mode": {
    "name": "ipython",
    "version": 2
   },
   "file_extension": ".py",
   "mimetype": "text/x-python",
   "name": "python",
   "nbconvert_exporter": "python",
   "pygments_lexer": "ipython2",
   "version": "2.7.12"
  }
 },
 "nbformat": 4,
 "nbformat_minor": 0
}
