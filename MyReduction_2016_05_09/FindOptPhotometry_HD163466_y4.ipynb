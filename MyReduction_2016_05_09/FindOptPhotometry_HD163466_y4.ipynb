{
 "cells": [
  {
   "cell_type": "markdown",
   "metadata": {},
   "source": [
    "# Find Optimal Photometry for HD163466 in Y4 filter\n",
    "=============================================================================\n",
    "\n",
    "- creation 09/07/2016\n",
    "- author Sylvie Dagoret-Campagne\n"
   ]
  },
  {
   "cell_type": "code",
   "execution_count": 15,
   "metadata": {
    "collapsed": false
   },
   "outputs": [
    {
     "name": "stdout",
     "output_type": "stream",
     "text": [
      "ccdproc version 1.0.1\n"
     ]
    }
   ],
   "source": [
    "%matplotlib inline\n",
    "import matplotlib.pyplot as plt\n",
    "import numpy as np\n",
    "\n",
    "from astropy.modeling import models\n",
    "from astropy import units as u\n",
    "from astropy import nddata\n",
    "from astropy.io import fits\n",
    "\n",
    "from astropy.table import Table\n",
    "from astropy.table import Column\n",
    "\n",
    "import ccdproc\n",
    "print 'ccdproc version',ccdproc.__version__\n",
    "\n",
    "from astropy.modeling import models"
   ]
  },
  {
   "cell_type": "code",
   "execution_count": 16,
   "metadata": {
    "collapsed": true
   },
   "outputs": [],
   "source": [
    "import photutils\n",
    "from astropy.stats import sigma_clipped_stats\n",
    "from photutils import daofind\n",
    "from photutils import CircularAperture,CircularAnnulus\n",
    "from photutils import aperture_photometry\n",
    "from astropy.table import hstack\n",
    "from astropy.visualization import SqrtStretch\n",
    "from astropy.visualization.mpl_normalize import ImageNormalize"
   ]
  },
  {
   "cell_type": "code",
   "execution_count": 17,
   "metadata": {
    "collapsed": true
   },
   "outputs": [],
   "source": [
    "from scipy import stats \n",
    "from scipy import ndimage\n",
    "import os\n",
    "from datetime import datetime, timedelta"
   ]
  },
  {
   "cell_type": "code",
   "execution_count": 18,
   "metadata": {
    "collapsed": true
   },
   "outputs": [],
   "source": [
    "import re"
   ]
  },
  {
   "cell_type": "code",
   "execution_count": 19,
   "metadata": {
    "collapsed": true
   },
   "outputs": [],
   "source": [
    "from photutils.background import Background2D"
   ]
  },
  {
   "cell_type": "code",
   "execution_count": 20,
   "metadata": {
    "collapsed": true
   },
   "outputs": [],
   "source": [
    "import libMonocamBaseImages           # my tool library written to do that CCD reduction"
   ]
  },
  {
   "cell_type": "code",
   "execution_count": 21,
   "metadata": {
    "collapsed": false
   },
   "outputs": [
    {
     "name": "stdout",
     "output_type": "stream",
     "text": [
      "standard date format for the analysis : 2016-07-09 10:37:07.167891\n",
      "fits date format for the analysis :  2016-07-09T10:37:07\n"
     ]
    }
   ],
   "source": [
    "now=datetime.utcnow()  # choose UTC time\n",
    "datestr=str(now)\n",
    "print 'standard date format for the analysis :',datestr\n",
    "#  want the following format '2016-05-10T11:55:27.267'\n",
    "date_of_analysis=now.strftime('%Y-%m-%dT%H:%M:%S')\n",
    "print 'fits date format for the analysis : ',date_of_analysis"
   ]
  },
  {
   "cell_type": "code",
   "execution_count": 22,
   "metadata": {
    "collapsed": true
   },
   "outputs": [],
   "source": [
    "def weighted_avg_and_std(values, weights):\n",
    "    \"\"\"\n",
    "    Return the weighted average and standard deviation.\n",
    "\n",
    "    values, weights -- Numpy ndarrays with the same shape.\n",
    "    \"\"\"\n",
    "    weights=np.where(weights>0,weights,0)\n",
    "    average = np.average(values, weights=weights)\n",
    "    variance = np.average((values-average)**2, weights=weights)  # Fast and numerically precise\n",
    "    return (average, np.sqrt(variance))"
   ]
  },
  {
   "cell_type": "markdown",
   "metadata": {},
   "source": [
    "## Definitions and Constants"
   ]
  },
  {
   "cell_type": "code",
   "execution_count": 23,
   "metadata": {
    "collapsed": true
   },
   "outputs": [],
   "source": [
    "object_name='HD163466_y4'"
   ]
  },
  {
   "cell_type": "markdown",
   "metadata": {},
   "source": [
    "### input files"
   ]
  },
  {
   "cell_type": "code",
   "execution_count": 24,
   "metadata": {
    "collapsed": true
   },
   "outputs": [],
   "source": [
    "path='./HD163466_y4'\n",
    "rootfilename='AssScImHD163466_y4_' \n",
    "NumStart=1\n",
    "NumStop=8"
   ]
  },
  {
   "cell_type": "markdown",
   "metadata": {},
   "source": [
    "### output file (table)"
   ]
  },
  {
   "cell_type": "code",
   "execution_count": 25,
   "metadata": {
    "collapsed": true
   },
   "outputs": [],
   "source": [
    "outputtablefile='HD163466_y4_1-8_TablePhotometry.fits'"
   ]
  },
  {
   "cell_type": "markdown",
   "metadata": {},
   "source": [
    "### make the filelist"
   ]
  },
  {
   "cell_type": "code",
   "execution_count": 26,
   "metadata": {
    "collapsed": false
   },
   "outputs": [],
   "source": [
    "filelist=libMonocamBaseImages.BuildFilelist(path,rootfilename,start=NumStart,stop=NumStop,nbchar=1)"
   ]
  },
  {
   "cell_type": "code",
   "execution_count": 27,
   "metadata": {
    "collapsed": false
   },
   "outputs": [
    {
     "data": {
      "text/plain": [
       "['./HD163466_y4/AssScImHD163466_y4_1.fits',\n",
       " './HD163466_y4/AssScImHD163466_y4_2.fits',\n",
       " './HD163466_y4/AssScImHD163466_y4_3.fits',\n",
       " './HD163466_y4/AssScImHD163466_y4_4.fits',\n",
       " './HD163466_y4/AssScImHD163466_y4_5.fits',\n",
       " './HD163466_y4/AssScImHD163466_y4_6.fits',\n",
       " './HD163466_y4/AssScImHD163466_y4_7.fits',\n",
       " './HD163466_y4/AssScImHD163466_y4_8.fits']"
      ]
     },
     "execution_count": 27,
     "metadata": {},
     "output_type": "execute_result"
    }
   ],
   "source": [
    "filelist"
   ]
  },
  {
   "cell_type": "code",
   "execution_count": 28,
   "metadata": {
    "collapsed": false
   },
   "outputs": [],
   "source": [
    "baseobject_list=[ re.findall('./HD163466_y4/AssScIm(HD163466_y4_[0-9]+).fits',file)[0] for file in filelist]"
   ]
  },
  {
   "cell_type": "code",
   "execution_count": null,
   "metadata": {
    "collapsed": false
   },
   "outputs": [],
   "source": []
  },
  {
   "cell_type": "code",
   "execution_count": 29,
   "metadata": {
    "collapsed": false
   },
   "outputs": [
    {
     "data": {
      "text/plain": [
       "['HD163466_y4_1',\n",
       " 'HD163466_y4_2',\n",
       " 'HD163466_y4_3',\n",
       " 'HD163466_y4_4',\n",
       " 'HD163466_y4_5',\n",
       " 'HD163466_y4_6',\n",
       " 'HD163466_y4_7',\n",
       " 'HD163466_y4_8']"
      ]
     },
     "execution_count": 29,
     "metadata": {},
     "output_type": "execute_result"
    }
   ],
   "source": [
    "baseobject_list"
   ]
  },
  {
   "cell_type": "code",
   "execution_count": 30,
   "metadata": {
    "collapsed": true
   },
   "outputs": [],
   "source": [
    "NBFILES=len(filelist)"
   ]
  },
  {
   "cell_type": "markdown",
   "metadata": {
    "collapsed": true
   },
   "source": [
    "## Read Input files"
   ]
  },
  {
   "cell_type": "code",
   "execution_count": 31,
   "metadata": {
    "collapsed": false
   },
   "outputs": [
    {
     "name": "stdout",
     "output_type": "stream",
     "text": [
      "./HD163466_y4/AssScImHD163466_y4_1.fits\n",
      "./HD163466_y4/AssScImHD163466_y4_2.fits\n",
      "./HD163466_y4/AssScImHD163466_y4_3.fits\n",
      "./HD163466_y4/AssScImHD163466_y4_4.fits\n",
      "./HD163466_y4/AssScImHD163466_y4_5.fits\n",
      "./HD163466_y4/AssScImHD163466_y4_6.fits\n",
      "./HD163466_y4/AssScImHD163466_y4_7.fits\n",
      "./HD163466_y4/AssScImHD163466_y4_8.fits\n"
     ]
    }
   ],
   "source": [
    "allchannelallsciimages = []  # list of 16 lists of images series \n",
    "exposures_list = []        # sequential list of the exposures of the sky flats \n",
    "header_list = []           # list of headers\n",
    "data_list = []\n",
    "time_list = []                # date and time\n",
    "basefile_list = []         # basefilename\n",
    "dateobs_list = [] \n",
    "# get the primary block headers:\n",
    "for image_file in filelist: \n",
    "    print image_file\n",
    "    hdu_list = fits.open(image_file)\n",
    "    basefile_list.append(os.path.basename(image_file))\n",
    "    header=hdu_list[0].header\n",
    "    exposure=header['EXPOSURE']\n",
    "    exposures_list.append(exposure)\n",
    "    dateobs_list.append(header['DATE-OBS'])\n",
    "    header_list.append(header)\n",
    "    data=ccdproc.CCDData.read(image_file, hdu=0,unit='adu') \n",
    "    data_list.append(data)"
   ]
  },
  {
   "cell_type": "code",
   "execution_count": 32,
   "metadata": {
    "collapsed": false
   },
   "outputs": [],
   "source": [
    "#basefile_list"
   ]
  },
  {
   "cell_type": "code",
   "execution_count": null,
   "metadata": {
    "collapsed": false
   },
   "outputs": [],
   "source": []
  },
  {
   "cell_type": "markdown",
   "metadata": {},
   "source": [
    "## For control\n",
    "\n",
    "uncomment for control"
   ]
  },
  {
   "cell_type": "code",
   "execution_count": 33,
   "metadata": {
    "collapsed": true
   },
   "outputs": [],
   "source": [
    "index=0"
   ]
  },
  {
   "cell_type": "code",
   "execution_count": 34,
   "metadata": {
    "collapsed": false
   },
   "outputs": [],
   "source": [
    "#print exposures_list[index]"
   ]
  },
  {
   "cell_type": "code",
   "execution_count": 35,
   "metadata": {
    "collapsed": false
   },
   "outputs": [],
   "source": [
    "#header_list[index]"
   ]
  },
  {
   "cell_type": "code",
   "execution_count": 36,
   "metadata": {
    "collapsed": false
   },
   "outputs": [],
   "source": [
    "#plt.imshow(data_list[index])"
   ]
  },
  {
   "cell_type": "code",
   "execution_count": 37,
   "metadata": {
    "collapsed": true
   },
   "outputs": [],
   "source": [
    "#bkg= Background2D(data_list[index], (100, 100), filter_size=(3, 3),method='median')"
   ]
  },
  {
   "cell_type": "code",
   "execution_count": 38,
   "metadata": {
    "collapsed": false
   },
   "outputs": [],
   "source": [
    "#data_list[index].data-bkg.background"
   ]
  },
  {
   "cell_type": "markdown",
   "metadata": {},
   "source": [
    "## Background subtraction"
   ]
  },
  {
   "cell_type": "code",
   "execution_count": 39,
   "metadata": {
    "collapsed": true
   },
   "outputs": [],
   "source": [
    "correctedimage_list = []"
   ]
  },
  {
   "cell_type": "code",
   "execution_count": null,
   "metadata": {
    "collapsed": true
   },
   "outputs": [],
   "source": []
  },
  {
   "cell_type": "code",
   "execution_count": 40,
   "metadata": {
    "collapsed": false
   },
   "outputs": [],
   "source": [
    "for idx,data in enumerate(data_list):\n",
    "    bkg= Background2D(data, (100, 100), filter_size=(3, 3),method='median')\n",
    "    newimage=(data-bkg.background)/exposures_list[idx]   # normalize photometry per second\n",
    "    correctedimage_list.append(newimage)"
   ]
  },
  {
   "cell_type": "markdown",
   "metadata": {},
   "source": [
    "## Cut into small  images"
   ]
  },
  {
   "cell_type": "code",
   "execution_count": 41,
   "metadata": {
    "collapsed": true
   },
   "outputs": [],
   "source": [
    "NBIMAGES=len(correctedimage_list)"
   ]
  },
  {
   "cell_type": "code",
   "execution_count": 42,
   "metadata": {
    "collapsed": true
   },
   "outputs": [],
   "source": [
    "wpix=200"
   ]
  },
  {
   "cell_type": "code",
   "execution_count": 43,
   "metadata": {
    "collapsed": true
   },
   "outputs": [],
   "source": [
    "star2D_list = []\n",
    "position_list = []\n",
    "sigmapix_list = []\n",
    "sigmaxpix_list = []\n",
    "sigmaypix_list = []\n",
    "sigmax_psf_list = []\n",
    "sigmay_psf_list = []\n",
    "\n"
   ]
  },
  {
   "cell_type": "code",
   "execution_count": 44,
   "metadata": {
    "collapsed": false
   },
   "outputs": [
    {
     "name": "stdout",
     "output_type": "stream",
     "text": [
      "star 0  at (x0,y0) = [2104] , [1880]\n",
      "star 1  at (x0,y0) = [2103] , [1880]\n",
      "star 2  at (x0,y0) = [2103] , [1880]\n"
     ]
    },
    {
     "name": "stderr",
     "output_type": "stream",
     "text": [
      "/Users/dagoret-campagnesylvie/anaconda/envs/pyastrophys/lib/python2.7/site-packages/ipykernel/__main__.py:6: VisibleDeprecationWarning: converting an array with ndim > 0 to an index will result in an error in the future\n"
     ]
    },
    {
     "name": "stdout",
     "output_type": "stream",
     "text": [
      "star 3  at (x0,y0) = [2104] , [1879]\n",
      "star 4  at (x0,y0) = [2104] , [1879]\n",
      "star 5  at (x0,y0) = [2103] , [1879]\n",
      "star 6  at (x0,y0) = [2104] , [1880]\n",
      "star 7  at (x0,y0) = [2103] , [1880]\n"
     ]
    }
   ],
   "source": [
    "# loop on images\n",
    "for idx,image in enumerate(correctedimage_list):\n",
    "    (y0,x0)=np.where(image == image.max())\n",
    "    print 'star',idx,' at (x0,y0) =',x0,',',y0\n",
    "    # cut the image\n",
    "    the_star2D=image[y0-wpix:y0+wpix,x0-wpix:x0+wpix]\n",
    "    # put image in list for photometry\n",
    "    star2D_list.append(the_star2D)\n",
    "    # project the PSF on both axis\n",
    "    thepsfX=the_star2D.sum(axis=0)\n",
    "    thepsfY=the_star2D.sum(axis=1)\n",
    "    # save the psf\n",
    "    sigmax_psf_list.append(thepsfX)\n",
    "    sigmay_psf_list.append(thepsfY)\n",
    "    # calculate sigmax and sigmay\n",
    "    (mx,sigx)=weighted_avg_and_std(np.arange(thepsfX.shape[0]),thepsfX)\n",
    "    (my,sigy)=weighted_avg_and_std(np.arange(thepsfY.shape[0]),thepsfY)\n",
    "    # save position and sigmax and sigmay for photometry\n",
    "    position_list.append((my,mx))\n",
    "    sigmapix_list.append((sigy,sigx))\n",
    "    sigmaxpix_list.append(sigx)\n",
    "    sigmaypix_list.append(sigy)\n",
    "    "
   ]
  },
  {
   "cell_type": "code",
   "execution_count": 45,
   "metadata": {
    "collapsed": false
   },
   "outputs": [
    {
     "data": {
      "image/png": "[encoded data removed]",
      "text/plain": [
       "<matplotlib.figure.Figure at 0x110a0ce50>"
      ]
     },
     "metadata": {},
     "output_type": "display_data"
    }
   ],
   "source": [
    "fig, axes = plt.subplots(nrows=2, ncols=5)\n",
    "fig.set_size_inches(20,8)\n",
    "# Plot kernels\n",
    "for i in range(2):\n",
    "    for j in range(5):\n",
    "        index=5*i+j\n",
    "        if index <NBFILES :\n",
    "            image_title=re.findall('./HD163466_y4/AssScIm(HD163466_y4_[0-9]+).fits',filelist[index])[0]\n",
    "            im = axes[i, j].imshow(star2D_list[index],interpolation='None',origin='lower')\n",
    "            axes[i, j].set_title(image_title)\n",
    "\t\t\t\n",
    "cax = fig.add_axes([0.9, 0.1, 0.03, 0.8])\n",
    "plt.colorbar(im, cax=cax)\n",
    "plt.subplots_adjust(left=0.05, right=0.85, top=0.95, bottom=0.05)\n",
    "plt.show()"
   ]
  },
  {
   "cell_type": "code",
   "execution_count": 46,
   "metadata": {
    "collapsed": false
   },
   "outputs": [
    {
     "name": "stderr",
     "output_type": "stream",
     "text": [
      "/Users/dagoret-campagnesylvie/anaconda/envs/pyastrophys/lib/python2.7/site-packages/matplotlib/axes/_axes.py:519: UserWarning: No labelled objects found. Use label='...' kwarg on individual plots.\n",
      "  warnings.warn(\"No labelled objects found. \"\n"
     ]
    },
    {
     "data": {
      "image/png": "[encoded data removed]",
      "text/plain": [
       "<matplotlib.figure.Figure at 0x110a0cad0>"
      ]
     },
     "metadata": {},
     "output_type": "display_data"
    }
   ],
   "source": [
    "fig, axes = plt.subplots(nrows=2, ncols=5,sharex=True,sharey=True)\n",
    "fig.set_size_inches(20,8)\n",
    "# Plot kernels\n",
    "for i in range(2):\n",
    "    for j in range(5):\n",
    "        index=5*i+j\n",
    "        if index <NBFILES :\n",
    "            image_title=re.findall('./HD163466_y4/AssScIm(HD163466_y4_[0-9]+).fits',filelist[index])[0]\n",
    "            axes[i, j].plot(sigmax_psf_list[index][150:250],color='r',label='$\\sigma_x$')\n",
    "            axes[i, j].plot(sigmay_psf_list[index][150:250],color='b',label='$\\sigma_y$')\n",
    "            axes[i, j].set_title(image_title)\n",
    "            axes[i, j].legend()\n",
    "\n",
    "plt.subplots_adjust(left=0.05, right=0.85, top=0.95, bottom=0.05)\n",
    "plt.legend()\n",
    "plt.show()"
   ]
  },
  {
   "cell_type": "markdown",
   "metadata": {},
   "source": [
    "## Compute photometry"
   ]
  },
  {
   "cell_type": "code",
   "execution_count": 47,
   "metadata": {
    "collapsed": true
   },
   "outputs": [],
   "source": [
    "phot_table_list = []\n",
    "aperture_sum_raw_list = []\n",
    "aperture_sum_bkg_list = []\n",
    "residual_aperture_sum_list = []\n"
   ]
  },
  {
   "cell_type": "code",
   "execution_count": 48,
   "metadata": {
    "collapsed": false
   },
   "outputs": [
    {
     "name": "stdout",
     "output_type": "stream",
     "text": [
      "=========================================================\n",
      "photometry for image  0\n",
      "=========================================================\n",
      "residual_aperture_sum\n",
      "                     \n",
      "---------------------\n",
      "        331203.543016\n",
      "=========================================================\n",
      "photometry for image  1\n",
      "=========================================================\n",
      "residual_aperture_sum\n",
      "                     \n",
      "---------------------\n",
      "        331676.399966\n",
      "=========================================================\n",
      "photometry for image  2\n",
      "=========================================================\n",
      "residual_aperture_sum\n",
      "                     \n",
      "---------------------\n",
      "        333006.225881\n",
      "=========================================================\n",
      "photometry for image  3\n",
      "=========================================================\n",
      "residual_aperture_sum\n",
      "                     \n",
      "---------------------\n",
      "        332105.307971\n",
      "=========================================================\n",
      "photometry for image  4\n",
      "=========================================================\n",
      "residual_aperture_sum\n",
      "                     \n",
      "---------------------\n",
      "        330511.590305\n",
      "=========================================================\n",
      "photometry for image  5\n",
      "=========================================================\n",
      "residual_aperture_sum\n",
      "                     \n",
      "---------------------\n",
      "        330070.477506\n",
      "=========================================================\n",
      "photometry for image  6\n",
      "=========================================================\n",
      "residual_aperture_sum\n",
      "                     \n",
      "---------------------\n",
      "        329431.754753\n",
      "=========================================================\n",
      "photometry for image  7\n",
      "=========================================================\n",
      "residual_aperture_sum\n",
      "                     \n",
      "---------------------\n",
      "         330572.68775\n"
     ]
    }
   ],
   "source": [
    "for idx,star_im in enumerate(star2D_list):\n",
    "\n",
    "    print '========================================================='    \n",
    "    print 'photometry for image ',idx\n",
    "    print '========================================================='  \n",
    "    \n",
    "    the_sigmapix=max(sigmapix_list[idx])\n",
    "    the_position=position_list[idx]\n",
    "    \n",
    "    star_aperture=CircularAperture(the_position, 3*the_sigmapix)\n",
    "    rawflux_table = aperture_photometry(star_im, star_aperture)\n",
    "    \n",
    "    annulus_apertures = CircularAnnulus(the_position, r_in=5*the_sigmapix, r_out=7*the_sigmapix)\n",
    "    bkgflux_table = aperture_photometry(star_im, annulus_apertures)\n",
    "    \n",
    "    phot_table = hstack([rawflux_table, bkgflux_table], table_names=['raw', 'bkg'])\n",
    "    \n",
    "    bkg_mean = phot_table['aperture_sum_bkg'] / annulus_apertures.area()\n",
    "    \n",
    "    bkg_sum = bkg_mean * star_aperture.area()\n",
    "    final_sum = phot_table['aperture_sum_raw'] - bkg_sum\n",
    "    phot_table['residual_aperture_sum'] = final_sum\n",
    "    print(phot_table['residual_aperture_sum']) \n",
    "    \n",
    "    aperture_sum_raw_list.append(phot_table['aperture_sum_raw'][0])\n",
    "    aperture_sum_bkg_list.append(phot_table['aperture_sum_bkg'][0])\n",
    "    residual_aperture_sum_list.append(phot_table['residual_aperture_sum'][0])\n",
    "    \n",
    "    phot_table_list.append(phot_table)\n",
    "    \n",
    "    \n",
    "    "
   ]
  },
  {
   "cell_type": "code",
   "execution_count": 49,
   "metadata": {
    "collapsed": false
   },
   "outputs": [
    {
     "name": "stdout",
     "output_type": "stream",
     "text": [
      "aperture_sum_raw xcenter_raw [1] ... ycenter_bkg [1] residual_aperture_sum\n",
      "                                 ...                                      \n",
      "---------------- --------------- ... --------------- ---------------------\n",
      "   331132.031009   200.467413433 ...   199.214043518         331203.543016\n"
     ]
    }
   ],
   "source": [
    "print phot_table_list[0]"
   ]
  },
  {
   "cell_type": "code",
   "execution_count": 50,
   "metadata": {
    "collapsed": false
   },
   "outputs": [
    {
     "data": {
      "text/html": [
       "&lt;Table length=1&gt;\n",
       "<table id=\"table6526704080\">\n",
       "<thead><tr><th>aperture_sum_raw</th><th>xcenter_raw [1]</th><th>ycenter_raw [1]</th><th>aperture_sum_bkg</th><th>xcenter_bkg [1]</th><th>ycenter_bkg [1]</th><th>residual_aperture_sum</th></tr></thead>\n",
       "<thead><tr><th></th><th></th><th></th><th></th><th></th><th></th><th></th></tr></thead>\n",
       "<thead><tr><th>float64</th><th>float64</th><th>float64</th><th>float64</th><th>float64</th><th>float64</th><th>float64</th></tr></thead>\n",
       "<tr><td>331672.076267</td><td>199.978755261</td><td>200.173002956</td><td>-11.5298636609</td><td>199.978755261</td><td>200.173002956</td><td>331676.399966</td></tr>\n",
       "</table>"
      ],
      "text/plain": [
       "<Table length=1>\n",
       "aperture_sum_raw xcenter_raw [1] ... ycenter_bkg [1] residual_aperture_sum\n",
       "                                 ...                                      \n",
       "    float64          float64     ...     float64            float64       \n",
       "---------------- --------------- ... --------------- ---------------------\n",
       "   331672.076267   199.978755261 ...   200.173002956         331676.399966"
      ]
     },
     "execution_count": 50,
     "metadata": {},
     "output_type": "execute_result"
    }
   ],
   "source": [
    "phot_table_list[1]"
   ]
  },
  {
   "cell_type": "markdown",
   "metadata": {
    "collapsed": false
   },
   "source": [
    "## Create astropy table"
   ]
  },
  {
   "cell_type": "code",
   "execution_count": 51,
   "metadata": {
    "collapsed": false
   },
   "outputs": [],
   "source": [
    "#t=Table(rows=image_psf,names=('num','nbstars','prfx','pfry','sig_prfx','sig_prfy'),dtype=('i4','i4','f8','f8','f8','f8'))"
   ]
  },
  {
   "cell_type": "code",
   "execution_count": 52,
   "metadata": {
    "collapsed": false
   },
   "outputs": [],
   "source": [
    "t=Table()"
   ]
  },
  {
   "cell_type": "code",
   "execution_count": 53,
   "metadata": {
    "collapsed": false
   },
   "outputs": [
    {
     "data": {
      "text/html": [
       "&lt;Table length=0&gt;\n",
       "<No columns>"
      ],
      "text/plain": [
       "<Table length=0>\n",
       "<No columns>"
      ]
     },
     "execution_count": 53,
     "metadata": {},
     "output_type": "execute_result"
    }
   ],
   "source": [
    "t"
   ]
  },
  {
   "cell_type": "code",
   "execution_count": 54,
   "metadata": {
    "collapsed": false
   },
   "outputs": [],
   "source": [
    "obj= Column(baseobject_list,name='object')\n",
    "expo = Column(exposures_list, name='exposure')\n",
    "time = Column(dateobs_list,name='time')\n",
    "sigma_x =Column(sigmaxpix_list,name='sigmaxpix_psf')\n",
    "sigma_y =Column(sigmaypix_list,name='sigmaypix_psf')\n",
    "aperture_sum_raw= Column( aperture_sum_raw_list  ,name='aperture_sum_raw')\n",
    "aperture_sum_bkg= Column( aperture_sum_bkg_list  ,name='aperture_sum_bkg')\n",
    "residual_aperture_sum=Column(residual_aperture_sum_list, name='residual_aperture_sum')\n",
    "\n"
   ]
  },
  {
   "cell_type": "code",
   "execution_count": null,
   "metadata": {
    "collapsed": false
   },
   "outputs": [],
   "source": []
  },
  {
   "cell_type": "code",
   "execution_count": 55,
   "metadata": {
    "collapsed": false
   },
   "outputs": [],
   "source": [
    "t.add_column(obj, index=0)\n",
    "t.add_column(time, index=1)\n",
    "t.add_column(expo, index=2)\n",
    "t.add_column(sigma_x,index=3)\n",
    "t.add_column(sigma_y,index=4)\n",
    "t.add_column(aperture_sum_raw,index=5)\n",
    "t.add_column(aperture_sum_bkg,index=6)\n",
    "t.add_column(residual_aperture_sum,index=7)"
   ]
  },
  {
   "cell_type": "code",
   "execution_count": 56,
   "metadata": {
    "collapsed": false
   },
   "outputs": [
    {
     "data": {
      "text/html": [
       "&lt;Table length=8&gt;\n",
       "<table id=\"table5503256912\">\n",
       "<thead><tr><th>object</th><th>time</th><th>exposure</th><th>sigmaxpix_psf</th><th>sigmaypix_psf</th><th>aperture_sum_raw</th><th>aperture_sum_bkg</th><th>residual_aperture_sum</th></tr></thead>\n",
       "<thead><tr><th>str13</th><th>str23</th><th>float64</th><th>float64</th><th>float64</th><th>float64</th><th>float64</th><th>float64</th></tr></thead>\n",
       "<tr><td>HD163466_y4_1</td><td>2016-05-10T08:43:22.192</td><td>3.0</td><td>10.4658929282</td><td>19.2605276496</td><td>331132.031009</td><td>-190.698687132</td><td>331203.543016</td></tr>\n",
       "<tr><td>HD163466_y4_2</td><td>2016-05-10T08:43:29.513</td><td>3.0</td><td>11.0911947628</td><td>20.2395561092</td><td>331672.076267</td><td>-11.5298636609</td><td>331676.399966</td></tr>\n",
       "<tr><td>HD163466_y4_3</td><td>2016-05-10T08:43:36.463</td><td>3.0</td><td>10.8619903442</td><td>20.4493313042</td><td>332841.863375</td><td>-438.30001571</td><td>333006.225881</td></tr>\n",
       "<tr><td>HD163466_y4_4</td><td>2016-05-10T08:43:43.448</td><td>3.0</td><td>10.732116767</td><td>21.5112413197</td><td>331770.139652</td><td>-893.782184476</td><td>332105.307971</td></tr>\n",
       "<tr><td>HD163466_y4_5</td><td>2016-05-10T08:44:47.481</td><td>1.5</td><td>15.4422979959</td><td>26.8799001579</td><td>330442.389195</td><td>-184.536292493</td><td>330511.590305</td></tr>\n",
       "<tr><td>HD163466_y4_6</td><td>2016-05-10T08:44:52.918</td><td>1.5</td><td>15.3230621605</td><td>28.6909667127</td><td>329727.557361</td><td>-914.453719723</td><td>330070.477506</td></tr>\n",
       "<tr><td>HD163466_y4_7</td><td>2016-05-10T08:44:58.453</td><td>1.5</td><td>14.3215314708</td><td>27.781936465</td><td>329412.592851</td><td>-51.0984062257</td><td>329431.754753</td></tr>\n",
       "<tr><td>HD163466_y4_8</td><td>2016-05-10T08:45:04.001</td><td>1.5</td><td>12.7529880686</td><td>26.7669287309</td><td>330080.054068</td><td>-1313.68981691</td><td>330572.68775</td></tr>\n",
       "</table>"
      ],
      "text/plain": [
       "<Table length=8>\n",
       "    object              time          ... aperture_sum_bkg residual_aperture_sum\n",
       "    str13              str23          ...     float64             float64       \n",
       "------------- ----------------------- ... ---------------- ---------------------\n",
       "HD163466_y4_1 2016-05-10T08:43:22.192 ...   -190.698687132         331203.543016\n",
       "HD163466_y4_2 2016-05-10T08:43:29.513 ...   -11.5298636609         331676.399966\n",
       "HD163466_y4_3 2016-05-10T08:43:36.463 ...    -438.30001571         333006.225881\n",
       "HD163466_y4_4 2016-05-10T08:43:43.448 ...   -893.782184476         332105.307971\n",
       "HD163466_y4_5 2016-05-10T08:44:47.481 ...   -184.536292493         330511.590305\n",
       "HD163466_y4_6 2016-05-10T08:44:52.918 ...   -914.453719723         330070.477506\n",
       "HD163466_y4_7 2016-05-10T08:44:58.453 ...   -51.0984062257         329431.754753\n",
       "HD163466_y4_8 2016-05-10T08:45:04.001 ...   -1313.68981691          330572.68775"
      ]
     },
     "execution_count": 56,
     "metadata": {},
     "output_type": "execute_result"
    }
   ],
   "source": [
    "t"
   ]
  },
  {
   "cell_type": "markdown",
   "metadata": {},
   "source": [
    "## Write output file"
   ]
  },
  {
   "cell_type": "code",
   "execution_count": 57,
   "metadata": {
    "collapsed": false
   },
   "outputs": [],
   "source": [
    "t.write(outputtablefile,format='fits')"
   ]
  },
  {
   "cell_type": "markdown",
   "metadata": {
    "collapsed": true
   },
   "source": [
    "## Pandas"
   ]
  },
  {
   "cell_type": "code",
   "execution_count": 58,
   "metadata": {
    "collapsed": false
   },
   "outputs": [],
   "source": [
    "df=t.to_pandas()"
   ]
  },
  {
   "cell_type": "code",
   "execution_count": 59,
   "metadata": {
    "collapsed": false
   },
   "outputs": [
    {
     "data": {
      "text/html": [
       "<div>\n",
       "<table border=\"1\" class=\"dataframe\">\n",
       "  <thead>\n",
       "    <tr style=\"text-align: right;\">\n",
       "      <th></th>\n",
       "      <th>exposure</th>\n",
       "      <th>sigmaxpix_psf</th>\n",
       "      <th>sigmaypix_psf</th>\n",
       "      <th>aperture_sum_raw</th>\n",
       "      <th>aperture_sum_bkg</th>\n",
       "      <th>residual_aperture_sum</th>\n",
       "    </tr>\n",
       "  </thead>\n",
       "  <tbody>\n",
       "    <tr>\n",
       "      <th>count</th>\n",
       "      <td>8.000000</td>\n",
       "      <td>8.000000</td>\n",
       "      <td>8.000000</td>\n",
       "      <td>8.000000</td>\n",
       "      <td>8.000000</td>\n",
       "      <td>8.000000</td>\n",
       "    </tr>\n",
       "    <tr>\n",
       "      <th>mean</th>\n",
       "      <td>2.250000</td>\n",
       "      <td>12.623884</td>\n",
       "      <td>23.947549</td>\n",
       "      <td>330884.837972</td>\n",
       "      <td>-499.761123</td>\n",
       "      <td>331072.248394</td>\n",
       "    </tr>\n",
       "    <tr>\n",
       "      <th>std</th>\n",
       "      <td>0.801784</td>\n",
       "      <td>2.131961</td>\n",
       "      <td>3.921381</td>\n",
       "      <td>1173.809317</td>\n",
       "      <td>482.261668</td>\n",
       "      <td>1161.795472</td>\n",
       "    </tr>\n",
       "    <tr>\n",
       "      <th>min</th>\n",
       "      <td>1.500000</td>\n",
       "      <td>10.465893</td>\n",
       "      <td>19.260528</td>\n",
       "      <td>329412.592851</td>\n",
       "      <td>-1313.689817</td>\n",
       "      <td>329431.754753</td>\n",
       "    </tr>\n",
       "    <tr>\n",
       "      <th>25%</th>\n",
       "      <td>1.500000</td>\n",
       "      <td>10.829522</td>\n",
       "      <td>20.396888</td>\n",
       "      <td>329991.929892</td>\n",
       "      <td>-898.950068</td>\n",
       "      <td>330401.312105</td>\n",
       "    </tr>\n",
       "    <tr>\n",
       "      <th>50%</th>\n",
       "      <td>2.250000</td>\n",
       "      <td>11.922091</td>\n",
       "      <td>24.139085</td>\n",
       "      <td>330787.210102</td>\n",
       "      <td>-314.499351</td>\n",
       "      <td>330888.115383</td>\n",
       "    </tr>\n",
       "    <tr>\n",
       "      <th>75%</th>\n",
       "      <td>3.000000</td>\n",
       "      <td>14.571914</td>\n",
       "      <td>27.105409</td>\n",
       "      <td>331696.592114</td>\n",
       "      <td>-151.176821</td>\n",
       "      <td>331783.626967</td>\n",
       "    </tr>\n",
       "    <tr>\n",
       "      <th>max</th>\n",
       "      <td>3.000000</td>\n",
       "      <td>15.442298</td>\n",
       "      <td>28.690967</td>\n",
       "      <td>332841.863375</td>\n",
       "      <td>-11.529864</td>\n",
       "      <td>333006.225881</td>\n",
       "    </tr>\n",
       "  </tbody>\n",
       "</table>\n",
       "</div>"
      ],
      "text/plain": [
       "       exposure  sigmaxpix_psf  sigmaypix_psf  aperture_sum_raw  \\\n",
       "count  8.000000       8.000000       8.000000          8.000000   \n",
       "mean   2.250000      12.623884      23.947549     330884.837972   \n",
       "std    0.801784       2.131961       3.921381       1173.809317   \n",
       "min    1.500000      10.465893      19.260528     329412.592851   \n",
       "25%    1.500000      10.829522      20.396888     329991.929892   \n",
       "50%    2.250000      11.922091      24.139085     330787.210102   \n",
       "75%    3.000000      14.571914      27.105409     331696.592114   \n",
       "max    3.000000      15.442298      28.690967     332841.863375   \n",
       "\n",
       "       aperture_sum_bkg  residual_aperture_sum  \n",
       "count          8.000000               8.000000  \n",
       "mean        -499.761123          331072.248394  \n",
       "std          482.261668            1161.795472  \n",
       "min        -1313.689817          329431.754753  \n",
       "25%         -898.950068          330401.312105  \n",
       "50%         -314.499351          330888.115383  \n",
       "75%         -151.176821          331783.626967  \n",
       "max          -11.529864          333006.225881  "
      ]
     },
     "execution_count": 59,
     "metadata": {},
     "output_type": "execute_result"
    }
   ],
   "source": [
    "df.describe()"
   ]
  },
  {
   "cell_type": "code",
   "execution_count": null,
   "metadata": {
    "collapsed": true
   },
   "outputs": [],
   "source": []
  }
 ],
 "metadata": {
  "kernelspec": {
   "display_name": "Python 2",
   "language": "python",
   "name": "python2"
  },
  "language_info": {
   "codemirror_mode": {
    "name": "ipython",
    "version": 2
   },
   "file_extension": ".py",
   "mimetype": "text/x-python",
   "name": "python",
   "nbconvert_exporter": "python",
   "pygments_lexer": "ipython2",
   "version": "2.7.12"
  }
 },
 "nbformat": 4,
 "nbformat_minor": 0
}
