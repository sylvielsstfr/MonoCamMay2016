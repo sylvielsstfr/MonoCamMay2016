{
 "cells": [
  {
   "cell_type": "markdown",
   "metadata": {},
   "source": [
    "# Read Astropy tables on PSF\n",
    "\n",
    "- creation June 30th 2016\n",
    "- author Sylvie Dagoret-Campagne\n",
    "- Update July 6th 2016\n"
   ]
  },
  {
   "cell_type": "code",
   "execution_count": 1,
   "metadata": {
    "collapsed": true
   },
   "outputs": [],
   "source": [
    "%matplotlib inline\n",
    "import matplotlib.pyplot as plt\n",
    "import numpy as np\n",
    "\n",
    "from astropy.modeling import models\n",
    "from astropy import units as u\n",
    "from astropy import nddata\n",
    "from astropy.io import fits\n",
    "\n",
    "from astropy.table import Table\n",
    "from astropy.table import Column\n",
    "\n",
    "import pandas as pd"
   ]
  },
  {
   "cell_type": "code",
   "execution_count": 2,
   "metadata": {
    "collapsed": true
   },
   "outputs": [],
   "source": [
    "intputtablefile1='HD163466_y4_1-8_TablePSF.fits'"
   ]
  },
  {
   "cell_type": "code",
   "execution_count": 3,
   "metadata": {
    "collapsed": false
   },
   "outputs": [],
   "source": [
    " t1 = Table.read(intputtablefile1)"
   ]
  },
  {
   "cell_type": "code",
   "execution_count": 4,
   "metadata": {
    "collapsed": false
   },
   "outputs": [
    {
     "data": {
      "text/html": [
       "&lt;Table length=8&gt;\n",
       "<table id=\"table4487267088\">\n",
       "<thead><tr><th>num</th><th>file</th><th>time</th><th>exposure</th><th>nbstars</th><th>prfx</th><th>pfry</th><th>sig_prfx</th><th>sig_prfy</th></tr></thead>\n",
       "<thead><tr><th>int32</th><th>str25</th><th>str23</th><th>float64</th><th>int32</th><th>float64</th><th>float64</th><th>float64</th><th>float64</th></tr></thead>\n",
       "<tr><td>0</td><td>AssScImHD163466_y4_1.fits</td><td>2016-05-10T08:43:22.192</td><td>3.0</td><td>23</td><td>2.80810530353</td><td>2.93709578691</td><td>0.0717107607457</td><td>0.0760826986652</td></tr>\n",
       "<tr><td>1</td><td>AssScImHD163466_y4_2.fits</td><td>2016-05-10T08:43:29.513</td><td>3.0</td><td>23</td><td>2.68655532696</td><td>2.86879575208</td><td>0.0819848604541</td><td>0.0456488029924</td></tr>\n",
       "<tr><td>2</td><td>AssScImHD163466_y4_3.fits</td><td>2016-05-10T08:43:36.463</td><td>3.0</td><td>25</td><td>2.64452856755</td><td>2.69076001366</td><td>0.0755942751507</td><td>0.0286223131641</td></tr>\n",
       "<tr><td>3</td><td>AssScImHD163466_y4_4.fits</td><td>2016-05-10T08:43:43.448</td><td>3.0</td><td>30</td><td>2.6723065947</td><td>2.72932681468</td><td>0.0708837703989</td><td>0.249819800909</td></tr>\n",
       "<tr><td>4</td><td>AssScImHD163466_y4_5.fits</td><td>2016-05-10T08:44:47.481</td><td>1.5</td><td>16</td><td>2.85770605392</td><td>2.76551370117</td><td>0.236654258462</td><td>0.0724385881085</td></tr>\n",
       "<tr><td>5</td><td>AssScImHD163466_y4_6.fits</td><td>2016-05-10T08:44:52.918</td><td>1.5</td><td>14</td><td>2.78575614456</td><td>2.87539302862</td><td>0.0807985674717</td><td>0.0585594161166</td></tr>\n",
       "<tr><td>6</td><td>AssScImHD163466_y4_7.fits</td><td>2016-05-10T08:44:58.453</td><td>1.5</td><td>11</td><td>2.77968098699</td><td>2.90044545098</td><td>0.0623518794852</td><td>0.0405807569436</td></tr>\n",
       "<tr><td>7</td><td>AssScImHD163466_y4_8.fits</td><td>2016-05-10T08:45:04.001</td><td>1.5</td><td>13</td><td>2.66223236329</td><td>2.8031331225</td><td>0.0747038608423</td><td>0.08107409864</td></tr>\n",
       "</table>"
      ],
      "text/plain": [
       "<Table length=8>\n",
       " num             file           ...     sig_prfx        sig_prfy   \n",
       "int32           str25           ...     float64         float64    \n",
       "----- ------------------------- ... --------------- ---------------\n",
       "    0 AssScImHD163466_y4_1.fits ... 0.0717107607457 0.0760826986652\n",
       "    1 AssScImHD163466_y4_2.fits ... 0.0819848604541 0.0456488029924\n",
       "    2 AssScImHD163466_y4_3.fits ... 0.0755942751507 0.0286223131641\n",
       "    3 AssScImHD163466_y4_4.fits ... 0.0708837703989  0.249819800909\n",
       "    4 AssScImHD163466_y4_5.fits ...  0.236654258462 0.0724385881085\n",
       "    5 AssScImHD163466_y4_6.fits ... 0.0807985674717 0.0585594161166\n",
       "    6 AssScImHD163466_y4_7.fits ... 0.0623518794852 0.0405807569436\n",
       "    7 AssScImHD163466_y4_8.fits ... 0.0747038608423   0.08107409864"
      ]
     },
     "execution_count": 4,
     "metadata": {},
     "output_type": "execute_result"
    }
   ],
   "source": [
    "t1"
   ]
  },
  {
   "cell_type": "code",
   "execution_count": 5,
   "metadata": {
    "collapsed": false
   },
   "outputs": [],
   "source": [
    "df1=t1.to_pandas()"
   ]
  },
  {
   "cell_type": "code",
   "execution_count": 6,
   "metadata": {
    "collapsed": false
   },
   "outputs": [
    {
     "data": {
      "text/html": [
       "<div>\n",
       "<table border=\"1\" class=\"dataframe\">\n",
       "  <thead>\n",
       "    <tr style=\"text-align: right;\">\n",
       "      <th></th>\n",
       "      <th>num</th>\n",
       "      <th>exposure</th>\n",
       "      <th>nbstars</th>\n",
       "      <th>prfx</th>\n",
       "      <th>pfry</th>\n",
       "      <th>sig_prfx</th>\n",
       "      <th>sig_prfy</th>\n",
       "    </tr>\n",
       "  </thead>\n",
       "  <tbody>\n",
       "    <tr>\n",
       "      <th>count</th>\n",
       "      <td>8.00000</td>\n",
       "      <td>8.000000</td>\n",
       "      <td>8.000000</td>\n",
       "      <td>8.000000</td>\n",
       "      <td>8.000000</td>\n",
       "      <td>8.000000</td>\n",
       "      <td>8.000000</td>\n",
       "    </tr>\n",
       "    <tr>\n",
       "      <th>mean</th>\n",
       "      <td>3.50000</td>\n",
       "      <td>2.250000</td>\n",
       "      <td>19.375000</td>\n",
       "      <td>2.737109</td>\n",
       "      <td>2.821308</td>\n",
       "      <td>0.094335</td>\n",
       "      <td>0.081603</td>\n",
       "    </tr>\n",
       "    <tr>\n",
       "      <th>std</th>\n",
       "      <td>2.44949</td>\n",
       "      <td>0.801784</td>\n",
       "      <td>6.781013</td>\n",
       "      <td>0.079907</td>\n",
       "      <td>0.087665</td>\n",
       "      <td>0.057832</td>\n",
       "      <td>0.070432</td>\n",
       "    </tr>\n",
       "    <tr>\n",
       "      <th>min</th>\n",
       "      <td>0.00000</td>\n",
       "      <td>1.500000</td>\n",
       "      <td>11.000000</td>\n",
       "      <td>2.644529</td>\n",
       "      <td>2.690760</td>\n",
       "      <td>0.062352</td>\n",
       "      <td>0.028622</td>\n",
       "    </tr>\n",
       "    <tr>\n",
       "      <th>25%</th>\n",
       "      <td>1.75000</td>\n",
       "      <td>1.500000</td>\n",
       "      <td>13.750000</td>\n",
       "      <td>2.669788</td>\n",
       "      <td>2.756467</td>\n",
       "      <td>0.071504</td>\n",
       "      <td>0.044382</td>\n",
       "    </tr>\n",
       "    <tr>\n",
       "      <th>50%</th>\n",
       "      <td>3.50000</td>\n",
       "      <td>2.250000</td>\n",
       "      <td>19.500000</td>\n",
       "      <td>2.733118</td>\n",
       "      <td>2.835964</td>\n",
       "      <td>0.075149</td>\n",
       "      <td>0.065499</td>\n",
       "    </tr>\n",
       "    <tr>\n",
       "      <th>75%</th>\n",
       "      <td>5.25000</td>\n",
       "      <td>3.000000</td>\n",
       "      <td>23.500000</td>\n",
       "      <td>2.791343</td>\n",
       "      <td>2.881656</td>\n",
       "      <td>0.081095</td>\n",
       "      <td>0.077331</td>\n",
       "    </tr>\n",
       "    <tr>\n",
       "      <th>max</th>\n",
       "      <td>7.00000</td>\n",
       "      <td>3.000000</td>\n",
       "      <td>30.000000</td>\n",
       "      <td>2.857706</td>\n",
       "      <td>2.937096</td>\n",
       "      <td>0.236654</td>\n",
       "      <td>0.249820</td>\n",
       "    </tr>\n",
       "  </tbody>\n",
       "</table>\n",
       "</div>"
      ],
      "text/plain": [
       "           num  exposure    nbstars      prfx      pfry  sig_prfx  sig_prfy\n",
       "count  8.00000  8.000000   8.000000  8.000000  8.000000  8.000000  8.000000\n",
       "mean   3.50000  2.250000  19.375000  2.737109  2.821308  0.094335  0.081603\n",
       "std    2.44949  0.801784   6.781013  0.079907  0.087665  0.057832  0.070432\n",
       "min    0.00000  1.500000  11.000000  2.644529  2.690760  0.062352  0.028622\n",
       "25%    1.75000  1.500000  13.750000  2.669788  2.756467  0.071504  0.044382\n",
       "50%    3.50000  2.250000  19.500000  2.733118  2.835964  0.075149  0.065499\n",
       "75%    5.25000  3.000000  23.500000  2.791343  2.881656  0.081095  0.077331\n",
       "max    7.00000  3.000000  30.000000  2.857706  2.937096  0.236654  0.249820"
      ]
     },
     "execution_count": 6,
     "metadata": {},
     "output_type": "execute_result"
    }
   ],
   "source": [
    "df1.describe() # pandas able to show statistics"
   ]
  },
  {
   "cell_type": "code",
   "execution_count": 7,
   "metadata": {
    "collapsed": false
   },
   "outputs": [
    {
     "data": {
      "text/plain": [
       "<matplotlib.figure.Figure at 0x106d821d0>"
      ]
     },
     "metadata": {},
     "output_type": "display_data"
    },
    {
     "data": {
      "image/png": "[encoded data removed]",
      "text/plain": [
       "<matplotlib.figure.Figure at 0x10b748f90>"
      ]
     },
     "metadata": {},
     "output_type": "display_data"
    }
   ],
   "source": [
    "plt.figure(figsize=(10,6))\n",
    "df1_2=df1[['num', 'prfx','pfry']]\n",
    "df1_2.plot('num',['prfx','pfry'],ylim=(0.,5.),figsize=(10,5))\n",
    "plt.legend(loc='upper right')\n",
    "plt.show()"
   ]
  },
  {
   "cell_type": "code",
   "execution_count": 8,
   "metadata": {
    "collapsed": true
   },
   "outputs": [],
   "source": [
    "df1_no_missing = df1.dropna()"
   ]
  },
  {
   "cell_type": "code",
   "execution_count": 9,
   "metadata": {
    "collapsed": false
   },
   "outputs": [
    {
     "data": {
      "text/html": [
       "<div>\n",
       "<table border=\"1\" class=\"dataframe\">\n",
       "  <thead>\n",
       "    <tr style=\"text-align: right;\">\n",
       "      <th></th>\n",
       "      <th>num</th>\n",
       "      <th>exposure</th>\n",
       "      <th>nbstars</th>\n",
       "      <th>prfx</th>\n",
       "      <th>pfry</th>\n",
       "      <th>sig_prfx</th>\n",
       "      <th>sig_prfy</th>\n",
       "    </tr>\n",
       "  </thead>\n",
       "  <tbody>\n",
       "    <tr>\n",
       "      <th>count</th>\n",
       "      <td>8.00000</td>\n",
       "      <td>8.000000</td>\n",
       "      <td>8.000000</td>\n",
       "      <td>8.000000</td>\n",
       "      <td>8.000000</td>\n",
       "      <td>8.000000</td>\n",
       "      <td>8.000000</td>\n",
       "    </tr>\n",
       "    <tr>\n",
       "      <th>mean</th>\n",
       "      <td>3.50000</td>\n",
       "      <td>2.250000</td>\n",
       "      <td>19.375000</td>\n",
       "      <td>2.737109</td>\n",
       "      <td>2.821308</td>\n",
       "      <td>0.094335</td>\n",
       "      <td>0.081603</td>\n",
       "    </tr>\n",
       "    <tr>\n",
       "      <th>std</th>\n",
       "      <td>2.44949</td>\n",
       "      <td>0.801784</td>\n",
       "      <td>6.781013</td>\n",
       "      <td>0.079907</td>\n",
       "      <td>0.087665</td>\n",
       "      <td>0.057832</td>\n",
       "      <td>0.070432</td>\n",
       "    </tr>\n",
       "    <tr>\n",
       "      <th>min</th>\n",
       "      <td>0.00000</td>\n",
       "      <td>1.500000</td>\n",
       "      <td>11.000000</td>\n",
       "      <td>2.644529</td>\n",
       "      <td>2.690760</td>\n",
       "      <td>0.062352</td>\n",
       "      <td>0.028622</td>\n",
       "    </tr>\n",
       "    <tr>\n",
       "      <th>25%</th>\n",
       "      <td>1.75000</td>\n",
       "      <td>1.500000</td>\n",
       "      <td>13.750000</td>\n",
       "      <td>2.669788</td>\n",
       "      <td>2.756467</td>\n",
       "      <td>0.071504</td>\n",
       "      <td>0.044382</td>\n",
       "    </tr>\n",
       "    <tr>\n",
       "      <th>50%</th>\n",
       "      <td>3.50000</td>\n",
       "      <td>2.250000</td>\n",
       "      <td>19.500000</td>\n",
       "      <td>2.733118</td>\n",
       "      <td>2.835964</td>\n",
       "      <td>0.075149</td>\n",
       "      <td>0.065499</td>\n",
       "    </tr>\n",
       "    <tr>\n",
       "      <th>75%</th>\n",
       "      <td>5.25000</td>\n",
       "      <td>3.000000</td>\n",
       "      <td>23.500000</td>\n",
       "      <td>2.791343</td>\n",
       "      <td>2.881656</td>\n",
       "      <td>0.081095</td>\n",
       "      <td>0.077331</td>\n",
       "    </tr>\n",
       "    <tr>\n",
       "      <th>max</th>\n",
       "      <td>7.00000</td>\n",
       "      <td>3.000000</td>\n",
       "      <td>30.000000</td>\n",
       "      <td>2.857706</td>\n",
       "      <td>2.937096</td>\n",
       "      <td>0.236654</td>\n",
       "      <td>0.249820</td>\n",
       "    </tr>\n",
       "  </tbody>\n",
       "</table>\n",
       "</div>"
      ],
      "text/plain": [
       "           num  exposure    nbstars      prfx      pfry  sig_prfx  sig_prfy\n",
       "count  8.00000  8.000000   8.000000  8.000000  8.000000  8.000000  8.000000\n",
       "mean   3.50000  2.250000  19.375000  2.737109  2.821308  0.094335  0.081603\n",
       "std    2.44949  0.801784   6.781013  0.079907  0.087665  0.057832  0.070432\n",
       "min    0.00000  1.500000  11.000000  2.644529  2.690760  0.062352  0.028622\n",
       "25%    1.75000  1.500000  13.750000  2.669788  2.756467  0.071504  0.044382\n",
       "50%    3.50000  2.250000  19.500000  2.733118  2.835964  0.075149  0.065499\n",
       "75%    5.25000  3.000000  23.500000  2.791343  2.881656  0.081095  0.077331\n",
       "max    7.00000  3.000000  30.000000  2.857706  2.937096  0.236654  0.249820"
      ]
     },
     "execution_count": 9,
     "metadata": {},
     "output_type": "execute_result"
    }
   ],
   "source": [
    "df1_no_missing.describe()"
   ]
  },
  {
   "cell_type": "code",
   "execution_count": null,
   "metadata": {
    "collapsed": false
   },
   "outputs": [],
   "source": []
  },
  {
   "cell_type": "markdown",
   "metadata": {},
   "source": [
    "## Now use the number in the filename to overwrite the num"
   ]
  },
  {
   "cell_type": "code",
   "execution_count": 10,
   "metadata": {
    "collapsed": true
   },
   "outputs": [],
   "source": [
    "import re  # use regular expression to extract the file number"
   ]
  },
  {
   "cell_type": "code",
   "execution_count": 11,
   "metadata": {
    "collapsed": true
   },
   "outputs": [],
   "source": [
    "filenames_df1=df1['file']"
   ]
  },
  {
   "cell_type": "code",
   "execution_count": 12,
   "metadata": {
    "collapsed": false
   },
   "outputs": [],
   "source": [
    "NB_OF_FILES_df1=len(filenames_df1)"
   ]
  },
  {
   "cell_type": "code",
   "execution_count": 13,
   "metadata": {
    "collapsed": false
   },
   "outputs": [],
   "source": [
    "filenumber_df1=np.zeros(NB_OF_FILES_df1,dtype='i4')"
   ]
  },
  {
   "cell_type": "code",
   "execution_count": 14,
   "metadata": {
    "collapsed": false
   },
   "outputs": [],
   "source": [
    "for id,file in enumerate(filenames_df1):\n",
    "    filenumber_df1[id]=int( re.findall('^AssScImHD163466_y4_([0-9]+)',file)[0])"
   ]
  },
  {
   "cell_type": "code",
   "execution_count": 15,
   "metadata": {
    "collapsed": false
   },
   "outputs": [
    {
     "data": {
      "text/plain": [
       "array([1, 2, 3, 4, 5, 6, 7, 8], dtype=int32)"
      ]
     },
     "execution_count": 15,
     "metadata": {},
     "output_type": "execute_result"
    }
   ],
   "source": [
    "filenumber_df1"
   ]
  },
  {
   "cell_type": "code",
   "execution_count": 16,
   "metadata": {
    "collapsed": true
   },
   "outputs": [],
   "source": [
    "df1_3=df1"
   ]
  },
  {
   "cell_type": "code",
   "execution_count": 17,
   "metadata": {
    "collapsed": true
   },
   "outputs": [],
   "source": [
    "df1_3['num']=filenumber_df1"
   ]
  },
  {
   "cell_type": "code",
   "execution_count": 18,
   "metadata": {
    "collapsed": false
   },
   "outputs": [
    {
     "data": {
      "text/html": [
       "<div>\n",
       "<table border=\"1\" class=\"dataframe\">\n",
       "  <thead>\n",
       "    <tr style=\"text-align: right;\">\n",
       "      <th></th>\n",
       "      <th>num</th>\n",
       "      <th>file</th>\n",
       "      <th>time</th>\n",
       "      <th>exposure</th>\n",
       "      <th>nbstars</th>\n",
       "      <th>prfx</th>\n",
       "      <th>pfry</th>\n",
       "      <th>sig_prfx</th>\n",
       "      <th>sig_prfy</th>\n",
       "    </tr>\n",
       "  </thead>\n",
       "  <tbody>\n",
       "    <tr>\n",
       "      <th>0</th>\n",
       "      <td>1</td>\n",
       "      <td>AssScImHD163466_y4_1.fits</td>\n",
       "      <td>2016-05-10T08:43:22.192</td>\n",
       "      <td>3.0</td>\n",
       "      <td>23</td>\n",
       "      <td>2.808105</td>\n",
       "      <td>2.937096</td>\n",
       "      <td>0.071711</td>\n",
       "      <td>0.076083</td>\n",
       "    </tr>\n",
       "    <tr>\n",
       "      <th>1</th>\n",
       "      <td>2</td>\n",
       "      <td>AssScImHD163466_y4_2.fits</td>\n",
       "      <td>2016-05-10T08:43:29.513</td>\n",
       "      <td>3.0</td>\n",
       "      <td>23</td>\n",
       "      <td>2.686555</td>\n",
       "      <td>2.868796</td>\n",
       "      <td>0.081985</td>\n",
       "      <td>0.045649</td>\n",
       "    </tr>\n",
       "    <tr>\n",
       "      <th>2</th>\n",
       "      <td>3</td>\n",
       "      <td>AssScImHD163466_y4_3.fits</td>\n",
       "      <td>2016-05-10T08:43:36.463</td>\n",
       "      <td>3.0</td>\n",
       "      <td>25</td>\n",
       "      <td>2.644529</td>\n",
       "      <td>2.690760</td>\n",
       "      <td>0.075594</td>\n",
       "      <td>0.028622</td>\n",
       "    </tr>\n",
       "    <tr>\n",
       "      <th>3</th>\n",
       "      <td>4</td>\n",
       "      <td>AssScImHD163466_y4_4.fits</td>\n",
       "      <td>2016-05-10T08:43:43.448</td>\n",
       "      <td>3.0</td>\n",
       "      <td>30</td>\n",
       "      <td>2.672307</td>\n",
       "      <td>2.729327</td>\n",
       "      <td>0.070884</td>\n",
       "      <td>0.249820</td>\n",
       "    </tr>\n",
       "    <tr>\n",
       "      <th>4</th>\n",
       "      <td>5</td>\n",
       "      <td>AssScImHD163466_y4_5.fits</td>\n",
       "      <td>2016-05-10T08:44:47.481</td>\n",
       "      <td>1.5</td>\n",
       "      <td>16</td>\n",
       "      <td>2.857706</td>\n",
       "      <td>2.765514</td>\n",
       "      <td>0.236654</td>\n",
       "      <td>0.072439</td>\n",
       "    </tr>\n",
       "    <tr>\n",
       "      <th>5</th>\n",
       "      <td>6</td>\n",
       "      <td>AssScImHD163466_y4_6.fits</td>\n",
       "      <td>2016-05-10T08:44:52.918</td>\n",
       "      <td>1.5</td>\n",
       "      <td>14</td>\n",
       "      <td>2.785756</td>\n",
       "      <td>2.875393</td>\n",
       "      <td>0.080799</td>\n",
       "      <td>0.058559</td>\n",
       "    </tr>\n",
       "    <tr>\n",
       "      <th>6</th>\n",
       "      <td>7</td>\n",
       "      <td>AssScImHD163466_y4_7.fits</td>\n",
       "      <td>2016-05-10T08:44:58.453</td>\n",
       "      <td>1.5</td>\n",
       "      <td>11</td>\n",
       "      <td>2.779681</td>\n",
       "      <td>2.900445</td>\n",
       "      <td>0.062352</td>\n",
       "      <td>0.040581</td>\n",
       "    </tr>\n",
       "    <tr>\n",
       "      <th>7</th>\n",
       "      <td>8</td>\n",
       "      <td>AssScImHD163466_y4_8.fits</td>\n",
       "      <td>2016-05-10T08:45:04.001</td>\n",
       "      <td>1.5</td>\n",
       "      <td>13</td>\n",
       "      <td>2.662232</td>\n",
       "      <td>2.803133</td>\n",
       "      <td>0.074704</td>\n",
       "      <td>0.081074</td>\n",
       "    </tr>\n",
       "  </tbody>\n",
       "</table>\n",
       "</div>"
      ],
      "text/plain": [
       "   num                       file                     time  exposure  nbstars  \\\n",
       "0    1  AssScImHD163466_y4_1.fits  2016-05-10T08:43:22.192       3.0       23   \n",
       "1    2  AssScImHD163466_y4_2.fits  2016-05-10T08:43:29.513       3.0       23   \n",
       "2    3  AssScImHD163466_y4_3.fits  2016-05-10T08:43:36.463       3.0       25   \n",
       "3    4  AssScImHD163466_y4_4.fits  2016-05-10T08:43:43.448       3.0       30   \n",
       "4    5  AssScImHD163466_y4_5.fits  2016-05-10T08:44:47.481       1.5       16   \n",
       "5    6  AssScImHD163466_y4_6.fits  2016-05-10T08:44:52.918       1.5       14   \n",
       "6    7  AssScImHD163466_y4_7.fits  2016-05-10T08:44:58.453       1.5       11   \n",
       "7    8  AssScImHD163466_y4_8.fits  2016-05-10T08:45:04.001       1.5       13   \n",
       "\n",
       "       prfx      pfry  sig_prfx  sig_prfy  \n",
       "0  2.808105  2.937096  0.071711  0.076083  \n",
       "1  2.686555  2.868796  0.081985  0.045649  \n",
       "2  2.644529  2.690760  0.075594  0.028622  \n",
       "3  2.672307  2.729327  0.070884  0.249820  \n",
       "4  2.857706  2.765514  0.236654  0.072439  \n",
       "5  2.785756  2.875393  0.080799  0.058559  \n",
       "6  2.779681  2.900445  0.062352  0.040581  \n",
       "7  2.662232  2.803133  0.074704  0.081074  "
      ]
     },
     "execution_count": 18,
     "metadata": {},
     "output_type": "execute_result"
    }
   ],
   "source": [
    "df1_3"
   ]
  },
  {
   "cell_type": "code",
   "execution_count": 19,
   "metadata": {
    "collapsed": true
   },
   "outputs": [],
   "source": [
    "full_dataset=df1_3"
   ]
  },
  {
   "cell_type": "code",
   "execution_count": 20,
   "metadata": {
    "collapsed": false
   },
   "outputs": [
    {
     "data": {
      "text/plain": [
       "<matplotlib.figure.Figure at 0x10ba13d50>"
      ]
     },
     "metadata": {},
     "output_type": "display_data"
    },
    {
     "data": {
      "image/png": "[encoded data removed]",
      "text/plain": [
       "<matplotlib.figure.Figure at 0x10ba13ed0>"
      ]
     },
     "metadata": {},
     "output_type": "display_data"
    }
   ],
   "source": [
    "fig = plt.figure()\n",
    "full_dataset_2=full_dataset[['num', 'prfx','pfry']]\n",
    "ax=full_dataset_2.plot('num',['prfx','pfry'],lw=2,colormap='jet',marker='.',markersize=10,title='PSF in X and Y axis MONOCAM (2016/05/11) for HD158485_grat',ylim=(0.,6.),figsize=(15,5))\n",
    "ax.set_xlabel(\"image number\",fontsize=18)\n",
    "ax.set_ylabel(\" $\\sigma_x$ and $\\sigma_y$ in pixels\",fontsize=18)\n",
    "title='PSF in X and Y axis MONOCAM (2016/05/09) for HD163466_y4'\n",
    "fig.suptitle(title, fontsize=20)\n",
    "plt.legend(loc='upper right')\n",
    "\n",
    "fig.savefig('PRFXY_HD163466_y4_20160509.jpg')\n",
    "plt.show()  # pandas able to remove NaN\n",
    "\n"
   ]
  },
  {
   "cell_type": "code",
   "execution_count": null,
   "metadata": {
    "collapsed": false
   },
   "outputs": [],
   "source": []
  },
  {
   "cell_type": "code",
   "execution_count": 21,
   "metadata": {
    "collapsed": true
   },
   "outputs": [],
   "source": [
    "PixToArcsec=0.944"
   ]
  },
  {
   "cell_type": "code",
   "execution_count": 22,
   "metadata": {
    "collapsed": false
   },
   "outputs": [],
   "source": [
    "sigmax=full_dataset['prfx']*PixToArcsec"
   ]
  },
  {
   "cell_type": "code",
   "execution_count": 23,
   "metadata": {
    "collapsed": true
   },
   "outputs": [],
   "source": [
    "series_sigmax=pd.Series(sigmax)"
   ]
  },
  {
   "cell_type": "code",
   "execution_count": null,
   "metadata": {
    "collapsed": false
   },
   "outputs": [],
   "source": []
  },
  {
   "cell_type": "code",
   "execution_count": 24,
   "metadata": {
    "collapsed": true
   },
   "outputs": [],
   "source": [
    "sigmay=full_dataset['pfry']*PixToArcsec"
   ]
  },
  {
   "cell_type": "code",
   "execution_count": 25,
   "metadata": {
    "collapsed": true
   },
   "outputs": [],
   "source": [
    "series_sigmay=pd.Series(sigmay)"
   ]
  },
  {
   "cell_type": "code",
   "execution_count": 26,
   "metadata": {
    "collapsed": false
   },
   "outputs": [
    {
     "data": {
      "text/html": [
       "<div>\n",
       "<table border=\"1\" class=\"dataframe\">\n",
       "  <thead>\n",
       "    <tr style=\"text-align: right;\">\n",
       "      <th></th>\n",
       "      <th>num</th>\n",
       "      <th>file</th>\n",
       "      <th>time</th>\n",
       "      <th>exposure</th>\n",
       "      <th>nbstars</th>\n",
       "      <th>prfx</th>\n",
       "      <th>pfry</th>\n",
       "      <th>sig_prfx</th>\n",
       "      <th>sig_prfy</th>\n",
       "    </tr>\n",
       "  </thead>\n",
       "  <tbody>\n",
       "    <tr>\n",
       "      <th>0</th>\n",
       "      <td>1</td>\n",
       "      <td>AssScImHD163466_y4_1.fits</td>\n",
       "      <td>2016-05-10T08:43:22.192</td>\n",
       "      <td>3.0</td>\n",
       "      <td>23</td>\n",
       "      <td>2.808105</td>\n",
       "      <td>2.937096</td>\n",
       "      <td>0.071711</td>\n",
       "      <td>0.076083</td>\n",
       "    </tr>\n",
       "    <tr>\n",
       "      <th>1</th>\n",
       "      <td>2</td>\n",
       "      <td>AssScImHD163466_y4_2.fits</td>\n",
       "      <td>2016-05-10T08:43:29.513</td>\n",
       "      <td>3.0</td>\n",
       "      <td>23</td>\n",
       "      <td>2.686555</td>\n",
       "      <td>2.868796</td>\n",
       "      <td>0.081985</td>\n",
       "      <td>0.045649</td>\n",
       "    </tr>\n",
       "    <tr>\n",
       "      <th>2</th>\n",
       "      <td>3</td>\n",
       "      <td>AssScImHD163466_y4_3.fits</td>\n",
       "      <td>2016-05-10T08:43:36.463</td>\n",
       "      <td>3.0</td>\n",
       "      <td>25</td>\n",
       "      <td>2.644529</td>\n",
       "      <td>2.690760</td>\n",
       "      <td>0.075594</td>\n",
       "      <td>0.028622</td>\n",
       "    </tr>\n",
       "    <tr>\n",
       "      <th>3</th>\n",
       "      <td>4</td>\n",
       "      <td>AssScImHD163466_y4_4.fits</td>\n",
       "      <td>2016-05-10T08:43:43.448</td>\n",
       "      <td>3.0</td>\n",
       "      <td>30</td>\n",
       "      <td>2.672307</td>\n",
       "      <td>2.729327</td>\n",
       "      <td>0.070884</td>\n",
       "      <td>0.249820</td>\n",
       "    </tr>\n",
       "    <tr>\n",
       "      <th>4</th>\n",
       "      <td>5</td>\n",
       "      <td>AssScImHD163466_y4_5.fits</td>\n",
       "      <td>2016-05-10T08:44:47.481</td>\n",
       "      <td>1.5</td>\n",
       "      <td>16</td>\n",
       "      <td>2.857706</td>\n",
       "      <td>2.765514</td>\n",
       "      <td>0.236654</td>\n",
       "      <td>0.072439</td>\n",
       "    </tr>\n",
       "    <tr>\n",
       "      <th>5</th>\n",
       "      <td>6</td>\n",
       "      <td>AssScImHD163466_y4_6.fits</td>\n",
       "      <td>2016-05-10T08:44:52.918</td>\n",
       "      <td>1.5</td>\n",
       "      <td>14</td>\n",
       "      <td>2.785756</td>\n",
       "      <td>2.875393</td>\n",
       "      <td>0.080799</td>\n",
       "      <td>0.058559</td>\n",
       "    </tr>\n",
       "    <tr>\n",
       "      <th>6</th>\n",
       "      <td>7</td>\n",
       "      <td>AssScImHD163466_y4_7.fits</td>\n",
       "      <td>2016-05-10T08:44:58.453</td>\n",
       "      <td>1.5</td>\n",
       "      <td>11</td>\n",
       "      <td>2.779681</td>\n",
       "      <td>2.900445</td>\n",
       "      <td>0.062352</td>\n",
       "      <td>0.040581</td>\n",
       "    </tr>\n",
       "    <tr>\n",
       "      <th>7</th>\n",
       "      <td>8</td>\n",
       "      <td>AssScImHD163466_y4_8.fits</td>\n",
       "      <td>2016-05-10T08:45:04.001</td>\n",
       "      <td>1.5</td>\n",
       "      <td>13</td>\n",
       "      <td>2.662232</td>\n",
       "      <td>2.803133</td>\n",
       "      <td>0.074704</td>\n",
       "      <td>0.081074</td>\n",
       "    </tr>\n",
       "  </tbody>\n",
       "</table>\n",
       "</div>"
      ],
      "text/plain": [
       "   num                       file                     time  exposure  nbstars  \\\n",
       "0    1  AssScImHD163466_y4_1.fits  2016-05-10T08:43:22.192       3.0       23   \n",
       "1    2  AssScImHD163466_y4_2.fits  2016-05-10T08:43:29.513       3.0       23   \n",
       "2    3  AssScImHD163466_y4_3.fits  2016-05-10T08:43:36.463       3.0       25   \n",
       "3    4  AssScImHD163466_y4_4.fits  2016-05-10T08:43:43.448       3.0       30   \n",
       "4    5  AssScImHD163466_y4_5.fits  2016-05-10T08:44:47.481       1.5       16   \n",
       "5    6  AssScImHD163466_y4_6.fits  2016-05-10T08:44:52.918       1.5       14   \n",
       "6    7  AssScImHD163466_y4_7.fits  2016-05-10T08:44:58.453       1.5       11   \n",
       "7    8  AssScImHD163466_y4_8.fits  2016-05-10T08:45:04.001       1.5       13   \n",
       "\n",
       "       prfx      pfry  sig_prfx  sig_prfy  \n",
       "0  2.808105  2.937096  0.071711  0.076083  \n",
       "1  2.686555  2.868796  0.081985  0.045649  \n",
       "2  2.644529  2.690760  0.075594  0.028622  \n",
       "3  2.672307  2.729327  0.070884  0.249820  \n",
       "4  2.857706  2.765514  0.236654  0.072439  \n",
       "5  2.785756  2.875393  0.080799  0.058559  \n",
       "6  2.779681  2.900445  0.062352  0.040581  \n",
       "7  2.662232  2.803133  0.074704  0.081074  "
      ]
     },
     "execution_count": 26,
     "metadata": {},
     "output_type": "execute_result"
    }
   ],
   "source": [
    "full_dataset"
   ]
  },
  {
   "cell_type": "markdown",
   "metadata": {},
   "source": [
    "### simply add series as columns in the dataset"
   ]
  },
  {
   "cell_type": "code",
   "execution_count": 27,
   "metadata": {
    "collapsed": false
   },
   "outputs": [],
   "source": [
    "full_dataset['sigmax'] = series_sigmax"
   ]
  },
  {
   "cell_type": "code",
   "execution_count": 28,
   "metadata": {
    "collapsed": true
   },
   "outputs": [],
   "source": [
    "full_dataset['sigmay'] = series_sigmay"
   ]
  },
  {
   "cell_type": "code",
   "execution_count": 29,
   "metadata": {
    "collapsed": false
   },
   "outputs": [
    {
     "data": {
      "text/plain": [
       "<matplotlib.figure.Figure at 0x10ba13c90>"
      ]
     },
     "metadata": {},
     "output_type": "display_data"
    },
    {
     "data": {
      "image/png": "[encoded data removed]",
      "text/plain": [
       "<matplotlib.figure.Figure at 0x10b98d990>"
      ]
     },
     "metadata": {},
     "output_type": "display_data"
    }
   ],
   "source": [
    "fig = plt.figure()\n",
    "full_dataset_3=full_dataset[['num', 'sigmax','sigmay']]\n",
    "ax=full_dataset_3.plot('num',['sigmax','sigmay'],lw=2,colormap='jet',marker='.',markersize=10,title='PSF in X and Y axis MONOCAM (2016/05/11) for HD158485_grat',ylim=(0.,6.),figsize=(15,5))\n",
    "ax.set_xlabel(\"image number\",fontsize=18)\n",
    "ax.set_ylabel(\" $\\sigma_x$ and $\\sigma_y$ in arcsecond\",fontsize=18)\n",
    "title='PSF in X and Y axis MONOCAM (2016/05/09) for HD164466_y4'\n",
    "fig.suptitle(title, fontsize=20)\n",
    "plt.legend(loc='upper right')\n",
    "plt.show()  # pandas able to remove NaN\n",
    "fig.savefig('PSFXY_HD163466_y4_20160509.jpg')"
   ]
  },
  {
   "cell_type": "code",
   "execution_count": 30,
   "metadata": {
    "collapsed": false
   },
   "outputs": [],
   "source": [
    "output_table=Table.from_pandas(full_dataset)"
   ]
  },
  {
   "cell_type": "code",
   "execution_count": 31,
   "metadata": {
    "collapsed": false
   },
   "outputs": [
    {
     "data": {
      "text/html": [
       "&lt;Table length=8&gt;\n",
       "<table id=\"table4489584272\">\n",
       "<thead><tr><th>num</th><th>file</th><th>time</th><th>exposure</th><th>nbstars</th><th>prfx</th><th>pfry</th><th>sig_prfx</th><th>sig_prfy</th><th>sigmax</th><th>sigmay</th></tr></thead>\n",
       "<thead><tr><th>int32</th><th>str25</th><th>str23</th><th>float64</th><th>int32</th><th>float64</th><th>float64</th><th>float64</th><th>float64</th><th>float64</th><th>float64</th></tr></thead>\n",
       "<tr><td>1</td><td>AssScImHD163466_y4_1.fits</td><td>2016-05-10T08:43:22.192</td><td>3.0</td><td>23</td><td>2.80810530353</td><td>2.93709578691</td><td>0.0717107607457</td><td>0.0760826986652</td><td>2.65085140654</td><td>2.77261842284</td></tr>\n",
       "<tr><td>2</td><td>AssScImHD163466_y4_2.fits</td><td>2016-05-10T08:43:29.513</td><td>3.0</td><td>23</td><td>2.68655532696</td><td>2.86879575208</td><td>0.0819848604541</td><td>0.0456488029924</td><td>2.53610822865</td><td>2.70814318997</td></tr>\n",
       "<tr><td>3</td><td>AssScImHD163466_y4_3.fits</td><td>2016-05-10T08:43:36.463</td><td>3.0</td><td>25</td><td>2.64452856755</td><td>2.69076001366</td><td>0.0755942751507</td><td>0.0286223131641</td><td>2.49643496776</td><td>2.54007745289</td></tr>\n",
       "<tr><td>4</td><td>AssScImHD163466_y4_4.fits</td><td>2016-05-10T08:43:43.448</td><td>3.0</td><td>30</td><td>2.6723065947</td><td>2.72932681468</td><td>0.0708837703989</td><td>0.249819800909</td><td>2.52265742539</td><td>2.57648451306</td></tr>\n",
       "<tr><td>5</td><td>AssScImHD163466_y4_5.fits</td><td>2016-05-10T08:44:47.481</td><td>1.5</td><td>16</td><td>2.85770605392</td><td>2.76551370117</td><td>0.236654258462</td><td>0.0724385881085</td><td>2.6976745149</td><td>2.61064493391</td></tr>\n",
       "<tr><td>6</td><td>AssScImHD163466_y4_6.fits</td><td>2016-05-10T08:44:52.918</td><td>1.5</td><td>14</td><td>2.78575614456</td><td>2.87539302862</td><td>0.0807985674717</td><td>0.0585594161166</td><td>2.62975380047</td><td>2.71437101901</td></tr>\n",
       "<tr><td>7</td><td>AssScImHD163466_y4_7.fits</td><td>2016-05-10T08:44:58.453</td><td>1.5</td><td>11</td><td>2.77968098699</td><td>2.90044545098</td><td>0.0623518794852</td><td>0.0405807569436</td><td>2.62401885172</td><td>2.73802050573</td></tr>\n",
       "<tr><td>8</td><td>AssScImHD163466_y4_8.fits</td><td>2016-05-10T08:45:04.001</td><td>1.5</td><td>13</td><td>2.66223236329</td><td>2.8031331225</td><td>0.0747038608423</td><td>0.08107409864</td><td>2.51314735094</td><td>2.64615766764</td></tr>\n",
       "</table>"
      ],
      "text/plain": [
       "<Table length=8>\n",
       " num             file           ...     sigmax        sigmay   \n",
       "int32           str25           ...    float64       float64   \n",
       "----- ------------------------- ... ------------- -------------\n",
       "    1 AssScImHD163466_y4_1.fits ... 2.65085140654 2.77261842284\n",
       "    2 AssScImHD163466_y4_2.fits ... 2.53610822865 2.70814318997\n",
       "    3 AssScImHD163466_y4_3.fits ... 2.49643496776 2.54007745289\n",
       "    4 AssScImHD163466_y4_4.fits ... 2.52265742539 2.57648451306\n",
       "    5 AssScImHD163466_y4_5.fits ...  2.6976745149 2.61064493391\n",
       "    6 AssScImHD163466_y4_6.fits ... 2.62975380047 2.71437101901\n",
       "    7 AssScImHD163466_y4_7.fits ... 2.62401885172 2.73802050573\n",
       "    8 AssScImHD163466_y4_8.fits ... 2.51314735094 2.64615766764"
      ]
     },
     "execution_count": 31,
     "metadata": {},
     "output_type": "execute_result"
    }
   ],
   "source": [
    "output_table"
   ]
  },
  {
   "cell_type": "code",
   "execution_count": 32,
   "metadata": {
    "collapsed": false
   },
   "outputs": [],
   "source": [
    "outputtablefile='HD163466_y4_1-8_TablePSF_night20160509.fits'\n",
    "output_table.write(outputtablefile,format='fits')"
   ]
  },
  {
   "cell_type": "code",
   "execution_count": 33,
   "metadata": {
    "collapsed": true
   },
   "outputs": [],
   "source": [
    "t2 = Table.read(outputtablefile)"
   ]
  },
  {
   "cell_type": "code",
   "execution_count": 34,
   "metadata": {
    "collapsed": false
   },
   "outputs": [
    {
     "data": {
      "text/html": [
       "&lt;Table length=8&gt;\n",
       "<table id=\"table4489885520\">\n",
       "<thead><tr><th>num</th><th>file</th><th>time</th><th>exposure</th><th>nbstars</th><th>prfx</th><th>pfry</th><th>sig_prfx</th><th>sig_prfy</th><th>sigmax</th><th>sigmay</th></tr></thead>\n",
       "<thead><tr><th>int32</th><th>str25</th><th>str23</th><th>float64</th><th>int32</th><th>float64</th><th>float64</th><th>float64</th><th>float64</th><th>float64</th><th>float64</th></tr></thead>\n",
       "<tr><td>1</td><td>AssScImHD163466_y4_1.fits</td><td>2016-05-10T08:43:22.192</td><td>3.0</td><td>23</td><td>2.80810530353</td><td>2.93709578691</td><td>0.0717107607457</td><td>0.0760826986652</td><td>2.65085140654</td><td>2.77261842284</td></tr>\n",
       "<tr><td>2</td><td>AssScImHD163466_y4_2.fits</td><td>2016-05-10T08:43:29.513</td><td>3.0</td><td>23</td><td>2.68655532696</td><td>2.86879575208</td><td>0.0819848604541</td><td>0.0456488029924</td><td>2.53610822865</td><td>2.70814318997</td></tr>\n",
       "<tr><td>3</td><td>AssScImHD163466_y4_3.fits</td><td>2016-05-10T08:43:36.463</td><td>3.0</td><td>25</td><td>2.64452856755</td><td>2.69076001366</td><td>0.0755942751507</td><td>0.0286223131641</td><td>2.49643496776</td><td>2.54007745289</td></tr>\n",
       "<tr><td>4</td><td>AssScImHD163466_y4_4.fits</td><td>2016-05-10T08:43:43.448</td><td>3.0</td><td>30</td><td>2.6723065947</td><td>2.72932681468</td><td>0.0708837703989</td><td>0.249819800909</td><td>2.52265742539</td><td>2.57648451306</td></tr>\n",
       "<tr><td>5</td><td>AssScImHD163466_y4_5.fits</td><td>2016-05-10T08:44:47.481</td><td>1.5</td><td>16</td><td>2.85770605392</td><td>2.76551370117</td><td>0.236654258462</td><td>0.0724385881085</td><td>2.6976745149</td><td>2.61064493391</td></tr>\n",
       "<tr><td>6</td><td>AssScImHD163466_y4_6.fits</td><td>2016-05-10T08:44:52.918</td><td>1.5</td><td>14</td><td>2.78575614456</td><td>2.87539302862</td><td>0.0807985674717</td><td>0.0585594161166</td><td>2.62975380047</td><td>2.71437101901</td></tr>\n",
       "<tr><td>7</td><td>AssScImHD163466_y4_7.fits</td><td>2016-05-10T08:44:58.453</td><td>1.5</td><td>11</td><td>2.77968098699</td><td>2.90044545098</td><td>0.0623518794852</td><td>0.0405807569436</td><td>2.62401885172</td><td>2.73802050573</td></tr>\n",
       "<tr><td>8</td><td>AssScImHD163466_y4_8.fits</td><td>2016-05-10T08:45:04.001</td><td>1.5</td><td>13</td><td>2.66223236329</td><td>2.8031331225</td><td>0.0747038608423</td><td>0.08107409864</td><td>2.51314735094</td><td>2.64615766764</td></tr>\n",
       "</table>"
      ],
      "text/plain": [
       "<Table length=8>\n",
       " num             file           ...     sigmax        sigmay   \n",
       "int32           str25           ...    float64       float64   \n",
       "----- ------------------------- ... ------------- -------------\n",
       "    1 AssScImHD163466_y4_1.fits ... 2.65085140654 2.77261842284\n",
       "    2 AssScImHD163466_y4_2.fits ... 2.53610822865 2.70814318997\n",
       "    3 AssScImHD163466_y4_3.fits ... 2.49643496776 2.54007745289\n",
       "    4 AssScImHD163466_y4_4.fits ... 2.52265742539 2.57648451306\n",
       "    5 AssScImHD163466_y4_5.fits ...  2.6976745149 2.61064493391\n",
       "    6 AssScImHD163466_y4_6.fits ... 2.62975380047 2.71437101901\n",
       "    7 AssScImHD163466_y4_7.fits ... 2.62401885172 2.73802050573\n",
       "    8 AssScImHD163466_y4_8.fits ... 2.51314735094 2.64615766764"
      ]
     },
     "execution_count": 34,
     "metadata": {},
     "output_type": "execute_result"
    }
   ],
   "source": [
    "t2"
   ]
  },
  {
   "cell_type": "code",
   "execution_count": null,
   "metadata": {
    "collapsed": true
   },
   "outputs": [],
   "source": []
  }
 ],
 "metadata": {
  "kernelspec": {
   "display_name": "Python 2",
   "language": "python",
   "name": "python2"
  },
  "language_info": {
   "codemirror_mode": {
    "name": "ipython",
    "version": 2
   },
   "file_extension": ".py",
   "mimetype": "text/x-python",
   "name": "python",
   "nbconvert_exporter": "python",
   "pygments_lexer": "ipython2",
   "version": "2.7.12"
  }
 },
 "nbformat": 4,
 "nbformat_minor": 0
}
