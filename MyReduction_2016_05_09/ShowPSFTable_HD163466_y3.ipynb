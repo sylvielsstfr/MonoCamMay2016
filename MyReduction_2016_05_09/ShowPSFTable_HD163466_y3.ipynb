{
 "cells": [
  {
   "cell_type": "markdown",
   "metadata": {},
   "source": [
    "# Read Astropy tables on PSF\n",
    "\n",
    "- creation June 30th 2016\n",
    "- author Sylvie Dagoret-Campagne\n",
    "- Update July 6th 2016\n"
   ]
  },
  {
   "cell_type": "code",
   "execution_count": 35,
   "metadata": {
    "collapsed": true
   },
   "outputs": [],
   "source": [
    "%matplotlib inline\n",
    "import matplotlib.pyplot as plt\n",
    "import numpy as np\n",
    "\n",
    "from astropy.modeling import models\n",
    "from astropy import units as u\n",
    "from astropy import nddata\n",
    "from astropy.io import fits\n",
    "\n",
    "from astropy.table import Table\n",
    "from astropy.table import Column\n",
    "\n",
    "import pandas as pd"
   ]
  },
  {
   "cell_type": "code",
   "execution_count": 36,
   "metadata": {
    "collapsed": true
   },
   "outputs": [],
   "source": [
    "intputtablefile1='HD163466_y3_1-10_TablePSF.fits'"
   ]
  },
  {
   "cell_type": "code",
   "execution_count": 37,
   "metadata": {
    "collapsed": false
   },
   "outputs": [],
   "source": [
    " t1 = Table.read(intputtablefile1)"
   ]
  },
  {
   "cell_type": "code",
   "execution_count": 38,
   "metadata": {
    "collapsed": false
   },
   "outputs": [
    {
     "data": {
      "text/html": [
       "&lt;Table length=10&gt;\n",
       "<table id=\"table4489102864\">\n",
       "<thead><tr><th>num</th><th>file</th><th>time</th><th>exposure</th><th>nbstars</th><th>prfx</th><th>pfry</th><th>sig_prfx</th><th>sig_prfy</th></tr></thead>\n",
       "<thead><tr><th>int32</th><th>str26</th><th>str23</th><th>float64</th><th>int32</th><th>float64</th><th>float64</th><th>float64</th><th>float64</th></tr></thead>\n",
       "<tr><td>0</td><td>AssScImHD163466_y3_1.fits</td><td>2016-05-10T08:31:46.221</td><td>1.0</td><td>7</td><td>3.14462939981</td><td>3.41466663301</td><td>0.0624903435569</td><td>0.0399877500438</td></tr>\n",
       "<tr><td>1</td><td>AssScImHD163466_y3_2.fits</td><td>2016-05-10T08:33:17.773</td><td>5.0</td><td>23</td><td>3.23590764548</td><td>3.67168661807</td><td>0.210812621801</td><td>0.313203469327</td></tr>\n",
       "<tr><td>2</td><td>AssScImHD163466_y3_3.fits</td><td>2016-05-10T08:33:27.174</td><td>5.0</td><td>30</td><td>3.28439425917</td><td>3.44808452428</td><td>0.153086049741</td><td>0.109240066938</td></tr>\n",
       "<tr><td>3</td><td>AssScImHD163466_y3_4.fits</td><td>2016-05-10T08:33:36.166</td><td>5.0</td><td>29</td><td>3.07852576115</td><td>3.39865028239</td><td>0.0743265241544</td><td>0.182716405574</td></tr>\n",
       "<tr><td>4</td><td>AssScImHD163466_y3_5.fits</td><td>2016-05-10T08:38:53.776</td><td>3.0</td><td>9</td><td>5.01067679435</td><td>5.12760526598</td><td>0.431963018433</td><td>0.931127413941</td></tr>\n",
       "<tr><td>5</td><td>AssScImHD163466_y3_6.fits</td><td>2016-05-10T08:39:35.943</td><td>3.0</td><td>4</td><td>3.66881377389</td><td>3.71438578859</td><td>0.125757386795</td><td>0.0576096104765</td></tr>\n",
       "<tr><td>6</td><td>AssScImHD163466_y3_7.fits</td><td>2016-05-10T08:40:17.637</td><td>3.0</td><td>15</td><td>2.62049631174</td><td>2.75934903687</td><td>0.053654463766</td><td>0.0477390482732</td></tr>\n",
       "<tr><td>7</td><td>AssScImHD163466_y3_8.fits</td><td>2016-05-10T08:41:40.854</td><td>3.0</td><td>12</td><td>3.02620244552</td><td>2.97225160347</td><td>0.0890701171525</td><td>0.163930894688</td></tr>\n",
       "<tr><td>8</td><td>AssScImHD163466_y3_9.fits</td><td>2016-05-10T08:41:47.875</td><td>3.0</td><td>15</td><td>2.85053312944</td><td>2.90077455</td><td>0.076245483463</td><td>0.038651577062</td></tr>\n",
       "<tr><td>9</td><td>AssScImHD163466_y3_10.fits</td><td>2016-05-10T08:41:54.822</td><td>3.0</td><td>20</td><td>2.74595205679</td><td>2.86321797679</td><td>0.101194165365</td><td>0.0711165660995</td></tr>\n",
       "</table>"
      ],
      "text/plain": [
       "<Table length=10>\n",
       " num             file            ...     sig_prfx        sig_prfy   \n",
       "int32           str26            ...     float64         float64    \n",
       "----- -------------------------- ... --------------- ---------------\n",
       "    0  AssScImHD163466_y3_1.fits ... 0.0624903435569 0.0399877500438\n",
       "    1  AssScImHD163466_y3_2.fits ...  0.210812621801  0.313203469327\n",
       "    2  AssScImHD163466_y3_3.fits ...  0.153086049741  0.109240066938\n",
       "    3  AssScImHD163466_y3_4.fits ... 0.0743265241544  0.182716405574\n",
       "    4  AssScImHD163466_y3_5.fits ...  0.431963018433  0.931127413941\n",
       "    5  AssScImHD163466_y3_6.fits ...  0.125757386795 0.0576096104765\n",
       "    6  AssScImHD163466_y3_7.fits ...  0.053654463766 0.0477390482732\n",
       "    7  AssScImHD163466_y3_8.fits ... 0.0890701171525  0.163930894688\n",
       "    8  AssScImHD163466_y3_9.fits ...  0.076245483463  0.038651577062\n",
       "    9 AssScImHD163466_y3_10.fits ...  0.101194165365 0.0711165660995"
      ]
     },
     "execution_count": 38,
     "metadata": {},
     "output_type": "execute_result"
    }
   ],
   "source": [
    "t1"
   ]
  },
  {
   "cell_type": "code",
   "execution_count": 39,
   "metadata": {
    "collapsed": false
   },
   "outputs": [],
   "source": [
    "df1=t1.to_pandas()"
   ]
  },
  {
   "cell_type": "code",
   "execution_count": 40,
   "metadata": {
    "collapsed": false
   },
   "outputs": [
    {
     "data": {
      "text/html": [
       "<div>\n",
       "<table border=\"1\" class=\"dataframe\">\n",
       "  <thead>\n",
       "    <tr style=\"text-align: right;\">\n",
       "      <th></th>\n",
       "      <th>num</th>\n",
       "      <th>exposure</th>\n",
       "      <th>nbstars</th>\n",
       "      <th>prfx</th>\n",
       "      <th>pfry</th>\n",
       "      <th>sig_prfx</th>\n",
       "      <th>sig_prfy</th>\n",
       "    </tr>\n",
       "  </thead>\n",
       "  <tbody>\n",
       "    <tr>\n",
       "      <th>count</th>\n",
       "      <td>10.00000</td>\n",
       "      <td>10.000000</td>\n",
       "      <td>10.000000</td>\n",
       "      <td>10.000000</td>\n",
       "      <td>10.000000</td>\n",
       "      <td>10.000000</td>\n",
       "      <td>10.000000</td>\n",
       "    </tr>\n",
       "    <tr>\n",
       "      <th>mean</th>\n",
       "      <td>4.50000</td>\n",
       "      <td>3.400000</td>\n",
       "      <td>16.400000</td>\n",
       "      <td>3.266613</td>\n",
       "      <td>3.427067</td>\n",
       "      <td>0.137860</td>\n",
       "      <td>0.195532</td>\n",
       "    </tr>\n",
       "    <tr>\n",
       "      <th>std</th>\n",
       "      <td>3.02765</td>\n",
       "      <td>1.264911</td>\n",
       "      <td>8.946756</td>\n",
       "      <td>0.681054</td>\n",
       "      <td>0.689866</td>\n",
       "      <td>0.113786</td>\n",
       "      <td>0.272582</td>\n",
       "    </tr>\n",
       "    <tr>\n",
       "      <th>min</th>\n",
       "      <td>0.00000</td>\n",
       "      <td>1.000000</td>\n",
       "      <td>4.000000</td>\n",
       "      <td>2.620496</td>\n",
       "      <td>2.759349</td>\n",
       "      <td>0.053654</td>\n",
       "      <td>0.038652</td>\n",
       "    </tr>\n",
       "    <tr>\n",
       "      <th>25%</th>\n",
       "      <td>2.25000</td>\n",
       "      <td>3.000000</td>\n",
       "      <td>9.750000</td>\n",
       "      <td>2.894450</td>\n",
       "      <td>2.918644</td>\n",
       "      <td>0.074806</td>\n",
       "      <td>0.050207</td>\n",
       "    </tr>\n",
       "    <tr>\n",
       "      <th>50%</th>\n",
       "      <td>4.50000</td>\n",
       "      <td>3.000000</td>\n",
       "      <td>15.000000</td>\n",
       "      <td>3.111578</td>\n",
       "      <td>3.406658</td>\n",
       "      <td>0.095132</td>\n",
       "      <td>0.090178</td>\n",
       "    </tr>\n",
       "    <tr>\n",
       "      <th>75%</th>\n",
       "      <td>6.75000</td>\n",
       "      <td>4.500000</td>\n",
       "      <td>22.250000</td>\n",
       "      <td>3.272273</td>\n",
       "      <td>3.615786</td>\n",
       "      <td>0.146254</td>\n",
       "      <td>0.178020</td>\n",
       "    </tr>\n",
       "    <tr>\n",
       "      <th>max</th>\n",
       "      <td>9.00000</td>\n",
       "      <td>5.000000</td>\n",
       "      <td>30.000000</td>\n",
       "      <td>5.010677</td>\n",
       "      <td>5.127605</td>\n",
       "      <td>0.431963</td>\n",
       "      <td>0.931127</td>\n",
       "    </tr>\n",
       "  </tbody>\n",
       "</table>\n",
       "</div>"
      ],
      "text/plain": [
       "            num   exposure    nbstars       prfx       pfry   sig_prfx  \\\n",
       "count  10.00000  10.000000  10.000000  10.000000  10.000000  10.000000   \n",
       "mean    4.50000   3.400000  16.400000   3.266613   3.427067   0.137860   \n",
       "std     3.02765   1.264911   8.946756   0.681054   0.689866   0.113786   \n",
       "min     0.00000   1.000000   4.000000   2.620496   2.759349   0.053654   \n",
       "25%     2.25000   3.000000   9.750000   2.894450   2.918644   0.074806   \n",
       "50%     4.50000   3.000000  15.000000   3.111578   3.406658   0.095132   \n",
       "75%     6.75000   4.500000  22.250000   3.272273   3.615786   0.146254   \n",
       "max     9.00000   5.000000  30.000000   5.010677   5.127605   0.431963   \n",
       "\n",
       "        sig_prfy  \n",
       "count  10.000000  \n",
       "mean    0.195532  \n",
       "std     0.272582  \n",
       "min     0.038652  \n",
       "25%     0.050207  \n",
       "50%     0.090178  \n",
       "75%     0.178020  \n",
       "max     0.931127  "
      ]
     },
     "execution_count": 40,
     "metadata": {},
     "output_type": "execute_result"
    }
   ],
   "source": [
    "df1.describe() # pandas able to show statistics"
   ]
  },
  {
   "cell_type": "code",
   "execution_count": 41,
   "metadata": {
    "collapsed": false
   },
   "outputs": [
    {
     "data": {
      "text/plain": [
       "<matplotlib.figure.Figure at 0x10b7d5ed0>"
      ]
     },
     "metadata": {},
     "output_type": "display_data"
    },
    {
     "data": {
      "image/png": "[encoded data removed]",
      "text/plain": [
       "<matplotlib.figure.Figure at 0x10be1ee10>"
      ]
     },
     "metadata": {},
     "output_type": "display_data"
    }
   ],
   "source": [
    "plt.figure(figsize=(10,6))\n",
    "df1_2=df1[['num', 'prfx','pfry']]\n",
    "df1_2.plot('num',['prfx','pfry'],ylim=(0.,5.),figsize=(10,5))\n",
    "plt.legend(loc='upper right')\n",
    "plt.show()"
   ]
  },
  {
   "cell_type": "code",
   "execution_count": 42,
   "metadata": {
    "collapsed": true
   },
   "outputs": [],
   "source": [
    "df1_no_missing = df1.dropna()"
   ]
  },
  {
   "cell_type": "code",
   "execution_count": 43,
   "metadata": {
    "collapsed": false
   },
   "outputs": [
    {
     "data": {
      "text/html": [
       "<div>\n",
       "<table border=\"1\" class=\"dataframe\">\n",
       "  <thead>\n",
       "    <tr style=\"text-align: right;\">\n",
       "      <th></th>\n",
       "      <th>num</th>\n",
       "      <th>exposure</th>\n",
       "      <th>nbstars</th>\n",
       "      <th>prfx</th>\n",
       "      <th>pfry</th>\n",
       "      <th>sig_prfx</th>\n",
       "      <th>sig_prfy</th>\n",
       "    </tr>\n",
       "  </thead>\n",
       "  <tbody>\n",
       "    <tr>\n",
       "      <th>count</th>\n",
       "      <td>10.00000</td>\n",
       "      <td>10.000000</td>\n",
       "      <td>10.000000</td>\n",
       "      <td>10.000000</td>\n",
       "      <td>10.000000</td>\n",
       "      <td>10.000000</td>\n",
       "      <td>10.000000</td>\n",
       "    </tr>\n",
       "    <tr>\n",
       "      <th>mean</th>\n",
       "      <td>4.50000</td>\n",
       "      <td>3.400000</td>\n",
       "      <td>16.400000</td>\n",
       "      <td>3.266613</td>\n",
       "      <td>3.427067</td>\n",
       "      <td>0.137860</td>\n",
       "      <td>0.195532</td>\n",
       "    </tr>\n",
       "    <tr>\n",
       "      <th>std</th>\n",
       "      <td>3.02765</td>\n",
       "      <td>1.264911</td>\n",
       "      <td>8.946756</td>\n",
       "      <td>0.681054</td>\n",
       "      <td>0.689866</td>\n",
       "      <td>0.113786</td>\n",
       "      <td>0.272582</td>\n",
       "    </tr>\n",
       "    <tr>\n",
       "      <th>min</th>\n",
       "      <td>0.00000</td>\n",
       "      <td>1.000000</td>\n",
       "      <td>4.000000</td>\n",
       "      <td>2.620496</td>\n",
       "      <td>2.759349</td>\n",
       "      <td>0.053654</td>\n",
       "      <td>0.038652</td>\n",
       "    </tr>\n",
       "    <tr>\n",
       "      <th>25%</th>\n",
       "      <td>2.25000</td>\n",
       "      <td>3.000000</td>\n",
       "      <td>9.750000</td>\n",
       "      <td>2.894450</td>\n",
       "      <td>2.918644</td>\n",
       "      <td>0.074806</td>\n",
       "      <td>0.050207</td>\n",
       "    </tr>\n",
       "    <tr>\n",
       "      <th>50%</th>\n",
       "      <td>4.50000</td>\n",
       "      <td>3.000000</td>\n",
       "      <td>15.000000</td>\n",
       "      <td>3.111578</td>\n",
       "      <td>3.406658</td>\n",
       "      <td>0.095132</td>\n",
       "      <td>0.090178</td>\n",
       "    </tr>\n",
       "    <tr>\n",
       "      <th>75%</th>\n",
       "      <td>6.75000</td>\n",
       "      <td>4.500000</td>\n",
       "      <td>22.250000</td>\n",
       "      <td>3.272273</td>\n",
       "      <td>3.615786</td>\n",
       "      <td>0.146254</td>\n",
       "      <td>0.178020</td>\n",
       "    </tr>\n",
       "    <tr>\n",
       "      <th>max</th>\n",
       "      <td>9.00000</td>\n",
       "      <td>5.000000</td>\n",
       "      <td>30.000000</td>\n",
       "      <td>5.010677</td>\n",
       "      <td>5.127605</td>\n",
       "      <td>0.431963</td>\n",
       "      <td>0.931127</td>\n",
       "    </tr>\n",
       "  </tbody>\n",
       "</table>\n",
       "</div>"
      ],
      "text/plain": [
       "            num   exposure    nbstars       prfx       pfry   sig_prfx  \\\n",
       "count  10.00000  10.000000  10.000000  10.000000  10.000000  10.000000   \n",
       "mean    4.50000   3.400000  16.400000   3.266613   3.427067   0.137860   \n",
       "std     3.02765   1.264911   8.946756   0.681054   0.689866   0.113786   \n",
       "min     0.00000   1.000000   4.000000   2.620496   2.759349   0.053654   \n",
       "25%     2.25000   3.000000   9.750000   2.894450   2.918644   0.074806   \n",
       "50%     4.50000   3.000000  15.000000   3.111578   3.406658   0.095132   \n",
       "75%     6.75000   4.500000  22.250000   3.272273   3.615786   0.146254   \n",
       "max     9.00000   5.000000  30.000000   5.010677   5.127605   0.431963   \n",
       "\n",
       "        sig_prfy  \n",
       "count  10.000000  \n",
       "mean    0.195532  \n",
       "std     0.272582  \n",
       "min     0.038652  \n",
       "25%     0.050207  \n",
       "50%     0.090178  \n",
       "75%     0.178020  \n",
       "max     0.931127  "
      ]
     },
     "execution_count": 43,
     "metadata": {},
     "output_type": "execute_result"
    }
   ],
   "source": [
    "df1_no_missing.describe()"
   ]
  },
  {
   "cell_type": "code",
   "execution_count": null,
   "metadata": {
    "collapsed": false
   },
   "outputs": [],
   "source": []
  },
  {
   "cell_type": "markdown",
   "metadata": {},
   "source": [
    "## Now use the number in the filename to overwrite the num"
   ]
  },
  {
   "cell_type": "code",
   "execution_count": 44,
   "metadata": {
    "collapsed": true
   },
   "outputs": [],
   "source": [
    "import re  # use regular expression to extract the file number"
   ]
  },
  {
   "cell_type": "code",
   "execution_count": 45,
   "metadata": {
    "collapsed": true
   },
   "outputs": [],
   "source": [
    "filenames_df1=df1['file']"
   ]
  },
  {
   "cell_type": "code",
   "execution_count": 46,
   "metadata": {
    "collapsed": false
   },
   "outputs": [],
   "source": [
    "NB_OF_FILES_df1=len(filenames_df1)"
   ]
  },
  {
   "cell_type": "code",
   "execution_count": 47,
   "metadata": {
    "collapsed": false
   },
   "outputs": [],
   "source": [
    "filenumber_df1=np.zeros(NB_OF_FILES_df1,dtype='i4')"
   ]
  },
  {
   "cell_type": "code",
   "execution_count": 48,
   "metadata": {
    "collapsed": false
   },
   "outputs": [],
   "source": [
    "for id,file in enumerate(filenames_df1):\n",
    "    filenumber_df1[id]=int( re.findall('^AssScImHD163466_y3_([0-9]+)',file)[0])"
   ]
  },
  {
   "cell_type": "code",
   "execution_count": 49,
   "metadata": {
    "collapsed": false
   },
   "outputs": [
    {
     "data": {
      "text/plain": [
       "array([ 1,  2,  3,  4,  5,  6,  7,  8,  9, 10], dtype=int32)"
      ]
     },
     "execution_count": 49,
     "metadata": {},
     "output_type": "execute_result"
    }
   ],
   "source": [
    "filenumber_df1"
   ]
  },
  {
   "cell_type": "code",
   "execution_count": 50,
   "metadata": {
    "collapsed": true
   },
   "outputs": [],
   "source": [
    "df1_3=df1"
   ]
  },
  {
   "cell_type": "code",
   "execution_count": 51,
   "metadata": {
    "collapsed": true
   },
   "outputs": [],
   "source": [
    "df1_3['num']=filenumber_df1"
   ]
  },
  {
   "cell_type": "code",
   "execution_count": 52,
   "metadata": {
    "collapsed": false
   },
   "outputs": [
    {
     "data": {
      "text/html": [
       "<div>\n",
       "<table border=\"1\" class=\"dataframe\">\n",
       "  <thead>\n",
       "    <tr style=\"text-align: right;\">\n",
       "      <th></th>\n",
       "      <th>num</th>\n",
       "      <th>file</th>\n",
       "      <th>time</th>\n",
       "      <th>exposure</th>\n",
       "      <th>nbstars</th>\n",
       "      <th>prfx</th>\n",
       "      <th>pfry</th>\n",
       "      <th>sig_prfx</th>\n",
       "      <th>sig_prfy</th>\n",
       "    </tr>\n",
       "  </thead>\n",
       "  <tbody>\n",
       "    <tr>\n",
       "      <th>0</th>\n",
       "      <td>1</td>\n",
       "      <td>AssScImHD163466_y3_1.fits</td>\n",
       "      <td>2016-05-10T08:31:46.221</td>\n",
       "      <td>1.0</td>\n",
       "      <td>7</td>\n",
       "      <td>3.144629</td>\n",
       "      <td>3.414667</td>\n",
       "      <td>0.062490</td>\n",
       "      <td>0.039988</td>\n",
       "    </tr>\n",
       "    <tr>\n",
       "      <th>1</th>\n",
       "      <td>2</td>\n",
       "      <td>AssScImHD163466_y3_2.fits</td>\n",
       "      <td>2016-05-10T08:33:17.773</td>\n",
       "      <td>5.0</td>\n",
       "      <td>23</td>\n",
       "      <td>3.235908</td>\n",
       "      <td>3.671687</td>\n",
       "      <td>0.210813</td>\n",
       "      <td>0.313203</td>\n",
       "    </tr>\n",
       "    <tr>\n",
       "      <th>2</th>\n",
       "      <td>3</td>\n",
       "      <td>AssScImHD163466_y3_3.fits</td>\n",
       "      <td>2016-05-10T08:33:27.174</td>\n",
       "      <td>5.0</td>\n",
       "      <td>30</td>\n",
       "      <td>3.284394</td>\n",
       "      <td>3.448085</td>\n",
       "      <td>0.153086</td>\n",
       "      <td>0.109240</td>\n",
       "    </tr>\n",
       "    <tr>\n",
       "      <th>3</th>\n",
       "      <td>4</td>\n",
       "      <td>AssScImHD163466_y3_4.fits</td>\n",
       "      <td>2016-05-10T08:33:36.166</td>\n",
       "      <td>5.0</td>\n",
       "      <td>29</td>\n",
       "      <td>3.078526</td>\n",
       "      <td>3.398650</td>\n",
       "      <td>0.074327</td>\n",
       "      <td>0.182716</td>\n",
       "    </tr>\n",
       "    <tr>\n",
       "      <th>4</th>\n",
       "      <td>5</td>\n",
       "      <td>AssScImHD163466_y3_5.fits</td>\n",
       "      <td>2016-05-10T08:38:53.776</td>\n",
       "      <td>3.0</td>\n",
       "      <td>9</td>\n",
       "      <td>5.010677</td>\n",
       "      <td>5.127605</td>\n",
       "      <td>0.431963</td>\n",
       "      <td>0.931127</td>\n",
       "    </tr>\n",
       "    <tr>\n",
       "      <th>5</th>\n",
       "      <td>6</td>\n",
       "      <td>AssScImHD163466_y3_6.fits</td>\n",
       "      <td>2016-05-10T08:39:35.943</td>\n",
       "      <td>3.0</td>\n",
       "      <td>4</td>\n",
       "      <td>3.668814</td>\n",
       "      <td>3.714386</td>\n",
       "      <td>0.125757</td>\n",
       "      <td>0.057610</td>\n",
       "    </tr>\n",
       "    <tr>\n",
       "      <th>6</th>\n",
       "      <td>7</td>\n",
       "      <td>AssScImHD163466_y3_7.fits</td>\n",
       "      <td>2016-05-10T08:40:17.637</td>\n",
       "      <td>3.0</td>\n",
       "      <td>15</td>\n",
       "      <td>2.620496</td>\n",
       "      <td>2.759349</td>\n",
       "      <td>0.053654</td>\n",
       "      <td>0.047739</td>\n",
       "    </tr>\n",
       "    <tr>\n",
       "      <th>7</th>\n",
       "      <td>8</td>\n",
       "      <td>AssScImHD163466_y3_8.fits</td>\n",
       "      <td>2016-05-10T08:41:40.854</td>\n",
       "      <td>3.0</td>\n",
       "      <td>12</td>\n",
       "      <td>3.026202</td>\n",
       "      <td>2.972252</td>\n",
       "      <td>0.089070</td>\n",
       "      <td>0.163931</td>\n",
       "    </tr>\n",
       "    <tr>\n",
       "      <th>8</th>\n",
       "      <td>9</td>\n",
       "      <td>AssScImHD163466_y3_9.fits</td>\n",
       "      <td>2016-05-10T08:41:47.875</td>\n",
       "      <td>3.0</td>\n",
       "      <td>15</td>\n",
       "      <td>2.850533</td>\n",
       "      <td>2.900775</td>\n",
       "      <td>0.076245</td>\n",
       "      <td>0.038652</td>\n",
       "    </tr>\n",
       "    <tr>\n",
       "      <th>9</th>\n",
       "      <td>10</td>\n",
       "      <td>AssScImHD163466_y3_10.fits</td>\n",
       "      <td>2016-05-10T08:41:54.822</td>\n",
       "      <td>3.0</td>\n",
       "      <td>20</td>\n",
       "      <td>2.745952</td>\n",
       "      <td>2.863218</td>\n",
       "      <td>0.101194</td>\n",
       "      <td>0.071117</td>\n",
       "    </tr>\n",
       "  </tbody>\n",
       "</table>\n",
       "</div>"
      ],
      "text/plain": [
       "   num                        file                     time  exposure  \\\n",
       "0    1   AssScImHD163466_y3_1.fits  2016-05-10T08:31:46.221       1.0   \n",
       "1    2   AssScImHD163466_y3_2.fits  2016-05-10T08:33:17.773       5.0   \n",
       "2    3   AssScImHD163466_y3_3.fits  2016-05-10T08:33:27.174       5.0   \n",
       "3    4   AssScImHD163466_y3_4.fits  2016-05-10T08:33:36.166       5.0   \n",
       "4    5   AssScImHD163466_y3_5.fits  2016-05-10T08:38:53.776       3.0   \n",
       "5    6   AssScImHD163466_y3_6.fits  2016-05-10T08:39:35.943       3.0   \n",
       "6    7   AssScImHD163466_y3_7.fits  2016-05-10T08:40:17.637       3.0   \n",
       "7    8   AssScImHD163466_y3_8.fits  2016-05-10T08:41:40.854       3.0   \n",
       "8    9   AssScImHD163466_y3_9.fits  2016-05-10T08:41:47.875       3.0   \n",
       "9   10  AssScImHD163466_y3_10.fits  2016-05-10T08:41:54.822       3.0   \n",
       "\n",
       "   nbstars      prfx      pfry  sig_prfx  sig_prfy  \n",
       "0        7  3.144629  3.414667  0.062490  0.039988  \n",
       "1       23  3.235908  3.671687  0.210813  0.313203  \n",
       "2       30  3.284394  3.448085  0.153086  0.109240  \n",
       "3       29  3.078526  3.398650  0.074327  0.182716  \n",
       "4        9  5.010677  5.127605  0.431963  0.931127  \n",
       "5        4  3.668814  3.714386  0.125757  0.057610  \n",
       "6       15  2.620496  2.759349  0.053654  0.047739  \n",
       "7       12  3.026202  2.972252  0.089070  0.163931  \n",
       "8       15  2.850533  2.900775  0.076245  0.038652  \n",
       "9       20  2.745952  2.863218  0.101194  0.071117  "
      ]
     },
     "execution_count": 52,
     "metadata": {},
     "output_type": "execute_result"
    }
   ],
   "source": [
    "df1_3"
   ]
  },
  {
   "cell_type": "code",
   "execution_count": 53,
   "metadata": {
    "collapsed": true
   },
   "outputs": [],
   "source": [
    "full_dataset=df1_3"
   ]
  },
  {
   "cell_type": "code",
   "execution_count": 54,
   "metadata": {
    "collapsed": false
   },
   "outputs": [
    {
     "data": {
      "text/plain": [
       "<matplotlib.figure.Figure at 0x10c09dd10>"
      ]
     },
     "metadata": {},
     "output_type": "display_data"
    },
    {
     "data": {
      "image/png": "[encoded data removed]",
      "text/plain": [
       "<matplotlib.figure.Figure at 0x10c0a5d50>"
      ]
     },
     "metadata": {},
     "output_type": "display_data"
    }
   ],
   "source": [
    "fig = plt.figure()\n",
    "full_dataset_2=full_dataset[['num', 'prfx','pfry']]\n",
    "ax=full_dataset_2.plot('num',['prfx','pfry'],lw=2,colormap='jet',marker='.',markersize=10,title='PSF in X and Y axis MONOCAM (2016/05/11) for HD158485_grat',ylim=(0.,6.),figsize=(15,5))\n",
    "ax.set_xlabel(\"image number\",fontsize=18)\n",
    "ax.set_ylabel(\" $\\sigma_x$ and $\\sigma_y$ in pixels\",fontsize=18)\n",
    "title='PSF in X and Y axis MONOCAM (2016/05/09) for HD163466_y3'\n",
    "fig.suptitle(title, fontsize=20)\n",
    "plt.legend(loc='upper right')\n",
    "\n",
    "fig.savefig('PRFXY_HD163466_y3_20160509.jpg')\n",
    "plt.show()  # pandas able to remove NaN\n",
    "\n"
   ]
  },
  {
   "cell_type": "code",
   "execution_count": null,
   "metadata": {
    "collapsed": false
   },
   "outputs": [],
   "source": []
  },
  {
   "cell_type": "code",
   "execution_count": 55,
   "metadata": {
    "collapsed": true
   },
   "outputs": [],
   "source": [
    "PixToArcsec=0.944"
   ]
  },
  {
   "cell_type": "code",
   "execution_count": 56,
   "metadata": {
    "collapsed": false
   },
   "outputs": [],
   "source": [
    "sigmax=full_dataset['prfx']*PixToArcsec"
   ]
  },
  {
   "cell_type": "code",
   "execution_count": 57,
   "metadata": {
    "collapsed": true
   },
   "outputs": [],
   "source": [
    "series_sigmax=pd.Series(sigmax)"
   ]
  },
  {
   "cell_type": "code",
   "execution_count": null,
   "metadata": {
    "collapsed": false
   },
   "outputs": [],
   "source": []
  },
  {
   "cell_type": "code",
   "execution_count": 58,
   "metadata": {
    "collapsed": true
   },
   "outputs": [],
   "source": [
    "sigmay=full_dataset['pfry']*PixToArcsec"
   ]
  },
  {
   "cell_type": "code",
   "execution_count": 59,
   "metadata": {
    "collapsed": true
   },
   "outputs": [],
   "source": [
    "series_sigmay=pd.Series(sigmay)"
   ]
  },
  {
   "cell_type": "code",
   "execution_count": 60,
   "metadata": {
    "collapsed": false
   },
   "outputs": [
    {
     "data": {
      "text/html": [
       "<div>\n",
       "<table border=\"1\" class=\"dataframe\">\n",
       "  <thead>\n",
       "    <tr style=\"text-align: right;\">\n",
       "      <th></th>\n",
       "      <th>num</th>\n",
       "      <th>file</th>\n",
       "      <th>time</th>\n",
       "      <th>exposure</th>\n",
       "      <th>nbstars</th>\n",
       "      <th>prfx</th>\n",
       "      <th>pfry</th>\n",
       "      <th>sig_prfx</th>\n",
       "      <th>sig_prfy</th>\n",
       "    </tr>\n",
       "  </thead>\n",
       "  <tbody>\n",
       "    <tr>\n",
       "      <th>0</th>\n",
       "      <td>1</td>\n",
       "      <td>AssScImHD163466_y3_1.fits</td>\n",
       "      <td>2016-05-10T08:31:46.221</td>\n",
       "      <td>1.0</td>\n",
       "      <td>7</td>\n",
       "      <td>3.144629</td>\n",
       "      <td>3.414667</td>\n",
       "      <td>0.062490</td>\n",
       "      <td>0.039988</td>\n",
       "    </tr>\n",
       "    <tr>\n",
       "      <th>1</th>\n",
       "      <td>2</td>\n",
       "      <td>AssScImHD163466_y3_2.fits</td>\n",
       "      <td>2016-05-10T08:33:17.773</td>\n",
       "      <td>5.0</td>\n",
       "      <td>23</td>\n",
       "      <td>3.235908</td>\n",
       "      <td>3.671687</td>\n",
       "      <td>0.210813</td>\n",
       "      <td>0.313203</td>\n",
       "    </tr>\n",
       "    <tr>\n",
       "      <th>2</th>\n",
       "      <td>3</td>\n",
       "      <td>AssScImHD163466_y3_3.fits</td>\n",
       "      <td>2016-05-10T08:33:27.174</td>\n",
       "      <td>5.0</td>\n",
       "      <td>30</td>\n",
       "      <td>3.284394</td>\n",
       "      <td>3.448085</td>\n",
       "      <td>0.153086</td>\n",
       "      <td>0.109240</td>\n",
       "    </tr>\n",
       "    <tr>\n",
       "      <th>3</th>\n",
       "      <td>4</td>\n",
       "      <td>AssScImHD163466_y3_4.fits</td>\n",
       "      <td>2016-05-10T08:33:36.166</td>\n",
       "      <td>5.0</td>\n",
       "      <td>29</td>\n",
       "      <td>3.078526</td>\n",
       "      <td>3.398650</td>\n",
       "      <td>0.074327</td>\n",
       "      <td>0.182716</td>\n",
       "    </tr>\n",
       "    <tr>\n",
       "      <th>4</th>\n",
       "      <td>5</td>\n",
       "      <td>AssScImHD163466_y3_5.fits</td>\n",
       "      <td>2016-05-10T08:38:53.776</td>\n",
       "      <td>3.0</td>\n",
       "      <td>9</td>\n",
       "      <td>5.010677</td>\n",
       "      <td>5.127605</td>\n",
       "      <td>0.431963</td>\n",
       "      <td>0.931127</td>\n",
       "    </tr>\n",
       "    <tr>\n",
       "      <th>5</th>\n",
       "      <td>6</td>\n",
       "      <td>AssScImHD163466_y3_6.fits</td>\n",
       "      <td>2016-05-10T08:39:35.943</td>\n",
       "      <td>3.0</td>\n",
       "      <td>4</td>\n",
       "      <td>3.668814</td>\n",
       "      <td>3.714386</td>\n",
       "      <td>0.125757</td>\n",
       "      <td>0.057610</td>\n",
       "    </tr>\n",
       "    <tr>\n",
       "      <th>6</th>\n",
       "      <td>7</td>\n",
       "      <td>AssScImHD163466_y3_7.fits</td>\n",
       "      <td>2016-05-10T08:40:17.637</td>\n",
       "      <td>3.0</td>\n",
       "      <td>15</td>\n",
       "      <td>2.620496</td>\n",
       "      <td>2.759349</td>\n",
       "      <td>0.053654</td>\n",
       "      <td>0.047739</td>\n",
       "    </tr>\n",
       "    <tr>\n",
       "      <th>7</th>\n",
       "      <td>8</td>\n",
       "      <td>AssScImHD163466_y3_8.fits</td>\n",
       "      <td>2016-05-10T08:41:40.854</td>\n",
       "      <td>3.0</td>\n",
       "      <td>12</td>\n",
       "      <td>3.026202</td>\n",
       "      <td>2.972252</td>\n",
       "      <td>0.089070</td>\n",
       "      <td>0.163931</td>\n",
       "    </tr>\n",
       "    <tr>\n",
       "      <th>8</th>\n",
       "      <td>9</td>\n",
       "      <td>AssScImHD163466_y3_9.fits</td>\n",
       "      <td>2016-05-10T08:41:47.875</td>\n",
       "      <td>3.0</td>\n",
       "      <td>15</td>\n",
       "      <td>2.850533</td>\n",
       "      <td>2.900775</td>\n",
       "      <td>0.076245</td>\n",
       "      <td>0.038652</td>\n",
       "    </tr>\n",
       "    <tr>\n",
       "      <th>9</th>\n",
       "      <td>10</td>\n",
       "      <td>AssScImHD163466_y3_10.fits</td>\n",
       "      <td>2016-05-10T08:41:54.822</td>\n",
       "      <td>3.0</td>\n",
       "      <td>20</td>\n",
       "      <td>2.745952</td>\n",
       "      <td>2.863218</td>\n",
       "      <td>0.101194</td>\n",
       "      <td>0.071117</td>\n",
       "    </tr>\n",
       "  </tbody>\n",
       "</table>\n",
       "</div>"
      ],
      "text/plain": [
       "   num                        file                     time  exposure  \\\n",
       "0    1   AssScImHD163466_y3_1.fits  2016-05-10T08:31:46.221       1.0   \n",
       "1    2   AssScImHD163466_y3_2.fits  2016-05-10T08:33:17.773       5.0   \n",
       "2    3   AssScImHD163466_y3_3.fits  2016-05-10T08:33:27.174       5.0   \n",
       "3    4   AssScImHD163466_y3_4.fits  2016-05-10T08:33:36.166       5.0   \n",
       "4    5   AssScImHD163466_y3_5.fits  2016-05-10T08:38:53.776       3.0   \n",
       "5    6   AssScImHD163466_y3_6.fits  2016-05-10T08:39:35.943       3.0   \n",
       "6    7   AssScImHD163466_y3_7.fits  2016-05-10T08:40:17.637       3.0   \n",
       "7    8   AssScImHD163466_y3_8.fits  2016-05-10T08:41:40.854       3.0   \n",
       "8    9   AssScImHD163466_y3_9.fits  2016-05-10T08:41:47.875       3.0   \n",
       "9   10  AssScImHD163466_y3_10.fits  2016-05-10T08:41:54.822       3.0   \n",
       "\n",
       "   nbstars      prfx      pfry  sig_prfx  sig_prfy  \n",
       "0        7  3.144629  3.414667  0.062490  0.039988  \n",
       "1       23  3.235908  3.671687  0.210813  0.313203  \n",
       "2       30  3.284394  3.448085  0.153086  0.109240  \n",
       "3       29  3.078526  3.398650  0.074327  0.182716  \n",
       "4        9  5.010677  5.127605  0.431963  0.931127  \n",
       "5        4  3.668814  3.714386  0.125757  0.057610  \n",
       "6       15  2.620496  2.759349  0.053654  0.047739  \n",
       "7       12  3.026202  2.972252  0.089070  0.163931  \n",
       "8       15  2.850533  2.900775  0.076245  0.038652  \n",
       "9       20  2.745952  2.863218  0.101194  0.071117  "
      ]
     },
     "execution_count": 60,
     "metadata": {},
     "output_type": "execute_result"
    }
   ],
   "source": [
    "full_dataset"
   ]
  },
  {
   "cell_type": "markdown",
   "metadata": {},
   "source": [
    "### simply add series as columns in the dataset"
   ]
  },
  {
   "cell_type": "code",
   "execution_count": 61,
   "metadata": {
    "collapsed": false
   },
   "outputs": [],
   "source": [
    "full_dataset['sigmax'] = series_sigmax"
   ]
  },
  {
   "cell_type": "code",
   "execution_count": 62,
   "metadata": {
    "collapsed": true
   },
   "outputs": [],
   "source": [
    "full_dataset['sigmay'] = series_sigmay"
   ]
  },
  {
   "cell_type": "code",
   "execution_count": 63,
   "metadata": {
    "collapsed": false
   },
   "outputs": [
    {
     "data": {
      "text/plain": [
       "<matplotlib.figure.Figure at 0x10c58b2d0>"
      ]
     },
     "metadata": {},
     "output_type": "display_data"
    },
    {
     "data": {
      "image/png": "[encoded data removed]",
      "text/plain": [
       "<matplotlib.figure.Figure at 0x10c588b10>"
      ]
     },
     "metadata": {},
     "output_type": "display_data"
    }
   ],
   "source": [
    "fig = plt.figure()\n",
    "full_dataset_3=full_dataset[['num', 'sigmax','sigmay']]\n",
    "ax=full_dataset_3.plot('num',['sigmax','sigmay'],lw=2,colormap='jet',marker='.',markersize=10,title='PSF in X and Y axis MONOCAM (2016/05/11) for HD158485_grat',ylim=(0.,6.),figsize=(15,5))\n",
    "ax.set_xlabel(\"image number\",fontsize=18)\n",
    "ax.set_ylabel(\" $\\sigma_x$ and $\\sigma_y$ in arcsecond\",fontsize=18)\n",
    "title='PSF in X and Y axis MONOCAM (2016/05/09) for HD163466_y3'\n",
    "fig.suptitle(title, fontsize=20)\n",
    "plt.legend(loc='upper right')\n",
    "plt.show()  # pandas able to remove NaN\n",
    "fig.savefig('PSFXY_HD163466_y3_20160509.jpg')"
   ]
  },
  {
   "cell_type": "code",
   "execution_count": 64,
   "metadata": {
    "collapsed": false
   },
   "outputs": [],
   "source": [
    "output_table=Table.from_pandas(full_dataset)"
   ]
  },
  {
   "cell_type": "code",
   "execution_count": 65,
   "metadata": {
    "collapsed": false
   },
   "outputs": [
    {
     "data": {
      "text/html": [
       "&lt;Table length=10&gt;\n",
       "<table id=\"table4496940688\">\n",
       "<thead><tr><th>num</th><th>file</th><th>time</th><th>exposure</th><th>nbstars</th><th>prfx</th><th>pfry</th><th>sig_prfx</th><th>sig_prfy</th><th>sigmax</th><th>sigmay</th></tr></thead>\n",
       "<thead><tr><th>int32</th><th>str26</th><th>str23</th><th>float64</th><th>int32</th><th>float64</th><th>float64</th><th>float64</th><th>float64</th><th>float64</th><th>float64</th></tr></thead>\n",
       "<tr><td>1</td><td>AssScImHD163466_y3_1.fits</td><td>2016-05-10T08:31:46.221</td><td>1.0</td><td>7</td><td>3.14462939981</td><td>3.41466663301</td><td>0.0624903435569</td><td>0.0399877500438</td><td>2.96853015342</td><td>3.22344530156</td></tr>\n",
       "<tr><td>2</td><td>AssScImHD163466_y3_2.fits</td><td>2016-05-10T08:33:17.773</td><td>5.0</td><td>23</td><td>3.23590764548</td><td>3.67168661807</td><td>0.210812621801</td><td>0.313203469327</td><td>3.05469681733</td><td>3.46607216746</td></tr>\n",
       "<tr><td>3</td><td>AssScImHD163466_y3_3.fits</td><td>2016-05-10T08:33:27.174</td><td>5.0</td><td>30</td><td>3.28439425917</td><td>3.44808452428</td><td>0.153086049741</td><td>0.109240066938</td><td>3.10046818065</td><td>3.25499179092</td></tr>\n",
       "<tr><td>4</td><td>AssScImHD163466_y3_4.fits</td><td>2016-05-10T08:33:36.166</td><td>5.0</td><td>29</td><td>3.07852576115</td><td>3.39865028239</td><td>0.0743265241544</td><td>0.182716405574</td><td>2.90612831853</td><td>3.20832586658</td></tr>\n",
       "<tr><td>5</td><td>AssScImHD163466_y3_5.fits</td><td>2016-05-10T08:38:53.776</td><td>3.0</td><td>9</td><td>5.01067679435</td><td>5.12760526598</td><td>0.431963018433</td><td>0.931127413941</td><td>4.73007889387</td><td>4.84045937108</td></tr>\n",
       "<tr><td>6</td><td>AssScImHD163466_y3_6.fits</td><td>2016-05-10T08:39:35.943</td><td>3.0</td><td>4</td><td>3.66881377389</td><td>3.71438578859</td><td>0.125757386795</td><td>0.0576096104765</td><td>3.46336020256</td><td>3.50638018443</td></tr>\n",
       "<tr><td>7</td><td>AssScImHD163466_y3_7.fits</td><td>2016-05-10T08:40:17.637</td><td>3.0</td><td>15</td><td>2.62049631174</td><td>2.75934903687</td><td>0.053654463766</td><td>0.0477390482732</td><td>2.47374851828</td><td>2.60482549081</td></tr>\n",
       "<tr><td>8</td><td>AssScImHD163466_y3_8.fits</td><td>2016-05-10T08:41:40.854</td><td>3.0</td><td>12</td><td>3.02620244552</td><td>2.97225160347</td><td>0.0890701171525</td><td>0.163930894688</td><td>2.85673510857</td><td>2.80580551367</td></tr>\n",
       "<tr><td>9</td><td>AssScImHD163466_y3_9.fits</td><td>2016-05-10T08:41:47.875</td><td>3.0</td><td>15</td><td>2.85053312944</td><td>2.90077455</td><td>0.076245483463</td><td>0.038651577062</td><td>2.69090327419</td><td>2.7383311752</td></tr>\n",
       "<tr><td>10</td><td>AssScImHD163466_y3_10.fits</td><td>2016-05-10T08:41:54.822</td><td>3.0</td><td>20</td><td>2.74595205679</td><td>2.86321797679</td><td>0.101194165365</td><td>0.0711165660995</td><td>2.59217874161</td><td>2.70287777009</td></tr>\n",
       "</table>"
      ],
      "text/plain": [
       "<Table length=10>\n",
       " num             file            ...     sigmax        sigmay   \n",
       "int32           str26            ...    float64       float64   \n",
       "----- -------------------------- ... ------------- -------------\n",
       "    1  AssScImHD163466_y3_1.fits ... 2.96853015342 3.22344530156\n",
       "    2  AssScImHD163466_y3_2.fits ... 3.05469681733 3.46607216746\n",
       "    3  AssScImHD163466_y3_3.fits ... 3.10046818065 3.25499179092\n",
       "    4  AssScImHD163466_y3_4.fits ... 2.90612831853 3.20832586658\n",
       "    5  AssScImHD163466_y3_5.fits ... 4.73007889387 4.84045937108\n",
       "    6  AssScImHD163466_y3_6.fits ... 3.46336020256 3.50638018443\n",
       "    7  AssScImHD163466_y3_7.fits ... 2.47374851828 2.60482549081\n",
       "    8  AssScImHD163466_y3_8.fits ... 2.85673510857 2.80580551367\n",
       "    9  AssScImHD163466_y3_9.fits ... 2.69090327419  2.7383311752\n",
       "   10 AssScImHD163466_y3_10.fits ... 2.59217874161 2.70287777009"
      ]
     },
     "execution_count": 65,
     "metadata": {},
     "output_type": "execute_result"
    }
   ],
   "source": [
    "output_table"
   ]
  },
  {
   "cell_type": "code",
   "execution_count": 68,
   "metadata": {
    "collapsed": false
   },
   "outputs": [
    {
     "ename": "TypeError",
     "evalue": "write_table_fits() got an unexpected keyword argument 'clober'",
     "output_type": "error",
     "traceback": [
      "\u001b[0;31m---------------------------------------------------------------------------\u001b[0m",
      "\u001b[0;31mTypeError\u001b[0m                                 Traceback (most recent call last)",
      "\u001b[0;32m<ipython-input-68-5a454dac0c3f>\u001b[0m in \u001b[0;36m<module>\u001b[0;34m()\u001b[0m\n\u001b[1;32m      1\u001b[0m \u001b[0moutputtablefile\u001b[0m\u001b[0;34m=\u001b[0m\u001b[0;34m'HD163466_y3_1-10_TablePSF_night20160509.fits'\u001b[0m\u001b[0;34m\u001b[0m\u001b[0m\n\u001b[0;32m----> 2\u001b[0;31m \u001b[0moutput_table\u001b[0m\u001b[0;34m.\u001b[0m\u001b[0mwrite\u001b[0m\u001b[0;34m(\u001b[0m\u001b[0moutputtablefile\u001b[0m\u001b[0;34m,\u001b[0m\u001b[0mformat\u001b[0m\u001b[0;34m=\u001b[0m\u001b[0;34m'fits'\u001b[0m\u001b[0;34m,\u001b[0m\u001b[0mclober\u001b[0m\u001b[0;34m=\u001b[0m\u001b[0mTrue\u001b[0m\u001b[0;34m)\u001b[0m\u001b[0;34m\u001b[0m\u001b[0m\n\u001b[0m",
      "\u001b[0;32m/Users/dagoret-campagnesylvie/anaconda/envs/pyastrophys/lib/python2.7/site-packages/astropy/table/table.pyc\u001b[0m in \u001b[0;36mwrite\u001b[0;34m(self, *args, **kwargs)\u001b[0m\n\u001b[1;32m   2276\u001b[0m         \u001b[0mpassed\u001b[0m \u001b[0mthrough\u001b[0m \u001b[0mto\u001b[0m \u001b[0mthe\u001b[0m \u001b[0munderlying\u001b[0m \u001b[0mdata\u001b[0m \u001b[0mreader\u001b[0m \u001b[0;34m(\u001b[0m\u001b[0me\u001b[0m\u001b[0;34m.\u001b[0m\u001b[0mg\u001b[0m\u001b[0;34m.\u001b[0m \u001b[0;34m`\u001b[0m\u001b[0;34m~\u001b[0m\u001b[0mastropy\u001b[0m\u001b[0;34m.\u001b[0m\u001b[0mio\u001b[0m\u001b[0;34m.\u001b[0m\u001b[0mascii\u001b[0m\u001b[0;34m.\u001b[0m\u001b[0mwrite\u001b[0m\u001b[0;34m`\u001b[0m\u001b[0;34m)\u001b[0m\u001b[0;34m.\u001b[0m\u001b[0;34m\u001b[0m\u001b[0m\n\u001b[1;32m   2277\u001b[0m         \"\"\"\n\u001b[0;32m-> 2278\u001b[0;31m         \u001b[0mio_registry\u001b[0m\u001b[0;34m.\u001b[0m\u001b[0mwrite\u001b[0m\u001b[0;34m(\u001b[0m\u001b[0mself\u001b[0m\u001b[0;34m,\u001b[0m \u001b[0;34m*\u001b[0m\u001b[0margs\u001b[0m\u001b[0;34m,\u001b[0m \u001b[0;34m**\u001b[0m\u001b[0mkwargs\u001b[0m\u001b[0;34m)\u001b[0m\u001b[0;34m\u001b[0m\u001b[0m\n\u001b[0m\u001b[1;32m   2279\u001b[0m \u001b[0;34m\u001b[0m\u001b[0m\n\u001b[1;32m   2280\u001b[0m     \u001b[0;32mdef\u001b[0m \u001b[0mcopy\u001b[0m\u001b[0;34m(\u001b[0m\u001b[0mself\u001b[0m\u001b[0;34m,\u001b[0m \u001b[0mcopy_data\u001b[0m\u001b[0;34m=\u001b[0m\u001b[0mTrue\u001b[0m\u001b[0;34m)\u001b[0m\u001b[0;34m:\u001b[0m\u001b[0;34m\u001b[0m\u001b[0m\n",
      "\u001b[0;32m/Users/dagoret-campagnesylvie/anaconda/envs/pyastrophys/lib/python2.7/site-packages/astropy/io/registry.pyc\u001b[0m in \u001b[0;36mwrite\u001b[0;34m(data, *args, **kwargs)\u001b[0m\n\u001b[1;32m    394\u001b[0m \u001b[0;34m\u001b[0m\u001b[0m\n\u001b[1;32m    395\u001b[0m     \u001b[0mwriter\u001b[0m \u001b[0;34m=\u001b[0m \u001b[0mget_writer\u001b[0m\u001b[0;34m(\u001b[0m\u001b[0mformat\u001b[0m\u001b[0;34m,\u001b[0m \u001b[0mdata\u001b[0m\u001b[0;34m.\u001b[0m\u001b[0m__class__\u001b[0m\u001b[0;34m)\u001b[0m\u001b[0;34m\u001b[0m\u001b[0m\n\u001b[0;32m--> 396\u001b[0;31m     \u001b[0mwriter\u001b[0m\u001b[0;34m(\u001b[0m\u001b[0mdata\u001b[0m\u001b[0;34m,\u001b[0m \u001b[0;34m*\u001b[0m\u001b[0margs\u001b[0m\u001b[0;34m,\u001b[0m \u001b[0;34m**\u001b[0m\u001b[0mkwargs\u001b[0m\u001b[0;34m)\u001b[0m\u001b[0;34m\u001b[0m\u001b[0m\n\u001b[0m\u001b[1;32m    397\u001b[0m \u001b[0;34m\u001b[0m\u001b[0m\n\u001b[1;32m    398\u001b[0m \u001b[0;34m\u001b[0m\u001b[0m\n",
      "\u001b[0;31mTypeError\u001b[0m: write_table_fits() got an unexpected keyword argument 'clober'"
     ]
    }
   ],
   "source": [
    "outputtablefile='HD163466_y3_1-10_TablePSF_night20160509.fits'\n",
    "output_table.write(outputtablefile,format='fits')"
   ]
  },
  {
   "cell_type": "code",
   "execution_count": null,
   "metadata": {
    "collapsed": true
   },
   "outputs": [],
   "source": [
    "t2 = Table.read(outputtablefile)"
   ]
  },
  {
   "cell_type": "code",
   "execution_count": null,
   "metadata": {
    "collapsed": false
   },
   "outputs": [],
   "source": [
    "t2"
   ]
  },
  {
   "cell_type": "code",
   "execution_count": null,
   "metadata": {
    "collapsed": true
   },
   "outputs": [],
   "source": []
  }
 ],
 "metadata": {
  "kernelspec": {
   "display_name": "Python 2",
   "language": "python",
   "name": "python2"
  },
  "language_info": {
   "codemirror_mode": {
    "name": "ipython",
    "version": 2
   },
   "file_extension": ".py",
   "mimetype": "text/x-python",
   "name": "python",
   "nbconvert_exporter": "python",
   "pygments_lexer": "ipython2",
   "version": "2.7.12"
  }
 },
 "nbformat": 4,
 "nbformat_minor": 0
}
