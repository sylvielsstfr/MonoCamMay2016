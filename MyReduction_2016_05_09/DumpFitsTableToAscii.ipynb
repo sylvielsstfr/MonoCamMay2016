{
 "cells": [
  {
   "cell_type": "markdown",
   "metadata": {},
   "source": [
    "# Dump a fits table into an ascii file"
   ]
  },
  {
   "cell_type": "code",
   "execution_count": 16,
   "metadata": {
    "collapsed": true
   },
   "outputs": [],
   "source": [
    "import urllib\n",
    "import IPython.display\n",
    "import numpy as np\n",
    "import astropy"
   ]
  },
  {
   "cell_type": "code",
   "execution_count": 17,
   "metadata": {
    "collapsed": false
   },
   "outputs": [],
   "source": [
    "%matplotlib inline\n",
    "from matplotlib import pyplot as plt\n",
    "import matplotlib\n",
    "matplotlib.rc_file(\"../templates/matplotlibrc\")"
   ]
  },
  {
   "cell_type": "code",
   "execution_count": 18,
   "metadata": {
    "collapsed": true
   },
   "outputs": [],
   "source": [
    "from astropy import units as u\n",
    "from astropy.coordinates import SkyCoord\n",
    "from astropy.coordinates import Angle\n",
    "from astropy.table import Table\n",
    "from astropy.coordinates import Angle\n",
    "from astropy.time import Time, TimeDelta,TimezoneInfo"
   ]
  },
  {
   "cell_type": "code",
   "execution_count": 19,
   "metadata": {
    "collapsed": true
   },
   "outputs": [],
   "source": [
    "from datetime import datetime\n",
    "from pytz import timezone\n",
    "import pytz\n",
    "import pandas as pd"
   ]
  },
  {
   "cell_type": "code",
   "execution_count": 20,
   "metadata": {
    "collapsed": true
   },
   "outputs": [],
   "source": [
    "from astropy.visualization import astropy_mpl_style\n",
    "plt.style.use(astropy_mpl_style)"
   ]
  },
  {
   "cell_type": "code",
   "execution_count": 21,
   "metadata": {
    "collapsed": true
   },
   "outputs": [],
   "source": [
    "from astropy.coordinates import SkyCoord, EarthLocation, AltAz"
   ]
  },
  {
   "cell_type": "markdown",
   "metadata": {},
   "source": [
    "## Read the data from the fits file table\n",
    "\n",
    "\n",
    "This file is a kind of logbook written in a fits format.\n",
    "It includes the file number, the UTC time and the airmass for all the HD158485_grat_1-25\n",
    "during the night 2016-05-09-10"
   ]
  },
  {
   "cell_type": "code",
   "execution_count": 22,
   "metadata": {
    "collapsed": true
   },
   "outputs": [],
   "source": [
    "tablefile_HD158485_PSF_with_AM='HD158485_grat_1-25_TablePSF_night20160509_withAM.fits'\n",
    "asciifile_HD158485_PSF_with_AM='HD158485_grat_1-25_TablePSF_night20160509_withAM.txt'\n",
    "excelfile_HD158485_PSF_with_AM='HD158485_grat_1-25_TablePSF_night20160509_withAM.xlsx'"
   ]
  },
  {
   "cell_type": "code",
   "execution_count": 23,
   "metadata": {
    "collapsed": true
   },
   "outputs": [],
   "source": [
    "tablefile_HD158485_PSF_with_AM='HD163466_y3_1-10_TablePSF_night20160509_withAM.fits'\n",
    "asciifile_HD158485_PSF_with_AM='HD163466_y3_1-10_TablePSF_night20160509_withAM.txt'\n",
    "excelfile_HD158485_PSF_with_AM='HD163466_y3_1-10_TablePSF_night20160509_withAM.xlsx'"
   ]
  },
  {
   "cell_type": "code",
   "execution_count": 24,
   "metadata": {
    "collapsed": true
   },
   "outputs": [],
   "source": [
    "tablefile_HD158485_PSF_with_AM='HD163466_y4_1-8_TablePSF_night20160509_withAM.fits'\n",
    "asciifile_HD158485_PSF_with_AM='HD163466_y4_1-8_TablePSF_night20160509_withAM.txt'\n",
    "excelfile_HD158485_PSF_with_AM='HD163466_y4_1-8_TablePSF_night20160509_withAM.xlsx'"
   ]
  },
  {
   "cell_type": "code",
   "execution_count": 25,
   "metadata": {
    "collapsed": false
   },
   "outputs": [],
   "source": [
    "t = Table.read(tablefile_HD158485_PSF_with_AM)"
   ]
  },
  {
   "cell_type": "code",
   "execution_count": 26,
   "metadata": {
    "collapsed": false
   },
   "outputs": [
    {
     "data": {
      "text/html": [
       "&lt;Table length=8&gt;\n",
       "<table id=\"table4485636944-297292\" class=\"table table-striped table-bordered table-condensed\">\n",
       "<thead><tr><th>num</th><th>file</th><th>time</th><th>exposure</th><th>nbstars</th><th>prfx</th><th>pfry</th><th>sig_prfx</th><th>sig_prfy</th><th>sigmax</th><th>sigmay</th><th>azimuth</th><th>altitude</th><th>airmass</th></tr></thead>\n",
       "<thead><tr><th></th><th></th><th></th><th></th><th></th><th></th><th></th><th></th><th></th><th></th><th></th><th>deg</th><th>deg</th><th></th></tr></thead>\n",
       "<tr><td>1</td><td>AssScImHD163466_y4_1.fits</td><td>2016-05-10T08:43:22.192</td><td>3.0</td><td>23</td><td>2.80810530353</td><td>2.93709578691</td><td>0.0717107607457</td><td>0.0760826986652</td><td>2.65085140654</td><td>2.77261842284</td><td>21.2759873834</td><td>61.5514990281</td><td>1.13733859264</td></tr>\n",
       "<tr><td>2</td><td>AssScImHD163466_y4_2.fits</td><td>2016-05-10T08:43:29.513</td><td>3.0</td><td>23</td><td>2.68655532696</td><td>2.86879575208</td><td>0.0819848604541</td><td>0.0456488029924</td><td>2.53610822865</td><td>2.70814318997</td><td>21.2506032</td><td>61.5605651151</td><td>1.13724111178</td></tr>\n",
       "<tr><td>3</td><td>AssScImHD163466_y4_3.fits</td><td>2016-05-10T08:43:36.463</td><td>3.0</td><td>25</td><td>2.64452856755</td><td>2.69076001366</td><td>0.0755942751507</td><td>0.0286223131641</td><td>2.49643496776</td><td>2.54007745289</td><td>21.226483495</td><td>61.5691622123</td><td>1.13714871535</td></tr>\n",
       "<tr><td>4</td><td>AssScImHD163466_y4_4.fits</td><td>2016-05-10T08:43:43.448</td><td>3.0</td><td>30</td><td>2.6723065947</td><td>2.72932681468</td><td>0.0708837703989</td><td>0.249819800909</td><td>2.52265742539</td><td>2.57648451306</td><td>21.2022208419</td><td>61.5777932169</td><td>1.13705599536</td></tr>\n",
       "<tr><td>5</td><td>AssScImHD163466_y4_5.fits</td><td>2016-05-10T08:44:47.481</td><td>1.5</td><td>16</td><td>2.85770605392</td><td>2.76551370117</td><td>0.236654258462</td><td>0.0724385881085</td><td>2.6976745149</td><td>2.61064493391</td><td>20.9787970371</td><td>61.6564751982</td><td>1.13621262613</td></tr>\n",
       "<tr><td>6</td><td>AssScImHD163466_y4_6.fits</td><td>2016-05-10T08:44:52.918</td><td>1.5</td><td>14</td><td>2.78575614456</td><td>2.87539302862</td><td>0.0807985674717</td><td>0.0585594161166</td><td>2.62975380047</td><td>2.71437101901</td><td>20.9597430413</td><td>61.6631193232</td><td>1.13614156504</td></tr>\n",
       "<tr><td>7</td><td>AssScImHD163466_y4_7.fits</td><td>2016-05-10T08:44:58.453</td><td>1.5</td><td>11</td><td>2.77968098699</td><td>2.90044545098</td><td>0.0623518794852</td><td>0.0405807569436</td><td>2.62401885172</td><td>2.73802050573</td><td>20.9403322331</td><td>61.6698772817</td><td>1.13606931126</td></tr>\n",
       "<tr><td>8</td><td>AssScImHD163466_y4_8.fits</td><td>2016-05-10T08:45:04.001</td><td>1.5</td><td>13</td><td>2.66223236329</td><td>2.8031331225</td><td>0.0747038608423</td><td>0.08107409864</td><td>2.51314735094</td><td>2.64615766764</td><td>20.9208622998</td><td>61.6766451091</td><td>1.13599697701</td></tr>\n",
       "</table><style>table.dataTable {clear: both; width: auto !important; margin: 0 !important;}\n",
       ".dataTables_info, .dataTables_length, .dataTables_filter, .dataTables_paginate{\n",
       "display: inline-block; margin-right: 1em; }\n",
       ".paginate_button { margin-right: 5px; }\n",
       "</style>\n",
       "<script>\n",
       "require.config({paths: {\n",
       "    datatables: 'https://cdn.datatables.net/1.10.9/js/jquery.dataTables.min'\n",
       "}});\n",
       "require([\"datatables\"], function(){\n",
       "    console.log(\"$('#table4485636944-297292').dataTable()\");\n",
       "    $('#table4485636944-297292').dataTable({\n",
       "        \"order\": [],\n",
       "        \"iDisplayLength\": 50,\n",
       "        \"aLengthMenu\": [[10, 25, 50, 100, 500, 1000, -1], [10, 25, 50, 100, 500, 1000, 'All']],\n",
       "        \"pagingType\": \"full_numbers\"\n",
       "    });\n",
       "});\n",
       "</script>\n"
      ],
      "text/plain": [
       "<IPython.core.display.HTML object>"
      ]
     },
     "execution_count": 26,
     "metadata": {},
     "output_type": "execute_result"
    }
   ],
   "source": [
    "t.show_in_notebook()"
   ]
  },
  {
   "cell_type": "code",
   "execution_count": 27,
   "metadata": {
    "collapsed": false
   },
   "outputs": [],
   "source": [
    "t.write(asciifile_HD158485_PSF_with_AM,format='ascii')"
   ]
  },
  {
   "cell_type": "markdown",
   "metadata": {},
   "source": [
    "## write in excel"
   ]
  },
  {
   "cell_type": "code",
   "execution_count": 28,
   "metadata": {
    "collapsed": false
   },
   "outputs": [],
   "source": [
    "df=t.to_pandas()"
   ]
  },
  {
   "cell_type": "code",
   "execution_count": 29,
   "metadata": {
    "collapsed": false
   },
   "outputs": [],
   "source": [
    "writer = pd.ExcelWriter(excelfile_HD158485_PSF_with_AM,engine='xlsxwriter')"
   ]
  },
  {
   "cell_type": "code",
   "execution_count": 30,
   "metadata": {
    "collapsed": false
   },
   "outputs": [],
   "source": [
    "df.to_excel(writer,sheet_name='Sheet1')"
   ]
  },
  {
   "cell_type": "code",
   "execution_count": 31,
   "metadata": {
    "collapsed": false
   },
   "outputs": [],
   "source": [
    "writer.save()"
   ]
  }
 ],
 "metadata": {
  "kernelspec": {
   "display_name": "Python 2",
   "language": "python",
   "name": "python2"
  },
  "language_info": {
   "codemirror_mode": {
    "name": "ipython",
    "version": 2
   },
   "file_extension": ".py",
   "mimetype": "text/x-python",
   "name": "python",
   "nbconvert_exporter": "python",
   "pygments_lexer": "ipython2",
   "version": "2.7.12"
  }
 },
 "nbformat": 4,
 "nbformat_minor": 0
}
