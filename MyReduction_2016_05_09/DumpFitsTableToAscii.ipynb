{
 "cells": [
  {
   "cell_type": "markdown",
   "metadata": {},
   "source": [
    "# Dump a fits table into an ascii file"
   ]
  },
  {
   "cell_type": "code",
   "execution_count": 37,
   "metadata": {
    "collapsed": true
   },
   "outputs": [],
   "source": [
    "import urllib\n",
    "import IPython.display\n",
    "import numpy as np\n",
    "import astropy"
   ]
  },
  {
   "cell_type": "code",
   "execution_count": 38,
   "metadata": {
    "collapsed": false
   },
   "outputs": [],
   "source": [
    "%matplotlib inline\n",
    "from matplotlib import pyplot as plt\n",
    "import matplotlib\n",
    "matplotlib.rc_file(\"../templates/matplotlibrc\")"
   ]
  },
  {
   "cell_type": "code",
   "execution_count": 39,
   "metadata": {
    "collapsed": true
   },
   "outputs": [],
   "source": [
    "from astropy import units as u\n",
    "from astropy.coordinates import SkyCoord\n",
    "from astropy.coordinates import Angle\n",
    "from astropy.table import Table\n",
    "from astropy.coordinates import Angle\n",
    "from astropy.time import Time, TimeDelta,TimezoneInfo"
   ]
  },
  {
   "cell_type": "code",
   "execution_count": 40,
   "metadata": {
    "collapsed": true
   },
   "outputs": [],
   "source": [
    "from datetime import datetime\n",
    "from pytz import timezone\n",
    "import pytz\n",
    "import pandas as pd"
   ]
  },
  {
   "cell_type": "code",
   "execution_count": 41,
   "metadata": {
    "collapsed": true
   },
   "outputs": [],
   "source": [
    "from astropy.visualization import astropy_mpl_style\n",
    "plt.style.use(astropy_mpl_style)"
   ]
  },
  {
   "cell_type": "code",
   "execution_count": 42,
   "metadata": {
    "collapsed": true
   },
   "outputs": [],
   "source": [
    "from astropy.coordinates import SkyCoord, EarthLocation, AltAz"
   ]
  },
  {
   "cell_type": "markdown",
   "metadata": {},
   "source": [
    "## Read the data from the fits file table\n",
    "\n",
    "\n",
    "This file is a kind of logbook written in a fits format.\n",
    "It includes the file number, the UTC time and the airmass for all the HD158485_grat_1-25\n",
    "during the night 2016-05-09-10"
   ]
  },
  {
   "cell_type": "code",
   "execution_count": 43,
   "metadata": {
    "collapsed": true
   },
   "outputs": [],
   "source": [
    "tablefile_HD158485_PSF_with_AM='HD158485_grat_1-25_TablePSF_night20160509_withAM.fits'\n",
    "asciifile_HD158485_PSF_with_AM='HD158485_grat_1-25_TablePSF_night20160509_withAM.txt'\n",
    "excelfile_HD158485_PSF_with_AM='HD158485_grat_1-25_TablePSF_night20160509_withAM.xlsx'"
   ]
  },
  {
   "cell_type": "code",
   "execution_count": 44,
   "metadata": {
    "collapsed": true
   },
   "outputs": [],
   "source": [
    "tablefile_HD158485_PSF_with_AM='HD163466_y3_1-10_TablePSF_night20160509_withAM.fits'\n",
    "asciifile_HD158485_PSF_with_AM='HD163466_y3_1-10_TablePSF_night20160509_withAM.txt'\n",
    "excelfile_HD158485_PSF_with_AM='HD163466_y3_1-10_TablePSF_night20160509_withAM.xlsx'"
   ]
  },
  {
   "cell_type": "code",
   "execution_count": 45,
   "metadata": {
    "collapsed": true
   },
   "outputs": [],
   "source": [
    "tablefile_HD158485_PSF_with_AM='HD163466_y4_1-8_TablePSF_night20160509_withAM.fits'\n",
    "asciifile_HD158485_PSF_with_AM='HD163466_y4_1-8_TablePSF_night20160509_withAM.txt'\n",
    "excelfile_HD158485_PSF_with_AM='HD163466_y4_1-8_TablePSF_night20160509_withAM.xlsx'"
   ]
  },
  {
   "cell_type": "code",
   "execution_count": 46,
   "metadata": {
    "collapsed": true
   },
   "outputs": [],
   "source": [
    "tablefile_HD158485_PSF_with_AM='HD163466_y3_1-10_TablePhotometry.fits'\n",
    "asciifile_HD158485_PSF_with_AM='HD163466_y3_1-10_TablePhotometry.txt'\n",
    "excelfile_HD158485_PSF_with_AM='HD163466_y3_1-10_TablePhotometry.fits.xlsx'"
   ]
  },
  {
   "cell_type": "code",
   "execution_count": 47,
   "metadata": {
    "collapsed": true
   },
   "outputs": [],
   "source": [
    "#tablefile_HD158485_PSF_with_AM='HD163466_y4_1-8_TablePhotometry.fits'\n",
    "#asciifile_HD158485_PSF_with_AM='HD163466_y4_1-8_TablePhotometry.txt'\n",
    "#excelfile_HD158485_PSF_with_AM='HD163466_y4_1-8_TablePhotometry.fits.xlsx'"
   ]
  },
  {
   "cell_type": "code",
   "execution_count": 48,
   "metadata": {
    "collapsed": false
   },
   "outputs": [],
   "source": [
    "t = Table.read(tablefile_HD158485_PSF_with_AM)"
   ]
  },
  {
   "cell_type": "code",
   "execution_count": 49,
   "metadata": {
    "collapsed": false
   },
   "outputs": [
    {
     "data": {
      "text/html": [
       "&lt;Table length=10&gt;\n",
       "<table id=\"table4485665744-531144\" class=\"table table-striped table-bordered table-condensed\">\n",
       "<thead><tr><th>object</th><th>time</th><th>exposure</th><th>sigmaxpix_psf</th><th>sigmaypix_psf</th><th>aperture_sum_raw</th><th>aperture_sum_bkg</th><th>residual_aperture_sum</th></tr></thead>\n",
       "<tr><td>HD163466_y3_1</td><td>2016-05-10T08:31:46.221</td><td>1.0</td><td>27.9355238243</td><td>50.7638218191</td><td>152496.623345</td><td>43.4335359462</td><td>152480.335769</td></tr>\n",
       "<tr><td>HD163466_y3_2</td><td>2016-05-10T08:33:17.773</td><td>5.0</td><td>12.7004985637</td><td>22.5158503933</td><td>153756.742892</td><td>-53.4569340686</td><td>153776.789242</td></tr>\n",
       "<tr><td>HD163466_y3_3</td><td>2016-05-10T08:33:27.174</td><td>5.0</td><td>11.8502581836</td><td>23.5563747919</td><td>154181.493858</td><td>-541.694180763</td><td>154384.629176</td></tr>\n",
       "<tr><td>HD163466_y3_4</td><td>2016-05-10T08:33:36.166</td><td>5.0</td><td>13.7024476858</td><td>23.8571626354</td><td>154368.358359</td><td>105.968906605</td><td>154328.620019</td></tr>\n",
       "<tr><td>HD163466_y3_5</td><td>2016-05-10T08:38:53.776</td><td>3.0</td><td>18.582359104</td><td>31.0596897639</td><td>154103.113905</td><td>-393.359011273</td><td>154250.623534</td></tr>\n",
       "<tr><td>HD163466_y3_6</td><td>2016-05-10T08:39:35.943</td><td>3.0</td><td>15.0917204103</td><td>30.3126129762</td><td>154476.754213</td><td>559.631399077</td><td>154266.892438</td></tr>\n",
       "<tr><td>HD163466_y3_7</td><td>2016-05-10T08:40:17.637</td><td>3.0</td><td>15.4492129639</td><td>29.3401153338</td><td>155018.343643</td><td>-73.1499777677</td><td>155045.774885</td></tr>\n",
       "<tr><td>HD163466_y3_8</td><td>2016-05-10T08:41:40.854</td><td>3.0</td><td>13.6816082015</td><td>27.7515764221</td><td>154205.552189</td><td>-884.626290815</td><td>154537.287048</td></tr>\n",
       "<tr><td>HD163466_y3_9</td><td>2016-05-10T08:41:47.875</td><td>3.0</td><td>13.3992970766</td><td>27.2496388726</td><td>154748.763476</td><td>-704.138894154</td><td>155012.815561</td></tr>\n",
       "<tr><td>HD163466_y3_10</td><td>2016-05-10T08:41:54.822</td><td>3.0</td><td>15.6555387364</td><td>31.3446927303</td><td>154889.380543</td><td>160.634953929</td><td>154829.142435</td></tr>\n",
       "</table><style>table.dataTable {clear: both; width: auto !important; margin: 0 !important;}\n",
       ".dataTables_info, .dataTables_length, .dataTables_filter, .dataTables_paginate{\n",
       "display: inline-block; margin-right: 1em; }\n",
       ".paginate_button { margin-right: 5px; }\n",
       "</style>\n",
       "<script>\n",
       "require.config({paths: {\n",
       "    datatables: 'https://cdn.datatables.net/1.10.9/js/jquery.dataTables.min'\n",
       "}});\n",
       "require([\"datatables\"], function(){\n",
       "    console.log(\"$('#table4485665744-531144').dataTable()\");\n",
       "    $('#table4485665744-531144').dataTable({\n",
       "        \"order\": [],\n",
       "        \"iDisplayLength\": 50,\n",
       "        \"aLengthMenu\": [[10, 25, 50, 100, 500, 1000, -1], [10, 25, 50, 100, 500, 1000, 'All']],\n",
       "        \"pagingType\": \"full_numbers\"\n",
       "    });\n",
       "});\n",
       "</script>\n"
      ],
      "text/plain": [
       "<IPython.core.display.HTML object>"
      ]
     },
     "execution_count": 49,
     "metadata": {},
     "output_type": "execute_result"
    }
   ],
   "source": [
    "t.show_in_notebook()"
   ]
  },
  {
   "cell_type": "code",
   "execution_count": 50,
   "metadata": {
    "collapsed": false
   },
   "outputs": [],
   "source": [
    "t.write(asciifile_HD158485_PSF_with_AM,format='ascii')"
   ]
  },
  {
   "cell_type": "markdown",
   "metadata": {},
   "source": [
    "## write in excel"
   ]
  },
  {
   "cell_type": "code",
   "execution_count": 51,
   "metadata": {
    "collapsed": false
   },
   "outputs": [],
   "source": [
    "df=t.to_pandas()"
   ]
  },
  {
   "cell_type": "code",
   "execution_count": 52,
   "metadata": {
    "collapsed": false
   },
   "outputs": [],
   "source": [
    "writer = pd.ExcelWriter(excelfile_HD158485_PSF_with_AM,engine='xlsxwriter')"
   ]
  },
  {
   "cell_type": "code",
   "execution_count": 53,
   "metadata": {
    "collapsed": false
   },
   "outputs": [],
   "source": [
    "df.to_excel(writer,sheet_name='Sheet1')"
   ]
  },
  {
   "cell_type": "code",
   "execution_count": 54,
   "metadata": {
    "collapsed": false
   },
   "outputs": [],
   "source": [
    "writer.save()"
   ]
  }
 ],
 "metadata": {
  "kernelspec": {
   "display_name": "Python 2",
   "language": "python",
   "name": "python2"
  },
  "language_info": {
   "codemirror_mode": {
    "name": "ipython",
    "version": 2
   },
   "file_extension": ".py",
   "mimetype": "text/x-python",
   "name": "python",
   "nbconvert_exporter": "python",
   "pygments_lexer": "ipython2",
   "version": "2.7.12"
  }
 },
 "nbformat": 4,
 "nbformat_minor": 0
}
