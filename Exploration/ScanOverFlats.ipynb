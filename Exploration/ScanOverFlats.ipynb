{
 "cells": [
  {
   "cell_type": "markdown",
   "metadata": {},
   "source": [
    "# Scan of  Fits flats Files of Monocam\n",
    "================================================================\n",
    "\n",
    "- Date of creation : Sunday 5th 2016\n",
    "- Author : Sylvie Dagoret-Campagne\n",
    "- Affiliation : LAL/IN2P3/CNRS"
   ]
  },
  {
   "cell_type": "code",
   "execution_count": 60,
   "metadata": {
    "collapsed": false
   },
   "outputs": [],
   "source": [
    "import numpy as np\n",
    "\n",
    "# Set up matplotlib and use a nicer set of plot parameters\n",
    "#config InlineBackend.rc = {}\n",
    "#config Backend.rc = {}\n",
    "import matplotlib\n",
    "matplotlib.rc_file(\"../templates/matplotlibrc\")  # default config obtained from astropy examples\n",
    "import matplotlib.pyplot as plt\n",
    "from matplotlib.colors import LogNorm\n",
    "%matplotlib inline"
   ]
  },
  {
   "cell_type": "code",
   "execution_count": 61,
   "metadata": {
    "collapsed": true
   },
   "outputs": [],
   "source": [
    "from astropy.utils.data import download_file\n",
    "from astropy.io import fits\n",
    "from astropy import units as u\n",
    "import os\n",
    "import ccdproc"
   ]
  },
  {
   "cell_type": "code",
   "execution_count": 62,
   "metadata": {
    "collapsed": true
   },
   "outputs": [],
   "source": [
    "import pandas as pd\n",
    "from datetime import datetime, timedelta\n",
    "from pytz import timezone\n",
    "import pytz"
   ]
  },
  {
   "cell_type": "markdown",
   "metadata": {},
   "source": [
    "## 1) Configuration of input files"
   ]
  },
  {
   "cell_type": "markdown",
   "metadata": {},
   "source": [
    "### 1.1) The input flat files"
   ]
  },
  {
   "cell_type": "code",
   "execution_count": 63,
   "metadata": {
    "collapsed": false
   },
   "outputs": [],
   "source": [
    "# flats at the beginning\n",
    "path='/Users/dagoret-campagnesylvie/iraf/MonoCamMay2016/20160509/projector'\n",
    "root_filename='gratscan_'\n",
    "ext_filename='.fits'\n",
    "startnum=1\n",
    "#stopnum=6\n",
    "stopnum=5  # only 30 seconds exposure\n",
    "date=datetime(2016,5,9)  # 2016-05-10T01:07:55.503\n",
    "nb_of_channels=16  # number of CCD amplifier channels corresponding to an image inside the fits file"
   ]
  },
  {
   "cell_type": "code",
   "execution_count": 64,
   "metadata": {
    "collapsed": true
   },
   "outputs": [],
   "source": [
    "# flats at the beginning\n",
    "path='/Users/dagoret-campagnesylvie/iraf/MonoCamMay2016/20160509/projector'\n",
    "root_filename='gscan_'\n",
    "ext_filename='.fits'\n",
    "startnum=1\n",
    "#stopnum=6\n",
    "stopnum=12  # only 30 seconds exposure\n",
    "date=datetime(2016,5,9)  # 2016-05-10T01:07:55.503\n",
    "nb_of_channels=16  # number of CCD amplifier channels corresponding to an image inside the fits file"
   ]
  },
  {
   "cell_type": "code",
   "execution_count": 65,
   "metadata": {
    "collapsed": true
   },
   "outputs": [],
   "source": [
    "# the bias master file\n",
    "masterbias_filename='masterbias1.fits'\n",
    "masterbias_file=os.path.join(path,masterbias_filename)"
   ]
  },
  {
   "cell_type": "code",
   "execution_count": null,
   "metadata": {
    "collapsed": false
   },
   "outputs": [],
   "source": []
  },
  {
   "cell_type": "code",
   "execution_count": 66,
   "metadata": {
    "collapsed": true
   },
   "outputs": [],
   "source": [
    "def Buildfilename(path,name,ext,num):\n",
    "    '''\n",
    "    input:\n",
    "       path : path of bias files\n",
    "       name : common root of bias filenames\n",
    "       ext  : extension of filenames\n",
    "    output:\n",
    "       full filename \n",
    "    '''\n",
    "    strnum= '{0:02d}'.format(num)  # python >= 2.6\n",
    "    filename=name+strnum+ext\n",
    "    fullfilename=os.path.join(path,filename)\n",
    "    return fullfilename"
   ]
  },
  {
   "cell_type": "code",
   "execution_count": 67,
   "metadata": {
    "collapsed": true
   },
   "outputs": [],
   "source": [
    "filelist= [Buildfilename(path,root_filename,ext_filename,num) for num in range(startnum,stopnum+1,1)]"
   ]
  },
  {
   "cell_type": "code",
   "execution_count": 68,
   "metadata": {
    "collapsed": false
   },
   "outputs": [],
   "source": [
    "nbfiles=len(filelist)"
   ]
  },
  {
   "cell_type": "markdown",
   "metadata": {},
   "source": [
    "### 1.2) configuration of date"
   ]
  },
  {
   "cell_type": "code",
   "execution_count": 69,
   "metadata": {
    "collapsed": false
   },
   "outputs": [
    {
     "name": "stdout",
     "output_type": "stream",
     "text": [
      "standard date format for the analysis : 2016-06-05 21:40:12.707514\n",
      "fits date format for the analysis :  2016-06-05T21:40:12\n"
     ]
    }
   ],
   "source": [
    "now=datetime.utcnow()  # choose UTC time\n",
    "datestr=str(now)\n",
    "print 'standard date format for the analysis :',datestr\n",
    "#  want the following format '2016-05-10T11:55:27.267'\n",
    "date_of_analysis=now.strftime('%Y-%m-%dT%H:%M:%S')\n",
    "print 'fits date format for the analysis : ',date_of_analysis"
   ]
  },
  {
   "cell_type": "markdown",
   "metadata": {},
   "source": [
    "## 2) Exposure"
   ]
  },
  {
   "cell_type": "markdown",
   "metadata": {},
   "source": [
    "- compute the mean and RMS of the darks for all the pixels"
   ]
  },
  {
   "cell_type": "code",
   "execution_count": 70,
   "metadata": {
    "collapsed": false
   },
   "outputs": [
    {
     "ename": "IndexError",
     "evalue": "list index out of range",
     "output_type": "error",
     "traceback": [
      "\u001b[0;31m---------------------------------------------------------------------------\u001b[0m",
      "\u001b[0;31mIndexError\u001b[0m                                Traceback (most recent call last)",
      "\u001b[0;32m<ipython-input-70-7011e6da8062>\u001b[0m in \u001b[0;36m<module>\u001b[0;34m()\u001b[0m\n\u001b[1;32m     19\u001b[0m     \u001b[0;31m# loop on channels\u001b[0m\u001b[0;34m\u001b[0m\u001b[0;34m\u001b[0m\u001b[0m\n\u001b[1;32m     20\u001b[0m     \u001b[0;32mfor\u001b[0m \u001b[0mnumchan\u001b[0m \u001b[0;32min\u001b[0m \u001b[0mrange\u001b[0m\u001b[0;34m(\u001b[0m\u001b[0;36m1\u001b[0m\u001b[0;34m,\u001b[0m\u001b[0mnumber_of_channels\u001b[0m\u001b[0;34m+\u001b[0m\u001b[0;36m1\u001b[0m\u001b[0;34m)\u001b[0m\u001b[0;34m:\u001b[0m\u001b[0;34m\u001b[0m\u001b[0m\n\u001b[0;32m---> 21\u001b[0;31m         \u001b[0mimage_data\u001b[0m \u001b[0;34m=\u001b[0m \u001b[0mhdu_list\u001b[0m\u001b[0;34m[\u001b[0m\u001b[0mnumchan\u001b[0m\u001b[0;34m]\u001b[0m\u001b[0;34m.\u001b[0m\u001b[0mdata\u001b[0m\u001b[0;34m\u001b[0m\u001b[0m\n\u001b[0m\u001b[1;32m     22\u001b[0m         \u001b[0mnrow\u001b[0m\u001b[0;34m,\u001b[0m\u001b[0mncol\u001b[0m \u001b[0;34m=\u001b[0m\u001b[0mimage_data\u001b[0m\u001b[0;34m.\u001b[0m\u001b[0mshape\u001b[0m\u001b[0;34m\u001b[0m\u001b[0m\n\u001b[1;32m     23\u001b[0m         \u001b[0;31m# extract the two quatities\u001b[0m\u001b[0;34m\u001b[0m\u001b[0;34m\u001b[0m\u001b[0m\n",
      "\u001b[0;32m/Users/dagoret-campagnesylvie/anaconda/envs/pyastrophys/lib/python2.7/site-packages/astropy/io/fits/hdu/hdulist.pyc\u001b[0m in \u001b[0;36m__getitem__\u001b[0;34m(self, key)\u001b[0m\n\u001b[1;32m    194\u001b[0m \u001b[0;34m\u001b[0m\u001b[0m\n\u001b[1;32m    195\u001b[0m         \u001b[0midx\u001b[0m \u001b[0;34m=\u001b[0m \u001b[0mself\u001b[0m\u001b[0;34m.\u001b[0m\u001b[0mindex_of\u001b[0m\u001b[0;34m(\u001b[0m\u001b[0mkey\u001b[0m\u001b[0;34m)\u001b[0m\u001b[0;34m\u001b[0m\u001b[0m\n\u001b[0;32m--> 196\u001b[0;31m         \u001b[0;32mreturn\u001b[0m \u001b[0msuper\u001b[0m\u001b[0;34m(\u001b[0m\u001b[0mHDUList\u001b[0m\u001b[0;34m,\u001b[0m \u001b[0mself\u001b[0m\u001b[0;34m)\u001b[0m\u001b[0;34m.\u001b[0m\u001b[0m__getitem__\u001b[0m\u001b[0;34m(\u001b[0m\u001b[0midx\u001b[0m\u001b[0;34m)\u001b[0m\u001b[0;34m\u001b[0m\u001b[0m\n\u001b[0m\u001b[1;32m    197\u001b[0m \u001b[0;34m\u001b[0m\u001b[0m\n\u001b[1;32m    198\u001b[0m     \u001b[0;32mdef\u001b[0m \u001b[0m__contains__\u001b[0m\u001b[0;34m(\u001b[0m\u001b[0mself\u001b[0m\u001b[0;34m,\u001b[0m \u001b[0mitem\u001b[0m\u001b[0;34m)\u001b[0m\u001b[0;34m:\u001b[0m\u001b[0;34m\u001b[0m\u001b[0m\n",
      "\u001b[0;31mIndexError\u001b[0m: list index out of range"
     ]
    }
   ],
   "source": [
    "NBCHAN=16\n",
    "NBFILES=nbfiles\n",
    "\n",
    "# arrays initialisation\n",
    "means0=np.zeros((NBCHAN,NBFILES),dtype=np.float)\n",
    "rms0=np.zeros((NBCHAN,NBFILES),dtype=np.float)\n",
    "means=np.zeros((NBCHAN,NBFILES),dtype=np.float)\n",
    "rms=np.zeros((NBCHAN,NBFILES),dtype=np.float)\n",
    "\n",
    "list_exposures=np.zeros(NBFILES,dtype=np.float)\n",
    "\n",
    "# loop on files\n",
    "for file in range(0,nbfiles):\n",
    "    hdu_list = fits.open(filelist[file])\n",
    "    header=hdu_list[0].header\n",
    "    number_of_channels=header['CHAN']\n",
    "    exposure=header['EXPOSURE']\n",
    "    list_exposures[file]=exposure\n",
    "    # loop on channels\n",
    "    for numchan in range(1,number_of_channels+1):\n",
    "        image_data = hdu_list[numchan].data\n",
    "        nrow,ncol =image_data.shape\n",
    "        # extract the two quatities\n",
    "        firstcol = image_data[:,0]\n",
    "        othercol = image_data[:,1:ncol]\n",
    "        # flatten the arrays\n",
    "        lowvalue = firstcol.flatten()\n",
    "        highvalue = othercol.flatten()\n",
    "        # extract mean and rms\n",
    "        means0[numchan-1,file]=lowvalue.mean()\n",
    "        rms0[numchan-1,file]=lowvalue.std()\n",
    "        means[numchan-1,file]=highvalue.mean()\n",
    "        rms[numchan-1,file]=highvalue.std()        \n",
    "                "
   ]
  },
  {
   "cell_type": "markdown",
   "metadata": {},
   "source": [
    "### 2.1) Show exposure versus time\n",
    "\n",
    "-exposure recorded in fits header file"
   ]
  },
  {
   "cell_type": "code",
   "execution_count": null,
   "metadata": {
    "collapsed": false
   },
   "outputs": [],
   "source": [
    "title='Skyflat exposure '\n",
    "fig = plt.figure(figsize=(10,5))\n",
    "plt.plot(range(NBFILES),list_exposures)    \n",
    "plt.title(title)\n",
    "plt.xlabel('skyflats file index')\n",
    "plt.ylabel('exposure time in sec')\n",
    "plt.grid(True)"
   ]
  },
  {
   "cell_type": "markdown",
   "metadata": {},
   "source": [
    "### 2.2) skyflat versus time"
   ]
  },
  {
   "cell_type": "code",
   "execution_count": null,
   "metadata": {
    "collapsed": false
   },
   "outputs": [],
   "source": [
    "title='Skyflat versus file index '\n",
    "fig = plt.figure(figsize=(10,10))\n",
    "for numchan in range(0,number_of_channels):\n",
    "    plt.errorbar(range(NBFILES),means[numchan,:],yerr=rms[numchan,:])\n",
    "    \n",
    "plt.title(title)\n",
    "plt.xlabel('skyflat index')\n",
    "plt.ylabel('skyflat ADU')\n",
    "plt.grid(True)"
   ]
  },
  {
   "cell_type": "markdown",
   "metadata": {},
   "source": [
    "### 2.3) Skyflats versus index in each amplifier"
   ]
  },
  {
   "cell_type": "code",
   "execution_count": null,
   "metadata": {
    "collapsed": false
   },
   "outputs": [],
   "source": [
    "NX=4 # number of images along the horizontal axis\n",
    "NY=4 # number of images along the vertical axis\n",
    "f, axarr = plt.subplots(NY,NX,figsize=(20,20)) # figure organisation\n",
    "#f, axarr = plt.subplots(NX,NY,sharex=True, sharey=True,figsize=(20,20))\n",
    "f.subplots_adjust(hspace=0.5,wspace=0.5)\n",
    "\n",
    "for index in range(0,number_of_channels):  \n",
    "    ix=index%4\n",
    "    iy=index/4\n",
    "    numchan=index\n",
    "    axarr[iy,ix].errorbar(range(NBFILES),means[numchan,:],yerr=rms[numchan,:],fmt='o')\n",
    "    plottitle='channel {}'.format(index+1)\n",
    "    axarr[iy,ix].set_title(plottitle)\n",
    "    axarr[iy,ix].set_ylabel('ADU')\n",
    "    axarr[iy,ix].set_xlabel('dark index')\n",
    "    axarr[iy,ix].grid(True)\n",
    "\n",
    "title='ADU vs skyflat index'\n",
    "plt.suptitle(title,size=16)\n",
    "plt.show()\n"
   ]
  },
  {
   "cell_type": "markdown",
   "metadata": {},
   "source": [
    "### 2.4) skyflat In Biassec"
   ]
  },
  {
   "cell_type": "code",
   "execution_count": null,
   "metadata": {
    "collapsed": false
   },
   "outputs": [],
   "source": [
    "title='skyflat versus file index first column'\n",
    "fig = plt.figure(figsize=(10,10))\n",
    "for numchan in range(0,number_of_channels):\n",
    "    plt.errorbar(range(NBFILES),means0[numchan,:],yerr=rms0[numchan,:])\n",
    "    \n",
    "plt.title(title)\n",
    "plt.xlabel('skyflat index')\n",
    "plt.ylabel('ADU')\n",
    "plt.grid(True)"
   ]
  },
  {
   "cell_type": "code",
   "execution_count": null,
   "metadata": {
    "collapsed": false
   },
   "outputs": [],
   "source": [
    "NX=4 # number of images along the horizontal axis\n",
    "NY=4 # number of images along the vertical axis\n",
    "f, axarr = plt.subplots(NY,NX,figsize=(20,20)) # figure organisation\n",
    "#f, axarr = plt.subplots(NX,NY,sharex=True, sharey=True,figsize=(20,20))\n",
    "f.subplots_adjust(hspace=0.5,wspace=0.5)\n",
    "\n",
    "for index in range(0,number_of_channels):  \n",
    "    ix=index%4\n",
    "    iy=index/4\n",
    "        \n",
    "    axarr[iy,ix].errorbar(range(NBFILES),means0[numchan,:],yerr=rms0[numchan,:],fmt='o')\n",
    "    plottitle='channel {}'.format(index)\n",
    "    axarr[iy,ix].set_title(plottitle)\n",
    "    axarr[iy,ix].set_ylabel('ADU')\n",
    "    axarr[iy,ix].set_xlabel('skyflat index')\n",
    "    axarr[iy,ix].grid(True)\n",
    "    \n",
    "title='ADU vs skyflat index'\n",
    "plt.suptitle(title,size=16)\n",
    "plt.show()"
   ]
  },
  {
   "cell_type": "markdown",
   "metadata": {
    "collapsed": true
   },
   "source": [
    "## 3) Substraction of Master Bias to the Skyflat"
   ]
  },
  {
   "cell_type": "markdown",
   "metadata": {},
   "source": [
    "### 3.1 Read All Master-Biases"
   ]
  },
  {
   "cell_type": "code",
   "execution_count": null,
   "metadata": {
    "collapsed": false
   },
   "outputs": [],
   "source": [
    "masterbiases = [ ccdproc.CCDData.read(masterbias_file, hdu=chan,unit=\"adu\") for chan in range(1,nb_of_channels+1,1) ]"
   ]
  },
  {
   "cell_type": "markdown",
   "metadata": {},
   "source": [
    "### 3.2 Put all darks inside a list of CCDDATA list"
   ]
  },
  {
   "cell_type": "code",
   "execution_count": null,
   "metadata": {
    "collapsed": true
   },
   "outputs": [],
   "source": [
    "# all CCDPROC data collector : each channel as a list of dark data\n",
    "allskyflats = []"
   ]
  },
  {
   "cell_type": "code",
   "execution_count": null,
   "metadata": {
    "collapsed": true
   },
   "outputs": [],
   "source": [
    "for chan in range(1,nb_of_channels+1,1):\n",
    "    ccd_chan = [ ccdproc.CCDData.read(image_file, hdu=chan,unit=\"adu\") for image_file in filelist ]\n",
    "    allskyflats.append(ccd_chan)"
   ]
  },
  {
   "cell_type": "markdown",
   "metadata": {},
   "source": [
    "### 3.3 Substract the masterbias to the Darks "
   ]
  },
  {
   "cell_type": "code",
   "execution_count": null,
   "metadata": {
    "collapsed": false
   },
   "outputs": [],
   "source": [
    "mbias_and_flats=zip(masterbiases, allskyflats)"
   ]
  },
  {
   "cell_type": "code",
   "execution_count": null,
   "metadata": {
    "collapsed": false
   },
   "outputs": [],
   "source": [
    "list_subskyflats= []  # list of list of substracted darks, one list per channel\n",
    "for mb, sflats in mbias_and_flats:\n",
    "    list_sf=[]      # list of substracted darks for the current channel\n",
    "    for sf in sflats:\n",
    "        s=ccdproc.subtract_bias(sf,mb)\n",
    "        list_sf.append(s)\n",
    "    list_subskyflats.append(list_sf)   "
   ]
  },
  {
   "cell_type": "markdown",
   "metadata": {},
   "source": [
    "## 4) Show the Sky Flat versus Exposure"
   ]
  },
  {
   "cell_type": "markdown",
   "metadata": {},
   "source": [
    "### 4.1) Compute the average dark"
   ]
  },
  {
   "cell_type": "code",
   "execution_count": null,
   "metadata": {
    "collapsed": false
   },
   "outputs": [],
   "source": [
    "# book the arrays in advance\n",
    "\n",
    "newmeans=np.zeros((NBCHAN,NBFILES),dtype=np.float)\n",
    "newrms=np.zeros((NBCHAN,NBFILES),dtype=np.float)\n",
    "newexpo=np.zeros((NBCHAN,NBFILES),dtype=np.float)\n",
    "\n",
    "for fileindex in range(0,nbfiles):\n",
    "    Xpos=list_exposures[fileindex]\n",
    "    for channel in range(0,nb_of_channels):       \n",
    "        newmeans[channel,fileindex]=list_subskyflats[channel][fileindex].data.mean()\n",
    "        newrms[channel,fileindex]=list_subskyflats[channel][fileindex].data.std()\n",
    "        newexpo[channel,fileindex]=Xpos"
   ]
  },
  {
   "cell_type": "markdown",
   "metadata": {
    "collapsed": true
   },
   "source": [
    "### 4.2) Plot Skyflat vs Exposure for each channels"
   ]
  },
  {
   "cell_type": "code",
   "execution_count": null,
   "metadata": {
    "collapsed": false
   },
   "outputs": [],
   "source": [
    "NX=4 # number of images along the horizontal axis\n",
    "NY=4 # number of images along the vertical axis\n",
    "f, axarr = plt.subplots(NY,NX,figsize=(20,20)) # figure organisation\n",
    "#f, axarr = plt.subplots(NX,NY,sharex=True, sharey=True,figsize=(20,20))\n",
    "f.subplots_adjust(hspace=0.5,wspace=0.5)\n",
    "\n",
    "for index in range(0,number_of_channels):  \n",
    "    ix=index%4\n",
    "    iy=index/4\n",
    "    numchan=index\n",
    "    axarr[iy,ix].scatter(newexpo[numchan,:],newmeans[numchan,:],s=50,marker='o')\n",
    "    plottitle='channel {}'.format(index+1)\n",
    "    axarr[iy,ix].set_title(plottitle)\n",
    "    axarr[iy,ix].set_ylabel('ADU')\n",
    "    axarr[iy,ix].set_xlabel('Exposure')\n",
    "    axarr[iy,ix].grid(True)\n",
    "\n",
    "title='Skyflat corrected from bias'\n",
    "plt.suptitle(title,size=16)\n",
    "plt.show()"
   ]
  },
  {
   "cell_type": "markdown",
   "metadata": {
    "collapsed": true
   },
   "source": [
    "### 4.3) Plot skyflat vs Exposure all channels "
   ]
  },
  {
   "cell_type": "code",
   "execution_count": null,
   "metadata": {
    "collapsed": false
   },
   "outputs": [],
   "source": [
    "NX=1 # number of images along the horizontal axis\n",
    "NY=1 # number of images along the vertical axis\n",
    "f, axarr = plt.subplots(NY,NX,figsize=(10,10)) # figure organisation\n",
    "\n",
    "for index in range(0,number_of_channels):      \n",
    "    numchan=index\n",
    "    lab='channel {}'.format(index+1)\n",
    "    plt.plot(newexpo[numchan,:],newmeans[numchan,:],'o',label=lab)\n",
    "    \n",
    "plt.ylabel('ADU')\n",
    "plt.xlabel('Exposure')\n",
    "plt.grid(True)\n",
    "plt.legend(loc='best')\n",
    "\n",
    "title='skyflat corrected from bias'\n",
    "plt.suptitle(title,size=16)\n",
    "plt.show()"
   ]
  },
  {
   "cell_type": "code",
   "execution_count": null,
   "metadata": {
    "collapsed": true
   },
   "outputs": [],
   "source": []
  },
  {
   "cell_type": "code",
   "execution_count": null,
   "metadata": {
    "collapsed": true
   },
   "outputs": [],
   "source": []
  }
 ],
 "metadata": {
  "kernelspec": {
   "display_name": "Python 2",
   "language": "python",
   "name": "python2"
  },
  "language_info": {
   "codemirror_mode": {
    "name": "ipython",
    "version": 2
   },
   "file_extension": ".py",
   "mimetype": "text/x-python",
   "name": "python",
   "nbconvert_exporter": "python",
   "pygments_lexer": "ipython2",
   "version": "2.7.11"
  }
 },
 "nbformat": 4,
 "nbformat_minor": 0
}
