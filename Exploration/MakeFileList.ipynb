{
 "cells": [
  {
   "cell_type": "code",
   "execution_count": 18,
   "metadata": {
    "collapsed": false
   },
   "outputs": [],
   "source": [
    "root_filename='bias_'\n",
    "ext_filename='.fits'\n",
    "channel=1\n",
    "startnum=1\n",
    "stopnum=50\n"
   ]
  },
  {
   "cell_type": "code",
   "execution_count": 14,
   "metadata": {
    "collapsed": true
   },
   "outputs": [],
   "source": [
    "def Buildfilename(name,ext,num,chan):\n",
    "    '''\n",
    "    input:\n",
    "       path : path of bias files\n",
    "       name : common root of bias filenames\n",
    "       ext  : extension of filenames\n",
    "    output:\n",
    "       full filename \n",
    "    '''\n",
    "    strnum=biasnumberstr= '{0:02d}'.format(num)  # python >= 2.6\n",
    "    strchan=\"[\"+str(chan)+\"]\"\n",
    "    filename=name+strnum+ext+strchan\n",
    "    return filename"
   ]
  },
  {
   "cell_type": "code",
   "execution_count": 15,
   "metadata": {
    "collapsed": false
   },
   "outputs": [],
   "source": [
    "filelist= [Buildfilename(root_filename,ext_filename,num,channel) for num in range(startnum,stopnum+1,1)]"
   ]
  },
  {
   "cell_type": "code",
   "execution_count": 17,
   "metadata": {
    "collapsed": false
   },
   "outputs": [
    {
     "name": "stdout",
     "output_type": "stream",
     "text": [
      "bias_01.fits[1]\n",
      "bias_02.fits[1]\n",
      "bias_03.fits[1]\n",
      "bias_04.fits[1]\n",
      "bias_05.fits[1]\n",
      "bias_06.fits[1]\n",
      "bias_07.fits[1]\n",
      "bias_08.fits[1]\n",
      "bias_09.fits[1]\n",
      "bias_10.fits[1]\n",
      "bias_11.fits[1]\n",
      "bias_12.fits[1]\n",
      "bias_13.fits[1]\n",
      "bias_14.fits[1]\n",
      "bias_15.fits[1]\n",
      "bias_16.fits[1]\n",
      "bias_17.fits[1]\n",
      "bias_18.fits[1]\n",
      "bias_19.fits[1]\n",
      "bias_20.fits[1]\n",
      "bias_21.fits[1]\n",
      "bias_22.fits[1]\n",
      "bias_23.fits[1]\n",
      "bias_24.fits[1]\n",
      "bias_25.fits[1]\n",
      "bias_26.fits[1]\n",
      "bias_27.fits[1]\n",
      "bias_28.fits[1]\n",
      "bias_29.fits[1]\n",
      "bias_30.fits[1]\n",
      "bias_31.fits[1]\n",
      "bias_32.fits[1]\n",
      "bias_33.fits[1]\n",
      "bias_34.fits[1]\n",
      "bias_35.fits[1]\n",
      "bias_36.fits[1]\n",
      "bias_37.fits[1]\n",
      "bias_38.fits[1]\n",
      "bias_39.fits[1]\n",
      "bias_40.fits[1]\n",
      "bias_41.fits[1]\n",
      "bias_42.fits[1]\n",
      "bias_43.fits[1]\n",
      "bias_44.fits[1]\n",
      "bias_45.fits[1]\n",
      "bias_46.fits[1]\n",
      "bias_47.fits[1]\n",
      "bias_48.fits[1]\n",
      "bias_49.fits[1]\n",
      "bias_50.fits[1]\n"
     ]
    }
   ],
   "source": [
    "for i in range(0,len(filelist)):\n",
    "    print filelist[i]"
   ]
  },
  {
   "cell_type": "code",
   "execution_count": null,
   "metadata": {
    "collapsed": true
   },
   "outputs": [],
   "source": []
  }
 ],
 "metadata": {
  "kernelspec": {
   "display_name": "Python 2",
   "language": "python",
   "name": "python2"
  },
  "language_info": {
   "codemirror_mode": {
    "name": "ipython",
    "version": 2
   },
   "file_extension": ".py",
   "mimetype": "text/x-python",
   "name": "python",
   "nbconvert_exporter": "python",
   "pygments_lexer": "ipython2",
   "version": "2.7.11"
  }
 },
 "nbformat": 4,
 "nbformat_minor": 0
}
