{
 "cells": [
  {
   "cell_type": "code",
   "execution_count": 1,
   "metadata": {
    "collapsed": true
   },
   "outputs": [],
   "source": [
    "import pyds9\n",
    "import os"
   ]
  },
  {
   "cell_type": "code",
   "execution_count": 2,
   "metadata": {
    "collapsed": true
   },
   "outputs": [],
   "source": [
    "path='/Users/dagoret-campagnesylvie/iraf/MonoCamMay2016/20160509'\n",
    "nb_of_channels=16  # number of CCD amplifier channels corresponding to an image inside the fits file\n",
    "file='skyflats_01.fits'"
   ]
  },
  {
   "cell_type": "code",
   "execution_count": 13,
   "metadata": {
    "collapsed": true
   },
   "outputs": [],
   "source": [
    "path='/Users/dagoret-campagnesylvie/iraf/MonoCamMay2016/20160509/projector'\n",
    "file='testali_01.fits'\n",
    "file='gscan_01.fits'"
   ]
  },
  {
   "cell_type": "code",
   "execution_count": 14,
   "metadata": {
    "collapsed": true
   },
   "outputs": [],
   "source": [
    "fullfilepath=os.path.join(path,file)"
   ]
  },
  {
   "cell_type": "code",
   "execution_count": 15,
   "metadata": {
    "collapsed": false
   },
   "outputs": [
    {
     "name": "stdout",
     "output_type": "stream",
     "text": [
      "['DS9:ds9 c0a8000b:53194']\n"
     ]
    }
   ],
   "source": [
    "print(pyds9.ds9_targets())"
   ]
  },
  {
   "cell_type": "code",
   "execution_count": 16,
   "metadata": {
    "collapsed": true
   },
   "outputs": [],
   "source": [
    "d = pyds9.DS9()"
   ]
  },
  {
   "cell_type": "code",
   "execution_count": 11,
   "metadata": {
    "collapsed": false
   },
   "outputs": [
    {
     "data": {
      "text/plain": [
       "'/Users/dagoret-campagnesylvie/iraf/MonoCamMay2016/20160509/projector/testali_01.fits'"
      ]
     },
     "execution_count": 11,
     "metadata": {},
     "output_type": "execute_result"
    }
   ],
   "source": [
    "fullfilepath"
   ]
  },
  {
   "cell_type": "code",
   "execution_count": 17,
   "metadata": {
    "collapsed": true
   },
   "outputs": [],
   "source": [
    "# define the zoom\n",
    "ds9command='zoom 0.125'\n",
    "d.set(ds9command)\n",
    "# set the scale\n",
    "ds9command='scale histequ zscale'\n",
    "d.set(ds9command)\n",
    "\n",
    "for channel in range(1,nb_of_channels+1):\n",
    "    # select the frame\n",
    "    ds9command='frame '+ str(channel)\n",
    "    d.set(ds9command)    \n",
    "    # set the scale\n",
    "    ds9command='scale histequ'\n",
    "    d.set(ds9command)\n",
    "    ds9command='scale zscale'\n",
    "    d.set(ds9command)\n",
    "    # set the color\n",
    "    ds9command='cmap rainbow'\n",
    "    d.set(ds9command)\n",
    "    # define the image\n",
    "    filelist=fullfilepath+'['+str(channel) + ']' \n",
    "    ds9command = 'file '+ filelist\n",
    "    d.set(ds9command)  # send the file to the open ds9 session\n"
   ]
  },
  {
   "cell_type": "code",
   "execution_count": null,
   "metadata": {
    "collapsed": true
   },
   "outputs": [],
   "source": []
  }
 ],
 "metadata": {
  "kernelspec": {
   "display_name": "Python 2",
   "language": "python",
   "name": "python2"
  },
  "language_info": {
   "codemirror_mode": {
    "name": "ipython",
    "version": 2
   },
   "file_extension": ".py",
   "mimetype": "text/x-python",
   "name": "python",
   "nbconvert_exporter": "python",
   "pygments_lexer": "ipython2",
   "version": "2.7.11"
  }
 },
 "nbformat": 4,
 "nbformat_minor": 0
}
