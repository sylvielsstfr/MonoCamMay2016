{
 "cells": [
  {
   "cell_type": "markdown",
   "metadata": {},
   "source": [
    "# Script to send the 16 images to DS9\n",
    "=======================================================\n",
    "\n",
    "Sylvie Dagoret-Campagne"
   ]
  },
  {
   "cell_type": "code",
   "execution_count": 28,
   "metadata": {
    "collapsed": true
   },
   "outputs": [],
   "source": [
    "import pyds9\n",
    "import os"
   ]
  },
  {
   "cell_type": "code",
   "execution_count": 29,
   "metadata": {
    "collapsed": true
   },
   "outputs": [],
   "source": [
    "path='/Users/dagoret-campagnesylvie/iraf/MonoCamMay2016/20160511'\n",
    "nb_of_channels=16  # number of CCD amplifier channels corresponding to an image inside the fits file\n",
    "file='HD158485_grat_08.fits'"
   ]
  },
  {
   "cell_type": "code",
   "execution_count": 30,
   "metadata": {
    "collapsed": true
   },
   "outputs": [],
   "source": [
    "#path='/Users/dagoret-campagnesylvie/iraf/MonoCamMay2016/20160509'\n",
    "#nb_of_channels=16  # number of CCD amplifier channels corresponding to an image inside the fits file\n",
    "#file='skyflats_01.fits'"
   ]
  },
  {
   "cell_type": "code",
   "execution_count": 31,
   "metadata": {
    "collapsed": true
   },
   "outputs": [],
   "source": [
    "#path='/Users/dagoret-campagnesylvie/iraf/MonoCamMay2016/20160509/projector'\n",
    "#file='testali_01.fits'\n",
    "#file='rscan_01.fits'"
   ]
  },
  {
   "cell_type": "code",
   "execution_count": 32,
   "metadata": {
    "collapsed": true
   },
   "outputs": [],
   "source": [
    "fullfilepath=os.path.join(path,file)"
   ]
  },
  {
   "cell_type": "code",
   "execution_count": 33,
   "metadata": {
    "collapsed": false
   },
   "outputs": [
    {
     "name": "stdout",
     "output_type": "stream",
     "text": [
      "['DS9:ds9 869e5a58:55163']\n"
     ]
    }
   ],
   "source": [
    "print(pyds9.ds9_targets())"
   ]
  },
  {
   "cell_type": "code",
   "execution_count": 34,
   "metadata": {
    "collapsed": true
   },
   "outputs": [],
   "source": [
    "d = pyds9.DS9()"
   ]
  },
  {
   "cell_type": "code",
   "execution_count": 35,
   "metadata": {
    "collapsed": false
   },
   "outputs": [
    {
     "data": {
      "text/plain": [
       "'/Users/dagoret-campagnesylvie/iraf/MonoCamMay2016/20160511/HD158485_grat_08.fits'"
      ]
     },
     "execution_count": 35,
     "metadata": {},
     "output_type": "execute_result"
    }
   ],
   "source": [
    "fullfilepath"
   ]
  },
  {
   "cell_type": "code",
   "execution_count": 36,
   "metadata": {
    "collapsed": false
   },
   "outputs": [],
   "source": [
    "# define the zoom\n",
    "ds9command='zoom 0.125'\n",
    "d.set(ds9command)\n",
    "# set the scale\n",
    "ds9command='scale histequ zscale'\n",
    "d.set(ds9command)\n",
    "\n",
    "for channel in range(1,nb_of_channels+1):\n",
    "    # select the frame\n",
    "    ds9command='frame '+ str(channel)\n",
    "    d.set(ds9command)    \n",
    "    # set the scale\n",
    "    ds9command='scale histequ'\n",
    "    d.set(ds9command)\n",
    "    ds9command='scale zscale'\n",
    "    d.set(ds9command)\n",
    "    # set the color\n",
    "    ds9command='cmap rainbow'\n",
    "    d.set(ds9command)\n",
    "    # define the image\n",
    "    filelist=fullfilepath+'['+str(channel) + ']' \n",
    "    ds9command = 'file '+ filelist\n",
    "    d.set(ds9command)  # send the file to the open ds9 session\n"
   ]
  },
  {
   "cell_type": "code",
   "execution_count": null,
   "metadata": {
    "collapsed": true
   },
   "outputs": [],
   "source": []
  }
 ],
 "metadata": {
  "kernelspec": {
   "display_name": "Python 2",
   "language": "python",
   "name": "python2"
  },
  "language_info": {
   "codemirror_mode": {
    "name": "ipython",
    "version": 2
   },
   "file_extension": ".py",
   "mimetype": "text/x-python",
   "name": "python",
   "nbconvert_exporter": "python",
   "pygments_lexer": "ipython2",
   "version": "2.7.11"
  }
 },
 "nbformat": 4,
 "nbformat_minor": 0
}
