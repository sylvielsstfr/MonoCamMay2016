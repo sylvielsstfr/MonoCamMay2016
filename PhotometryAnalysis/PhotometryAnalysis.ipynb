{
 "cells": [
  {
   "cell_type": "markdown",
   "metadata": {},
   "source": [
    "# Photometry with Y3 and Y4\n",
    "===========================================\n",
    "\n",
    "- author : Sylvie Dagoret-Campagne\n",
    "- creation date : July 10th 2016"
   ]
  },
  {
   "cell_type": "markdown",
   "metadata": {},
   "source": [
    "# Import packages\n",
    "----------------------------"
   ]
  },
  {
   "cell_type": "code",
   "execution_count": 11,
   "metadata": {
    "collapsed": true
   },
   "outputs": [],
   "source": [
    "import urllib\n",
    "import IPython.display\n",
    "import numpy as np\n",
    "import astropy"
   ]
  },
  {
   "cell_type": "code",
   "execution_count": 12,
   "metadata": {
    "collapsed": false
   },
   "outputs": [],
   "source": [
    "%matplotlib inline\n",
    "from matplotlib import pyplot as plt\n",
    "import matplotlib\n",
    "matplotlib.rc_file(\"../templates/matplotlibrc\")"
   ]
  },
  {
   "cell_type": "code",
   "execution_count": 13,
   "metadata": {
    "collapsed": true
   },
   "outputs": [],
   "source": [
    "from astropy import units as u\n",
    "from astropy.coordinates import SkyCoord\n",
    "from astropy.coordinates import Angle\n",
    "from astropy.table import Table\n",
    "from astropy.coordinates import Angle\n",
    "from astropy.time import Time, TimeDelta,TimezoneInfo"
   ]
  },
  {
   "cell_type": "code",
   "execution_count": 14,
   "metadata": {
    "collapsed": true
   },
   "outputs": [],
   "source": [
    "import os"
   ]
  },
  {
   "cell_type": "code",
   "execution_count": 15,
   "metadata": {
    "collapsed": true
   },
   "outputs": [],
   "source": [
    "from datetime import datetime\n",
    "from pytz import timezone\n",
    "import pytz\n",
    "import pandas as pd"
   ]
  },
  {
   "cell_type": "markdown",
   "metadata": {},
   "source": [
    "# definitions\n",
    "------------------"
   ]
  },
  {
   "cell_type": "code",
   "execution_count": 16,
   "metadata": {
    "collapsed": true
   },
   "outputs": [],
   "source": [
    "path='../MyReduction_2016_05_09'"
   ]
  },
  {
   "cell_type": "code",
   "execution_count": 21,
   "metadata": {
    "collapsed": true
   },
   "outputs": [],
   "source": [
    "file_y3='HD163466_y3_1-10_TablePhotometry.fits'\n",
    "file_y4='HD163466_y4_1-8_TablePhotometry.fits'"
   ]
  },
  {
   "cell_type": "code",
   "execution_count": 22,
   "metadata": {
    "collapsed": true
   },
   "outputs": [],
   "source": [
    "fullfile_y3=os.path.join(path,file_y3)\n",
    "fullfile_y4=os.path.join(path,file_y4)"
   ]
  },
  {
   "cell_type": "code",
   "execution_count": 19,
   "metadata": {
    "collapsed": true
   },
   "outputs": [],
   "source": [
    "def weighted_avg_and_std(values, weights):\n",
    "    \"\"\"\n",
    "    Return the weighted average and standard deviation.\n",
    "\n",
    "    values, weights -- Numpy ndarrays with the same shape.\n",
    "    \"\"\"\n",
    "    weights=np.where(weights>0,weights,0)\n",
    "    average = np.average(values, weights=weights)\n",
    "    variance = np.average((values-average)**2, weights=weights)  # Fast and numerically precise\n",
    "    return (average, np.sqrt(variance))"
   ]
  },
  {
   "cell_type": "markdown",
   "metadata": {},
   "source": [
    "# Access data"
   ]
  },
  {
   "cell_type": "code",
   "execution_count": 23,
   "metadata": {
    "collapsed": false
   },
   "outputs": [],
   "source": [
    "t_y3 = Table.read(fullfile_y3)"
   ]
  },
  {
   "cell_type": "code",
   "execution_count": 24,
   "metadata": {
    "collapsed": false
   },
   "outputs": [
    {
     "data": {
      "text/html": [
       "&lt;Table length=10&gt;\n",
       "<table id=\"table4486013840\">\n",
       "<thead><tr><th>object</th><th>time</th><th>exposure</th><th>sigmaxpix_psf</th><th>sigmaypix_psf</th><th>aperture_sum_raw</th><th>aperture_sum_bkg</th><th>residual_aperture_sum</th></tr></thead>\n",
       "<thead><tr><th>str14</th><th>str23</th><th>float64</th><th>float64</th><th>float64</th><th>float64</th><th>float64</th><th>float64</th></tr></thead>\n",
       "<tr><td>HD163466_y3_1</td><td>2016-05-10T08:31:46.221</td><td>1.0</td><td>27.9355238243</td><td>50.7638218191</td><td>152496.623345</td><td>43.4335359462</td><td>152480.335769</td></tr>\n",
       "<tr><td>HD163466_y3_2</td><td>2016-05-10T08:33:17.773</td><td>5.0</td><td>12.7004985637</td><td>22.5158503933</td><td>153756.742892</td><td>-53.4569340686</td><td>153776.789242</td></tr>\n",
       "<tr><td>HD163466_y3_3</td><td>2016-05-10T08:33:27.174</td><td>5.0</td><td>11.8502581836</td><td>23.5563747919</td><td>154181.493858</td><td>-541.694180763</td><td>154384.629176</td></tr>\n",
       "<tr><td>HD163466_y3_4</td><td>2016-05-10T08:33:36.166</td><td>5.0</td><td>13.7024476858</td><td>23.8571626354</td><td>154368.358359</td><td>105.968906605</td><td>154328.620019</td></tr>\n",
       "<tr><td>HD163466_y3_5</td><td>2016-05-10T08:38:53.776</td><td>3.0</td><td>18.582359104</td><td>31.0596897639</td><td>154103.113905</td><td>-393.359011273</td><td>154250.623534</td></tr>\n",
       "<tr><td>HD163466_y3_6</td><td>2016-05-10T08:39:35.943</td><td>3.0</td><td>15.0917204103</td><td>30.3126129762</td><td>154476.754213</td><td>559.631399077</td><td>154266.892438</td></tr>\n",
       "<tr><td>HD163466_y3_7</td><td>2016-05-10T08:40:17.637</td><td>3.0</td><td>15.4492129639</td><td>29.3401153338</td><td>155018.343643</td><td>-73.1499777677</td><td>155045.774885</td></tr>\n",
       "<tr><td>HD163466_y3_8</td><td>2016-05-10T08:41:40.854</td><td>3.0</td><td>13.6816082015</td><td>27.7515764221</td><td>154205.552189</td><td>-884.626290815</td><td>154537.287048</td></tr>\n",
       "<tr><td>HD163466_y3_9</td><td>2016-05-10T08:41:47.875</td><td>3.0</td><td>13.3992970766</td><td>27.2496388726</td><td>154748.763476</td><td>-704.138894154</td><td>155012.815561</td></tr>\n",
       "<tr><td>HD163466_y3_10</td><td>2016-05-10T08:41:54.822</td><td>3.0</td><td>15.6555387364</td><td>31.3446927303</td><td>154889.380543</td><td>160.634953929</td><td>154829.142435</td></tr>\n",
       "</table>"
      ],
      "text/plain": [
       "<Table length=10>\n",
       "    object               time          ... residual_aperture_sum\n",
       "    str14               str23          ...        float64       \n",
       "-------------- ----------------------- ... ---------------------\n",
       " HD163466_y3_1 2016-05-10T08:31:46.221 ...         152480.335769\n",
       " HD163466_y3_2 2016-05-10T08:33:17.773 ...         153776.789242\n",
       " HD163466_y3_3 2016-05-10T08:33:27.174 ...         154384.629176\n",
       " HD163466_y3_4 2016-05-10T08:33:36.166 ...         154328.620019\n",
       " HD163466_y3_5 2016-05-10T08:38:53.776 ...         154250.623534\n",
       " HD163466_y3_6 2016-05-10T08:39:35.943 ...         154266.892438\n",
       " HD163466_y3_7 2016-05-10T08:40:17.637 ...         155045.774885\n",
       " HD163466_y3_8 2016-05-10T08:41:40.854 ...         154537.287048\n",
       " HD163466_y3_9 2016-05-10T08:41:47.875 ...         155012.815561\n",
       "HD163466_y3_10 2016-05-10T08:41:54.822 ...         154829.142435"
      ]
     },
     "execution_count": 24,
     "metadata": {},
     "output_type": "execute_result"
    }
   ],
   "source": [
    "t_y3"
   ]
  },
  {
   "cell_type": "code",
   "execution_count": 25,
   "metadata": {
    "collapsed": true
   },
   "outputs": [],
   "source": [
    "t_y4 = Table.read(fullfile_y4)"
   ]
  },
  {
   "cell_type": "markdown",
   "metadata": {},
   "source": [
    "# Flux for Y3"
   ]
  },
  {
   "cell_type": "code",
   "execution_count": 27,
   "metadata": {
    "collapsed": false
   },
   "outputs": [],
   "source": [
    "the_sigmaxy_2=t_y3['sigmaxpix_psf']**2+t_y3['sigmaypix_psf']**2 "
   ]
  },
  {
   "cell_type": "code",
   "execution_count": 32,
   "metadata": {
    "collapsed": true
   },
   "outputs": [],
   "source": [
    "weights=t_y3['exposure']/(t_y3['sigmaxpix_psf']**2+t_y3['sigmaypix_psf']**2 )"
   ]
  },
  {
   "cell_type": "code",
   "execution_count": 33,
   "metadata": {
    "collapsed": false
   },
   "outputs": [],
   "source": [
    "weights_reduce=weights/weights.sum()"
   ]
  },
  {
   "cell_type": "code",
   "execution_count": 39,
   "metadata": {
    "collapsed": true
   },
   "outputs": [],
   "source": [
    "(average_flux_y3, error_flux_y3)= weighted_avg_and_std(t_y3['residual_aperture_sum'], weights_reduce)"
   ]
  },
  {
   "cell_type": "code",
   "execution_count": 49,
   "metadata": {
    "collapsed": true
   },
   "outputs": [],
   "source": [
    "relative_error_flux_y3=error_flux_y3/average_flux_y3"
   ]
  },
  {
   "cell_type": "code",
   "execution_count": 63,
   "metadata": {
    "collapsed": false
   },
   "outputs": [
    {
     "name": "stdout",
     "output_type": "stream",
     "text": [
      "Y3 : 154366.554962 +/- 427.812150858  : relative error :  0.00277140440792\n"
     ]
    }
   ],
   "source": [
    "print 'Y3 :',average_flux_y3,'+/-' ,error_flux_y3 , ' : relative error : ',relative_error_flux_y3"
   ]
  },
  {
   "cell_type": "markdown",
   "metadata": {},
   "source": [
    "# Flux for Y4"
   ]
  },
  {
   "cell_type": "code",
   "execution_count": 43,
   "metadata": {
    "collapsed": true
   },
   "outputs": [],
   "source": [
    "the_sigmaxy_2=t_y4['sigmaxpix_psf']**2+t_y4['sigmaypix_psf']**2 "
   ]
  },
  {
   "cell_type": "code",
   "execution_count": 44,
   "metadata": {
    "collapsed": true
   },
   "outputs": [],
   "source": [
    "weights=t_y4['exposure']/(t_y4['sigmaxpix_psf']**2+t_y4['sigmaypix_psf']**2 )"
   ]
  },
  {
   "cell_type": "code",
   "execution_count": 45,
   "metadata": {
    "collapsed": true
   },
   "outputs": [],
   "source": [
    "weights_reduce=weights/weights.sum()"
   ]
  },
  {
   "cell_type": "code",
   "execution_count": 46,
   "metadata": {
    "collapsed": true
   },
   "outputs": [],
   "source": [
    "(average_flux_y4, error_flux_y4)= weighted_avg_and_std(t_y4['residual_aperture_sum'], weights_reduce)"
   ]
  },
  {
   "cell_type": "code",
   "execution_count": 51,
   "metadata": {
    "collapsed": true
   },
   "outputs": [],
   "source": [
    "relative_error_flux_y4=error_flux_y4/average_flux_y4"
   ]
  },
  {
   "cell_type": "code",
   "execution_count": 64,
   "metadata": {
    "collapsed": false
   },
   "outputs": [
    {
     "name": "stdout",
     "output_type": "stream",
     "text": [
      "Y4 : 331582.585345 +/- 977.20428529  : relative error :  0.00294709170047\n"
     ]
    }
   ],
   "source": [
    "print 'Y4 :',average_flux_y4,'+/-' ,error_flux_y4 , ' : relative error : ',relative_error_flux_y4"
   ]
  },
  {
   "cell_type": "markdown",
   "metadata": {},
   "source": [
    "# Color Y3-Y4"
   ]
  },
  {
   "cell_type": "code",
   "execution_count": 58,
   "metadata": {
    "collapsed": true
   },
   "outputs": [],
   "source": [
    "Color_Y3_Y4=-2.5*np.log10(average_flux_y3/average_flux_y4)"
   ]
  },
  {
   "cell_type": "code",
   "execution_count": 59,
   "metadata": {
    "collapsed": true
   },
   "outputs": [],
   "source": [
    "Color_Y3_Y4_error=np.sqrt(relative_error_flux_y3**2+relative_error_flux_y4**2 )"
   ]
  },
  {
   "cell_type": "code",
   "execution_count": 61,
   "metadata": {
    "collapsed": true
   },
   "outputs": [],
   "source": [
    "Color_Y3_Y4_relative_error=Color_Y3_Y4_error/Color_Y3_Y4"
   ]
  },
  {
   "cell_type": "code",
   "execution_count": 65,
   "metadata": {
    "collapsed": false
   },
   "outputs": [
    {
     "name": "stdout",
     "output_type": "stream",
     "text": [
      "Color_Y3_Y4 =  0.830096253519  +/-  0.00404549525809  : relative error =  0.00487352549893\n"
     ]
    }
   ],
   "source": [
    "print 'Color_Y3_Y4 = ', Color_Y3_Y4,' +/- ', Color_Y3_Y4_error, ' : relative error = ', Color_Y3_Y4_relative_error"
   ]
  },
  {
   "cell_type": "code",
   "execution_count": null,
   "metadata": {
    "collapsed": true
   },
   "outputs": [],
   "source": []
  }
 ],
 "metadata": {
  "kernelspec": {
   "display_name": "Python 2",
   "language": "python",
   "name": "python2"
  },
  "language_info": {
   "codemirror_mode": {
    "name": "ipython",
    "version": 2
   },
   "file_extension": ".py",
   "mimetype": "text/x-python",
   "name": "python",
   "nbconvert_exporter": "python",
   "pygments_lexer": "ipython2",
   "version": "2.7.12"
  }
 },
 "nbformat": 4,
 "nbformat_minor": 0
}
