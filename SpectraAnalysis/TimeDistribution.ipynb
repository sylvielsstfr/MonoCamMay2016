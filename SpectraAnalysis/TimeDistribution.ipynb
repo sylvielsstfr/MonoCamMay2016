{
 "cells": [
  {
   "cell_type": "markdown",
   "metadata": {},
   "source": [
    "# Show time distribution\n",
    "=======================================\n",
    "\n",
    "\n",
    "\n",
    "- Author Sylvie Dagoret-Campagne\n",
    "- Creation date Friday 5th 2016\n"
   ]
  },
  {
   "cell_type": "markdown",
   "metadata": {},
   "source": [
    "## Import packages\n",
    "-------------------------"
   ]
  },
  {
   "cell_type": "code",
   "execution_count": 92,
   "metadata": {
    "collapsed": false
   },
   "outputs": [
    {
     "name": "stdout",
     "output_type": "stream",
     "text": [
      "ccdproc version 1.0.1\n"
     ]
    }
   ],
   "source": [
    "%config InlineBackend.rc = {}\n",
    "import matplotlib\n",
    "matplotlib.rc_file(\"../templates/matplotlibrc\")\n",
    "\n",
    "\n",
    "%matplotlib inline\n",
    "import matplotlib.pyplot as plt\n",
    "import numpy as np\n",
    "\n",
    "from astropy.modeling import models\n",
    "from astropy import units as u\n",
    "from astropy import nddata\n",
    "from astropy.io import fits\n",
    "from astropy.table import Table\n",
    "\n",
    "import ccdproc\n",
    "print 'ccdproc version',ccdproc.__version__\n",
    "\n",
    "from astropy.modeling import models"
   ]
  },
  {
   "cell_type": "code",
   "execution_count": 93,
   "metadata": {
    "collapsed": true
   },
   "outputs": [],
   "source": [
    "from astropy.time import Time, TimeDelta,TimezoneInfo"
   ]
  },
  {
   "cell_type": "code",
   "execution_count": 94,
   "metadata": {
    "collapsed": true
   },
   "outputs": [],
   "source": [
    "def smooth(x,window_len=11,window='hanning'):\n",
    "    \"\"\"\n",
    "    smooth the data using a window with requested size.     \n",
    "    This method is based on the convolution of a scaled window with the signal.\n",
    "    The signal is prepared by introducing reflected copies of the signal \n",
    "     (with the window size) in both ends so that transient parts are minimized\n",
    "     in the begining and end part of the output signal.     \n",
    "     input:\n",
    "     x: the input signal \n",
    "     window_len: the dimension of the smoothing window; should be an odd integer\n",
    "     window: the type of window from 'flat', 'hanning', 'hamming', 'bartlett', 'blackman\n",
    "     flat window will produce a moving average smoothing.\n",
    "\n",
    "     output:\n",
    "        the smoothed signal         \n",
    "        example:\n",
    " \n",
    "         t=linspace(-2,2,0.1)\n",
    "         x=sin(t)+randn(len(t))*0.1\n",
    "         y=smooth(x)\n",
    "         \n",
    "         see also: \n",
    "           \n",
    "         numpy.hanning, numpy.hamming, numpy.bartlett, numpy.blackman, numpy.convolve\n",
    "           scipy.signal.lfilter\n",
    "    \n",
    "           TODO: the window parameter could be the window itself if an array instead of a string\n",
    "           NOTE: length(output) != length(input), to correct this: return y[(window_len/2-1):-(window_len/2)] instead of just y.\n",
    "       \"\"\" \n",
    "      \n",
    "    if x.ndim != 1:\n",
    "        raise ValueError, \"smooth only accepts 1 dimension arrays.\"\n",
    " \n",
    "    if x.size < window_len:\n",
    "        raise ValueError, \"Input vector needs to be bigger than window size.\"\n",
    " \n",
    "    if window_len<3:\n",
    "        return x\n",
    "   \n",
    "    if not window in ['flat', 'hanning', 'hamming', 'bartlett', 'blackman']:\n",
    "        raise ValueError, \"Window is on of 'flat', 'hanning', 'hamming', 'bartlett', 'blackman'\"\n",
    "       \n",
    "  \n",
    "    s=np.r_[x[window_len-1:0:-1],x,x[-1:-window_len:-1]]\n",
    "    #print(len(s))\n",
    "    if window == 'flat': #moving average\n",
    "        w=np.ones(window_len,'d')\n",
    "    else:\n",
    "        w=eval('np.'+window+'(window_len)')\n",
    "     \n",
    "    y=np.convolve(w/w.sum(),s,mode='valid')\n",
    "    return y    "
   ]
  },
  {
   "cell_type": "code",
   "execution_count": 95,
   "metadata": {
    "collapsed": true
   },
   "outputs": [],
   "source": [
    "from scipy import stats \n",
    "from scipy import ndimage\n",
    "import os\n",
    "from datetime import datetime, timedelta"
   ]
  },
  {
   "cell_type": "code",
   "execution_count": 96,
   "metadata": {
    "collapsed": false
   },
   "outputs": [
    {
     "name": "stdout",
     "output_type": "stream",
     "text": [
      "standard date format for the analysis : 2016-07-19 21:29:46.002349\n",
      "fits date format for the analysis :  2016-07-19T21:29:46\n"
     ]
    }
   ],
   "source": [
    "now=datetime.utcnow()  # choose UTC time\n",
    "datestr=str(now)\n",
    "print 'standard date format for the analysis :',datestr\n",
    "#  want the following format '2016-05-10T11:55:27.267'\n",
    "date_of_analysis=now.strftime('%Y-%m-%dT%H:%M:%S')\n",
    "print 'fits date format for the analysis : ',date_of_analysis"
   ]
  },
  {
   "cell_type": "code",
   "execution_count": 97,
   "metadata": {
    "collapsed": true
   },
   "outputs": [],
   "source": [
    "# to enlarge the sizes\n",
    "params = {'legend.fontsize': 'x-large',\n",
    "          'figure.figsize': (15, 5),\n",
    "         'axes.labelsize': 'x-large',\n",
    "         'axes.titlesize':'x-large',\n",
    "         'xtick.labelsize':'x-large',\n",
    "         'ytick.labelsize':'x-large'}\n",
    "plt.rcParams.update(params)"
   ]
  },
  {
   "cell_type": "markdown",
   "metadata": {},
   "source": [
    "## Few definitions\n",
    "-----------------------\n",
    "\n",
    "- file index\n",
    "- object name\n",
    "- filename\n",
    "- path"
   ]
  },
  {
   "cell_type": "markdown",
   "metadata": {},
   "source": [
    "### Night 2016/05/11"
   ]
  },
  {
   "cell_type": "code",
   "execution_count": 98,
   "metadata": {
    "collapsed": false
   },
   "outputs": [],
   "source": [
    "# definition for the series of images\n",
    "#run=1\n",
    "#FactorPredToData=2.3e14\n",
    "#fileindex_start=103;  # file number\n",
    "#fileindex_stop=112;\n",
    "#fileindexes=np.arange(fileindex_start,fileindex_stop+1)\n",
    "#info='obj HD158485_grat_, 05/11, Nimg='+str(fileindexes.shape[0]) +', expo=5s, am=1.1' \n",
    "#infofig='hd158485_grat_0511_run_'+str(run)+'_'+str(fileindex_start)+'-'+str(fileindex_stop)\n",
    "#infotab='hd158485_grat_0511_run_'+str(run)+'_'+str(fileindex_start)+'-'+str(fileindex_stop)\n",
    "#path_spectrum=path='../MyReduction_2016_05_11/HD158485_grat'+'_spectra'   # path where is the spectra"
   ]
  },
  {
   "cell_type": "code",
   "execution_count": 99,
   "metadata": {
    "collapsed": true
   },
   "outputs": [],
   "source": [
    "# definition for the series of images\n",
    "#run=2\n",
    "#FactorPredToData=2.3e14\n",
    "#fileindex_start=52;  # file number\n",
    "#fileindex_stop=71;\n",
    "#fileindexes=np.arange(fileindex_start,fileindex_stop+1)\n",
    "#info='obj HD158485_grat_, 05/11, Nimg='+str(fileindexes.shape[0]) +', expo=5s, am=1.2' \n",
    "#infofig='hd158485_grat_0511_run_'+str(run)+'_'+str(fileindex_start)+'-'+str(fileindex_stop)\n",
    "#infotab='hd158485_grat_0511_run_'+str(run)+'_'+str(fileindex_start)+'-'+str(fileindex_stop)\n",
    "#path_spectrum=path='../MyReduction_2016_05_11/HD158485_grat'+'_spectra'   # path where is the spectra"
   ]
  },
  {
   "cell_type": "code",
   "execution_count": 100,
   "metadata": {
    "collapsed": true
   },
   "outputs": [],
   "source": [
    "# definition for the series of images\n",
    "#run=3\n",
    "#FactorPredToData=2.3e14\n",
    "#fileindex_start=22;  # file number\n",
    "#fileindex_stop=31;\n",
    "#fileindexes=np.arange(fileindex_start,fileindex_stop+1)\n",
    "#info='obj HD158485_grat_, 05/11, Nimg='+str(fileindexes.shape[0]) +', expo=5s, am=1.43' \n",
    "#infofig='hd158485_grat_0511_run_'+str(run)+'_'+str(fileindex_start)+'-'+str(fileindex_stop)\n",
    "#infotab='hd158485_grat_0511_run_'+str(run)+'_'+str(fileindex_start)+'-'+str(fileindex_stop)\n",
    "#path_spectrum=path='../MyReduction_2016_05_11/HD158485_grat'+'_spectra'   # path where is the spectra"
   ]
  },
  {
   "cell_type": "code",
   "execution_count": 101,
   "metadata": {
    "collapsed": true
   },
   "outputs": [],
   "source": [
    "# definition for the series of images\n",
    "run=4\n",
    "FactorPredToData=2.3e14\n",
    "fileindex_start=7;  # file number\n",
    "fileindex_stop=16;\n",
    "fileindexes=np.arange(fileindex_start,fileindex_stop+1)\n",
    "info='obj HD158485_grat_, 05/11, Nimg='+str(fileindexes.shape[0]) +', expo=5s, am=1.77' \n",
    "infofig='hd158485_grat_0511_run_'+str(run)+'_'+str(fileindex_start)+'_'+str(fileindex_stop)\n",
    "infotab='hd158485_grat_0511_run_'+str(run)+'_'+str(fileindex_start)+'-'+str(fileindex_stop)\n",
    "path_spectrum=path='../MyReduction_2016_05_11/HD158485_grat'+'_spectra'   # path where is the spectra"
   ]
  },
  {
   "cell_type": "markdown",
   "metadata": {},
   "source": [
    "### Night 2016/05/09"
   ]
  },
  {
   "cell_type": "code",
   "execution_count": 102,
   "metadata": {
    "collapsed": false
   },
   "outputs": [],
   "source": [
    "# definition for the series of images\n",
    "#run=5\n",
    "#FactorPredToData=2.3e14\n",
    "#fileindex_start=2;  # file number\n",
    "#fileindex_stop=25;\n",
    "#fileindexes=np.arange(fileindex_start,fileindex_stop+1)\n",
    "#info='obj HD158485_grat_, 05/09, Nimg='+str(fileindexes.shape[0]) +', expo=1.5s, am=1.1' \n",
    "#infofig='hd158485_grat_0509_run_'+str(run)+'_'+str(fileindex_start)+'_'+str(fileindex_stop)\n",
    "#infotab='hd158485_grat_0509_run_'+str(run)+'_'+str(fileindex_start)+'-'+str(fileindex_stop)\n",
    "#path_spectrum=path='../MyReduction_2016_05_09/HD158485_grat'+'_spectra'   # path where is the spectra"
   ]
  },
  {
   "cell_type": "markdown",
   "metadata": {},
   "source": [
    "### Night 2016/05/10"
   ]
  },
  {
   "cell_type": "code",
   "execution_count": 103,
   "metadata": {
    "collapsed": true
   },
   "outputs": [],
   "source": [
    "# definition for the series of images\n",
    "#run=6\n",
    "#FactorPredToData=2.3e14\n",
    "#fileindex_start=2;  # must remove the first image because goes not with the others\n",
    "#fileindex_stop=13;\n",
    "#fileindexes=np.arange(fileindex_start,fileindex_stop+1)\n",
    "#info='obj HD158485_grat_, 05/10, Nimg='+str(fileindexes.shape[0]) +', expo=1.5-5s, am=1.1' \n",
    "#infofig='hd158485_grat_0510_run_'+str(run)+'_'+str(fileindex_start)+'_'+str(fileindex_stop)\n",
    "#infotab='hd158485_grat_0510_run_'+str(run)+'_'+str(fileindex_start)+'-'+str(fileindex_stop)\n",
    "#path_spectrum=path='../MyReduction_2016_05_10/HD158485_grat'+'_spectra'   # path where is the spectra"
   ]
  },
  {
   "cell_type": "code",
   "execution_count": 104,
   "metadata": {
    "collapsed": true
   },
   "outputs": [],
   "source": [
    "object_name='HD158485_grat_' # object name"
   ]
  },
  {
   "cell_type": "code",
   "execution_count": 105,
   "metadata": {
    "collapsed": true
   },
   "outputs": [],
   "source": [
    "\n",
    "path='../MyReduction_2016_05_11'   # path of the table\n"
   ]
  },
  {
   "cell_type": "code",
   "execution_count": 106,
   "metadata": {
    "collapsed": true
   },
   "outputs": [],
   "source": [
    "tablefile_HD158485_PSF_with_AM='HD158485_grat_1-132_TablePSF_night20160511_withAM.fits'"
   ]
  },
  {
   "cell_type": "code",
   "execution_count": 107,
   "metadata": {
    "collapsed": true
   },
   "outputs": [],
   "source": [
    "fullfilename=os.path.join(path,tablefile_HD158485_PSF_with_AM)"
   ]
  },
  {
   "cell_type": "code",
   "execution_count": null,
   "metadata": {
    "collapsed": false
   },
   "outputs": [],
   "source": []
  },
  {
   "cell_type": "markdown",
   "metadata": {},
   "source": [
    "### A) Open the table file\n",
    "\n",
    "- open and read each of the fits file\n",
    "- fill the list booked above\n"
   ]
  },
  {
   "cell_type": "code",
   "execution_count": 108,
   "metadata": {
    "collapsed": false
   },
   "outputs": [],
   "source": [
    "t = Table.read(fullfilename)"
   ]
  },
  {
   "cell_type": "code",
   "execution_count": 109,
   "metadata": {
    "collapsed": false
   },
   "outputs": [
    {
     "data": {
      "text/html": [
       "&lt;Table masked=True length=131&gt;\n",
       "<table id=\"table4589778064-755341\" class=\"table table-striped table-bordered table-condensed\">\n",
       "<thead><tr><th>num</th><th>file</th><th>time</th><th>exposure</th><th>nbstars</th><th>prfx</th><th>pfry</th><th>sig_prfx</th><th>sig_prfy</th><th>sigmax</th><th>sigmay</th><th>azimuth</th><th>altitude</th><th>airmass</th></tr></thead>\n",
       "<thead><tr><th></th><th></th><th></th><th></th><th></th><th></th><th></th><th></th><th></th><th></th><th></th><th>deg</th><th>deg</th><th></th></tr></thead>\n",
       "<tr><td>1</td><td>AssScImHD158485_grat_1.fits</td><td>2016-05-12T04:08:27.322</td><td>5.0</td><td>1</td><td>4.47415632464</td><td>4.32646900741</td><td>0.0</td><td>0.0</td><td>4.22360357046</td><td>4.08418674299</td><td>38.317046414</td><td>34.0317973678</td><td>1.78682177288</td></tr>\n",
       "<tr><td>2</td><td>AssScImHD158485_grat_2.fits</td><td>2016-05-12T04:10:10.602</td><td>5.0</td><td>5</td><td>4.23915877347</td><td>4.09248732084</td><td>0.392718231946</td><td>0.18464392513</td><td>4.00176588215</td><td>3.86330803087</td><td>38.3781306161</td><td>34.2506080516</td><td>1.77678688395</td></tr>\n",
       "<tr><td>3</td><td>AssScImHD158485_grat_3.fits</td><td>2016-05-12T04:10:20.458</td><td>5.0</td><td>21</td><td>3.76020655028</td><td>3.81432116694</td><td>0.235852244067</td><td>0.767497075115</td><td>3.54963498347</td><td>3.60071918159</td><td>38.3838874334</td><td>34.271504474</td><td>1.77583579663</td></tr>\n",
       "<tr><td>4</td><td>AssScImHD158485_grat_4.fits</td><td>2016-05-12T04:10:29.432</td><td>5.0</td><td>21</td><td>3.56680321661</td><td>3.96483104307</td><td>0.181167115677</td><td>0.648766625551</td><td>3.36706223648</td><td>3.74280050466</td><td>38.3891180689</td><td>34.2905332072</td><td>1.77497080661</td></tr>\n",
       "<tr><td>5</td><td>AssScImHD158485_grat_5.fits</td><td>2016-05-12T04:10:38.586</td><td>5.0</td><td>10</td><td>3.54780685321</td><td>3.54182907249</td><td>0.394432864272</td><td>0.769873402452</td><td>3.34912966943</td><td>3.34348664443</td><td>38.3944427983</td><td>34.3099458746</td><td>1.77408943351</td></tr>\n",
       "<tr><td>6</td><td>AssScImHD158485_grat_6.fits</td><td>2016-05-12T04:10:47.541</td><td>5.0</td><td>23</td><td>3.5644327671</td><td>3.49984527018</td><td>0.199997271512</td><td>0.77663355496</td><td>3.36482453215</td><td>3.30385393505</td><td>38.39964119</td><td>34.3289387283</td><td>1.77322816438</td></tr>\n",
       "<tr><td>7</td><td>AssScImHD158485_grat_7.fits</td><td>2016-05-12T04:10:56.526</td><td>5.0</td><td>33</td><td>3.40986449559</td><td>3.42051094206</td><td>0.21440035444</td><td>0.74200994629</td><td>3.21891208384</td><td>3.2289623293</td><td>38.4048464703</td><td>34.3479973927</td><td>1.7723649468</td></tr>\n",
       "<tr><td>8</td><td>AssScImHD158485_grat_8.fits</td><td>2016-05-12T04:11:05.546</td><td>5.0</td><td>15</td><td>3.31082909982</td><td>3.41278053444</td><td>0.287048747871</td><td>0.315149038754</td><td>3.12542267023</td><td>3.22166482451</td><td>38.4100614141</td><td>34.3671324928</td><td>1.77149930943</td></tr>\n",
       "<tr><td>9</td><td>AssScImHD158485_grat_9.fits</td><td>2016-05-12T04:11:14.644</td><td>5.0</td><td>20</td><td>3.66129988733</td><td>3.56658136927</td><td>0.372296084714</td><td>0.601672154467</td><td>3.45626709364</td><td>3.36685281259</td><td>38.4153106745</td><td>34.3864352857</td><td>1.77062714222</td></tr>\n",
       "<tr><td>10</td><td>AssScImHD158485_grat_10.fits</td><td>2016-05-12T04:11:23.668</td><td>5.0</td><td>14</td><td>3.60612987419</td><td>3.49005403591</td><td>0.192594537903</td><td>0.801257717416</td><td>3.40418660124</td><td>3.2946110099</td><td>38.4205065377</td><td>34.4055832771</td><td>1.76976301592</td></tr>\n",
       "<tr><td>11</td><td>AssScImHD158485_grat_11.fits</td><td>2016-05-12T04:11:32.661</td><td>5.0</td><td>12</td><td>3.89872044032</td><td>3.82341327732</td><td>0.25947639141</td><td>0.421354391047</td><td>3.68039209567</td><td>3.60930213379</td><td>38.4256739413</td><td>34.4246676655</td><td>1.76890279527</td></tr>\n",
       "<tr><td>12</td><td>AssScImHD158485_grat_12.fits</td><td>2016-05-12T04:11:41.765</td><td>5.0</td><td>8</td><td>3.81541315318</td><td>3.71157019042</td><td>0.0652753299774</td><td>0.119638403545</td><td>3.6017500166</td><td>3.50372225976</td><td>38.4308943294</td><td>34.4439898191</td><td>1.76803290871</td></tr>\n",
       "<tr><td>13</td><td>AssScImHD158485_grat_13.fits</td><td>2016-05-12T04:11:50.838</td><td>5.0</td><td>8</td><td>3.06766382783</td><td>3.63035161867</td><td>0.557704660218</td><td>0.301757450723</td><td>2.89587465348</td><td>3.42705192802</td><td>38.4360861268</td><td>34.4632483841</td><td>1.76716693574</td></tr>\n",
       "<tr><td>14</td><td>AssScImHD158485_grat_14.fits</td><td>2016-05-12T04:11:59.898</td><td>5.0</td><td>10</td><td>3.65512834013</td><td>4.62381005287</td><td>0.292415380343</td><td>0.64297665127</td><td>3.45044115308</td><td>4.36487668991</td><td>38.4412597046</td><td>34.4824815471</td><td>1.76630315025</td></tr>\n",
       "<tr><td>15</td><td>AssScImHD158485_grat_15.fits</td><td>2016-05-12T04:12:08.975</td><td>5.0</td><td>7</td><td>4.02701592502</td><td>3.94540630353</td><td>0.0391780366642</td><td>0.593810439453</td><td>3.80150303322</td><td>3.72446355053</td><td>38.4464321792</td><td>34.5017529907</td><td>1.76543869151</td></tr>\n",
       "<tr><td>16</td><td>AssScImHD158485_grat_16.fits</td><td>2016-05-12T04:12:18.028</td><td>5.0</td><td>2</td><td>3.9868858093</td><td>3.87059023644</td><td>0.0368758858383</td><td>0.136014179403</td><td>3.76362020398</td><td>3.6538371832</td><td>38.4515801919</td><td>34.5209756603</td><td>1.76457746194</td></tr>\n",
       "<tr><td>17</td><td>AssScImHD158485_grat_17.fits</td><td>2016-05-12T04:12:27.091</td><td>5.0</td><td>2</td><td>nan</td><td>nan</td><td>nan</td><td>nan</td><td>nan</td><td>nan</td><td>38.4567230945</td><td>34.5402217399</td><td>1.7637162237</td></tr>\n",
       "<tr><td>18</td><td>AssScImHD158485_grat_18.fits</td><td>2016-05-12T04:12:36.094</td><td>5.0</td><td>2</td><td>nan</td><td>3.0190067825</td><td>nan</td><td>0.0</td><td>nan</td><td>2.84994240268</td><td>38.4618212463</td><td>34.5593425557</td><td>1.76286161984</td></tr>\n",
       "<tr><td>19</td><td>AssScImHD158485_grat_19.fits</td><td>2016-05-12T04:12:45.109</td><td>5.0</td><td>4</td><td>nan</td><td>3.05164533262</td><td>nan</td><td>0.0</td><td>nan</td><td>2.88075319399</td><td>38.4669154971</td><td>34.5784910014</td><td>1.76200680722</td></tr>\n",
       "<tr><td>20</td><td>AssScImHD158485_grat_20.fits</td><td>2016-05-12T04:12:54.089</td><td>5.0</td><td>1</td><td>nan</td><td>3.31319320572</td><td>nan</td><td>0.0</td><td>nan</td><td>3.1276543862</td><td>38.4719793213</td><td>34.5975672332</td><td>1.76115623774</td></tr>\n",
       "<tr><td>21</td><td>AssScImHD158485_grat_21.fits</td><td>2016-05-12T04:13:03.162</td><td>5.0</td><td>2</td><td>nan</td><td>nan</td><td>nan</td><td>nan</td><td>nan</td><td>nan</td><td>38.4770847871</td><td>34.6168431777</td><td>1.76029779531</td></tr>\n",
       "<tr><td>22</td><td>AssScImHD158485_grat_22.fits</td><td>2016-05-12T05:25:59.609</td><td>5.0</td><td>44</td><td>3.28594707723</td><td>3.595741612</td><td>0.253079643366</td><td>0.678523883305</td><td>3.10193404091</td><td>3.39438008173</td><td>39.498900391</td><td>44.0709051868</td><td>1.43771521075</td></tr>\n",
       "<tr><td>23</td><td>AssScImHD158485_grat_23.fits</td><td>2016-05-12T05:26:09.372</td><td>5.0</td><td>42</td><td>3.25924023477</td><td>3.41849687265</td><td>0.240074427955</td><td>0.786071738289</td><td>3.07672278163</td><td>3.22706104778</td><td>39.4974907152</td><td>44.0921100387</td><td>1.43716588622</td></tr>\n",
       "<tr><td>24</td><td>AssScImHD158485_grat_24.fits</td><td>2016-05-12T05:26:18.495</td><td>5.0</td><td>49</td><td>3.13259931213</td><td>3.43192384364</td><td>0.241905696297</td><td>0.829655289295</td><td>2.95717375065</td><td>3.23973610839</td><td>39.4961563078</td><td>44.11192426</td><td>1.43665314383</td></tr>\n",
       "<tr><td>25</td><td>AssScImHD158485_grat_25.fits</td><td>2016-05-12T05:26:27.526</td><td>5.0</td><td>41</td><td>3.3030260923</td><td>3.39008971417</td><td>0.258465352127</td><td>0.862755417447</td><td>3.11805663113</td><td>3.20024469018</td><td>39.4948190301</td><td>44.1315381119</td><td>1.43614611582</td></tr>\n",
       "<tr><td>26</td><td>AssScImHD158485_grat_26.fits</td><td>2016-05-12T05:26:36.529</td><td>5.0</td><td>48</td><td>3.08971602002</td><td>3.31039113823</td><td>0.264024560786</td><td>0.806167749465</td><td>2.9166919229</td><td>3.12500923448</td><td>39.4934697136</td><td>44.1510905962</td><td>1.43564119765</td></tr>\n",
       "<tr><td>27</td><td>AssScImHD158485_grat_27.fits</td><td>2016-05-12T05:26:45.545</td><td>5.0</td><td>39</td><td>3.1876335584</td><td>3.39031943035</td><td>0.218074114913</td><td>0.710042555322</td><td>3.00912607913</td><td>3.20046154225</td><td>39.4921022381</td><td>44.1706707503</td><td>1.43513608805</td></tr>\n",
       "<tr><td>28</td><td>AssScImHD158485_grat_28.fits</td><td>2016-05-12T05:26:54.581</td><td>5.0</td><td>46</td><td>3.0932669095</td><td>3.51192866936</td><td>0.279614996512</td><td>0.82389006469</td><td>2.92004396257</td><td>3.31526066387</td><td>39.4907154367</td><td>44.1902937663</td><td>1.43463039724</td></tr>\n",
       "<tr><td>29</td><td>AssScImHD158485_grat_29.fits</td><td>2016-05-12T05:27:03.557</td><td>5.0</td><td>46</td><td>3.18319965449</td><td>3.48696675537</td><td>0.257651305282</td><td>0.814642820032</td><td>3.00494047384</td><td>3.29169661707</td><td>39.4893216795</td><td>44.2097859094</td><td>1.43412859823</td></tr>\n",
       "<tr><td>30</td><td>AssScImHD158485_grat_30.fits</td><td>2016-05-12T05:27:12.611</td><td>5.0</td><td>49</td><td>3.20764797214</td><td>3.3676359542</td><td>0.489904369843</td><td>0.884081508659</td><td>3.0280196857</td><td>3.17904834076</td><td>39.4878994734</td><td>44.2294468497</td><td>1.43362297728</td></tr>\n",
       "<tr><td>31</td><td>AssScImHD158485_grat_31.fits</td><td>2016-05-12T05:27:21.603</td><td>5.0</td><td>56</td><td>3.03519642315</td><td>3.3129883684</td><td>0.261347363996</td><td>0.84429613649</td><td>2.86522542345</td><td>3.12746101977</td><td>39.4864707506</td><td>44.2489725663</td><td>1.43312135357</td></tr>\n",
       "<tr><td>32</td><td>AssScImHD158485_grat_32.fits</td><td>2016-05-12T05:28:02.180</td><td>1.0</td><td>20</td><td>3.10859649697</td><td>3.44037688591</td><td>0.156881427782</td><td>0.150573466362</td><td>2.93451509314</td><td>3.2477157803</td><td>39.4798216171</td><td>44.3370761756</td><td>1.43086435825</td></tr>\n",
       "<tr><td>33</td><td>AssScImHD158485_grat_33.fits</td><td>2016-05-12T05:28:08.346</td><td>1.0</td><td>15</td><td>3.26677102733</td><td>3.46525940881</td><td>0.166536065402</td><td>0.163120634688</td><td>3.0838318498</td><td>3.27120488192</td><td>39.478782234</td><td>44.3504631264</td><td>1.4305223357</td></tr>\n",
       "<tr><td>34</td><td>AssScImHD158485_grat_34.fits</td><td>2016-05-12T05:28:13.262</td><td>1.0</td><td>27</td><td>3.30416638033</td><td>3.34226663735</td><td>0.837819606874</td><td>0.91235520115</td><td>3.11913306304</td><td>3.15509970566</td><td>39.4779480686</td><td>44.3611360008</td><td>1.430249828</td></tr>\n",
       "<tr><td>35</td><td>AssScImHD158485_grat_35.fits</td><td>2016-05-12T05:28:18.218</td><td>1.0</td><td>21</td><td>3.23565616224</td><td>3.43007106361</td><td>0.258953279064</td><td>0.203875606521</td><td>3.05445941715</td><td>3.23798708404</td><td>39.4771021818</td><td>44.3718955256</td><td>1.42997526317</td></tr>\n",
       "<tr><td>36</td><td>AssScImHD158485_grat_36.fits</td><td>2016-05-12T05:28:23.662</td><td>1.0</td><td>10</td><td>3.58613150199</td><td>3.64844718111</td><td>0.829633811259</td><td>0.764300441101</td><td>3.38530813788</td><td>3.44413413896</td><td>39.4761672905</td><td>44.3837142802</td><td>1.42967384815</td></tr>\n",
       "<tr><td>37</td><td>AssScImHD158485_grat_37.fits</td><td>2016-05-12T05:28:28.485</td><td>1.0</td><td>33</td><td>3.04413165235</td><td>3.32815654739</td><td>0.752976027472</td><td>0.345418310405</td><td>2.87366027982</td><td>3.14177978074</td><td>39.4753340435</td><td>44.394184667</td><td>1.42940697763</td></tr>\n",
       "<tr><td>38</td><td>AssScImHD158485_grat_38.fits</td><td>2016-05-12T05:28:33.445</td><td>1.0</td><td>11</td><td>3.16790346349</td><td>3.49869222363</td><td>0.186421920738</td><td>0.15068771748</td><td>2.99050086954</td><td>3.30276545911</td><td>39.4744722259</td><td>44.4049522775</td><td>1.4291326851</td></tr>\n",
       "<tr><td>39</td><td>AssScImHD158485_grat_39.fits</td><td>2016-05-12T05:28:38.625</td><td>1.0</td><td>17</td><td>3.17850180005</td><td>3.45170882661</td><td>0.184394673939</td><td>0.428236899835</td><td>3.00050569924</td><td>3.25841313232</td><td>39.4735668737</td><td>44.4161972731</td><td>1.42884639793</td></tr>\n",
       "<tr><td>40</td><td>AssScImHD158485_grat_40.fits</td><td>2016-05-12T05:28:43.369</td><td>1.0</td><td>29</td><td>2.9596308529</td><td>3.22358624543</td><td>0.166233947906</td><td>0.455216520245</td><td>2.79389152514</td><td>3.04306541568</td><td>39.4727329638</td><td>44.426495589</td><td>1.42858436123</td></tr>\n",
       "<tr><td>41</td><td>AssScImHD158485_grat_41.fits</td><td>2016-05-12T05:28:48.853</td><td>1.0</td><td>22</td><td>2.98888571151</td><td>3.19715533939</td><td>0.185068418554</td><td>0.179563913978</td><td>2.82150811166</td><td>3.01811464039</td><td>39.4717632998</td><td>44.4384000757</td><td>1.42828163335</td></tr>\n",
       "<tr><td>42</td><td>AssScImHD158485_grat_42.fits</td><td>2016-05-12T05:29:36.772</td><td>0.40000000596</td><td>7</td><td>2.86682411487</td><td>3.24636037321</td><td>0.0706035488293</td><td>0.0366570972291</td><td>2.70628196444</td><td>3.06456419231</td><td>39.4630309212</td><td>44.5424104532</td><td>1.42564473943</td></tr>\n",
       "<tr><td>43</td><td>AssScImHD158485_grat_43.fits</td><td>2016-05-12T05:29:41.664</td><td>0.40000000596</td><td>5</td><td>3.0547239756</td><td>3.59587679833</td><td>0.0933875188719</td><td>0.100076012506</td><td>2.88365943296</td><td>3.39450769762</td><td>39.4621131885</td><td>44.5530276679</td><td>1.42537638106</td></tr>\n",
       "<tr><td>44</td><td>AssScImHD158485_grat_44.fits</td><td>2016-05-12T05:29:46.051</td><td>0.40000000596</td><td>6</td><td>3.01344626681</td><td>3.36601080521</td><td>0.152357655774</td><td>0.118809309062</td><td>2.84469327587</td><td>3.17751420012</td><td>39.4612860478</td><td>44.5625486939</td><td>1.42513585722</td></tr>\n",
       "<tr><td>45</td><td>AssScImHD158485_grat_45.fits</td><td>2016-05-12T05:29:50.455</td><td>0.40000000596</td><td>8</td><td>2.96254932865</td><td>3.45285474406</td><td>0.157338023672</td><td>0.105552120844</td><td>2.79664656625</td><td>3.25949487839</td><td>39.4604517573</td><td>44.5721064464</td><td>1.42489452679</td></tr>\n",
       "<tr><td>46</td><td>AssScImHD158485_grat_46.fits</td><td>2016-05-12T05:29:54.826</td><td>0.40000000596</td><td>8</td><td>2.92663366826</td><td>3.28937579906</td><td>0.0772934288234</td><td>0.0738879380197</td><td>2.76274218284</td><td>3.10517075431</td><td>39.4596198086</td><td>44.5815924132</td><td>1.42465512892</td></tr>\n",
       "<tr><td>47</td><td>AssScImHD158485_grat_47.fits</td><td>2016-05-12T05:29:59.239</td><td>0.40000000596</td><td>8</td><td>3.01625700202</td><td>3.25720526906</td><td>0.222836882851</td><td>0.17406666776</td><td>2.84734660991</td><td>3.07480177399</td><td>39.4587759126</td><td>44.5911693585</td><td>1.42441355621</td></tr>\n",
       "<tr><td>48</td><td>AssScImHD158485_grat_48.fits</td><td>2016-05-12T05:30:03.565</td><td>0.40000000596</td><td>10</td><td>3.07331334469</td><td>3.27084330919</td><td>0.671459205592</td><td>0.341519232941</td><td>2.90120779738</td><td>3.08767608388</td><td>39.4579447962</td><td>44.6005573326</td><td>1.4241768683</td></tr>\n",
       "<tr><td>49</td><td>AssScImHD158485_grat_49.fits</td><td>2016-05-12T05:30:08.036</td><td>0.40000000596</td><td>6</td><td>2.90912107558</td><td>3.32465320213</td><td>0.0241820662387</td><td>0.0868892416009</td><td>2.74621029534</td><td>3.13847262281</td><td>39.4570818072</td><td>44.6102598011</td><td>1.42393237422</td></tr>\n",
       "<tr><td>50</td><td>AssScImHD158485_grat_50.fits</td><td>2016-05-12T05:30:12.368</td><td>0.40000000596</td><td>5</td><td>2.95295960908</td><td>3.34632328482</td><td>0.0622994054608</td><td>0.0917063355756</td><td>2.78759387097</td><td>3.15892918087</td><td>39.456241753</td><td>44.6196604573</td><td>1.42369560454</td></tr>\n",
       "<tr><td>51</td><td>AssScImHD158485_grat_51.fits</td><td>2016-05-12T05:30:16.783</td><td>0.40000000596</td><td>7</td><td>2.96661076424</td><td>3.41154223311</td><td>0.164851621685</td><td>0.124816303406</td><td>2.80048056144</td><td>3.22049586805</td><td>39.4553816577</td><td>44.6292410551</td><td>1.42345442319</td></tr>\n",
       "<tr><td>52</td><td>AssScImHD158485_grat_52.fits</td><td>2016-05-12T06:49:01.484</td><td>5.0</td><td>69</td><td>3.12814135829</td><td>3.66886225668</td><td>0.39895460796</td><td>0.863951047246</td><td>2.95296544222</td><td>3.46340597031</td><td>35.7651866475</td><td>54.5862237637</td><td>1.22701119463</td></tr>\n",
       "<tr><td>53</td><td>AssScImHD158485_grat_53.fits</td><td>2016-05-12T06:49:16.884</td><td>5.0</td><td>42</td><td>3.11083648179</td><td>3.76264322495</td><td>0.22524403562</td><td>0.663899312371</td><td>2.93662963881</td><td>3.55193520435</td><td>35.7422059817</td><td>54.6169504709</td><td>1.22654367763</td></tr>\n",
       "<tr><td>54</td><td>AssScImHD158485_grat_54.fits</td><td>2016-05-12T06:49:25.989</td><td>5.0</td><td>42</td><td>3.18791830655</td><td>3.69855310945</td><td>0.259665978494</td><td>0.62926100076</td><td>3.00939488139</td><td>3.49143413532</td><td>35.7285787661</td><td>54.6351090742</td><td>1.22626772167</td></tr>\n",
       "<tr><td>55</td><td>AssScImHD158485_grat_55.fits</td><td>2016-05-12T06:49:34.981</td><td>5.0</td><td>45</td><td>3.37305496621</td><td>3.74839857575</td><td>0.633810374985</td><td>0.597520820514</td><td>3.1841638881</td><td>3.5384882555</td><td>35.7150912645</td><td>54.6530364172</td><td>1.22599552273</td></tr>\n",
       "<tr><td>56</td><td>AssScImHD158485_grat_56.fits</td><td>2016-05-12T06:49:43.924</td><td>5.0</td><td>42</td><td>3.27414248068</td><td>3.79791682945</td><td>0.205123403399</td><td>0.653828741287</td><td>3.09079050176</td><td>3.585233487</td><td>35.7016482406</td><td>54.6708602418</td><td>1.22572513427</td></tr>\n",
       "<tr><td>57</td><td>AssScImHD158485_grat_57.fits</td><td>2016-05-12T06:49:52.990</td><td>5.0</td><td>34</td><td>3.29405867816</td><td>3.74308392959</td><td>0.218012625118</td><td>0.725666433986</td><td>3.10959139219</td><td>3.53347122954</td><td>35.6879907523</td><td>54.6889232658</td><td>1.22545135974</td></tr>\n",
       "<tr><td>58</td><td>AssScImHD158485_grat_58.fits</td><td>2016-05-12T06:50:02.048</td><td>5.0</td><td>46</td><td>3.12130694657</td><td>3.5351905647</td><td>0.669269193909</td><td>0.686506762125</td><td>2.94651375756</td><td>3.33721989308</td><td>35.6743155483</td><td>54.7069643584</td><td>1.2251781612</td></tr>\n",
       "<tr><td>59</td><td>AssScImHD158485_grat_59.fits</td><td>2016-05-12T06:50:11.116</td><td>5.0</td><td>45</td><td>3.3576518038</td><td>3.96851452715</td><td>0.281960609895</td><td>0.724248253401</td><td>3.16962330279</td><td>3.74627771363</td><td>35.660595411</td><td>54.7250193547</td><td>1.22490499559</td></tr>\n",
       "<tr><td>60</td><td>AssScImHD158485_grat_60.fits</td><td>2016-05-12T06:50:20.142</td><td>5.0</td><td>52</td><td>3.04941573983</td><td>3.58167062182</td><td>0.444796354264</td><td>0.643234923903</td><td>2.8786484584</td><td>3.381097067</td><td>35.6469091433</td><td>54.742984737</td><td>1.22463342736</td></tr>\n",
       "<tr><td>61</td><td>AssScImHD158485_grat_61.fits</td><td>2016-05-12T06:50:29.073</td><td>5.0</td><td>41</td><td>3.10126847855</td><td>3.68602989671</td><td>0.187297076968</td><td>0.687715650869</td><td>2.92759744375</td><td>3.4796122225</td><td>35.6333377508</td><td>54.7607551358</td><td>1.22436504338</td></tr>\n",
       "<tr><td>62</td><td>AssScImHD158485_grat_62.fits</td><td>2016-05-12T06:50:38.065</td><td>1.0</td><td>17</td><td>3.10396455864</td><td>3.59887816091</td><td>0.156451372544</td><td>0.686588590653</td><td>2.93014254336</td><td>3.3973409839</td><td>35.6196443138</td><td>54.7786409712</td><td>1.2240951536</td></tr>\n",
       "<tr><td>63</td><td>AssScImHD158485_grat_63.fits</td><td>2016-05-12T06:50:48.638</td><td>1.0</td><td>10</td><td>3.09570399541</td><td>3.47454193053</td><td>0.119588499667</td><td>0.0918910000622</td><td>2.92234457166</td><td>3.27996758242</td><td>35.6035055411</td><td>54.7996639068</td><td>1.2237782308</td></tr>\n",
       "<tr><td>64</td><td>AssScImHD158485_grat_64.fits</td><td>2016-05-12T06:50:54.261</td><td>1.0</td><td>13</td><td>3.05306420349</td><td>3.56638244997</td><td>0.151462803915</td><td>0.198421734061</td><td>2.88209260809</td><td>3.36666503277</td><td>35.5949058956</td><td>54.810841087</td><td>1.2236098676</td></tr>\n",
       "<tr><td>65</td><td>AssScImHD158485_grat_65.fits</td><td>2016-05-12T06:50:59.151</td><td>1.0</td><td>18</td><td>3.19614799467</td><td>3.76642921812</td><td>0.198868383251</td><td>0.413193762048</td><td>3.01716370696</td><td>3.55550918191</td><td>35.5874178877</td><td>54.8205593321</td><td>1.22346355599</td></tr>\n",
       "<tr><td>66</td><td>AssScImHD158485_grat_66.fits</td><td>2016-05-12T06:51:04.374</td><td>1.0</td><td>17</td><td>3.05088975156</td><td>3.753091183</td><td>0.153638785588</td><td>0.177392104006</td><td>2.88003992547</td><td>3.54291807675</td><td>35.579410306</td><td>54.8309374105</td><td>1.22330738783</td></tr>\n",
       "<tr><td>67</td><td>AssScImHD158485_grat_67.fits</td><td>2016-05-12T06:51:09.842</td><td>1.0</td><td>15</td><td>2.93605826333</td><td>3.70299625127</td><td>0.188262485109</td><td>0.207528739769</td><td>2.77163900058</td><td>3.4956284612</td><td>35.5710164139</td><td>54.8418001293</td><td>1.22314401255</td></tr>\n",
       "<tr><td>68</td><td>AssScImHD158485_grat_68.fits</td><td>2016-05-12T06:51:16.270</td><td>1.0</td><td>19</td><td>3.12519257165</td><td>3.84646591372</td><td>0.327930985766</td><td>0.2168390367</td><td>2.95018178764</td><td>3.63106382255</td><td>35.5611348372</td><td>54.8545671349</td><td>1.22295210874</td></tr>\n",
       "<tr><td>69</td><td>AssScImHD158485_grat_69.fits</td><td>2016-05-12T06:51:19.731</td><td>1.0</td><td>15</td><td>3.09678120892</td><td>3.54323283931</td><td>0.245442913802</td><td>0.191204445139</td><td>2.92336146122</td><td>3.3448118003</td><td>35.5558080752</td><td>54.861439942</td><td>1.22284885207</td></tr>\n",
       "<tr><td>70</td><td>AssScImHD158485_grat_70.fits</td><td>2016-05-12T06:51:25.220</td><td>1.0</td><td>14</td><td>3.0990480419</td><td>3.49456511305</td><td>0.180300265725</td><td>0.171808850108</td><td>2.92550135155</td><td>3.29886946672</td><td>35.5473510534</td><td>54.87233809</td><td>1.22268519069</td></tr>\n",
       "<tr><td>71</td><td>AssScImHD158485_grat_71.fits</td><td>2016-05-12T06:51:30.008</td><td>1.0</td><td>19</td><td>3.03825972651</td><td>3.53793851406</td><td>0.175072437294</td><td>0.391536127593</td><td>2.86811718183</td><td>3.33981395727</td><td>35.5399650559</td><td>54.8818425966</td><td>1.22254252999</td></tr>\n",
       "<tr><td>72</td><td>AssScImHD158485_grat_72.fits</td><td>2016-05-12T08:35:30.070</td><td>5.0</td><td>43</td><td>2.97746154782</td><td>3.63114526552</td><td>0.182328861758</td><td>0.742834706618</td><td>2.81072370114</td><td>3.42780113065</td><td>17.0921921868</td><td>64.8113332162</td><td>1.10508074109</td></tr>\n",
       "<tr><td>73</td><td>AssScImHD158485_grat_73.fits</td><td>2016-05-12T08:36:00.486</td><td>5.0</td><td>49</td><td>3.03411754271</td><td>3.59779398152</td><td>0.221631529847</td><td>0.754352046444</td><td>2.86420696032</td><td>3.39631751856</td><td>16.9541126305</td><td>64.8417398114</td><td>1.10480513952</td></tr>\n",
       "<tr><td>74</td><td>AssScImHD158485_grat_74.fits</td><td>2016-05-12T08:36:09.508</td><td>5.0</td><td>47</td><td>3.17480863453</td><td>3.52781043232</td><td>0.1885822264</td><td>0.769350079922</td><td>2.997019351</td><td>3.33025304811</td><td>16.9130695447</td><td>64.8507129481</td><td>1.10472389385</td></tr>\n",
       "<tr><td>75</td><td>AssScImHD158485_grat_75.fits</td><td>2016-05-12T08:36:18.605</td><td>5.0</td><td>46</td><td>3.13448198447</td><td>3.52989384082</td><td>0.215719952374</td><td>0.702415498481</td><td>2.95895099334</td><td>3.33221978573</td><td>16.8716455662</td><td>64.85973929</td><td>1.10464220584</td></tr>\n",
       "<tr><td>76</td><td>AssScImHD158485_grat_76.fits</td><td>2016-05-12T08:36:27.606</td><td>5.0</td><td>39</td><td>2.89474035062</td><td>3.56882408754</td><td>0.255349039028</td><td>0.862144263905</td><td>2.73263489098</td><td>3.36896993863</td><td>16.8306195472</td><td>64.8686492143</td><td>1.10456161012</td></tr>\n",
       "<tr><td>77</td><td>AssScImHD158485_grat_77.fits</td><td>2016-05-12T08:36:36.585</td><td>5.0</td><td>52</td><td>2.83162363038</td><td>3.53562888443</td><td>0.259779238037</td><td>0.792942008522</td><td>2.67305270708</td><td>3.3376336669</td><td>16.7896550199</td><td>64.8775163629</td><td>1.10448143953</td></tr>\n",
       "<tr><td>78</td><td>AssScImHD158485_grat_78.fits</td><td>2016-05-12T08:36:45.568</td><td>5.0</td><td>45</td><td>3.07680301799</td><td>3.40410430845</td><td>0.244366807636</td><td>0.801837452348</td><td>2.90450204898</td><td>3.21347446718</td><td>16.7486335336</td><td>64.8863664505</td><td>1.10440146117</td></tr>\n",
       "<tr><td>79</td><td>AssScImHD158485_grat_79.fits</td><td>2016-05-12T08:36:54.585</td><td>5.0</td><td>48</td><td>2.88197491004</td><td>3.68328683517</td><td>0.25066179294</td><td>0.738751024278</td><td>2.72058431508</td><td>3.4770227724</td><td>16.7074178974</td><td>64.8952288753</td><td>1.10432140933</td></tr>\n",
       "<tr><td>80</td><td>AssScImHD158485_grat_80.fits</td><td>2016-05-12T08:37:03.538</td><td>5.0</td><td>44</td><td>2.95005238257</td><td>3.60486562249</td><td>0.239582987508</td><td>0.775136361553</td><td>2.78484944914</td><td>3.40299314763</td><td>16.6664563032</td><td>64.9040073984</td><td>1.10424215283</td></tr>\n",
       "<tr><td>81</td><td>AssScImHD158485_grat_81.fits</td><td>2016-05-12T08:37:12.560</td><td>5.0</td><td>49</td><td>2.95979866498</td><td>3.51762766903</td><td>0.234882310706</td><td>0.843469843327</td><td>2.79404993974</td><td>3.32064051956</td><td>16.6251402726</td><td>64.9128323857</td><td>1.10416251442</td></tr>\n",
       "<tr><td>82</td><td>AssScImHD158485_grat_82.fits</td><td>2016-05-12T08:37:21.595</td><td>1.0</td><td>19</td><td>2.91340521626</td><td>3.6559360581</td><td>0.184919814499</td><td>0.19523238212</td><td>2.75025452415</td><td>3.45120363885</td><td>16.5837257802</td><td>64.9216487461</td><td>1.10408299148</td></tr>\n",
       "<tr><td>83</td><td>AssScImHD158485_grat_83.fits</td><td>2016-05-12T08:37:26.032</td><td>1.0</td><td>23</td><td>2.70437977859</td><td>3.48589893134</td><td>0.204588514873</td><td>0.199452908293</td><td>2.55293451098</td><td>3.29068859118</td><td>16.563373282</td><td>64.9259705469</td><td>1.10404402288</td></tr>\n",
       "<tr><td>84</td><td>AssScImHD158485_grat_84.fits</td><td>2016-05-12T08:37:31.793</td><td>1.0</td><td>15</td><td>2.75626233723</td><td>3.45442388488</td><td>0.198791313267</td><td>0.212084332837</td><td>2.60191164634</td><td>3.26097614733</td><td>16.5369336132</td><td>64.9315742727</td><td>1.10399350893</td></tr>\n",
       "<tr><td>85</td><td>AssScImHD158485_grat_85.fits</td><td>2016-05-12T08:37:36.736</td><td>1.0</td><td>14</td><td>2.94286457478</td><td>3.62132188239</td><td>0.195761606632</td><td>0.202507730997</td><td>2.77806415859</td><td>3.41852785698</td><td>16.5142355048</td><td>64.9363753912</td><td>1.10395024204</td></tr>\n",
       "<tr><td>86</td><td>AssScImHD158485_grat_86.fits</td><td>2016-05-12T08:37:41.718</td><td>1.0</td><td>17</td><td>2.87653957961</td><td>3.6318785109</td><td>0.21721834336</td><td>0.214051736685</td><td>2.71545336315</td><td>3.42849331429</td><td>16.4913465549</td><td>64.9412079015</td><td>1.1039067035</td></tr>\n",
       "<tr><td>87</td><td>AssScImHD158485_grat_87.fits</td><td>2016-05-12T08:37:46.713</td><td>1.0</td><td>16</td><td>2.97424170975</td><td>3.62025153507</td><td>0.190834963741</td><td>0.225321955318</td><td>2.80768417401</td><td>3.41751744911</td><td>16.4683860411</td><td>64.946046478</td><td>1.10386312161</td></tr>\n",
       "<tr><td>88</td><td>AssScImHD158485_grat_88.fits</td><td>2016-05-12T08:37:52.159</td><td>1.0</td><td>23</td><td>2.79474334389</td><td>3.43250157474</td><td>0.205952096022</td><td>0.235675747836</td><td>2.63823771663</td><td>3.24028148655</td><td>16.44333892</td><td>64.9513144595</td><td>1.10381568487</td></tr>\n",
       "<tr><td>89</td><td>AssScImHD158485_grat_89.fits</td><td>2016-05-12T08:37:56.959</td><td>1.0</td><td>24</td><td>3.03786972821</td><td>3.54487457136</td><td>0.195074012319</td><td>0.35768417791</td><td>2.86774902343</td><td>3.34636159536</td><td>16.4212512041</td><td>64.9559510911</td><td>1.10377394435</td></tr>\n",
       "<tr><td>90</td><td>AssScImHD158485_grat_90.fits</td><td>2016-05-12T08:38:02.100</td><td>1.0</td><td>15</td><td>2.83467747129</td><td>3.76487013141</td><td>0.188868988244</td><td>0.172344672514</td><td>2.6759355329</td><td>3.55403740405</td><td>16.3975822296</td><td>64.9609103928</td><td>1.10372931054</td></tr>\n",
       "<tr><td>91</td><td>AssScImHD158485_grat_91.fits</td><td>2016-05-12T08:38:07.714</td><td>1.0</td><td>12</td><td>3.15213379123</td><td>3.61083834774</td><td>0.168045135565</td><td>0.180230173214</td><td>2.97561429892</td><td>3.40863140027</td><td>16.371721285</td><td>64.9663180283</td><td>1.10368065526</td></tr>\n",
       "<tr><td>92</td><td>AssScImHD158485_grat_92.fits</td><td>2016-05-12T08:38:22.133</td><td>0.40000000596</td><td>6</td><td>3.16859975518</td><td>3.50709637803</td><td>0.159947368985</td><td>0.0772788214905</td><td>2.99115816889</td><td>3.31069898086</td><td>16.305231724</td><td>64.9801689328</td><td>1.10355609593</td></tr>\n",
       "<tr><td>93</td><td>AssScImHD158485_grat_93.fits</td><td>2016-05-12T08:38:25.800</td><td>0.40000000596</td><td>5</td><td>3.02875333274</td><td>3.66832664569</td><td>0.130418216069</td><td>0.0885665888383</td><td>2.85914314611</td><td>3.46290035353</td><td>16.2883066221</td><td>64.983682707</td><td>1.10352451175</td></tr>\n",
       "<tr><td>94</td><td>AssScImHD158485_grat_94.fits</td><td>2016-05-12T08:38:30.231</td><td>0.40000000596</td><td>5</td><td>2.86973531149</td><td>3.53030387204</td><td>0.108624747752</td><td>0.0581096888442</td><td>2.70903013405</td><td>3.3326068552</td><td>16.2678468017</td><td>64.9879238193</td><td>1.1034863977</td></tr>\n",
       "<tr><td>95</td><td>AssScImHD158485_grat_95.fits</td><td>2016-05-12T08:38:33.828</td><td>0.40000000596</td><td>7</td><td>2.80924432238</td><td>3.42057372544</td><td>0.115598627859</td><td>0.222711040938</td><td>2.65192664033</td><td>3.22902159681</td><td>16.2512311091</td><td>64.9913628571</td><td>1.10345549812</td></tr>\n",
       "<tr><td>96</td><td>AssScImHD158485_grat_96.fits</td><td>2016-05-12T08:38:38.207</td><td>0.40000000596</td><td>6</td><td>2.97402080328</td><td>3.52926170711</td><td>0.174537871613</td><td>0.127961008887</td><td>2.8074756383</td><td>3.33162305151</td><td>16.2309948816</td><td>64.9955449367</td><td>1.10341793002</td></tr>\n",
       "<tr><td>97</td><td>AssScImHD158485_grat_97.fits</td><td>2016-05-12T08:38:42.566</td><td>0.40000000596</td><td>6</td><td>3.10209356657</td><td>3.52087719598</td><td>0.157880694399</td><td>0.108577058827</td><td>2.92837632684</td><td>3.323708073</td><td>16.2108421122</td><td>64.9997028785</td><td>1.10338058712</td></tr>\n",
       "<tr><td>98</td><td>AssScImHD158485_grat_98.fits</td><td>2016-05-12T08:38:46.958</td><td>0.40000000596</td><td>5</td><td>2.96758608018</td><td>3.54855067297</td><td>0.155758620817</td><td>0.0902872648564</td><td>2.80140125969</td><td>3.34983183529</td><td>16.1905277347</td><td>65.0038872124</td><td>1.10334301561</td></tr>\n",
       "<tr><td>99</td><td>AssScImHD158485_grat_99.fits</td><td>2016-05-12T08:38:51.279</td><td>0.40000000596</td><td>9</td><td>2.86477721164</td><td>3.32928575827</td><td>0.166322328307</td><td>0.071233122393</td><td>2.70434968779</td><td>3.1428457558</td><td>16.170532905</td><td>65.0079989189</td><td>1.10330610445</td></tr>\n",
       "<tr><td>100</td><td>AssScImHD158485_grat_100.fits</td><td>2016-05-12T08:38:55.664</td><td>0.40000000596</td><td>9</td><td>3.03891198888</td><td>3.28138550238</td><td>0.437079620791</td><td>0.0907935321992</td><td>2.8687329175</td><td>3.09762791425</td><td>16.1502329574</td><td>65.0121664685</td><td>1.1032687003</td></tr>\n",
       "<tr><td>101</td><td>AssScImHD158485_grat_101.fits</td><td>2016-05-12T08:39:09.568</td><td>0.40000000596</td><td>7</td><td>3.0103693753</td><td>3.28591169397</td><td>0.998030475964</td><td>0.108762084389</td><td>2.84178869028</td><td>3.10190063911</td><td>16.0858060358</td><td>65.025347258</td><td>1.10315045658</td></tr>\n",
       "<tr><td>103</td><td>AssScImHD158485_grat_103.fits</td><td>2016-05-12T10:29:12.303</td><td>5.0</td><td>47</td><td>3.32038393231</td><td>3.09662370496</td><td>0.236071675366</td><td>1.04559112388</td><td>3.1344424321</td><td>2.92321277749</td><td>342.166755935</td><td>64.6422146089</td><td>1.10662181672</td></tr>\n",
       "<tr><td>104</td><td>AssScImHD158485_grat_104.fits</td><td>2016-05-12T10:29:21.641</td><td>5.0</td><td>44</td><td>3.11492113162</td><td>2.97818295051</td><td>0.210843443892</td><td>0.826591251253</td><td>2.94048554825</td><td>2.81140470528</td><td>342.125209279</td><td>64.6324382166</td><td>1.10671132946</td></tr>\n",
       "<tr><td>105</td><td>AssScImHD158485_grat_105.fits</td><td>2016-05-12T10:29:30.676</td><td>5.0</td><td>47</td><td>3.08815738194</td><td>3.29117824128</td><td>0.250619993966</td><td>0.864441455644</td><td>2.91522056855</td><td>3.10687225977</td><td>342.085051855</td><td>64.6229581135</td><td>1.10679817397</td></tr>\n",
       "<tr><td>106</td><td>AssScImHD158485_grat_106.fits</td><td>2016-05-12T10:29:39.729</td><td>5.0</td><td>50</td><td>3.11733721215</td><td>3.02954208556</td><td>0.246160221458</td><td>1.06635290639</td><td>2.94276632827</td><td>2.85988772877</td><td>342.044855038</td><td>64.6134384972</td><td>1.10688542467</td></tr>\n",
       "<tr><td>107</td><td>AssScImHD158485_grat_107.fits</td><td>2016-05-12T10:29:48.819</td><td>5.0</td><td>48</td><td>3.08029633915</td><td>3.074351356</td><td>0.24153928891</td><td>0.854841558395</td><td>2.90779974416</td><td>2.90218768007</td><td>342.004534879</td><td>64.6038592259</td><td>1.10697326687</td></tr>\n",
       "<tr><td>108</td><td>AssScImHD158485_grat_108.fits</td><td>2016-05-12T10:29:57.821</td><td>5.0</td><td>47</td><td>3.12390314318</td><td>3.38156262392</td><td>0.356745593817</td><td>0.890953896476</td><td>2.94896456716</td><td>3.19219511698</td><td>341.964645534</td><td>64.5943522273</td><td>1.1070604907</td></tr>\n",
       "<tr><td>109</td><td>AssScImHD158485_grat_109.fits</td><td>2016-05-12T10:30:06.868</td><td>5.0</td><td>48</td><td>3.19058323033</td><td>3.22420936219</td><td>0.263373360377</td><td>0.93972302274</td><td>3.01191056943</td><td>3.04365363791</td><td>341.924597411</td><td>64.5847772124</td><td>1.10714838327</td></tr>\n",
       "<tr><td>110</td><td>AssScImHD158485_grat_110.fits</td><td>2016-05-12T10:30:15.970</td><td>5.0</td><td>47</td><td>3.22451637418</td><td>3.12486623724</td><td>0.227634535634</td><td>0.988243939062</td><td>3.04394345722</td><td>2.94987372795</td><td>341.884346961</td><td>64.5751232827</td><td>1.10723704567</td></tr>\n",
       "<tr><td>111</td><td>AssScImHD158485_grat_111.fits</td><td>2016-05-12T10:30:24.969</td><td>5.0</td><td>53</td><td>3.26138545716</td><td>3.26057175845</td><td>0.228077117386</td><td>0.851267523263</td><td>3.07874787156</td><td>3.07797973998</td><td>341.844592601</td><td>64.5655582078</td><td>1.10732493703</td></tr>\n",
       "<tr><td>112</td><td>AssScImHD158485_grat_112.fits</td><td>2016-05-12T10:30:33.946</td><td>5.0</td><td>40</td><td>3.22637684058</td><td>3.19452760413</td><td>0.270844863833</td><td>0.9243604297</td><td>3.0456997375</td><td>3.0156340583</td><td>341.8049757</td><td>64.5559963414</td><td>1.10741284371</td></tr>\n",
       "<tr><td>113</td><td>AssScImHD158485_grat_113.fits</td><td>2016-05-12T10:30:46.902</td><td>1.0</td><td>22</td><td>2.98946775343</td><td>3.04541472165</td><td>0.840046683675</td><td>0.248232367713</td><td>2.82205755924</td><td>2.87487149724</td><td>341.747869846</td><td>64.5421607595</td><td>1.10754011996</td></tr>\n",
       "<tr><td>114</td><td>AssScImHD158485_grat_114.fits</td><td>2016-05-12T10:30:52.724</td><td>1.0</td><td>16</td><td>2.98587192455</td><td>3.20093260027</td><td>0.155869917008</td><td>0.214460955173</td><td>2.81866309677</td><td>3.02168037465</td><td>341.722235696</td><td>64.5359298729</td><td>1.10759746976</td></tr>\n",
       "<tr><td>115</td><td>AssScImHD158485_grat_115.fits</td><td>2016-05-12T10:30:57.751</td><td>1.0</td><td>14</td><td>3.11453862372</td><td>3.2441485165</td><td>0.192290118717</td><td>0.243775525303</td><td>2.94012446079</td><td>3.06247619957</td><td>341.700115567</td><td>64.5305430275</td><td>1.10764706626</td></tr>\n",
       "<tr><td>116</td><td>AssScImHD158485_grat_116.fits</td><td>2016-05-12T10:31:02.740</td><td>1.0</td><td>10</td><td>3.35454407078</td><td>3.55417613976</td><td>0.349905064216</td><td>0.125018615307</td><td>3.16668960281</td><td>3.35514227593</td><td>341.678175163</td><td>64.5251906831</td><td>1.10769635921</td></tr>\n",
       "<tr><td>117</td><td>AssScImHD158485_grat_117.fits</td><td>2016-05-12T10:31:07.677</td><td>1.0</td><td>12</td><td>3.5883953221</td><td>3.50816780637</td><td>0.217937779043</td><td>0.149690637539</td><td>3.38744518407</td><td>3.31171040921</td><td>341.656475722</td><td>64.519888031</td><td>1.10774520837</td></tr>\n",
       "<tr><td>118</td><td>AssScImHD158485_grat_118.fits</td><td>2016-05-12T10:31:13.167</td><td>1.0</td><td>12</td><td>3.20713347522</td><td>3.24404121064</td><td>0.153430950132</td><td>0.131595962971</td><td>3.0275340006</td><td>3.06237490284</td><td>341.63236005</td><td>64.5139843073</td><td>1.10779961096</td></tr>\n",
       "<tr><td>119</td><td>AssScImHD158485_grat_119.fits</td><td>2016-05-12T10:31:17.914</td><td>1.0</td><td>14</td><td>3.26112604055</td><td>3.31508872046</td><td>0.49008828835</td><td>0.281842454572</td><td>3.07850298228</td><td>3.12944375212</td><td>341.611520311</td><td>64.5088735404</td><td>1.1078467203</td></tr>\n",
       "<tr><td>120</td><td>AssScImHD158485_grat_120.fits</td><td>2016-05-12T10:31:22.857</td><td>1.0</td><td>15</td><td>3.15510857544</td><td>3.09972346813</td><td>0.200187297249</td><td>0.166659594945</td><td>2.97842249521</td><td>2.92613895392</td><td>341.589832137</td><td>64.5035458094</td><td>1.10789584319</td></tr>\n",
       "<tr><td>121</td><td>AssScImHD158485_grat_121.fits</td><td>2016-05-12T10:31:28.305</td><td>1.0</td><td>23</td><td>3.26677920225</td><td>3.2659023118</td><td>0.186162865238</td><td>0.302299164637</td><td>3.08383956692</td><td>3.08301178234</td><td>341.565942415</td><td>64.4976667518</td><td>1.10795006561</td></tr>\n",
       "<tr><td>122</td><td>AssScImHD158485_grat_122.fits</td><td>2016-05-12T10:31:33.340</td><td>1.0</td><td>17</td><td>3.36410813674</td><td>3.28470084375</td><td>0.184424235861</td><td>0.502887723341</td><td>3.17571808108</td><td>3.1007575965</td><td>341.543876978</td><td>64.4922268304</td><td>1.10800025301</td></tr>\n",
       "<tr><td>123</td><td>AssScImHD158485_grat_123.fits</td><td>2016-05-12T10:31:47.134</td><td>0.40000000596</td><td>19</td><td>4.82530237873</td><td>3.6862353582</td><td>1.0340710184</td><td>0.509397907948</td><td>4.55508544552</td><td>3.47980617814</td><td>341.483491323</td><td>64.4772913469</td><td>1.10813811892</td></tr>\n",
       "<tr><td>124</td><td>AssScImHD158485_grat_124.fits</td><td>2016-05-12T10:31:55.179</td><td>0.40000000596</td><td>12</td><td>3.65227003152</td><td>3.20734491214</td><td>1.30712527462</td><td>0.36566187871</td><td>3.44774290976</td><td>3.02773359706</td><td>341.448317148</td><td>64.4685588839</td><td>1.10821877699</td></tr>\n",
       "<tr><td>125</td><td>AssScImHD158485_grat_125.fits</td><td>2016-05-12T10:31:59.508</td><td>0.40000000596</td><td>4</td><td>3.40762707249</td><td>3.31565180602</td><td>0.255821128127</td><td>0.119311310549</td><td>3.21679995643</td><td>3.12997530488</td><td>341.429403484</td><td>64.4638533467</td><td>1.1082622556</td></tr>\n",
       "<tr><td>126</td><td>AssScImHD158485_grat_126.fits</td><td>2016-05-12T10:32:03.928</td><td>0.40000000596</td><td>4</td><td>3.40056127121</td><td>3.3420786244</td><td>0.106278384541</td><td>0.109860817132</td><td>3.21012984002</td><td>3.15492222144</td><td>341.410101983</td><td>64.4590441229</td><td>1.10830670351</td></tr>\n",
       "<tr><td>127</td><td>AssScImHD158485_grat_127.fits</td><td>2016-05-12T10:32:08.348</td><td>0.40000000596</td><td>6</td><td>3.3294981246</td><td>3.28646403737</td><td>0.176290840671</td><td>0.300677811806</td><td>3.14304622962</td><td>3.10242205128</td><td>341.390810336</td><td>64.4542300812</td><td>1.10835120733</td></tr>\n",
       "<tr><td>128</td><td>AssScImHD158485_grat_128.fits</td><td>2016-05-12T10:32:12.715</td><td>0.40000000596</td><td>8</td><td>3.32711938097</td><td>3.21486746915</td><td>0.201197152515</td><td>0.0995364884624</td><td>3.14080069564</td><td>3.03483489088</td><td>341.371759695</td><td>64.4494690356</td><td>1.10839523244</td></tr>\n",
       "<tr><td>129</td><td>AssScImHD158485_grat_129.fits</td><td>2016-05-12T10:32:17.052</td><td>0.40000000596</td><td>10</td><td>3.07623606942</td><td>3.2127914083</td><td>0.300668778413</td><td>0.240308988737</td><td>2.90396684953</td><td>3.03287508944</td><td>341.352849456</td><td>64.444736048</td><td>1.10843900916</td></tr>\n",
       "<tr><td>130</td><td>AssScImHD158485_grat_130.fits</td><td>2016-05-12T10:32:21.432</td><td>0.40000000596</td><td>8</td><td>3.29906320392</td><td>3.18101574834</td><td>0.202012594354</td><td>0.0709859064494</td><td>3.1143156645</td><td>3.00287886643</td><td>341.333761369</td><td>64.439951435</td><td>1.10848327457</td></tr>\n",
       "<tr><td>131</td><td>AssScImHD158485_grat_131.fits</td><td>2016-05-12T10:32:25.842</td><td>0.40000000596</td><td>5</td><td>2.98213493791</td><td>3.21416838981</td><td>0.222219992226</td><td>0.117513880735</td><td>2.81513538138</td><td>3.03417495998</td><td>341.314552334</td><td>64.4351292827</td><td>1.10852789869</td></tr>\n",
       "<tr><td>132</td><td>AssScImHD158485_grat_132.fits</td><td>2016-05-12T10:32:30.250</td><td>0.40000000596</td><td>6</td><td>3.4817140051</td><td>3.17393216314</td><td>0.204489695458</td><td>0.0872011855791</td><td>3.28673802081</td><td>2.99619196201</td><td>341.295361836</td><td>64.4303045391</td><td>1.10857255823</td></tr>\n",
       "</table><style>table.dataTable {clear: both; width: auto !important; margin: 0 !important;}\n",
       ".dataTables_info, .dataTables_length, .dataTables_filter, .dataTables_paginate{\n",
       "display: inline-block; margin-right: 1em; }\n",
       ".paginate_button { margin-right: 5px; }\n",
       "</style>\n",
       "<script>\n",
       "require.config({paths: {\n",
       "    datatables: 'https://cdn.datatables.net/1.10.9/js/jquery.dataTables.min'\n",
       "}});\n",
       "require([\"datatables\"], function(){\n",
       "    console.log(\"$('#table4589778064-755341').dataTable()\");\n",
       "    $('#table4589778064-755341').dataTable({\n",
       "        \"order\": [],\n",
       "        \"iDisplayLength\": 50,\n",
       "        \"aLengthMenu\": [[10, 25, 50, 100, 500, 1000, -1], [10, 25, 50, 100, 500, 1000, 'All']],\n",
       "        \"pagingType\": \"full_numbers\"\n",
       "    });\n",
       "});\n",
       "</script>\n"
      ],
      "text/plain": [
       "<IPython.core.display.HTML object>"
      ]
     },
     "execution_count": 109,
     "metadata": {},
     "output_type": "execute_result"
    }
   ],
   "source": [
    "t.show_in_notebook()"
   ]
  },
  {
   "cell_type": "code",
   "execution_count": 110,
   "metadata": {
    "collapsed": false
   },
   "outputs": [],
   "source": [
    "all_airmass=t['airmass']\n",
    "all_num=t['num']\n",
    "all_times=Time(t['time'])"
   ]
  },
  {
   "cell_type": "code",
   "execution_count": 111,
   "metadata": {
    "collapsed": false
   },
   "outputs": [],
   "source": [
    "selected_time=all_times[np.where(np.logical_and(all_num>=fileindex_start, all_num<=fileindex_stop))]\n",
    "selected_num=all_num[np.where(np.logical_and(all_num>=fileindex_start, all_num<=fileindex_stop))]\n",
    "selected_airmass=all_airmass[np.where(np.logical_and(all_num>=fileindex_start, all_num<=fileindex_stop))]"
   ]
  },
  {
   "cell_type": "code",
   "execution_count": 112,
   "metadata": {
    "collapsed": false
   },
   "outputs": [
    {
     "data": {
      "text/plain": [
       "<Time object: scale='utc' format='isot' value=['2016-05-12T04:10:56.526' '2016-05-12T04:11:05.546'\n",
       " '2016-05-12T04:11:14.644' '2016-05-12T04:11:23.668'\n",
       " '2016-05-12T04:11:32.661' '2016-05-12T04:11:41.765'\n",
       " '2016-05-12T04:11:50.838' '2016-05-12T04:11:59.898'\n",
       " '2016-05-12T04:12:08.975' '2016-05-12T04:12:18.028']>"
      ]
     },
     "execution_count": 112,
     "metadata": {},
     "output_type": "execute_result"
    }
   ],
   "source": [
    "selected_time"
   ]
  },
  {
   "cell_type": "code",
   "execution_count": 113,
   "metadata": {
    "collapsed": false
   },
   "outputs": [
    {
     "data": {
      "text/html": [
       "&lt;MaskedColumn name=&apos;airmass&apos; dtype=&apos;float64&apos; length=10&gt;\n",
       "<table>\n",
       "<tr><td>1.7723649468</td></tr>\n",
       "<tr><td>1.77149930943</td></tr>\n",
       "<tr><td>1.77062714222</td></tr>\n",
       "<tr><td>1.76976301592</td></tr>\n",
       "<tr><td>1.76890279527</td></tr>\n",
       "<tr><td>1.76803290871</td></tr>\n",
       "<tr><td>1.76716693574</td></tr>\n",
       "<tr><td>1.76630315025</td></tr>\n",
       "<tr><td>1.76543869151</td></tr>\n",
       "<tr><td>1.76457746194</td></tr>\n",
       "</table>"
      ],
      "text/plain": [
       "<MaskedColumn name='airmass' dtype='float64' length=10>\n",
       " 1.7723649468\n",
       "1.77149930943\n",
       "1.77062714222\n",
       "1.76976301592\n",
       "1.76890279527\n",
       "1.76803290871\n",
       "1.76716693574\n",
       "1.76630315025\n",
       "1.76543869151\n",
       "1.76457746194"
      ]
     },
     "execution_count": 113,
     "metadata": {},
     "output_type": "execute_result"
    }
   ],
   "source": [
    "selected_airmass"
   ]
  },
  {
   "cell_type": "code",
   "execution_count": 114,
   "metadata": {
    "collapsed": false
   },
   "outputs": [],
   "source": [
    "timediff=selected_time-selected_time[0]"
   ]
  },
  {
   "cell_type": "code",
   "execution_count": 115,
   "metadata": {
    "collapsed": false
   },
   "outputs": [
    {
     "data": {
      "text/plain": [
       "array([  0.   ,   9.02 ,  18.118,  27.142,  36.135,  45.239,  54.312,\n",
       "        63.372,  72.449,  81.502])"
      ]
     },
     "execution_count": 115,
     "metadata": {},
     "output_type": "execute_result"
    }
   ],
   "source": [
    "timediff.sec\n"
   ]
  },
  {
   "cell_type": "code",
   "execution_count": 116,
   "metadata": {
    "collapsed": false
   },
   "outputs": [
    {
     "data": {
      "image/png": "[encoded data removed]",
      "text/plain": [
       "<matplotlib.figure.Figure at 0x110ec47d0>"
      ]
     },
     "metadata": {},
     "output_type": "display_data"
    }
   ],
   "source": [
    "figname='time_diff'+infofig+'.pdf'\n",
    "plt.figure(figsize=(10.,6.))\n",
    "plt.plot(timediff.sec,'o-',color='b')\n",
    "title='time delay of exposures '+info\n",
    "plt.title(title)\n",
    "plt.xlabel('image number')\n",
    "plt.ylabel('time dealy in sec')\n",
    "plt.savefig(figname)"
   ]
  },
  {
   "cell_type": "code",
   "execution_count": null,
   "metadata": {
    "collapsed": false
   },
   "outputs": [],
   "source": []
  },
  {
   "cell_type": "code",
   "execution_count": null,
   "metadata": {
    "collapsed": false
   },
   "outputs": [],
   "source": []
  },
  {
   "cell_type": "code",
   "execution_count": null,
   "metadata": {
    "collapsed": true
   },
   "outputs": [],
   "source": []
  },
  {
   "cell_type": "code",
   "execution_count": null,
   "metadata": {
    "collapsed": false
   },
   "outputs": [],
   "source": []
  },
  {
   "cell_type": "code",
   "execution_count": null,
   "metadata": {
    "collapsed": false
   },
   "outputs": [],
   "source": []
  },
  {
   "cell_type": "code",
   "execution_count": null,
   "metadata": {
    "collapsed": false
   },
   "outputs": [],
   "source": []
  },
  {
   "cell_type": "code",
   "execution_count": null,
   "metadata": {
    "collapsed": false
   },
   "outputs": [],
   "source": []
  },
  {
   "cell_type": "markdown",
   "metadata": {},
   "source": []
  },
  {
   "cell_type": "code",
   "execution_count": null,
   "metadata": {
    "collapsed": false
   },
   "outputs": [],
   "source": []
  },
  {
   "cell_type": "code",
   "execution_count": null,
   "metadata": {
    "collapsed": false
   },
   "outputs": [],
   "source": []
  },
  {
   "cell_type": "code",
   "execution_count": null,
   "metadata": {
    "collapsed": false
   },
   "outputs": [],
   "source": []
  },
  {
   "cell_type": "code",
   "execution_count": null,
   "metadata": {
    "collapsed": true
   },
   "outputs": [],
   "source": []
  },
  {
   "cell_type": "code",
   "execution_count": null,
   "metadata": {
    "collapsed": false
   },
   "outputs": [],
   "source": []
  },
  {
   "cell_type": "code",
   "execution_count": null,
   "metadata": {
    "collapsed": true
   },
   "outputs": [],
   "source": []
  },
  {
   "cell_type": "markdown",
   "metadata": {},
   "source": [
    "### Smooth the predicted response to simulate finite wavelength resolution\n",
    "\n",
    "- use the smoothing function given above and copied form internet"
   ]
  },
  {
   "cell_type": "code",
   "execution_count": null,
   "metadata": {
    "collapsed": false
   },
   "outputs": [],
   "source": []
  },
  {
   "cell_type": "code",
   "execution_count": null,
   "metadata": {
    "collapsed": false
   },
   "outputs": [],
   "source": []
  },
  {
   "cell_type": "code",
   "execution_count": null,
   "metadata": {
    "collapsed": false
   },
   "outputs": [],
   "source": []
  },
  {
   "cell_type": "code",
   "execution_count": null,
   "metadata": {
    "collapsed": false
   },
   "outputs": [],
   "source": []
  },
  {
   "cell_type": "code",
   "execution_count": null,
   "metadata": {
    "collapsed": false
   },
   "outputs": [],
   "source": []
  },
  {
   "cell_type": "code",
   "execution_count": null,
   "metadata": {
    "collapsed": false
   },
   "outputs": [],
   "source": []
  },
  {
   "cell_type": "code",
   "execution_count": null,
   "metadata": {
    "collapsed": false
   },
   "outputs": [],
   "source": []
  },
  {
   "cell_type": "code",
   "execution_count": null,
   "metadata": {
    "collapsed": false
   },
   "outputs": [],
   "source": []
  },
  {
   "cell_type": "markdown",
   "metadata": {},
   "source": [
    "## C) combine the experimental spectra \n",
    "\n",
    "- cut the prediction to get arrays of same size (same number of wavelength bins)"
   ]
  },
  {
   "cell_type": "code",
   "execution_count": null,
   "metadata": {
    "collapsed": false
   },
   "outputs": [],
   "source": []
  },
  {
   "cell_type": "markdown",
   "metadata": {},
   "source": []
  },
  {
   "cell_type": "code",
   "execution_count": null,
   "metadata": {
    "collapsed": false
   },
   "outputs": [],
   "source": []
  },
  {
   "cell_type": "code",
   "execution_count": null,
   "metadata": {
    "collapsed": false
   },
   "outputs": [],
   "source": []
  },
  {
   "cell_type": "markdown",
   "metadata": {
    "collapsed": false
   },
   "source": [
    "#### First,  store each predicted spectra in a 2D array"
   ]
  },
  {
   "cell_type": "code",
   "execution_count": null,
   "metadata": {
    "collapsed": false
   },
   "outputs": [],
   "source": []
  },
  {
   "cell_type": "code",
   "execution_count": null,
   "metadata": {
    "collapsed": false
   },
   "outputs": [],
   "source": []
  },
  {
   "cell_type": "markdown",
   "metadata": {
    "collapsed": false
   },
   "source": [
    "#### Second, Combine the preduction by calculating the average"
   ]
  },
  {
   "cell_type": "code",
   "execution_count": null,
   "metadata": {
    "collapsed": true
   },
   "outputs": [],
   "source": []
  },
  {
   "cell_type": "markdown",
   "metadata": {},
   "source": [
    "### Comparison of predicted spectrum and experimental spectrum"
   ]
  },
  {
   "cell_type": "code",
   "execution_count": null,
   "metadata": {
    "collapsed": false
   },
   "outputs": [],
   "source": []
  },
  {
   "cell_type": "code",
   "execution_count": null,
   "metadata": {
    "collapsed": false
   },
   "outputs": [],
   "source": []
  },
  {
   "cell_type": "code",
   "execution_count": null,
   "metadata": {
    "collapsed": false
   },
   "outputs": [],
   "source": []
  },
  {
   "cell_type": "markdown",
   "metadata": {},
   "source": [
    "#### need to force the data and the prediction to be of the same size\n",
    "\n",
    "- ressample the experimental data with the binning of the predicted spectrum by using\n",
    "the interpolep function of numpy"
   ]
  },
  {
   "cell_type": "code",
   "execution_count": null,
   "metadata": {
    "collapsed": true
   },
   "outputs": [],
   "source": []
  },
  {
   "cell_type": "markdown",
   "metadata": {},
   "source": [
    "#### check the result of the interpolation"
   ]
  },
  {
   "cell_type": "code",
   "execution_count": null,
   "metadata": {
    "collapsed": false
   },
   "outputs": [],
   "source": []
  },
  {
   "cell_type": "code",
   "execution_count": null,
   "metadata": {
    "collapsed": false
   },
   "outputs": [],
   "source": []
  },
  {
   "cell_type": "markdown",
   "metadata": {},
   "source": [
    "#### Cut to remove zeros in the division\n",
    "\n",
    "\n",
    "- select wavelengthes larger than 400 nm"
   ]
  },
  {
   "cell_type": "code",
   "execution_count": null,
   "metadata": {
    "collapsed": false
   },
   "outputs": [],
   "source": []
  },
  {
   "cell_type": "code",
   "execution_count": null,
   "metadata": {
    "collapsed": false
   },
   "outputs": [],
   "source": []
  },
  {
   "cell_type": "markdown",
   "metadata": {},
   "source": [
    "#### Save in a fits file"
   ]
  },
  {
   "cell_type": "code",
   "execution_count": null,
   "metadata": {
    "collapsed": false
   },
   "outputs": [],
   "source": []
  },
  {
   "cell_type": "markdown",
   "metadata": {},
   "source": [
    "### Ratio RMS To Average"
   ]
  },
  {
   "cell_type": "code",
   "execution_count": null,
   "metadata": {
    "collapsed": false
   },
   "outputs": [],
   "source": []
  },
  {
   "cell_type": "markdown",
   "metadata": {},
   "source": [
    "#### Save in fits file"
   ]
  },
  {
   "cell_type": "code",
   "execution_count": null,
   "metadata": {
    "collapsed": false
   },
   "outputs": [],
   "source": []
  },
  {
   "cell_type": "markdown",
   "metadata": {
    "collapsed": false
   },
   "source": [
    "## Aerosols\n",
    "\n",
    "    spectra_list = []      # list of experimental spectra\n",
    "    wavelength_list = []   # wavelength table of experimental spectra\n",
    "    obspred_list = []      # list of predicted spectra\n",
    "    wavelengthobspred_list = []  # list of wavelength for predicted spectra\n",
    "    atm_list= []"
   ]
  },
  {
   "cell_type": "code",
   "execution_count": null,
   "metadata": {
    "collapsed": false
   },
   "outputs": [],
   "source": []
  },
  {
   "cell_type": "code",
   "execution_count": null,
   "metadata": {
    "collapsed": true
   },
   "outputs": [],
   "source": []
  }
 ],
 "metadata": {
  "kernelspec": {
   "display_name": "Python 2",
   "language": "python",
   "name": "python2"
  },
  "language_info": {
   "codemirror_mode": {
    "name": "ipython",
    "version": 2
   },
   "file_extension": ".py",
   "mimetype": "text/x-python",
   "name": "python",
   "nbconvert_exporter": "python",
   "pygments_lexer": "ipython2",
   "version": "2.7.12"
  }
 },
 "nbformat": 4,
 "nbformat_minor": 0
}
